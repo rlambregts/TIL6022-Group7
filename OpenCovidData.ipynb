{
 "cells": [
  {
   "cell_type": "markdown",
   "id": "1ea37336-6985-4e34-9109-2b402b76e320",
   "metadata": {},
   "source": [
    "# Open Covid Data"
   ]
  },
  {
   "cell_type": "code",
   "execution_count": 112,
   "id": "a660aa87-635a-462c-b5d3-629e982df72b",
   "metadata": {},
   "outputs": [],
   "source": [
    "import pandas as pd\n",
    "import plotly.express as px\n",
    "import calendar\n",
    "from datetime import datetime"
   ]
  },
  {
   "cell_type": "code",
   "execution_count": 113,
   "id": "06c98111-7371-469d-9360-ce73a8415dd7",
   "metadata": {},
   "outputs": [
    {
     "data": {
      "text/html": [
       "<div>\n",
       "<style scoped>\n",
       "    .dataframe tbody tr th:only-of-type {\n",
       "        vertical-align: middle;\n",
       "    }\n",
       "\n",
       "    .dataframe tbody tr th {\n",
       "        vertical-align: top;\n",
       "    }\n",
       "\n",
       "    .dataframe thead th {\n",
       "        text-align: right;\n",
       "    }\n",
       "</style>\n",
       "<table border=\"1\" class=\"dataframe\">\n",
       "  <thead>\n",
       "    <tr style=\"text-align: right;\">\n",
       "      <th></th>\n",
       "      <th>Version</th>\n",
       "      <th>Date_of_report</th>\n",
       "      <th>Date_of_publication</th>\n",
       "      <th>Municipality_code</th>\n",
       "      <th>Municipality_name</th>\n",
       "      <th>Province</th>\n",
       "      <th>Total_reported</th>\n",
       "      <th>Hospital_admission</th>\n",
       "      <th>Deceased</th>\n",
       "    </tr>\n",
       "  </thead>\n",
       "  <tbody>\n",
       "    <tr>\n",
       "      <th>0</th>\n",
       "      <td>8</td>\n",
       "      <td>2020-03-13 10:00:00</td>\n",
       "      <td>2020-03-13 10:00:00</td>\n",
       "      <td>GM0003</td>\n",
       "      <td>Appingedam</td>\n",
       "      <td>Groningen</td>\n",
       "      <td>0</td>\n",
       "      <td>0</td>\n",
       "      <td>0</td>\n",
       "    </tr>\n",
       "    <tr>\n",
       "      <th>1</th>\n",
       "      <td>8</td>\n",
       "      <td>2020-03-13 10:00:00</td>\n",
       "      <td>2020-03-13 10:00:00</td>\n",
       "      <td>GM0010</td>\n",
       "      <td>Delfzijl</td>\n",
       "      <td>Groningen</td>\n",
       "      <td>0</td>\n",
       "      <td>0</td>\n",
       "      <td>0</td>\n",
       "    </tr>\n",
       "    <tr>\n",
       "      <th>2</th>\n",
       "      <td>8</td>\n",
       "      <td>2020-03-13 10:00:00</td>\n",
       "      <td>2020-03-13 10:00:00</td>\n",
       "      <td>GM0014</td>\n",
       "      <td>Groningen</td>\n",
       "      <td>Groningen</td>\n",
       "      <td>3</td>\n",
       "      <td>0</td>\n",
       "      <td>0</td>\n",
       "    </tr>\n",
       "    <tr>\n",
       "      <th>3</th>\n",
       "      <td>8</td>\n",
       "      <td>2020-03-13 10:00:00</td>\n",
       "      <td>2020-03-13 10:00:00</td>\n",
       "      <td>GM0024</td>\n",
       "      <td>Loppersum</td>\n",
       "      <td>Groningen</td>\n",
       "      <td>0</td>\n",
       "      <td>0</td>\n",
       "      <td>0</td>\n",
       "    </tr>\n",
       "    <tr>\n",
       "      <th>4</th>\n",
       "      <td>8</td>\n",
       "      <td>2020-03-13 10:00:00</td>\n",
       "      <td>2020-03-13 10:00:00</td>\n",
       "      <td>GM0034</td>\n",
       "      <td>Almere</td>\n",
       "      <td>Flevoland</td>\n",
       "      <td>1</td>\n",
       "      <td>1</td>\n",
       "      <td>0</td>\n",
       "    </tr>\n",
       "    <tr>\n",
       "      <th>...</th>\n",
       "      <td>...</td>\n",
       "      <td>...</td>\n",
       "      <td>...</td>\n",
       "      <td>...</td>\n",
       "      <td>...</td>\n",
       "      <td>...</td>\n",
       "      <td>...</td>\n",
       "      <td>...</td>\n",
       "      <td>...</td>\n",
       "    </tr>\n",
       "    <tr>\n",
       "      <th>403201</th>\n",
       "      <td>8</td>\n",
       "      <td>2023-03-31 10:00:00</td>\n",
       "      <td>2023-03-31 10:00:00</td>\n",
       "      <td>NaN</td>\n",
       "      <td>NaN</td>\n",
       "      <td>Overijssel</td>\n",
       "      <td>4871</td>\n",
       "      <td>9999</td>\n",
       "      <td>9999</td>\n",
       "    </tr>\n",
       "    <tr>\n",
       "      <th>403202</th>\n",
       "      <td>8</td>\n",
       "      <td>2023-03-31 10:00:00</td>\n",
       "      <td>2023-03-31 10:00:00</td>\n",
       "      <td>NaN</td>\n",
       "      <td>NaN</td>\n",
       "      <td>Utrecht</td>\n",
       "      <td>4751</td>\n",
       "      <td>9999</td>\n",
       "      <td>9999</td>\n",
       "    </tr>\n",
       "    <tr>\n",
       "      <th>403203</th>\n",
       "      <td>8</td>\n",
       "      <td>2023-03-31 10:00:00</td>\n",
       "      <td>2023-03-31 10:00:00</td>\n",
       "      <td>NaN</td>\n",
       "      <td>NaN</td>\n",
       "      <td>Zeeland</td>\n",
       "      <td>1607</td>\n",
       "      <td>9999</td>\n",
       "      <td>9999</td>\n",
       "    </tr>\n",
       "    <tr>\n",
       "      <th>403204</th>\n",
       "      <td>8</td>\n",
       "      <td>2023-03-31 10:00:00</td>\n",
       "      <td>2023-03-31 10:00:00</td>\n",
       "      <td>NaN</td>\n",
       "      <td>NaN</td>\n",
       "      <td>Zuid-Holland</td>\n",
       "      <td>17335</td>\n",
       "      <td>9999</td>\n",
       "      <td>9999</td>\n",
       "    </tr>\n",
       "    <tr>\n",
       "      <th>403205</th>\n",
       "      <td>8</td>\n",
       "      <td>2023-03-31 10:00:00</td>\n",
       "      <td>2023-03-31 10:00:00</td>\n",
       "      <td>NaN</td>\n",
       "      <td>NaN</td>\n",
       "      <td>NaN</td>\n",
       "      <td>139</td>\n",
       "      <td>9999</td>\n",
       "      <td>9999</td>\n",
       "    </tr>\n",
       "  </tbody>\n",
       "</table>\n",
       "<p>403206 rows × 9 columns</p>\n",
       "</div>"
      ],
      "text/plain": [
       "        Version       Date_of_report  Date_of_publication Municipality_code  \\\n",
       "0             8  2020-03-13 10:00:00  2020-03-13 10:00:00            GM0003   \n",
       "1             8  2020-03-13 10:00:00  2020-03-13 10:00:00            GM0010   \n",
       "2             8  2020-03-13 10:00:00  2020-03-13 10:00:00            GM0014   \n",
       "3             8  2020-03-13 10:00:00  2020-03-13 10:00:00            GM0024   \n",
       "4             8  2020-03-13 10:00:00  2020-03-13 10:00:00            GM0034   \n",
       "...         ...                  ...                  ...               ...   \n",
       "403201        8  2023-03-31 10:00:00  2023-03-31 10:00:00               NaN   \n",
       "403202        8  2023-03-31 10:00:00  2023-03-31 10:00:00               NaN   \n",
       "403203        8  2023-03-31 10:00:00  2023-03-31 10:00:00               NaN   \n",
       "403204        8  2023-03-31 10:00:00  2023-03-31 10:00:00               NaN   \n",
       "403205        8  2023-03-31 10:00:00  2023-03-31 10:00:00               NaN   \n",
       "\n",
       "       Municipality_name      Province  Total_reported  Hospital_admission  \\\n",
       "0             Appingedam     Groningen               0                   0   \n",
       "1               Delfzijl     Groningen               0                   0   \n",
       "2              Groningen     Groningen               3                   0   \n",
       "3              Loppersum     Groningen               0                   0   \n",
       "4                 Almere     Flevoland               1                   1   \n",
       "...                  ...           ...             ...                 ...   \n",
       "403201               NaN    Overijssel            4871                9999   \n",
       "403202               NaN       Utrecht            4751                9999   \n",
       "403203               NaN       Zeeland            1607                9999   \n",
       "403204               NaN  Zuid-Holland           17335                9999   \n",
       "403205               NaN           NaN             139                9999   \n",
       "\n",
       "        Deceased  \n",
       "0              0  \n",
       "1              0  \n",
       "2              0  \n",
       "3              0  \n",
       "4              0  \n",
       "...          ...  \n",
       "403201      9999  \n",
       "403202      9999  \n",
       "403203      9999  \n",
       "403204      9999  \n",
       "403205      9999  \n",
       "\n",
       "[403206 rows x 9 columns]"
      ]
     },
     "execution_count": 113,
     "metadata": {},
     "output_type": "execute_result"
    }
   ],
   "source": [
    "file_path = 'COVID_19_aantallen_gemeente_cumulatief.csv'\n",
    "\n",
    "data = pd.read_csv(file_path, delimiter=';')\n",
    "data"
   ]
  },
  {
   "cell_type": "code",
   "execution_count": 114,
   "id": "5bdcb7e3-3679-42d4-9a02-7984da6ece8e",
   "metadata": {},
   "outputs": [],
   "source": [
    "end_of_months = '2020-03-31|2020-04-30|2020-05-31|2020-06-30|2020-07-31|2020-08-31|2020-09-30|2020-10-31|2020-11-30|2020-12-31|2021-01-31|2021-02-28|\\\n",
    "                 2021-03-31|2021-04-30|2021-05-31|2021-06-30|2021-07-31|2021-08-31|2021-09-30|2021-10-31|2021-11-30|2021-12-31|2022-01-31|2022-02-28|\\\n",
    "                 2022-03-31|2022-04-30|2022-05-31|2022-06-30|2022-07-31|2022-08-31|2022-09-30|2022-10-31|2022-11-30|2022-12-31|2023-01-31|2023-02-28|\\\n",
    "                 2023-03-31|2023-04-30|2023-05-31|2023-06-30|2023-07-31|2023-08-31'\n"
   ]
  },
  {
   "cell_type": "code",
   "execution_count": 115,
   "id": "3232eda1-0b3d-4e3b-92d7-2fc580d285f7",
   "metadata": {
    "scrolled": true
   },
   "outputs": [],
   "source": [
    "df = data[data['Date_of_publication'].str.contains(end_of_months)==True]"
   ]
  },
  {
   "cell_type": "code",
   "execution_count": 116,
   "id": "b15b9546-d937-400e-9f3f-5ae56b10f854",
   "metadata": {},
   "outputs": [],
   "source": [
    "df = df.drop(['Version', 'Date_of_report', 'Municipality_code',\n",
    "       'Municipality_name', 'Hospital_admission',\n",
    "       'Deceased'], axis=1)"
   ]
  },
  {
   "cell_type": "code",
   "execution_count": 117,
   "id": "1d0f0e40-b5b5-424c-a2f2-9a597b6c2111",
   "metadata": {},
   "outputs": [
    {
     "data": {
      "text/html": [
       "<div>\n",
       "<style scoped>\n",
       "    .dataframe tbody tr th:only-of-type {\n",
       "        vertical-align: middle;\n",
       "    }\n",
       "\n",
       "    .dataframe tbody tr th {\n",
       "        vertical-align: top;\n",
       "    }\n",
       "\n",
       "    .dataframe thead th {\n",
       "        text-align: right;\n",
       "    }\n",
       "</style>\n",
       "<table border=\"1\" class=\"dataframe\">\n",
       "  <thead>\n",
       "    <tr style=\"text-align: right;\">\n",
       "      <th></th>\n",
       "      <th>index</th>\n",
       "      <th>Date_of_publication</th>\n",
       "      <th>Province</th>\n",
       "      <th>Total_reported</th>\n",
       "    </tr>\n",
       "  </thead>\n",
       "  <tbody>\n",
       "    <tr>\n",
       "      <th>0</th>\n",
       "      <td>6606</td>\n",
       "      <td>2020-03-31 10:00:00</td>\n",
       "      <td>Groningen</td>\n",
       "      <td>1</td>\n",
       "    </tr>\n",
       "    <tr>\n",
       "      <th>1</th>\n",
       "      <td>6607</td>\n",
       "      <td>2020-03-31 10:00:00</td>\n",
       "      <td>Groningen</td>\n",
       "      <td>8</td>\n",
       "    </tr>\n",
       "    <tr>\n",
       "      <th>2</th>\n",
       "      <td>6608</td>\n",
       "      <td>2020-03-31 10:00:00</td>\n",
       "      <td>Groningen</td>\n",
       "      <td>92</td>\n",
       "    </tr>\n",
       "    <tr>\n",
       "      <th>3</th>\n",
       "      <td>6609</td>\n",
       "      <td>2020-03-31 10:00:00</td>\n",
       "      <td>Groningen</td>\n",
       "      <td>1</td>\n",
       "    </tr>\n",
       "    <tr>\n",
       "      <th>4</th>\n",
       "      <td>6610</td>\n",
       "      <td>2020-03-31 10:00:00</td>\n",
       "      <td>Flevoland</td>\n",
       "      <td>74</td>\n",
       "    </tr>\n",
       "    <tr>\n",
       "      <th>...</th>\n",
       "      <td>...</td>\n",
       "      <td>...</td>\n",
       "      <td>...</td>\n",
       "      <td>...</td>\n",
       "    </tr>\n",
       "    <tr>\n",
       "      <th>12305</th>\n",
       "      <td>392196</td>\n",
       "      <td>2023-02-28 10:00:00</td>\n",
       "      <td>Overijssel</td>\n",
       "      <td>4864</td>\n",
       "    </tr>\n",
       "    <tr>\n",
       "      <th>12306</th>\n",
       "      <td>392197</td>\n",
       "      <td>2023-02-28 10:00:00</td>\n",
       "      <td>Utrecht</td>\n",
       "      <td>4746</td>\n",
       "    </tr>\n",
       "    <tr>\n",
       "      <th>12307</th>\n",
       "      <td>392198</td>\n",
       "      <td>2023-02-28 10:00:00</td>\n",
       "      <td>Zeeland</td>\n",
       "      <td>1601</td>\n",
       "    </tr>\n",
       "    <tr>\n",
       "      <th>12308</th>\n",
       "      <td>392199</td>\n",
       "      <td>2023-02-28 10:00:00</td>\n",
       "      <td>Zuid-Holland</td>\n",
       "      <td>17307</td>\n",
       "    </tr>\n",
       "    <tr>\n",
       "      <th>12309</th>\n",
       "      <td>392200</td>\n",
       "      <td>2023-02-28 10:00:00</td>\n",
       "      <td>NaN</td>\n",
       "      <td>139</td>\n",
       "    </tr>\n",
       "  </tbody>\n",
       "</table>\n",
       "<p>12310 rows × 4 columns</p>\n",
       "</div>"
      ],
      "text/plain": [
       "        index  Date_of_publication      Province  Total_reported\n",
       "0        6606  2020-03-31 10:00:00     Groningen               1\n",
       "1        6607  2020-03-31 10:00:00     Groningen               8\n",
       "2        6608  2020-03-31 10:00:00     Groningen              92\n",
       "3        6609  2020-03-31 10:00:00     Groningen               1\n",
       "4        6610  2020-03-31 10:00:00     Flevoland              74\n",
       "...       ...                  ...           ...             ...\n",
       "12305  392196  2023-02-28 10:00:00    Overijssel            4864\n",
       "12306  392197  2023-02-28 10:00:00       Utrecht            4746\n",
       "12307  392198  2023-02-28 10:00:00       Zeeland            1601\n",
       "12308  392199  2023-02-28 10:00:00  Zuid-Holland           17307\n",
       "12309  392200  2023-02-28 10:00:00           NaN             139\n",
       "\n",
       "[12310 rows x 4 columns]"
      ]
     },
     "execution_count": 117,
     "metadata": {},
     "output_type": "execute_result"
    }
   ],
   "source": [
    "df = df.reset_index()\n",
    "df"
   ]
  },
  {
   "cell_type": "code",
   "execution_count": 118,
   "id": "1b8f0848",
   "metadata": {},
   "outputs": [
    {
     "name": "stdout",
     "output_type": "stream",
     "text": [
      "        index Date_of_publication      Province  Total_reported\n",
      "0        6606            2020MM03     Groningen               1\n",
      "1        6607            2020MM03     Groningen               8\n",
      "2        6608            2020MM03     Groningen              92\n",
      "3        6609            2020MM03     Groningen               1\n",
      "4        6610            2020MM03     Flevoland              74\n",
      "...       ...                 ...           ...             ...\n",
      "12305  392196            2023MM02    Overijssel            4864\n",
      "12306  392197            2023MM02       Utrecht            4746\n",
      "12307  392198            2023MM02       Zeeland            1601\n",
      "12308  392199            2023MM02  Zuid-Holland           17307\n",
      "12309  392200            2023MM02           NaN             139\n",
      "\n",
      "[12310 rows x 4 columns]\n"
     ]
    }
   ],
   "source": [
    "for i in range(len(df)):\n",
    "    date_list = df['Date_of_publication'][i].rstrip('10:00:00').split('-')\n",
    "    new_date = date_list[0] + 'MM' + date_list[1]\n",
    "    df.loc[i, 'Date_of_publication'] = new_date\n",
    "\n",
    "print(df)"
   ]
  },
  {
   "cell_type": "code",
   "execution_count": 119,
   "id": "72757984",
   "metadata": {},
   "outputs": [],
   "source": [
    "# df['Date_of_publication'] = df['Date_of_publication'].replace(['2020-03-31','2020-04-30','2020-05-31','2020-06-30','2020-07-31','2020-08-31','2020-09-30','2020-10-31','2020-11-30','2020-12-31','2021-01-31','2021-02-28',\\\n",
    "#                  '2021-03-31','2021-04-30','2021-05-31','2021-06-30','2021-07-31','2021-08-31','2021-09-30','2021-10-31','2021-11-30','2021-12-31','2022-01-31','2022-02-28',\\\n",
    "#                  '2022-03-31','2022-04-30','2022-05-31','2022-06-30','2022-07-31','2022-08-31','2022-09-30','2022-10-31','2022-11-30','2022-12-31','2023-01-31','2023-02-28',\\\n",
    "#                  '2023-03-31','2023-04-30','2023-05-31','2023-06-30','2023-07-31','2023-08-31']\n",
    "#                  ['1st new value', '2nd new value', ...])"
   ]
  },
  {
   "cell_type": "code",
   "execution_count": 120,
   "id": "10f2ade9-f22a-4e68-8c54-3029903876bb",
   "metadata": {},
   "outputs": [],
   "source": [
    "sum = 0\n",
    "date = df['Date_of_publication'][0]\n",
    "cumulative_per_date = {}\n",
    "cumulative = 0\n",
    "sum_last_month = 0\n",
    "\n",
    "for i in range(len(df)):\n",
    "    if df['Date_of_publication'][i] == date:\n",
    "        sum += df['Total_reported'][i]\n",
    "    else:\n",
    "        sum -= cumulative\n",
    "        cumulative += sum\n",
    "        cumulative_per_date.update({date: sum})\n",
    "        date = df['Date_of_publication'][i]\n",
    "        last_sum = sum\n",
    "        sum = 0\n",
    "    "
   ]
  },
  {
   "cell_type": "code",
   "execution_count": 121,
   "id": "c444402a-e511-4432-bb0c-ca7d8fda5e29",
   "metadata": {},
   "outputs": [
    {
     "data": {
      "text/plain": [
       "{'2020MM03': 12595,\n",
       " '2020MM04': 26716,\n",
       " '2020MM05': 7126,\n",
       " '2020MM06': 3831,\n",
       " '2020MM07': 4028,\n",
       " '2020MM08': 16365,\n",
       " '2020MM09': 50166,\n",
       " '2020MM10': 230293,\n",
       " '2020MM11': 172255,\n",
       " '2020MM12': 273309,\n",
       " '2021MM01': 174021,\n",
       " '2021MM02': 109045,\n",
       " '2021MM04': 404434,\n",
       " '2021MM05': 151799,\n",
       " '2021MM06': 35218,\n",
       " '2021MM07': 174793,\n",
       " '2021MM08': 74554,\n",
       " '2021MM09': 61284,\n",
       " '2021MM10': 127962,\n",
       " '2021MM11': 507820,\n",
       " '2021MM12': 485064,\n",
       " '2022MM01': 1283474,\n",
       " '2022MM02': 1900270,\n",
       " '2022MM04': 1658867,\n",
       " '2022MM05': 36617,\n",
       " '2022MM06': 96703,\n",
       " '2022MM07': 150459,\n",
       " '2022MM08': 49197,\n",
       " '2022MM09': 44050,\n",
       " '2022MM10': 83983,\n",
       " '2022MM11': 26957,\n",
       " '2022MM12': 26974,\n",
       " '2023MM01': 12103}"
      ]
     },
     "execution_count": 121,
     "metadata": {},
     "output_type": "execute_result"
    }
   ],
   "source": [
    "cumulative_per_date"
   ]
  },
  {
   "cell_type": "code",
   "execution_count": 122,
   "id": "4011ae24-af17-4825-b921-92f7db77957e",
   "metadata": {},
   "outputs": [
    {
     "data": {
      "application/vnd.plotly.v1+json": {
       "config": {
        "plotlyServerURL": "https://plot.ly"
       },
       "data": [
        {
         "alignmentgroup": "True",
         "hovertemplate": "x=%{x}<br>y=%{y}<extra></extra>",
         "legendgroup": "",
         "marker": {
          "color": "#636efa",
          "pattern": {
           "shape": ""
          }
         },
         "name": "",
         "offsetgroup": "",
         "orientation": "v",
         "showlegend": false,
         "textposition": "auto",
         "type": "bar",
         "x": [
          "2020MM03",
          "2020MM04",
          "2020MM05",
          "2020MM06",
          "2020MM07",
          "2020MM08",
          "2020MM09",
          "2020MM10",
          "2020MM11",
          "2020MM12",
          "2021MM01",
          "2021MM02",
          "2021MM04",
          "2021MM05",
          "2021MM06",
          "2021MM07",
          "2021MM08",
          "2021MM09",
          "2021MM10",
          "2021MM11",
          "2021MM12",
          "2022MM01",
          "2022MM02",
          "2022MM04",
          "2022MM05",
          "2022MM06",
          "2022MM07",
          "2022MM08",
          "2022MM09",
          "2022MM10",
          "2022MM11",
          "2022MM12",
          "2023MM01"
         ],
         "xaxis": "x",
         "y": [
          12595,
          26716,
          7126,
          3831,
          4028,
          16365,
          50166,
          230293,
          172255,
          273309,
          174021,
          109045,
          404434,
          151799,
          35218,
          174793,
          74554,
          61284,
          127962,
          507820,
          485064,
          1283474,
          1900270,
          1658867,
          36617,
          96703,
          150459,
          49197,
          44050,
          83983,
          26957,
          26974,
          12103
         ],
         "yaxis": "y"
        }
       ],
       "layout": {
        "autosize": false,
        "barmode": "relative",
        "height": 600,
        "legend": {
         "tracegroupgap": 0
        },
        "template": {
         "data": {
          "bar": [
           {
            "error_x": {
             "color": "#2a3f5f"
            },
            "error_y": {
             "color": "#2a3f5f"
            },
            "marker": {
             "line": {
              "color": "#E5ECF6",
              "width": 0.5
             },
             "pattern": {
              "fillmode": "overlay",
              "size": 10,
              "solidity": 0.2
             }
            },
            "type": "bar"
           }
          ],
          "barpolar": [
           {
            "marker": {
             "line": {
              "color": "#E5ECF6",
              "width": 0.5
             },
             "pattern": {
              "fillmode": "overlay",
              "size": 10,
              "solidity": 0.2
             }
            },
            "type": "barpolar"
           }
          ],
          "carpet": [
           {
            "aaxis": {
             "endlinecolor": "#2a3f5f",
             "gridcolor": "white",
             "linecolor": "white",
             "minorgridcolor": "white",
             "startlinecolor": "#2a3f5f"
            },
            "baxis": {
             "endlinecolor": "#2a3f5f",
             "gridcolor": "white",
             "linecolor": "white",
             "minorgridcolor": "white",
             "startlinecolor": "#2a3f5f"
            },
            "type": "carpet"
           }
          ],
          "choropleth": [
           {
            "colorbar": {
             "outlinewidth": 0,
             "ticks": ""
            },
            "type": "choropleth"
           }
          ],
          "contour": [
           {
            "colorbar": {
             "outlinewidth": 0,
             "ticks": ""
            },
            "colorscale": [
             [
              0,
              "#0d0887"
             ],
             [
              0.1111111111111111,
              "#46039f"
             ],
             [
              0.2222222222222222,
              "#7201a8"
             ],
             [
              0.3333333333333333,
              "#9c179e"
             ],
             [
              0.4444444444444444,
              "#bd3786"
             ],
             [
              0.5555555555555556,
              "#d8576b"
             ],
             [
              0.6666666666666666,
              "#ed7953"
             ],
             [
              0.7777777777777778,
              "#fb9f3a"
             ],
             [
              0.8888888888888888,
              "#fdca26"
             ],
             [
              1,
              "#f0f921"
             ]
            ],
            "type": "contour"
           }
          ],
          "contourcarpet": [
           {
            "colorbar": {
             "outlinewidth": 0,
             "ticks": ""
            },
            "type": "contourcarpet"
           }
          ],
          "heatmap": [
           {
            "colorbar": {
             "outlinewidth": 0,
             "ticks": ""
            },
            "colorscale": [
             [
              0,
              "#0d0887"
             ],
             [
              0.1111111111111111,
              "#46039f"
             ],
             [
              0.2222222222222222,
              "#7201a8"
             ],
             [
              0.3333333333333333,
              "#9c179e"
             ],
             [
              0.4444444444444444,
              "#bd3786"
             ],
             [
              0.5555555555555556,
              "#d8576b"
             ],
             [
              0.6666666666666666,
              "#ed7953"
             ],
             [
              0.7777777777777778,
              "#fb9f3a"
             ],
             [
              0.8888888888888888,
              "#fdca26"
             ],
             [
              1,
              "#f0f921"
             ]
            ],
            "type": "heatmap"
           }
          ],
          "heatmapgl": [
           {
            "colorbar": {
             "outlinewidth": 0,
             "ticks": ""
            },
            "colorscale": [
             [
              0,
              "#0d0887"
             ],
             [
              0.1111111111111111,
              "#46039f"
             ],
             [
              0.2222222222222222,
              "#7201a8"
             ],
             [
              0.3333333333333333,
              "#9c179e"
             ],
             [
              0.4444444444444444,
              "#bd3786"
             ],
             [
              0.5555555555555556,
              "#d8576b"
             ],
             [
              0.6666666666666666,
              "#ed7953"
             ],
             [
              0.7777777777777778,
              "#fb9f3a"
             ],
             [
              0.8888888888888888,
              "#fdca26"
             ],
             [
              1,
              "#f0f921"
             ]
            ],
            "type": "heatmapgl"
           }
          ],
          "histogram": [
           {
            "marker": {
             "pattern": {
              "fillmode": "overlay",
              "size": 10,
              "solidity": 0.2
             }
            },
            "type": "histogram"
           }
          ],
          "histogram2d": [
           {
            "colorbar": {
             "outlinewidth": 0,
             "ticks": ""
            },
            "colorscale": [
             [
              0,
              "#0d0887"
             ],
             [
              0.1111111111111111,
              "#46039f"
             ],
             [
              0.2222222222222222,
              "#7201a8"
             ],
             [
              0.3333333333333333,
              "#9c179e"
             ],
             [
              0.4444444444444444,
              "#bd3786"
             ],
             [
              0.5555555555555556,
              "#d8576b"
             ],
             [
              0.6666666666666666,
              "#ed7953"
             ],
             [
              0.7777777777777778,
              "#fb9f3a"
             ],
             [
              0.8888888888888888,
              "#fdca26"
             ],
             [
              1,
              "#f0f921"
             ]
            ],
            "type": "histogram2d"
           }
          ],
          "histogram2dcontour": [
           {
            "colorbar": {
             "outlinewidth": 0,
             "ticks": ""
            },
            "colorscale": [
             [
              0,
              "#0d0887"
             ],
             [
              0.1111111111111111,
              "#46039f"
             ],
             [
              0.2222222222222222,
              "#7201a8"
             ],
             [
              0.3333333333333333,
              "#9c179e"
             ],
             [
              0.4444444444444444,
              "#bd3786"
             ],
             [
              0.5555555555555556,
              "#d8576b"
             ],
             [
              0.6666666666666666,
              "#ed7953"
             ],
             [
              0.7777777777777778,
              "#fb9f3a"
             ],
             [
              0.8888888888888888,
              "#fdca26"
             ],
             [
              1,
              "#f0f921"
             ]
            ],
            "type": "histogram2dcontour"
           }
          ],
          "mesh3d": [
           {
            "colorbar": {
             "outlinewidth": 0,
             "ticks": ""
            },
            "type": "mesh3d"
           }
          ],
          "parcoords": [
           {
            "line": {
             "colorbar": {
              "outlinewidth": 0,
              "ticks": ""
             }
            },
            "type": "parcoords"
           }
          ],
          "pie": [
           {
            "automargin": true,
            "type": "pie"
           }
          ],
          "scatter": [
           {
            "fillpattern": {
             "fillmode": "overlay",
             "size": 10,
             "solidity": 0.2
            },
            "type": "scatter"
           }
          ],
          "scatter3d": [
           {
            "line": {
             "colorbar": {
              "outlinewidth": 0,
              "ticks": ""
             }
            },
            "marker": {
             "colorbar": {
              "outlinewidth": 0,
              "ticks": ""
             }
            },
            "type": "scatter3d"
           }
          ],
          "scattercarpet": [
           {
            "marker": {
             "colorbar": {
              "outlinewidth": 0,
              "ticks": ""
             }
            },
            "type": "scattercarpet"
           }
          ],
          "scattergeo": [
           {
            "marker": {
             "colorbar": {
              "outlinewidth": 0,
              "ticks": ""
             }
            },
            "type": "scattergeo"
           }
          ],
          "scattergl": [
           {
            "marker": {
             "colorbar": {
              "outlinewidth": 0,
              "ticks": ""
             }
            },
            "type": "scattergl"
           }
          ],
          "scattermapbox": [
           {
            "marker": {
             "colorbar": {
              "outlinewidth": 0,
              "ticks": ""
             }
            },
            "type": "scattermapbox"
           }
          ],
          "scatterpolar": [
           {
            "marker": {
             "colorbar": {
              "outlinewidth": 0,
              "ticks": ""
             }
            },
            "type": "scatterpolar"
           }
          ],
          "scatterpolargl": [
           {
            "marker": {
             "colorbar": {
              "outlinewidth": 0,
              "ticks": ""
             }
            },
            "type": "scatterpolargl"
           }
          ],
          "scatterternary": [
           {
            "marker": {
             "colorbar": {
              "outlinewidth": 0,
              "ticks": ""
             }
            },
            "type": "scatterternary"
           }
          ],
          "surface": [
           {
            "colorbar": {
             "outlinewidth": 0,
             "ticks": ""
            },
            "colorscale": [
             [
              0,
              "#0d0887"
             ],
             [
              0.1111111111111111,
              "#46039f"
             ],
             [
              0.2222222222222222,
              "#7201a8"
             ],
             [
              0.3333333333333333,
              "#9c179e"
             ],
             [
              0.4444444444444444,
              "#bd3786"
             ],
             [
              0.5555555555555556,
              "#d8576b"
             ],
             [
              0.6666666666666666,
              "#ed7953"
             ],
             [
              0.7777777777777778,
              "#fb9f3a"
             ],
             [
              0.8888888888888888,
              "#fdca26"
             ],
             [
              1,
              "#f0f921"
             ]
            ],
            "type": "surface"
           }
          ],
          "table": [
           {
            "cells": {
             "fill": {
              "color": "#EBF0F8"
             },
             "line": {
              "color": "white"
             }
            },
            "header": {
             "fill": {
              "color": "#C8D4E3"
             },
             "line": {
              "color": "white"
             }
            },
            "type": "table"
           }
          ]
         },
         "layout": {
          "annotationdefaults": {
           "arrowcolor": "#2a3f5f",
           "arrowhead": 0,
           "arrowwidth": 1
          },
          "autotypenumbers": "strict",
          "coloraxis": {
           "colorbar": {
            "outlinewidth": 0,
            "ticks": ""
           }
          },
          "colorscale": {
           "diverging": [
            [
             0,
             "#8e0152"
            ],
            [
             0.1,
             "#c51b7d"
            ],
            [
             0.2,
             "#de77ae"
            ],
            [
             0.3,
             "#f1b6da"
            ],
            [
             0.4,
             "#fde0ef"
            ],
            [
             0.5,
             "#f7f7f7"
            ],
            [
             0.6,
             "#e6f5d0"
            ],
            [
             0.7,
             "#b8e186"
            ],
            [
             0.8,
             "#7fbc41"
            ],
            [
             0.9,
             "#4d9221"
            ],
            [
             1,
             "#276419"
            ]
           ],
           "sequential": [
            [
             0,
             "#0d0887"
            ],
            [
             0.1111111111111111,
             "#46039f"
            ],
            [
             0.2222222222222222,
             "#7201a8"
            ],
            [
             0.3333333333333333,
             "#9c179e"
            ],
            [
             0.4444444444444444,
             "#bd3786"
            ],
            [
             0.5555555555555556,
             "#d8576b"
            ],
            [
             0.6666666666666666,
             "#ed7953"
            ],
            [
             0.7777777777777778,
             "#fb9f3a"
            ],
            [
             0.8888888888888888,
             "#fdca26"
            ],
            [
             1,
             "#f0f921"
            ]
           ],
           "sequentialminus": [
            [
             0,
             "#0d0887"
            ],
            [
             0.1111111111111111,
             "#46039f"
            ],
            [
             0.2222222222222222,
             "#7201a8"
            ],
            [
             0.3333333333333333,
             "#9c179e"
            ],
            [
             0.4444444444444444,
             "#bd3786"
            ],
            [
             0.5555555555555556,
             "#d8576b"
            ],
            [
             0.6666666666666666,
             "#ed7953"
            ],
            [
             0.7777777777777778,
             "#fb9f3a"
            ],
            [
             0.8888888888888888,
             "#fdca26"
            ],
            [
             1,
             "#f0f921"
            ]
           ]
          },
          "colorway": [
           "#636efa",
           "#EF553B",
           "#00cc96",
           "#ab63fa",
           "#FFA15A",
           "#19d3f3",
           "#FF6692",
           "#B6E880",
           "#FF97FF",
           "#FECB52"
          ],
          "font": {
           "color": "#2a3f5f"
          },
          "geo": {
           "bgcolor": "white",
           "lakecolor": "white",
           "landcolor": "#E5ECF6",
           "showlakes": true,
           "showland": true,
           "subunitcolor": "white"
          },
          "hoverlabel": {
           "align": "left"
          },
          "hovermode": "closest",
          "mapbox": {
           "style": "light"
          },
          "paper_bgcolor": "white",
          "plot_bgcolor": "#E5ECF6",
          "polar": {
           "angularaxis": {
            "gridcolor": "white",
            "linecolor": "white",
            "ticks": ""
           },
           "bgcolor": "#E5ECF6",
           "radialaxis": {
            "gridcolor": "white",
            "linecolor": "white",
            "ticks": ""
           }
          },
          "scene": {
           "xaxis": {
            "backgroundcolor": "#E5ECF6",
            "gridcolor": "white",
            "gridwidth": 2,
            "linecolor": "white",
            "showbackground": true,
            "ticks": "",
            "zerolinecolor": "white"
           },
           "yaxis": {
            "backgroundcolor": "#E5ECF6",
            "gridcolor": "white",
            "gridwidth": 2,
            "linecolor": "white",
            "showbackground": true,
            "ticks": "",
            "zerolinecolor": "white"
           },
           "zaxis": {
            "backgroundcolor": "#E5ECF6",
            "gridcolor": "white",
            "gridwidth": 2,
            "linecolor": "white",
            "showbackground": true,
            "ticks": "",
            "zerolinecolor": "white"
           }
          },
          "shapedefaults": {
           "line": {
            "color": "#2a3f5f"
           }
          },
          "ternary": {
           "aaxis": {
            "gridcolor": "white",
            "linecolor": "white",
            "ticks": ""
           },
           "baxis": {
            "gridcolor": "white",
            "linecolor": "white",
            "ticks": ""
           },
           "bgcolor": "#E5ECF6",
           "caxis": {
            "gridcolor": "white",
            "linecolor": "white",
            "ticks": ""
           }
          },
          "title": {
           "x": 0.05
          },
          "xaxis": {
           "automargin": true,
           "gridcolor": "white",
           "linecolor": "white",
           "ticks": "",
           "title": {
            "standoff": 15
           },
           "zerolinecolor": "white",
           "zerolinewidth": 2
          },
          "yaxis": {
           "automargin": true,
           "gridcolor": "white",
           "linecolor": "white",
           "ticks": "",
           "title": {
            "standoff": 15
           },
           "zerolinecolor": "white",
           "zerolinewidth": 2
          }
         }
        },
        "title": {
         "text": "Amount of reported covid cases per month in the Netherlands"
        },
        "width": 800,
        "xaxis": {
         "anchor": "y",
         "domain": [
          0,
          1
         ],
         "tickangle": 90,
         "title": {
          "text": "Month, Year"
         }
        },
        "yaxis": {
         "anchor": "x",
         "domain": [
          0,
          1
         ],
         "title": {
          "text": "Reported covid cases"
         }
        }
       }
      }
     },
     "metadata": {},
     "output_type": "display_data"
    }
   ],
   "source": [
    "fig = px.bar(x= cumulative_per_date.keys(), y=cumulative_per_date.values(), title = 'Amount of reported covid cases per month in the Netherlands')\n",
    "fig.update_xaxes(tickangle=90, title = 'Month, Year')\n",
    "fig.update_yaxes(title = 'Reported covid cases')\n",
    "fig.update_layout(autosize = False, width = 800, height = 600)\n",
    "\n",
    "fig.show()"
   ]
  },
  {
   "cell_type": "code",
   "execution_count": null,
   "id": "c077fb78-4239-42ac-afd1-d73db380f818",
   "metadata": {},
   "outputs": [],
   "source": []
  }
 ],
 "metadata": {
  "kernelspec": {
   "display_name": "Python 3 (ipykernel)",
   "language": "python",
   "name": "python3"
  },
  "language_info": {
   "codemirror_mode": {
    "name": "ipython",
    "version": 3
   },
   "file_extension": ".py",
   "mimetype": "text/x-python",
   "name": "python",
   "nbconvert_exporter": "python",
   "pygments_lexer": "ipython3",
   "version": "3.9.17"
  }
 },
 "nbformat": 4,
 "nbformat_minor": 5
}
