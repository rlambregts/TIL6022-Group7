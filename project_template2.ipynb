{
 "cells": [
  {
   "cell_type": "markdown",
   "metadata": {},
   "source": [
    "# Project Group - 7\n",
    "\n",
    "Members: Charlotte van Rijsoort, Fleur van Steekelenburg, Romy Lambregts, Jasper van den Broek, Konstantina Mountouri\n",
    "\n",
    "Student numbers: 5400546, 5313066, 4881036, 5262887, 6074170"
   ]
  },
  {
   "cell_type": "markdown",
   "metadata": {},
   "source": [
    "# Introduction"
   ]
  },
  {
   "cell_type": "markdown",
   "metadata": {},
   "source": [
    "COVID-19 has had an influence on the number of passenger flights as well as cargo and mail flights. After the pandemic, the number of flights did not return to its initial numbers (2). This is because a lot of people discovered transport alternatives during the COVID-19 pandemic (1). The goal of this research is to show the impact of COVID-19 on the number of flights from Dutch aiports. A time frame is used from 2019 till 2023. In this way it can be analyzed if the changes caused by COVID-19 continue in the upcoming years. "
   ]
  },
  {
   "cell_type": "markdown",
   "metadata": {},
   "source": [
    "## _Research Objective_\n",
    "\n",
    "*Requires data modeling and quantitative research in Transport, Infrastructure & Logistics*"
   ]
  },
  {
   "cell_type": "markdown",
   "metadata": {},
   "source": [
    "**Research Question:** What is the effect of COVID-19 on flight behaviour from Dutch airports from 2019 till 2023? <br>\n",
    "**Sub Questions:** <br>\n",
    "- What is the effect on the number of passenger flights?\n",
    "- What is the effect on the number of tons cargo?\n",
    "- What is the effect on mail?\n",
    "\n",
    "Dutch airports are classified as: Schiphol, Rotterdam The Hague Airport, Eindhoven Airport, Maastricht Aachen Airport and Groningen Airport."
   ]
  },
  {
   "cell_type": "markdown",
   "metadata": {},
   "source": [
    "To answer these questions several plots are made in python, in this way an overview can be created of the number of flights in relation to the number of COVID-19 infections. To create these plots, two different datasets are used. The first dataset is about the number of flights on five Dutch airports, respectively Schiphol, Rotterdam The Hague, Eindhoven Airport, Maastricht Aachen, and Groningen (3). The second dataset is about the number of COVID-19 infections in the Netherlands. "
   ]
  },
  {
   "cell_type": "markdown",
   "metadata": {},
   "source": [
    "# Contribution Statement\n",
    "\n",
    "*Be specific. Some of the tasks can be coding (expect everyone to do this), background research, conceptualisation, visualisation, data analysis, data modelling*"
   ]
  },
  {
   "cell_type": "markdown",
   "metadata": {},
   "source": [
    "We all work on everything during the project. The main tasks will be collecting data (1), importing data (2), combining datasets (3), filtering data (4), analysing data (5), visualising (6)."
   ]
  },
  {
   "cell_type": "markdown",
   "metadata": {},
   "source": [
    "# Data Used"
   ]
  },
  {
   "cell_type": "markdown",
   "metadata": {},
   "source": [
    "Data: https://opendata.cbs.nl/statline/portal.html?_la=en&_catalog=CBS&tableId=37478eng&_theme=1171"
   ]
  },
  {
   "cell_type": "markdown",
   "metadata": {},
   "source": [
    "# Data Pipeline"
   ]
  },
  {
   "cell_type": "markdown",
   "metadata": {},
   "source": [
    "Github: https://github.com/rlambregts/TIL6022-Group7.git"
   ]
  },
  {
   "cell_type": "markdown",
   "metadata": {},
   "source": [
    "# References"
   ]
  },
  {
   "cell_type": "markdown",
   "metadata": {},
   "source": [
    "(1)\thttps://www.kimnet.nl/binaries/kimnet/documenten/papers/2022/11/09/vliegen-na-corona-de-vliegintentie-en-houding-ten-opzichte-van-de-luchtvaart-van-nederlanders-na-twee-jaar-covid-19/Zijlstra+en+Uitbeijerse+%282022%29+Vliegen+na+corona+-+CVS-paper_def.pdf <br>\n",
    "(2)\tfile:///C:/Users/charl/Downloads/Graduation_thesis_Sicong_Ouyang.pdf <br>\n",
    "(3)\tDataset flights: https://opendata.cbs.nl/statline/portal.html?_la=en&_catalog=CBS&tableId=37478eng&_theme=1171"<br>\n",
    "(4)\tDataset COVID-19 infections <br>\n"
   ]
  }
 ],
 "metadata": {
  "kernelspec": {
   "display_name": "Python 3 (ipykernel)",
   "language": "python",
   "name": "python3"
  },
  "language_info": {
   "codemirror_mode": {
    "name": "ipython",
    "version": 3
   },
   "file_extension": ".py",
   "mimetype": "text/x-python",
   "name": "python",
   "nbconvert_exporter": "python",
   "pygments_lexer": "ipython3",
   "version": "3.11.5"
  },
  "vscode": {
   "interpreter": {
    "hash": "31f2aee4e71d21fbe5cf8b01ff0e069b9275f58929596ceb00d14d90e3e16cd6"
   }
  }
 },
 "nbformat": 4,
 "nbformat_minor": 4
}
