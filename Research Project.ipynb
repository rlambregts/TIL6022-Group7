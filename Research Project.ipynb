{
 "cells": [
  {
   "cell_type": "markdown",
   "metadata": {},
   "source": [
    "# The effect of COVID19 on flight patterns at Dutch airports\n",
    "\n",
    "## TIL6022 Python Programming\n",
    "\n",
    "## Group 7: \n",
    "1. Charlotte van Rijsoort (5400546)\n",
    "2. Fleur van Steekelenburg (5313066)\n",
    "3. Romy Lambregts (4881036)\n",
    "4. Jasper van den Broek (5262887)\n",
    "5. Konstantina Mountouri (6074170)"
   ]
  },
  {
   "cell_type": "markdown",
   "metadata": {},
   "source": [
    "### Introduction\n",
    "<p>Nowadays, flying is one of the most popular and fast travelmodes. The number of estimated passengers in 2019 was 4.5 billion and this was an increasing trend (1). However, in 2019 the COVID19-virus started to settle down in the first countries. In 2020, it reached the Netherlands and everything changed. People got more or less locked up in their houses. We stopped meeting friends, going to work, etc. and we limited our movements to solely necessary ones. This was, of course, also the case for travelling. Going on holiday was not really an option anymore and so was flying to the other side of the world to meet family or friends.</p>\n",
    "\n",
    "<p>The total timespan of the pandemic was about 3 years, however the impact of COVID19 on travel patterns was not equally the same over those years. In this project, we aim to find out how it impacted travel patterns by air at the major Dutch airports. We will not only consider passengers, but also the amount of cargo [tons] and mail [tons] and compare them. This brings us to the research question:</p>\n",
    "\n",
    ">*What is the impact of COVID19 on travel patterns for passengers-, cargo- and mail flights from Dutch airports to other regions in the world and the other way around between 2019 and 2023?*\n",
    "\n",
    "#### Scope\n",
    "<p>To make this research question a bit more specific, the scope needs to be crearified more:\n",
    "\n",
    "1. Regions: EU countries (European Union), Other Europe, North Africa, West Africa, Central Africa, East Africa, South Africa, North America, Central America, South America, West Asia, South East Asia, North East Asia and Oceania.\n",
    "2. Dutch airports: Schiphol, Rotterdam The Hague Airport, Eindhoven Airport, Maastricht Aachen Airport and Groningen Airport.\n",
    "3. Baseline (pre-COVID) data: 2019\n",
    "4. Timespan of COVID19 in the Netherlands: march 2020 till january 2023 (2)\n",
    "</p>\n",
    "\n",
    "#### Subquestions\n",
    "Finding the answer to the research question, it is necessary to take a look at the three different types of movements (passengers, cargo and mail) individually. For each type, data will be analysed and every subquestion will be researched and answered. For each subquestion, the movements to and from all regions and/or the arrival/departure rates of the movement types at the airports will be considered.\n",
    "\n",
    ">1. *What did flight patterns look like before the COVID19 pandemic started?*\n",
    ">\n",
    ">2. *How did flight patterns change during the COVID19 pandemic?*\n",
    ">\n",
    ">3. *What do flight patterns look like nowadays?*\n",
    "\n",
    "Sources:\n",
    "(1) https://www.icao.int/annual-report-2019/Pages/the-world-of-air-transport-in-2019.aspx#:~:text=According%20to%20ICAO's%20preliminary%20compilation,a%201.7%20per%20cent%20increase.\n",
    "\n",
    "(2) COVID19 dataset\n"
   ]
  },
  {
   "cell_type": "markdown",
   "metadata": {},
   "source": [
    "### Chapter 1: Overview of airports\n",
    "<p>In this first chapter, the total amount of all flights will be considered for every airport. This gives a quick and clear overview about the basic situation from 2019 till now. Herefore, two databases have been used:\n",
    "\n",
    "1. 37478eng_UntypedDataSet_09102023_105711.csv (3)\n",
    "2. COVID_19_aantallen_gemeente_cumulatief.csv (4)\n",
    "</p>\n",
    "\n",
    "\n",
    "(3) https://opendata.cbs.nl/statline/#/CBS/en/dataset/37478eng/table?ts=1696840376267\n",
    "\n",
    "(4) https://data.rivm.nl/covid-19/"
   ]
  },
  {
   "cell_type": "code",
   "execution_count": 92,
   "metadata": {},
   "outputs": [
    {
     "data": {
      "text/html": [
       "<div>\n",
       "<style scoped>\n",
       "    .dataframe tbody tr th:only-of-type {\n",
       "        vertical-align: middle;\n",
       "    }\n",
       "\n",
       "    .dataframe tbody tr th {\n",
       "        vertical-align: top;\n",
       "    }\n",
       "\n",
       "    .dataframe thead th {\n",
       "        text-align: right;\n",
       "    }\n",
       "</style>\n",
       "<table border=\"1\" class=\"dataframe\">\n",
       "  <thead>\n",
       "    <tr style=\"text-align: right;\">\n",
       "      <th></th>\n",
       "      <th>ID</th>\n",
       "      <th>Airports</th>\n",
       "      <th>Periods</th>\n",
       "      <th>CrossCountryFlights_1</th>\n",
       "      <th>LocalFlights_2</th>\n",
       "      <th>Total Flights</th>\n",
       "      <th>Scheduled_4</th>\n",
       "      <th>NonScheduled_5</th>\n",
       "      <th>TotalArrivalsFlights_6</th>\n",
       "      <th>Scheduled_7</th>\n",
       "      <th>...</th>\n",
       "      <th>SouthAfrica_93</th>\n",
       "      <th>America_94</th>\n",
       "      <th>NorthAmerica_95</th>\n",
       "      <th>CentralAmerica_96</th>\n",
       "      <th>SouthAmerica_97</th>\n",
       "      <th>Asia_98</th>\n",
       "      <th>WestAsia_99</th>\n",
       "      <th>SouthEastAsia_100</th>\n",
       "      <th>NorthEastAsia_101</th>\n",
       "      <th>Oceania_102</th>\n",
       "    </tr>\n",
       "  </thead>\n",
       "  <tbody>\n",
       "    <tr>\n",
       "      <th>0</th>\n",
       "      <td>0</td>\n",
       "      <td>TOTAL</td>\n",
       "      <td>1997JJ00</td>\n",
       "      <td>467579</td>\n",
       "      <td>206214</td>\n",
       "      <td>400118</td>\n",
       "      <td>364095</td>\n",
       "      <td>36023</td>\n",
       "      <td>200040</td>\n",
       "      <td>182043</td>\n",
       "      <td>...</td>\n",
       "      <td>.</td>\n",
       "      <td>.</td>\n",
       "      <td>.</td>\n",
       "      <td>.</td>\n",
       "      <td>.</td>\n",
       "      <td>.</td>\n",
       "      <td>.</td>\n",
       "      <td>.</td>\n",
       "      <td>.</td>\n",
       "      <td>.</td>\n",
       "    </tr>\n",
       "    <tr>\n",
       "      <th>1</th>\n",
       "      <td>1</td>\n",
       "      <td>TOTAL</td>\n",
       "      <td>1998JJ00</td>\n",
       "      <td>485852</td>\n",
       "      <td>201265</td>\n",
       "      <td>425608</td>\n",
       "      <td>387560</td>\n",
       "      <td>38048</td>\n",
       "      <td>212751</td>\n",
       "      <td>193792</td>\n",
       "      <td>...</td>\n",
       "      <td>.</td>\n",
       "      <td>.</td>\n",
       "      <td>.</td>\n",
       "      <td>.</td>\n",
       "      <td>.</td>\n",
       "      <td>.</td>\n",
       "      <td>.</td>\n",
       "      <td>.</td>\n",
       "      <td>.</td>\n",
       "      <td>.</td>\n",
       "    </tr>\n",
       "    <tr>\n",
       "      <th>2</th>\n",
       "      <td>2</td>\n",
       "      <td>TOTAL</td>\n",
       "      <td>1999MM01</td>\n",
       "      <td>36810</td>\n",
       "      <td>14868</td>\n",
       "      <td>33145</td>\n",
       "      <td>31222</td>\n",
       "      <td>1923</td>\n",
       "      <td>16565</td>\n",
       "      <td>15616</td>\n",
       "      <td>...</td>\n",
       "      <td>.</td>\n",
       "      <td>.</td>\n",
       "      <td>.</td>\n",
       "      <td>.</td>\n",
       "      <td>.</td>\n",
       "      <td>.</td>\n",
       "      <td>.</td>\n",
       "      <td>.</td>\n",
       "      <td>.</td>\n",
       "      <td>.</td>\n",
       "    </tr>\n",
       "    <tr>\n",
       "      <th>3</th>\n",
       "      <td>3</td>\n",
       "      <td>TOTAL</td>\n",
       "      <td>1999MM02</td>\n",
       "      <td>34356</td>\n",
       "      <td>11314</td>\n",
       "      <td>30912</td>\n",
       "      <td>29015</td>\n",
       "      <td>1897</td>\n",
       "      <td>15444</td>\n",
       "      <td>14513</td>\n",
       "      <td>...</td>\n",
       "      <td>.</td>\n",
       "      <td>.</td>\n",
       "      <td>.</td>\n",
       "      <td>.</td>\n",
       "      <td>.</td>\n",
       "      <td>.</td>\n",
       "      <td>.</td>\n",
       "      <td>.</td>\n",
       "      <td>.</td>\n",
       "      <td>.</td>\n",
       "    </tr>\n",
       "    <tr>\n",
       "      <th>4</th>\n",
       "      <td>4</td>\n",
       "      <td>TOTAL</td>\n",
       "      <td>1999MM03</td>\n",
       "      <td>41290</td>\n",
       "      <td>18152</td>\n",
       "      <td>35591</td>\n",
       "      <td>33278</td>\n",
       "      <td>2313</td>\n",
       "      <td>17802</td>\n",
       "      <td>16644</td>\n",
       "      <td>...</td>\n",
       "      <td>.</td>\n",
       "      <td>.</td>\n",
       "      <td>.</td>\n",
       "      <td>.</td>\n",
       "      <td>.</td>\n",
       "      <td>.</td>\n",
       "      <td>.</td>\n",
       "      <td>.</td>\n",
       "      <td>.</td>\n",
       "      <td>.</td>\n",
       "    </tr>\n",
       "    <tr>\n",
       "      <th>...</th>\n",
       "      <td>...</td>\n",
       "      <td>...</td>\n",
       "      <td>...</td>\n",
       "      <td>...</td>\n",
       "      <td>...</td>\n",
       "      <td>...</td>\n",
       "      <td>...</td>\n",
       "      <td>...</td>\n",
       "      <td>...</td>\n",
       "      <td>...</td>\n",
       "      <td>...</td>\n",
       "      <td>...</td>\n",
       "      <td>...</td>\n",
       "      <td>...</td>\n",
       "      <td>...</td>\n",
       "      <td>...</td>\n",
       "      <td>...</td>\n",
       "      <td>...</td>\n",
       "      <td>...</td>\n",
       "      <td>...</td>\n",
       "      <td>...</td>\n",
       "    </tr>\n",
       "    <tr>\n",
       "      <th>2515</th>\n",
       "      <td>2515</td>\n",
       "      <td>Groningen</td>\n",
       "      <td>2023MM05</td>\n",
       "      <td>1100</td>\n",
       "      <td>4939</td>\n",
       "      <td>126</td>\n",
       "      <td>0</td>\n",
       "      <td>126</td>\n",
       "      <td>56</td>\n",
       "      <td>0</td>\n",
       "      <td>...</td>\n",
       "      <td>0</td>\n",
       "      <td>0</td>\n",
       "      <td>0</td>\n",
       "      <td>0</td>\n",
       "      <td>0</td>\n",
       "      <td>0</td>\n",
       "      <td>0</td>\n",
       "      <td>0</td>\n",
       "      <td>0</td>\n",
       "      <td>0</td>\n",
       "    </tr>\n",
       "    <tr>\n",
       "      <th>2516</th>\n",
       "      <td>2516</td>\n",
       "      <td>Groningen</td>\n",
       "      <td>2023MM06</td>\n",
       "      <td>1194</td>\n",
       "      <td>5484</td>\n",
       "      <td>126</td>\n",
       "      <td>0</td>\n",
       "      <td>126</td>\n",
       "      <td>64</td>\n",
       "      <td>0</td>\n",
       "      <td>...</td>\n",
       "      <td>0</td>\n",
       "      <td>0</td>\n",
       "      <td>0</td>\n",
       "      <td>0</td>\n",
       "      <td>0</td>\n",
       "      <td>0</td>\n",
       "      <td>0</td>\n",
       "      <td>0</td>\n",
       "      <td>0</td>\n",
       "      <td>0</td>\n",
       "    </tr>\n",
       "    <tr>\n",
       "      <th>2517</th>\n",
       "      <td>2517</td>\n",
       "      <td>Groningen</td>\n",
       "      <td>2023KW02</td>\n",
       "      <td>3324</td>\n",
       "      <td>15193</td>\n",
       "      <td>313</td>\n",
       "      <td>0</td>\n",
       "      <td>313</td>\n",
       "      <td>150</td>\n",
       "      <td>0</td>\n",
       "      <td>...</td>\n",
       "      <td>0</td>\n",
       "      <td>0</td>\n",
       "      <td>0</td>\n",
       "      <td>0</td>\n",
       "      <td>0</td>\n",
       "      <td>0</td>\n",
       "      <td>0</td>\n",
       "      <td>0</td>\n",
       "      <td>0</td>\n",
       "      <td>0</td>\n",
       "    </tr>\n",
       "    <tr>\n",
       "      <th>2518</th>\n",
       "      <td>2518</td>\n",
       "      <td>Groningen</td>\n",
       "      <td>2023MM07</td>\n",
       "      <td>1016</td>\n",
       "      <td>4229</td>\n",
       "      <td>126</td>\n",
       "      <td>0</td>\n",
       "      <td>126</td>\n",
       "      <td>62</td>\n",
       "      <td>0</td>\n",
       "      <td>...</td>\n",
       "      <td>0</td>\n",
       "      <td>0</td>\n",
       "      <td>0</td>\n",
       "      <td>0</td>\n",
       "      <td>0</td>\n",
       "      <td>0</td>\n",
       "      <td>0</td>\n",
       "      <td>0</td>\n",
       "      <td>0</td>\n",
       "      <td>0</td>\n",
       "    </tr>\n",
       "    <tr>\n",
       "      <th>2519</th>\n",
       "      <td>2519</td>\n",
       "      <td>Groningen</td>\n",
       "      <td>2023MM08</td>\n",
       "      <td>1045</td>\n",
       "      <td>5272</td>\n",
       "      <td>157</td>\n",
       "      <td>0</td>\n",
       "      <td>157</td>\n",
       "      <td>73</td>\n",
       "      <td>0</td>\n",
       "      <td>...</td>\n",
       "      <td>0</td>\n",
       "      <td>0</td>\n",
       "      <td>0</td>\n",
       "      <td>0</td>\n",
       "      <td>0</td>\n",
       "      <td>0</td>\n",
       "      <td>0</td>\n",
       "      <td>0</td>\n",
       "      <td>0</td>\n",
       "      <td>0</td>\n",
       "    </tr>\n",
       "  </tbody>\n",
       "</table>\n",
       "<p>2520 rows × 105 columns</p>\n",
       "</div>"
      ],
      "text/plain": [
       "        ID   Airports   Periods  CrossCountryFlights_1  LocalFlights_2  \\\n",
       "0        0      TOTAL  1997JJ00                 467579          206214   \n",
       "1        1      TOTAL  1998JJ00                 485852          201265   \n",
       "2        2      TOTAL  1999MM01                  36810           14868   \n",
       "3        3      TOTAL  1999MM02                  34356           11314   \n",
       "4        4      TOTAL  1999MM03                  41290           18152   \n",
       "...    ...        ...       ...                    ...             ...   \n",
       "2515  2515  Groningen  2023MM05                   1100            4939   \n",
       "2516  2516  Groningen  2023MM06                   1194            5484   \n",
       "2517  2517  Groningen  2023KW02                   3324           15193   \n",
       "2518  2518  Groningen  2023MM07                   1016            4229   \n",
       "2519  2519  Groningen  2023MM08                   1045            5272   \n",
       "\n",
       "      Total Flights Scheduled_4  NonScheduled_5  TotalArrivalsFlights_6  \\\n",
       "0            400118      364095           36023                  200040   \n",
       "1            425608      387560           38048                  212751   \n",
       "2             33145       31222            1923                   16565   \n",
       "3             30912       29015            1897                   15444   \n",
       "4             35591       33278            2313                   17802   \n",
       "...             ...         ...             ...                     ...   \n",
       "2515            126           0             126                      56   \n",
       "2516            126           0             126                      64   \n",
       "2517            313           0             313                     150   \n",
       "2518            126           0             126                      62   \n",
       "2519            157           0             157                      73   \n",
       "\n",
       "     Scheduled_7  ...  SouthAfrica_93  America_94 NorthAmerica_95  \\\n",
       "0         182043  ...               .           .               .   \n",
       "1         193792  ...               .           .               .   \n",
       "2          15616  ...               .           .               .   \n",
       "3          14513  ...               .           .               .   \n",
       "4          16644  ...               .           .               .   \n",
       "...          ...  ...             ...         ...             ...   \n",
       "2515           0  ...               0           0               0   \n",
       "2516           0  ...               0           0               0   \n",
       "2517           0  ...               0           0               0   \n",
       "2518           0  ...               0           0               0   \n",
       "2519           0  ...               0           0               0   \n",
       "\n",
       "      CentralAmerica_96  SouthAmerica_97   Asia_98  WestAsia_99  \\\n",
       "0                     .                .         .            .   \n",
       "1                     .                .         .            .   \n",
       "2                     .                .         .            .   \n",
       "3                     .                .         .            .   \n",
       "4                     .                .         .            .   \n",
       "...                 ...              ...       ...          ...   \n",
       "2515                  0                0         0            0   \n",
       "2516                  0                0         0            0   \n",
       "2517                  0                0         0            0   \n",
       "2518                  0                0         0            0   \n",
       "2519                  0                0         0            0   \n",
       "\n",
       "      SouthEastAsia_100 NorthEastAsia_101  Oceania_102  \n",
       "0                     .                 .            .  \n",
       "1                     .                 .            .  \n",
       "2                     .                 .            .  \n",
       "3                     .                 .            .  \n",
       "4                     .                 .            .  \n",
       "...                 ...               ...          ...  \n",
       "2515                  0                 0            0  \n",
       "2516                  0                 0            0  \n",
       "2517                  0                 0            0  \n",
       "2518                  0                 0            0  \n",
       "2519                  0                 0            0  \n",
       "\n",
       "[2520 rows x 105 columns]"
      ]
     },
     "execution_count": 92,
     "metadata": {},
     "output_type": "execute_result"
    }
   ],
   "source": [
    "# Import libraries\n",
    "import pandas as pd\n",
    "import plotly.express as px\n",
    "\n",
    "# Import flight-data from folder\n",
    "file_path = '37478eng_UntypedDataSet_09102023_105711.csv'\n",
    "data = pd.read_csv(file_path, delimiter=';')\n",
    "\n",
    "# Set ID as index an change name of the airports for a better readability\n",
    "data.set_index('ID')\n",
    "\n",
    "data.loc[ data['Airports'] == 'A045844', 'Airports'] = 'TOTAL'\n",
    "data.loc[ data['Airports'] == 'A043590', 'Airports'] = 'Schiphol'\n",
    "data.loc[ data['Airports'] == 'A043596', 'Airports'] = 'Rotterdam The Hague'\n",
    "data.loc[ data['Airports'] == 'A043591', 'Airports'] = 'Eindhoven'\n",
    "data.loc[ data['Airports'] == 'A043595', 'Airports'] = 'Maastricht Aachen'\n",
    "data.loc[ data['Airports'] == 'A043593', 'Airports'] = 'Groningen'\n",
    "\n",
    "# Change name of particular columns for better readability\n",
    "data.rename(columns={\"TotalFlights_3\": \"Total Flights\", \n",
    "                    \"TotalPassengers_12\": \"Total Passengers [pax]\",\n",
    "                    \"TotalCargo_43\": \"Total Cargo [tons]\",\n",
    "                    \"TotalMail_74\": \"Total Mail [tons]\",\n",
    "                    \"TotalArrivalsPassengers_15\": \"Total Arrived Passengers\",\n",
    "                    \"TotalDeparturesPassengers_18\": \"Total Departed Passengers\",\n",
    "                    \"TotalUnloadedCargo_46\": \"Total Unloaded Cargo [tons]\",\n",
    "                    \"TotalLoadedCargo_49\": \"Total Loaded Cargo [tons]\",\n",
    "                    \"TotalUnloadedMail_77\": \"Total Unloaded Mail [tons]\",\n",
    "                    \"TotalLoadedMail_80\": \"Total Loaded Mail [tons]\",\n",
    "},\n",
    "            inplace=True\n",
    "            )\n",
    "\n",
    "# Show table\n",
    "data\n",
    "\n"
   ]
  },
  {
   "cell_type": "code",
   "execution_count": 93,
   "metadata": {},
   "outputs": [
    {
     "data": {
      "application/vnd.plotly.v1+json": {
       "config": {
        "plotlyServerURL": "https://plot.ly"
       },
       "data": [
        {
         "hovertemplate": "Airports=TOTAL<br>Periods=%{x}<br>Total Flights=%{y}<extra></extra>",
         "legendgroup": "TOTAL",
         "line": {
          "color": "#636efa",
          "dash": "solid"
         },
         "marker": {
          "symbol": "circle"
         },
         "mode": "markers+lines",
         "name": "TOTAL",
         "orientation": "v",
         "showlegend": true,
         "type": "scatter",
         "x": [
          "2019MM01",
          "2019MM02",
          "2019MM03",
          "2019MM04",
          "2019MM05",
          "2019MM06",
          "2019MM07",
          "2019MM08",
          "2019MM09",
          "2019MM10",
          "2019MM11",
          "2019MM12",
          "2020MM01",
          "2020MM02",
          "2020MM03",
          "2020MM04",
          "2020MM05",
          "2020MM06",
          "2020MM07",
          "2020MM08",
          "2020MM09",
          "2020MM10",
          "2020MM11",
          "2020MM12",
          "2021MM01",
          "2021MM02",
          "2021MM03",
          "2021MM04",
          "2021MM05",
          "2021MM06",
          "2021MM07",
          "2021MM08",
          "2021MM09",
          "2021MM10",
          "2021MM11",
          "2021MM12",
          "2022MM01",
          "2022MM02",
          "2022MM03",
          "2022MM04",
          "2022MM05",
          "2022MM06",
          "2022MM07",
          "2022MM08",
          "2022MM09",
          "2022MM10",
          "2022MM11",
          "2022MM12",
          "2023MM01",
          "2023MM02",
          "2023MM03",
          "2023MM04",
          "2023MM05",
          "2023MM06",
          "2023MM07",
          "2023MM08"
         ],
         "xaxis": "x",
         "y": [
          41285,
          39204,
          44649,
          47934,
          51719,
          50135,
          51786,
          52127,
          51091,
          51135,
          42195,
          42771,
          41768,
          39299,
          28306,
          4759,
          6556,
          9336,
          19701,
          27575,
          25290,
          22028,
          16283,
          17325,
          15907,
          11528,
          13228,
          14891,
          16987,
          21701,
          33916,
          37282,
          35262,
          36465,
          32026,
          33869,
          29604,
          27456,
          34568,
          38824,
          44823,
          43248,
          43218,
          44862,
          43523,
          42909,
          34597,
          34968,
          34322,
          32416,
          38044,
          41609,
          45469,
          44638,
          47556,
          48111
         ],
         "yaxis": "y"
        },
        {
         "hovertemplate": "Airports=Schiphol<br>Periods=%{x}<br>Total Flights=%{y}<extra></extra>",
         "legendgroup": "Schiphol",
         "line": {
          "color": "#EF553B",
          "dash": "solid"
         },
         "marker": {
          "symbol": "diamond"
         },
         "mode": "markers+lines",
         "name": "Schiphol",
         "orientation": "v",
         "showlegend": true,
         "type": "scatter",
         "x": [
          "2019MM01",
          "2019MM02",
          "2019MM03",
          "2019MM04",
          "2019MM05",
          "2019MM06",
          "2019MM07",
          "2019MM08",
          "2019MM09",
          "2019MM10",
          "2019MM11",
          "2019MM12",
          "2020MM01",
          "2020MM02",
          "2020MM03",
          "2020MM04",
          "2020MM05",
          "2020MM06",
          "2020MM07",
          "2020MM08",
          "2020MM09",
          "2020MM10",
          "2020MM11",
          "2020MM12",
          "2021MM01",
          "2021MM02",
          "2021MM03",
          "2021MM04",
          "2021MM05",
          "2021MM06",
          "2021MM07",
          "2021MM08",
          "2021MM09",
          "2021MM10",
          "2021MM11",
          "2021MM12",
          "2022MM01",
          "2022MM02",
          "2022MM03",
          "2022MM04",
          "2022MM05",
          "2022MM06",
          "2022MM07",
          "2022MM08",
          "2022MM09",
          "2022MM10",
          "2022MM11",
          "2022MM12",
          "2023MM01",
          "2023MM02",
          "2023MM03",
          "2023MM04",
          "2023MM05",
          "2023MM06",
          "2023MM07",
          "2023MM08"
         ],
         "xaxis": "x",
         "y": [
          37185,
          35195,
          39785,
          41892,
          44706,
          43348,
          44736,
          45122,
          44131,
          44502,
          37800,
          38425,
          37567,
          34979,
          25155,
          4236,
          5873,
          8108,
          15702,
          23125,
          22162,
          19614,
          14858,
          15896,
          14666,
          10655,
          12217,
          13720,
          15576,
          19195,
          29141,
          31847,
          30019,
          31324,
          28371,
          30225,
          26231,
          24129,
          30382,
          33421,
          38419,
          36919,
          36000,
          37730,
          37027,
          36361,
          30348,
          30669,
          29987,
          28345,
          33128,
          36258,
          39568,
          38912,
          40965,
          41584
         ],
         "yaxis": "y"
        },
        {
         "hovertemplate": "Airports=Rotterdam The Hague<br>Periods=%{x}<br>Total Flights=%{y}<extra></extra>",
         "legendgroup": "Rotterdam The Hague",
         "line": {
          "color": "#00cc96",
          "dash": "solid"
         },
         "marker": {
          "symbol": "square"
         },
         "mode": "markers+lines",
         "name": "Rotterdam The Hague",
         "orientation": "v",
         "showlegend": true,
         "type": "scatter",
         "x": [
          "2019MM01",
          "2019MM02",
          "2019MM03",
          "2019MM04",
          "2019MM05",
          "2019MM06",
          "2019MM07",
          "2019MM08",
          "2019MM09",
          "2019MM10",
          "2019MM11",
          "2019MM12",
          "2020MM01",
          "2020MM02",
          "2020MM03",
          "2020MM04",
          "2020MM05",
          "2020MM06",
          "2020MM07",
          "2020MM08",
          "2020MM09",
          "2020MM10",
          "2020MM11",
          "2020MM12",
          "2021MM01",
          "2021MM02",
          "2021MM03",
          "2021MM04",
          "2021MM05",
          "2021MM06",
          "2021MM07",
          "2021MM08",
          "2021MM09",
          "2021MM10",
          "2021MM11",
          "2021MM12",
          "2022MM01",
          "2022MM02",
          "2022MM03",
          "2022MM04",
          "2022MM05",
          "2022MM06",
          "2022MM07",
          "2022MM08",
          "2022MM09",
          "2022MM10",
          "2022MM11",
          "2022MM12",
          "2023MM01",
          "2023MM02",
          "2023MM03",
          "2023MM04",
          "2023MM05",
          "2023MM06",
          "2023MM07",
          "2023MM08"
         ],
         "xaxis": "x",
         "y": [
          938,
          978,
          1286,
          1556,
          2011,
          1943,
          2039,
          2099,
          1997,
          1771,
          910,
          878,
          963,
          1031,
          748,
          41,
          46,
          168,
          1032,
          1071,
          635,
          353,
          134,
          115,
          181,
          144,
          185,
          195,
          267,
          579,
          1312,
          1516,
          1410,
          1303,
          674,
          541,
          734,
          699,
          989,
          1437,
          1974,
          1858,
          2465,
          2353,
          1927,
          1914,
          1037,
          996,
          1052,
          1108,
          1455,
          1469,
          1851,
          1826,
          2025,
          1962
         ],
         "yaxis": "y"
        },
        {
         "hovertemplate": "Airports=Eindhoven<br>Periods=%{x}<br>Total Flights=%{y}<extra></extra>",
         "legendgroup": "Eindhoven",
         "line": {
          "color": "#ab63fa",
          "dash": "solid"
         },
         "marker": {
          "symbol": "x"
         },
         "mode": "markers+lines",
         "name": "Eindhoven",
         "orientation": "v",
         "showlegend": true,
         "type": "scatter",
         "x": [
          "2019MM01",
          "2019MM02",
          "2019MM03",
          "2019MM04",
          "2019MM05",
          "2019MM06",
          "2019MM07",
          "2019MM08",
          "2019MM09",
          "2019MM10",
          "2019MM11",
          "2019MM12",
          "2020MM01",
          "2020MM02",
          "2020MM03",
          "2020MM04",
          "2020MM05",
          "2020MM06",
          "2020MM07",
          "2020MM08",
          "2020MM09",
          "2020MM10",
          "2020MM11",
          "2020MM12",
          "2021MM01",
          "2021MM02",
          "2021MM03",
          "2021MM04",
          "2021MM05",
          "2021MM06",
          "2021MM07",
          "2021MM08",
          "2021MM09",
          "2021MM10",
          "2021MM11",
          "2021MM12",
          "2022MM01",
          "2022MM02",
          "2022MM03",
          "2022MM04",
          "2022MM05",
          "2022MM06",
          "2022MM07",
          "2022MM08",
          "2022MM09",
          "2022MM10",
          "2022MM11",
          "2022MM12",
          "2023MM01",
          "2023MM02",
          "2023MM03",
          "2023MM04",
          "2023MM05",
          "2023MM06",
          "2023MM07",
          "2023MM08"
         ],
         "xaxis": "x",
         "y": [
          2579,
          2417,
          2854,
          3573,
          3933,
          3836,
          3922,
          3933,
          3913,
          3870,
          2641,
          2738,
          2554,
          2649,
          1888,
          148,
          178,
          565,
          2292,
          2713,
          1947,
          1451,
          721,
          769,
          572,
          169,
          226,
          373,
          562,
          1428,
          2779,
          3245,
          3112,
          3097,
          2390,
          2571,
          2133,
          2151,
          2700,
          3390,
          3768,
          3724,
          3909,
          3948,
          3800,
          3935,
          2683,
          2838,
          2843,
          2565,
          2970,
          3495,
          3864,
          3774,
          3915,
          3929
         ],
         "yaxis": "y"
        },
        {
         "hovertemplate": "Airports=Maastricht Aachen<br>Periods=%{x}<br>Total Flights=%{y}<extra></extra>",
         "legendgroup": "Maastricht Aachen",
         "line": {
          "color": "#FFA15A",
          "dash": "solid"
         },
         "marker": {
          "symbol": "cross"
         },
         "mode": "markers+lines",
         "name": "Maastricht Aachen",
         "orientation": "v",
         "showlegend": true,
         "type": "scatter",
         "x": [
          "2019MM01",
          "2019MM02",
          "2019MM03",
          "2019MM04",
          "2019MM05",
          "2019MM06",
          "2019MM07",
          "2019MM08",
          "2019MM09",
          "2019MM10",
          "2019MM11",
          "2019MM12",
          "2020MM01",
          "2020MM02",
          "2020MM03",
          "2020MM04",
          "2020MM05",
          "2020MM06",
          "2020MM07",
          "2020MM08",
          "2020MM09",
          "2020MM10",
          "2020MM11",
          "2020MM12",
          "2021MM01",
          "2021MM02",
          "2021MM03",
          "2021MM04",
          "2021MM05",
          "2021MM06",
          "2021MM07",
          "2021MM08",
          "2021MM09",
          "2021MM10",
          "2021MM11",
          "2021MM12",
          "2022MM01",
          "2022MM02",
          "2022MM03",
          "2022MM04",
          "2022MM05",
          "2022MM06",
          "2022MM07",
          "2022MM08",
          "2022MM09",
          "2022MM10",
          "2022MM11",
          "2022MM12",
          "2023MM01",
          "2023MM02",
          "2023MM03",
          "2023MM04",
          "2023MM05",
          "2023MM06",
          "2023MM07",
          "2023MM08"
         ],
         "xaxis": "x",
         "y": [
          413,
          456,
          454,
          622,
          723,
          678,
          808,
          713,
          641,
          616,
          564,
          511,
          474,
          476,
          485,
          329,
          452,
          489,
          621,
          615,
          516,
          587,
          548,
          535,
          468,
          537,
          560,
          563,
          555,
          460,
          583,
          600,
          623,
          656,
          523,
          473,
          431,
          398,
          434,
          514,
          542,
          599,
          712,
          696,
          640,
          587,
          460,
          396,
          376,
          331,
          423,
          326,
          60,
          0,
          525,
          479
         ],
         "yaxis": "y"
        },
        {
         "hovertemplate": "Airports=Groningen<br>Periods=%{x}<br>Total Flights=%{y}<extra></extra>",
         "legendgroup": "Groningen",
         "line": {
          "color": "#19d3f3",
          "dash": "solid"
         },
         "marker": {
          "symbol": "circle"
         },
         "mode": "markers+lines",
         "name": "Groningen",
         "orientation": "v",
         "showlegend": true,
         "type": "scatter",
         "x": [
          "2019MM01",
          "2019MM02",
          "2019MM03",
          "2019MM04",
          "2019MM05",
          "2019MM06",
          "2019MM07",
          "2019MM08",
          "2019MM09",
          "2019MM10",
          "2019MM11",
          "2019MM12",
          "2020MM01",
          "2020MM02",
          "2020MM03",
          "2020MM04",
          "2020MM05",
          "2020MM06",
          "2020MM07",
          "2020MM08",
          "2020MM09",
          "2020MM10",
          "2020MM11",
          "2020MM12",
          "2021MM01",
          "2021MM02",
          "2021MM03",
          "2021MM04",
          "2021MM05",
          "2021MM06",
          "2021MM07",
          "2021MM08",
          "2021MM09",
          "2021MM10",
          "2021MM11",
          "2021MM12",
          "2022MM01",
          "2022MM02",
          "2022MM03",
          "2022MM04",
          "2022MM05",
          "2022MM06",
          "2022MM07",
          "2022MM08",
          "2022MM09",
          "2022MM10",
          "2022MM11",
          "2022MM12",
          "2023MM01",
          "2023MM02",
          "2023MM03",
          "2023MM04",
          "2023MM05",
          "2023MM06",
          "2023MM07",
          "2023MM08"
         ],
         "xaxis": "x",
         "y": [
          170,
          158,
          270,
          291,
          346,
          330,
          281,
          260,
          409,
          376,
          280,
          219,
          210,
          164,
          30,
          5,
          7,
          6,
          54,
          51,
          30,
          23,
          22,
          10,
          20,
          23,
          40,
          40,
          27,
          39,
          101,
          74,
          98,
          85,
          68,
          59,
          75,
          79,
          63,
          62,
          120,
          148,
          132,
          135,
          129,
          112,
          69,
          69,
          64,
          67,
          68,
          61,
          126,
          126,
          126,
          157
         ],
         "yaxis": "y"
        }
       ],
       "layout": {
        "height": 600,
        "legend": {
         "title": {
          "text": "Airports"
         },
         "tracegroupgap": 0
        },
        "margin": {
         "t": 60
        },
        "template": {
         "data": {
          "bar": [
           {
            "error_x": {
             "color": "#2a3f5f"
            },
            "error_y": {
             "color": "#2a3f5f"
            },
            "marker": {
             "line": {
              "color": "#E5ECF6",
              "width": 0.5
             },
             "pattern": {
              "fillmode": "overlay",
              "size": 10,
              "solidity": 0.2
             }
            },
            "type": "bar"
           }
          ],
          "barpolar": [
           {
            "marker": {
             "line": {
              "color": "#E5ECF6",
              "width": 0.5
             },
             "pattern": {
              "fillmode": "overlay",
              "size": 10,
              "solidity": 0.2
             }
            },
            "type": "barpolar"
           }
          ],
          "carpet": [
           {
            "aaxis": {
             "endlinecolor": "#2a3f5f",
             "gridcolor": "white",
             "linecolor": "white",
             "minorgridcolor": "white",
             "startlinecolor": "#2a3f5f"
            },
            "baxis": {
             "endlinecolor": "#2a3f5f",
             "gridcolor": "white",
             "linecolor": "white",
             "minorgridcolor": "white",
             "startlinecolor": "#2a3f5f"
            },
            "type": "carpet"
           }
          ],
          "choropleth": [
           {
            "colorbar": {
             "outlinewidth": 0,
             "ticks": ""
            },
            "type": "choropleth"
           }
          ],
          "contour": [
           {
            "colorbar": {
             "outlinewidth": 0,
             "ticks": ""
            },
            "colorscale": [
             [
              0,
              "#0d0887"
             ],
             [
              0.1111111111111111,
              "#46039f"
             ],
             [
              0.2222222222222222,
              "#7201a8"
             ],
             [
              0.3333333333333333,
              "#9c179e"
             ],
             [
              0.4444444444444444,
              "#bd3786"
             ],
             [
              0.5555555555555556,
              "#d8576b"
             ],
             [
              0.6666666666666666,
              "#ed7953"
             ],
             [
              0.7777777777777778,
              "#fb9f3a"
             ],
             [
              0.8888888888888888,
              "#fdca26"
             ],
             [
              1,
              "#f0f921"
             ]
            ],
            "type": "contour"
           }
          ],
          "contourcarpet": [
           {
            "colorbar": {
             "outlinewidth": 0,
             "ticks": ""
            },
            "type": "contourcarpet"
           }
          ],
          "heatmap": [
           {
            "colorbar": {
             "outlinewidth": 0,
             "ticks": ""
            },
            "colorscale": [
             [
              0,
              "#0d0887"
             ],
             [
              0.1111111111111111,
              "#46039f"
             ],
             [
              0.2222222222222222,
              "#7201a8"
             ],
             [
              0.3333333333333333,
              "#9c179e"
             ],
             [
              0.4444444444444444,
              "#bd3786"
             ],
             [
              0.5555555555555556,
              "#d8576b"
             ],
             [
              0.6666666666666666,
              "#ed7953"
             ],
             [
              0.7777777777777778,
              "#fb9f3a"
             ],
             [
              0.8888888888888888,
              "#fdca26"
             ],
             [
              1,
              "#f0f921"
             ]
            ],
            "type": "heatmap"
           }
          ],
          "heatmapgl": [
           {
            "colorbar": {
             "outlinewidth": 0,
             "ticks": ""
            },
            "colorscale": [
             [
              0,
              "#0d0887"
             ],
             [
              0.1111111111111111,
              "#46039f"
             ],
             [
              0.2222222222222222,
              "#7201a8"
             ],
             [
              0.3333333333333333,
              "#9c179e"
             ],
             [
              0.4444444444444444,
              "#bd3786"
             ],
             [
              0.5555555555555556,
              "#d8576b"
             ],
             [
              0.6666666666666666,
              "#ed7953"
             ],
             [
              0.7777777777777778,
              "#fb9f3a"
             ],
             [
              0.8888888888888888,
              "#fdca26"
             ],
             [
              1,
              "#f0f921"
             ]
            ],
            "type": "heatmapgl"
           }
          ],
          "histogram": [
           {
            "marker": {
             "pattern": {
              "fillmode": "overlay",
              "size": 10,
              "solidity": 0.2
             }
            },
            "type": "histogram"
           }
          ],
          "histogram2d": [
           {
            "colorbar": {
             "outlinewidth": 0,
             "ticks": ""
            },
            "colorscale": [
             [
              0,
              "#0d0887"
             ],
             [
              0.1111111111111111,
              "#46039f"
             ],
             [
              0.2222222222222222,
              "#7201a8"
             ],
             [
              0.3333333333333333,
              "#9c179e"
             ],
             [
              0.4444444444444444,
              "#bd3786"
             ],
             [
              0.5555555555555556,
              "#d8576b"
             ],
             [
              0.6666666666666666,
              "#ed7953"
             ],
             [
              0.7777777777777778,
              "#fb9f3a"
             ],
             [
              0.8888888888888888,
              "#fdca26"
             ],
             [
              1,
              "#f0f921"
             ]
            ],
            "type": "histogram2d"
           }
          ],
          "histogram2dcontour": [
           {
            "colorbar": {
             "outlinewidth": 0,
             "ticks": ""
            },
            "colorscale": [
             [
              0,
              "#0d0887"
             ],
             [
              0.1111111111111111,
              "#46039f"
             ],
             [
              0.2222222222222222,
              "#7201a8"
             ],
             [
              0.3333333333333333,
              "#9c179e"
             ],
             [
              0.4444444444444444,
              "#bd3786"
             ],
             [
              0.5555555555555556,
              "#d8576b"
             ],
             [
              0.6666666666666666,
              "#ed7953"
             ],
             [
              0.7777777777777778,
              "#fb9f3a"
             ],
             [
              0.8888888888888888,
              "#fdca26"
             ],
             [
              1,
              "#f0f921"
             ]
            ],
            "type": "histogram2dcontour"
           }
          ],
          "mesh3d": [
           {
            "colorbar": {
             "outlinewidth": 0,
             "ticks": ""
            },
            "type": "mesh3d"
           }
          ],
          "parcoords": [
           {
            "line": {
             "colorbar": {
              "outlinewidth": 0,
              "ticks": ""
             }
            },
            "type": "parcoords"
           }
          ],
          "pie": [
           {
            "automargin": true,
            "type": "pie"
           }
          ],
          "scatter": [
           {
            "fillpattern": {
             "fillmode": "overlay",
             "size": 10,
             "solidity": 0.2
            },
            "type": "scatter"
           }
          ],
          "scatter3d": [
           {
            "line": {
             "colorbar": {
              "outlinewidth": 0,
              "ticks": ""
             }
            },
            "marker": {
             "colorbar": {
              "outlinewidth": 0,
              "ticks": ""
             }
            },
            "type": "scatter3d"
           }
          ],
          "scattercarpet": [
           {
            "marker": {
             "colorbar": {
              "outlinewidth": 0,
              "ticks": ""
             }
            },
            "type": "scattercarpet"
           }
          ],
          "scattergeo": [
           {
            "marker": {
             "colorbar": {
              "outlinewidth": 0,
              "ticks": ""
             }
            },
            "type": "scattergeo"
           }
          ],
          "scattergl": [
           {
            "marker": {
             "colorbar": {
              "outlinewidth": 0,
              "ticks": ""
             }
            },
            "type": "scattergl"
           }
          ],
          "scattermapbox": [
           {
            "marker": {
             "colorbar": {
              "outlinewidth": 0,
              "ticks": ""
             }
            },
            "type": "scattermapbox"
           }
          ],
          "scatterpolar": [
           {
            "marker": {
             "colorbar": {
              "outlinewidth": 0,
              "ticks": ""
             }
            },
            "type": "scatterpolar"
           }
          ],
          "scatterpolargl": [
           {
            "marker": {
             "colorbar": {
              "outlinewidth": 0,
              "ticks": ""
             }
            },
            "type": "scatterpolargl"
           }
          ],
          "scatterternary": [
           {
            "marker": {
             "colorbar": {
              "outlinewidth": 0,
              "ticks": ""
             }
            },
            "type": "scatterternary"
           }
          ],
          "surface": [
           {
            "colorbar": {
             "outlinewidth": 0,
             "ticks": ""
            },
            "colorscale": [
             [
              0,
              "#0d0887"
             ],
             [
              0.1111111111111111,
              "#46039f"
             ],
             [
              0.2222222222222222,
              "#7201a8"
             ],
             [
              0.3333333333333333,
              "#9c179e"
             ],
             [
              0.4444444444444444,
              "#bd3786"
             ],
             [
              0.5555555555555556,
              "#d8576b"
             ],
             [
              0.6666666666666666,
              "#ed7953"
             ],
             [
              0.7777777777777778,
              "#fb9f3a"
             ],
             [
              0.8888888888888888,
              "#fdca26"
             ],
             [
              1,
              "#f0f921"
             ]
            ],
            "type": "surface"
           }
          ],
          "table": [
           {
            "cells": {
             "fill": {
              "color": "#EBF0F8"
             },
             "line": {
              "color": "white"
             }
            },
            "header": {
             "fill": {
              "color": "#C8D4E3"
             },
             "line": {
              "color": "white"
             }
            },
            "type": "table"
           }
          ]
         },
         "layout": {
          "annotationdefaults": {
           "arrowcolor": "#2a3f5f",
           "arrowhead": 0,
           "arrowwidth": 1
          },
          "autotypenumbers": "strict",
          "coloraxis": {
           "colorbar": {
            "outlinewidth": 0,
            "ticks": ""
           }
          },
          "colorscale": {
           "diverging": [
            [
             0,
             "#8e0152"
            ],
            [
             0.1,
             "#c51b7d"
            ],
            [
             0.2,
             "#de77ae"
            ],
            [
             0.3,
             "#f1b6da"
            ],
            [
             0.4,
             "#fde0ef"
            ],
            [
             0.5,
             "#f7f7f7"
            ],
            [
             0.6,
             "#e6f5d0"
            ],
            [
             0.7,
             "#b8e186"
            ],
            [
             0.8,
             "#7fbc41"
            ],
            [
             0.9,
             "#4d9221"
            ],
            [
             1,
             "#276419"
            ]
           ],
           "sequential": [
            [
             0,
             "#0d0887"
            ],
            [
             0.1111111111111111,
             "#46039f"
            ],
            [
             0.2222222222222222,
             "#7201a8"
            ],
            [
             0.3333333333333333,
             "#9c179e"
            ],
            [
             0.4444444444444444,
             "#bd3786"
            ],
            [
             0.5555555555555556,
             "#d8576b"
            ],
            [
             0.6666666666666666,
             "#ed7953"
            ],
            [
             0.7777777777777778,
             "#fb9f3a"
            ],
            [
             0.8888888888888888,
             "#fdca26"
            ],
            [
             1,
             "#f0f921"
            ]
           ],
           "sequentialminus": [
            [
             0,
             "#0d0887"
            ],
            [
             0.1111111111111111,
             "#46039f"
            ],
            [
             0.2222222222222222,
             "#7201a8"
            ],
            [
             0.3333333333333333,
             "#9c179e"
            ],
            [
             0.4444444444444444,
             "#bd3786"
            ],
            [
             0.5555555555555556,
             "#d8576b"
            ],
            [
             0.6666666666666666,
             "#ed7953"
            ],
            [
             0.7777777777777778,
             "#fb9f3a"
            ],
            [
             0.8888888888888888,
             "#fdca26"
            ],
            [
             1,
             "#f0f921"
            ]
           ]
          },
          "colorway": [
           "#636efa",
           "#EF553B",
           "#00cc96",
           "#ab63fa",
           "#FFA15A",
           "#19d3f3",
           "#FF6692",
           "#B6E880",
           "#FF97FF",
           "#FECB52"
          ],
          "font": {
           "color": "#2a3f5f"
          },
          "geo": {
           "bgcolor": "white",
           "lakecolor": "white",
           "landcolor": "#E5ECF6",
           "showlakes": true,
           "showland": true,
           "subunitcolor": "white"
          },
          "hoverlabel": {
           "align": "left"
          },
          "hovermode": "closest",
          "mapbox": {
           "style": "light"
          },
          "paper_bgcolor": "white",
          "plot_bgcolor": "#E5ECF6",
          "polar": {
           "angularaxis": {
            "gridcolor": "white",
            "linecolor": "white",
            "ticks": ""
           },
           "bgcolor": "#E5ECF6",
           "radialaxis": {
            "gridcolor": "white",
            "linecolor": "white",
            "ticks": ""
           }
          },
          "scene": {
           "xaxis": {
            "backgroundcolor": "#E5ECF6",
            "gridcolor": "white",
            "gridwidth": 2,
            "linecolor": "white",
            "showbackground": true,
            "ticks": "",
            "zerolinecolor": "white"
           },
           "yaxis": {
            "backgroundcolor": "#E5ECF6",
            "gridcolor": "white",
            "gridwidth": 2,
            "linecolor": "white",
            "showbackground": true,
            "ticks": "",
            "zerolinecolor": "white"
           },
           "zaxis": {
            "backgroundcolor": "#E5ECF6",
            "gridcolor": "white",
            "gridwidth": 2,
            "linecolor": "white",
            "showbackground": true,
            "ticks": "",
            "zerolinecolor": "white"
           }
          },
          "shapedefaults": {
           "line": {
            "color": "#2a3f5f"
           }
          },
          "ternary": {
           "aaxis": {
            "gridcolor": "white",
            "linecolor": "white",
            "ticks": ""
           },
           "baxis": {
            "gridcolor": "white",
            "linecolor": "white",
            "ticks": ""
           },
           "bgcolor": "#E5ECF6",
           "caxis": {
            "gridcolor": "white",
            "linecolor": "white",
            "ticks": ""
           }
          },
          "title": {
           "x": 0.05
          },
          "xaxis": {
           "automargin": true,
           "gridcolor": "white",
           "linecolor": "white",
           "ticks": "",
           "title": {
            "standoff": 15
           },
           "zerolinecolor": "white",
           "zerolinewidth": 2
          },
          "yaxis": {
           "automargin": true,
           "gridcolor": "white",
           "linecolor": "white",
           "ticks": "",
           "title": {
            "standoff": 15
           },
           "zerolinecolor": "white",
           "zerolinewidth": 2
          }
         }
        },
        "title": {
         "text": "Number of total flights per Dutch airport between 2019 and 2023"
        },
        "xaxis": {
         "anchor": "y",
         "domain": [
          0,
          1
         ],
         "title": {
          "text": "Periods"
         }
        },
        "yaxis": {
         "anchor": "x",
         "domain": [
          0,
          1
         ],
         "title": {
          "text": "Total Flights"
         }
        }
       }
      }
     },
     "metadata": {},
     "output_type": "display_data"
    }
   ],
   "source": [
    "# Only select monthly data from 2019 till 2023\n",
    "data_total = data.loc[data['Periods'].str.contains('2019MM|2020MM|2021MM|2022MM|2023MM', case=False, regex=True)]\n",
    "\n",
    "# Make a graph about the total amount of flights\n",
    "figtotal = px.line(data_total, \n",
    "                x = \"Periods\", \n",
    "                y = \"Total Flights\",\n",
    "                color = \"Airports\",\n",
    "                symbol = \"Airports\",\n",
    "                )\n",
    "\n",
    "# Adjust the layout of the graph\n",
    "figtotal.update_layout(\n",
    "                title={'text': 'Number of total flights per Dutch airport between 2019 and 2023'},\n",
    "                height=600,\n",
    "                )\n",
    "\n",
    "# Show graph\n",
    "figtotal.show()"
   ]
  },
  {
   "cell_type": "markdown",
   "metadata": {},
   "source": [
    "<p>In this graph, the total amount of flight is shown. These flights include passenger-, cargo- and mail flights. There are some interesting points, for example the big drop in April 2020, on the graph that will be discussed in later chapters. However, it is very clear that by far most of the flights depart and arrive from Schiphol (red line). This portion is so big, that the other main airports in the Netherlands almost fall into insignificance. Also, the trendline of the total amount of flights of all airports together (blue line) corresponds neathly with Schiphol's trendline. Herefore, it is decided to continue researching only Schiphol Airport and leave the other airports out.</p>\n",
    "\n",
    "<p>Next, the COVID19 data will be analysed and discussed.</p>"
   ]
  },
  {
   "cell_type": "code",
   "execution_count": 94,
   "metadata": {},
   "outputs": [
    {
     "data": {
      "application/vnd.plotly.v1+json": {
       "config": {
        "plotlyServerURL": "https://plot.ly"
       },
       "data": [
        {
         "alignmentgroup": "True",
         "hovertemplate": "x=%{x}<br>y=%{y}<extra></extra>",
         "legendgroup": "",
         "marker": {
          "color": "orange",
          "opacity": 0.8,
          "pattern": {
           "shape": ""
          }
         },
         "name": "",
         "offsetgroup": "",
         "orientation": "v",
         "showlegend": false,
         "textposition": "auto",
         "type": "bar",
         "x": [
          "2020MM03",
          "2020MM04",
          "2020MM05",
          "2020MM06",
          "2020MM07",
          "2020MM08",
          "2020MM10",
          "2020MM11",
          "2020MM12",
          "2021MM01",
          "2021MM02",
          "2021MM04",
          "2021MM05",
          "2021MM06",
          "2021MM07",
          "2021MM08",
          "2021MM10",
          "2021MM11",
          "2021MM12",
          "2022MM01",
          "2022MM02",
          "2022MM04",
          "2022MM05",
          "2022MM06",
          "2022MM07",
          "2022MM08",
          "2022MM10",
          "2022MM11",
          "2022MM12",
          "2023MM01"
         ],
         "xaxis": "x",
         "y": [
          12595,
          26716,
          7126,
          3831,
          4028,
          16365,
          280459,
          172255,
          273309,
          174021,
          109045,
          404434,
          151799,
          35218,
          174793,
          74554,
          189246,
          507820,
          485064,
          1283474,
          1900270,
          1658867,
          36617,
          96703,
          150459,
          49197,
          128033,
          26957,
          26974,
          12103
         ],
         "yaxis": "y"
        }
       ],
       "layout": {
        "barmode": "relative",
        "legend": {
         "tracegroupgap": 0
        },
        "template": {
         "data": {
          "bar": [
           {
            "error_x": {
             "color": "#2a3f5f"
            },
            "error_y": {
             "color": "#2a3f5f"
            },
            "marker": {
             "line": {
              "color": "#E5ECF6",
              "width": 0.5
             },
             "pattern": {
              "fillmode": "overlay",
              "size": 10,
              "solidity": 0.2
             }
            },
            "type": "bar"
           }
          ],
          "barpolar": [
           {
            "marker": {
             "line": {
              "color": "#E5ECF6",
              "width": 0.5
             },
             "pattern": {
              "fillmode": "overlay",
              "size": 10,
              "solidity": 0.2
             }
            },
            "type": "barpolar"
           }
          ],
          "carpet": [
           {
            "aaxis": {
             "endlinecolor": "#2a3f5f",
             "gridcolor": "white",
             "linecolor": "white",
             "minorgridcolor": "white",
             "startlinecolor": "#2a3f5f"
            },
            "baxis": {
             "endlinecolor": "#2a3f5f",
             "gridcolor": "white",
             "linecolor": "white",
             "minorgridcolor": "white",
             "startlinecolor": "#2a3f5f"
            },
            "type": "carpet"
           }
          ],
          "choropleth": [
           {
            "colorbar": {
             "outlinewidth": 0,
             "ticks": ""
            },
            "type": "choropleth"
           }
          ],
          "contour": [
           {
            "colorbar": {
             "outlinewidth": 0,
             "ticks": ""
            },
            "colorscale": [
             [
              0,
              "#0d0887"
             ],
             [
              0.1111111111111111,
              "#46039f"
             ],
             [
              0.2222222222222222,
              "#7201a8"
             ],
             [
              0.3333333333333333,
              "#9c179e"
             ],
             [
              0.4444444444444444,
              "#bd3786"
             ],
             [
              0.5555555555555556,
              "#d8576b"
             ],
             [
              0.6666666666666666,
              "#ed7953"
             ],
             [
              0.7777777777777778,
              "#fb9f3a"
             ],
             [
              0.8888888888888888,
              "#fdca26"
             ],
             [
              1,
              "#f0f921"
             ]
            ],
            "type": "contour"
           }
          ],
          "contourcarpet": [
           {
            "colorbar": {
             "outlinewidth": 0,
             "ticks": ""
            },
            "type": "contourcarpet"
           }
          ],
          "heatmap": [
           {
            "colorbar": {
             "outlinewidth": 0,
             "ticks": ""
            },
            "colorscale": [
             [
              0,
              "#0d0887"
             ],
             [
              0.1111111111111111,
              "#46039f"
             ],
             [
              0.2222222222222222,
              "#7201a8"
             ],
             [
              0.3333333333333333,
              "#9c179e"
             ],
             [
              0.4444444444444444,
              "#bd3786"
             ],
             [
              0.5555555555555556,
              "#d8576b"
             ],
             [
              0.6666666666666666,
              "#ed7953"
             ],
             [
              0.7777777777777778,
              "#fb9f3a"
             ],
             [
              0.8888888888888888,
              "#fdca26"
             ],
             [
              1,
              "#f0f921"
             ]
            ],
            "type": "heatmap"
           }
          ],
          "heatmapgl": [
           {
            "colorbar": {
             "outlinewidth": 0,
             "ticks": ""
            },
            "colorscale": [
             [
              0,
              "#0d0887"
             ],
             [
              0.1111111111111111,
              "#46039f"
             ],
             [
              0.2222222222222222,
              "#7201a8"
             ],
             [
              0.3333333333333333,
              "#9c179e"
             ],
             [
              0.4444444444444444,
              "#bd3786"
             ],
             [
              0.5555555555555556,
              "#d8576b"
             ],
             [
              0.6666666666666666,
              "#ed7953"
             ],
             [
              0.7777777777777778,
              "#fb9f3a"
             ],
             [
              0.8888888888888888,
              "#fdca26"
             ],
             [
              1,
              "#f0f921"
             ]
            ],
            "type": "heatmapgl"
           }
          ],
          "histogram": [
           {
            "marker": {
             "pattern": {
              "fillmode": "overlay",
              "size": 10,
              "solidity": 0.2
             }
            },
            "type": "histogram"
           }
          ],
          "histogram2d": [
           {
            "colorbar": {
             "outlinewidth": 0,
             "ticks": ""
            },
            "colorscale": [
             [
              0,
              "#0d0887"
             ],
             [
              0.1111111111111111,
              "#46039f"
             ],
             [
              0.2222222222222222,
              "#7201a8"
             ],
             [
              0.3333333333333333,
              "#9c179e"
             ],
             [
              0.4444444444444444,
              "#bd3786"
             ],
             [
              0.5555555555555556,
              "#d8576b"
             ],
             [
              0.6666666666666666,
              "#ed7953"
             ],
             [
              0.7777777777777778,
              "#fb9f3a"
             ],
             [
              0.8888888888888888,
              "#fdca26"
             ],
             [
              1,
              "#f0f921"
             ]
            ],
            "type": "histogram2d"
           }
          ],
          "histogram2dcontour": [
           {
            "colorbar": {
             "outlinewidth": 0,
             "ticks": ""
            },
            "colorscale": [
             [
              0,
              "#0d0887"
             ],
             [
              0.1111111111111111,
              "#46039f"
             ],
             [
              0.2222222222222222,
              "#7201a8"
             ],
             [
              0.3333333333333333,
              "#9c179e"
             ],
             [
              0.4444444444444444,
              "#bd3786"
             ],
             [
              0.5555555555555556,
              "#d8576b"
             ],
             [
              0.6666666666666666,
              "#ed7953"
             ],
             [
              0.7777777777777778,
              "#fb9f3a"
             ],
             [
              0.8888888888888888,
              "#fdca26"
             ],
             [
              1,
              "#f0f921"
             ]
            ],
            "type": "histogram2dcontour"
           }
          ],
          "mesh3d": [
           {
            "colorbar": {
             "outlinewidth": 0,
             "ticks": ""
            },
            "type": "mesh3d"
           }
          ],
          "parcoords": [
           {
            "line": {
             "colorbar": {
              "outlinewidth": 0,
              "ticks": ""
             }
            },
            "type": "parcoords"
           }
          ],
          "pie": [
           {
            "automargin": true,
            "type": "pie"
           }
          ],
          "scatter": [
           {
            "fillpattern": {
             "fillmode": "overlay",
             "size": 10,
             "solidity": 0.2
            },
            "type": "scatter"
           }
          ],
          "scatter3d": [
           {
            "line": {
             "colorbar": {
              "outlinewidth": 0,
              "ticks": ""
             }
            },
            "marker": {
             "colorbar": {
              "outlinewidth": 0,
              "ticks": ""
             }
            },
            "type": "scatter3d"
           }
          ],
          "scattercarpet": [
           {
            "marker": {
             "colorbar": {
              "outlinewidth": 0,
              "ticks": ""
             }
            },
            "type": "scattercarpet"
           }
          ],
          "scattergeo": [
           {
            "marker": {
             "colorbar": {
              "outlinewidth": 0,
              "ticks": ""
             }
            },
            "type": "scattergeo"
           }
          ],
          "scattergl": [
           {
            "marker": {
             "colorbar": {
              "outlinewidth": 0,
              "ticks": ""
             }
            },
            "type": "scattergl"
           }
          ],
          "scattermapbox": [
           {
            "marker": {
             "colorbar": {
              "outlinewidth": 0,
              "ticks": ""
             }
            },
            "type": "scattermapbox"
           }
          ],
          "scatterpolar": [
           {
            "marker": {
             "colorbar": {
              "outlinewidth": 0,
              "ticks": ""
             }
            },
            "type": "scatterpolar"
           }
          ],
          "scatterpolargl": [
           {
            "marker": {
             "colorbar": {
              "outlinewidth": 0,
              "ticks": ""
             }
            },
            "type": "scatterpolargl"
           }
          ],
          "scatterternary": [
           {
            "marker": {
             "colorbar": {
              "outlinewidth": 0,
              "ticks": ""
             }
            },
            "type": "scatterternary"
           }
          ],
          "surface": [
           {
            "colorbar": {
             "outlinewidth": 0,
             "ticks": ""
            },
            "colorscale": [
             [
              0,
              "#0d0887"
             ],
             [
              0.1111111111111111,
              "#46039f"
             ],
             [
              0.2222222222222222,
              "#7201a8"
             ],
             [
              0.3333333333333333,
              "#9c179e"
             ],
             [
              0.4444444444444444,
              "#bd3786"
             ],
             [
              0.5555555555555556,
              "#d8576b"
             ],
             [
              0.6666666666666666,
              "#ed7953"
             ],
             [
              0.7777777777777778,
              "#fb9f3a"
             ],
             [
              0.8888888888888888,
              "#fdca26"
             ],
             [
              1,
              "#f0f921"
             ]
            ],
            "type": "surface"
           }
          ],
          "table": [
           {
            "cells": {
             "fill": {
              "color": "#EBF0F8"
             },
             "line": {
              "color": "white"
             }
            },
            "header": {
             "fill": {
              "color": "#C8D4E3"
             },
             "line": {
              "color": "white"
             }
            },
            "type": "table"
           }
          ]
         },
         "layout": {
          "annotationdefaults": {
           "arrowcolor": "#2a3f5f",
           "arrowhead": 0,
           "arrowwidth": 1
          },
          "autotypenumbers": "strict",
          "coloraxis": {
           "colorbar": {
            "outlinewidth": 0,
            "ticks": ""
           }
          },
          "colorscale": {
           "diverging": [
            [
             0,
             "#8e0152"
            ],
            [
             0.1,
             "#c51b7d"
            ],
            [
             0.2,
             "#de77ae"
            ],
            [
             0.3,
             "#f1b6da"
            ],
            [
             0.4,
             "#fde0ef"
            ],
            [
             0.5,
             "#f7f7f7"
            ],
            [
             0.6,
             "#e6f5d0"
            ],
            [
             0.7,
             "#b8e186"
            ],
            [
             0.8,
             "#7fbc41"
            ],
            [
             0.9,
             "#4d9221"
            ],
            [
             1,
             "#276419"
            ]
           ],
           "sequential": [
            [
             0,
             "#0d0887"
            ],
            [
             0.1111111111111111,
             "#46039f"
            ],
            [
             0.2222222222222222,
             "#7201a8"
            ],
            [
             0.3333333333333333,
             "#9c179e"
            ],
            [
             0.4444444444444444,
             "#bd3786"
            ],
            [
             0.5555555555555556,
             "#d8576b"
            ],
            [
             0.6666666666666666,
             "#ed7953"
            ],
            [
             0.7777777777777778,
             "#fb9f3a"
            ],
            [
             0.8888888888888888,
             "#fdca26"
            ],
            [
             1,
             "#f0f921"
            ]
           ],
           "sequentialminus": [
            [
             0,
             "#0d0887"
            ],
            [
             0.1111111111111111,
             "#46039f"
            ],
            [
             0.2222222222222222,
             "#7201a8"
            ],
            [
             0.3333333333333333,
             "#9c179e"
            ],
            [
             0.4444444444444444,
             "#bd3786"
            ],
            [
             0.5555555555555556,
             "#d8576b"
            ],
            [
             0.6666666666666666,
             "#ed7953"
            ],
            [
             0.7777777777777778,
             "#fb9f3a"
            ],
            [
             0.8888888888888888,
             "#fdca26"
            ],
            [
             1,
             "#f0f921"
            ]
           ]
          },
          "colorway": [
           "#636efa",
           "#EF553B",
           "#00cc96",
           "#ab63fa",
           "#FFA15A",
           "#19d3f3",
           "#FF6692",
           "#B6E880",
           "#FF97FF",
           "#FECB52"
          ],
          "font": {
           "color": "#2a3f5f"
          },
          "geo": {
           "bgcolor": "white",
           "lakecolor": "white",
           "landcolor": "#E5ECF6",
           "showlakes": true,
           "showland": true,
           "subunitcolor": "white"
          },
          "hoverlabel": {
           "align": "left"
          },
          "hovermode": "closest",
          "mapbox": {
           "style": "light"
          },
          "paper_bgcolor": "white",
          "plot_bgcolor": "#E5ECF6",
          "polar": {
           "angularaxis": {
            "gridcolor": "white",
            "linecolor": "white",
            "ticks": ""
           },
           "bgcolor": "#E5ECF6",
           "radialaxis": {
            "gridcolor": "white",
            "linecolor": "white",
            "ticks": ""
           }
          },
          "scene": {
           "xaxis": {
            "backgroundcolor": "#E5ECF6",
            "gridcolor": "white",
            "gridwidth": 2,
            "linecolor": "white",
            "showbackground": true,
            "ticks": "",
            "zerolinecolor": "white"
           },
           "yaxis": {
            "backgroundcolor": "#E5ECF6",
            "gridcolor": "white",
            "gridwidth": 2,
            "linecolor": "white",
            "showbackground": true,
            "ticks": "",
            "zerolinecolor": "white"
           },
           "zaxis": {
            "backgroundcolor": "#E5ECF6",
            "gridcolor": "white",
            "gridwidth": 2,
            "linecolor": "white",
            "showbackground": true,
            "ticks": "",
            "zerolinecolor": "white"
           }
          },
          "shapedefaults": {
           "line": {
            "color": "#2a3f5f"
           }
          },
          "ternary": {
           "aaxis": {
            "gridcolor": "white",
            "linecolor": "white",
            "ticks": ""
           },
           "baxis": {
            "gridcolor": "white",
            "linecolor": "white",
            "ticks": ""
           },
           "bgcolor": "#E5ECF6",
           "caxis": {
            "gridcolor": "white",
            "linecolor": "white",
            "ticks": ""
           }
          },
          "title": {
           "x": 0.05
          },
          "xaxis": {
           "automargin": true,
           "gridcolor": "white",
           "linecolor": "white",
           "ticks": "",
           "title": {
            "standoff": 15
           },
           "zerolinecolor": "white",
           "zerolinewidth": 2
          },
          "yaxis": {
           "automargin": true,
           "gridcolor": "white",
           "linecolor": "white",
           "ticks": "",
           "title": {
            "standoff": 15
           },
           "zerolinecolor": "white",
           "zerolinewidth": 2
          }
         }
        },
        "title": {
         "text": "Amount of reported COVID19 cases per month in the Netherlands"
        },
        "xaxis": {
         "anchor": "y",
         "domain": [
          0,
          1
         ],
         "tickangle": 90,
         "title": {
          "text": "Period"
         }
        },
        "yaxis": {
         "anchor": "x",
         "domain": [
          0,
          1
         ],
         "title": {
          "text": "Reported COVID19 cases"
         }
        }
       }
      }
     },
     "metadata": {},
     "output_type": "display_data"
    }
   ],
   "source": [
    "# Import COVID19-data\n",
    "covidfile_path = 'COVID_19_aantallen_gemeente_cumulatief.csv'\n",
    "coviddata = pd.read_csv(covidfile_path, delimiter=';')\n",
    "\n",
    "# The data needs to be filtered. Only data at the last day of each month is needed\n",
    "end_of_months = '2020-03-31|2020-04-30|2020-05-31|2020-06-30|2020-07-31|2020-08-31|\\\n",
    "                2020-09-30|2020-10-31|2020-11-30|2020-12-31|2021-01-31|2021-02-28|\\\n",
    "                2021-03-31|2021-04-30|2021-05-31|2021-06-30|2021-07-31|2021-08-31|\\\n",
    "                2021-09-30|2021-10-31|2021-11-30|2021-12-31|2022-01-31|2022-02-28|\\\n",
    "                2022-03-31|2022-04-30|2022-05-31|2022-06-30|2022-07-31|2022-08-31|\\\n",
    "                2022-09-30|2022-10-31|2022-11-30|2022-12-31|2023-01-31|2023-02-28|\\\n",
    "                2023-03-31|2023-04-30|2023-05-31|2023-06-30|2023-07-31|2023-08-31'\n",
    "\n",
    "coviddf = coviddata[coviddata['Date_of_publication'].str.contains(end_of_months) == True]\n",
    "\n",
    "# Unnecessary columns can be removed\n",
    "coviddf = coviddf.drop(['Version', 'Date_of_report', 'Municipality_code',\n",
    "                        'Municipality_name', 'Hospital_admission', 'Deceased']\n",
    "                        , axis=1\n",
    "                        )\n",
    "\n",
    "# Reset index\n",
    "coviddf = coviddf.reset_index()\n",
    "\n",
    "# Notation of the dates needs to be changed into the notation of the flightdatafile to compare them later on\n",
    "for i in range(len(coviddf)):\n",
    "    date_list = coviddf['Date_of_publication'][i].rstrip('10:00:00').split('-')\n",
    "    new_date = date_list[0] + 'MM' + date_list[1]\n",
    "    coviddf.loc[i, 'Date_of_publication'] = new_date\n",
    "\n",
    "# Calculate the cumulative number of registered COVID19 cases of all municipalities of every month\n",
    "sum = 0\n",
    "date = coviddf['Date_of_publication'][0]\n",
    "cumulative_per_date = {}\n",
    "cumulative = 0\n",
    "sum_last_month = 0\n",
    "\n",
    "for i in range(len(coviddf)):\n",
    "    if coviddf['Date_of_publication'][i] == date:\n",
    "        sum += coviddf['Total_reported'][i]\n",
    "    else:\n",
    "        sum -= cumulative\n",
    "        cumulative += sum\n",
    "        cumulative_per_date.update({date: sum})\n",
    "        date = coviddf['Date_of_publication'][i]\n",
    "        last_sum = sum\n",
    "        sum = 0\n",
    "\n",
    "# Make a graph about the number of registered COVID19 cases\n",
    "figcovid = px.bar(x = cumulative_per_date.keys(),\n",
    "              y = cumulative_per_date.values(),\n",
    "              title = 'Amount of reported COVID19 cases per month in the Netherlands',\n",
    "              color_discrete_sequence = ['orange']*len(cumulative_per_date),\n",
    "              opacity = 0.8\n",
    "            )\n",
    "\n",
    "# Adjust the axes of the graph\n",
    "figcovid.update_xaxes(tickangle=90, title = 'Period')\n",
    "figcovid.update_yaxes(title = 'Reported COVID19 cases')\n",
    "\n",
    "# Show graph\n",
    "figcovid.show()"
   ]
  },
  {
   "cell_type": "markdown",
   "metadata": {},
   "source": [
    "# CHECK WHETHER THIS IS ACTUALLY TRUE!! PEAKS SEEM REASONABLE, BUT ALMOST 14.000 CASES IN THE FORST EVER MONTH IS TOO MUCH! SHOULD BE BELOW/AROUND 4.000\n",
    "\n",
    "Check with:     https://coronadashboard.rijksoverheid.nl/landelijk/positieve-testen"
   ]
  },
  {
   "cell_type": "markdown",
   "metadata": {},
   "source": [
    "<p>In this graph, the total amount of reported COVID19 cases in the Netherlands are shown. The two graphs will now be combined to improve readability. The adjustment for the first graph (narrowing down from all airports to just Schiphol) will be made as well. Also, the three different type of flights will be presented as well.</p>"
   ]
  },
  {
   "cell_type": "code",
   "execution_count": 95,
   "metadata": {},
   "outputs": [
    {
     "data": {
      "application/vnd.plotly.v1+json": {
       "config": {
        "plotlyServerURL": "https://plot.ly"
       },
       "data": [
        {
         "hovertemplate": "Type of movement=Total Flights<br>Period=%{x}<br>Amount in [flights], [pax] or [tons]=%{y}<extra></extra>",
         "legendgroup": "Total Flights",
         "line": {
          "color": "#636efa",
          "dash": "solid"
         },
         "marker": {
          "symbol": "circle"
         },
         "mode": "markers+lines",
         "name": "Total Flights",
         "orientation": "v",
         "showlegend": true,
         "type": "scatter",
         "x": [
          "2019MM01",
          "2019MM02",
          "2019MM03",
          "2019MM04",
          "2019MM05",
          "2019MM06",
          "2019MM07",
          "2019MM08",
          "2019MM09",
          "2019MM10",
          "2019MM11",
          "2019MM12",
          "2020MM01",
          "2020MM02",
          "2020MM03",
          "2020MM04",
          "2020MM05",
          "2020MM06",
          "2020MM07",
          "2020MM08",
          "2020MM09",
          "2020MM10",
          "2020MM11",
          "2020MM12",
          "2021MM01",
          "2021MM02",
          "2021MM03",
          "2021MM04",
          "2021MM05",
          "2021MM06",
          "2021MM07",
          "2021MM08",
          "2021MM09",
          "2021MM10",
          "2021MM11",
          "2021MM12",
          "2022MM01",
          "2022MM02",
          "2022MM03",
          "2022MM04",
          "2022MM05",
          "2022MM06",
          "2022MM07",
          "2022MM08",
          "2022MM09",
          "2022MM10",
          "2022MM11",
          "2022MM12",
          "2023MM01",
          "2023MM02",
          "2023MM03",
          "2023MM04",
          "2023MM05",
          "2023MM06",
          "2023MM07",
          "2023MM08"
         ],
         "xaxis": "x",
         "y": [
          37185,
          35195,
          39785,
          41892,
          44706,
          43348,
          44736,
          45122,
          44131,
          44502,
          37800,
          38425,
          37567,
          34979,
          25155,
          4236,
          5873,
          8108,
          15702,
          23125,
          22162,
          19614,
          14858,
          15896,
          14666,
          10655,
          12217,
          13720,
          15576,
          19195,
          29141,
          31847,
          30019,
          31324,
          28371,
          30225,
          26231,
          24129,
          30382,
          33421,
          38419,
          36919,
          36000,
          37730,
          37027,
          36361,
          30348,
          30669,
          29987,
          28345,
          33128,
          36258,
          39568,
          38912,
          40965,
          41584
         ],
         "yaxis": "y"
        },
        {
         "hovertemplate": "Type of movement=Total Passengers [pax]<br>Period=%{x}<br>Amount in [flights], [pax] or [tons]=%{y}<extra></extra>",
         "legendgroup": "Total Passengers [pax]",
         "line": {
          "color": "#EF553B",
          "dash": "solid"
         },
         "marker": {
          "symbol": "diamond"
         },
         "mode": "markers+lines",
         "name": "Total Passengers [pax]",
         "orientation": "v",
         "showlegend": true,
         "type": "scatter",
         "x": [
          "2019MM01",
          "2019MM02",
          "2019MM03",
          "2019MM04",
          "2019MM05",
          "2019MM06",
          "2019MM07",
          "2019MM08",
          "2019MM09",
          "2019MM10",
          "2019MM11",
          "2019MM12",
          "2020MM01",
          "2020MM02",
          "2020MM03",
          "2020MM04",
          "2020MM05",
          "2020MM06",
          "2020MM07",
          "2020MM08",
          "2020MM09",
          "2020MM10",
          "2020MM11",
          "2020MM12",
          "2021MM01",
          "2021MM02",
          "2021MM03",
          "2021MM04",
          "2021MM05",
          "2021MM06",
          "2021MM07",
          "2021MM08",
          "2021MM09",
          "2021MM10",
          "2021MM11",
          "2021MM12",
          "2022MM01",
          "2022MM02",
          "2022MM03",
          "2022MM04",
          "2022MM05",
          "2022MM06",
          "2022MM07",
          "2022MM08",
          "2022MM09",
          "2022MM10",
          "2022MM11",
          "2022MM12",
          "2023MM01",
          "2023MM02",
          "2023MM03",
          "2023MM04",
          "2023MM05",
          "2023MM06",
          "2023MM07",
          "2023MM08"
         ],
         "xaxis": "x",
         "y": [
          4996131,
          4836332,
          5630314,
          6104010,
          6441473,
          6502588,
          6724023,
          6810759,
          6493468,
          6431122,
          5323306,
          5386203,
          5074773,
          4719769,
          2476372,
          126015,
          207827,
          471410,
          1338857,
          1854786,
          1337741,
          1143483,
          900434,
          1233043,
          869129,
          505194,
          660176,
          786652,
          1106740,
          1678265,
          3029951,
          3786973,
          3370205,
          3745991,
          3095823,
          2855711,
          2488083,
          2660676,
          3732048,
          4434587,
          5217035,
          5232630,
          5179725,
          5327361,
          5196931,
          4912421,
          3987405,
          4101978,
          3896388,
          3782228,
          4585101,
          5128555,
          5599870,
          5664120,
          6009315,
          6052884
         ],
         "yaxis": "y"
        },
        {
         "hovertemplate": "Type of movement=Total Cargo [tons]<br>Period=%{x}<br>Amount in [flights], [pax] or [tons]=%{y}<extra></extra>",
         "legendgroup": "Total Cargo [tons]",
         "line": {
          "color": "#00cc96",
          "dash": "solid"
         },
         "marker": {
          "symbol": "square"
         },
         "mode": "markers+lines",
         "name": "Total Cargo [tons]",
         "orientation": "v",
         "showlegend": true,
         "type": "scatter",
         "x": [
          "2019MM01",
          "2019MM02",
          "2019MM03",
          "2019MM04",
          "2019MM05",
          "2019MM06",
          "2019MM07",
          "2019MM08",
          "2019MM09",
          "2019MM10",
          "2019MM11",
          "2019MM12",
          "2020MM01",
          "2020MM02",
          "2020MM03",
          "2020MM04",
          "2020MM05",
          "2020MM06",
          "2020MM07",
          "2020MM08",
          "2020MM09",
          "2020MM10",
          "2020MM11",
          "2020MM12",
          "2021MM01",
          "2021MM02",
          "2021MM03",
          "2021MM04",
          "2021MM05",
          "2021MM06",
          "2021MM07",
          "2021MM08",
          "2021MM09",
          "2021MM10",
          "2021MM11",
          "2021MM12",
          "2022MM01",
          "2022MM02",
          "2022MM03",
          "2022MM04",
          "2022MM05",
          "2022MM06",
          "2022MM07",
          "2022MM08",
          "2022MM09",
          "2022MM10",
          "2022MM11",
          "2022MM12",
          "2023MM01",
          "2023MM02",
          "2023MM03",
          "2023MM04",
          "2023MM05",
          "2023MM06",
          "2023MM07",
          "2023MM08"
         ],
         "xaxis": "x",
         "y": [
          122643,
          115797,
          144773,
          126743,
          133648,
          123888,
          129143,
          130581,
          136819,
          143579,
          136256,
          126376,
          113080,
          116293,
          120481,
          93255,
          104745,
          108164,
          119634,
          119975,
          124491,
          140140,
          145474,
          135866,
          133222,
          125137,
          153206,
          141132,
          147017,
          137956,
          130664,
          130844,
          133245,
          149383,
          143831,
          141667,
          122553,
          118274,
          128198,
          116895,
          119478,
          116274,
          120131,
          116876,
          121508,
          125358,
          119074,
          113118,
          103981,
          109035,
          121746,
          113459,
          117999,
          112994,
          113536,
          110126
         ],
         "yaxis": "y"
        },
        {
         "hovertemplate": "Type of movement=Total Mail [tons]<br>Period=%{x}<br>Amount in [flights], [pax] or [tons]=%{y}<extra></extra>",
         "legendgroup": "Total Mail [tons]",
         "line": {
          "color": "#ab63fa",
          "dash": "solid"
         },
         "marker": {
          "symbol": "x"
         },
         "mode": "markers+lines",
         "name": "Total Mail [tons]",
         "orientation": "v",
         "showlegend": true,
         "type": "scatter",
         "x": [
          "2019MM01",
          "2019MM02",
          "2019MM03",
          "2019MM04",
          "2019MM05",
          "2019MM06",
          "2019MM07",
          "2019MM08",
          "2019MM09",
          "2019MM10",
          "2019MM11",
          "2019MM12",
          "2020MM01",
          "2020MM02",
          "2020MM03",
          "2020MM04",
          "2020MM05",
          "2020MM06",
          "2020MM07",
          "2020MM08",
          "2020MM09",
          "2020MM10",
          "2020MM11",
          "2020MM12",
          "2021MM01",
          "2021MM02",
          "2021MM03",
          "2021MM04",
          "2021MM05",
          "2021MM06",
          "2021MM07",
          "2021MM08",
          "2021MM09",
          "2021MM10",
          "2021MM11",
          "2021MM12",
          "2022MM01",
          "2022MM02",
          "2022MM03",
          "2022MM04",
          "2022MM05",
          "2022MM06",
          "2022MM07",
          "2022MM08",
          "2022MM09",
          "2022MM10",
          "2022MM11",
          "2022MM12",
          "2023MM01",
          "2023MM02",
          "2023MM03",
          "2023MM04",
          "2023MM05",
          "2023MM06",
          "2023MM07",
          "2023MM08"
         ],
         "xaxis": "x",
         "y": [
          1615,
          1398,
          1761,
          1747,
          1860,
          1736,
          1876,
          1774,
          1747,
          1974,
          2133,
          2338,
          1908,
          1491,
          1167,
          382,
          542,
          855,
          1083,
          1283,
          1251,
          1521,
          1511,
          1837,
          1403,
          1109,
          1379,
          1258,
          1223,
          1128,
          978,
          1049,
          1002,
          1040,
          943,
          1038,
          827,
          824,
          819,
          688,
          685,
          667,
          584,
          549,
          538,
          465,
          461,
          608,
          478,
          440,
          457,
          430,
          471,
          447,
          407,
          454
         ],
         "yaxis": "y"
        },
        {
         "alignmentgroup": "True",
         "hovertemplate": "x=%{x}<br>y=%{y}<extra></extra>",
         "legendgroup": "",
         "marker": {
          "color": "orange",
          "opacity": 0.8,
          "pattern": {
           "shape": ""
          }
         },
         "name": "",
         "offsetgroup": "",
         "orientation": "v",
         "showlegend": false,
         "textposition": "auto",
         "type": "bar",
         "x": [
          "2020MM03",
          "2020MM04",
          "2020MM05",
          "2020MM06",
          "2020MM07",
          "2020MM08",
          "2020MM10",
          "2020MM11",
          "2020MM12",
          "2021MM01",
          "2021MM02",
          "2021MM04",
          "2021MM05",
          "2021MM06",
          "2021MM07",
          "2021MM08",
          "2021MM10",
          "2021MM11",
          "2021MM12",
          "2022MM01",
          "2022MM02",
          "2022MM04",
          "2022MM05",
          "2022MM06",
          "2022MM07",
          "2022MM08",
          "2022MM10",
          "2022MM11",
          "2022MM12",
          "2023MM01"
         ],
         "xaxis": "x",
         "y": [
          12595,
          26716,
          7126,
          3831,
          4028,
          16365,
          280459,
          172255,
          273309,
          174021,
          109045,
          404434,
          151799,
          35218,
          174793,
          74554,
          189246,
          507820,
          485064,
          1283474,
          1900270,
          1658867,
          36617,
          96703,
          150459,
          49197,
          128033,
          26957,
          26974,
          12103
         ],
         "yaxis": "y"
        }
       ],
       "layout": {
        "legend": {
         "title": {
          "text": "Type of movement"
         },
         "tracegroupgap": 0
        },
        "margin": {
         "t": 60
        },
        "template": {
         "data": {
          "bar": [
           {
            "error_x": {
             "color": "#2a3f5f"
            },
            "error_y": {
             "color": "#2a3f5f"
            },
            "marker": {
             "line": {
              "color": "#E5ECF6",
              "width": 0.5
             },
             "pattern": {
              "fillmode": "overlay",
              "size": 10,
              "solidity": 0.2
             }
            },
            "type": "bar"
           }
          ],
          "barpolar": [
           {
            "marker": {
             "line": {
              "color": "#E5ECF6",
              "width": 0.5
             },
             "pattern": {
              "fillmode": "overlay",
              "size": 10,
              "solidity": 0.2
             }
            },
            "type": "barpolar"
           }
          ],
          "carpet": [
           {
            "aaxis": {
             "endlinecolor": "#2a3f5f",
             "gridcolor": "white",
             "linecolor": "white",
             "minorgridcolor": "white",
             "startlinecolor": "#2a3f5f"
            },
            "baxis": {
             "endlinecolor": "#2a3f5f",
             "gridcolor": "white",
             "linecolor": "white",
             "minorgridcolor": "white",
             "startlinecolor": "#2a3f5f"
            },
            "type": "carpet"
           }
          ],
          "choropleth": [
           {
            "colorbar": {
             "outlinewidth": 0,
             "ticks": ""
            },
            "type": "choropleth"
           }
          ],
          "contour": [
           {
            "colorbar": {
             "outlinewidth": 0,
             "ticks": ""
            },
            "colorscale": [
             [
              0,
              "#0d0887"
             ],
             [
              0.1111111111111111,
              "#46039f"
             ],
             [
              0.2222222222222222,
              "#7201a8"
             ],
             [
              0.3333333333333333,
              "#9c179e"
             ],
             [
              0.4444444444444444,
              "#bd3786"
             ],
             [
              0.5555555555555556,
              "#d8576b"
             ],
             [
              0.6666666666666666,
              "#ed7953"
             ],
             [
              0.7777777777777778,
              "#fb9f3a"
             ],
             [
              0.8888888888888888,
              "#fdca26"
             ],
             [
              1,
              "#f0f921"
             ]
            ],
            "type": "contour"
           }
          ],
          "contourcarpet": [
           {
            "colorbar": {
             "outlinewidth": 0,
             "ticks": ""
            },
            "type": "contourcarpet"
           }
          ],
          "heatmap": [
           {
            "colorbar": {
             "outlinewidth": 0,
             "ticks": ""
            },
            "colorscale": [
             [
              0,
              "#0d0887"
             ],
             [
              0.1111111111111111,
              "#46039f"
             ],
             [
              0.2222222222222222,
              "#7201a8"
             ],
             [
              0.3333333333333333,
              "#9c179e"
             ],
             [
              0.4444444444444444,
              "#bd3786"
             ],
             [
              0.5555555555555556,
              "#d8576b"
             ],
             [
              0.6666666666666666,
              "#ed7953"
             ],
             [
              0.7777777777777778,
              "#fb9f3a"
             ],
             [
              0.8888888888888888,
              "#fdca26"
             ],
             [
              1,
              "#f0f921"
             ]
            ],
            "type": "heatmap"
           }
          ],
          "heatmapgl": [
           {
            "colorbar": {
             "outlinewidth": 0,
             "ticks": ""
            },
            "colorscale": [
             [
              0,
              "#0d0887"
             ],
             [
              0.1111111111111111,
              "#46039f"
             ],
             [
              0.2222222222222222,
              "#7201a8"
             ],
             [
              0.3333333333333333,
              "#9c179e"
             ],
             [
              0.4444444444444444,
              "#bd3786"
             ],
             [
              0.5555555555555556,
              "#d8576b"
             ],
             [
              0.6666666666666666,
              "#ed7953"
             ],
             [
              0.7777777777777778,
              "#fb9f3a"
             ],
             [
              0.8888888888888888,
              "#fdca26"
             ],
             [
              1,
              "#f0f921"
             ]
            ],
            "type": "heatmapgl"
           }
          ],
          "histogram": [
           {
            "marker": {
             "pattern": {
              "fillmode": "overlay",
              "size": 10,
              "solidity": 0.2
             }
            },
            "type": "histogram"
           }
          ],
          "histogram2d": [
           {
            "colorbar": {
             "outlinewidth": 0,
             "ticks": ""
            },
            "colorscale": [
             [
              0,
              "#0d0887"
             ],
             [
              0.1111111111111111,
              "#46039f"
             ],
             [
              0.2222222222222222,
              "#7201a8"
             ],
             [
              0.3333333333333333,
              "#9c179e"
             ],
             [
              0.4444444444444444,
              "#bd3786"
             ],
             [
              0.5555555555555556,
              "#d8576b"
             ],
             [
              0.6666666666666666,
              "#ed7953"
             ],
             [
              0.7777777777777778,
              "#fb9f3a"
             ],
             [
              0.8888888888888888,
              "#fdca26"
             ],
             [
              1,
              "#f0f921"
             ]
            ],
            "type": "histogram2d"
           }
          ],
          "histogram2dcontour": [
           {
            "colorbar": {
             "outlinewidth": 0,
             "ticks": ""
            },
            "colorscale": [
             [
              0,
              "#0d0887"
             ],
             [
              0.1111111111111111,
              "#46039f"
             ],
             [
              0.2222222222222222,
              "#7201a8"
             ],
             [
              0.3333333333333333,
              "#9c179e"
             ],
             [
              0.4444444444444444,
              "#bd3786"
             ],
             [
              0.5555555555555556,
              "#d8576b"
             ],
             [
              0.6666666666666666,
              "#ed7953"
             ],
             [
              0.7777777777777778,
              "#fb9f3a"
             ],
             [
              0.8888888888888888,
              "#fdca26"
             ],
             [
              1,
              "#f0f921"
             ]
            ],
            "type": "histogram2dcontour"
           }
          ],
          "mesh3d": [
           {
            "colorbar": {
             "outlinewidth": 0,
             "ticks": ""
            },
            "type": "mesh3d"
           }
          ],
          "parcoords": [
           {
            "line": {
             "colorbar": {
              "outlinewidth": 0,
              "ticks": ""
             }
            },
            "type": "parcoords"
           }
          ],
          "pie": [
           {
            "automargin": true,
            "type": "pie"
           }
          ],
          "scatter": [
           {
            "fillpattern": {
             "fillmode": "overlay",
             "size": 10,
             "solidity": 0.2
            },
            "type": "scatter"
           }
          ],
          "scatter3d": [
           {
            "line": {
             "colorbar": {
              "outlinewidth": 0,
              "ticks": ""
             }
            },
            "marker": {
             "colorbar": {
              "outlinewidth": 0,
              "ticks": ""
             }
            },
            "type": "scatter3d"
           }
          ],
          "scattercarpet": [
           {
            "marker": {
             "colorbar": {
              "outlinewidth": 0,
              "ticks": ""
             }
            },
            "type": "scattercarpet"
           }
          ],
          "scattergeo": [
           {
            "marker": {
             "colorbar": {
              "outlinewidth": 0,
              "ticks": ""
             }
            },
            "type": "scattergeo"
           }
          ],
          "scattergl": [
           {
            "marker": {
             "colorbar": {
              "outlinewidth": 0,
              "ticks": ""
             }
            },
            "type": "scattergl"
           }
          ],
          "scattermapbox": [
           {
            "marker": {
             "colorbar": {
              "outlinewidth": 0,
              "ticks": ""
             }
            },
            "type": "scattermapbox"
           }
          ],
          "scatterpolar": [
           {
            "marker": {
             "colorbar": {
              "outlinewidth": 0,
              "ticks": ""
             }
            },
            "type": "scatterpolar"
           }
          ],
          "scatterpolargl": [
           {
            "marker": {
             "colorbar": {
              "outlinewidth": 0,
              "ticks": ""
             }
            },
            "type": "scatterpolargl"
           }
          ],
          "scatterternary": [
           {
            "marker": {
             "colorbar": {
              "outlinewidth": 0,
              "ticks": ""
             }
            },
            "type": "scatterternary"
           }
          ],
          "surface": [
           {
            "colorbar": {
             "outlinewidth": 0,
             "ticks": ""
            },
            "colorscale": [
             [
              0,
              "#0d0887"
             ],
             [
              0.1111111111111111,
              "#46039f"
             ],
             [
              0.2222222222222222,
              "#7201a8"
             ],
             [
              0.3333333333333333,
              "#9c179e"
             ],
             [
              0.4444444444444444,
              "#bd3786"
             ],
             [
              0.5555555555555556,
              "#d8576b"
             ],
             [
              0.6666666666666666,
              "#ed7953"
             ],
             [
              0.7777777777777778,
              "#fb9f3a"
             ],
             [
              0.8888888888888888,
              "#fdca26"
             ],
             [
              1,
              "#f0f921"
             ]
            ],
            "type": "surface"
           }
          ],
          "table": [
           {
            "cells": {
             "fill": {
              "color": "#EBF0F8"
             },
             "line": {
              "color": "white"
             }
            },
            "header": {
             "fill": {
              "color": "#C8D4E3"
             },
             "line": {
              "color": "white"
             }
            },
            "type": "table"
           }
          ]
         },
         "layout": {
          "annotationdefaults": {
           "arrowcolor": "#2a3f5f",
           "arrowhead": 0,
           "arrowwidth": 1
          },
          "autotypenumbers": "strict",
          "coloraxis": {
           "colorbar": {
            "outlinewidth": 0,
            "ticks": ""
           }
          },
          "colorscale": {
           "diverging": [
            [
             0,
             "#8e0152"
            ],
            [
             0.1,
             "#c51b7d"
            ],
            [
             0.2,
             "#de77ae"
            ],
            [
             0.3,
             "#f1b6da"
            ],
            [
             0.4,
             "#fde0ef"
            ],
            [
             0.5,
             "#f7f7f7"
            ],
            [
             0.6,
             "#e6f5d0"
            ],
            [
             0.7,
             "#b8e186"
            ],
            [
             0.8,
             "#7fbc41"
            ],
            [
             0.9,
             "#4d9221"
            ],
            [
             1,
             "#276419"
            ]
           ],
           "sequential": [
            [
             0,
             "#0d0887"
            ],
            [
             0.1111111111111111,
             "#46039f"
            ],
            [
             0.2222222222222222,
             "#7201a8"
            ],
            [
             0.3333333333333333,
             "#9c179e"
            ],
            [
             0.4444444444444444,
             "#bd3786"
            ],
            [
             0.5555555555555556,
             "#d8576b"
            ],
            [
             0.6666666666666666,
             "#ed7953"
            ],
            [
             0.7777777777777778,
             "#fb9f3a"
            ],
            [
             0.8888888888888888,
             "#fdca26"
            ],
            [
             1,
             "#f0f921"
            ]
           ],
           "sequentialminus": [
            [
             0,
             "#0d0887"
            ],
            [
             0.1111111111111111,
             "#46039f"
            ],
            [
             0.2222222222222222,
             "#7201a8"
            ],
            [
             0.3333333333333333,
             "#9c179e"
            ],
            [
             0.4444444444444444,
             "#bd3786"
            ],
            [
             0.5555555555555556,
             "#d8576b"
            ],
            [
             0.6666666666666666,
             "#ed7953"
            ],
            [
             0.7777777777777778,
             "#fb9f3a"
            ],
            [
             0.8888888888888888,
             "#fdca26"
            ],
            [
             1,
             "#f0f921"
            ]
           ]
          },
          "colorway": [
           "#636efa",
           "#EF553B",
           "#00cc96",
           "#ab63fa",
           "#FFA15A",
           "#19d3f3",
           "#FF6692",
           "#B6E880",
           "#FF97FF",
           "#FECB52"
          ],
          "font": {
           "color": "#2a3f5f"
          },
          "geo": {
           "bgcolor": "white",
           "lakecolor": "white",
           "landcolor": "#E5ECF6",
           "showlakes": true,
           "showland": true,
           "subunitcolor": "white"
          },
          "hoverlabel": {
           "align": "left"
          },
          "hovermode": "closest",
          "mapbox": {
           "style": "light"
          },
          "paper_bgcolor": "white",
          "plot_bgcolor": "#E5ECF6",
          "polar": {
           "angularaxis": {
            "gridcolor": "white",
            "linecolor": "white",
            "ticks": ""
           },
           "bgcolor": "#E5ECF6",
           "radialaxis": {
            "gridcolor": "white",
            "linecolor": "white",
            "ticks": ""
           }
          },
          "scene": {
           "xaxis": {
            "backgroundcolor": "#E5ECF6",
            "gridcolor": "white",
            "gridwidth": 2,
            "linecolor": "white",
            "showbackground": true,
            "ticks": "",
            "zerolinecolor": "white"
           },
           "yaxis": {
            "backgroundcolor": "#E5ECF6",
            "gridcolor": "white",
            "gridwidth": 2,
            "linecolor": "white",
            "showbackground": true,
            "ticks": "",
            "zerolinecolor": "white"
           },
           "zaxis": {
            "backgroundcolor": "#E5ECF6",
            "gridcolor": "white",
            "gridwidth": 2,
            "linecolor": "white",
            "showbackground": true,
            "ticks": "",
            "zerolinecolor": "white"
           }
          },
          "shapedefaults": {
           "line": {
            "color": "#2a3f5f"
           }
          },
          "ternary": {
           "aaxis": {
            "gridcolor": "white",
            "linecolor": "white",
            "ticks": ""
           },
           "baxis": {
            "gridcolor": "white",
            "linecolor": "white",
            "ticks": ""
           },
           "bgcolor": "#E5ECF6",
           "caxis": {
            "gridcolor": "white",
            "linecolor": "white",
            "ticks": ""
           }
          },
          "title": {
           "x": 0.05
          },
          "xaxis": {
           "automargin": true,
           "gridcolor": "white",
           "linecolor": "white",
           "ticks": "",
           "title": {
            "standoff": 15
           },
           "zerolinecolor": "white",
           "zerolinewidth": 2
          },
          "yaxis": {
           "automargin": true,
           "gridcolor": "white",
           "linecolor": "white",
           "ticks": "",
           "title": {
            "standoff": 15
           },
           "zerolinecolor": "white",
           "zerolinewidth": 2
          }
         }
        },
        "title": {
         "text": "Total number of flights and movements per type at Schiphol, combined with registered COVID19 cases"
        },
        "xaxis": {
         "anchor": "y",
         "domain": [
          0,
          1
         ],
         "title": {
          "text": "Period"
         }
        },
        "yaxis": {
         "anchor": "x",
         "domain": [
          0,
          1
         ],
         "title": {
          "text": "Amount in [flights], [pax] or [tons]"
         },
         "type": "log"
        }
       }
      }
     },
     "metadata": {},
     "output_type": "display_data"
    }
   ],
   "source": [
    "# Select the right columns and rows from the flightdata\n",
    "data_schiphol = data_total.iloc[:, [1, 2, 5, 14, 45, 76]]\n",
    "data_schiphol = data_schiphol.groupby('Airports').get_group('Schiphol')\n",
    "\n",
    "# Data has to be transformed into right format\n",
    "data_schiphol['Total Flights'] = pd.to_numeric(data_schiphol['Total Flights'], errors='coerce')\n",
    "data_schiphol['Total Passengers [pax]'] = pd.to_numeric(data_schiphol['Total Passengers [pax]'], errors='coerce')\n",
    "data_schiphol['Total Cargo [tons]'] = pd.to_numeric(data_schiphol['Total Cargo [tons]'], errors='coerce')\n",
    "data_schiphol['Total Mail [tons]'] = pd.to_numeric(data_schiphol['Total Mail [tons]'], errors='coerce')\n",
    "\n",
    "# Make a graph about the total number of flights and amount of movements of every type\n",
    "figschiphol = px.line(data_schiphol, \n",
    "                x = 'Periods', \n",
    "                y = [\"Total Flights\",\n",
    "                     \"Total Passengers [pax]\",\n",
    "                     \"Total Cargo [tons]\",\n",
    "                     \"Total Mail [tons]\"],\n",
    "                color = \"variable\",\n",
    "                symbol = \"variable\",\n",
    "                log_y = True,   # Set to logarithmic scale to improve readability of the graph\n",
    "                labels = {\n",
    "                    \"Periods\": \"Period\",\n",
    "                    \"value\": \"Amount in [flights], [pax] or [tons]\",\n",
    "                    \"variable\": \"Type of movement\"\n",
    "                    }\n",
    "                )\n",
    "\n",
    "# Add the covidgraph into the schipholgraph\n",
    "for trace in figcovid.data:\n",
    "    figschiphol.add_trace(trace)\n",
    "\n",
    "# Adjust the layout of the graph\n",
    "figschiphol.update_layout(\n",
    "                    title = {'text': 'Total number of flights and movements per type at Schiphol, combined with registered COVID19 cases'}\n",
    "                    )\n",
    "\n",
    "# Show graph\n",
    "figschiphol.show()"
   ]
  },
  {
   "cell_type": "markdown",
   "metadata": {},
   "source": [
    "--PUT THE MAP GRAPH HERE--"
   ]
  },
  {
   "cell_type": "markdown",
   "metadata": {},
   "source": [
    "<p>ANALYSE, include:\n",
    "\n",
    "1. big drop with first lockdown\n",
    "2. First 10 cases was a lot, later 5000 was not much, so less impact on flying\n",
    "3. Cargo remains more or less stable, much less COVID impact\n",
    "4. Total amount of flights drops big time, passengers drop big time, but cargo and mail are both less affected\n",
    "5. still not same amount of flights and passengers as before covid\n",
    "6. mail is still slowly decreasing\n",
    "7. something about map graph </p>\n",
    "\n",
    "<p>In the next chapters, the three different type of movements (passengers, cargo and mail) will be analysed more through.</p>"
   ]
  },
  {
   "cell_type": "markdown",
   "metadata": {},
   "source": [
    "### Chapter 2: Passenger flight patterns"
   ]
  },
  {
   "cell_type": "markdown",
   "metadata": {},
   "source": [
    "<p>In this chapter, the passenger data from Schiphol will be analysed and the subquestions will be answered.</p>"
   ]
  },
  {
   "cell_type": "code",
   "execution_count": 96,
   "metadata": {},
   "outputs": [
    {
     "data": {
      "application/vnd.plotly.v1+json": {
       "config": {
        "plotlyServerURL": "https://plot.ly"
       },
       "data": [
        {
         "hovertemplate": "Arrivals/Departures=Total Arrived Passengers<br>Period=%{x}<br>Amount of passengers=%{y}<extra></extra>",
         "legendgroup": "Total Arrived Passengers",
         "line": {
          "color": "#636efa",
          "dash": "solid"
         },
         "marker": {
          "symbol": "circle"
         },
         "mode": "lines",
         "name": "Total Arrived Passengers",
         "orientation": "v",
         "showlegend": true,
         "type": "scatter",
         "x": [
          "2019MM01",
          "2019MM02",
          "2019MM03",
          "2019MM04",
          "2019MM05",
          "2019MM06",
          "2019MM07",
          "2019MM08",
          "2019MM09",
          "2019MM10",
          "2019MM11",
          "2019MM12",
          "2020MM01",
          "2020MM02",
          "2020MM03",
          "2020MM04",
          "2020MM05",
          "2020MM06",
          "2020MM07",
          "2020MM08",
          "2020MM09",
          "2020MM10",
          "2020MM11",
          "2020MM12",
          "2021MM01",
          "2021MM02",
          "2021MM03",
          "2021MM04",
          "2021MM05",
          "2021MM06",
          "2021MM07",
          "2021MM08",
          "2021MM09",
          "2021MM10",
          "2021MM11",
          "2021MM12",
          "2022MM01",
          "2022MM02",
          "2022MM03",
          "2022MM04",
          "2022MM05",
          "2022MM06",
          "2022MM07",
          "2022MM08",
          "2022MM09",
          "2022MM10",
          "2022MM11",
          "2022MM12",
          "2023MM01",
          "2023MM02",
          "2023MM03",
          "2023MM04",
          "2023MM05",
          "2023MM06",
          "2023MM07",
          "2023MM08"
         ],
         "xaxis": "x",
         "y": [
          2520292,
          2386195,
          2847589,
          2983771,
          3236047,
          3273870,
          3166610,
          3523240,
          3252568,
          3227860,
          2668379,
          2640064,
          2561003,
          2342660,
          1298133,
          70038,
          109314,
          229128,
          608849,
          983983,
          684061,
          576128,
          451046,
          580297,
          463793,
          253143,
          331608,
          386810,
          552079,
          816099,
          1378580,
          2002462,
          1718856,
          1907661,
          1551581,
          1329625,
          1334253,
          1311499,
          1911518,
          2141978,
          2674745,
          2630931,
          2484720,
          2790696,
          2627876,
          2489573,
          2009494,
          1988941,
          1993408,
          1868419,
          2349324,
          2512795,
          2851081,
          2838595,
          2870399,
          3138382
         ],
         "yaxis": "y"
        },
        {
         "hovertemplate": "Arrivals/Departures=Total Departed Passengers<br>Period=%{x}<br>Amount of passengers=%{y}<extra></extra>",
         "legendgroup": "Total Departed Passengers",
         "line": {
          "color": "#EF553B",
          "dash": "solid"
         },
         "marker": {
          "symbol": "circle"
         },
         "mode": "lines",
         "name": "Total Departed Passengers",
         "orientation": "v",
         "showlegend": true,
         "type": "scatter",
         "x": [
          "2019MM01",
          "2019MM02",
          "2019MM03",
          "2019MM04",
          "2019MM05",
          "2019MM06",
          "2019MM07",
          "2019MM08",
          "2019MM09",
          "2019MM10",
          "2019MM11",
          "2019MM12",
          "2020MM01",
          "2020MM02",
          "2020MM03",
          "2020MM04",
          "2020MM05",
          "2020MM06",
          "2020MM07",
          "2020MM08",
          "2020MM09",
          "2020MM10",
          "2020MM11",
          "2020MM12",
          "2021MM01",
          "2021MM02",
          "2021MM03",
          "2021MM04",
          "2021MM05",
          "2021MM06",
          "2021MM07",
          "2021MM08",
          "2021MM09",
          "2021MM10",
          "2021MM11",
          "2021MM12",
          "2022MM01",
          "2022MM02",
          "2022MM03",
          "2022MM04",
          "2022MM05",
          "2022MM06",
          "2022MM07",
          "2022MM08",
          "2022MM09",
          "2022MM10",
          "2022MM11",
          "2022MM12",
          "2023MM01",
          "2023MM02",
          "2023MM03",
          "2023MM04",
          "2023MM05",
          "2023MM06",
          "2023MM07",
          "2023MM08"
         ],
         "xaxis": "x",
         "y": [
          2475839,
          2450137,
          2782725,
          3120239,
          3205426,
          3228718,
          3557413,
          3287519,
          3240900,
          3203262,
          2654927,
          2746139,
          2513770,
          2377109,
          1178239,
          55977,
          98513,
          242282,
          730008,
          870803,
          653680,
          567355,
          449388,
          652746,
          405336,
          252051,
          328568,
          399842,
          554661,
          862166,
          1651371,
          1784511,
          1651349,
          1838330,
          1544242,
          1526086,
          1153830,
          1349177,
          1820530,
          2292609,
          2542290,
          2601699,
          2695005,
          2536665,
          2569055,
          2422848,
          1977911,
          2113037,
          1902980,
          1913809,
          2235777,
          2615760,
          2748789,
          2825525,
          3138916,
          2914502
         ],
         "yaxis": "y"
        }
       ],
       "layout": {
        "legend": {
         "title": {
          "text": "Arrivals/Departures"
         },
         "tracegroupgap": 0
        },
        "margin": {
         "t": 60
        },
        "template": {
         "data": {
          "bar": [
           {
            "error_x": {
             "color": "#2a3f5f"
            },
            "error_y": {
             "color": "#2a3f5f"
            },
            "marker": {
             "line": {
              "color": "#E5ECF6",
              "width": 0.5
             },
             "pattern": {
              "fillmode": "overlay",
              "size": 10,
              "solidity": 0.2
             }
            },
            "type": "bar"
           }
          ],
          "barpolar": [
           {
            "marker": {
             "line": {
              "color": "#E5ECF6",
              "width": 0.5
             },
             "pattern": {
              "fillmode": "overlay",
              "size": 10,
              "solidity": 0.2
             }
            },
            "type": "barpolar"
           }
          ],
          "carpet": [
           {
            "aaxis": {
             "endlinecolor": "#2a3f5f",
             "gridcolor": "white",
             "linecolor": "white",
             "minorgridcolor": "white",
             "startlinecolor": "#2a3f5f"
            },
            "baxis": {
             "endlinecolor": "#2a3f5f",
             "gridcolor": "white",
             "linecolor": "white",
             "minorgridcolor": "white",
             "startlinecolor": "#2a3f5f"
            },
            "type": "carpet"
           }
          ],
          "choropleth": [
           {
            "colorbar": {
             "outlinewidth": 0,
             "ticks": ""
            },
            "type": "choropleth"
           }
          ],
          "contour": [
           {
            "colorbar": {
             "outlinewidth": 0,
             "ticks": ""
            },
            "colorscale": [
             [
              0,
              "#0d0887"
             ],
             [
              0.1111111111111111,
              "#46039f"
             ],
             [
              0.2222222222222222,
              "#7201a8"
             ],
             [
              0.3333333333333333,
              "#9c179e"
             ],
             [
              0.4444444444444444,
              "#bd3786"
             ],
             [
              0.5555555555555556,
              "#d8576b"
             ],
             [
              0.6666666666666666,
              "#ed7953"
             ],
             [
              0.7777777777777778,
              "#fb9f3a"
             ],
             [
              0.8888888888888888,
              "#fdca26"
             ],
             [
              1,
              "#f0f921"
             ]
            ],
            "type": "contour"
           }
          ],
          "contourcarpet": [
           {
            "colorbar": {
             "outlinewidth": 0,
             "ticks": ""
            },
            "type": "contourcarpet"
           }
          ],
          "heatmap": [
           {
            "colorbar": {
             "outlinewidth": 0,
             "ticks": ""
            },
            "colorscale": [
             [
              0,
              "#0d0887"
             ],
             [
              0.1111111111111111,
              "#46039f"
             ],
             [
              0.2222222222222222,
              "#7201a8"
             ],
             [
              0.3333333333333333,
              "#9c179e"
             ],
             [
              0.4444444444444444,
              "#bd3786"
             ],
             [
              0.5555555555555556,
              "#d8576b"
             ],
             [
              0.6666666666666666,
              "#ed7953"
             ],
             [
              0.7777777777777778,
              "#fb9f3a"
             ],
             [
              0.8888888888888888,
              "#fdca26"
             ],
             [
              1,
              "#f0f921"
             ]
            ],
            "type": "heatmap"
           }
          ],
          "heatmapgl": [
           {
            "colorbar": {
             "outlinewidth": 0,
             "ticks": ""
            },
            "colorscale": [
             [
              0,
              "#0d0887"
             ],
             [
              0.1111111111111111,
              "#46039f"
             ],
             [
              0.2222222222222222,
              "#7201a8"
             ],
             [
              0.3333333333333333,
              "#9c179e"
             ],
             [
              0.4444444444444444,
              "#bd3786"
             ],
             [
              0.5555555555555556,
              "#d8576b"
             ],
             [
              0.6666666666666666,
              "#ed7953"
             ],
             [
              0.7777777777777778,
              "#fb9f3a"
             ],
             [
              0.8888888888888888,
              "#fdca26"
             ],
             [
              1,
              "#f0f921"
             ]
            ],
            "type": "heatmapgl"
           }
          ],
          "histogram": [
           {
            "marker": {
             "pattern": {
              "fillmode": "overlay",
              "size": 10,
              "solidity": 0.2
             }
            },
            "type": "histogram"
           }
          ],
          "histogram2d": [
           {
            "colorbar": {
             "outlinewidth": 0,
             "ticks": ""
            },
            "colorscale": [
             [
              0,
              "#0d0887"
             ],
             [
              0.1111111111111111,
              "#46039f"
             ],
             [
              0.2222222222222222,
              "#7201a8"
             ],
             [
              0.3333333333333333,
              "#9c179e"
             ],
             [
              0.4444444444444444,
              "#bd3786"
             ],
             [
              0.5555555555555556,
              "#d8576b"
             ],
             [
              0.6666666666666666,
              "#ed7953"
             ],
             [
              0.7777777777777778,
              "#fb9f3a"
             ],
             [
              0.8888888888888888,
              "#fdca26"
             ],
             [
              1,
              "#f0f921"
             ]
            ],
            "type": "histogram2d"
           }
          ],
          "histogram2dcontour": [
           {
            "colorbar": {
             "outlinewidth": 0,
             "ticks": ""
            },
            "colorscale": [
             [
              0,
              "#0d0887"
             ],
             [
              0.1111111111111111,
              "#46039f"
             ],
             [
              0.2222222222222222,
              "#7201a8"
             ],
             [
              0.3333333333333333,
              "#9c179e"
             ],
             [
              0.4444444444444444,
              "#bd3786"
             ],
             [
              0.5555555555555556,
              "#d8576b"
             ],
             [
              0.6666666666666666,
              "#ed7953"
             ],
             [
              0.7777777777777778,
              "#fb9f3a"
             ],
             [
              0.8888888888888888,
              "#fdca26"
             ],
             [
              1,
              "#f0f921"
             ]
            ],
            "type": "histogram2dcontour"
           }
          ],
          "mesh3d": [
           {
            "colorbar": {
             "outlinewidth": 0,
             "ticks": ""
            },
            "type": "mesh3d"
           }
          ],
          "parcoords": [
           {
            "line": {
             "colorbar": {
              "outlinewidth": 0,
              "ticks": ""
             }
            },
            "type": "parcoords"
           }
          ],
          "pie": [
           {
            "automargin": true,
            "type": "pie"
           }
          ],
          "scatter": [
           {
            "fillpattern": {
             "fillmode": "overlay",
             "size": 10,
             "solidity": 0.2
            },
            "type": "scatter"
           }
          ],
          "scatter3d": [
           {
            "line": {
             "colorbar": {
              "outlinewidth": 0,
              "ticks": ""
             }
            },
            "marker": {
             "colorbar": {
              "outlinewidth": 0,
              "ticks": ""
             }
            },
            "type": "scatter3d"
           }
          ],
          "scattercarpet": [
           {
            "marker": {
             "colorbar": {
              "outlinewidth": 0,
              "ticks": ""
             }
            },
            "type": "scattercarpet"
           }
          ],
          "scattergeo": [
           {
            "marker": {
             "colorbar": {
              "outlinewidth": 0,
              "ticks": ""
             }
            },
            "type": "scattergeo"
           }
          ],
          "scattergl": [
           {
            "marker": {
             "colorbar": {
              "outlinewidth": 0,
              "ticks": ""
             }
            },
            "type": "scattergl"
           }
          ],
          "scattermapbox": [
           {
            "marker": {
             "colorbar": {
              "outlinewidth": 0,
              "ticks": ""
             }
            },
            "type": "scattermapbox"
           }
          ],
          "scatterpolar": [
           {
            "marker": {
             "colorbar": {
              "outlinewidth": 0,
              "ticks": ""
             }
            },
            "type": "scatterpolar"
           }
          ],
          "scatterpolargl": [
           {
            "marker": {
             "colorbar": {
              "outlinewidth": 0,
              "ticks": ""
             }
            },
            "type": "scatterpolargl"
           }
          ],
          "scatterternary": [
           {
            "marker": {
             "colorbar": {
              "outlinewidth": 0,
              "ticks": ""
             }
            },
            "type": "scatterternary"
           }
          ],
          "surface": [
           {
            "colorbar": {
             "outlinewidth": 0,
             "ticks": ""
            },
            "colorscale": [
             [
              0,
              "#0d0887"
             ],
             [
              0.1111111111111111,
              "#46039f"
             ],
             [
              0.2222222222222222,
              "#7201a8"
             ],
             [
              0.3333333333333333,
              "#9c179e"
             ],
             [
              0.4444444444444444,
              "#bd3786"
             ],
             [
              0.5555555555555556,
              "#d8576b"
             ],
             [
              0.6666666666666666,
              "#ed7953"
             ],
             [
              0.7777777777777778,
              "#fb9f3a"
             ],
             [
              0.8888888888888888,
              "#fdca26"
             ],
             [
              1,
              "#f0f921"
             ]
            ],
            "type": "surface"
           }
          ],
          "table": [
           {
            "cells": {
             "fill": {
              "color": "#EBF0F8"
             },
             "line": {
              "color": "white"
             }
            },
            "header": {
             "fill": {
              "color": "#C8D4E3"
             },
             "line": {
              "color": "white"
             }
            },
            "type": "table"
           }
          ]
         },
         "layout": {
          "annotationdefaults": {
           "arrowcolor": "#2a3f5f",
           "arrowhead": 0,
           "arrowwidth": 1
          },
          "autotypenumbers": "strict",
          "coloraxis": {
           "colorbar": {
            "outlinewidth": 0,
            "ticks": ""
           }
          },
          "colorscale": {
           "diverging": [
            [
             0,
             "#8e0152"
            ],
            [
             0.1,
             "#c51b7d"
            ],
            [
             0.2,
             "#de77ae"
            ],
            [
             0.3,
             "#f1b6da"
            ],
            [
             0.4,
             "#fde0ef"
            ],
            [
             0.5,
             "#f7f7f7"
            ],
            [
             0.6,
             "#e6f5d0"
            ],
            [
             0.7,
             "#b8e186"
            ],
            [
             0.8,
             "#7fbc41"
            ],
            [
             0.9,
             "#4d9221"
            ],
            [
             1,
             "#276419"
            ]
           ],
           "sequential": [
            [
             0,
             "#0d0887"
            ],
            [
             0.1111111111111111,
             "#46039f"
            ],
            [
             0.2222222222222222,
             "#7201a8"
            ],
            [
             0.3333333333333333,
             "#9c179e"
            ],
            [
             0.4444444444444444,
             "#bd3786"
            ],
            [
             0.5555555555555556,
             "#d8576b"
            ],
            [
             0.6666666666666666,
             "#ed7953"
            ],
            [
             0.7777777777777778,
             "#fb9f3a"
            ],
            [
             0.8888888888888888,
             "#fdca26"
            ],
            [
             1,
             "#f0f921"
            ]
           ],
           "sequentialminus": [
            [
             0,
             "#0d0887"
            ],
            [
             0.1111111111111111,
             "#46039f"
            ],
            [
             0.2222222222222222,
             "#7201a8"
            ],
            [
             0.3333333333333333,
             "#9c179e"
            ],
            [
             0.4444444444444444,
             "#bd3786"
            ],
            [
             0.5555555555555556,
             "#d8576b"
            ],
            [
             0.6666666666666666,
             "#ed7953"
            ],
            [
             0.7777777777777778,
             "#fb9f3a"
            ],
            [
             0.8888888888888888,
             "#fdca26"
            ],
            [
             1,
             "#f0f921"
            ]
           ]
          },
          "colorway": [
           "#636efa",
           "#EF553B",
           "#00cc96",
           "#ab63fa",
           "#FFA15A",
           "#19d3f3",
           "#FF6692",
           "#B6E880",
           "#FF97FF",
           "#FECB52"
          ],
          "font": {
           "color": "#2a3f5f"
          },
          "geo": {
           "bgcolor": "white",
           "lakecolor": "white",
           "landcolor": "#E5ECF6",
           "showlakes": true,
           "showland": true,
           "subunitcolor": "white"
          },
          "hoverlabel": {
           "align": "left"
          },
          "hovermode": "closest",
          "mapbox": {
           "style": "light"
          },
          "paper_bgcolor": "white",
          "plot_bgcolor": "#E5ECF6",
          "polar": {
           "angularaxis": {
            "gridcolor": "white",
            "linecolor": "white",
            "ticks": ""
           },
           "bgcolor": "#E5ECF6",
           "radialaxis": {
            "gridcolor": "white",
            "linecolor": "white",
            "ticks": ""
           }
          },
          "scene": {
           "xaxis": {
            "backgroundcolor": "#E5ECF6",
            "gridcolor": "white",
            "gridwidth": 2,
            "linecolor": "white",
            "showbackground": true,
            "ticks": "",
            "zerolinecolor": "white"
           },
           "yaxis": {
            "backgroundcolor": "#E5ECF6",
            "gridcolor": "white",
            "gridwidth": 2,
            "linecolor": "white",
            "showbackground": true,
            "ticks": "",
            "zerolinecolor": "white"
           },
           "zaxis": {
            "backgroundcolor": "#E5ECF6",
            "gridcolor": "white",
            "gridwidth": 2,
            "linecolor": "white",
            "showbackground": true,
            "ticks": "",
            "zerolinecolor": "white"
           }
          },
          "shapedefaults": {
           "line": {
            "color": "#2a3f5f"
           }
          },
          "ternary": {
           "aaxis": {
            "gridcolor": "white",
            "linecolor": "white",
            "ticks": ""
           },
           "baxis": {
            "gridcolor": "white",
            "linecolor": "white",
            "ticks": ""
           },
           "bgcolor": "#E5ECF6",
           "caxis": {
            "gridcolor": "white",
            "linecolor": "white",
            "ticks": ""
           }
          },
          "title": {
           "x": 0.05
          },
          "xaxis": {
           "automargin": true,
           "gridcolor": "white",
           "linecolor": "white",
           "ticks": "",
           "title": {
            "standoff": 15
           },
           "zerolinecolor": "white",
           "zerolinewidth": 2
          },
          "yaxis": {
           "automargin": true,
           "gridcolor": "white",
           "linecolor": "white",
           "ticks": "",
           "title": {
            "standoff": 15
           },
           "zerolinecolor": "white",
           "zerolinewidth": 2
          }
         }
        },
        "title": {
         "text": "Total amount of arrived and departed passengers at Schiphol between 2019 and 2023"
        },
        "xaxis": {
         "anchor": "y",
         "domain": [
          0,
          1
         ],
         "title": {
          "text": "Period"
         }
        },
        "yaxis": {
         "anchor": "x",
         "categoryorder": "category ascending",
         "domain": [
          0,
          1
         ],
         "title": {
          "text": "Amount of passengers"
         }
        }
       }
      }
     },
     "metadata": {},
     "output_type": "display_data"
    }
   ],
   "source": [
    "# Select the right data from the dataset\n",
    "data_passengers = data.loc[data['Periods'].str.contains('2019MM|2020MM|2021MM|2022MM|2023MM', case=False, regex=True)]\n",
    "data_passengers = data_passengers[data_passengers['Airports'] == 'Schiphol']\n",
    "\n",
    "# Make a graph about the total number and type of passengers at Schiphol between 2019 and 2023\n",
    "figpassengers = px.line(data_passengers, \n",
    "                x = \"Periods\", \n",
    "                y = [\"Total Arrived Passengers\", \"Total Departed Passengers\"],\n",
    "                labels = {\n",
    "                    \"Periods\": \"Period\",\n",
    "                    \"value\": \"Amount of passengers\",\n",
    "                    \"variable\": \"Arrivals/Departures\"\n",
    "                    },\n",
    "                )\n",
    "\n",
    "# Adjust the layout and axes of the graph\n",
    "figpassengers.update_layout(\n",
    "                title={'text': 'Total amount of arrived and departed passengers at Schiphol between 2019 and 2023'},\n",
    "                )\n",
    "\n",
    "figpassengers.update_yaxes(categoryorder = 'category ascending')\n",
    "\n",
    "# Show graph\n",
    "figpassengers.show()"
   ]
  },
  {
   "cell_type": "markdown",
   "metadata": {},
   "source": [
    "--PUT THE MAP GRAPH HERE--"
   ]
  },
  {
   "cell_type": "markdown",
   "metadata": {},
   "source": [
    "#### Analysis\n",
    "\n",
    "##### *What did flight patterns look like before the COVID19 pandemic started?*\n",
    "<p>write here</p>\n",
    "\n",
    "##### *How did flight patterns change during the COVID19 pandemic?*\n",
    "<p>write here</p>\n",
    "\n",
    "##### *What do flight patterns look like nowadays?*\n",
    "<p>write here</p>"
   ]
  },
  {
   "cell_type": "markdown",
   "metadata": {},
   "source": [
    "### Chapter 3: Cargo flight patterns"
   ]
  },
  {
   "cell_type": "markdown",
   "metadata": {},
   "source": [
    "<p>In this chapter, the passenger data from Schiphol will be analysed and the subquestions will be answered.</p>"
   ]
  },
  {
   "cell_type": "code",
   "execution_count": 133,
   "metadata": {},
   "outputs": [
    {
     "data": {
      "application/vnd.plotly.v1+json": {
       "config": {
        "plotlyServerURL": "https://plot.ly"
       },
       "data": [
        {
         "hovertemplate": "Type of cargo=Total Unloaded Cargo [tons]<br>Period=%{x}<br>Amount of cargo in [tons]=%{y}<extra></extra>",
         "legendgroup": "Total Unloaded Cargo [tons]",
         "line": {
          "color": "#636efa",
          "dash": "solid"
         },
         "marker": {
          "symbol": "circle"
         },
         "mode": "lines",
         "name": "Total Unloaded Cargo [tons]",
         "orientation": "v",
         "showlegend": true,
         "type": "scatter",
         "x": [
          "2019MM01",
          "2019MM02",
          "2019MM03",
          "2019MM04",
          "2019MM05",
          "2019MM06",
          "2019MM07",
          "2019MM08",
          "2019MM09",
          "2019MM10",
          "2019MM11",
          "2019MM12",
          "2020MM01",
          "2020MM02",
          "2020MM03",
          "2020MM04",
          "2020MM05",
          "2020MM06",
          "2020MM07",
          "2020MM08",
          "2020MM09",
          "2020MM10",
          "2020MM11",
          "2020MM12",
          "2021MM01",
          "2021MM02",
          "2021MM03",
          "2021MM04",
          "2021MM05",
          "2021MM06",
          "2021MM07",
          "2021MM08",
          "2021MM09",
          "2021MM10",
          "2021MM11",
          "2021MM12",
          "2022MM01",
          "2022MM02",
          "2022MM03",
          "2022MM04",
          "2022MM05",
          "2022MM06",
          "2022MM07",
          "2022MM08",
          "2022MM09",
          "2022MM10",
          "2022MM11",
          "2022MM12",
          "2023MM01",
          "2023MM02",
          "2023MM03",
          "2023MM04",
          "2023MM05",
          "2023MM06",
          "2023MM07",
          "2023MM08"
         ],
         "xaxis": "x",
         "y": [
          63750,
          57320,
          72679,
          64164,
          65668,
          61724,
          63515,
          65711,
          69627,
          73464,
          69561,
          64415,
          60639,
          56776,
          61717,
          48036,
          57739,
          56267,
          62053,
          63088,
          65318,
          74472,
          77184,
          71116,
          72074,
          67370,
          80424,
          72702,
          78021,
          71334,
          63698,
          68453,
          68358,
          77326,
          75894,
          73587,
          65572,
          60095,
          62861,
          58694,
          58583,
          58572,
          60611,
          58086,
          60869,
          63315,
          59228,
          56227,
          55477,
          55793,
          64774,
          61530,
          66022,
          61981,
          59753,
          56364
         ],
         "yaxis": "y"
        },
        {
         "hovertemplate": "Type of cargo=Total Loaded Cargo [tons]<br>Period=%{x}<br>Amount of cargo in [tons]=%{y}<extra></extra>",
         "legendgroup": "Total Loaded Cargo [tons]",
         "line": {
          "color": "#EF553B",
          "dash": "solid"
         },
         "marker": {
          "symbol": "circle"
         },
         "mode": "lines",
         "name": "Total Loaded Cargo [tons]",
         "orientation": "v",
         "showlegend": true,
         "type": "scatter",
         "x": [
          "2019MM01",
          "2019MM02",
          "2019MM03",
          "2019MM04",
          "2019MM05",
          "2019MM06",
          "2019MM07",
          "2019MM08",
          "2019MM09",
          "2019MM10",
          "2019MM11",
          "2019MM12",
          "2020MM01",
          "2020MM02",
          "2020MM03",
          "2020MM04",
          "2020MM05",
          "2020MM06",
          "2020MM07",
          "2020MM08",
          "2020MM09",
          "2020MM10",
          "2020MM11",
          "2020MM12",
          "2021MM01",
          "2021MM02",
          "2021MM03",
          "2021MM04",
          "2021MM05",
          "2021MM06",
          "2021MM07",
          "2021MM08",
          "2021MM09",
          "2021MM10",
          "2021MM11",
          "2021MM12",
          "2022MM01",
          "2022MM02",
          "2022MM03",
          "2022MM04",
          "2022MM05",
          "2022MM06",
          "2022MM07",
          "2022MM08",
          "2022MM09",
          "2022MM10",
          "2022MM11",
          "2022MM12",
          "2023MM01",
          "2023MM02",
          "2023MM03",
          "2023MM04",
          "2023MM05",
          "2023MM06",
          "2023MM07",
          "2023MM08"
         ],
         "xaxis": "x",
         "y": [
          58894,
          58476,
          72094,
          62578,
          67980,
          62164,
          65628,
          64871,
          67192,
          70115,
          66695,
          61961,
          52441,
          59517,
          58764,
          45219,
          47005,
          51897,
          57581,
          56887,
          59173,
          65668,
          68289,
          64751,
          61148,
          57766,
          72782,
          68431,
          68997,
          66622,
          66966,
          62392,
          64886,
          72057,
          67936,
          68080,
          56981,
          58179,
          65337,
          58201,
          60895,
          57702,
          59521,
          58790,
          60639,
          62044,
          59846,
          56891,
          48504,
          53242,
          56972,
          51929,
          51977,
          51014,
          53783,
          53762
         ],
         "yaxis": "y"
        }
       ],
       "layout": {
        "legend": {
         "title": {
          "text": "Type of cargo"
         },
         "tracegroupgap": 0
        },
        "margin": {
         "t": 60
        },
        "template": {
         "data": {
          "bar": [
           {
            "error_x": {
             "color": "#2a3f5f"
            },
            "error_y": {
             "color": "#2a3f5f"
            },
            "marker": {
             "line": {
              "color": "#E5ECF6",
              "width": 0.5
             },
             "pattern": {
              "fillmode": "overlay",
              "size": 10,
              "solidity": 0.2
             }
            },
            "type": "bar"
           }
          ],
          "barpolar": [
           {
            "marker": {
             "line": {
              "color": "#E5ECF6",
              "width": 0.5
             },
             "pattern": {
              "fillmode": "overlay",
              "size": 10,
              "solidity": 0.2
             }
            },
            "type": "barpolar"
           }
          ],
          "carpet": [
           {
            "aaxis": {
             "endlinecolor": "#2a3f5f",
             "gridcolor": "white",
             "linecolor": "white",
             "minorgridcolor": "white",
             "startlinecolor": "#2a3f5f"
            },
            "baxis": {
             "endlinecolor": "#2a3f5f",
             "gridcolor": "white",
             "linecolor": "white",
             "minorgridcolor": "white",
             "startlinecolor": "#2a3f5f"
            },
            "type": "carpet"
           }
          ],
          "choropleth": [
           {
            "colorbar": {
             "outlinewidth": 0,
             "ticks": ""
            },
            "type": "choropleth"
           }
          ],
          "contour": [
           {
            "colorbar": {
             "outlinewidth": 0,
             "ticks": ""
            },
            "colorscale": [
             [
              0,
              "#0d0887"
             ],
             [
              0.1111111111111111,
              "#46039f"
             ],
             [
              0.2222222222222222,
              "#7201a8"
             ],
             [
              0.3333333333333333,
              "#9c179e"
             ],
             [
              0.4444444444444444,
              "#bd3786"
             ],
             [
              0.5555555555555556,
              "#d8576b"
             ],
             [
              0.6666666666666666,
              "#ed7953"
             ],
             [
              0.7777777777777778,
              "#fb9f3a"
             ],
             [
              0.8888888888888888,
              "#fdca26"
             ],
             [
              1,
              "#f0f921"
             ]
            ],
            "type": "contour"
           }
          ],
          "contourcarpet": [
           {
            "colorbar": {
             "outlinewidth": 0,
             "ticks": ""
            },
            "type": "contourcarpet"
           }
          ],
          "heatmap": [
           {
            "colorbar": {
             "outlinewidth": 0,
             "ticks": ""
            },
            "colorscale": [
             [
              0,
              "#0d0887"
             ],
             [
              0.1111111111111111,
              "#46039f"
             ],
             [
              0.2222222222222222,
              "#7201a8"
             ],
             [
              0.3333333333333333,
              "#9c179e"
             ],
             [
              0.4444444444444444,
              "#bd3786"
             ],
             [
              0.5555555555555556,
              "#d8576b"
             ],
             [
              0.6666666666666666,
              "#ed7953"
             ],
             [
              0.7777777777777778,
              "#fb9f3a"
             ],
             [
              0.8888888888888888,
              "#fdca26"
             ],
             [
              1,
              "#f0f921"
             ]
            ],
            "type": "heatmap"
           }
          ],
          "heatmapgl": [
           {
            "colorbar": {
             "outlinewidth": 0,
             "ticks": ""
            },
            "colorscale": [
             [
              0,
              "#0d0887"
             ],
             [
              0.1111111111111111,
              "#46039f"
             ],
             [
              0.2222222222222222,
              "#7201a8"
             ],
             [
              0.3333333333333333,
              "#9c179e"
             ],
             [
              0.4444444444444444,
              "#bd3786"
             ],
             [
              0.5555555555555556,
              "#d8576b"
             ],
             [
              0.6666666666666666,
              "#ed7953"
             ],
             [
              0.7777777777777778,
              "#fb9f3a"
             ],
             [
              0.8888888888888888,
              "#fdca26"
             ],
             [
              1,
              "#f0f921"
             ]
            ],
            "type": "heatmapgl"
           }
          ],
          "histogram": [
           {
            "marker": {
             "pattern": {
              "fillmode": "overlay",
              "size": 10,
              "solidity": 0.2
             }
            },
            "type": "histogram"
           }
          ],
          "histogram2d": [
           {
            "colorbar": {
             "outlinewidth": 0,
             "ticks": ""
            },
            "colorscale": [
             [
              0,
              "#0d0887"
             ],
             [
              0.1111111111111111,
              "#46039f"
             ],
             [
              0.2222222222222222,
              "#7201a8"
             ],
             [
              0.3333333333333333,
              "#9c179e"
             ],
             [
              0.4444444444444444,
              "#bd3786"
             ],
             [
              0.5555555555555556,
              "#d8576b"
             ],
             [
              0.6666666666666666,
              "#ed7953"
             ],
             [
              0.7777777777777778,
              "#fb9f3a"
             ],
             [
              0.8888888888888888,
              "#fdca26"
             ],
             [
              1,
              "#f0f921"
             ]
            ],
            "type": "histogram2d"
           }
          ],
          "histogram2dcontour": [
           {
            "colorbar": {
             "outlinewidth": 0,
             "ticks": ""
            },
            "colorscale": [
             [
              0,
              "#0d0887"
             ],
             [
              0.1111111111111111,
              "#46039f"
             ],
             [
              0.2222222222222222,
              "#7201a8"
             ],
             [
              0.3333333333333333,
              "#9c179e"
             ],
             [
              0.4444444444444444,
              "#bd3786"
             ],
             [
              0.5555555555555556,
              "#d8576b"
             ],
             [
              0.6666666666666666,
              "#ed7953"
             ],
             [
              0.7777777777777778,
              "#fb9f3a"
             ],
             [
              0.8888888888888888,
              "#fdca26"
             ],
             [
              1,
              "#f0f921"
             ]
            ],
            "type": "histogram2dcontour"
           }
          ],
          "mesh3d": [
           {
            "colorbar": {
             "outlinewidth": 0,
             "ticks": ""
            },
            "type": "mesh3d"
           }
          ],
          "parcoords": [
           {
            "line": {
             "colorbar": {
              "outlinewidth": 0,
              "ticks": ""
             }
            },
            "type": "parcoords"
           }
          ],
          "pie": [
           {
            "automargin": true,
            "type": "pie"
           }
          ],
          "scatter": [
           {
            "fillpattern": {
             "fillmode": "overlay",
             "size": 10,
             "solidity": 0.2
            },
            "type": "scatter"
           }
          ],
          "scatter3d": [
           {
            "line": {
             "colorbar": {
              "outlinewidth": 0,
              "ticks": ""
             }
            },
            "marker": {
             "colorbar": {
              "outlinewidth": 0,
              "ticks": ""
             }
            },
            "type": "scatter3d"
           }
          ],
          "scattercarpet": [
           {
            "marker": {
             "colorbar": {
              "outlinewidth": 0,
              "ticks": ""
             }
            },
            "type": "scattercarpet"
           }
          ],
          "scattergeo": [
           {
            "marker": {
             "colorbar": {
              "outlinewidth": 0,
              "ticks": ""
             }
            },
            "type": "scattergeo"
           }
          ],
          "scattergl": [
           {
            "marker": {
             "colorbar": {
              "outlinewidth": 0,
              "ticks": ""
             }
            },
            "type": "scattergl"
           }
          ],
          "scattermapbox": [
           {
            "marker": {
             "colorbar": {
              "outlinewidth": 0,
              "ticks": ""
             }
            },
            "type": "scattermapbox"
           }
          ],
          "scatterpolar": [
           {
            "marker": {
             "colorbar": {
              "outlinewidth": 0,
              "ticks": ""
             }
            },
            "type": "scatterpolar"
           }
          ],
          "scatterpolargl": [
           {
            "marker": {
             "colorbar": {
              "outlinewidth": 0,
              "ticks": ""
             }
            },
            "type": "scatterpolargl"
           }
          ],
          "scatterternary": [
           {
            "marker": {
             "colorbar": {
              "outlinewidth": 0,
              "ticks": ""
             }
            },
            "type": "scatterternary"
           }
          ],
          "surface": [
           {
            "colorbar": {
             "outlinewidth": 0,
             "ticks": ""
            },
            "colorscale": [
             [
              0,
              "#0d0887"
             ],
             [
              0.1111111111111111,
              "#46039f"
             ],
             [
              0.2222222222222222,
              "#7201a8"
             ],
             [
              0.3333333333333333,
              "#9c179e"
             ],
             [
              0.4444444444444444,
              "#bd3786"
             ],
             [
              0.5555555555555556,
              "#d8576b"
             ],
             [
              0.6666666666666666,
              "#ed7953"
             ],
             [
              0.7777777777777778,
              "#fb9f3a"
             ],
             [
              0.8888888888888888,
              "#fdca26"
             ],
             [
              1,
              "#f0f921"
             ]
            ],
            "type": "surface"
           }
          ],
          "table": [
           {
            "cells": {
             "fill": {
              "color": "#EBF0F8"
             },
             "line": {
              "color": "white"
             }
            },
            "header": {
             "fill": {
              "color": "#C8D4E3"
             },
             "line": {
              "color": "white"
             }
            },
            "type": "table"
           }
          ]
         },
         "layout": {
          "annotationdefaults": {
           "arrowcolor": "#2a3f5f",
           "arrowhead": 0,
           "arrowwidth": 1
          },
          "autotypenumbers": "strict",
          "coloraxis": {
           "colorbar": {
            "outlinewidth": 0,
            "ticks": ""
           }
          },
          "colorscale": {
           "diverging": [
            [
             0,
             "#8e0152"
            ],
            [
             0.1,
             "#c51b7d"
            ],
            [
             0.2,
             "#de77ae"
            ],
            [
             0.3,
             "#f1b6da"
            ],
            [
             0.4,
             "#fde0ef"
            ],
            [
             0.5,
             "#f7f7f7"
            ],
            [
             0.6,
             "#e6f5d0"
            ],
            [
             0.7,
             "#b8e186"
            ],
            [
             0.8,
             "#7fbc41"
            ],
            [
             0.9,
             "#4d9221"
            ],
            [
             1,
             "#276419"
            ]
           ],
           "sequential": [
            [
             0,
             "#0d0887"
            ],
            [
             0.1111111111111111,
             "#46039f"
            ],
            [
             0.2222222222222222,
             "#7201a8"
            ],
            [
             0.3333333333333333,
             "#9c179e"
            ],
            [
             0.4444444444444444,
             "#bd3786"
            ],
            [
             0.5555555555555556,
             "#d8576b"
            ],
            [
             0.6666666666666666,
             "#ed7953"
            ],
            [
             0.7777777777777778,
             "#fb9f3a"
            ],
            [
             0.8888888888888888,
             "#fdca26"
            ],
            [
             1,
             "#f0f921"
            ]
           ],
           "sequentialminus": [
            [
             0,
             "#0d0887"
            ],
            [
             0.1111111111111111,
             "#46039f"
            ],
            [
             0.2222222222222222,
             "#7201a8"
            ],
            [
             0.3333333333333333,
             "#9c179e"
            ],
            [
             0.4444444444444444,
             "#bd3786"
            ],
            [
             0.5555555555555556,
             "#d8576b"
            ],
            [
             0.6666666666666666,
             "#ed7953"
            ],
            [
             0.7777777777777778,
             "#fb9f3a"
            ],
            [
             0.8888888888888888,
             "#fdca26"
            ],
            [
             1,
             "#f0f921"
            ]
           ]
          },
          "colorway": [
           "#636efa",
           "#EF553B",
           "#00cc96",
           "#ab63fa",
           "#FFA15A",
           "#19d3f3",
           "#FF6692",
           "#B6E880",
           "#FF97FF",
           "#FECB52"
          ],
          "font": {
           "color": "#2a3f5f"
          },
          "geo": {
           "bgcolor": "white",
           "lakecolor": "white",
           "landcolor": "#E5ECF6",
           "showlakes": true,
           "showland": true,
           "subunitcolor": "white"
          },
          "hoverlabel": {
           "align": "left"
          },
          "hovermode": "closest",
          "mapbox": {
           "style": "light"
          },
          "paper_bgcolor": "white",
          "plot_bgcolor": "#E5ECF6",
          "polar": {
           "angularaxis": {
            "gridcolor": "white",
            "linecolor": "white",
            "ticks": ""
           },
           "bgcolor": "#E5ECF6",
           "radialaxis": {
            "gridcolor": "white",
            "linecolor": "white",
            "ticks": ""
           }
          },
          "scene": {
           "xaxis": {
            "backgroundcolor": "#E5ECF6",
            "gridcolor": "white",
            "gridwidth": 2,
            "linecolor": "white",
            "showbackground": true,
            "ticks": "",
            "zerolinecolor": "white"
           },
           "yaxis": {
            "backgroundcolor": "#E5ECF6",
            "gridcolor": "white",
            "gridwidth": 2,
            "linecolor": "white",
            "showbackground": true,
            "ticks": "",
            "zerolinecolor": "white"
           },
           "zaxis": {
            "backgroundcolor": "#E5ECF6",
            "gridcolor": "white",
            "gridwidth": 2,
            "linecolor": "white",
            "showbackground": true,
            "ticks": "",
            "zerolinecolor": "white"
           }
          },
          "shapedefaults": {
           "line": {
            "color": "#2a3f5f"
           }
          },
          "ternary": {
           "aaxis": {
            "gridcolor": "white",
            "linecolor": "white",
            "ticks": ""
           },
           "baxis": {
            "gridcolor": "white",
            "linecolor": "white",
            "ticks": ""
           },
           "bgcolor": "#E5ECF6",
           "caxis": {
            "gridcolor": "white",
            "linecolor": "white",
            "ticks": ""
           }
          },
          "title": {
           "x": 0.05
          },
          "xaxis": {
           "automargin": true,
           "gridcolor": "white",
           "linecolor": "white",
           "ticks": "",
           "title": {
            "standoff": 15
           },
           "zerolinecolor": "white",
           "zerolinewidth": 2
          },
          "yaxis": {
           "automargin": true,
           "gridcolor": "white",
           "linecolor": "white",
           "ticks": "",
           "title": {
            "standoff": 15
           },
           "zerolinecolor": "white",
           "zerolinewidth": 2
          }
         }
        },
        "title": {
         "text": "Total amount of (un)loaded cargo [tons] at Schiphol between 2019 and 2023"
        },
        "xaxis": {
         "anchor": "y",
         "domain": [
          0,
          1
         ],
         "title": {
          "text": "Period"
         }
        },
        "yaxis": {
         "anchor": "x",
         "categoryorder": "category ascending",
         "domain": [
          0,
          1
         ],
         "title": {
          "text": "Amount of cargo in [tons]"
         }
        }
       }
      }
     },
     "metadata": {},
     "output_type": "display_data"
    }
   ],
   "source": [
    "# Select the right data from the dataset\n",
    "data_cargo = data.loc[data['Periods'].str.contains('2019MM|2020MM|2021MM|2022MM|2023MM', case=False, regex=True)]\n",
    "data_cargo = data_cargo[data_cargo['Airports'] == 'Schiphol']\n",
    "\n",
    "# Make a graph about the total number and type of cargo [tons] at Schiphol between 2019 and 2023\n",
    "figcargo = px.line(data_cargo, \n",
    "                x = \"Periods\", \n",
    "                y = [\"Total Unloaded Cargo [tons]\", \"Total Loaded Cargo [tons]\"],\n",
    "                labels = {\n",
    "                    \"Periods\": \"Period\",\n",
    "                    \"value\": \"Amount of cargo in [tons]\",\n",
    "                    \"variable\": \"Type of cargo\"\n",
    "                    },\n",
    "                )\n",
    "\n",
    "# Adjust the layout and axes of the graph\n",
    "figcargo.update_layout(\n",
    "                title={'text': 'Total amount of (un)loaded cargo [tons] at Schiphol between 2019 and 2023'},\n",
    "                )\n",
    "\n",
    "figcargo.update_yaxes(categoryorder = 'category ascending')\n",
    "\n",
    "# Show graph\n",
    "figcargo.show()"
   ]
  },
  {
   "cell_type": "markdown",
   "metadata": {},
   "source": [
    "--PUT THE MAP GRAPH HERE--"
   ]
  },
  {
   "cell_type": "markdown",
   "metadata": {},
   "source": [
    "#### Analysis\n",
    "\n",
    "##### *What did flight patterns look like before the COVID19 pandemic started?*\n",
    "<p>write here</p>\n",
    "\n",
    "##### *How did flight patterns change during the COVID19 pandemic?*\n",
    "<p>write here</p>\n",
    "\n",
    "##### *What do flight patterns look like nowadays?*\n",
    "<p>write here</p>"
   ]
  },
  {
   "cell_type": "markdown",
   "metadata": {},
   "source": [
    "### Chapter 4: Mail flight patterns"
   ]
  },
  {
   "cell_type": "markdown",
   "metadata": {},
   "source": [
    "<p>In this chapter, the passenger data from Schiphol will be analysed and the subquestions will be answered.</p>"
   ]
  },
  {
   "cell_type": "code",
   "execution_count": 131,
   "metadata": {},
   "outputs": [
    {
     "data": {
      "application/vnd.plotly.v1+json": {
       "config": {
        "plotlyServerURL": "https://plot.ly"
       },
       "data": [
        {
         "hovertemplate": "Type of mail=Total Unloaded Mail [tons]<br>Period=%{x}<br>Amount of mail in [tons]=%{y}<extra></extra>",
         "legendgroup": "Total Unloaded Mail [tons]",
         "line": {
          "color": "#636efa",
          "dash": "solid"
         },
         "marker": {
          "symbol": "circle"
         },
         "mode": "lines",
         "name": "Total Unloaded Mail [tons]",
         "orientation": "v",
         "showlegend": true,
         "type": "scatter",
         "x": [
          "2019MM01",
          "2019MM02",
          "2019MM03",
          "2019MM04",
          "2019MM05",
          "2019MM06",
          "2019MM07",
          "2019MM08",
          "2019MM09",
          "2019MM10",
          "2019MM11",
          "2019MM12",
          "2020MM01",
          "2020MM02",
          "2020MM03",
          "2020MM04",
          "2020MM05",
          "2020MM06",
          "2020MM07",
          "2020MM08",
          "2020MM09",
          "2020MM10",
          "2020MM11",
          "2020MM12",
          "2021MM01",
          "2021MM02",
          "2021MM03",
          "2021MM04",
          "2021MM05",
          "2021MM06",
          "2021MM07",
          "2021MM08",
          "2021MM09",
          "2021MM10",
          "2021MM11",
          "2021MM12",
          "2022MM01",
          "2022MM02",
          "2022MM03",
          "2022MM04",
          "2022MM05",
          "2022MM06",
          "2022MM07",
          "2022MM08",
          "2022MM09",
          "2022MM10",
          "2022MM11",
          "2022MM12",
          "2023MM01",
          "2023MM02",
          "2023MM03",
          "2023MM04",
          "2023MM05",
          "2023MM06",
          "2023MM07",
          "2023MM08"
         ],
         "xaxis": "x",
         "y": [
          "     560",
          "     485",
          "     705",
          "     707",
          "     796",
          "     722",
          "     797",
          "     723",
          "     735",
          "     824",
          "     883",
          "     958",
          "     777",
          "     602",
          "     511",
          "      91",
          "     161",
          "     313",
          "     403",
          "     461",
          "     522",
          "     651",
          "     696",
          "     923",
          "     692",
          "     563",
          "     732",
          "     650",
          "     633",
          "     581",
          "     484",
          "     538",
          "     534",
          "     579",
          "     495",
          "     603",
          "     440",
          "     445",
          "     452",
          "     375",
          "     349",
          "     340",
          "     303",
          "     305",
          "     260",
          "     216",
          "     213",
          "     339",
          "     260",
          "     221",
          "     217",
          "     190",
          "     204",
          "     199",
          "     181",
          "     225"
         ],
         "yaxis": "y"
        },
        {
         "hovertemplate": "Type of mail=Total Loaded Mail [tons]<br>Period=%{x}<br>Amount of mail in [tons]=%{y}<extra></extra>",
         "legendgroup": "Total Loaded Mail [tons]",
         "line": {
          "color": "#EF553B",
          "dash": "solid"
         },
         "marker": {
          "symbol": "circle"
         },
         "mode": "lines",
         "name": "Total Loaded Mail [tons]",
         "orientation": "v",
         "showlegend": true,
         "type": "scatter",
         "x": [
          "2019MM01",
          "2019MM02",
          "2019MM03",
          "2019MM04",
          "2019MM05",
          "2019MM06",
          "2019MM07",
          "2019MM08",
          "2019MM09",
          "2019MM10",
          "2019MM11",
          "2019MM12",
          "2020MM01",
          "2020MM02",
          "2020MM03",
          "2020MM04",
          "2020MM05",
          "2020MM06",
          "2020MM07",
          "2020MM08",
          "2020MM09",
          "2020MM10",
          "2020MM11",
          "2020MM12",
          "2021MM01",
          "2021MM02",
          "2021MM03",
          "2021MM04",
          "2021MM05",
          "2021MM06",
          "2021MM07",
          "2021MM08",
          "2021MM09",
          "2021MM10",
          "2021MM11",
          "2021MM12",
          "2022MM01",
          "2022MM02",
          "2022MM03",
          "2022MM04",
          "2022MM05",
          "2022MM06",
          "2022MM07",
          "2022MM08",
          "2022MM09",
          "2022MM10",
          "2022MM11",
          "2022MM12",
          "2023MM01",
          "2023MM02",
          "2023MM03",
          "2023MM04",
          "2023MM05",
          "2023MM06",
          "2023MM07",
          "2023MM08"
         ],
         "xaxis": "x",
         "y": [
          "    1055",
          "     913",
          "    1056",
          "    1040",
          "    1064",
          "    1014",
          "    1078",
          "    1051",
          "    1012",
          "    1149",
          "    1250",
          "    1381",
          "    1131",
          "     890",
          "     656",
          "     290",
          "     381",
          "     542",
          "     681",
          "     822",
          "     729",
          "     871",
          "     815",
          "     913",
          "     711",
          "     546",
          "     647",
          "     608",
          "     590",
          "     547",
          "     494",
          "     511",
          "     468",
          "     461",
          "     447",
          "     435",
          "     387",
          "     378",
          "     366",
          "     313",
          "     336",
          "     327",
          "     280",
          "     244",
          "     278",
          "     249",
          "     248",
          "     268",
          "     218",
          "     219",
          "     240",
          "     240",
          "     267",
          "     248",
          "     226",
          "     229"
         ],
         "yaxis": "y"
        }
       ],
       "layout": {
        "legend": {
         "title": {
          "text": "Type of mail"
         },
         "tracegroupgap": 0
        },
        "margin": {
         "t": 60
        },
        "template": {
         "data": {
          "bar": [
           {
            "error_x": {
             "color": "#2a3f5f"
            },
            "error_y": {
             "color": "#2a3f5f"
            },
            "marker": {
             "line": {
              "color": "#E5ECF6",
              "width": 0.5
             },
             "pattern": {
              "fillmode": "overlay",
              "size": 10,
              "solidity": 0.2
             }
            },
            "type": "bar"
           }
          ],
          "barpolar": [
           {
            "marker": {
             "line": {
              "color": "#E5ECF6",
              "width": 0.5
             },
             "pattern": {
              "fillmode": "overlay",
              "size": 10,
              "solidity": 0.2
             }
            },
            "type": "barpolar"
           }
          ],
          "carpet": [
           {
            "aaxis": {
             "endlinecolor": "#2a3f5f",
             "gridcolor": "white",
             "linecolor": "white",
             "minorgridcolor": "white",
             "startlinecolor": "#2a3f5f"
            },
            "baxis": {
             "endlinecolor": "#2a3f5f",
             "gridcolor": "white",
             "linecolor": "white",
             "minorgridcolor": "white",
             "startlinecolor": "#2a3f5f"
            },
            "type": "carpet"
           }
          ],
          "choropleth": [
           {
            "colorbar": {
             "outlinewidth": 0,
             "ticks": ""
            },
            "type": "choropleth"
           }
          ],
          "contour": [
           {
            "colorbar": {
             "outlinewidth": 0,
             "ticks": ""
            },
            "colorscale": [
             [
              0,
              "#0d0887"
             ],
             [
              0.1111111111111111,
              "#46039f"
             ],
             [
              0.2222222222222222,
              "#7201a8"
             ],
             [
              0.3333333333333333,
              "#9c179e"
             ],
             [
              0.4444444444444444,
              "#bd3786"
             ],
             [
              0.5555555555555556,
              "#d8576b"
             ],
             [
              0.6666666666666666,
              "#ed7953"
             ],
             [
              0.7777777777777778,
              "#fb9f3a"
             ],
             [
              0.8888888888888888,
              "#fdca26"
             ],
             [
              1,
              "#f0f921"
             ]
            ],
            "type": "contour"
           }
          ],
          "contourcarpet": [
           {
            "colorbar": {
             "outlinewidth": 0,
             "ticks": ""
            },
            "type": "contourcarpet"
           }
          ],
          "heatmap": [
           {
            "colorbar": {
             "outlinewidth": 0,
             "ticks": ""
            },
            "colorscale": [
             [
              0,
              "#0d0887"
             ],
             [
              0.1111111111111111,
              "#46039f"
             ],
             [
              0.2222222222222222,
              "#7201a8"
             ],
             [
              0.3333333333333333,
              "#9c179e"
             ],
             [
              0.4444444444444444,
              "#bd3786"
             ],
             [
              0.5555555555555556,
              "#d8576b"
             ],
             [
              0.6666666666666666,
              "#ed7953"
             ],
             [
              0.7777777777777778,
              "#fb9f3a"
             ],
             [
              0.8888888888888888,
              "#fdca26"
             ],
             [
              1,
              "#f0f921"
             ]
            ],
            "type": "heatmap"
           }
          ],
          "heatmapgl": [
           {
            "colorbar": {
             "outlinewidth": 0,
             "ticks": ""
            },
            "colorscale": [
             [
              0,
              "#0d0887"
             ],
             [
              0.1111111111111111,
              "#46039f"
             ],
             [
              0.2222222222222222,
              "#7201a8"
             ],
             [
              0.3333333333333333,
              "#9c179e"
             ],
             [
              0.4444444444444444,
              "#bd3786"
             ],
             [
              0.5555555555555556,
              "#d8576b"
             ],
             [
              0.6666666666666666,
              "#ed7953"
             ],
             [
              0.7777777777777778,
              "#fb9f3a"
             ],
             [
              0.8888888888888888,
              "#fdca26"
             ],
             [
              1,
              "#f0f921"
             ]
            ],
            "type": "heatmapgl"
           }
          ],
          "histogram": [
           {
            "marker": {
             "pattern": {
              "fillmode": "overlay",
              "size": 10,
              "solidity": 0.2
             }
            },
            "type": "histogram"
           }
          ],
          "histogram2d": [
           {
            "colorbar": {
             "outlinewidth": 0,
             "ticks": ""
            },
            "colorscale": [
             [
              0,
              "#0d0887"
             ],
             [
              0.1111111111111111,
              "#46039f"
             ],
             [
              0.2222222222222222,
              "#7201a8"
             ],
             [
              0.3333333333333333,
              "#9c179e"
             ],
             [
              0.4444444444444444,
              "#bd3786"
             ],
             [
              0.5555555555555556,
              "#d8576b"
             ],
             [
              0.6666666666666666,
              "#ed7953"
             ],
             [
              0.7777777777777778,
              "#fb9f3a"
             ],
             [
              0.8888888888888888,
              "#fdca26"
             ],
             [
              1,
              "#f0f921"
             ]
            ],
            "type": "histogram2d"
           }
          ],
          "histogram2dcontour": [
           {
            "colorbar": {
             "outlinewidth": 0,
             "ticks": ""
            },
            "colorscale": [
             [
              0,
              "#0d0887"
             ],
             [
              0.1111111111111111,
              "#46039f"
             ],
             [
              0.2222222222222222,
              "#7201a8"
             ],
             [
              0.3333333333333333,
              "#9c179e"
             ],
             [
              0.4444444444444444,
              "#bd3786"
             ],
             [
              0.5555555555555556,
              "#d8576b"
             ],
             [
              0.6666666666666666,
              "#ed7953"
             ],
             [
              0.7777777777777778,
              "#fb9f3a"
             ],
             [
              0.8888888888888888,
              "#fdca26"
             ],
             [
              1,
              "#f0f921"
             ]
            ],
            "type": "histogram2dcontour"
           }
          ],
          "mesh3d": [
           {
            "colorbar": {
             "outlinewidth": 0,
             "ticks": ""
            },
            "type": "mesh3d"
           }
          ],
          "parcoords": [
           {
            "line": {
             "colorbar": {
              "outlinewidth": 0,
              "ticks": ""
             }
            },
            "type": "parcoords"
           }
          ],
          "pie": [
           {
            "automargin": true,
            "type": "pie"
           }
          ],
          "scatter": [
           {
            "fillpattern": {
             "fillmode": "overlay",
             "size": 10,
             "solidity": 0.2
            },
            "type": "scatter"
           }
          ],
          "scatter3d": [
           {
            "line": {
             "colorbar": {
              "outlinewidth": 0,
              "ticks": ""
             }
            },
            "marker": {
             "colorbar": {
              "outlinewidth": 0,
              "ticks": ""
             }
            },
            "type": "scatter3d"
           }
          ],
          "scattercarpet": [
           {
            "marker": {
             "colorbar": {
              "outlinewidth": 0,
              "ticks": ""
             }
            },
            "type": "scattercarpet"
           }
          ],
          "scattergeo": [
           {
            "marker": {
             "colorbar": {
              "outlinewidth": 0,
              "ticks": ""
             }
            },
            "type": "scattergeo"
           }
          ],
          "scattergl": [
           {
            "marker": {
             "colorbar": {
              "outlinewidth": 0,
              "ticks": ""
             }
            },
            "type": "scattergl"
           }
          ],
          "scattermapbox": [
           {
            "marker": {
             "colorbar": {
              "outlinewidth": 0,
              "ticks": ""
             }
            },
            "type": "scattermapbox"
           }
          ],
          "scatterpolar": [
           {
            "marker": {
             "colorbar": {
              "outlinewidth": 0,
              "ticks": ""
             }
            },
            "type": "scatterpolar"
           }
          ],
          "scatterpolargl": [
           {
            "marker": {
             "colorbar": {
              "outlinewidth": 0,
              "ticks": ""
             }
            },
            "type": "scatterpolargl"
           }
          ],
          "scatterternary": [
           {
            "marker": {
             "colorbar": {
              "outlinewidth": 0,
              "ticks": ""
             }
            },
            "type": "scatterternary"
           }
          ],
          "surface": [
           {
            "colorbar": {
             "outlinewidth": 0,
             "ticks": ""
            },
            "colorscale": [
             [
              0,
              "#0d0887"
             ],
             [
              0.1111111111111111,
              "#46039f"
             ],
             [
              0.2222222222222222,
              "#7201a8"
             ],
             [
              0.3333333333333333,
              "#9c179e"
             ],
             [
              0.4444444444444444,
              "#bd3786"
             ],
             [
              0.5555555555555556,
              "#d8576b"
             ],
             [
              0.6666666666666666,
              "#ed7953"
             ],
             [
              0.7777777777777778,
              "#fb9f3a"
             ],
             [
              0.8888888888888888,
              "#fdca26"
             ],
             [
              1,
              "#f0f921"
             ]
            ],
            "type": "surface"
           }
          ],
          "table": [
           {
            "cells": {
             "fill": {
              "color": "#EBF0F8"
             },
             "line": {
              "color": "white"
             }
            },
            "header": {
             "fill": {
              "color": "#C8D4E3"
             },
             "line": {
              "color": "white"
             }
            },
            "type": "table"
           }
          ]
         },
         "layout": {
          "annotationdefaults": {
           "arrowcolor": "#2a3f5f",
           "arrowhead": 0,
           "arrowwidth": 1
          },
          "autotypenumbers": "strict",
          "coloraxis": {
           "colorbar": {
            "outlinewidth": 0,
            "ticks": ""
           }
          },
          "colorscale": {
           "diverging": [
            [
             0,
             "#8e0152"
            ],
            [
             0.1,
             "#c51b7d"
            ],
            [
             0.2,
             "#de77ae"
            ],
            [
             0.3,
             "#f1b6da"
            ],
            [
             0.4,
             "#fde0ef"
            ],
            [
             0.5,
             "#f7f7f7"
            ],
            [
             0.6,
             "#e6f5d0"
            ],
            [
             0.7,
             "#b8e186"
            ],
            [
             0.8,
             "#7fbc41"
            ],
            [
             0.9,
             "#4d9221"
            ],
            [
             1,
             "#276419"
            ]
           ],
           "sequential": [
            [
             0,
             "#0d0887"
            ],
            [
             0.1111111111111111,
             "#46039f"
            ],
            [
             0.2222222222222222,
             "#7201a8"
            ],
            [
             0.3333333333333333,
             "#9c179e"
            ],
            [
             0.4444444444444444,
             "#bd3786"
            ],
            [
             0.5555555555555556,
             "#d8576b"
            ],
            [
             0.6666666666666666,
             "#ed7953"
            ],
            [
             0.7777777777777778,
             "#fb9f3a"
            ],
            [
             0.8888888888888888,
             "#fdca26"
            ],
            [
             1,
             "#f0f921"
            ]
           ],
           "sequentialminus": [
            [
             0,
             "#0d0887"
            ],
            [
             0.1111111111111111,
             "#46039f"
            ],
            [
             0.2222222222222222,
             "#7201a8"
            ],
            [
             0.3333333333333333,
             "#9c179e"
            ],
            [
             0.4444444444444444,
             "#bd3786"
            ],
            [
             0.5555555555555556,
             "#d8576b"
            ],
            [
             0.6666666666666666,
             "#ed7953"
            ],
            [
             0.7777777777777778,
             "#fb9f3a"
            ],
            [
             0.8888888888888888,
             "#fdca26"
            ],
            [
             1,
             "#f0f921"
            ]
           ]
          },
          "colorway": [
           "#636efa",
           "#EF553B",
           "#00cc96",
           "#ab63fa",
           "#FFA15A",
           "#19d3f3",
           "#FF6692",
           "#B6E880",
           "#FF97FF",
           "#FECB52"
          ],
          "font": {
           "color": "#2a3f5f"
          },
          "geo": {
           "bgcolor": "white",
           "lakecolor": "white",
           "landcolor": "#E5ECF6",
           "showlakes": true,
           "showland": true,
           "subunitcolor": "white"
          },
          "hoverlabel": {
           "align": "left"
          },
          "hovermode": "closest",
          "mapbox": {
           "style": "light"
          },
          "paper_bgcolor": "white",
          "plot_bgcolor": "#E5ECF6",
          "polar": {
           "angularaxis": {
            "gridcolor": "white",
            "linecolor": "white",
            "ticks": ""
           },
           "bgcolor": "#E5ECF6",
           "radialaxis": {
            "gridcolor": "white",
            "linecolor": "white",
            "ticks": ""
           }
          },
          "scene": {
           "xaxis": {
            "backgroundcolor": "#E5ECF6",
            "gridcolor": "white",
            "gridwidth": 2,
            "linecolor": "white",
            "showbackground": true,
            "ticks": "",
            "zerolinecolor": "white"
           },
           "yaxis": {
            "backgroundcolor": "#E5ECF6",
            "gridcolor": "white",
            "gridwidth": 2,
            "linecolor": "white",
            "showbackground": true,
            "ticks": "",
            "zerolinecolor": "white"
           },
           "zaxis": {
            "backgroundcolor": "#E5ECF6",
            "gridcolor": "white",
            "gridwidth": 2,
            "linecolor": "white",
            "showbackground": true,
            "ticks": "",
            "zerolinecolor": "white"
           }
          },
          "shapedefaults": {
           "line": {
            "color": "#2a3f5f"
           }
          },
          "ternary": {
           "aaxis": {
            "gridcolor": "white",
            "linecolor": "white",
            "ticks": ""
           },
           "baxis": {
            "gridcolor": "white",
            "linecolor": "white",
            "ticks": ""
           },
           "bgcolor": "#E5ECF6",
           "caxis": {
            "gridcolor": "white",
            "linecolor": "white",
            "ticks": ""
           }
          },
          "title": {
           "x": 0.05
          },
          "xaxis": {
           "automargin": true,
           "gridcolor": "white",
           "linecolor": "white",
           "ticks": "",
           "title": {
            "standoff": 15
           },
           "zerolinecolor": "white",
           "zerolinewidth": 2
          },
          "yaxis": {
           "automargin": true,
           "gridcolor": "white",
           "linecolor": "white",
           "ticks": "",
           "title": {
            "standoff": 15
           },
           "zerolinecolor": "white",
           "zerolinewidth": 2
          }
         }
        },
        "title": {
         "text": "Total amount of (un)loaded mail [tons] at Schiphol between 2019 and 2023"
        },
        "xaxis": {
         "anchor": "y",
         "domain": [
          0,
          1
         ],
         "title": {
          "text": "Period"
         }
        },
        "yaxis": {
         "anchor": "x",
         "categoryorder": "category ascending",
         "domain": [
          0,
          1
         ],
         "nticks": 12,
         "title": {
          "text": "Amount of mail in [tons]"
         }
        }
       }
      }
     },
     "metadata": {},
     "output_type": "display_data"
    }
   ],
   "source": [
    "# Select the right data from the dataset\n",
    "data_mail = data.loc[data['Periods'].str.contains('2019MM|2020MM|2021MM|2022MM|2023MM', case=False, regex=True)]\n",
    "data_mail = data_mail[data_mail['Airports'] == 'Schiphol']\n",
    "\n",
    "# Make a graph about the total number and type of mail [tons] at Schiphol between 2019 and 2023\n",
    "figmail = px.line(data_mail, \n",
    "                x = \"Periods\", \n",
    "                y = [\"Total Unloaded Mail [tons]\", \"Total Loaded Mail [tons]\"],\n",
    "                labels = {\n",
    "                    \"Periods\": \"Period\",\n",
    "                    \"value\": \"Amount of mail in [tons]\",\n",
    "                    \"variable\": \"Type of mail\"\n",
    "                    },\n",
    "                # log_y = True,\n",
    "                )\n",
    "\n",
    "# Adjust the layout and axes of the graph\n",
    "figmail.update_layout(\n",
    "                title={'text': 'Total amount of (un)loaded mail [tons] at Schiphol between 2019 and 2023'},\n",
    "                )\n",
    "\n",
    "figmail.update_yaxes(categoryorder = 'category ascending'\n",
    "                     )\n",
    "\n",
    "# Show graph\n",
    "figmail.show()"
   ]
  },
  {
   "cell_type": "markdown",
   "metadata": {},
   "source": [
    "--PUT THE MAP GRAPH HERE--"
   ]
  },
  {
   "cell_type": "markdown",
   "metadata": {},
   "source": [
    "#### Analysis\n",
    "\n",
    "##### *What did flight patterns look like before the COVID19 pandemic started?*\n",
    "<p>write here</p>\n",
    "\n",
    "##### *How did flight patterns change during the COVID19 pandemic?*\n",
    "<p>write here</p>\n",
    "\n",
    "##### *What do flight patterns look like nowadays?*\n",
    "<p>write here</p>"
   ]
  },
  {
   "cell_type": "markdown",
   "metadata": {},
   "source": [
    "### Chapter 5: Conclusion"
   ]
  },
  {
   "cell_type": "markdown",
   "metadata": {},
   "source": [
    "<p>WRITE OVERALL CONCLUSION</p>"
   ]
  },
  {
   "cell_type": "markdown",
   "metadata": {},
   "source": [
    "### Chapter 6: Recommendations"
   ]
  },
  {
   "cell_type": "markdown",
   "metadata": {},
   "source": [
    "<p>WRITE RECOMMENDATIONS</p>"
   ]
  }
 ],
 "metadata": {
  "kernelspec": {
   "display_name": "TIL6022",
   "language": "python",
   "name": "python3"
  },
  "language_info": {
   "codemirror_mode": {
    "name": "ipython",
    "version": 3
   },
   "file_extension": ".py",
   "mimetype": "text/x-python",
   "name": "python",
   "nbconvert_exporter": "python",
   "pygments_lexer": "ipython3",
   "version": "3.9.17"
  }
 },
 "nbformat": 4,
 "nbformat_minor": 2
}
