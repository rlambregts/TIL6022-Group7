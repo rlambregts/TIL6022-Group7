{
 "cells": [
  {
   "cell_type": "markdown",
   "id": "2baa9c9a",
   "metadata": {},
   "source": [
    "# The effect of COVID19 on flight behaviour at Dutch airports\n",
    "\n",
    "## Course: TIL6022 Python Programming\n",
    "\n",
    "### Group 7\n",
    "\n",
    "#### Authors: Charlotte van Rijsoort (5400546), Fleur van Steekelenburg (5313066), Romy Lambregts (4881036), Jasper van den Broek (5262887), Konstantina Mountouri (6074170)"
   ]
  },
  {
   "cell_type": "markdown",
   "id": "ab50ed1c",
   "metadata": {},
   "source": [
<<<<<<< HEAD
    "In the past few years, COVID19 took over our lives. It had a huge impact on politics, economics, health and anything else you can come up with. In this assignment, we take a look at this period of time and discuss what the effect of COVID19 was on the flight behaviour at the 5 major Dutch airports. The main focus of the airports is on Schiphol, Rotterdam The Hague Airport, Eindhoven Airport, Maastricht Aachen Airport and Groningen Airport. The type of flights is about passenger, cargo and mail flights."
=======
    "COVID-19 has had an influence on the number of passenger flights as well as cargo and mail flights. After the pandemic, the number of flights did not return to its initial numbers (2). This is because a lot of people discovered transport alternatives during the COVID-19 pandemic (1). The goal of this research is to show the impact of COVID-19 on the number of flights from Dutch aiports. A time frame is used from 2019 till 2023. In this way it can be analyzed if the changes caused by COVID-19 continue in the upcoming years. "
   ]
  },
  {
   "cell_type": "markdown",
   "id": "4a0212ff-bead-4674-8884-a1d080b9df84",
   "metadata": {},
   "source": [
    "## _Research Objective_\n",
    "\n",
    "*Requires data modeling and quantitative research in Transport, Infrastructure & Logistics*"
   ]
  },
  {
   "cell_type": "markdown",
   "id": "89643b4e-a2d9-42ff-9a54-328faa491656",
   "metadata": {},
   "source": [
    "**Research Question:** What is the effect of COVID-19 on flight behaviour from Dutch airports from 2019 till 2023? <br>\n",
    "**Sub Questions:** <br>\n",
    "- What is the effect on the number of passenger flights?\n",
    "- What is the effect on the number of tons cargo?\n",
    "- What is the effect on mail?\n",
    "\n",
    "Dutch airports are classified as: Schiphol, Rotterdam The Hague Airport, Eindhoven Airport, Maastricht Aachen Airport and Groningen Airport."
   ]
  },
  {
   "cell_type": "markdown",
   "id": "bab85e44-6360-4e7a-884b-81c2bc3eb771",
   "metadata": {},
   "source": [
    "To answer these questions several plots are made in python, in this way an overview can be created of the number of flights in relation to the number of COVID-19 infections. To create these plots, two different datasets are used. The first dataset is about the number of flights on five Dutch airports, respectively Schiphol, Rotterdam The Hague, Eindhoven Airport, Maastricht Aachen, and Groningen (3). The second dataset is about the number of COVID-19 infections in the Netherlands. "
   ]
  },
  {
   "cell_type": "markdown",
   "id": "cffec95a-be54-43cd-8ea4-24801dfbfd0e",
   "metadata": {},
   "source": [
    "# Contribution Statement"
   ]
  },
  {
   "cell_type": "markdown",
   "id": "157f5cd3-543e-4ea4-85dc-e8f67c9d7443",
   "metadata": {},
   "source": [
    "We all work on everything during the project. The main tasks will be collecting data (1), importing data (2), combining datasets (3), filtering data (4), analysing data (5), visualising (6)."
   ]
  },
  {
   "cell_type": "markdown",
   "id": "9eb2eee4-9b20-4da5-998e-c3ee18350dc4",
   "metadata": {},
   "source": [
    "# Data Used"
   ]
  },
  {
   "cell_type": "markdown",
   "id": "471e5781-9f58-4ca6-b819-44e34b61c438",
   "metadata": {},
   "source": [
    "Data flights: https://opendata.cbs.nl/statline/portal.html?_la=en&_catalog=CBS&tableId=37478eng&_theme=1171 <br>\n",
    "Data COVID: COVID_19_aantallen_gemeente_cumulatief.csv"
   ]
  },
  {
   "cell_type": "markdown",
   "id": "4796dd9c-ac3b-41be-b34e-92be0c15eb82",
   "metadata": {},
   "source": [
    "# Data Pipeline"
   ]
  },
  {
   "cell_type": "markdown",
   "id": "d1bf6fbe-c68e-4163-92c8-d83e1c4abc46",
   "metadata": {},
   "source": [
    "Github: https://github.com/rlambregts/TIL6022-Group7.git"
   ]
  },
  {
   "cell_type": "markdown",
   "id": "670a1a6f-d7bc-4e79-86c0-3aa9a575a12d",
   "metadata": {},
   "source": [
    "# Python code:"
>>>>>>> 415bc22e89605e38198c33d222baf157c578a219
   ]
  },
  {
   "cell_type": "markdown",
   "id": "17a6affb",
   "metadata": {},
   "source": [
    "##### Import Data"
   ]
  },
  {
   "cell_type": "code",
<<<<<<< HEAD
   "execution_count": 250,
=======
   "execution_count": 14,
>>>>>>> 415bc22e89605e38198c33d222baf157c578a219
   "id": "a366e883-10ef-4d94-8d02-d36e5b0c2100",
   "metadata": {},
   "outputs": [],
   "source": [
    "import pandas as pd\n",
<<<<<<< HEAD
    "import numpy as np\n",
    "import plotly.express as px\n",
    "import calendar\n",
    "from datetime import datetime\n",
    "import plotly.graph_objects as go\n",
    "from plotly.subplots import make_subplots\n",
    "\n"
=======
    "import plotly.express as px\n",
    "import calendar\n",
    "from datetime import datetime #In this cel the data is imported"
>>>>>>> 415bc22e89605e38198c33d222baf157c578a219
   ]
  },
  {
   "cell_type": "code",
<<<<<<< HEAD
   "execution_count": 251,
=======
   "execution_count": 15,
>>>>>>> 415bc22e89605e38198c33d222baf157c578a219
   "id": "5df9f5e0-5bf9-4fe5-9307-44886da601ff",
   "metadata": {},
   "outputs": [
    {
     "data": {
      "text/html": [
       "<div>\n",
       "<style scoped>\n",
       "    .dataframe tbody tr th:only-of-type {\n",
       "        vertical-align: middle;\n",
       "    }\n",
       "\n",
       "    .dataframe tbody tr th {\n",
       "        vertical-align: top;\n",
       "    }\n",
       "\n",
       "    .dataframe thead th {\n",
       "        text-align: right;\n",
       "    }\n",
       "</style>\n",
       "<table border=\"1\" class=\"dataframe\">\n",
       "  <thead>\n",
       "    <tr style=\"text-align: right;\">\n",
       "      <th></th>\n",
       "      <th>ID</th>\n",
       "      <th>Airports</th>\n",
       "      <th>Periods</th>\n",
       "      <th>CrossCountryFlights_1</th>\n",
       "      <th>LocalFlights_2</th>\n",
       "      <th>Total Flights</th>\n",
       "      <th>Scheduled_4</th>\n",
       "      <th>NonScheduled_5</th>\n",
       "      <th>TotalArrivalsFlights_6</th>\n",
       "      <th>Scheduled_7</th>\n",
       "      <th>...</th>\n",
       "      <th>SouthAfrica_93</th>\n",
       "      <th>America_94</th>\n",
       "      <th>NorthAmerica_95</th>\n",
       "      <th>CentralAmerica_96</th>\n",
       "      <th>SouthAmerica_97</th>\n",
       "      <th>Asia_98</th>\n",
       "      <th>WestAsia_99</th>\n",
       "      <th>SouthEastAsia_100</th>\n",
       "      <th>NorthEastAsia_101</th>\n",
       "      <th>Oceania_102</th>\n",
       "    </tr>\n",
       "  </thead>\n",
       "  <tbody>\n",
       "    <tr>\n",
       "      <th>0</th>\n",
       "      <td>0</td>\n",
       "      <td>TOTAL</td>\n",
       "      <td>1997JJ00</td>\n",
       "      <td>467579</td>\n",
       "      <td>206214</td>\n",
       "      <td>400118</td>\n",
       "      <td>364095</td>\n",
       "      <td>36023</td>\n",
       "      <td>200040</td>\n",
       "      <td>182043</td>\n",
       "      <td>...</td>\n",
       "      <td>.</td>\n",
       "      <td>.</td>\n",
       "      <td>.</td>\n",
       "      <td>.</td>\n",
       "      <td>.</td>\n",
       "      <td>.</td>\n",
       "      <td>.</td>\n",
       "      <td>.</td>\n",
       "      <td>.</td>\n",
       "      <td>.</td>\n",
       "    </tr>\n",
       "    <tr>\n",
       "      <th>1</th>\n",
       "      <td>1</td>\n",
       "      <td>TOTAL</td>\n",
       "      <td>1998JJ00</td>\n",
       "      <td>485852</td>\n",
       "      <td>201265</td>\n",
       "      <td>425608</td>\n",
       "      <td>387560</td>\n",
       "      <td>38048</td>\n",
       "      <td>212751</td>\n",
       "      <td>193792</td>\n",
       "      <td>...</td>\n",
       "      <td>.</td>\n",
       "      <td>.</td>\n",
       "      <td>.</td>\n",
       "      <td>.</td>\n",
       "      <td>.</td>\n",
       "      <td>.</td>\n",
       "      <td>.</td>\n",
       "      <td>.</td>\n",
       "      <td>.</td>\n",
       "      <td>.</td>\n",
       "    </tr>\n",
       "    <tr>\n",
       "      <th>2</th>\n",
       "      <td>2</td>\n",
       "      <td>TOTAL</td>\n",
       "      <td>1999MM01</td>\n",
       "      <td>36810</td>\n",
       "      <td>14868</td>\n",
       "      <td>33145</td>\n",
       "      <td>31222</td>\n",
       "      <td>1923</td>\n",
       "      <td>16565</td>\n",
       "      <td>15616</td>\n",
       "      <td>...</td>\n",
       "      <td>.</td>\n",
       "      <td>.</td>\n",
       "      <td>.</td>\n",
       "      <td>.</td>\n",
       "      <td>.</td>\n",
       "      <td>.</td>\n",
       "      <td>.</td>\n",
       "      <td>.</td>\n",
       "      <td>.</td>\n",
       "      <td>.</td>\n",
       "    </tr>\n",
       "    <tr>\n",
       "      <th>3</th>\n",
       "      <td>3</td>\n",
       "      <td>TOTAL</td>\n",
       "      <td>1999MM02</td>\n",
       "      <td>34356</td>\n",
       "      <td>11314</td>\n",
       "      <td>30912</td>\n",
       "      <td>29015</td>\n",
       "      <td>1897</td>\n",
       "      <td>15444</td>\n",
       "      <td>14513</td>\n",
       "      <td>...</td>\n",
       "      <td>.</td>\n",
       "      <td>.</td>\n",
       "      <td>.</td>\n",
       "      <td>.</td>\n",
       "      <td>.</td>\n",
       "      <td>.</td>\n",
       "      <td>.</td>\n",
       "      <td>.</td>\n",
       "      <td>.</td>\n",
       "      <td>.</td>\n",
       "    </tr>\n",
       "    <tr>\n",
       "      <th>4</th>\n",
       "      <td>4</td>\n",
       "      <td>TOTAL</td>\n",
       "      <td>1999MM03</td>\n",
       "      <td>41290</td>\n",
       "      <td>18152</td>\n",
       "      <td>35591</td>\n",
       "      <td>33278</td>\n",
       "      <td>2313</td>\n",
       "      <td>17802</td>\n",
       "      <td>16644</td>\n",
       "      <td>...</td>\n",
       "      <td>.</td>\n",
       "      <td>.</td>\n",
       "      <td>.</td>\n",
       "      <td>.</td>\n",
       "      <td>.</td>\n",
       "      <td>.</td>\n",
       "      <td>.</td>\n",
       "      <td>.</td>\n",
       "      <td>.</td>\n",
       "      <td>.</td>\n",
       "    </tr>\n",
       "    <tr>\n",
       "      <th>...</th>\n",
       "      <td>...</td>\n",
       "      <td>...</td>\n",
       "      <td>...</td>\n",
       "      <td>...</td>\n",
       "      <td>...</td>\n",
       "      <td>...</td>\n",
       "      <td>...</td>\n",
       "      <td>...</td>\n",
       "      <td>...</td>\n",
       "      <td>...</td>\n",
       "      <td>...</td>\n",
       "      <td>...</td>\n",
       "      <td>...</td>\n",
       "      <td>...</td>\n",
       "      <td>...</td>\n",
       "      <td>...</td>\n",
       "      <td>...</td>\n",
       "      <td>...</td>\n",
       "      <td>...</td>\n",
       "      <td>...</td>\n",
       "      <td>...</td>\n",
       "    </tr>\n",
       "    <tr>\n",
       "      <th>2515</th>\n",
       "      <td>2515</td>\n",
       "      <td>Groningen</td>\n",
       "      <td>2023MM05</td>\n",
       "      <td>1100</td>\n",
       "      <td>4939</td>\n",
       "      <td>126</td>\n",
       "      <td>0</td>\n",
       "      <td>126</td>\n",
       "      <td>56</td>\n",
       "      <td>0</td>\n",
       "      <td>...</td>\n",
       "      <td>0</td>\n",
       "      <td>0</td>\n",
       "      <td>0</td>\n",
       "      <td>0</td>\n",
       "      <td>0</td>\n",
       "      <td>0</td>\n",
       "      <td>0</td>\n",
       "      <td>0</td>\n",
       "      <td>0</td>\n",
       "      <td>0</td>\n",
       "    </tr>\n",
       "    <tr>\n",
       "      <th>2516</th>\n",
       "      <td>2516</td>\n",
       "      <td>Groningen</td>\n",
       "      <td>2023MM06</td>\n",
       "      <td>1194</td>\n",
       "      <td>5484</td>\n",
       "      <td>126</td>\n",
       "      <td>0</td>\n",
       "      <td>126</td>\n",
       "      <td>64</td>\n",
       "      <td>0</td>\n",
       "      <td>...</td>\n",
       "      <td>0</td>\n",
       "      <td>0</td>\n",
       "      <td>0</td>\n",
       "      <td>0</td>\n",
       "      <td>0</td>\n",
       "      <td>0</td>\n",
       "      <td>0</td>\n",
       "      <td>0</td>\n",
       "      <td>0</td>\n",
       "      <td>0</td>\n",
       "    </tr>\n",
       "    <tr>\n",
       "      <th>2517</th>\n",
       "      <td>2517</td>\n",
       "      <td>Groningen</td>\n",
       "      <td>2023KW02</td>\n",
       "      <td>3324</td>\n",
       "      <td>15193</td>\n",
       "      <td>313</td>\n",
       "      <td>0</td>\n",
       "      <td>313</td>\n",
       "      <td>150</td>\n",
       "      <td>0</td>\n",
       "      <td>...</td>\n",
       "      <td>0</td>\n",
       "      <td>0</td>\n",
       "      <td>0</td>\n",
       "      <td>0</td>\n",
       "      <td>0</td>\n",
       "      <td>0</td>\n",
       "      <td>0</td>\n",
       "      <td>0</td>\n",
       "      <td>0</td>\n",
       "      <td>0</td>\n",
       "    </tr>\n",
       "    <tr>\n",
       "      <th>2518</th>\n",
       "      <td>2518</td>\n",
       "      <td>Groningen</td>\n",
       "      <td>2023MM07</td>\n",
       "      <td>1016</td>\n",
       "      <td>4229</td>\n",
       "      <td>126</td>\n",
       "      <td>0</td>\n",
       "      <td>126</td>\n",
       "      <td>62</td>\n",
       "      <td>0</td>\n",
       "      <td>...</td>\n",
       "      <td>0</td>\n",
       "      <td>0</td>\n",
       "      <td>0</td>\n",
       "      <td>0</td>\n",
       "      <td>0</td>\n",
       "      <td>0</td>\n",
       "      <td>0</td>\n",
       "      <td>0</td>\n",
       "      <td>0</td>\n",
       "      <td>0</td>\n",
       "    </tr>\n",
       "    <tr>\n",
       "      <th>2519</th>\n",
       "      <td>2519</td>\n",
       "      <td>Groningen</td>\n",
       "      <td>2023MM08</td>\n",
       "      <td>1045</td>\n",
       "      <td>5272</td>\n",
       "      <td>157</td>\n",
       "      <td>0</td>\n",
       "      <td>157</td>\n",
       "      <td>73</td>\n",
       "      <td>0</td>\n",
       "      <td>...</td>\n",
       "      <td>0</td>\n",
       "      <td>0</td>\n",
       "      <td>0</td>\n",
       "      <td>0</td>\n",
       "      <td>0</td>\n",
       "      <td>0</td>\n",
       "      <td>0</td>\n",
       "      <td>0</td>\n",
       "      <td>0</td>\n",
       "      <td>0</td>\n",
       "    </tr>\n",
       "  </tbody>\n",
       "</table>\n",
       "<p>2520 rows × 105 columns</p>\n",
       "</div>"
      ],
      "text/plain": [
       "        ID   Airports   Periods  CrossCountryFlights_1  LocalFlights_2  \\\n",
       "0        0      TOTAL  1997JJ00                 467579          206214   \n",
       "1        1      TOTAL  1998JJ00                 485852          201265   \n",
       "2        2      TOTAL  1999MM01                  36810           14868   \n",
       "3        3      TOTAL  1999MM02                  34356           11314   \n",
       "4        4      TOTAL  1999MM03                  41290           18152   \n",
       "...    ...        ...       ...                    ...             ...   \n",
       "2515  2515  Groningen  2023MM05                   1100            4939   \n",
       "2516  2516  Groningen  2023MM06                   1194            5484   \n",
       "2517  2517  Groningen  2023KW02                   3324           15193   \n",
       "2518  2518  Groningen  2023MM07                   1016            4229   \n",
       "2519  2519  Groningen  2023MM08                   1045            5272   \n",
       "\n",
       "      Total Flights Scheduled_4  NonScheduled_5  TotalArrivalsFlights_6  \\\n",
       "0            400118      364095           36023                  200040   \n",
       "1            425608      387560           38048                  212751   \n",
       "2             33145       31222            1923                   16565   \n",
       "3             30912       29015            1897                   15444   \n",
       "4             35591       33278            2313                   17802   \n",
       "...             ...         ...             ...                     ...   \n",
       "2515            126           0             126                      56   \n",
       "2516            126           0             126                      64   \n",
       "2517            313           0             313                     150   \n",
       "2518            126           0             126                      62   \n",
       "2519            157           0             157                      73   \n",
       "\n",
       "     Scheduled_7  ...  SouthAfrica_93  America_94 NorthAmerica_95  \\\n",
       "0         182043  ...               .           .               .   \n",
       "1         193792  ...               .           .               .   \n",
       "2          15616  ...               .           .               .   \n",
       "3          14513  ...               .           .               .   \n",
       "4          16644  ...               .           .               .   \n",
       "...          ...  ...             ...         ...             ...   \n",
       "2515           0  ...               0           0               0   \n",
       "2516           0  ...               0           0               0   \n",
       "2517           0  ...               0           0               0   \n",
       "2518           0  ...               0           0               0   \n",
       "2519           0  ...               0           0               0   \n",
       "\n",
       "      CentralAmerica_96  SouthAmerica_97   Asia_98  WestAsia_99  \\\n",
       "0                     .                .         .            .   \n",
       "1                     .                .         .            .   \n",
       "2                     .                .         .            .   \n",
       "3                     .                .         .            .   \n",
       "4                     .                .         .            .   \n",
       "...                 ...              ...       ...          ...   \n",
       "2515                  0                0         0            0   \n",
       "2516                  0                0         0            0   \n",
       "2517                  0                0         0            0   \n",
       "2518                  0                0         0            0   \n",
       "2519                  0                0         0            0   \n",
       "\n",
       "      SouthEastAsia_100 NorthEastAsia_101  Oceania_102  \n",
       "0                     .                 .            .  \n",
       "1                     .                 .            .  \n",
       "2                     .                 .            .  \n",
       "3                     .                 .            .  \n",
       "4                     .                 .            .  \n",
       "...                 ...               ...          ...  \n",
       "2515                  0                 0            0  \n",
       "2516                  0                 0            0  \n",
       "2517                  0                 0            0  \n",
       "2518                  0                 0            0  \n",
       "2519                  0                 0            0  \n",
       "\n",
       "[2520 rows x 105 columns]"
      ]
     },
<<<<<<< HEAD
     "execution_count": 251,
=======
     "execution_count": 15,
>>>>>>> 415bc22e89605e38198c33d222baf157c578a219
     "metadata": {},
     "output_type": "execute_result"
    }
   ],
   "source": [
    "file_path = '37478eng_UntypedDataSet_09102023_105711.csv'\n",
    "\n",
    "data = pd.read_csv(file_path, delimiter=';')\n",
    "\n",
<<<<<<< HEAD
    "data.loc[ data['Airports'] == 'A045844', 'Airports'] = 'TOTAL'\n",
=======
    "data.loc[ data['Airports'] == 'A045844', 'Airports'] = 'TOTAL' #The names are changed to make it more usefull\n",
>>>>>>> 415bc22e89605e38198c33d222baf157c578a219
    "data.loc[ data['Airports'] == 'A043590', 'Airports'] = 'Schiphol'\n",
    "data.loc[ data['Airports'] == 'A043596', 'Airports'] = 'Rotterdam The Hague'\n",
    "data.loc[ data['Airports'] == 'A043591', 'Airports'] = 'Eindhoven'\n",
    "data.loc[ data['Airports'] == 'A043595', 'Airports'] = 'Maastricht Aachen'\n",
    "data.loc[ data['Airports'] == 'A043593', 'Airports'] = 'Groningen'\n",
    "\n",
    "data.set_index('ID')\n",
    "\n",
    "data.rename(columns={\"TotalFlights_3\": \"Total Flights\", \n",
    "                    \"TotalPassengers_12\": \"Total Passengers\",\n",
    "                    \"TotalCargo_43\": \"Total Cargo [tons]\",\n",
<<<<<<< HEAD
    "                    \"TotalMail_74\": \"Total Mail [tons]\",\n",
    "                    \"TotalUnloadedMail_77\": \"Total Unloaded Mail [tons]\",\n",
    "                    \"TotalLoadedMail_80\": \"Total Loaded Mail [tons]\"},\n",
=======
    "                    \"TotalMail_74\":\n",
    "                    \"Total Mail [tons]\"},\n",
>>>>>>> 415bc22e89605e38198c33d222baf157c578a219
    "            inplace=True)\n",
    "\n",
    "data"
   ]
  },
  {
   "cell_type": "code",
<<<<<<< HEAD
   "execution_count": 252,
=======
   "execution_count": 16,
>>>>>>> 415bc22e89605e38198c33d222baf157c578a219
   "id": "5aaa9d66-7fa1-4ce2-954a-7b9f6ab9685f",
   "metadata": {},
   "outputs": [],
   "source": [
    "# data_2019 = data.loc[data['Periods'].str.contains('2019MM', case=False)]\n",
    "\n",
    "# print(f'Dataframe shape: {data_2019.shape}')\n",
    "\n",
    "# fig2019 = px.line(data_2019, \n",
    "#                 x = \"Periods\", \n",
    "#                 y = \"Total Flights\",\n",
    "#                 color = \"Airports\",\n",
    "#                 symbol = \"Airports\"\n",
    "#                 )\n",
    "\n",
    "# fig2019.update_layout(\n",
    "#                 title={'text': 'Number of flights per Dutch airport in 2019'},\n",
    "#                 autosize=False,\n",
    "#                 width=1200,\n",
    "#                 height=1000\n",
    "#                 )\n",
    "\n",
    "# fig2019.show()\n"
   ]
  },
  {
   "cell_type": "code",
<<<<<<< HEAD
   "execution_count": 253,
=======
   "execution_count": 17,
>>>>>>> 415bc22e89605e38198c33d222baf157c578a219
   "id": "662748e7-359f-4f62-aa34-534dc97401a1",
   "metadata": {},
   "outputs": [],
   "source": [
    "# data_2020 = data.loc[data['Periods'].str.contains('2020MM', case=False)]\n",
    "\n",
    "# print(f'Dataframe shape: {data_2020.shape}')\n",
    "\n",
    "# fig2020 = px.line(data_2020, \n",
    "#                 x = \"Periods\", \n",
    "#                 y = \"Total Flights\",\n",
    "#                 color = \"Airports\",\n",
    "#                 symbol = \"Airports\"\n",
    "#                 )\n",
    "\n",
    "# fig2020.update_layout(\n",
    "#                 title={'text': 'Number of flights per Dutch airport in 2020'},\n",
    "#                 autosize=False,\n",
    "#                 width=1200,\n",
    "#                 height=1000\n",
    "#                 )\n",
    "\n",
    "# fig2020.show()"
   ]
  },
  {
   "cell_type": "code",
<<<<<<< HEAD
   "execution_count": 254,
=======
   "execution_count": 18,
>>>>>>> 415bc22e89605e38198c33d222baf157c578a219
   "id": "49e4d22a",
   "metadata": {},
   "outputs": [],
   "source": [
    "# data_2021 = data.loc[data['Periods'].str.contains('2021MM', case=False)]\n",
    "\n",
    "# print(f'Dataframe shape: {data_2021.shape}')\n",
    "\n",
    "# fig2021 = px.line(data_2021, \n",
    "#                 x = \"Periods\", \n",
    "#                 y = \"Total Flights\",\n",
    "#                 color = \"Airports\",\n",
    "#                 symbol = \"Airports\"\n",
    "#                 )\n",
    "\n",
    "# fig2021.update_layout(\n",
    "#                 title={'text': 'Number of flights per Dutch airport in 2021'},\n",
    "#                 autosize=False,\n",
    "#                 width=1200,\n",
    "#                 height=1000\n",
    "#                 )\n",
    "\n",
    "# fig2021.show()"
   ]
  },
  {
   "cell_type": "code",
<<<<<<< HEAD
   "execution_count": 255,
=======
   "execution_count": 19,
>>>>>>> 415bc22e89605e38198c33d222baf157c578a219
   "id": "02a72052",
   "metadata": {},
   "outputs": [],
   "source": [
    "# data_2022 = data.loc[data['Periods'].str.contains('2022MM', case=False)]\n",
    "\n",
    "# print(f'Dataframe shape: {data_2022.shape}')\n",
    "\n",
    "# fig2022 = px.line(data_2022, \n",
    "#                 x = \"Periods\", \n",
    "#                 y = \"Total Flights\",\n",
    "#                 color = \"Airports\",\n",
    "#                 symbol = \"Airports\"\n",
    "#                 )\n",
    "\n",
    "# fig2022.update_layout(\n",
    "#                 title={'text': 'Number of flights per Dutch airport in 2022'},\n",
    "#                 autosize=False,\n",
    "#                 width=1200,\n",
    "#                 height=1000\n",
    "#                 )\n",
    "\n",
    "# fig2022.show()"
   ]
  },
  {
   "cell_type": "code",
<<<<<<< HEAD
   "execution_count": 256,
=======
   "execution_count": 20,
>>>>>>> 415bc22e89605e38198c33d222baf157c578a219
   "id": "acb3f4d7",
   "metadata": {},
   "outputs": [],
   "source": [
    "# data_2023 = data.loc[data['Periods'].str.contains('2023MM', case=False)]\n",
    "\n",
    "# print(f'Dataframe shape: {data_2023.shape}')\n",
    "\n",
    "# fig2023 = px.line(data_2023, \n",
    "#                 x = \"Periods\", \n",
    "#                 y = \"Total Flights\",\n",
    "#                 color = \"Airports\",\n",
    "#                 symbol = \"Airports\"\n",
    "#                 )\n",
    "\n",
    "# fig2023.update_layout(\n",
    "#                 title={'text': 'Number of flights per Dutch airport in 2023'},\n",
    "#                 autosize=False,\n",
    "#                 width=1200,\n",
    "#                 height=1000\n",
    "#                 )\n",
    "\n",
    "# fig2023.show()"
   ]
  },
  {
<<<<<<< HEAD
   "cell_type": "code",
   "execution_count": 257,
=======
   "cell_type": "markdown",
   "id": "bf392d99",
   "metadata": {},
   "source": [
    "# Total Flights"
   ]
  },
  {
   "cell_type": "code",
   "execution_count": 21,
>>>>>>> 415bc22e89605e38198c33d222baf157c578a219
   "id": "e54fc02e",
   "metadata": {},
   "outputs": [
    {
     "name": "stdout",
     "output_type": "stream",
     "text": [
      "Dataframe shape: (336, 105)\n"
     ]
    },
    {
     "data": {
      "application/vnd.plotly.v1+json": {
       "config": {
        "plotlyServerURL": "https://plot.ly"
       },
       "data": [
        {
         "hovertemplate": "Airports=TOTAL<br>Periods=%{x}<br>Total Flights=%{y}<extra></extra>",
         "legendgroup": "TOTAL",
         "line": {
          "color": "#636efa",
          "dash": "solid"
         },
         "marker": {
          "symbol": "circle"
         },
<<<<<<< HEAD
         "mode": "lines+markers",
=======
         "mode": "markers+lines",
>>>>>>> 415bc22e89605e38198c33d222baf157c578a219
         "name": "TOTAL",
         "orientation": "v",
         "showlegend": true,
         "type": "scatter",
         "x": [
          "2019MM01",
          "2019MM02",
          "2019MM03",
          "2019MM04",
          "2019MM05",
          "2019MM06",
          "2019MM07",
          "2019MM08",
          "2019MM09",
          "2019MM10",
          "2019MM11",
          "2019MM12",
          "2020MM01",
          "2020MM02",
          "2020MM03",
          "2020MM04",
          "2020MM05",
          "2020MM06",
          "2020MM07",
          "2020MM08",
          "2020MM09",
          "2020MM10",
          "2020MM11",
          "2020MM12",
          "2021MM01",
          "2021MM02",
          "2021MM03",
          "2021MM04",
          "2021MM05",
          "2021MM06",
          "2021MM07",
          "2021MM08",
          "2021MM09",
          "2021MM10",
          "2021MM11",
          "2021MM12",
          "2022MM01",
          "2022MM02",
          "2022MM03",
          "2022MM04",
          "2022MM05",
          "2022MM06",
          "2022MM07",
          "2022MM08",
          "2022MM09",
          "2022MM10",
          "2022MM11",
          "2022MM12",
          "2023MM01",
          "2023MM02",
          "2023MM03",
          "2023MM04",
          "2023MM05",
          "2023MM06",
          "2023MM07",
          "2023MM08"
         ],
         "xaxis": "x",
         "y": [
          41285,
          39204,
          44649,
          47934,
          51719,
          50135,
          51786,
          52127,
          51091,
          51135,
          42195,
          42771,
          41768,
          39299,
          28306,
          4759,
          6556,
          9336,
          19701,
          27575,
          25290,
          22028,
          16283,
          17325,
          15907,
          11528,
          13228,
          14891,
          16987,
          21701,
          33916,
          37282,
          35262,
          36465,
          32026,
          33869,
          29604,
          27456,
          34568,
          38824,
          44823,
          43248,
          43218,
          44862,
          43523,
          42909,
          34597,
          34968,
          34322,
          32416,
          38044,
          41609,
          45469,
          44638,
          47556,
          48111
         ],
         "yaxis": "y"
        },
        {
         "hovertemplate": "Airports=Schiphol<br>Periods=%{x}<br>Total Flights=%{y}<extra></extra>",
         "legendgroup": "Schiphol",
         "line": {
          "color": "#EF553B",
          "dash": "solid"
         },
         "marker": {
          "symbol": "diamond"
         },
<<<<<<< HEAD
         "mode": "lines+markers",
=======
         "mode": "markers+lines",
>>>>>>> 415bc22e89605e38198c33d222baf157c578a219
         "name": "Schiphol",
         "orientation": "v",
         "showlegend": true,
         "type": "scatter",
         "x": [
          "2019MM01",
          "2019MM02",
          "2019MM03",
          "2019MM04",
          "2019MM05",
          "2019MM06",
          "2019MM07",
          "2019MM08",
          "2019MM09",
          "2019MM10",
          "2019MM11",
          "2019MM12",
          "2020MM01",
          "2020MM02",
          "2020MM03",
          "2020MM04",
          "2020MM05",
          "2020MM06",
          "2020MM07",
          "2020MM08",
          "2020MM09",
          "2020MM10",
          "2020MM11",
          "2020MM12",
          "2021MM01",
          "2021MM02",
          "2021MM03",
          "2021MM04",
          "2021MM05",
          "2021MM06",
          "2021MM07",
          "2021MM08",
          "2021MM09",
          "2021MM10",
          "2021MM11",
          "2021MM12",
          "2022MM01",
          "2022MM02",
          "2022MM03",
          "2022MM04",
          "2022MM05",
          "2022MM06",
          "2022MM07",
          "2022MM08",
          "2022MM09",
          "2022MM10",
          "2022MM11",
          "2022MM12",
          "2023MM01",
          "2023MM02",
          "2023MM03",
          "2023MM04",
          "2023MM05",
          "2023MM06",
          "2023MM07",
          "2023MM08"
         ],
         "xaxis": "x",
         "y": [
          37185,
          35195,
          39785,
          41892,
          44706,
          43348,
          44736,
          45122,
          44131,
          44502,
          37800,
          38425,
          37567,
          34979,
          25155,
          4236,
          5873,
          8108,
          15702,
          23125,
          22162,
          19614,
          14858,
          15896,
          14666,
          10655,
          12217,
          13720,
          15576,
          19195,
          29141,
          31847,
          30019,
          31324,
          28371,
          30225,
          26231,
          24129,
          30382,
          33421,
          38419,
          36919,
          36000,
          37730,
          37027,
          36361,
          30348,
          30669,
          29987,
          28345,
          33128,
          36258,
          39568,
          38912,
          40965,
          41584
         ],
         "yaxis": "y"
        },
        {
         "hovertemplate": "Airports=Rotterdam The Hague<br>Periods=%{x}<br>Total Flights=%{y}<extra></extra>",
         "legendgroup": "Rotterdam The Hague",
         "line": {
          "color": "#00cc96",
          "dash": "solid"
         },
         "marker": {
          "symbol": "square"
         },
<<<<<<< HEAD
         "mode": "lines+markers",
=======
         "mode": "markers+lines",
>>>>>>> 415bc22e89605e38198c33d222baf157c578a219
         "name": "Rotterdam The Hague",
         "orientation": "v",
         "showlegend": true,
         "type": "scatter",
         "x": [
          "2019MM01",
          "2019MM02",
          "2019MM03",
          "2019MM04",
          "2019MM05",
          "2019MM06",
          "2019MM07",
          "2019MM08",
          "2019MM09",
          "2019MM10",
          "2019MM11",
          "2019MM12",
          "2020MM01",
          "2020MM02",
          "2020MM03",
          "2020MM04",
          "2020MM05",
          "2020MM06",
          "2020MM07",
          "2020MM08",
          "2020MM09",
          "2020MM10",
          "2020MM11",
          "2020MM12",
          "2021MM01",
          "2021MM02",
          "2021MM03",
          "2021MM04",
          "2021MM05",
          "2021MM06",
          "2021MM07",
          "2021MM08",
          "2021MM09",
          "2021MM10",
          "2021MM11",
          "2021MM12",
          "2022MM01",
          "2022MM02",
          "2022MM03",
          "2022MM04",
          "2022MM05",
          "2022MM06",
          "2022MM07",
          "2022MM08",
          "2022MM09",
          "2022MM10",
          "2022MM11",
          "2022MM12",
          "2023MM01",
          "2023MM02",
          "2023MM03",
          "2023MM04",
          "2023MM05",
          "2023MM06",
          "2023MM07",
          "2023MM08"
         ],
         "xaxis": "x",
         "y": [
          938,
          978,
          1286,
          1556,
          2011,
          1943,
          2039,
          2099,
          1997,
          1771,
          910,
          878,
          963,
          1031,
          748,
          41,
          46,
          168,
          1032,
          1071,
          635,
          353,
          134,
          115,
          181,
          144,
          185,
          195,
          267,
          579,
          1312,
          1516,
          1410,
          1303,
          674,
          541,
          734,
          699,
          989,
          1437,
          1974,
          1858,
          2465,
          2353,
          1927,
          1914,
          1037,
          996,
          1052,
          1108,
          1455,
          1469,
          1851,
          1826,
          2025,
          1962
         ],
         "yaxis": "y"
        },
        {
         "hovertemplate": "Airports=Eindhoven<br>Periods=%{x}<br>Total Flights=%{y}<extra></extra>",
         "legendgroup": "Eindhoven",
         "line": {
          "color": "#ab63fa",
          "dash": "solid"
         },
         "marker": {
          "symbol": "x"
         },
<<<<<<< HEAD
         "mode": "lines+markers",
=======
         "mode": "markers+lines",
>>>>>>> 415bc22e89605e38198c33d222baf157c578a219
         "name": "Eindhoven",
         "orientation": "v",
         "showlegend": true,
         "type": "scatter",
         "x": [
          "2019MM01",
          "2019MM02",
          "2019MM03",
          "2019MM04",
          "2019MM05",
          "2019MM06",
          "2019MM07",
          "2019MM08",
          "2019MM09",
          "2019MM10",
          "2019MM11",
          "2019MM12",
          "2020MM01",
          "2020MM02",
          "2020MM03",
          "2020MM04",
          "2020MM05",
          "2020MM06",
          "2020MM07",
          "2020MM08",
          "2020MM09",
          "2020MM10",
          "2020MM11",
          "2020MM12",
          "2021MM01",
          "2021MM02",
          "2021MM03",
          "2021MM04",
          "2021MM05",
          "2021MM06",
          "2021MM07",
          "2021MM08",
          "2021MM09",
          "2021MM10",
          "2021MM11",
          "2021MM12",
          "2022MM01",
          "2022MM02",
          "2022MM03",
          "2022MM04",
          "2022MM05",
          "2022MM06",
          "2022MM07",
          "2022MM08",
          "2022MM09",
          "2022MM10",
          "2022MM11",
          "2022MM12",
          "2023MM01",
          "2023MM02",
          "2023MM03",
          "2023MM04",
          "2023MM05",
          "2023MM06",
          "2023MM07",
          "2023MM08"
         ],
         "xaxis": "x",
         "y": [
          2579,
          2417,
          2854,
          3573,
          3933,
          3836,
          3922,
          3933,
          3913,
          3870,
          2641,
          2738,
          2554,
          2649,
          1888,
          148,
          178,
          565,
          2292,
          2713,
          1947,
          1451,
          721,
          769,
          572,
          169,
          226,
          373,
          562,
          1428,
          2779,
          3245,
          3112,
          3097,
          2390,
          2571,
          2133,
          2151,
          2700,
          3390,
          3768,
          3724,
          3909,
          3948,
          3800,
          3935,
          2683,
          2838,
          2843,
          2565,
          2970,
          3495,
          3864,
          3774,
          3915,
          3929
         ],
         "yaxis": "y"
        },
        {
         "hovertemplate": "Airports=Maastricht Aachen<br>Periods=%{x}<br>Total Flights=%{y}<extra></extra>",
         "legendgroup": "Maastricht Aachen",
         "line": {
          "color": "#FFA15A",
          "dash": "solid"
         },
         "marker": {
          "symbol": "cross"
         },
<<<<<<< HEAD
         "mode": "lines+markers",
=======
         "mode": "markers+lines",
>>>>>>> 415bc22e89605e38198c33d222baf157c578a219
         "name": "Maastricht Aachen",
         "orientation": "v",
         "showlegend": true,
         "type": "scatter",
         "x": [
          "2019MM01",
          "2019MM02",
          "2019MM03",
          "2019MM04",
          "2019MM05",
          "2019MM06",
          "2019MM07",
          "2019MM08",
          "2019MM09",
          "2019MM10",
          "2019MM11",
          "2019MM12",
          "2020MM01",
          "2020MM02",
          "2020MM03",
          "2020MM04",
          "2020MM05",
          "2020MM06",
          "2020MM07",
          "2020MM08",
          "2020MM09",
          "2020MM10",
          "2020MM11",
          "2020MM12",
          "2021MM01",
          "2021MM02",
          "2021MM03",
          "2021MM04",
          "2021MM05",
          "2021MM06",
          "2021MM07",
          "2021MM08",
          "2021MM09",
          "2021MM10",
          "2021MM11",
          "2021MM12",
          "2022MM01",
          "2022MM02",
          "2022MM03",
          "2022MM04",
          "2022MM05",
          "2022MM06",
          "2022MM07",
          "2022MM08",
          "2022MM09",
          "2022MM10",
          "2022MM11",
          "2022MM12",
          "2023MM01",
          "2023MM02",
          "2023MM03",
          "2023MM04",
          "2023MM05",
          "2023MM06",
          "2023MM07",
          "2023MM08"
         ],
         "xaxis": "x",
         "y": [
          413,
          456,
          454,
          622,
          723,
          678,
          808,
          713,
          641,
          616,
          564,
          511,
          474,
          476,
          485,
          329,
          452,
          489,
          621,
          615,
          516,
          587,
          548,
          535,
          468,
          537,
          560,
          563,
          555,
          460,
          583,
          600,
          623,
          656,
          523,
          473,
          431,
          398,
          434,
          514,
          542,
          599,
          712,
          696,
          640,
          587,
          460,
          396,
          376,
          331,
          423,
          326,
          60,
          0,
          525,
          479
         ],
         "yaxis": "y"
        },
        {
         "hovertemplate": "Airports=Groningen<br>Periods=%{x}<br>Total Flights=%{y}<extra></extra>",
         "legendgroup": "Groningen",
         "line": {
          "color": "#19d3f3",
          "dash": "solid"
         },
         "marker": {
          "symbol": "circle"
         },
<<<<<<< HEAD
         "mode": "lines+markers",
=======
         "mode": "markers+lines",
>>>>>>> 415bc22e89605e38198c33d222baf157c578a219
         "name": "Groningen",
         "orientation": "v",
         "showlegend": true,
         "type": "scatter",
         "x": [
          "2019MM01",
          "2019MM02",
          "2019MM03",
          "2019MM04",
          "2019MM05",
          "2019MM06",
          "2019MM07",
          "2019MM08",
          "2019MM09",
          "2019MM10",
          "2019MM11",
          "2019MM12",
          "2020MM01",
          "2020MM02",
          "2020MM03",
          "2020MM04",
          "2020MM05",
          "2020MM06",
          "2020MM07",
          "2020MM08",
          "2020MM09",
          "2020MM10",
          "2020MM11",
          "2020MM12",
          "2021MM01",
          "2021MM02",
          "2021MM03",
          "2021MM04",
          "2021MM05",
          "2021MM06",
          "2021MM07",
          "2021MM08",
          "2021MM09",
          "2021MM10",
          "2021MM11",
          "2021MM12",
          "2022MM01",
          "2022MM02",
          "2022MM03",
          "2022MM04",
          "2022MM05",
          "2022MM06",
          "2022MM07",
          "2022MM08",
          "2022MM09",
          "2022MM10",
          "2022MM11",
          "2022MM12",
          "2023MM01",
          "2023MM02",
          "2023MM03",
          "2023MM04",
          "2023MM05",
          "2023MM06",
          "2023MM07",
          "2023MM08"
         ],
         "xaxis": "x",
         "y": [
          170,
          158,
          270,
          291,
          346,
          330,
          281,
          260,
          409,
          376,
          280,
          219,
          210,
          164,
          30,
          5,
          7,
          6,
          54,
          51,
          30,
          23,
          22,
          10,
          20,
          23,
          40,
          40,
          27,
          39,
          101,
          74,
          98,
          85,
          68,
          59,
          75,
          79,
          63,
          62,
          120,
          148,
          132,
          135,
          129,
          112,
          69,
          69,
          64,
          67,
          68,
          61,
          126,
          126,
          126,
          157
         ],
         "yaxis": "y"
        }
       ],
       "layout": {
<<<<<<< HEAD
        "height": 600,
=======
        "autosize": true,
>>>>>>> 415bc22e89605e38198c33d222baf157c578a219
        "legend": {
         "title": {
          "text": "Airports"
         },
         "tracegroupgap": 0
        },
        "margin": {
         "t": 60
        },
        "template": {
         "data": {
          "bar": [
           {
            "error_x": {
             "color": "#2a3f5f"
            },
            "error_y": {
             "color": "#2a3f5f"
            },
            "marker": {
             "line": {
              "color": "#E5ECF6",
              "width": 0.5
             },
             "pattern": {
              "fillmode": "overlay",
              "size": 10,
              "solidity": 0.2
             }
            },
            "type": "bar"
           }
          ],
          "barpolar": [
           {
            "marker": {
             "line": {
              "color": "#E5ECF6",
              "width": 0.5
             },
             "pattern": {
              "fillmode": "overlay",
              "size": 10,
              "solidity": 0.2
             }
            },
            "type": "barpolar"
           }
          ],
          "carpet": [
           {
            "aaxis": {
             "endlinecolor": "#2a3f5f",
             "gridcolor": "white",
             "linecolor": "white",
             "minorgridcolor": "white",
             "startlinecolor": "#2a3f5f"
            },
            "baxis": {
             "endlinecolor": "#2a3f5f",
             "gridcolor": "white",
             "linecolor": "white",
             "minorgridcolor": "white",
             "startlinecolor": "#2a3f5f"
            },
            "type": "carpet"
           }
          ],
          "choropleth": [
           {
            "colorbar": {
             "outlinewidth": 0,
             "ticks": ""
            },
            "type": "choropleth"
           }
          ],
          "contour": [
           {
            "colorbar": {
             "outlinewidth": 0,
             "ticks": ""
            },
            "colorscale": [
             [
              0,
              "#0d0887"
             ],
             [
              0.1111111111111111,
              "#46039f"
             ],
             [
              0.2222222222222222,
              "#7201a8"
             ],
             [
              0.3333333333333333,
              "#9c179e"
             ],
             [
              0.4444444444444444,
              "#bd3786"
             ],
             [
              0.5555555555555556,
              "#d8576b"
             ],
             [
              0.6666666666666666,
              "#ed7953"
             ],
             [
              0.7777777777777778,
              "#fb9f3a"
             ],
             [
              0.8888888888888888,
              "#fdca26"
             ],
             [
              1,
              "#f0f921"
             ]
            ],
            "type": "contour"
           }
          ],
          "contourcarpet": [
           {
            "colorbar": {
             "outlinewidth": 0,
             "ticks": ""
            },
            "type": "contourcarpet"
           }
          ],
          "heatmap": [
           {
            "colorbar": {
             "outlinewidth": 0,
             "ticks": ""
            },
            "colorscale": [
             [
              0,
              "#0d0887"
             ],
             [
              0.1111111111111111,
              "#46039f"
             ],
             [
              0.2222222222222222,
              "#7201a8"
             ],
             [
              0.3333333333333333,
              "#9c179e"
             ],
             [
              0.4444444444444444,
              "#bd3786"
             ],
             [
              0.5555555555555556,
              "#d8576b"
             ],
             [
              0.6666666666666666,
              "#ed7953"
             ],
             [
              0.7777777777777778,
              "#fb9f3a"
             ],
             [
              0.8888888888888888,
              "#fdca26"
             ],
             [
              1,
              "#f0f921"
             ]
            ],
            "type": "heatmap"
           }
          ],
          "heatmapgl": [
           {
            "colorbar": {
             "outlinewidth": 0,
             "ticks": ""
            },
            "colorscale": [
             [
              0,
              "#0d0887"
             ],
             [
              0.1111111111111111,
              "#46039f"
             ],
             [
              0.2222222222222222,
              "#7201a8"
             ],
             [
              0.3333333333333333,
              "#9c179e"
             ],
             [
              0.4444444444444444,
              "#bd3786"
             ],
             [
              0.5555555555555556,
              "#d8576b"
             ],
             [
              0.6666666666666666,
              "#ed7953"
             ],
             [
              0.7777777777777778,
              "#fb9f3a"
             ],
             [
              0.8888888888888888,
              "#fdca26"
             ],
             [
              1,
              "#f0f921"
             ]
            ],
            "type": "heatmapgl"
           }
          ],
          "histogram": [
           {
            "marker": {
             "pattern": {
              "fillmode": "overlay",
              "size": 10,
              "solidity": 0.2
             }
            },
            "type": "histogram"
           }
          ],
          "histogram2d": [
           {
            "colorbar": {
             "outlinewidth": 0,
             "ticks": ""
            },
            "colorscale": [
             [
              0,
              "#0d0887"
             ],
             [
              0.1111111111111111,
              "#46039f"
             ],
             [
              0.2222222222222222,
              "#7201a8"
             ],
             [
              0.3333333333333333,
              "#9c179e"
             ],
             [
              0.4444444444444444,
              "#bd3786"
             ],
             [
              0.5555555555555556,
              "#d8576b"
             ],
             [
              0.6666666666666666,
              "#ed7953"
             ],
             [
              0.7777777777777778,
              "#fb9f3a"
             ],
             [
              0.8888888888888888,
              "#fdca26"
             ],
             [
              1,
              "#f0f921"
             ]
            ],
            "type": "histogram2d"
           }
          ],
          "histogram2dcontour": [
           {
            "colorbar": {
             "outlinewidth": 0,
             "ticks": ""
            },
            "colorscale": [
             [
              0,
              "#0d0887"
             ],
             [
              0.1111111111111111,
              "#46039f"
             ],
             [
              0.2222222222222222,
              "#7201a8"
             ],
             [
              0.3333333333333333,
              "#9c179e"
             ],
             [
              0.4444444444444444,
              "#bd3786"
             ],
             [
              0.5555555555555556,
              "#d8576b"
             ],
             [
              0.6666666666666666,
              "#ed7953"
             ],
             [
              0.7777777777777778,
              "#fb9f3a"
             ],
             [
              0.8888888888888888,
              "#fdca26"
             ],
             [
              1,
              "#f0f921"
             ]
            ],
            "type": "histogram2dcontour"
           }
          ],
          "mesh3d": [
           {
            "colorbar": {
             "outlinewidth": 0,
             "ticks": ""
            },
            "type": "mesh3d"
           }
          ],
          "parcoords": [
           {
            "line": {
             "colorbar": {
              "outlinewidth": 0,
              "ticks": ""
             }
            },
            "type": "parcoords"
           }
          ],
          "pie": [
           {
            "automargin": true,
            "type": "pie"
           }
          ],
          "scatter": [
           {
            "fillpattern": {
             "fillmode": "overlay",
             "size": 10,
             "solidity": 0.2
            },
            "type": "scatter"
           }
          ],
          "scatter3d": [
           {
            "line": {
             "colorbar": {
              "outlinewidth": 0,
              "ticks": ""
             }
            },
            "marker": {
             "colorbar": {
              "outlinewidth": 0,
              "ticks": ""
             }
            },
            "type": "scatter3d"
           }
          ],
          "scattercarpet": [
           {
            "marker": {
             "colorbar": {
              "outlinewidth": 0,
              "ticks": ""
             }
            },
            "type": "scattercarpet"
           }
          ],
          "scattergeo": [
           {
            "marker": {
             "colorbar": {
              "outlinewidth": 0,
              "ticks": ""
             }
            },
            "type": "scattergeo"
           }
          ],
          "scattergl": [
           {
            "marker": {
             "colorbar": {
              "outlinewidth": 0,
              "ticks": ""
             }
            },
            "type": "scattergl"
           }
          ],
          "scattermapbox": [
           {
            "marker": {
             "colorbar": {
              "outlinewidth": 0,
              "ticks": ""
             }
            },
            "type": "scattermapbox"
           }
          ],
          "scatterpolar": [
           {
            "marker": {
             "colorbar": {
              "outlinewidth": 0,
              "ticks": ""
             }
            },
            "type": "scatterpolar"
           }
          ],
          "scatterpolargl": [
           {
            "marker": {
             "colorbar": {
              "outlinewidth": 0,
              "ticks": ""
             }
            },
            "type": "scatterpolargl"
           }
          ],
          "scatterternary": [
           {
            "marker": {
             "colorbar": {
              "outlinewidth": 0,
              "ticks": ""
             }
            },
            "type": "scatterternary"
           }
          ],
          "surface": [
           {
            "colorbar": {
             "outlinewidth": 0,
             "ticks": ""
            },
            "colorscale": [
             [
              0,
              "#0d0887"
             ],
             [
              0.1111111111111111,
              "#46039f"
             ],
             [
              0.2222222222222222,
              "#7201a8"
             ],
             [
              0.3333333333333333,
              "#9c179e"
             ],
             [
              0.4444444444444444,
              "#bd3786"
             ],
             [
              0.5555555555555556,
              "#d8576b"
             ],
             [
              0.6666666666666666,
              "#ed7953"
             ],
             [
              0.7777777777777778,
              "#fb9f3a"
             ],
             [
              0.8888888888888888,
              "#fdca26"
             ],
             [
              1,
              "#f0f921"
             ]
            ],
            "type": "surface"
           }
          ],
          "table": [
           {
            "cells": {
             "fill": {
              "color": "#EBF0F8"
             },
             "line": {
              "color": "white"
             }
            },
            "header": {
             "fill": {
              "color": "#C8D4E3"
             },
             "line": {
              "color": "white"
             }
            },
            "type": "table"
           }
          ]
         },
         "layout": {
          "annotationdefaults": {
           "arrowcolor": "#2a3f5f",
           "arrowhead": 0,
           "arrowwidth": 1
          },
          "autotypenumbers": "strict",
          "coloraxis": {
           "colorbar": {
            "outlinewidth": 0,
            "ticks": ""
           }
          },
          "colorscale": {
           "diverging": [
            [
             0,
             "#8e0152"
            ],
            [
             0.1,
             "#c51b7d"
            ],
            [
             0.2,
             "#de77ae"
            ],
            [
             0.3,
             "#f1b6da"
            ],
            [
             0.4,
             "#fde0ef"
            ],
            [
             0.5,
             "#f7f7f7"
            ],
            [
             0.6,
             "#e6f5d0"
            ],
            [
             0.7,
             "#b8e186"
            ],
            [
             0.8,
             "#7fbc41"
            ],
            [
             0.9,
             "#4d9221"
            ],
            [
             1,
             "#276419"
            ]
           ],
           "sequential": [
            [
             0,
             "#0d0887"
            ],
            [
             0.1111111111111111,
             "#46039f"
            ],
            [
             0.2222222222222222,
             "#7201a8"
            ],
            [
             0.3333333333333333,
             "#9c179e"
            ],
            [
             0.4444444444444444,
             "#bd3786"
            ],
            [
             0.5555555555555556,
             "#d8576b"
            ],
            [
             0.6666666666666666,
             "#ed7953"
            ],
            [
             0.7777777777777778,
             "#fb9f3a"
            ],
            [
             0.8888888888888888,
             "#fdca26"
            ],
            [
             1,
             "#f0f921"
            ]
           ],
           "sequentialminus": [
            [
             0,
             "#0d0887"
            ],
            [
             0.1111111111111111,
             "#46039f"
            ],
            [
             0.2222222222222222,
             "#7201a8"
            ],
            [
             0.3333333333333333,
             "#9c179e"
            ],
            [
             0.4444444444444444,
             "#bd3786"
            ],
            [
             0.5555555555555556,
             "#d8576b"
            ],
            [
             0.6666666666666666,
             "#ed7953"
            ],
            [
             0.7777777777777778,
             "#fb9f3a"
            ],
            [
             0.8888888888888888,
             "#fdca26"
            ],
            [
             1,
             "#f0f921"
            ]
           ]
          },
          "colorway": [
           "#636efa",
           "#EF553B",
           "#00cc96",
           "#ab63fa",
           "#FFA15A",
           "#19d3f3",
           "#FF6692",
           "#B6E880",
           "#FF97FF",
           "#FECB52"
          ],
          "font": {
           "color": "#2a3f5f"
          },
          "geo": {
           "bgcolor": "white",
           "lakecolor": "white",
           "landcolor": "#E5ECF6",
           "showlakes": true,
           "showland": true,
           "subunitcolor": "white"
          },
          "hoverlabel": {
           "align": "left"
          },
          "hovermode": "closest",
          "mapbox": {
           "style": "light"
          },
          "paper_bgcolor": "white",
          "plot_bgcolor": "#E5ECF6",
          "polar": {
           "angularaxis": {
            "gridcolor": "white",
            "linecolor": "white",
            "ticks": ""
           },
           "bgcolor": "#E5ECF6",
           "radialaxis": {
            "gridcolor": "white",
            "linecolor": "white",
            "ticks": ""
           }
          },
          "scene": {
           "xaxis": {
            "backgroundcolor": "#E5ECF6",
            "gridcolor": "white",
            "gridwidth": 2,
            "linecolor": "white",
            "showbackground": true,
            "ticks": "",
            "zerolinecolor": "white"
           },
           "yaxis": {
            "backgroundcolor": "#E5ECF6",
            "gridcolor": "white",
            "gridwidth": 2,
            "linecolor": "white",
            "showbackground": true,
            "ticks": "",
            "zerolinecolor": "white"
           },
           "zaxis": {
            "backgroundcolor": "#E5ECF6",
            "gridcolor": "white",
            "gridwidth": 2,
            "linecolor": "white",
            "showbackground": true,
            "ticks": "",
            "zerolinecolor": "white"
           }
          },
          "shapedefaults": {
           "line": {
            "color": "#2a3f5f"
           }
          },
          "ternary": {
           "aaxis": {
            "gridcolor": "white",
            "linecolor": "white",
            "ticks": ""
           },
           "baxis": {
            "gridcolor": "white",
            "linecolor": "white",
            "ticks": ""
           },
           "bgcolor": "#E5ECF6",
           "caxis": {
            "gridcolor": "white",
            "linecolor": "white",
            "ticks": ""
           }
          },
          "title": {
           "x": 0.05
          },
          "xaxis": {
           "automargin": true,
           "gridcolor": "white",
           "linecolor": "white",
           "ticks": "",
           "title": {
            "standoff": 15
           },
           "zerolinecolor": "white",
           "zerolinewidth": 2
          },
          "yaxis": {
           "automargin": true,
           "gridcolor": "white",
           "linecolor": "white",
           "ticks": "",
           "title": {
            "standoff": 15
           },
           "zerolinecolor": "white",
           "zerolinewidth": 2
          }
         }
        },
        "title": {
         "text": "Number of total flights per Dutch airport between 2019 and 2023"
        },
        "xaxis": {
         "anchor": "y",
<<<<<<< HEAD
=======
         "autorange": true,
>>>>>>> 415bc22e89605e38198c33d222baf157c578a219
         "domain": [
          0,
          1
         ],
<<<<<<< HEAD
         "title": {
          "text": "Periods"
         }
        },
        "yaxis": {
         "anchor": "x",
=======
         "range": [
          -3.371212121212121,
          58.371212121212125
         ],
         "title": {
          "text": "Periods"
         },
         "type": "category"
        },
        "yaxis": {
         "anchor": "x",
         "autorange": true,
>>>>>>> 415bc22e89605e38198c33d222baf157c578a219
         "domain": [
          0,
          1
         ],
<<<<<<< HEAD
         "title": {
          "text": "Total Flights"
         }
        }
       }
      }
=======
         "range": [
          -3468.2654808959155,
          55595.26548089591
         ],
         "title": {
          "text": "Total Flights"
         },
         "type": "linear"
        }
       }
      },
      "image/png": "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"
>>>>>>> 415bc22e89605e38198c33d222baf157c578a219
     },
     "metadata": {},
     "output_type": "display_data"
    }
   ],
   "source": [
    "data_total = data.loc[data['Periods'].str.contains('2019MM|2020MM|2021MM|2022MM|2023MM', case=False, regex=True)]\n",
    "\n",
    "print(f'Dataframe shape: {data_total.shape}')\n",
    "\n",
    "figtotal = px.line(data_total, \n",
    "                x = \"Periods\", \n",
    "                y = \"Total Flights\",\n",
    "                color = \"Airports\",\n",
    "                symbol = \"Airports\",\n",
    "                # log_y=True\n",
    "                )\n",
    "\n",
    "figtotal.update_layout(\n",
    "                title={'text': 'Number of total flights per Dutch airport between 2019 and 2023'},\n",
    "                height=600,\n",
    "                # showlegend=False\n",
    "                )\n",
    "\n",
    "figtotal.show()"
   ]
  },
  {
<<<<<<< HEAD
   "cell_type": "code",
   "execution_count": 265,
=======
   "cell_type": "markdown",
   "id": "897a2e10-f7e6-4946-acae-920a2bd6fa6f",
   "metadata": {},
   "source": [
    "In the figure above, a big decline is seen in the number of flights from march 2020, the moment COVID-19 entered the Netherlands. In the summer, the flights started to increase, but in march 2021 there was again a big drop. \n",
    "The biggest differences are seen in the number of flights at Schiphol, because this is the biggest airport in the Netherlands."
   ]
  },
  {
   "cell_type": "code",
   "execution_count": 22,
>>>>>>> 415bc22e89605e38198c33d222baf157c578a219
   "id": "fe6422bf",
   "metadata": {},
   "outputs": [
    {
     "name": "stdout",
     "output_type": "stream",
     "text": [
<<<<<<< HEAD
      "Dataframe shape: (56, 105)\n"
=======
      "Dataframe shape: (336, 105)\n"
>>>>>>> 415bc22e89605e38198c33d222baf157c578a219
     ]
    },
    {
     "data": {
      "application/vnd.plotly.v1+json": {
       "config": {
        "plotlyServerURL": "https://plot.ly"
       },
       "data": [
        {
<<<<<<< HEAD
         "hovertemplate": "Type of mail=Total Unloaded Mail [tons]<br>Period=%{x}<br>Amount of mail in [tons]=%{y}<extra></extra>",
         "legendgroup": "Total Unloaded Mail [tons]",
=======
         "hovertemplate": "Airports=TOTAL<br>Periods=%{x}<br>Total Mail [tons]=%{y}<extra></extra>",
         "legendgroup": "TOTAL",
>>>>>>> 415bc22e89605e38198c33d222baf157c578a219
         "line": {
          "color": "#636efa",
          "dash": "solid"
         },
         "marker": {
          "symbol": "circle"
         },
<<<<<<< HEAD
         "mode": "lines",
         "name": "Total Unloaded Mail [tons]",
=======
         "mode": "markers+lines",
         "name": "TOTAL",
>>>>>>> 415bc22e89605e38198c33d222baf157c578a219
         "orientation": "v",
         "showlegend": true,
         "type": "scatter",
         "x": [
          "2019MM01",
          "2019MM02",
          "2019MM03",
          "2019MM04",
          "2019MM05",
          "2019MM06",
          "2019MM07",
          "2019MM08",
          "2019MM09",
          "2019MM10",
          "2019MM11",
          "2019MM12",
          "2020MM01",
          "2020MM02",
          "2020MM03",
          "2020MM04",
          "2020MM05",
          "2020MM06",
          "2020MM07",
          "2020MM08",
          "2020MM09",
          "2020MM10",
          "2020MM11",
          "2020MM12",
          "2021MM01",
          "2021MM02",
          "2021MM03",
          "2021MM04",
          "2021MM05",
          "2021MM06",
          "2021MM07",
          "2021MM08",
          "2021MM09",
          "2021MM10",
          "2021MM11",
          "2021MM12",
          "2022MM01",
          "2022MM02",
          "2022MM03",
          "2022MM04",
          "2022MM05",
          "2022MM06",
          "2022MM07",
          "2022MM08",
          "2022MM09",
          "2022MM10",
          "2022MM11",
          "2022MM12",
          "2023MM01",
          "2023MM02",
          "2023MM03",
          "2023MM04",
          "2023MM05",
          "2023MM06",
          "2023MM07",
          "2023MM08"
         ],
         "xaxis": "x",
         "y": [
<<<<<<< HEAD
          "     560",
          "     485",
          "     705",
          "     707",
          "     796",
          "     722",
          "     797",
          "     723",
          "     735",
          "     824",
          "     883",
          "     958",
          "     777",
          "     602",
          "     511",
          "      91",
          "     161",
          "     313",
          "     403",
          "     461",
          "     522",
          "     651",
          "     696",
          "     923",
          "     692",
          "     563",
          "     732",
          "     650",
          "     633",
          "     581",
          "     484",
          "     538",
          "     534",
          "     579",
          "     495",
          "     603",
          "     440",
          "     445",
          "     452",
          "     375",
          "     349",
          "     340",
          "     303",
          "     305",
          "     260",
          "     216",
          "     213",
          "     339",
          "     260",
          "     221",
          "     217",
          "     190",
          "     204",
          "     199",
          "     181",
          "     225"
=======
          "    1615",
          "    1398",
          "    1761",
          "    1747",
          "    1860",
          "    1736",
          "    1876",
          "    1774",
          "    1747",
          "    1974",
          "    2133",
          "    2338",
          "    1908",
          "    1491",
          "    1167",
          "     382",
          "     542",
          "     855",
          "    1083",
          "    1283",
          "    1251",
          "    1521",
          "    1511",
          "    1837",
          "    1403",
          "    1109",
          "    1379",
          "    1258",
          "    1223",
          "    1128",
          "     978",
          "    1049",
          "    1002",
          "    1040",
          "     943",
          "    1038",
          "     827",
          "     824",
          "     819",
          "     688",
          "     685",
          "     667",
          "     584",
          "     549",
          "     538",
          "     465",
          "     461",
          "     608",
          "     478",
          "     440",
          "     457",
          "     430",
          "     471",
          "     447",
          "     407",
          "     454"
>>>>>>> 415bc22e89605e38198c33d222baf157c578a219
         ],
         "yaxis": "y"
        },
        {
<<<<<<< HEAD
         "hovertemplate": "Type of mail=Total Loaded Mail [tons]<br>Period=%{x}<br>Amount of mail in [tons]=%{y}<extra></extra>",
         "legendgroup": "Total Loaded Mail [tons]",
=======
         "hovertemplate": "Airports=Schiphol<br>Periods=%{x}<br>Total Mail [tons]=%{y}<extra></extra>",
         "legendgroup": "Schiphol",
>>>>>>> 415bc22e89605e38198c33d222baf157c578a219
         "line": {
          "color": "#EF553B",
          "dash": "solid"
         },
         "marker": {
<<<<<<< HEAD
          "symbol": "circle"
         },
         "mode": "lines",
         "name": "Total Loaded Mail [tons]",
=======
          "symbol": "diamond"
         },
         "mode": "markers+lines",
         "name": "Schiphol",
>>>>>>> 415bc22e89605e38198c33d222baf157c578a219
         "orientation": "v",
         "showlegend": true,
         "type": "scatter",
         "x": [
          "2019MM01",
          "2019MM02",
          "2019MM03",
          "2019MM04",
          "2019MM05",
          "2019MM06",
          "2019MM07",
          "2019MM08",
          "2019MM09",
          "2019MM10",
          "2019MM11",
          "2019MM12",
          "2020MM01",
          "2020MM02",
          "2020MM03",
          "2020MM04",
          "2020MM05",
          "2020MM06",
          "2020MM07",
          "2020MM08",
          "2020MM09",
          "2020MM10",
          "2020MM11",
          "2020MM12",
          "2021MM01",
          "2021MM02",
          "2021MM03",
          "2021MM04",
          "2021MM05",
          "2021MM06",
          "2021MM07",
          "2021MM08",
          "2021MM09",
          "2021MM10",
          "2021MM11",
          "2021MM12",
          "2022MM01",
          "2022MM02",
          "2022MM03",
          "2022MM04",
          "2022MM05",
          "2022MM06",
          "2022MM07",
          "2022MM08",
          "2022MM09",
          "2022MM10",
          "2022MM11",
          "2022MM12",
          "2023MM01",
          "2023MM02",
          "2023MM03",
          "2023MM04",
          "2023MM05",
          "2023MM06",
          "2023MM07",
          "2023MM08"
         ],
         "xaxis": "x",
         "y": [
<<<<<<< HEAD
          "    1055",
          "     913",
          "    1056",
          "    1040",
          "    1064",
          "    1014",
          "    1078",
          "    1051",
          "    1012",
          "    1149",
          "    1250",
          "    1381",
          "    1131",
          "     890",
          "     656",
          "     290",
          "     381",
          "     542",
          "     681",
          "     822",
          "     729",
          "     871",
          "     815",
          "     913",
          "     711",
          "     546",
          "     647",
          "     608",
          "     590",
          "     547",
          "     494",
          "     511",
          "     468",
          "     461",
          "     447",
          "     435",
          "     387",
          "     378",
          "     366",
          "     313",
          "     336",
          "     327",
          "     280",
          "     244",
          "     278",
          "     249",
          "     248",
          "     268",
          "     218",
          "     219",
          "     240",
          "     240",
          "     267",
          "     248",
          "     226",
          "     229"
=======
          "    1615",
          "    1398",
          "    1761",
          "    1747",
          "    1860",
          "    1736",
          "    1876",
          "    1774",
          "    1747",
          "    1974",
          "    2133",
          "    2338",
          "    1908",
          "    1491",
          "    1167",
          "     382",
          "     542",
          "     855",
          "    1083",
          "    1283",
          "    1251",
          "    1521",
          "    1511",
          "    1837",
          "    1403",
          "    1109",
          "    1379",
          "    1258",
          "    1223",
          "    1128",
          "     978",
          "    1049",
          "    1002",
          "    1040",
          "     943",
          "    1038",
          "     827",
          "     824",
          "     819",
          "     688",
          "     685",
          "     667",
          "     584",
          "     549",
          "     538",
          "     465",
          "     461",
          "     608",
          "     478",
          "     440",
          "     457",
          "     430",
          "     471",
          "     447",
          "     407",
          "     454"
         ],
         "yaxis": "y"
        },
        {
         "hovertemplate": "Airports=Rotterdam The Hague<br>Periods=%{x}<br>Total Mail [tons]=%{y}<extra></extra>",
         "legendgroup": "Rotterdam The Hague",
         "line": {
          "color": "#00cc96",
          "dash": "solid"
         },
         "marker": {
          "symbol": "square"
         },
         "mode": "markers+lines",
         "name": "Rotterdam The Hague",
         "orientation": "v",
         "showlegend": true,
         "type": "scatter",
         "x": [
          "2019MM01",
          "2019MM02",
          "2019MM03",
          "2019MM04",
          "2019MM05",
          "2019MM06",
          "2019MM07",
          "2019MM08",
          "2019MM09",
          "2019MM10",
          "2019MM11",
          "2019MM12",
          "2020MM01",
          "2020MM02",
          "2020MM03",
          "2020MM04",
          "2020MM05",
          "2020MM06",
          "2020MM07",
          "2020MM08",
          "2020MM09",
          "2020MM10",
          "2020MM11",
          "2020MM12",
          "2021MM01",
          "2021MM02",
          "2021MM03",
          "2021MM04",
          "2021MM05",
          "2021MM06",
          "2021MM07",
          "2021MM08",
          "2021MM09",
          "2021MM10",
          "2021MM11",
          "2021MM12",
          "2022MM01",
          "2022MM02",
          "2022MM03",
          "2022MM04",
          "2022MM05",
          "2022MM06",
          "2022MM07",
          "2022MM08",
          "2022MM09",
          "2022MM10",
          "2022MM11",
          "2022MM12",
          "2023MM01",
          "2023MM02",
          "2023MM03",
          "2023MM04",
          "2023MM05",
          "2023MM06",
          "2023MM07",
          "2023MM08"
         ],
         "xaxis": "x",
         "y": [
          "       0",
          "       0",
          "       0",
          "       0",
          "       0",
          "       0",
          "       0",
          "       0",
          "       0",
          "       0",
          "       0",
          "       0",
          "       0",
          "       0",
          "       0",
          "       0",
          "       0",
          "       0",
          "       0",
          "       0",
          "       0",
          "       0",
          "       0",
          "       0",
          "       0",
          "       0",
          "       0",
          "       0",
          "       0",
          "       0",
          "       0",
          "       0",
          "       0",
          "       0",
          "       0",
          "       0",
          "       0",
          "       0",
          "       0",
          "       0",
          "       0",
          "       0",
          "       0",
          "       0",
          "       0",
          "       0",
          "       0",
          "       0",
          "       0",
          "       0",
          "       0",
          "       0",
          "       0",
          "       0",
          "       0",
          "       0"
         ],
         "yaxis": "y"
        },
        {
         "hovertemplate": "Airports=Eindhoven<br>Periods=%{x}<br>Total Mail [tons]=%{y}<extra></extra>",
         "legendgroup": "Eindhoven",
         "line": {
          "color": "#ab63fa",
          "dash": "solid"
         },
         "marker": {
          "symbol": "x"
         },
         "mode": "markers+lines",
         "name": "Eindhoven",
         "orientation": "v",
         "showlegend": true,
         "type": "scatter",
         "x": [
          "2019MM01",
          "2019MM02",
          "2019MM03",
          "2019MM04",
          "2019MM05",
          "2019MM06",
          "2019MM07",
          "2019MM08",
          "2019MM09",
          "2019MM10",
          "2019MM11",
          "2019MM12",
          "2020MM01",
          "2020MM02",
          "2020MM03",
          "2020MM04",
          "2020MM05",
          "2020MM06",
          "2020MM07",
          "2020MM08",
          "2020MM09",
          "2020MM10",
          "2020MM11",
          "2020MM12",
          "2021MM01",
          "2021MM02",
          "2021MM03",
          "2021MM04",
          "2021MM05",
          "2021MM06",
          "2021MM07",
          "2021MM08",
          "2021MM09",
          "2021MM10",
          "2021MM11",
          "2021MM12",
          "2022MM01",
          "2022MM02",
          "2022MM03",
          "2022MM04",
          "2022MM05",
          "2022MM06",
          "2022MM07",
          "2022MM08",
          "2022MM09",
          "2022MM10",
          "2022MM11",
          "2022MM12",
          "2023MM01",
          "2023MM02",
          "2023MM03",
          "2023MM04",
          "2023MM05",
          "2023MM06",
          "2023MM07",
          "2023MM08"
         ],
         "xaxis": "x",
         "y": [
          "       0",
          "       0",
          "       0",
          "       0",
          "       0",
          "       0",
          "       0",
          "       0",
          "       0",
          "       0",
          "       0",
          "       0",
          "       0",
          "       0",
          "       0",
          "       0",
          "       0",
          "       0",
          "       0",
          "       0",
          "       0",
          "       0",
          "       0",
          "       0",
          "       0",
          "       0",
          "       0",
          "       0",
          "       0",
          "       0",
          "       0",
          "       0",
          "       0",
          "       0",
          "       0",
          "       0",
          "       0",
          "       0",
          "       0",
          "       0",
          "       0",
          "       0",
          "       0",
          "       0",
          "       0",
          "       0",
          "       0",
          "       0",
          "       0",
          "       0",
          "       0",
          "       0",
          "       0",
          "       0",
          "       0",
          "       0"
         ],
         "yaxis": "y"
        },
        {
         "hovertemplate": "Airports=Maastricht Aachen<br>Periods=%{x}<br>Total Mail [tons]=%{y}<extra></extra>",
         "legendgroup": "Maastricht Aachen",
         "line": {
          "color": "#FFA15A",
          "dash": "solid"
         },
         "marker": {
          "symbol": "cross"
         },
         "mode": "markers+lines",
         "name": "Maastricht Aachen",
         "orientation": "v",
         "showlegend": true,
         "type": "scatter",
         "x": [
          "2019MM01",
          "2019MM02",
          "2019MM03",
          "2019MM04",
          "2019MM05",
          "2019MM06",
          "2019MM07",
          "2019MM08",
          "2019MM09",
          "2019MM10",
          "2019MM11",
          "2019MM12",
          "2020MM01",
          "2020MM02",
          "2020MM03",
          "2020MM04",
          "2020MM05",
          "2020MM06",
          "2020MM07",
          "2020MM08",
          "2020MM09",
          "2020MM10",
          "2020MM11",
          "2020MM12",
          "2021MM01",
          "2021MM02",
          "2021MM03",
          "2021MM04",
          "2021MM05",
          "2021MM06",
          "2021MM07",
          "2021MM08",
          "2021MM09",
          "2021MM10",
          "2021MM11",
          "2021MM12",
          "2022MM01",
          "2022MM02",
          "2022MM03",
          "2022MM04",
          "2022MM05",
          "2022MM06",
          "2022MM07",
          "2022MM08",
          "2022MM09",
          "2022MM10",
          "2022MM11",
          "2022MM12",
          "2023MM01",
          "2023MM02",
          "2023MM03",
          "2023MM04",
          "2023MM05",
          "2023MM06",
          "2023MM07",
          "2023MM08"
         ],
         "xaxis": "x",
         "y": [
          "       0",
          "       0",
          "       0",
          "       0",
          "       0",
          "       0",
          "       0",
          "       0",
          "       0",
          "       0",
          "       0",
          "       0",
          "       0",
          "       0",
          "       0",
          "       0",
          "       0",
          "       0",
          "       0",
          "       0",
          "       0",
          "       0",
          "       0",
          "       0",
          "       0",
          "       0",
          "       0",
          "       0",
          "       0",
          "       0",
          "       0",
          "       0",
          "       0",
          "       0",
          "       0",
          "       0",
          "       0",
          "       0",
          "       0",
          "       0",
          "       0",
          "       0",
          "       0",
          "       0",
          "       0",
          "       0",
          "       0",
          "       0",
          "       0",
          "       0",
          "       0",
          "       0",
          "       0",
          "       0",
          "       0",
          "       0"
         ],
         "yaxis": "y"
        },
        {
         "hovertemplate": "Airports=Groningen<br>Periods=%{x}<br>Total Mail [tons]=%{y}<extra></extra>",
         "legendgroup": "Groningen",
         "line": {
          "color": "#19d3f3",
          "dash": "solid"
         },
         "marker": {
          "symbol": "circle"
         },
         "mode": "markers+lines",
         "name": "Groningen",
         "orientation": "v",
         "showlegend": true,
         "type": "scatter",
         "x": [
          "2019MM01",
          "2019MM02",
          "2019MM03",
          "2019MM04",
          "2019MM05",
          "2019MM06",
          "2019MM07",
          "2019MM08",
          "2019MM09",
          "2019MM10",
          "2019MM11",
          "2019MM12",
          "2020MM01",
          "2020MM02",
          "2020MM03",
          "2020MM04",
          "2020MM05",
          "2020MM06",
          "2020MM07",
          "2020MM08",
          "2020MM09",
          "2020MM10",
          "2020MM11",
          "2020MM12",
          "2021MM01",
          "2021MM02",
          "2021MM03",
          "2021MM04",
          "2021MM05",
          "2021MM06",
          "2021MM07",
          "2021MM08",
          "2021MM09",
          "2021MM10",
          "2021MM11",
          "2021MM12",
          "2022MM01",
          "2022MM02",
          "2022MM03",
          "2022MM04",
          "2022MM05",
          "2022MM06",
          "2022MM07",
          "2022MM08",
          "2022MM09",
          "2022MM10",
          "2022MM11",
          "2022MM12",
          "2023MM01",
          "2023MM02",
          "2023MM03",
          "2023MM04",
          "2023MM05",
          "2023MM06",
          "2023MM07",
          "2023MM08"
         ],
         "xaxis": "x",
         "y": [
          "       0",
          "       0",
          "       0",
          "       0",
          "       0",
          "       0",
          "       0",
          "       0",
          "       0",
          "       0",
          "       0",
          "       0",
          "       0",
          "       0",
          "       0",
          "       0",
          "       0",
          "       0",
          "       0",
          "       0",
          "       0",
          "       0",
          "       0",
          "       0",
          "       0",
          "       0",
          "       0",
          "       0",
          "       0",
          "       0",
          "       0",
          "       0",
          "       0",
          "       0",
          "       0",
          "       0",
          "       0",
          "       0",
          "       0",
          "       0",
          "       0",
          "       0",
          "       0",
          "       0",
          "       0",
          "       0",
          "       0",
          "       0",
          "       0",
          "       0",
          "       0",
          "       0",
          "       0",
          "       0",
          "       0",
          "       0"
>>>>>>> 415bc22e89605e38198c33d222baf157c578a219
         ],
         "yaxis": "y"
        }
       ],
       "layout": {
<<<<<<< HEAD
        "height": 600,
        "legend": {
         "title": {
          "text": "Type of mail"
=======
        "autosize": true,
        "legend": {
         "title": {
          "text": "Airports"
>>>>>>> 415bc22e89605e38198c33d222baf157c578a219
         },
         "tracegroupgap": 0
        },
        "margin": {
         "t": 60
        },
        "template": {
         "data": {
          "bar": [
           {
            "error_x": {
             "color": "#2a3f5f"
            },
            "error_y": {
             "color": "#2a3f5f"
            },
            "marker": {
             "line": {
              "color": "#E5ECF6",
              "width": 0.5
             },
             "pattern": {
              "fillmode": "overlay",
              "size": 10,
              "solidity": 0.2
             }
            },
            "type": "bar"
           }
          ],
          "barpolar": [
           {
            "marker": {
             "line": {
              "color": "#E5ECF6",
              "width": 0.5
             },
             "pattern": {
              "fillmode": "overlay",
              "size": 10,
              "solidity": 0.2
             }
            },
            "type": "barpolar"
           }
          ],
          "carpet": [
           {
            "aaxis": {
             "endlinecolor": "#2a3f5f",
             "gridcolor": "white",
             "linecolor": "white",
             "minorgridcolor": "white",
             "startlinecolor": "#2a3f5f"
            },
            "baxis": {
             "endlinecolor": "#2a3f5f",
             "gridcolor": "white",
             "linecolor": "white",
             "minorgridcolor": "white",
             "startlinecolor": "#2a3f5f"
            },
            "type": "carpet"
           }
          ],
          "choropleth": [
           {
            "colorbar": {
             "outlinewidth": 0,
             "ticks": ""
            },
            "type": "choropleth"
           }
          ],
          "contour": [
           {
            "colorbar": {
             "outlinewidth": 0,
             "ticks": ""
            },
            "colorscale": [
             [
              0,
              "#0d0887"
             ],
             [
              0.1111111111111111,
              "#46039f"
             ],
             [
              0.2222222222222222,
              "#7201a8"
             ],
             [
              0.3333333333333333,
              "#9c179e"
             ],
             [
              0.4444444444444444,
              "#bd3786"
             ],
             [
              0.5555555555555556,
              "#d8576b"
             ],
             [
              0.6666666666666666,
              "#ed7953"
             ],
             [
              0.7777777777777778,
              "#fb9f3a"
             ],
             [
              0.8888888888888888,
              "#fdca26"
             ],
             [
              1,
              "#f0f921"
             ]
            ],
            "type": "contour"
           }
          ],
          "contourcarpet": [
           {
            "colorbar": {
             "outlinewidth": 0,
             "ticks": ""
            },
            "type": "contourcarpet"
           }
          ],
          "heatmap": [
           {
            "colorbar": {
             "outlinewidth": 0,
             "ticks": ""
            },
            "colorscale": [
             [
              0,
              "#0d0887"
             ],
             [
              0.1111111111111111,
              "#46039f"
             ],
             [
              0.2222222222222222,
              "#7201a8"
             ],
             [
              0.3333333333333333,
              "#9c179e"
             ],
             [
              0.4444444444444444,
              "#bd3786"
             ],
             [
              0.5555555555555556,
              "#d8576b"
             ],
             [
              0.6666666666666666,
              "#ed7953"
             ],
             [
              0.7777777777777778,
              "#fb9f3a"
             ],
             [
              0.8888888888888888,
              "#fdca26"
             ],
             [
              1,
              "#f0f921"
             ]
            ],
            "type": "heatmap"
           }
          ],
          "heatmapgl": [
           {
            "colorbar": {
             "outlinewidth": 0,
             "ticks": ""
            },
            "colorscale": [
             [
              0,
              "#0d0887"
             ],
             [
              0.1111111111111111,
              "#46039f"
             ],
             [
              0.2222222222222222,
              "#7201a8"
             ],
             [
              0.3333333333333333,
              "#9c179e"
             ],
             [
              0.4444444444444444,
              "#bd3786"
             ],
             [
              0.5555555555555556,
              "#d8576b"
             ],
             [
              0.6666666666666666,
              "#ed7953"
             ],
             [
              0.7777777777777778,
              "#fb9f3a"
             ],
             [
              0.8888888888888888,
              "#fdca26"
             ],
             [
              1,
              "#f0f921"
             ]
            ],
            "type": "heatmapgl"
           }
          ],
          "histogram": [
           {
            "marker": {
             "pattern": {
              "fillmode": "overlay",
              "size": 10,
              "solidity": 0.2
             }
            },
            "type": "histogram"
           }
          ],
          "histogram2d": [
           {
            "colorbar": {
             "outlinewidth": 0,
             "ticks": ""
            },
            "colorscale": [
             [
              0,
              "#0d0887"
             ],
             [
              0.1111111111111111,
              "#46039f"
             ],
             [
              0.2222222222222222,
              "#7201a8"
             ],
             [
              0.3333333333333333,
              "#9c179e"
             ],
             [
              0.4444444444444444,
              "#bd3786"
             ],
             [
              0.5555555555555556,
              "#d8576b"
             ],
             [
              0.6666666666666666,
              "#ed7953"
             ],
             [
              0.7777777777777778,
              "#fb9f3a"
             ],
             [
              0.8888888888888888,
              "#fdca26"
             ],
             [
              1,
              "#f0f921"
             ]
            ],
            "type": "histogram2d"
           }
          ],
          "histogram2dcontour": [
           {
            "colorbar": {
             "outlinewidth": 0,
             "ticks": ""
            },
            "colorscale": [
             [
              0,
              "#0d0887"
             ],
             [
              0.1111111111111111,
              "#46039f"
             ],
             [
              0.2222222222222222,
              "#7201a8"
             ],
             [
              0.3333333333333333,
              "#9c179e"
             ],
             [
              0.4444444444444444,
              "#bd3786"
             ],
             [
              0.5555555555555556,
              "#d8576b"
             ],
             [
              0.6666666666666666,
              "#ed7953"
             ],
             [
              0.7777777777777778,
              "#fb9f3a"
             ],
             [
              0.8888888888888888,
              "#fdca26"
             ],
             [
              1,
              "#f0f921"
             ]
            ],
            "type": "histogram2dcontour"
           }
          ],
          "mesh3d": [
           {
            "colorbar": {
             "outlinewidth": 0,
             "ticks": ""
            },
            "type": "mesh3d"
           }
          ],
          "parcoords": [
           {
            "line": {
             "colorbar": {
              "outlinewidth": 0,
              "ticks": ""
             }
            },
            "type": "parcoords"
           }
          ],
          "pie": [
           {
            "automargin": true,
            "type": "pie"
           }
          ],
          "scatter": [
           {
            "fillpattern": {
             "fillmode": "overlay",
             "size": 10,
             "solidity": 0.2
            },
            "type": "scatter"
           }
          ],
          "scatter3d": [
           {
            "line": {
             "colorbar": {
              "outlinewidth": 0,
              "ticks": ""
             }
            },
            "marker": {
             "colorbar": {
              "outlinewidth": 0,
              "ticks": ""
             }
            },
            "type": "scatter3d"
           }
          ],
          "scattercarpet": [
           {
            "marker": {
             "colorbar": {
              "outlinewidth": 0,
              "ticks": ""
             }
            },
            "type": "scattercarpet"
           }
          ],
          "scattergeo": [
           {
            "marker": {
             "colorbar": {
              "outlinewidth": 0,
              "ticks": ""
             }
            },
            "type": "scattergeo"
           }
          ],
          "scattergl": [
           {
            "marker": {
             "colorbar": {
              "outlinewidth": 0,
              "ticks": ""
             }
            },
            "type": "scattergl"
           }
          ],
          "scattermapbox": [
           {
            "marker": {
             "colorbar": {
              "outlinewidth": 0,
              "ticks": ""
             }
            },
            "type": "scattermapbox"
           }
          ],
          "scatterpolar": [
           {
            "marker": {
             "colorbar": {
              "outlinewidth": 0,
              "ticks": ""
             }
            },
            "type": "scatterpolar"
           }
          ],
          "scatterpolargl": [
           {
            "marker": {
             "colorbar": {
              "outlinewidth": 0,
              "ticks": ""
             }
            },
            "type": "scatterpolargl"
           }
          ],
          "scatterternary": [
           {
            "marker": {
             "colorbar": {
              "outlinewidth": 0,
              "ticks": ""
             }
            },
            "type": "scatterternary"
           }
          ],
          "surface": [
           {
            "colorbar": {
             "outlinewidth": 0,
             "ticks": ""
            },
            "colorscale": [
             [
              0,
              "#0d0887"
             ],
             [
              0.1111111111111111,
              "#46039f"
             ],
             [
              0.2222222222222222,
              "#7201a8"
             ],
             [
              0.3333333333333333,
              "#9c179e"
             ],
             [
              0.4444444444444444,
              "#bd3786"
             ],
             [
              0.5555555555555556,
              "#d8576b"
             ],
             [
              0.6666666666666666,
              "#ed7953"
             ],
             [
              0.7777777777777778,
              "#fb9f3a"
             ],
             [
              0.8888888888888888,
              "#fdca26"
             ],
             [
              1,
              "#f0f921"
             ]
            ],
            "type": "surface"
           }
          ],
          "table": [
           {
            "cells": {
             "fill": {
              "color": "#EBF0F8"
             },
             "line": {
              "color": "white"
             }
            },
            "header": {
             "fill": {
              "color": "#C8D4E3"
             },
             "line": {
              "color": "white"
             }
            },
            "type": "table"
           }
          ]
         },
         "layout": {
          "annotationdefaults": {
           "arrowcolor": "#2a3f5f",
           "arrowhead": 0,
           "arrowwidth": 1
          },
          "autotypenumbers": "strict",
          "coloraxis": {
           "colorbar": {
            "outlinewidth": 0,
            "ticks": ""
           }
          },
          "colorscale": {
           "diverging": [
            [
             0,
             "#8e0152"
            ],
            [
             0.1,
             "#c51b7d"
            ],
            [
             0.2,
             "#de77ae"
            ],
            [
             0.3,
             "#f1b6da"
            ],
            [
             0.4,
             "#fde0ef"
            ],
            [
             0.5,
             "#f7f7f7"
            ],
            [
             0.6,
             "#e6f5d0"
            ],
            [
             0.7,
             "#b8e186"
            ],
            [
             0.8,
             "#7fbc41"
            ],
            [
             0.9,
             "#4d9221"
            ],
            [
             1,
             "#276419"
            ]
           ],
           "sequential": [
            [
             0,
             "#0d0887"
            ],
            [
             0.1111111111111111,
             "#46039f"
            ],
            [
             0.2222222222222222,
             "#7201a8"
            ],
            [
             0.3333333333333333,
             "#9c179e"
            ],
            [
             0.4444444444444444,
             "#bd3786"
            ],
            [
             0.5555555555555556,
             "#d8576b"
            ],
            [
             0.6666666666666666,
             "#ed7953"
            ],
            [
             0.7777777777777778,
             "#fb9f3a"
            ],
            [
             0.8888888888888888,
             "#fdca26"
            ],
            [
             1,
             "#f0f921"
            ]
           ],
           "sequentialminus": [
            [
             0,
             "#0d0887"
            ],
            [
             0.1111111111111111,
             "#46039f"
            ],
            [
             0.2222222222222222,
             "#7201a8"
            ],
            [
             0.3333333333333333,
             "#9c179e"
            ],
            [
             0.4444444444444444,
             "#bd3786"
            ],
            [
             0.5555555555555556,
             "#d8576b"
            ],
            [
             0.6666666666666666,
             "#ed7953"
            ],
            [
             0.7777777777777778,
             "#fb9f3a"
            ],
            [
             0.8888888888888888,
             "#fdca26"
            ],
            [
             1,
             "#f0f921"
            ]
           ]
          },
          "colorway": [
           "#636efa",
           "#EF553B",
           "#00cc96",
           "#ab63fa",
           "#FFA15A",
           "#19d3f3",
           "#FF6692",
           "#B6E880",
           "#FF97FF",
           "#FECB52"
          ],
          "font": {
           "color": "#2a3f5f"
          },
          "geo": {
           "bgcolor": "white",
           "lakecolor": "white",
           "landcolor": "#E5ECF6",
           "showlakes": true,
           "showland": true,
           "subunitcolor": "white"
          },
          "hoverlabel": {
           "align": "left"
          },
          "hovermode": "closest",
          "mapbox": {
           "style": "light"
          },
          "paper_bgcolor": "white",
          "plot_bgcolor": "#E5ECF6",
          "polar": {
           "angularaxis": {
            "gridcolor": "white",
            "linecolor": "white",
            "ticks": ""
           },
           "bgcolor": "#E5ECF6",
           "radialaxis": {
            "gridcolor": "white",
            "linecolor": "white",
            "ticks": ""
           }
          },
          "scene": {
           "xaxis": {
            "backgroundcolor": "#E5ECF6",
            "gridcolor": "white",
            "gridwidth": 2,
            "linecolor": "white",
            "showbackground": true,
            "ticks": "",
            "zerolinecolor": "white"
           },
           "yaxis": {
            "backgroundcolor": "#E5ECF6",
            "gridcolor": "white",
            "gridwidth": 2,
            "linecolor": "white",
            "showbackground": true,
            "ticks": "",
            "zerolinecolor": "white"
           },
           "zaxis": {
            "backgroundcolor": "#E5ECF6",
            "gridcolor": "white",
            "gridwidth": 2,
            "linecolor": "white",
            "showbackground": true,
            "ticks": "",
            "zerolinecolor": "white"
           }
          },
          "shapedefaults": {
           "line": {
            "color": "#2a3f5f"
           }
          },
          "ternary": {
           "aaxis": {
            "gridcolor": "white",
            "linecolor": "white",
            "ticks": ""
           },
           "baxis": {
            "gridcolor": "white",
            "linecolor": "white",
            "ticks": ""
           },
           "bgcolor": "#E5ECF6",
           "caxis": {
            "gridcolor": "white",
            "linecolor": "white",
            "ticks": ""
           }
          },
          "title": {
           "x": 0.05
          },
          "xaxis": {
           "automargin": true,
           "gridcolor": "white",
           "linecolor": "white",
           "ticks": "",
           "title": {
            "standoff": 15
           },
           "zerolinecolor": "white",
           "zerolinewidth": 2
          },
          "yaxis": {
           "automargin": true,
           "gridcolor": "white",
           "linecolor": "white",
           "ticks": "",
           "title": {
            "standoff": 15
           },
           "zerolinecolor": "white",
           "zerolinewidth": 2
          }
         }
        },
        "title": {
<<<<<<< HEAD
         "text": "Total amount of (un)loaded mail [tons] at Schiphol between 2019 and 2023"
        },
        "xaxis": {
         "anchor": "y",
=======
         "text": "Amount of mail [tons] per Dutch airport between 2019 and 2023"
        },
        "xaxis": {
         "anchor": "y",
         "autorange": true,
>>>>>>> 415bc22e89605e38198c33d222baf157c578a219
         "domain": [
          0,
          1
         ],
<<<<<<< HEAD
         "title": {
          "text": "Period"
         }
        },
        "yaxis": {
         "anchor": "x",
=======
         "range": [
          -3.373180873180873,
          58.37318087318087
         ],
         "title": {
          "text": "Periods"
         },
         "type": "category"
        },
        "yaxis": {
         "anchor": "x",
         "autorange": true,
>>>>>>> 415bc22e89605e38198c33d222baf157c578a219
         "categoryorder": "category ascending",
         "domain": [
          0,
          1
         ],
<<<<<<< HEAD
         "title": {
          "text": "Amount of mail in [tons]"
         },
         "type": "log"
        }
       }
      }
=======
         "range": [
          -3.6594202898550727,
          58.65942028985507
         ],
         "title": {
          "text": "Total Mail [tons]"
         },
         "type": "category"
        }
       }
      },
      "image/png": "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"
>>>>>>> 415bc22e89605e38198c33d222baf157c578a219
     },
     "metadata": {},
     "output_type": "display_data"
    }
   ],
   "source": [
    "data_mail = data.loc[data['Periods'].str.contains('2019MM|2020MM|2021MM|2022MM|2023MM', case=False, regex=True)]\n",
<<<<<<< HEAD
    "data_mail = data_mail[data_mail['Airports'] == 'Schiphol']\n",
=======
>>>>>>> 415bc22e89605e38198c33d222baf157c578a219
    "\n",
    "print(f'Dataframe shape: {data_mail.shape}')\n",
    "\n",
    "figmail = px.line(data_mail, \n",
    "                x = \"Periods\", \n",
<<<<<<< HEAD
    "                y = [\"Total Unloaded Mail [tons]\", \"Total Loaded Mail [tons]\"],\n",
    "                labels = {\n",
    "                    \"Periods\": \"Period\",\n",
    "                    \"value\": \"Amount of mail in [tons]\",\n",
    "                    \"variable\": \"Type of mail\"\n",
    "                    },\n",
    "                log_y = True,\n",
    "                )\n",
    "\n",
    "figmail.update_layout(\n",
    "                title={'text': 'Total amount of (un)loaded mail [tons] at Schiphol between 2019 and 2023'},\n",
=======
    "                y = \"Total Mail [tons]\",\n",
    "                color = \"Airports\",\n",
    "                symbol = \"Airports\"\n",
    "                )\n",
    "\n",
    "figmail.update_layout(\n",
    "                title={'text': 'Amount of mail [tons] per Dutch airport between 2019 and 2023'},\n",
>>>>>>> 415bc22e89605e38198c33d222baf157c578a219
    "                height=600,\n",
    "                )\n",
    "\n",
    "figmail.update_yaxes(categoryorder = 'category ascending')\n",
    "\n",
    "figmail.show()"
   ]
  },
  {
<<<<<<< HEAD
   "cell_type": "code",
   "execution_count": 259,
=======
   "cell_type": "markdown",
   "id": "6b9a514f-e01a-47ec-a96b-ad3a85af29f9",
   "metadata": {},
   "source": [
    "For the mail, the decrease is also seen in march 2020. This is because there were no flights anymore (source). But there is a big increase in mail soon after the drop. This can be explained, people were not able to see each other physically. This causes other means of contact to increase, like mail. (Source)"
   ]
  },
  {
   "cell_type": "markdown",
   "id": "f2c00262",
   "metadata": {},
   "source": [
    "# Cargo Flights"
   ]
  },
  {
   "cell_type": "code",
   "execution_count": 23,
>>>>>>> 415bc22e89605e38198c33d222baf157c578a219
   "id": "b6abe75a",
   "metadata": {},
   "outputs": [
    {
     "name": "stdout",
     "output_type": "stream",
     "text": [
      "Dataframe shape: (336, 105)\n"
     ]
    },
    {
     "data": {
      "application/vnd.plotly.v1+json": {
       "config": {
        "plotlyServerURL": "https://plot.ly"
       },
       "data": [
        {
         "hovertemplate": "Airports=TOTAL<br>Periods=%{x}<br>Total Cargo [tons]=%{y}<extra></extra>",
         "legendgroup": "TOTAL",
         "line": {
          "color": "#636efa",
          "dash": "solid"
         },
         "marker": {
          "symbol": "circle"
         },
<<<<<<< HEAD
         "mode": "lines+markers",
=======
         "mode": "markers+lines",
>>>>>>> 415bc22e89605e38198c33d222baf157c578a219
         "name": "TOTAL",
         "orientation": "v",
         "showlegend": true,
         "type": "scatter",
         "x": [
          "2019MM01",
          "2019MM02",
          "2019MM03",
          "2019MM04",
          "2019MM05",
          "2019MM06",
          "2019MM07",
          "2019MM08",
          "2019MM09",
          "2019MM10",
          "2019MM11",
          "2019MM12",
          "2020MM01",
          "2020MM02",
          "2020MM03",
          "2020MM04",
          "2020MM05",
          "2020MM06",
          "2020MM07",
          "2020MM08",
          "2020MM09",
          "2020MM10",
          "2020MM11",
          "2020MM12",
          "2021MM01",
          "2021MM02",
          "2021MM03",
          "2021MM04",
          "2021MM05",
          "2021MM06",
          "2021MM07",
          "2021MM08",
          "2021MM09",
          "2021MM10",
          "2021MM11",
          "2021MM12",
          "2022MM01",
          "2022MM02",
          "2022MM03",
          "2022MM04",
          "2022MM05",
          "2022MM06",
          "2022MM07",
          "2022MM08",
          "2022MM09",
          "2022MM10",
          "2022MM11",
          "2022MM12",
          "2023MM01",
          "2023MM02",
          "2023MM03",
          "2023MM04",
          "2023MM05",
          "2023MM06",
          "2023MM07",
          "2023MM08"
         ],
         "xaxis": "x",
         "y": [
          133445,
          128322,
          155427,
          138159,
          144540,
          131970,
          137391,
          135263,
          140637,
          150127,
          148037,
          138385,
          122254,
          126726,
          127995,
          103420,
          117525,
          121692,
          132684,
          133168,
          135059,
          153109,
          157508,
          146441,
          140859,
          137288,
          165377,
          152164,
          158164,
          145582,
          138789,
          140198,
          144584,
          161776,
          156617,
          153901,
          131588,
          126020,
          137570,
          126658,
          128112,
          125858,
          130029,
          125037,
          130738,
          135512,
          128395,
          120439,
          109114,
          113147,
          125407,
          116129,
          118281,
          112994,
          115703,
          112120
         ],
         "yaxis": "y"
        },
        {
         "hovertemplate": "Airports=Schiphol<br>Periods=%{x}<br>Total Cargo [tons]=%{y}<extra></extra>",
         "legendgroup": "Schiphol",
         "line": {
          "color": "#EF553B",
          "dash": "solid"
         },
         "marker": {
          "symbol": "diamond"
         },
<<<<<<< HEAD
         "mode": "lines+markers",
=======
         "mode": "markers+lines",
>>>>>>> 415bc22e89605e38198c33d222baf157c578a219
         "name": "Schiphol",
         "orientation": "v",
         "showlegend": true,
         "type": "scatter",
         "x": [
          "2019MM01",
          "2019MM02",
          "2019MM03",
          "2019MM04",
          "2019MM05",
          "2019MM06",
          "2019MM07",
          "2019MM08",
          "2019MM09",
          "2019MM10",
          "2019MM11",
          "2019MM12",
          "2020MM01",
          "2020MM02",
          "2020MM03",
          "2020MM04",
          "2020MM05",
          "2020MM06",
          "2020MM07",
          "2020MM08",
          "2020MM09",
          "2020MM10",
          "2020MM11",
          "2020MM12",
          "2021MM01",
          "2021MM02",
          "2021MM03",
          "2021MM04",
          "2021MM05",
          "2021MM06",
          "2021MM07",
          "2021MM08",
          "2021MM09",
          "2021MM10",
          "2021MM11",
          "2021MM12",
          "2022MM01",
          "2022MM02",
          "2022MM03",
          "2022MM04",
          "2022MM05",
          "2022MM06",
          "2022MM07",
          "2022MM08",
          "2022MM09",
          "2022MM10",
          "2022MM11",
          "2022MM12",
          "2023MM01",
          "2023MM02",
          "2023MM03",
          "2023MM04",
          "2023MM05",
          "2023MM06",
          "2023MM07",
          "2023MM08"
         ],
         "xaxis": "x",
         "y": [
          122643,
          115797,
          144773,
          126743,
          133648,
          123888,
          129143,
          130581,
          136819,
          143579,
          136256,
          126376,
          113080,
          116293,
          120481,
          93255,
          104745,
          108164,
          119634,
          119975,
          124491,
          140140,
          145474,
          135866,
          133222,
          125137,
          153206,
          141132,
          147017,
          137956,
          130664,
          130844,
          133245,
          149383,
          143831,
          141667,
          122553,
          118274,
          128198,
          116895,
          119478,
          116274,
          120131,
          116876,
          121508,
          125358,
          119074,
          113118,
          103981,
          109035,
          121746,
          113459,
          117999,
          112994,
          113536,
          110126
         ],
         "yaxis": "y"
        },
        {
         "hovertemplate": "Airports=Rotterdam The Hague<br>Periods=%{x}<br>Total Cargo [tons]=%{y}<extra></extra>",
         "legendgroup": "Rotterdam The Hague",
         "line": {
          "color": "#00cc96",
          "dash": "solid"
         },
         "marker": {
          "symbol": "square"
         },
<<<<<<< HEAD
         "mode": "lines+markers",
=======
         "mode": "markers+lines",
>>>>>>> 415bc22e89605e38198c33d222baf157c578a219
         "name": "Rotterdam The Hague",
         "orientation": "v",
         "showlegend": true,
         "type": "scatter",
         "x": [
          "2019MM01",
          "2019MM02",
          "2019MM03",
          "2019MM04",
          "2019MM05",
          "2019MM06",
          "2019MM07",
          "2019MM08",
          "2019MM09",
          "2019MM10",
          "2019MM11",
          "2019MM12",
          "2020MM01",
          "2020MM02",
          "2020MM03",
          "2020MM04",
          "2020MM05",
          "2020MM06",
          "2020MM07",
          "2020MM08",
          "2020MM09",
          "2020MM10",
          "2020MM11",
          "2020MM12",
          "2021MM01",
          "2021MM02",
          "2021MM03",
          "2021MM04",
          "2021MM05",
          "2021MM06",
          "2021MM07",
          "2021MM08",
          "2021MM09",
          "2021MM10",
          "2021MM11",
          "2021MM12",
          "2022MM01",
          "2022MM02",
          "2022MM03",
          "2022MM04",
          "2022MM05",
          "2022MM06",
          "2022MM07",
          "2022MM08",
          "2022MM09",
          "2022MM10",
          "2022MM11",
          "2022MM12",
          "2023MM01",
          "2023MM02",
          "2023MM03",
          "2023MM04",
          "2023MM05",
          "2023MM06",
          "2023MM07",
          "2023MM08"
         ],
         "xaxis": "x",
         "y": [
          0,
          0,
          0,
          0,
          0,
          0,
          0,
          0,
          0,
          0,
          0,
          0,
          0,
          0,
          0,
          0,
          0,
          0,
          0,
          0,
          0,
          0,
          0,
          0,
          0,
          0,
          0,
          0,
          0,
          0,
          0,
          0,
          0,
          0,
          0,
          0,
          0,
          0,
          0,
          0,
          0,
          0,
          0,
          0,
          0,
          0,
          0,
          0,
          0,
          0,
          0,
          0,
          0,
          0,
          0,
          0
         ],
         "yaxis": "y"
        },
        {
         "hovertemplate": "Airports=Eindhoven<br>Periods=%{x}<br>Total Cargo [tons]=%{y}<extra></extra>",
         "legendgroup": "Eindhoven",
         "line": {
          "color": "#ab63fa",
          "dash": "solid"
         },
         "marker": {
          "symbol": "x"
         },
<<<<<<< HEAD
         "mode": "lines+markers",
=======
         "mode": "markers+lines",
>>>>>>> 415bc22e89605e38198c33d222baf157c578a219
         "name": "Eindhoven",
         "orientation": "v",
         "showlegend": true,
         "type": "scatter",
         "x": [
          "2019MM01",
          "2019MM02",
          "2019MM03",
          "2019MM04",
          "2019MM05",
          "2019MM06",
          "2019MM07",
          "2019MM08",
          "2019MM09",
          "2019MM10",
          "2019MM11",
          "2019MM12",
          "2020MM01",
          "2020MM02",
          "2020MM03",
          "2020MM04",
          "2020MM05",
          "2020MM06",
          "2020MM07",
          "2020MM08",
          "2020MM09",
          "2020MM10",
          "2020MM11",
          "2020MM12",
          "2021MM01",
          "2021MM02",
          "2021MM03",
          "2021MM04",
          "2021MM05",
          "2021MM06",
          "2021MM07",
          "2021MM08",
          "2021MM09",
          "2021MM10",
          "2021MM11",
          "2021MM12",
          "2022MM01",
          "2022MM02",
          "2022MM03",
          "2022MM04",
          "2022MM05",
          "2022MM06",
          "2022MM07",
          "2022MM08",
          "2022MM09",
          "2022MM10",
          "2022MM11",
          "2022MM12",
          "2023MM01",
          "2023MM02",
          "2023MM03",
          "2023MM04",
          "2023MM05",
          "2023MM06",
          "2023MM07",
          "2023MM08"
         ],
         "xaxis": "x",
         "y": [
          0,
          0,
          0,
          0,
          0,
          0,
          0,
          0,
          0,
          0,
          0,
          0,
          0,
          0,
          0,
          0,
          0,
          0,
          0,
          0,
          0,
          0,
          0,
          0,
          0,
          0,
          0,
          0,
          0,
          0,
          0,
          0,
          0,
          0,
          0,
          0,
          0,
          0,
          0,
          0,
          0,
          0,
          0,
          0,
          0,
          0,
          0,
          0,
          0,
          0,
          0,
          0,
          0,
          0,
          0,
          0
         ],
         "yaxis": "y"
        },
        {
         "hovertemplate": "Airports=Maastricht Aachen<br>Periods=%{x}<br>Total Cargo [tons]=%{y}<extra></extra>",
         "legendgroup": "Maastricht Aachen",
         "line": {
          "color": "#FFA15A",
          "dash": "solid"
         },
         "marker": {
          "symbol": "cross"
         },
<<<<<<< HEAD
         "mode": "lines+markers",
=======
         "mode": "markers+lines",
>>>>>>> 415bc22e89605e38198c33d222baf157c578a219
         "name": "Maastricht Aachen",
         "orientation": "v",
         "showlegend": true,
         "type": "scatter",
         "x": [
          "2019MM01",
          "2019MM02",
          "2019MM03",
          "2019MM04",
          "2019MM05",
          "2019MM06",
          "2019MM07",
          "2019MM08",
          "2019MM09",
          "2019MM10",
          "2019MM11",
          "2019MM12",
          "2020MM01",
          "2020MM02",
          "2020MM03",
          "2020MM04",
          "2020MM05",
          "2020MM06",
          "2020MM07",
          "2020MM08",
          "2020MM09",
          "2020MM10",
          "2020MM11",
          "2020MM12",
          "2021MM01",
          "2021MM02",
          "2021MM03",
          "2021MM04",
          "2021MM05",
          "2021MM06",
          "2021MM07",
          "2021MM08",
          "2021MM09",
          "2021MM10",
          "2021MM11",
          "2021MM12",
          "2022MM01",
          "2022MM02",
          "2022MM03",
          "2022MM04",
          "2022MM05",
          "2022MM06",
          "2022MM07",
          "2022MM08",
          "2022MM09",
          "2022MM10",
          "2022MM11",
          "2022MM12",
          "2023MM01",
          "2023MM02",
          "2023MM03",
          "2023MM04",
          "2023MM05",
          "2023MM06",
          "2023MM07",
          "2023MM08"
         ],
         "xaxis": "x",
         "y": [
          10802,
          12526,
          10654,
          11416,
          10892,
          8081,
          8248,
          4682,
          3818,
          6548,
          11781,
          12009,
          9174,
          10433,
          7514,
          10165,
          12780,
          13528,
          13050,
          13194,
          10568,
          12969,
          12034,
          10575,
          7637,
          12151,
          12171,
          11032,
          11147,
          7626,
          8125,
          9354,
          11339,
          12393,
          12787,
          12234,
          9035,
          7746,
          9372,
          9763,
          8634,
          9584,
          9898,
          8161,
          9230,
          10154,
          9321,
          7321,
          5133,
          4113,
          3661,
          2670,
          282,
          0,
          2166,
          1993
         ],
         "yaxis": "y"
        },
        {
         "hovertemplate": "Airports=Groningen<br>Periods=%{x}<br>Total Cargo [tons]=%{y}<extra></extra>",
         "legendgroup": "Groningen",
         "line": {
          "color": "#19d3f3",
          "dash": "solid"
         },
         "marker": {
          "symbol": "circle"
         },
<<<<<<< HEAD
         "mode": "lines+markers",
=======
         "mode": "markers+lines",
>>>>>>> 415bc22e89605e38198c33d222baf157c578a219
         "name": "Groningen",
         "orientation": "v",
         "showlegend": true,
         "type": "scatter",
         "x": [
          "2019MM01",
          "2019MM02",
          "2019MM03",
          "2019MM04",
          "2019MM05",
          "2019MM06",
          "2019MM07",
          "2019MM08",
          "2019MM09",
          "2019MM10",
          "2019MM11",
          "2019MM12",
          "2020MM01",
          "2020MM02",
          "2020MM03",
          "2020MM04",
          "2020MM05",
          "2020MM06",
          "2020MM07",
          "2020MM08",
          "2020MM09",
          "2020MM10",
          "2020MM11",
          "2020MM12",
          "2021MM01",
          "2021MM02",
          "2021MM03",
          "2021MM04",
          "2021MM05",
          "2021MM06",
          "2021MM07",
          "2021MM08",
          "2021MM09",
          "2021MM10",
          "2021MM11",
          "2021MM12",
          "2022MM01",
          "2022MM02",
          "2022MM03",
          "2022MM04",
          "2022MM05",
          "2022MM06",
          "2022MM07",
          "2022MM08",
          "2022MM09",
          "2022MM10",
          "2022MM11",
          "2022MM12",
          "2023MM01",
          "2023MM02",
          "2023MM03",
          "2023MM04",
          "2023MM05",
          "2023MM06",
          "2023MM07",
          "2023MM08"
         ],
         "xaxis": "x",
         "y": [
          0,
          0,
          0,
          0,
          0,
          0,
          0,
          0,
          0,
          0,
          0,
          0,
          0,
          0,
          0,
          0,
          0,
          0,
          0,
          0,
          0,
          0,
          0,
          0,
          0,
          0,
          0,
          0,
          0,
          0,
          0,
          0,
          0,
          0,
          0,
          0,
          0,
          0,
          0,
          0,
          0,
          0,
          0,
          0,
          0,
          0,
          0,
          0,
          0,
          0,
          0,
          0,
          0,
          0,
          0,
          0
         ],
         "yaxis": "y"
        }
       ],
       "layout": {
<<<<<<< HEAD
        "height": 600,
=======
        "autosize": true,
>>>>>>> 415bc22e89605e38198c33d222baf157c578a219
        "legend": {
         "title": {
          "text": "Airports"
         },
         "tracegroupgap": 0
        },
        "margin": {
         "t": 60
        },
        "template": {
         "data": {
          "bar": [
           {
            "error_x": {
             "color": "#2a3f5f"
            },
            "error_y": {
             "color": "#2a3f5f"
            },
            "marker": {
             "line": {
              "color": "#E5ECF6",
              "width": 0.5
             },
             "pattern": {
              "fillmode": "overlay",
              "size": 10,
              "solidity": 0.2
             }
            },
            "type": "bar"
           }
          ],
          "barpolar": [
           {
            "marker": {
             "line": {
              "color": "#E5ECF6",
              "width": 0.5
             },
             "pattern": {
              "fillmode": "overlay",
              "size": 10,
              "solidity": 0.2
             }
            },
            "type": "barpolar"
           }
          ],
          "carpet": [
           {
            "aaxis": {
             "endlinecolor": "#2a3f5f",
             "gridcolor": "white",
             "linecolor": "white",
             "minorgridcolor": "white",
             "startlinecolor": "#2a3f5f"
            },
            "baxis": {
             "endlinecolor": "#2a3f5f",
             "gridcolor": "white",
             "linecolor": "white",
             "minorgridcolor": "white",
             "startlinecolor": "#2a3f5f"
            },
            "type": "carpet"
           }
          ],
          "choropleth": [
           {
            "colorbar": {
             "outlinewidth": 0,
             "ticks": ""
            },
            "type": "choropleth"
           }
          ],
          "contour": [
           {
            "colorbar": {
             "outlinewidth": 0,
             "ticks": ""
            },
            "colorscale": [
             [
              0,
              "#0d0887"
             ],
             [
              0.1111111111111111,
              "#46039f"
             ],
             [
              0.2222222222222222,
              "#7201a8"
             ],
             [
              0.3333333333333333,
              "#9c179e"
             ],
             [
              0.4444444444444444,
              "#bd3786"
             ],
             [
              0.5555555555555556,
              "#d8576b"
             ],
             [
              0.6666666666666666,
              "#ed7953"
             ],
             [
              0.7777777777777778,
              "#fb9f3a"
             ],
             [
              0.8888888888888888,
              "#fdca26"
             ],
             [
              1,
              "#f0f921"
             ]
            ],
            "type": "contour"
           }
          ],
          "contourcarpet": [
           {
            "colorbar": {
             "outlinewidth": 0,
             "ticks": ""
            },
            "type": "contourcarpet"
           }
          ],
          "heatmap": [
           {
            "colorbar": {
             "outlinewidth": 0,
             "ticks": ""
            },
            "colorscale": [
             [
              0,
              "#0d0887"
             ],
             [
              0.1111111111111111,
              "#46039f"
             ],
             [
              0.2222222222222222,
              "#7201a8"
             ],
             [
              0.3333333333333333,
              "#9c179e"
             ],
             [
              0.4444444444444444,
              "#bd3786"
             ],
             [
              0.5555555555555556,
              "#d8576b"
             ],
             [
              0.6666666666666666,
              "#ed7953"
             ],
             [
              0.7777777777777778,
              "#fb9f3a"
             ],
             [
              0.8888888888888888,
              "#fdca26"
             ],
             [
              1,
              "#f0f921"
             ]
            ],
            "type": "heatmap"
           }
          ],
          "heatmapgl": [
           {
            "colorbar": {
             "outlinewidth": 0,
             "ticks": ""
            },
            "colorscale": [
             [
              0,
              "#0d0887"
             ],
             [
              0.1111111111111111,
              "#46039f"
             ],
             [
              0.2222222222222222,
              "#7201a8"
             ],
             [
              0.3333333333333333,
              "#9c179e"
             ],
             [
              0.4444444444444444,
              "#bd3786"
             ],
             [
              0.5555555555555556,
              "#d8576b"
             ],
             [
              0.6666666666666666,
              "#ed7953"
             ],
             [
              0.7777777777777778,
              "#fb9f3a"
             ],
             [
              0.8888888888888888,
              "#fdca26"
             ],
             [
              1,
              "#f0f921"
             ]
            ],
            "type": "heatmapgl"
           }
          ],
          "histogram": [
           {
            "marker": {
             "pattern": {
              "fillmode": "overlay",
              "size": 10,
              "solidity": 0.2
             }
            },
            "type": "histogram"
           }
          ],
          "histogram2d": [
           {
            "colorbar": {
             "outlinewidth": 0,
             "ticks": ""
            },
            "colorscale": [
             [
              0,
              "#0d0887"
             ],
             [
              0.1111111111111111,
              "#46039f"
             ],
             [
              0.2222222222222222,
              "#7201a8"
             ],
             [
              0.3333333333333333,
              "#9c179e"
             ],
             [
              0.4444444444444444,
              "#bd3786"
             ],
             [
              0.5555555555555556,
              "#d8576b"
             ],
             [
              0.6666666666666666,
              "#ed7953"
             ],
             [
              0.7777777777777778,
              "#fb9f3a"
             ],
             [
              0.8888888888888888,
              "#fdca26"
             ],
             [
              1,
              "#f0f921"
             ]
            ],
            "type": "histogram2d"
           }
          ],
          "histogram2dcontour": [
           {
            "colorbar": {
             "outlinewidth": 0,
             "ticks": ""
            },
            "colorscale": [
             [
              0,
              "#0d0887"
             ],
             [
              0.1111111111111111,
              "#46039f"
             ],
             [
              0.2222222222222222,
              "#7201a8"
             ],
             [
              0.3333333333333333,
              "#9c179e"
             ],
             [
              0.4444444444444444,
              "#bd3786"
             ],
             [
              0.5555555555555556,
              "#d8576b"
             ],
             [
              0.6666666666666666,
              "#ed7953"
             ],
             [
              0.7777777777777778,
              "#fb9f3a"
             ],
             [
              0.8888888888888888,
              "#fdca26"
             ],
             [
              1,
              "#f0f921"
             ]
            ],
            "type": "histogram2dcontour"
           }
          ],
          "mesh3d": [
           {
            "colorbar": {
             "outlinewidth": 0,
             "ticks": ""
            },
            "type": "mesh3d"
           }
          ],
          "parcoords": [
           {
            "line": {
             "colorbar": {
              "outlinewidth": 0,
              "ticks": ""
             }
            },
            "type": "parcoords"
           }
          ],
          "pie": [
           {
            "automargin": true,
            "type": "pie"
           }
          ],
          "scatter": [
           {
            "fillpattern": {
             "fillmode": "overlay",
             "size": 10,
             "solidity": 0.2
            },
            "type": "scatter"
           }
          ],
          "scatter3d": [
           {
            "line": {
             "colorbar": {
              "outlinewidth": 0,
              "ticks": ""
             }
            },
            "marker": {
             "colorbar": {
              "outlinewidth": 0,
              "ticks": ""
             }
            },
            "type": "scatter3d"
           }
          ],
          "scattercarpet": [
           {
            "marker": {
             "colorbar": {
              "outlinewidth": 0,
              "ticks": ""
             }
            },
            "type": "scattercarpet"
           }
          ],
          "scattergeo": [
           {
            "marker": {
             "colorbar": {
              "outlinewidth": 0,
              "ticks": ""
             }
            },
            "type": "scattergeo"
           }
          ],
          "scattergl": [
           {
            "marker": {
             "colorbar": {
              "outlinewidth": 0,
              "ticks": ""
             }
            },
            "type": "scattergl"
           }
          ],
          "scattermapbox": [
           {
            "marker": {
             "colorbar": {
              "outlinewidth": 0,
              "ticks": ""
             }
            },
            "type": "scattermapbox"
           }
          ],
          "scatterpolar": [
           {
            "marker": {
             "colorbar": {
              "outlinewidth": 0,
              "ticks": ""
             }
            },
            "type": "scatterpolar"
           }
          ],
          "scatterpolargl": [
           {
            "marker": {
             "colorbar": {
              "outlinewidth": 0,
              "ticks": ""
             }
            },
            "type": "scatterpolargl"
           }
          ],
          "scatterternary": [
           {
            "marker": {
             "colorbar": {
              "outlinewidth": 0,
              "ticks": ""
             }
            },
            "type": "scatterternary"
           }
          ],
          "surface": [
           {
            "colorbar": {
             "outlinewidth": 0,
             "ticks": ""
            },
            "colorscale": [
             [
              0,
              "#0d0887"
             ],
             [
              0.1111111111111111,
              "#46039f"
             ],
             [
              0.2222222222222222,
              "#7201a8"
             ],
             [
              0.3333333333333333,
              "#9c179e"
             ],
             [
              0.4444444444444444,
              "#bd3786"
             ],
             [
              0.5555555555555556,
              "#d8576b"
             ],
             [
              0.6666666666666666,
              "#ed7953"
             ],
             [
              0.7777777777777778,
              "#fb9f3a"
             ],
             [
              0.8888888888888888,
              "#fdca26"
             ],
             [
              1,
              "#f0f921"
             ]
            ],
            "type": "surface"
           }
          ],
          "table": [
           {
            "cells": {
             "fill": {
              "color": "#EBF0F8"
             },
             "line": {
              "color": "white"
             }
            },
            "header": {
             "fill": {
              "color": "#C8D4E3"
             },
             "line": {
              "color": "white"
             }
            },
            "type": "table"
           }
          ]
         },
         "layout": {
          "annotationdefaults": {
           "arrowcolor": "#2a3f5f",
           "arrowhead": 0,
           "arrowwidth": 1
          },
          "autotypenumbers": "strict",
          "coloraxis": {
           "colorbar": {
            "outlinewidth": 0,
            "ticks": ""
           }
          },
          "colorscale": {
           "diverging": [
            [
             0,
             "#8e0152"
            ],
            [
             0.1,
             "#c51b7d"
            ],
            [
             0.2,
             "#de77ae"
            ],
            [
             0.3,
             "#f1b6da"
            ],
            [
             0.4,
             "#fde0ef"
            ],
            [
             0.5,
             "#f7f7f7"
            ],
            [
             0.6,
             "#e6f5d0"
            ],
            [
             0.7,
             "#b8e186"
            ],
            [
             0.8,
             "#7fbc41"
            ],
            [
             0.9,
             "#4d9221"
            ],
            [
             1,
             "#276419"
            ]
           ],
           "sequential": [
            [
             0,
             "#0d0887"
            ],
            [
             0.1111111111111111,
             "#46039f"
            ],
            [
             0.2222222222222222,
             "#7201a8"
            ],
            [
             0.3333333333333333,
             "#9c179e"
            ],
            [
             0.4444444444444444,
             "#bd3786"
            ],
            [
             0.5555555555555556,
             "#d8576b"
            ],
            [
             0.6666666666666666,
             "#ed7953"
            ],
            [
             0.7777777777777778,
             "#fb9f3a"
            ],
            [
             0.8888888888888888,
             "#fdca26"
            ],
            [
             1,
             "#f0f921"
            ]
           ],
           "sequentialminus": [
            [
             0,
             "#0d0887"
            ],
            [
             0.1111111111111111,
             "#46039f"
            ],
            [
             0.2222222222222222,
             "#7201a8"
            ],
            [
             0.3333333333333333,
             "#9c179e"
            ],
            [
             0.4444444444444444,
             "#bd3786"
            ],
            [
             0.5555555555555556,
             "#d8576b"
            ],
            [
             0.6666666666666666,
             "#ed7953"
            ],
            [
             0.7777777777777778,
             "#fb9f3a"
            ],
            [
             0.8888888888888888,
             "#fdca26"
            ],
            [
             1,
             "#f0f921"
            ]
           ]
          },
          "colorway": [
           "#636efa",
           "#EF553B",
           "#00cc96",
           "#ab63fa",
           "#FFA15A",
           "#19d3f3",
           "#FF6692",
           "#B6E880",
           "#FF97FF",
           "#FECB52"
          ],
          "font": {
           "color": "#2a3f5f"
          },
          "geo": {
           "bgcolor": "white",
           "lakecolor": "white",
           "landcolor": "#E5ECF6",
           "showlakes": true,
           "showland": true,
           "subunitcolor": "white"
          },
          "hoverlabel": {
           "align": "left"
          },
          "hovermode": "closest",
          "mapbox": {
           "style": "light"
          },
          "paper_bgcolor": "white",
          "plot_bgcolor": "#E5ECF6",
          "polar": {
           "angularaxis": {
            "gridcolor": "white",
            "linecolor": "white",
            "ticks": ""
           },
           "bgcolor": "#E5ECF6",
           "radialaxis": {
            "gridcolor": "white",
            "linecolor": "white",
            "ticks": ""
           }
          },
          "scene": {
           "xaxis": {
            "backgroundcolor": "#E5ECF6",
            "gridcolor": "white",
            "gridwidth": 2,
            "linecolor": "white",
            "showbackground": true,
            "ticks": "",
            "zerolinecolor": "white"
           },
           "yaxis": {
            "backgroundcolor": "#E5ECF6",
            "gridcolor": "white",
            "gridwidth": 2,
            "linecolor": "white",
            "showbackground": true,
            "ticks": "",
            "zerolinecolor": "white"
           },
           "zaxis": {
            "backgroundcolor": "#E5ECF6",
            "gridcolor": "white",
            "gridwidth": 2,
            "linecolor": "white",
            "showbackground": true,
            "ticks": "",
            "zerolinecolor": "white"
           }
          },
          "shapedefaults": {
           "line": {
            "color": "#2a3f5f"
           }
          },
          "ternary": {
           "aaxis": {
            "gridcolor": "white",
            "linecolor": "white",
            "ticks": ""
           },
           "baxis": {
            "gridcolor": "white",
            "linecolor": "white",
            "ticks": ""
           },
           "bgcolor": "#E5ECF6",
           "caxis": {
            "gridcolor": "white",
            "linecolor": "white",
            "ticks": ""
           }
          },
          "title": {
           "x": 0.05
          },
          "xaxis": {
           "automargin": true,
           "gridcolor": "white",
           "linecolor": "white",
           "ticks": "",
           "title": {
            "standoff": 15
           },
           "zerolinecolor": "white",
           "zerolinewidth": 2
          },
          "yaxis": {
           "automargin": true,
           "gridcolor": "white",
           "linecolor": "white",
           "ticks": "",
           "title": {
            "standoff": 15
           },
           "zerolinecolor": "white",
           "zerolinewidth": 2
          }
         }
        },
        "title": {
         "text": "Amount of cargo [tons] per Dutch airport between 2019 and 2023"
        },
        "xaxis": {
         "anchor": "y",
<<<<<<< HEAD
=======
         "autorange": true,
>>>>>>> 415bc22e89605e38198c33d222baf157c578a219
         "domain": [
          0,
          1
         ],
<<<<<<< HEAD
         "title": {
          "text": "Periods"
         }
        },
        "yaxis": {
         "anchor": "x",
=======
         "range": [
          -3.371212121212121,
          58.371212121212125
         ],
         "title": {
          "text": "Periods"
         },
         "type": "category"
        },
        "yaxis": {
         "anchor": "x",
         "autorange": true,
>>>>>>> 415bc22e89605e38198c33d222baf157c578a219
         "domain": [
          0,
          1
         ],
<<<<<<< HEAD
         "title": {
          "text": "Total Cargo [tons]"
         }
        }
       }
      }
=======
         "range": [
          -11003.344532279316,
          176380.34453227933
         ],
         "title": {
          "text": "Total Cargo [tons]"
         },
         "type": "linear"
        }
       }
      },
      "image/png": "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"
>>>>>>> 415bc22e89605e38198c33d222baf157c578a219
     },
     "metadata": {},
     "output_type": "display_data"
    }
   ],
   "source": [
    "data_cargo = data.loc[data['Periods'].str.contains('2019MM|2020MM|2021MM|2022MM|2023MM', case=False, regex=True)]\n",
    "\n",
    "print(f'Dataframe shape: {data_cargo.shape}')\n",
    "\n",
    "figcargo = px.line(data_cargo, \n",
    "                x = \"Periods\", \n",
    "                y = \"Total Cargo [tons]\",\n",
    "                color = \"Airports\",\n",
    "                symbol = \"Airports\",\n",
    "                # log_y=True\n",
    "                )\n",
    "\n",
    "figcargo.update_layout(\n",
    "                title={'text': 'Amount of cargo [tons] per Dutch airport between 2019 and 2023'},\n",
    "                height=600,\n",
    "                )\n",
    "\n",
    "figcargo.show()"
   ]
  },
  {
<<<<<<< HEAD
   "cell_type": "code",
   "execution_count": 260,
=======
   "cell_type": "markdown",
   "id": "be28dba0-5d36-430f-8fe9-ba7c539e749d",
   "metadata": {},
   "source": [
    "Decrease of cargo also in march 2020. But not very much decrease, because cargo needs to be transported anyway."
   ]
  },
  {
   "cell_type": "markdown",
   "id": "a8e283cc",
   "metadata": {},
   "source": [
    "# Total amount of movements"
   ]
  },
  {
   "cell_type": "code",
   "execution_count": 24,
>>>>>>> 415bc22e89605e38198c33d222baf157c578a219
   "id": "353320a6",
   "metadata": {},
   "outputs": [
    {
     "data": {
      "application/vnd.plotly.v1+json": {
       "config": {
        "plotlyServerURL": "https://plot.ly"
       },
       "data": [
        {
         "hovertemplate": "Type of movement=Total Flights<br>Period=%{x}<br>Amount in [flights], [pax] or [tons]=%{y}<extra></extra>",
         "legendgroup": "Total Flights",
         "line": {
          "color": "#636efa",
          "dash": "solid"
         },
         "marker": {
          "symbol": "circle"
         },
<<<<<<< HEAD
         "mode": "lines+markers",
=======
         "mode": "markers+lines",
>>>>>>> 415bc22e89605e38198c33d222baf157c578a219
         "name": "Total Flights",
         "orientation": "v",
         "showlegend": true,
         "type": "scatter",
         "x": [
          "2019MM01",
          "2019MM02",
          "2019MM03",
          "2019MM04",
          "2019MM05",
          "2019MM06",
          "2019MM07",
          "2019MM08",
          "2019MM09",
          "2019MM10",
          "2019MM11",
          "2019MM12",
          "2020MM01",
          "2020MM02",
          "2020MM03",
          "2020MM04",
          "2020MM05",
          "2020MM06",
          "2020MM07",
          "2020MM08",
          "2020MM09",
          "2020MM10",
          "2020MM11",
          "2020MM12",
          "2021MM01",
          "2021MM02",
          "2021MM03",
          "2021MM04",
          "2021MM05",
          "2021MM06",
          "2021MM07",
          "2021MM08",
          "2021MM09",
          "2021MM10",
          "2021MM11",
          "2021MM12",
          "2022MM01",
          "2022MM02",
          "2022MM03",
          "2022MM04",
          "2022MM05",
          "2022MM06",
          "2022MM07",
          "2022MM08",
          "2022MM09",
          "2022MM10",
          "2022MM11",
          "2022MM12",
          "2023MM01",
          "2023MM02",
          "2023MM03",
          "2023MM04",
          "2023MM05",
          "2023MM06",
          "2023MM07",
          "2023MM08"
         ],
         "xaxis": "x",
         "y": [
          41285,
          39204,
          44649,
          47934,
          51719,
          50135,
          51786,
          52127,
          51091,
          51135,
          42195,
          42771,
          41768,
          39299,
          28306,
          4759,
          6556,
          9336,
          19701,
          27575,
          25290,
          22028,
          16283,
          17325,
          15907,
          11528,
          13228,
          14891,
          16987,
          21701,
          33916,
          37282,
          35262,
          36465,
          32026,
          33869,
          29604,
          27456,
          34568,
          38824,
          44823,
          43248,
          43218,
          44862,
          43523,
          42909,
          34597,
          34968,
          34322,
          32416,
          38044,
          41609,
          45469,
          44638,
          47556,
          48111
         ],
         "yaxis": "y"
        },
        {
         "hovertemplate": "Type of movement=Total Passengers<br>Period=%{x}<br>Amount in [flights], [pax] or [tons]=%{y}<extra></extra>",
         "legendgroup": "Total Passengers",
         "line": {
          "color": "#EF553B",
          "dash": "solid"
         },
         "marker": {
          "symbol": "diamond"
         },
<<<<<<< HEAD
         "mode": "lines+markers",
=======
         "mode": "markers+lines",
>>>>>>> 415bc22e89605e38198c33d222baf157c578a219
         "name": "Total Passengers",
         "orientation": "v",
         "showlegend": true,
         "type": "scatter",
         "x": [
          "2019MM01",
          "2019MM02",
          "2019MM03",
          "2019MM04",
          "2019MM05",
          "2019MM06",
          "2019MM07",
          "2019MM08",
          "2019MM09",
          "2019MM10",
          "2019MM11",
          "2019MM12",
          "2020MM01",
          "2020MM02",
          "2020MM03",
          "2020MM04",
          "2020MM05",
          "2020MM06",
          "2020MM07",
          "2020MM08",
          "2020MM09",
          "2020MM10",
          "2020MM11",
          "2020MM12",
          "2021MM01",
          "2021MM02",
          "2021MM03",
          "2021MM04",
          "2021MM05",
          "2021MM06",
          "2021MM07",
          "2021MM08",
          "2021MM09",
          "2021MM10",
          "2021MM11",
          "2021MM12",
          "2022MM01",
          "2022MM02",
          "2022MM03",
          "2022MM04",
          "2022MM05",
          "2022MM06",
          "2022MM07",
          "2022MM08",
          "2022MM09",
          "2022MM10",
          "2022MM11",
          "2022MM12",
          "2023MM01",
          "2023MM02",
          "2023MM03",
          "2023MM04",
          "2023MM05",
          "2023MM06",
          "2023MM07",
          "2023MM08"
         ],
         "xaxis": "x",
         "y": [
          5495052,
          5352301,
          6270788,
          6926059,
          7396960,
          7471334,
          7730263,
          7859458,
          7486440,
          7354352,
          5885771,
          5938523,
          5595249,
          5281600,
          2773554,
          133752,
          220120,
          526544,
          1690515,
          2242935,
          1547263,
          1303123,
          965071,
          1306018,
          909617,
          519827,
          676647,
          817876,
          1169673,
          1870330,
          3515159,
          4479180,
          4013477,
          4395945,
          3492940,
          3208864,
          2831598,
          3040193,
          4241663,
          5140272,
          6091195,
          6118070,
          6211931,
          6378969,
          6108567,
          5854649,
          4570458,
          4680493,
          4480014,
          4348644,
          5276851,
          5912774,
          6514881,
          6539439,
          6991247,
          7061633
         ],
         "yaxis": "y"
        },
        {
         "hovertemplate": "Type of movement=Total Cargo [tons]<br>Period=%{x}<br>Amount in [flights], [pax] or [tons]=%{y}<extra></extra>",
         "legendgroup": "Total Cargo [tons]",
         "line": {
          "color": "#00cc96",
          "dash": "solid"
         },
         "marker": {
          "symbol": "square"
         },
<<<<<<< HEAD
         "mode": "lines+markers",
=======
         "mode": "markers+lines",
>>>>>>> 415bc22e89605e38198c33d222baf157c578a219
         "name": "Total Cargo [tons]",
         "orientation": "v",
         "showlegend": true,
         "type": "scatter",
         "x": [
          "2019MM01",
          "2019MM02",
          "2019MM03",
          "2019MM04",
          "2019MM05",
          "2019MM06",
          "2019MM07",
          "2019MM08",
          "2019MM09",
          "2019MM10",
          "2019MM11",
          "2019MM12",
          "2020MM01",
          "2020MM02",
          "2020MM03",
          "2020MM04",
          "2020MM05",
          "2020MM06",
          "2020MM07",
          "2020MM08",
          "2020MM09",
          "2020MM10",
          "2020MM11",
          "2020MM12",
          "2021MM01",
          "2021MM02",
          "2021MM03",
          "2021MM04",
          "2021MM05",
          "2021MM06",
          "2021MM07",
          "2021MM08",
          "2021MM09",
          "2021MM10",
          "2021MM11",
          "2021MM12",
          "2022MM01",
          "2022MM02",
          "2022MM03",
          "2022MM04",
          "2022MM05",
          "2022MM06",
          "2022MM07",
          "2022MM08",
          "2022MM09",
          "2022MM10",
          "2022MM11",
          "2022MM12",
          "2023MM01",
          "2023MM02",
          "2023MM03",
          "2023MM04",
          "2023MM05",
          "2023MM06",
          "2023MM07",
          "2023MM08"
         ],
         "xaxis": "x",
         "y": [
          133445,
          128322,
          155427,
          138159,
          144540,
          131970,
          137391,
          135263,
          140637,
          150127,
          148037,
          138385,
          122254,
          126726,
          127995,
          103420,
          117525,
          121692,
          132684,
          133168,
          135059,
          153109,
          157508,
          146441,
          140859,
          137288,
          165377,
          152164,
          158164,
          145582,
          138789,
          140198,
          144584,
          161776,
          156617,
          153901,
          131588,
          126020,
          137570,
          126658,
          128112,
          125858,
          130029,
          125037,
          130738,
          135512,
          128395,
          120439,
          109114,
          113147,
          125407,
          116129,
          118281,
          112994,
          115703,
          112120
         ],
         "yaxis": "y"
        },
        {
         "hovertemplate": "Type of movement=Total Mail [tons]<br>Period=%{x}<br>Amount in [flights], [pax] or [tons]=%{y}<extra></extra>",
         "legendgroup": "Total Mail [tons]",
         "line": {
          "color": "#ab63fa",
          "dash": "solid"
         },
         "marker": {
          "symbol": "x"
         },
<<<<<<< HEAD
         "mode": "lines+markers",
=======
         "mode": "markers+lines",
>>>>>>> 415bc22e89605e38198c33d222baf157c578a219
         "name": "Total Mail [tons]",
         "orientation": "v",
         "showlegend": true,
         "type": "scatter",
         "x": [
          "2019MM01",
          "2019MM02",
          "2019MM03",
          "2019MM04",
          "2019MM05",
          "2019MM06",
          "2019MM07",
          "2019MM08",
          "2019MM09",
          "2019MM10",
          "2019MM11",
          "2019MM12",
          "2020MM01",
          "2020MM02",
          "2020MM03",
          "2020MM04",
          "2020MM05",
          "2020MM06",
          "2020MM07",
          "2020MM08",
          "2020MM09",
          "2020MM10",
          "2020MM11",
          "2020MM12",
          "2021MM01",
          "2021MM02",
          "2021MM03",
          "2021MM04",
          "2021MM05",
          "2021MM06",
          "2021MM07",
          "2021MM08",
          "2021MM09",
          "2021MM10",
          "2021MM11",
          "2021MM12",
          "2022MM01",
          "2022MM02",
          "2022MM03",
          "2022MM04",
          "2022MM05",
          "2022MM06",
          "2022MM07",
          "2022MM08",
          "2022MM09",
          "2022MM10",
          "2022MM11",
          "2022MM12",
          "2023MM01",
          "2023MM02",
          "2023MM03",
          "2023MM04",
          "2023MM05",
          "2023MM06",
          "2023MM07",
          "2023MM08"
         ],
         "xaxis": "x",
         "y": [
          1615,
          1398,
          1761,
          1747,
          1860,
          1736,
          1876,
          1774,
          1747,
          1974,
          2133,
          2338,
          1908,
          1491,
          1167,
          382,
          542,
          855,
          1083,
          1283,
          1251,
          1521,
          1511,
          1837,
          1403,
          1109,
          1379,
          1258,
          1223,
          1128,
          978,
          1049,
          1002,
          1040,
          943,
          1038,
          827,
          824,
          819,
          688,
          685,
          667,
          584,
          549,
          538,
          465,
          461,
          608,
          478,
          440,
          457,
          430,
          471,
          447,
          407,
          454
         ],
         "yaxis": "y"
        }
       ],
       "layout": {
<<<<<<< HEAD
        "height": 800,
=======
        "autosize": true,
>>>>>>> 415bc22e89605e38198c33d222baf157c578a219
        "legend": {
         "title": {
          "text": "Type of movement"
         },
         "tracegroupgap": 0
        },
        "margin": {
         "t": 60
        },
        "template": {
         "data": {
          "bar": [
           {
            "error_x": {
             "color": "#2a3f5f"
            },
            "error_y": {
             "color": "#2a3f5f"
            },
            "marker": {
             "line": {
              "color": "#E5ECF6",
              "width": 0.5
             },
             "pattern": {
              "fillmode": "overlay",
              "size": 10,
              "solidity": 0.2
             }
            },
            "type": "bar"
           }
          ],
          "barpolar": [
           {
            "marker": {
             "line": {
              "color": "#E5ECF6",
              "width": 0.5
             },
             "pattern": {
              "fillmode": "overlay",
              "size": 10,
              "solidity": 0.2
             }
            },
            "type": "barpolar"
           }
          ],
          "carpet": [
           {
            "aaxis": {
             "endlinecolor": "#2a3f5f",
             "gridcolor": "white",
             "linecolor": "white",
             "minorgridcolor": "white",
             "startlinecolor": "#2a3f5f"
            },
            "baxis": {
             "endlinecolor": "#2a3f5f",
             "gridcolor": "white",
             "linecolor": "white",
             "minorgridcolor": "white",
             "startlinecolor": "#2a3f5f"
            },
            "type": "carpet"
           }
          ],
          "choropleth": [
           {
            "colorbar": {
             "outlinewidth": 0,
             "ticks": ""
            },
            "type": "choropleth"
           }
          ],
          "contour": [
           {
            "colorbar": {
             "outlinewidth": 0,
             "ticks": ""
            },
            "colorscale": [
             [
              0,
              "#0d0887"
             ],
             [
              0.1111111111111111,
              "#46039f"
             ],
             [
              0.2222222222222222,
              "#7201a8"
             ],
             [
              0.3333333333333333,
              "#9c179e"
             ],
             [
              0.4444444444444444,
              "#bd3786"
             ],
             [
              0.5555555555555556,
              "#d8576b"
             ],
             [
              0.6666666666666666,
              "#ed7953"
             ],
             [
              0.7777777777777778,
              "#fb9f3a"
             ],
             [
              0.8888888888888888,
              "#fdca26"
             ],
             [
              1,
              "#f0f921"
             ]
            ],
            "type": "contour"
           }
          ],
          "contourcarpet": [
           {
            "colorbar": {
             "outlinewidth": 0,
             "ticks": ""
            },
            "type": "contourcarpet"
           }
          ],
          "heatmap": [
           {
            "colorbar": {
             "outlinewidth": 0,
             "ticks": ""
            },
            "colorscale": [
             [
              0,
              "#0d0887"
             ],
             [
              0.1111111111111111,
              "#46039f"
             ],
             [
              0.2222222222222222,
              "#7201a8"
             ],
             [
              0.3333333333333333,
              "#9c179e"
             ],
             [
              0.4444444444444444,
              "#bd3786"
             ],
             [
              0.5555555555555556,
              "#d8576b"
             ],
             [
              0.6666666666666666,
              "#ed7953"
             ],
             [
              0.7777777777777778,
              "#fb9f3a"
             ],
             [
              0.8888888888888888,
              "#fdca26"
             ],
             [
              1,
              "#f0f921"
             ]
            ],
            "type": "heatmap"
           }
          ],
          "heatmapgl": [
           {
            "colorbar": {
             "outlinewidth": 0,
             "ticks": ""
            },
            "colorscale": [
             [
              0,
              "#0d0887"
             ],
             [
              0.1111111111111111,
              "#46039f"
             ],
             [
              0.2222222222222222,
              "#7201a8"
             ],
             [
              0.3333333333333333,
              "#9c179e"
             ],
             [
              0.4444444444444444,
              "#bd3786"
             ],
             [
              0.5555555555555556,
              "#d8576b"
             ],
             [
              0.6666666666666666,
              "#ed7953"
             ],
             [
              0.7777777777777778,
              "#fb9f3a"
             ],
             [
              0.8888888888888888,
              "#fdca26"
             ],
             [
              1,
              "#f0f921"
             ]
            ],
            "type": "heatmapgl"
           }
          ],
          "histogram": [
           {
            "marker": {
             "pattern": {
              "fillmode": "overlay",
              "size": 10,
              "solidity": 0.2
             }
            },
            "type": "histogram"
           }
          ],
          "histogram2d": [
           {
            "colorbar": {
             "outlinewidth": 0,
             "ticks": ""
            },
            "colorscale": [
             [
              0,
              "#0d0887"
             ],
             [
              0.1111111111111111,
              "#46039f"
             ],
             [
              0.2222222222222222,
              "#7201a8"
             ],
             [
              0.3333333333333333,
              "#9c179e"
             ],
             [
              0.4444444444444444,
              "#bd3786"
             ],
             [
              0.5555555555555556,
              "#d8576b"
             ],
             [
              0.6666666666666666,
              "#ed7953"
             ],
             [
              0.7777777777777778,
              "#fb9f3a"
             ],
             [
              0.8888888888888888,
              "#fdca26"
             ],
             [
              1,
              "#f0f921"
             ]
            ],
            "type": "histogram2d"
           }
          ],
          "histogram2dcontour": [
           {
            "colorbar": {
             "outlinewidth": 0,
             "ticks": ""
            },
            "colorscale": [
             [
              0,
              "#0d0887"
             ],
             [
              0.1111111111111111,
              "#46039f"
             ],
             [
              0.2222222222222222,
              "#7201a8"
             ],
             [
              0.3333333333333333,
              "#9c179e"
             ],
             [
              0.4444444444444444,
              "#bd3786"
             ],
             [
              0.5555555555555556,
              "#d8576b"
             ],
             [
              0.6666666666666666,
              "#ed7953"
             ],
             [
              0.7777777777777778,
              "#fb9f3a"
             ],
             [
              0.8888888888888888,
              "#fdca26"
             ],
             [
              1,
              "#f0f921"
             ]
            ],
            "type": "histogram2dcontour"
           }
          ],
          "mesh3d": [
           {
            "colorbar": {
             "outlinewidth": 0,
             "ticks": ""
            },
            "type": "mesh3d"
           }
          ],
          "parcoords": [
           {
            "line": {
             "colorbar": {
              "outlinewidth": 0,
              "ticks": ""
             }
            },
            "type": "parcoords"
           }
          ],
          "pie": [
           {
            "automargin": true,
            "type": "pie"
           }
          ],
          "scatter": [
           {
            "fillpattern": {
             "fillmode": "overlay",
             "size": 10,
             "solidity": 0.2
            },
            "type": "scatter"
           }
          ],
          "scatter3d": [
           {
            "line": {
             "colorbar": {
              "outlinewidth": 0,
              "ticks": ""
             }
            },
            "marker": {
             "colorbar": {
              "outlinewidth": 0,
              "ticks": ""
             }
            },
            "type": "scatter3d"
           }
          ],
          "scattercarpet": [
           {
            "marker": {
             "colorbar": {
              "outlinewidth": 0,
              "ticks": ""
             }
            },
            "type": "scattercarpet"
           }
          ],
          "scattergeo": [
           {
            "marker": {
             "colorbar": {
              "outlinewidth": 0,
              "ticks": ""
             }
            },
            "type": "scattergeo"
           }
          ],
          "scattergl": [
           {
            "marker": {
             "colorbar": {
              "outlinewidth": 0,
              "ticks": ""
             }
            },
            "type": "scattergl"
           }
          ],
          "scattermapbox": [
           {
            "marker": {
             "colorbar": {
              "outlinewidth": 0,
              "ticks": ""
             }
            },
            "type": "scattermapbox"
           }
          ],
          "scatterpolar": [
           {
            "marker": {
             "colorbar": {
              "outlinewidth": 0,
              "ticks": ""
             }
            },
            "type": "scatterpolar"
           }
          ],
          "scatterpolargl": [
           {
            "marker": {
             "colorbar": {
              "outlinewidth": 0,
              "ticks": ""
             }
            },
            "type": "scatterpolargl"
           }
          ],
          "scatterternary": [
           {
            "marker": {
             "colorbar": {
              "outlinewidth": 0,
              "ticks": ""
             }
            },
            "type": "scatterternary"
           }
          ],
          "surface": [
           {
            "colorbar": {
             "outlinewidth": 0,
             "ticks": ""
            },
            "colorscale": [
             [
              0,
              "#0d0887"
             ],
             [
              0.1111111111111111,
              "#46039f"
             ],
             [
              0.2222222222222222,
              "#7201a8"
             ],
             [
              0.3333333333333333,
              "#9c179e"
             ],
             [
              0.4444444444444444,
              "#bd3786"
             ],
             [
              0.5555555555555556,
              "#d8576b"
             ],
             [
              0.6666666666666666,
              "#ed7953"
             ],
             [
              0.7777777777777778,
              "#fb9f3a"
             ],
             [
              0.8888888888888888,
              "#fdca26"
             ],
             [
              1,
              "#f0f921"
             ]
            ],
            "type": "surface"
           }
          ],
          "table": [
           {
            "cells": {
             "fill": {
              "color": "#EBF0F8"
             },
             "line": {
              "color": "white"
             }
            },
            "header": {
             "fill": {
              "color": "#C8D4E3"
             },
             "line": {
              "color": "white"
             }
            },
            "type": "table"
           }
          ]
         },
         "layout": {
          "annotationdefaults": {
           "arrowcolor": "#2a3f5f",
           "arrowhead": 0,
           "arrowwidth": 1
          },
          "autotypenumbers": "strict",
          "coloraxis": {
           "colorbar": {
            "outlinewidth": 0,
            "ticks": ""
           }
          },
          "colorscale": {
           "diverging": [
            [
             0,
             "#8e0152"
            ],
            [
             0.1,
             "#c51b7d"
            ],
            [
             0.2,
             "#de77ae"
            ],
            [
             0.3,
             "#f1b6da"
            ],
            [
             0.4,
             "#fde0ef"
            ],
            [
             0.5,
             "#f7f7f7"
            ],
            [
             0.6,
             "#e6f5d0"
            ],
            [
             0.7,
             "#b8e186"
            ],
            [
             0.8,
             "#7fbc41"
            ],
            [
             0.9,
             "#4d9221"
            ],
            [
             1,
             "#276419"
            ]
           ],
           "sequential": [
            [
             0,
             "#0d0887"
            ],
            [
             0.1111111111111111,
             "#46039f"
            ],
            [
             0.2222222222222222,
             "#7201a8"
            ],
            [
             0.3333333333333333,
             "#9c179e"
            ],
            [
             0.4444444444444444,
             "#bd3786"
            ],
            [
             0.5555555555555556,
             "#d8576b"
            ],
            [
             0.6666666666666666,
             "#ed7953"
            ],
            [
             0.7777777777777778,
             "#fb9f3a"
            ],
            [
             0.8888888888888888,
             "#fdca26"
            ],
            [
             1,
             "#f0f921"
            ]
           ],
           "sequentialminus": [
            [
             0,
             "#0d0887"
            ],
            [
             0.1111111111111111,
             "#46039f"
            ],
            [
             0.2222222222222222,
             "#7201a8"
            ],
            [
             0.3333333333333333,
             "#9c179e"
            ],
            [
             0.4444444444444444,
             "#bd3786"
            ],
            [
             0.5555555555555556,
             "#d8576b"
            ],
            [
             0.6666666666666666,
             "#ed7953"
            ],
            [
             0.7777777777777778,
             "#fb9f3a"
            ],
            [
             0.8888888888888888,
             "#fdca26"
            ],
            [
             1,
             "#f0f921"
            ]
           ]
          },
          "colorway": [
           "#636efa",
           "#EF553B",
           "#00cc96",
           "#ab63fa",
           "#FFA15A",
           "#19d3f3",
           "#FF6692",
           "#B6E880",
           "#FF97FF",
           "#FECB52"
          ],
          "font": {
           "color": "#2a3f5f"
          },
          "geo": {
           "bgcolor": "white",
           "lakecolor": "white",
           "landcolor": "#E5ECF6",
           "showlakes": true,
           "showland": true,
           "subunitcolor": "white"
          },
          "hoverlabel": {
           "align": "left"
          },
          "hovermode": "closest",
          "mapbox": {
           "style": "light"
          },
          "paper_bgcolor": "white",
          "plot_bgcolor": "#E5ECF6",
          "polar": {
           "angularaxis": {
            "gridcolor": "white",
            "linecolor": "white",
            "ticks": ""
           },
           "bgcolor": "#E5ECF6",
           "radialaxis": {
            "gridcolor": "white",
            "linecolor": "white",
            "ticks": ""
           }
          },
          "scene": {
           "xaxis": {
            "backgroundcolor": "#E5ECF6",
            "gridcolor": "white",
            "gridwidth": 2,
            "linecolor": "white",
            "showbackground": true,
            "ticks": "",
            "zerolinecolor": "white"
           },
           "yaxis": {
            "backgroundcolor": "#E5ECF6",
            "gridcolor": "white",
            "gridwidth": 2,
            "linecolor": "white",
            "showbackground": true,
            "ticks": "",
            "zerolinecolor": "white"
           },
           "zaxis": {
            "backgroundcolor": "#E5ECF6",
            "gridcolor": "white",
            "gridwidth": 2,
            "linecolor": "white",
            "showbackground": true,
            "ticks": "",
            "zerolinecolor": "white"
           }
          },
          "shapedefaults": {
           "line": {
            "color": "#2a3f5f"
           }
          },
          "ternary": {
           "aaxis": {
            "gridcolor": "white",
            "linecolor": "white",
            "ticks": ""
           },
           "baxis": {
            "gridcolor": "white",
            "linecolor": "white",
            "ticks": ""
           },
           "bgcolor": "#E5ECF6",
           "caxis": {
            "gridcolor": "white",
            "linecolor": "white",
            "ticks": ""
           }
          },
          "title": {
           "x": 0.05
          },
          "xaxis": {
           "automargin": true,
           "gridcolor": "white",
           "linecolor": "white",
           "ticks": "",
           "title": {
            "standoff": 15
           },
           "zerolinecolor": "white",
           "zerolinewidth": 2
          },
          "yaxis": {
           "automargin": true,
           "gridcolor": "white",
           "linecolor": "white",
           "ticks": "",
           "title": {
            "standoff": 15
           },
           "zerolinecolor": "white",
           "zerolinewidth": 2
          }
         }
        },
        "title": {
         "text": "Total amount of movements for all Dutch airports between 2019 and 2023"
        },
        "xaxis": {
         "anchor": "y",
<<<<<<< HEAD
=======
         "autorange": true,
>>>>>>> 415bc22e89605e38198c33d222baf157c578a219
         "domain": [
          0,
          1
         ],
<<<<<<< HEAD
         "title": {
          "text": "Period"
         }
        },
        "yaxis": {
         "anchor": "x",
=======
         "range": [
          -3.3628318584070795,
          58.36283185840708
         ],
         "title": {
          "text": "Period"
         },
         "type": "category"
        },
        "yaxis": {
         "anchor": "x",
         "autorange": true,
>>>>>>> 415bc22e89605e38198c33d222baf157c578a219
         "domain": [
          0,
          1
         ],
<<<<<<< HEAD
=======
         "range": [
          2.3103120572489466,
          7.167143903136603
         ],
>>>>>>> 415bc22e89605e38198c33d222baf157c578a219
         "title": {
          "text": "Amount in [flights], [pax] or [tons]"
         },
         "type": "log"
        }
       }
<<<<<<< HEAD
      }
=======
      },
      "image/png": "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"
>>>>>>> 415bc22e89605e38198c33d222baf157c578a219
     },
     "metadata": {},
     "output_type": "display_data"
    }
   ],
   "source": [
    "data_total = data.loc[data['Periods'].str.contains('2019MM|2020MM|2021MM|2022MM|2023MM', case=False, regex=True)]\n",
    "data_total2 = data_total.iloc[:, [1, 2, 5, 14, 45, 76]]\n",
    "data_total2 = data_total2.groupby('Airports').get_group('TOTAL')\n",
    "# data_total2 = data_total2.groupby('Airports').get_group('Schiphol')\n",
    "# data_total2 = data_total2.groupby('Airports').get_group('Rotterdam The Hague')\n",
    "# data_total2 = data_total2.groupby('Airports').get_group('Eindhoven')\n",
    "# data_total2 = data_total2.groupby('Airports').get_group('Maastricht Aachen')\n",
    "# data_total2 = data_total2.groupby('Airports').get_group('Groningen')\n",
    "\n",
    "data_total2['Total Flights'] = pd.to_numeric(data_total2['Total Flights'], errors='coerce')\n",
    "data_total2['Total Passengers'] = pd.to_numeric(data_total2['Total Passengers'], errors='coerce')\n",
    "data_total2['Total Cargo [tons]'] = pd.to_numeric(data_total2['Total Cargo [tons]'], errors='coerce')\n",
    "data_total2['Total Mail [tons]'] = pd.to_numeric(data_total2['Total Mail [tons]'], errors='coerce')\n",
    "\n",
    "figtotal2 = px.line(data_total2, \n",
    "                x = 'Periods', \n",
    "                y = [\"Total Flights\", \"Total Passengers\", \"Total Cargo [tons]\", \"Total Mail [tons]\"],\n",
    "                color = \"variable\",\n",
    "                symbol = \"variable\",\n",
    "                log_y = True,\n",
    "                labels = {\n",
    "                    \"Periods\": \"Period\",\n",
    "                    \"value\": \"Amount in [flights], [pax] or [tons]\",\n",
    "                    \"variable\": \"Type of movement\"\n",
    "                    }\n",
    "                )\n",
    "\n",
    "figtotal2.update_layout(\n",
    "                title={'text': 'Total amount of movements for all Dutch airports between 2019 and 2023'},\n",
    "                height=800\n",
    "                )\n",
    "\n",
    "figtotal2.show()\n",
    "\n"
   ]
  },
  {
<<<<<<< HEAD
   "cell_type": "code",
   "execution_count": 261,
=======
   "cell_type": "markdown",
   "id": "e7850e67-dbd8-405a-b4a6-462f7a00bef5",
   "metadata": {},
   "source": [
    "In this figure we see that cargo was not very much affected by the COVID-19 pandemic. The biggest effect was on passenger flights, but also the mail flights were affected. "
   ]
  },
  {
   "cell_type": "markdown",
   "id": "9d45de01",
   "metadata": {},
   "source": [
    "# Covid infections"
   ]
  },
  {
   "cell_type": "code",
   "execution_count": 25,
>>>>>>> 415bc22e89605e38198c33d222baf157c578a219
   "id": "8be87409",
   "metadata": {},
   "outputs": [
    {
     "data": {
      "application/vnd.plotly.v1+json": {
       "config": {
        "plotlyServerURL": "https://plot.ly"
       },
       "data": [
        {
         "alignmentgroup": "True",
         "hovertemplate": "x=%{x}<br>y=%{y}<extra></extra>",
         "legendgroup": "",
         "marker": {
<<<<<<< HEAD
          "color": "orange",
=======
          "color": "#636efa",
>>>>>>> 415bc22e89605e38198c33d222baf157c578a219
          "pattern": {
           "shape": ""
          }
         },
         "name": "",
         "offsetgroup": "",
         "orientation": "v",
         "showlegend": false,
         "textposition": "auto",
         "type": "bar",
         "x": [
          "2020MM03",
          "2020MM04",
          "2020MM05",
          "2020MM06",
          "2020MM07",
          "2020MM08",
          "2020MM09",
          "2020MM10",
          "2020MM11",
          "2020MM12",
          "2021MM01",
          "2021MM02",
          "2021MM04",
          "2021MM05",
          "2021MM06",
          "2021MM07",
          "2021MM08",
          "2021MM09",
          "2021MM10",
          "2021MM11",
          "2021MM12",
          "2022MM01",
          "2022MM02",
          "2022MM04",
          "2022MM05",
          "2022MM06",
          "2022MM07",
          "2022MM08",
          "2022MM09",
          "2022MM10",
          "2022MM11",
          "2022MM12",
          "2023MM01"
         ],
         "xaxis": "x",
         "y": [
          12595,
          26716,
          7126,
          3831,
          4028,
          16365,
          50166,
          230293,
          172255,
          273309,
          174021,
          109045,
          404434,
          151799,
          35218,
          174793,
          74554,
          61284,
          127962,
          507820,
          485064,
          1283474,
          1900270,
          1658867,
          36617,
          96703,
          150459,
          49197,
          44050,
          83983,
          26957,
          26974,
          12103
         ],
         "yaxis": "y"
        }
       ],
       "layout": {
<<<<<<< HEAD
        "barmode": "relative",
=======
        "autosize": false,
        "barmode": "relative",
        "height": 600,
>>>>>>> 415bc22e89605e38198c33d222baf157c578a219
        "legend": {
         "tracegroupgap": 0
        },
        "template": {
         "data": {
          "bar": [
           {
            "error_x": {
             "color": "#2a3f5f"
            },
            "error_y": {
             "color": "#2a3f5f"
            },
            "marker": {
             "line": {
              "color": "#E5ECF6",
              "width": 0.5
             },
             "pattern": {
              "fillmode": "overlay",
              "size": 10,
              "solidity": 0.2
             }
            },
            "type": "bar"
           }
          ],
          "barpolar": [
           {
            "marker": {
             "line": {
              "color": "#E5ECF6",
              "width": 0.5
             },
             "pattern": {
              "fillmode": "overlay",
              "size": 10,
              "solidity": 0.2
             }
            },
            "type": "barpolar"
           }
          ],
          "carpet": [
           {
            "aaxis": {
             "endlinecolor": "#2a3f5f",
             "gridcolor": "white",
             "linecolor": "white",
             "minorgridcolor": "white",
             "startlinecolor": "#2a3f5f"
            },
            "baxis": {
             "endlinecolor": "#2a3f5f",
             "gridcolor": "white",
             "linecolor": "white",
             "minorgridcolor": "white",
             "startlinecolor": "#2a3f5f"
            },
            "type": "carpet"
           }
          ],
          "choropleth": [
           {
            "colorbar": {
             "outlinewidth": 0,
             "ticks": ""
            },
            "type": "choropleth"
           }
          ],
          "contour": [
           {
            "colorbar": {
             "outlinewidth": 0,
             "ticks": ""
            },
            "colorscale": [
             [
              0,
              "#0d0887"
             ],
             [
              0.1111111111111111,
              "#46039f"
             ],
             [
              0.2222222222222222,
              "#7201a8"
             ],
             [
              0.3333333333333333,
              "#9c179e"
             ],
             [
              0.4444444444444444,
              "#bd3786"
             ],
             [
              0.5555555555555556,
              "#d8576b"
             ],
             [
              0.6666666666666666,
              "#ed7953"
             ],
             [
              0.7777777777777778,
              "#fb9f3a"
             ],
             [
              0.8888888888888888,
              "#fdca26"
             ],
             [
              1,
              "#f0f921"
             ]
            ],
            "type": "contour"
           }
          ],
          "contourcarpet": [
           {
            "colorbar": {
             "outlinewidth": 0,
             "ticks": ""
            },
            "type": "contourcarpet"
           }
          ],
          "heatmap": [
           {
            "colorbar": {
             "outlinewidth": 0,
             "ticks": ""
            },
            "colorscale": [
             [
              0,
              "#0d0887"
             ],
             [
              0.1111111111111111,
              "#46039f"
             ],
             [
              0.2222222222222222,
              "#7201a8"
             ],
             [
              0.3333333333333333,
              "#9c179e"
             ],
             [
              0.4444444444444444,
              "#bd3786"
             ],
             [
              0.5555555555555556,
              "#d8576b"
             ],
             [
              0.6666666666666666,
              "#ed7953"
             ],
             [
              0.7777777777777778,
              "#fb9f3a"
             ],
             [
              0.8888888888888888,
              "#fdca26"
             ],
             [
              1,
              "#f0f921"
             ]
            ],
            "type": "heatmap"
           }
          ],
          "heatmapgl": [
           {
            "colorbar": {
             "outlinewidth": 0,
             "ticks": ""
            },
            "colorscale": [
             [
              0,
              "#0d0887"
             ],
             [
              0.1111111111111111,
              "#46039f"
             ],
             [
              0.2222222222222222,
              "#7201a8"
             ],
             [
              0.3333333333333333,
              "#9c179e"
             ],
             [
              0.4444444444444444,
              "#bd3786"
             ],
             [
              0.5555555555555556,
              "#d8576b"
             ],
             [
              0.6666666666666666,
              "#ed7953"
             ],
             [
              0.7777777777777778,
              "#fb9f3a"
             ],
             [
              0.8888888888888888,
              "#fdca26"
             ],
             [
              1,
              "#f0f921"
             ]
            ],
            "type": "heatmapgl"
           }
          ],
          "histogram": [
           {
            "marker": {
             "pattern": {
              "fillmode": "overlay",
              "size": 10,
              "solidity": 0.2
             }
            },
            "type": "histogram"
           }
          ],
          "histogram2d": [
           {
            "colorbar": {
             "outlinewidth": 0,
             "ticks": ""
            },
            "colorscale": [
             [
              0,
              "#0d0887"
             ],
             [
              0.1111111111111111,
              "#46039f"
             ],
             [
              0.2222222222222222,
              "#7201a8"
             ],
             [
              0.3333333333333333,
              "#9c179e"
             ],
             [
              0.4444444444444444,
              "#bd3786"
             ],
             [
              0.5555555555555556,
              "#d8576b"
             ],
             [
              0.6666666666666666,
              "#ed7953"
             ],
             [
              0.7777777777777778,
              "#fb9f3a"
             ],
             [
              0.8888888888888888,
              "#fdca26"
             ],
             [
              1,
              "#f0f921"
             ]
            ],
            "type": "histogram2d"
           }
          ],
          "histogram2dcontour": [
           {
            "colorbar": {
             "outlinewidth": 0,
             "ticks": ""
            },
            "colorscale": [
             [
              0,
              "#0d0887"
             ],
             [
              0.1111111111111111,
              "#46039f"
             ],
             [
              0.2222222222222222,
              "#7201a8"
             ],
             [
              0.3333333333333333,
              "#9c179e"
             ],
             [
              0.4444444444444444,
              "#bd3786"
             ],
             [
              0.5555555555555556,
              "#d8576b"
             ],
             [
              0.6666666666666666,
              "#ed7953"
             ],
             [
              0.7777777777777778,
              "#fb9f3a"
             ],
             [
              0.8888888888888888,
              "#fdca26"
             ],
             [
              1,
              "#f0f921"
             ]
            ],
            "type": "histogram2dcontour"
           }
          ],
          "mesh3d": [
           {
            "colorbar": {
             "outlinewidth": 0,
             "ticks": ""
            },
            "type": "mesh3d"
           }
          ],
          "parcoords": [
           {
            "line": {
             "colorbar": {
              "outlinewidth": 0,
              "ticks": ""
             }
            },
            "type": "parcoords"
           }
          ],
          "pie": [
           {
            "automargin": true,
            "type": "pie"
           }
          ],
          "scatter": [
           {
            "fillpattern": {
             "fillmode": "overlay",
             "size": 10,
             "solidity": 0.2
            },
            "type": "scatter"
           }
          ],
          "scatter3d": [
           {
            "line": {
             "colorbar": {
              "outlinewidth": 0,
              "ticks": ""
             }
            },
            "marker": {
             "colorbar": {
              "outlinewidth": 0,
              "ticks": ""
             }
            },
            "type": "scatter3d"
           }
          ],
          "scattercarpet": [
           {
            "marker": {
             "colorbar": {
              "outlinewidth": 0,
              "ticks": ""
             }
            },
            "type": "scattercarpet"
           }
          ],
          "scattergeo": [
           {
            "marker": {
             "colorbar": {
              "outlinewidth": 0,
              "ticks": ""
             }
            },
            "type": "scattergeo"
           }
          ],
          "scattergl": [
           {
            "marker": {
             "colorbar": {
              "outlinewidth": 0,
              "ticks": ""
             }
            },
            "type": "scattergl"
           }
          ],
          "scattermapbox": [
           {
            "marker": {
             "colorbar": {
              "outlinewidth": 0,
              "ticks": ""
             }
            },
            "type": "scattermapbox"
           }
          ],
          "scatterpolar": [
           {
            "marker": {
             "colorbar": {
              "outlinewidth": 0,
              "ticks": ""
             }
            },
            "type": "scatterpolar"
           }
          ],
          "scatterpolargl": [
           {
            "marker": {
             "colorbar": {
              "outlinewidth": 0,
              "ticks": ""
             }
            },
            "type": "scatterpolargl"
           }
          ],
          "scatterternary": [
           {
            "marker": {
             "colorbar": {
              "outlinewidth": 0,
              "ticks": ""
             }
            },
            "type": "scatterternary"
           }
          ],
          "surface": [
           {
            "colorbar": {
             "outlinewidth": 0,
             "ticks": ""
            },
            "colorscale": [
             [
              0,
              "#0d0887"
             ],
             [
              0.1111111111111111,
              "#46039f"
             ],
             [
              0.2222222222222222,
              "#7201a8"
             ],
             [
              0.3333333333333333,
              "#9c179e"
             ],
             [
              0.4444444444444444,
              "#bd3786"
             ],
             [
              0.5555555555555556,
              "#d8576b"
             ],
             [
              0.6666666666666666,
              "#ed7953"
             ],
             [
              0.7777777777777778,
              "#fb9f3a"
             ],
             [
              0.8888888888888888,
              "#fdca26"
             ],
             [
              1,
              "#f0f921"
             ]
            ],
            "type": "surface"
           }
          ],
          "table": [
           {
            "cells": {
             "fill": {
              "color": "#EBF0F8"
             },
             "line": {
              "color": "white"
             }
            },
            "header": {
             "fill": {
              "color": "#C8D4E3"
             },
             "line": {
              "color": "white"
             }
            },
            "type": "table"
           }
          ]
         },
         "layout": {
          "annotationdefaults": {
           "arrowcolor": "#2a3f5f",
           "arrowhead": 0,
           "arrowwidth": 1
          },
          "autotypenumbers": "strict",
          "coloraxis": {
           "colorbar": {
            "outlinewidth": 0,
            "ticks": ""
           }
          },
          "colorscale": {
           "diverging": [
            [
             0,
             "#8e0152"
            ],
            [
             0.1,
             "#c51b7d"
            ],
            [
             0.2,
             "#de77ae"
            ],
            [
             0.3,
             "#f1b6da"
            ],
            [
             0.4,
             "#fde0ef"
            ],
            [
             0.5,
             "#f7f7f7"
            ],
            [
             0.6,
             "#e6f5d0"
            ],
            [
             0.7,
             "#b8e186"
            ],
            [
             0.8,
             "#7fbc41"
            ],
            [
             0.9,
             "#4d9221"
            ],
            [
             1,
             "#276419"
            ]
           ],
           "sequential": [
            [
             0,
             "#0d0887"
            ],
            [
             0.1111111111111111,
             "#46039f"
            ],
            [
             0.2222222222222222,
             "#7201a8"
            ],
            [
             0.3333333333333333,
             "#9c179e"
            ],
            [
             0.4444444444444444,
             "#bd3786"
            ],
            [
             0.5555555555555556,
             "#d8576b"
            ],
            [
             0.6666666666666666,
             "#ed7953"
            ],
            [
             0.7777777777777778,
             "#fb9f3a"
            ],
            [
             0.8888888888888888,
             "#fdca26"
            ],
            [
             1,
             "#f0f921"
            ]
           ],
           "sequentialminus": [
            [
             0,
             "#0d0887"
            ],
            [
             0.1111111111111111,
             "#46039f"
            ],
            [
             0.2222222222222222,
             "#7201a8"
            ],
            [
             0.3333333333333333,
             "#9c179e"
            ],
            [
             0.4444444444444444,
             "#bd3786"
            ],
            [
             0.5555555555555556,
             "#d8576b"
            ],
            [
             0.6666666666666666,
             "#ed7953"
            ],
            [
             0.7777777777777778,
             "#fb9f3a"
            ],
            [
             0.8888888888888888,
             "#fdca26"
            ],
            [
             1,
             "#f0f921"
            ]
           ]
          },
          "colorway": [
           "#636efa",
           "#EF553B",
           "#00cc96",
           "#ab63fa",
           "#FFA15A",
           "#19d3f3",
           "#FF6692",
           "#B6E880",
           "#FF97FF",
           "#FECB52"
          ],
          "font": {
           "color": "#2a3f5f"
          },
          "geo": {
           "bgcolor": "white",
           "lakecolor": "white",
           "landcolor": "#E5ECF6",
           "showlakes": true,
           "showland": true,
           "subunitcolor": "white"
          },
          "hoverlabel": {
           "align": "left"
          },
          "hovermode": "closest",
          "mapbox": {
           "style": "light"
          },
          "paper_bgcolor": "white",
          "plot_bgcolor": "#E5ECF6",
          "polar": {
           "angularaxis": {
            "gridcolor": "white",
            "linecolor": "white",
            "ticks": ""
           },
           "bgcolor": "#E5ECF6",
           "radialaxis": {
            "gridcolor": "white",
            "linecolor": "white",
            "ticks": ""
           }
          },
          "scene": {
           "xaxis": {
            "backgroundcolor": "#E5ECF6",
            "gridcolor": "white",
            "gridwidth": 2,
            "linecolor": "white",
            "showbackground": true,
            "ticks": "",
            "zerolinecolor": "white"
           },
           "yaxis": {
            "backgroundcolor": "#E5ECF6",
            "gridcolor": "white",
            "gridwidth": 2,
            "linecolor": "white",
            "showbackground": true,
            "ticks": "",
            "zerolinecolor": "white"
           },
           "zaxis": {
            "backgroundcolor": "#E5ECF6",
            "gridcolor": "white",
            "gridwidth": 2,
            "linecolor": "white",
            "showbackground": true,
            "ticks": "",
            "zerolinecolor": "white"
           }
          },
          "shapedefaults": {
           "line": {
            "color": "#2a3f5f"
           }
          },
          "ternary": {
           "aaxis": {
            "gridcolor": "white",
            "linecolor": "white",
            "ticks": ""
           },
           "baxis": {
            "gridcolor": "white",
            "linecolor": "white",
            "ticks": ""
           },
           "bgcolor": "#E5ECF6",
           "caxis": {
            "gridcolor": "white",
            "linecolor": "white",
            "ticks": ""
           }
          },
          "title": {
           "x": 0.05
          },
          "xaxis": {
           "automargin": true,
           "gridcolor": "white",
           "linecolor": "white",
           "ticks": "",
           "title": {
            "standoff": 15
           },
           "zerolinecolor": "white",
           "zerolinewidth": 2
          },
          "yaxis": {
           "automargin": true,
           "gridcolor": "white",
           "linecolor": "white",
           "ticks": "",
           "title": {
            "standoff": 15
           },
           "zerolinecolor": "white",
           "zerolinewidth": 2
          }
         }
        },
        "title": {
         "text": "Amount of reported covid cases per month in the Netherlands"
        },
<<<<<<< HEAD
        "xaxis": {
         "anchor": "y",
=======
        "width": 800,
        "xaxis": {
         "anchor": "y",
         "autorange": true,
>>>>>>> 415bc22e89605e38198c33d222baf157c578a219
         "domain": [
          0,
          1
         ],
<<<<<<< HEAD
         "tickangle": 90,
         "title": {
          "text": "Month, Year"
         }
        },
        "yaxis": {
         "anchor": "x",
=======
         "range": [
          -0.5,
          32.5
         ],
         "tickangle": 90,
         "title": {
          "text": "Month, Year"
         },
         "type": "category"
        },
        "yaxis": {
         "anchor": "x",
         "autorange": true,
>>>>>>> 415bc22e89605e38198c33d222baf157c578a219
         "domain": [
          0,
          1
         ],
<<<<<<< HEAD
         "title": {
          "text": "Reported covid cases"
         }
        }
       }
      }
=======
         "range": [
          0,
          2000284.2105263157
         ],
         "title": {
          "text": "Reported covid cases"
         },
         "type": "linear"
        }
       }
      },
      "image/png": "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"
>>>>>>> 415bc22e89605e38198c33d222baf157c578a219
     },
     "metadata": {},
     "output_type": "display_data"
    }
   ],
   "source": [
    "covidfile_path = 'COVID_19_aantallen_gemeente_cumulatief.csv'\n",
    "\n",
    "coviddata = pd.read_csv(covidfile_path, delimiter=';')\n",
    "\n",
    "end_of_months = '2020-03-31|2020-04-30|2020-05-31|2020-06-30|2020-07-31|2020-08-31|2020-09-30|2020-10-31|2020-11-30|2020-12-31|2021-01-31|2021-02-28|\\\n",
    "                 2021-03-31|2021-04-30|2021-05-31|2021-06-30|2021-07-31|2021-08-31|2021-09-30|2021-10-31|2021-11-30|2021-12-31|2022-01-31|2022-02-28|\\\n",
    "                 2022-03-31|2022-04-30|2022-05-31|2022-06-30|2022-07-31|2022-08-31|2022-09-30|2022-10-31|2022-11-30|2022-12-31|2023-01-31|2023-02-28|\\\n",
    "                 2023-03-31|2023-04-30|2023-05-31|2023-06-30|2023-07-31|2023-08-31'\n",
    "\n",
    "coviddf = coviddata[coviddata['Date_of_publication'].str.contains(end_of_months)==True]\n",
    "\n",
    "coviddf = coviddf.drop(['Version', 'Date_of_report', 'Municipality_code',\n",
    "       'Municipality_name', 'Hospital_admission',\n",
    "       'Deceased'], axis=1)\n",
    "\n",
    "coviddf = coviddf.reset_index()\n",
    "\n",
    "for i in range(len(coviddf)):\n",
    "    date_list = coviddf['Date_of_publication'][i].rstrip('10:00:00').split('-')\n",
    "    new_date = date_list[0] + 'MM' + date_list[1]\n",
    "    coviddf.loc[i, 'Date_of_publication'] = new_date\n",
    "\n",
    "sum = 0\n",
    "date = coviddf['Date_of_publication'][0]\n",
    "cumulative_per_date = {}\n",
    "cumulative = 0\n",
    "sum_last_month = 0\n",
    "\n",
    "for i in range(len(coviddf)):\n",
    "    if coviddf['Date_of_publication'][i] == date:\n",
    "        sum += coviddf['Total_reported'][i]\n",
    "    else:\n",
    "        sum -= cumulative\n",
    "        cumulative += sum\n",
    "        cumulative_per_date.update({date: sum})\n",
    "        date = coviddf['Date_of_publication'][i]\n",
    "        last_sum = sum\n",
    "        sum = 0\n",
    "\n",
<<<<<<< HEAD
    "fig3 = px.bar(x= cumulative_per_date.keys(),\n",
    "              y = cumulative_per_date.values(),\n",
    "              title = 'Amount of reported covid cases per month in the Netherlands',\n",
    "              color_discrete_sequence =['orange']*len(cumulative_per_date),\n",
    "            #   opacity = 0.5\n",
    "            )\n",
    "fig3.update_xaxes(tickangle=90, title = 'Month, Year')\n",
    "fig3.update_yaxes(title = 'Reported covid cases')\n",
    "# fig3.update_layout(autosize = False, width = 800, height = 600)\n",
    "\n",
    "fig3.show()"
   ]
  },
  {
   "cell_type": "code",
   "execution_count": 262,
   "id": "a86c0865",
   "metadata": {},
   "outputs": [
    {
     "data": {
      "application/vnd.plotly.v1+json": {
       "config": {
        "plotlyServerURL": "https://plot.ly"
       },
       "data": [
        {
         "hovertemplate": "Type of movement=Total Flights<br>Period=%{x}<br>Amount in [flights], [pax] or [tons]=%{y}<extra></extra>",
         "legendgroup": "Total Flights",
         "line": {
          "color": "#636efa",
          "dash": "solid"
         },
         "marker": {
          "symbol": "circle"
         },
         "mode": "lines+markers",
         "name": "Total Flights",
         "orientation": "v",
         "showlegend": true,
         "type": "scatter",
         "x": [
          "2019MM01",
          "2019MM02",
          "2019MM03",
          "2019MM04",
          "2019MM05",
          "2019MM06",
          "2019MM07",
          "2019MM08",
          "2019MM09",
          "2019MM10",
          "2019MM11",
          "2019MM12",
          "2020MM01",
          "2020MM02",
          "2020MM03",
          "2020MM04",
          "2020MM05",
          "2020MM06",
          "2020MM07",
          "2020MM08",
          "2020MM09",
          "2020MM10",
          "2020MM11",
          "2020MM12",
          "2021MM01",
          "2021MM02",
          "2021MM03",
          "2021MM04",
          "2021MM05",
          "2021MM06",
          "2021MM07",
          "2021MM08",
          "2021MM09",
          "2021MM10",
          "2021MM11",
          "2021MM12",
          "2022MM01",
          "2022MM02",
          "2022MM03",
          "2022MM04",
          "2022MM05",
          "2022MM06",
          "2022MM07",
          "2022MM08",
          "2022MM09",
          "2022MM10",
          "2022MM11",
          "2022MM12",
          "2023MM01",
          "2023MM02",
          "2023MM03",
          "2023MM04",
          "2023MM05",
          "2023MM06",
          "2023MM07",
          "2023MM08"
         ],
         "xaxis": "x",
         "y": [
          41285,
          39204,
          44649,
          47934,
          51719,
          50135,
          51786,
          52127,
          51091,
          51135,
          42195,
          42771,
          41768,
          39299,
          28306,
          4759,
          6556,
          9336,
          19701,
          27575,
          25290,
          22028,
          16283,
          17325,
          15907,
          11528,
          13228,
          14891,
          16987,
          21701,
          33916,
          37282,
          35262,
          36465,
          32026,
          33869,
          29604,
          27456,
          34568,
          38824,
          44823,
          43248,
          43218,
          44862,
          43523,
          42909,
          34597,
          34968,
          34322,
          32416,
          38044,
          41609,
          45469,
          44638,
          47556,
          48111
         ],
         "yaxis": "y"
        },
        {
         "hovertemplate": "Type of movement=Total Passengers<br>Period=%{x}<br>Amount in [flights], [pax] or [tons]=%{y}<extra></extra>",
         "legendgroup": "Total Passengers",
         "line": {
          "color": "#EF553B",
          "dash": "solid"
         },
         "marker": {
          "symbol": "diamond"
         },
         "mode": "lines+markers",
         "name": "Total Passengers",
         "orientation": "v",
         "showlegend": true,
         "type": "scatter",
         "x": [
          "2019MM01",
          "2019MM02",
          "2019MM03",
          "2019MM04",
          "2019MM05",
          "2019MM06",
          "2019MM07",
          "2019MM08",
          "2019MM09",
          "2019MM10",
          "2019MM11",
          "2019MM12",
          "2020MM01",
          "2020MM02",
          "2020MM03",
          "2020MM04",
          "2020MM05",
          "2020MM06",
          "2020MM07",
          "2020MM08",
          "2020MM09",
          "2020MM10",
          "2020MM11",
          "2020MM12",
          "2021MM01",
          "2021MM02",
          "2021MM03",
          "2021MM04",
          "2021MM05",
          "2021MM06",
          "2021MM07",
          "2021MM08",
          "2021MM09",
          "2021MM10",
          "2021MM11",
          "2021MM12",
          "2022MM01",
          "2022MM02",
          "2022MM03",
          "2022MM04",
          "2022MM05",
          "2022MM06",
          "2022MM07",
          "2022MM08",
          "2022MM09",
          "2022MM10",
          "2022MM11",
          "2022MM12",
          "2023MM01",
          "2023MM02",
          "2023MM03",
          "2023MM04",
          "2023MM05",
          "2023MM06",
          "2023MM07",
          "2023MM08"
         ],
         "xaxis": "x",
         "y": [
          5495052,
          5352301,
          6270788,
          6926059,
          7396960,
          7471334,
          7730263,
          7859458,
          7486440,
          7354352,
          5885771,
          5938523,
          5595249,
          5281600,
          2773554,
          133752,
          220120,
          526544,
          1690515,
          2242935,
          1547263,
          1303123,
          965071,
          1306018,
          909617,
          519827,
          676647,
          817876,
          1169673,
          1870330,
          3515159,
          4479180,
          4013477,
          4395945,
          3492940,
          3208864,
          2831598,
          3040193,
          4241663,
          5140272,
          6091195,
          6118070,
          6211931,
          6378969,
          6108567,
          5854649,
          4570458,
          4680493,
          4480014,
          4348644,
          5276851,
          5912774,
          6514881,
          6539439,
          6991247,
          7061633
         ],
         "yaxis": "y"
        },
        {
         "hovertemplate": "Type of movement=Total Cargo [tons]<br>Period=%{x}<br>Amount in [flights], [pax] or [tons]=%{y}<extra></extra>",
         "legendgroup": "Total Cargo [tons]",
         "line": {
          "color": "#00cc96",
          "dash": "solid"
         },
         "marker": {
          "symbol": "square"
         },
         "mode": "lines+markers",
         "name": "Total Cargo [tons]",
         "orientation": "v",
         "showlegend": true,
         "type": "scatter",
         "x": [
          "2019MM01",
          "2019MM02",
          "2019MM03",
          "2019MM04",
          "2019MM05",
          "2019MM06",
          "2019MM07",
          "2019MM08",
          "2019MM09",
          "2019MM10",
          "2019MM11",
          "2019MM12",
          "2020MM01",
          "2020MM02",
          "2020MM03",
          "2020MM04",
          "2020MM05",
          "2020MM06",
          "2020MM07",
          "2020MM08",
          "2020MM09",
          "2020MM10",
          "2020MM11",
          "2020MM12",
          "2021MM01",
          "2021MM02",
          "2021MM03",
          "2021MM04",
          "2021MM05",
          "2021MM06",
          "2021MM07",
          "2021MM08",
          "2021MM09",
          "2021MM10",
          "2021MM11",
          "2021MM12",
          "2022MM01",
          "2022MM02",
          "2022MM03",
          "2022MM04",
          "2022MM05",
          "2022MM06",
          "2022MM07",
          "2022MM08",
          "2022MM09",
          "2022MM10",
          "2022MM11",
          "2022MM12",
          "2023MM01",
          "2023MM02",
          "2023MM03",
          "2023MM04",
          "2023MM05",
          "2023MM06",
          "2023MM07",
          "2023MM08"
         ],
         "xaxis": "x",
         "y": [
          133445,
          128322,
          155427,
          138159,
          144540,
          131970,
          137391,
          135263,
          140637,
          150127,
          148037,
          138385,
          122254,
          126726,
          127995,
          103420,
          117525,
          121692,
          132684,
          133168,
          135059,
          153109,
          157508,
          146441,
          140859,
          137288,
          165377,
          152164,
          158164,
          145582,
          138789,
          140198,
          144584,
          161776,
          156617,
          153901,
          131588,
          126020,
          137570,
          126658,
          128112,
          125858,
          130029,
          125037,
          130738,
          135512,
          128395,
          120439,
          109114,
          113147,
          125407,
          116129,
          118281,
          112994,
          115703,
          112120
         ],
         "yaxis": "y"
        },
        {
         "hovertemplate": "Type of movement=Total Mail [tons]<br>Period=%{x}<br>Amount in [flights], [pax] or [tons]=%{y}<extra></extra>",
         "legendgroup": "Total Mail [tons]",
         "line": {
          "color": "#ab63fa",
          "dash": "solid"
         },
         "marker": {
          "symbol": "x"
         },
         "mode": "lines+markers",
         "name": "Total Mail [tons]",
         "orientation": "v",
         "showlegend": true,
         "type": "scatter",
         "x": [
          "2019MM01",
          "2019MM02",
          "2019MM03",
          "2019MM04",
          "2019MM05",
          "2019MM06",
          "2019MM07",
          "2019MM08",
          "2019MM09",
          "2019MM10",
          "2019MM11",
          "2019MM12",
          "2020MM01",
          "2020MM02",
          "2020MM03",
          "2020MM04",
          "2020MM05",
          "2020MM06",
          "2020MM07",
          "2020MM08",
          "2020MM09",
          "2020MM10",
          "2020MM11",
          "2020MM12",
          "2021MM01",
          "2021MM02",
          "2021MM03",
          "2021MM04",
          "2021MM05",
          "2021MM06",
          "2021MM07",
          "2021MM08",
          "2021MM09",
          "2021MM10",
          "2021MM11",
          "2021MM12",
          "2022MM01",
          "2022MM02",
          "2022MM03",
          "2022MM04",
          "2022MM05",
          "2022MM06",
          "2022MM07",
          "2022MM08",
          "2022MM09",
          "2022MM10",
          "2022MM11",
          "2022MM12",
          "2023MM01",
          "2023MM02",
          "2023MM03",
          "2023MM04",
          "2023MM05",
          "2023MM06",
          "2023MM07",
          "2023MM08"
         ],
         "xaxis": "x",
         "y": [
          1615,
          1398,
          1761,
          1747,
          1860,
          1736,
          1876,
          1774,
          1747,
          1974,
          2133,
          2338,
          1908,
          1491,
          1167,
          382,
          542,
          855,
          1083,
          1283,
          1251,
          1521,
          1511,
          1837,
          1403,
          1109,
          1379,
          1258,
          1223,
          1128,
          978,
          1049,
          1002,
          1040,
          943,
          1038,
          827,
          824,
          819,
          688,
          685,
          667,
          584,
          549,
          538,
          465,
          461,
          608,
          478,
          440,
          457,
          430,
          471,
          447,
          407,
          454
         ],
         "yaxis": "y"
        },
        {
         "alignmentgroup": "True",
         "hovertemplate": "x=%{x}<br>y=%{y}<extra></extra>",
         "legendgroup": "",
         "marker": {
          "color": "orange",
          "pattern": {
           "shape": ""
          }
         },
         "name": "",
         "offsetgroup": "",
         "orientation": "v",
         "showlegend": false,
         "textposition": "auto",
         "type": "bar",
         "x": [
          "2020MM03",
          "2020MM04",
          "2020MM05",
          "2020MM06",
          "2020MM07",
          "2020MM08",
          "2020MM09",
          "2020MM10",
          "2020MM11",
          "2020MM12",
          "2021MM01",
          "2021MM02",
          "2021MM04",
          "2021MM05",
          "2021MM06",
          "2021MM07",
          "2021MM08",
          "2021MM09",
          "2021MM10",
          "2021MM11",
          "2021MM12",
          "2022MM01",
          "2022MM02",
          "2022MM04",
          "2022MM05",
          "2022MM06",
          "2022MM07",
          "2022MM08",
          "2022MM09",
          "2022MM10",
          "2022MM11",
          "2022MM12",
          "2023MM01"
         ],
         "xaxis": "x",
         "y": [
          12595,
          26716,
          7126,
          3831,
          4028,
          16365,
          50166,
          230293,
          172255,
          273309,
          174021,
          109045,
          404434,
          151799,
          35218,
          174793,
          74554,
          61284,
          127962,
          507820,
          485064,
          1283474,
          1900270,
          1658867,
          36617,
          96703,
          150459,
          49197,
          44050,
          83983,
          26957,
          26974,
          12103
         ],
         "yaxis": "y"
        }
       ],
       "layout": {
        "height": 800,
        "legend": {
         "title": {
          "text": "Type of movement"
         },
         "tracegroupgap": 0
        },
        "margin": {
         "t": 60
        },
        "template": {
         "data": {
          "bar": [
           {
            "error_x": {
             "color": "#2a3f5f"
            },
            "error_y": {
             "color": "#2a3f5f"
            },
            "marker": {
             "line": {
              "color": "#E5ECF6",
              "width": 0.5
             },
             "pattern": {
              "fillmode": "overlay",
              "size": 10,
              "solidity": 0.2
             }
            },
            "type": "bar"
           }
          ],
          "barpolar": [
           {
            "marker": {
             "line": {
              "color": "#E5ECF6",
              "width": 0.5
             },
             "pattern": {
              "fillmode": "overlay",
              "size": 10,
              "solidity": 0.2
             }
            },
            "type": "barpolar"
           }
          ],
          "carpet": [
           {
            "aaxis": {
             "endlinecolor": "#2a3f5f",
             "gridcolor": "white",
             "linecolor": "white",
             "minorgridcolor": "white",
             "startlinecolor": "#2a3f5f"
            },
            "baxis": {
             "endlinecolor": "#2a3f5f",
             "gridcolor": "white",
             "linecolor": "white",
             "minorgridcolor": "white",
             "startlinecolor": "#2a3f5f"
            },
            "type": "carpet"
           }
          ],
          "choropleth": [
           {
            "colorbar": {
             "outlinewidth": 0,
             "ticks": ""
            },
            "type": "choropleth"
           }
          ],
          "contour": [
           {
            "colorbar": {
             "outlinewidth": 0,
             "ticks": ""
            },
            "colorscale": [
             [
              0,
              "#0d0887"
             ],
             [
              0.1111111111111111,
              "#46039f"
             ],
             [
              0.2222222222222222,
              "#7201a8"
             ],
             [
              0.3333333333333333,
              "#9c179e"
             ],
             [
              0.4444444444444444,
              "#bd3786"
             ],
             [
              0.5555555555555556,
              "#d8576b"
             ],
             [
              0.6666666666666666,
              "#ed7953"
             ],
             [
              0.7777777777777778,
              "#fb9f3a"
             ],
             [
              0.8888888888888888,
              "#fdca26"
             ],
             [
              1,
              "#f0f921"
             ]
            ],
            "type": "contour"
           }
          ],
          "contourcarpet": [
           {
            "colorbar": {
             "outlinewidth": 0,
             "ticks": ""
            },
            "type": "contourcarpet"
           }
          ],
          "heatmap": [
           {
            "colorbar": {
             "outlinewidth": 0,
             "ticks": ""
            },
            "colorscale": [
             [
              0,
              "#0d0887"
             ],
             [
              0.1111111111111111,
              "#46039f"
             ],
             [
              0.2222222222222222,
              "#7201a8"
             ],
             [
              0.3333333333333333,
              "#9c179e"
             ],
             [
              0.4444444444444444,
              "#bd3786"
             ],
             [
              0.5555555555555556,
              "#d8576b"
             ],
             [
              0.6666666666666666,
              "#ed7953"
             ],
             [
              0.7777777777777778,
              "#fb9f3a"
             ],
             [
              0.8888888888888888,
              "#fdca26"
             ],
             [
              1,
              "#f0f921"
             ]
            ],
            "type": "heatmap"
           }
          ],
          "heatmapgl": [
           {
            "colorbar": {
             "outlinewidth": 0,
             "ticks": ""
            },
            "colorscale": [
             [
              0,
              "#0d0887"
             ],
             [
              0.1111111111111111,
              "#46039f"
             ],
             [
              0.2222222222222222,
              "#7201a8"
             ],
             [
              0.3333333333333333,
              "#9c179e"
             ],
             [
              0.4444444444444444,
              "#bd3786"
             ],
             [
              0.5555555555555556,
              "#d8576b"
             ],
             [
              0.6666666666666666,
              "#ed7953"
             ],
             [
              0.7777777777777778,
              "#fb9f3a"
             ],
             [
              0.8888888888888888,
              "#fdca26"
             ],
             [
              1,
              "#f0f921"
             ]
            ],
            "type": "heatmapgl"
           }
          ],
          "histogram": [
           {
            "marker": {
             "pattern": {
              "fillmode": "overlay",
              "size": 10,
              "solidity": 0.2
             }
            },
            "type": "histogram"
           }
          ],
          "histogram2d": [
           {
            "colorbar": {
             "outlinewidth": 0,
             "ticks": ""
            },
            "colorscale": [
             [
              0,
              "#0d0887"
             ],
             [
              0.1111111111111111,
              "#46039f"
             ],
             [
              0.2222222222222222,
              "#7201a8"
             ],
             [
              0.3333333333333333,
              "#9c179e"
             ],
             [
              0.4444444444444444,
              "#bd3786"
             ],
             [
              0.5555555555555556,
              "#d8576b"
             ],
             [
              0.6666666666666666,
              "#ed7953"
             ],
             [
              0.7777777777777778,
              "#fb9f3a"
             ],
             [
              0.8888888888888888,
              "#fdca26"
             ],
             [
              1,
              "#f0f921"
             ]
            ],
            "type": "histogram2d"
           }
          ],
          "histogram2dcontour": [
           {
            "colorbar": {
             "outlinewidth": 0,
             "ticks": ""
            },
            "colorscale": [
             [
              0,
              "#0d0887"
             ],
             [
              0.1111111111111111,
              "#46039f"
             ],
             [
              0.2222222222222222,
              "#7201a8"
             ],
             [
              0.3333333333333333,
              "#9c179e"
             ],
             [
              0.4444444444444444,
              "#bd3786"
             ],
             [
              0.5555555555555556,
              "#d8576b"
             ],
             [
              0.6666666666666666,
              "#ed7953"
             ],
             [
              0.7777777777777778,
              "#fb9f3a"
             ],
             [
              0.8888888888888888,
              "#fdca26"
             ],
             [
              1,
              "#f0f921"
             ]
            ],
            "type": "histogram2dcontour"
           }
          ],
          "mesh3d": [
           {
            "colorbar": {
             "outlinewidth": 0,
             "ticks": ""
            },
            "type": "mesh3d"
           }
          ],
          "parcoords": [
           {
            "line": {
             "colorbar": {
              "outlinewidth": 0,
              "ticks": ""
             }
            },
            "type": "parcoords"
           }
          ],
          "pie": [
           {
            "automargin": true,
            "type": "pie"
           }
          ],
          "scatter": [
           {
            "fillpattern": {
             "fillmode": "overlay",
             "size": 10,
             "solidity": 0.2
            },
            "type": "scatter"
           }
          ],
          "scatter3d": [
           {
            "line": {
             "colorbar": {
              "outlinewidth": 0,
              "ticks": ""
             }
            },
            "marker": {
             "colorbar": {
              "outlinewidth": 0,
              "ticks": ""
             }
            },
            "type": "scatter3d"
           }
          ],
          "scattercarpet": [
           {
            "marker": {
             "colorbar": {
              "outlinewidth": 0,
              "ticks": ""
             }
            },
            "type": "scattercarpet"
           }
          ],
          "scattergeo": [
           {
            "marker": {
             "colorbar": {
              "outlinewidth": 0,
              "ticks": ""
             }
            },
            "type": "scattergeo"
           }
          ],
          "scattergl": [
           {
            "marker": {
             "colorbar": {
              "outlinewidth": 0,
              "ticks": ""
             }
            },
            "type": "scattergl"
           }
          ],
          "scattermapbox": [
           {
            "marker": {
             "colorbar": {
              "outlinewidth": 0,
              "ticks": ""
             }
            },
            "type": "scattermapbox"
           }
          ],
          "scatterpolar": [
           {
            "marker": {
             "colorbar": {
              "outlinewidth": 0,
              "ticks": ""
             }
            },
            "type": "scatterpolar"
           }
          ],
          "scatterpolargl": [
           {
            "marker": {
             "colorbar": {
              "outlinewidth": 0,
              "ticks": ""
             }
            },
            "type": "scatterpolargl"
           }
          ],
          "scatterternary": [
           {
            "marker": {
             "colorbar": {
              "outlinewidth": 0,
              "ticks": ""
             }
            },
            "type": "scatterternary"
           }
          ],
          "surface": [
           {
            "colorbar": {
             "outlinewidth": 0,
             "ticks": ""
            },
            "colorscale": [
             [
              0,
              "#0d0887"
             ],
             [
              0.1111111111111111,
              "#46039f"
             ],
             [
              0.2222222222222222,
              "#7201a8"
             ],
             [
              0.3333333333333333,
              "#9c179e"
             ],
             [
              0.4444444444444444,
              "#bd3786"
             ],
             [
              0.5555555555555556,
              "#d8576b"
             ],
             [
              0.6666666666666666,
              "#ed7953"
             ],
             [
              0.7777777777777778,
              "#fb9f3a"
             ],
             [
              0.8888888888888888,
              "#fdca26"
             ],
             [
              1,
              "#f0f921"
             ]
            ],
            "type": "surface"
           }
          ],
          "table": [
           {
            "cells": {
             "fill": {
              "color": "#EBF0F8"
             },
             "line": {
              "color": "white"
             }
            },
            "header": {
             "fill": {
              "color": "#C8D4E3"
             },
             "line": {
              "color": "white"
             }
            },
            "type": "table"
           }
          ]
         },
         "layout": {
          "annotationdefaults": {
           "arrowcolor": "#2a3f5f",
           "arrowhead": 0,
           "arrowwidth": 1
          },
          "autotypenumbers": "strict",
          "coloraxis": {
           "colorbar": {
            "outlinewidth": 0,
            "ticks": ""
           }
          },
          "colorscale": {
           "diverging": [
            [
             0,
             "#8e0152"
            ],
            [
             0.1,
             "#c51b7d"
            ],
            [
             0.2,
             "#de77ae"
            ],
            [
             0.3,
             "#f1b6da"
            ],
            [
             0.4,
             "#fde0ef"
            ],
            [
             0.5,
             "#f7f7f7"
            ],
            [
             0.6,
             "#e6f5d0"
            ],
            [
             0.7,
             "#b8e186"
            ],
            [
             0.8,
             "#7fbc41"
            ],
            [
             0.9,
             "#4d9221"
            ],
            [
             1,
             "#276419"
            ]
           ],
           "sequential": [
            [
             0,
             "#0d0887"
            ],
            [
             0.1111111111111111,
             "#46039f"
            ],
            [
             0.2222222222222222,
             "#7201a8"
            ],
            [
             0.3333333333333333,
             "#9c179e"
            ],
            [
             0.4444444444444444,
             "#bd3786"
            ],
            [
             0.5555555555555556,
             "#d8576b"
            ],
            [
             0.6666666666666666,
             "#ed7953"
            ],
            [
             0.7777777777777778,
             "#fb9f3a"
            ],
            [
             0.8888888888888888,
             "#fdca26"
            ],
            [
             1,
             "#f0f921"
            ]
           ],
           "sequentialminus": [
            [
             0,
             "#0d0887"
            ],
            [
             0.1111111111111111,
             "#46039f"
            ],
            [
             0.2222222222222222,
             "#7201a8"
            ],
            [
             0.3333333333333333,
             "#9c179e"
            ],
            [
             0.4444444444444444,
             "#bd3786"
            ],
            [
             0.5555555555555556,
             "#d8576b"
            ],
            [
             0.6666666666666666,
             "#ed7953"
            ],
            [
             0.7777777777777778,
             "#fb9f3a"
            ],
            [
             0.8888888888888888,
             "#fdca26"
            ],
            [
             1,
             "#f0f921"
            ]
           ]
          },
          "colorway": [
           "#636efa",
           "#EF553B",
           "#00cc96",
           "#ab63fa",
           "#FFA15A",
           "#19d3f3",
           "#FF6692",
           "#B6E880",
           "#FF97FF",
           "#FECB52"
          ],
          "font": {
           "color": "#2a3f5f"
          },
          "geo": {
           "bgcolor": "white",
           "lakecolor": "white",
           "landcolor": "#E5ECF6",
           "showlakes": true,
           "showland": true,
           "subunitcolor": "white"
          },
          "hoverlabel": {
           "align": "left"
          },
          "hovermode": "closest",
          "mapbox": {
           "style": "light"
          },
          "paper_bgcolor": "white",
          "plot_bgcolor": "#E5ECF6",
          "polar": {
           "angularaxis": {
            "gridcolor": "white",
            "linecolor": "white",
            "ticks": ""
           },
           "bgcolor": "#E5ECF6",
           "radialaxis": {
            "gridcolor": "white",
            "linecolor": "white",
            "ticks": ""
           }
          },
          "scene": {
           "xaxis": {
            "backgroundcolor": "#E5ECF6",
            "gridcolor": "white",
            "gridwidth": 2,
            "linecolor": "white",
            "showbackground": true,
            "ticks": "",
            "zerolinecolor": "white"
           },
           "yaxis": {
            "backgroundcolor": "#E5ECF6",
            "gridcolor": "white",
            "gridwidth": 2,
            "linecolor": "white",
            "showbackground": true,
            "ticks": "",
            "zerolinecolor": "white"
           },
           "zaxis": {
            "backgroundcolor": "#E5ECF6",
            "gridcolor": "white",
            "gridwidth": 2,
            "linecolor": "white",
            "showbackground": true,
            "ticks": "",
            "zerolinecolor": "white"
           }
          },
          "shapedefaults": {
           "line": {
            "color": "#2a3f5f"
           }
          },
          "ternary": {
           "aaxis": {
            "gridcolor": "white",
            "linecolor": "white",
            "ticks": ""
           },
           "baxis": {
            "gridcolor": "white",
            "linecolor": "white",
            "ticks": ""
           },
           "bgcolor": "#E5ECF6",
           "caxis": {
            "gridcolor": "white",
            "linecolor": "white",
            "ticks": ""
           }
          },
          "title": {
           "x": 0.05
          },
          "xaxis": {
           "automargin": true,
           "gridcolor": "white",
           "linecolor": "white",
           "ticks": "",
           "title": {
            "standoff": 15
           },
           "zerolinecolor": "white",
           "zerolinewidth": 2
          },
          "yaxis": {
           "automargin": true,
           "gridcolor": "white",
           "linecolor": "white",
           "ticks": "",
           "title": {
            "standoff": 15
           },
           "zerolinecolor": "white",
           "zerolinewidth": 2
          }
         }
        },
        "title": {
         "text": "Plot of the covid data combined with the flights"
        },
        "xaxis": {
         "anchor": "y",
         "domain": [
          0,
          1
         ],
         "title": {
          "text": "Period"
         }
        },
        "yaxis": {
         "anchor": "x",
         "domain": [
          0,
          1
         ],
         "title": {
          "text": "Amount in [flights], [pax] or [tons]"
         },
         "type": "log"
        }
       }
      }
     },
     "metadata": {},
     "output_type": "display_data"
    }
   ],
   "source": [
    "for trace in fig3.data:\n",
    "    figtotal2.add_trace(trace)\n",
    "\n",
    "\n",
    "figtotal2.update_layout(\n",
    "    title = {'text': 'Plot of the covid data combined with the flights'},\n",
    "    height = 800,  # Adjust the height to your preference\n",
    "    # showlegend = True\n",
    ")\n",
    "\n",
    "figtotal2.show()"
   ]
  },
  {
   "cell_type": "code",
   "execution_count": null,
   "id": "a8600741",
   "metadata": {},
   "outputs": [],
   "source": []
=======
    "fig = px.bar(x= cumulative_per_date.keys(), y=cumulative_per_date.values(), title = 'Amount of reported covid cases per month in the Netherlands')\n",
    "fig.update_xaxes(tickangle=90, title = 'Month, Year')\n",
    "fig.update_yaxes(title = 'Reported covid cases')\n",
    "fig.update_layout(autosize = False, width = 800, height = 600)\n",
    "\n",
    "fig.show()"
   ]
  },
  {
   "cell_type": "markdown",
   "id": "c8cd021d-4624-4c8f-a1ed-0e5911d7c8fe",
   "metadata": {},
   "source": [
    "# References"
   ]
  },
  {
   "cell_type": "markdown",
   "id": "9028417b-e28e-4ae7-ada6-7b978dea32e6",
   "metadata": {},
   "source": [
    "(1)\thttps://www.kimnet.nl/binaries/kimnet/documenten/papers/2022/11/09/vliegen-na-corona-de-vliegintentie-en-houding-ten-opzichte-van-de-luchtvaart-van-nederlanders-na-twee-jaar-covid-19/Zijlstra+en+Uitbeijerse+%282022%29+Vliegen+na+corona+-+CVS-paper_def.pdf <br>\n",
    "(2)\tfile:///C:/Users/charl/Downloads/Graduation_thesis_Sicong_Ouyang.pdf <br>\n",
    "(3)\tDataset flights <br>\n",
    "(4)\tDataset COVID-19 infections <br>"
   ]
>>>>>>> 415bc22e89605e38198c33d222baf157c578a219
  },
  {
   "cell_type": "code",
   "execution_count": null,
   "id": "f31b610e",
   "metadata": {},
   "outputs": [],
   "source": []
  }
 ],
 "metadata": {
  "kernelspec": {
   "display_name": "Python 3 (ipykernel)",
   "language": "python",
   "name": "python3"
  },
  "language_info": {
   "codemirror_mode": {
    "name": "ipython",
    "version": 3
   },
   "file_extension": ".py",
   "mimetype": "text/x-python",
   "name": "python",
   "nbconvert_exporter": "python",
   "pygments_lexer": "ipython3",
<<<<<<< HEAD
   "version": "3.9.17"
=======
   "version": "3.11.5"
>>>>>>> 415bc22e89605e38198c33d222baf157c578a219
  }
 },
 "nbformat": 4,
 "nbformat_minor": 5
}
