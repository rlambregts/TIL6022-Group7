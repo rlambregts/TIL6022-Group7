{
 "cells": [
  {
   "cell_type": "code",
   "execution_count": 22,
   "metadata": {},
   "outputs": [
    {
     "name": "stderr",
     "output_type": "stream",
     "text": [
      "C:\\Users\\Jasper\\AppData\\Local\\Temp\\ipykernel_51124\\2770733229.py:33: SettingWithCopyWarning:\n",
      "\n",
      "\n",
      "A value is trying to be set on a copy of a slice from a DataFrame.\n",
      "Try using .loc[row_indexer,col_indexer] = value instead\n",
      "\n",
      "See the caveats in the documentation: https://pandas.pydata.org/pandas-docs/stable/user_guide/indexing.html#returning-a-view-versus-a-copy\n",
      "\n",
      "C:\\Users\\Jasper\\AppData\\Local\\Temp\\ipykernel_51124\\2770733229.py:33: SettingWithCopyWarning:\n",
      "\n",
      "\n",
      "A value is trying to be set on a copy of a slice from a DataFrame.\n",
      "Try using .loc[row_indexer,col_indexer] = value instead\n",
      "\n",
      "See the caveats in the documentation: https://pandas.pydata.org/pandas-docs/stable/user_guide/indexing.html#returning-a-view-versus-a-copy\n",
      "\n",
      "C:\\Users\\Jasper\\AppData\\Local\\Temp\\ipykernel_51124\\2770733229.py:33: SettingWithCopyWarning:\n",
      "\n",
      "\n",
      "A value is trying to be set on a copy of a slice from a DataFrame.\n",
      "Try using .loc[row_indexer,col_indexer] = value instead\n",
      "\n",
      "See the caveats in the documentation: https://pandas.pydata.org/pandas-docs/stable/user_guide/indexing.html#returning-a-view-versus-a-copy\n",
      "\n"
     ]
    },
    {
     "data": {
      "application/vnd.plotly.v1+json": {
       "config": {
        "plotlyServerURL": "https://plot.ly"
       },
       "data": [
        {
         "geo": "geo",
         "hovertemplate": "<b>%{hovertext}</b><br><br>Periods=2019-01-01 00:00:00<br>value=%{marker.size}<br>lat=%{lat}<br>lon=%{lon}<extra></extra>",
         "hovertext": [
          "EU Countries",
          "Other Europe",
          "North Africa",
          "West Africa",
          "Central Africa",
          "East Africa",
          "South Africa",
          "North America",
          "Central America",
          "South America",
          "West Asia",
          "South East Asia",
          "North East Asia",
          "Oceania"
         ],
         "lat": [
          51.06817476731436,
          51.104656094663596,
          30.437364261879395,
          7.959928997986893,
          6.382857433441359,
          4.621142864680792,
          -21.36137412154011,
          39.10831477183257,
          14.055530777684297,
          -16.37707312732043,
          34.361920786534085,
          17.706181315873863,
          36.550432558533785,
          -23.58328814497935
         ],
         "legendgroup": "",
         "lon": [
          7.483156574929211,
          30.497434511924325,
          14.533600264930044,
          -5.73665308026392,
          25.274620301872687,
          45.742644027389815,
          22.937458352453206,
          -99.4877492264568,
          -86.12919315960363,
          -57.79900810912669,
          46.37348934350911,
          101.17889439841429,
          127.29844484711793,
          138.75457210763784
         ],
         "marker": {
          "color": "#636efa",
          "size": [
           3301806,
           538182,
           87114,
           70839,
           7115,
           72601,
           42379,
           462521,
           163260,
           145444,
           201030,
           198530,
           204231,
           0
          ],
          "sizemode": "area",
          "sizeref": 12246.6525,
          "symbol": "circle"
         },
         "mode": "markers",
         "name": "",
         "showlegend": false,
         "type": "scattergeo"
        }
       ],
       "frames": [
        {
         "data": [
          {
           "geo": "geo",
           "hovertemplate": "<b>%{hovertext}</b><br><br>Periods=2019-01-01 00:00:00<br>value=%{marker.size}<br>lat=%{lat}<br>lon=%{lon}<extra></extra>",
           "hovertext": [
            "EU Countries",
            "Other Europe",
            "North Africa",
            "West Africa",
            "Central Africa",
            "East Africa",
            "South Africa",
            "North America",
            "Central America",
            "South America",
            "West Asia",
            "South East Asia",
            "North East Asia",
            "Oceania"
           ],
           "lat": [
            51.06817476731436,
            51.104656094663596,
            30.437364261879395,
            7.959928997986893,
            6.382857433441359,
            4.621142864680792,
            -21.36137412154011,
            39.10831477183257,
            14.055530777684297,
            -16.37707312732043,
            34.361920786534085,
            17.706181315873863,
            36.550432558533785,
            -23.58328814497935
           ],
           "legendgroup": "",
           "lon": [
            7.483156574929211,
            30.497434511924325,
            14.533600264930044,
            -5.73665308026392,
            25.274620301872687,
            45.742644027389815,
            22.937458352453206,
            -99.4877492264568,
            -86.12919315960363,
            -57.79900810912669,
            46.37348934350911,
            101.17889439841429,
            127.29844484711793,
            138.75457210763784
           ],
           "marker": {
            "color": "#636efa",
            "size": [
             3301806,
             538182,
             87114,
             70839,
             7115,
             72601,
             42379,
             462521,
             163260,
             145444,
             201030,
             198530,
             204231,
             0
            ],
            "sizemode": "area",
            "sizeref": 12246.6525,
            "symbol": "circle"
           },
           "mode": "markers",
           "name": "",
           "showlegend": false,
           "type": "scattergeo"
          }
         ],
         "name": "2019-01-01 00:00:00"
        },
        {
         "data": [
          {
           "geo": "geo",
           "hovertemplate": "<b>%{hovertext}</b><br><br>Periods=2019-02-01 00:00:00<br>value=%{marker.size}<br>lat=%{lat}<br>lon=%{lon}<extra></extra>",
           "hovertext": [
            "EU Countries",
            "Other Europe",
            "North Africa",
            "West Africa",
            "Central Africa",
            "East Africa",
            "South Africa",
            "North America",
            "Central America",
            "South America",
            "West Asia",
            "South East Asia",
            "North East Asia",
            "Oceania"
           ],
           "lat": [
            51.06817476731436,
            51.104656094663596,
            30.437364261879395,
            7.959928997986893,
            6.382857433441359,
            4.621142864680792,
            -21.36137412154011,
            39.10831477183257,
            14.055530777684297,
            -16.37707312732043,
            34.361920786534085,
            17.706181315873863,
            36.550432558533785,
            -23.58328814497935
           ],
           "legendgroup": "",
           "lon": [
            7.483156574929211,
            30.497434511924325,
            14.533600264930044,
            -5.73665308026392,
            25.274620301872687,
            45.742644027389815,
            22.937458352453206,
            -99.4877492264568,
            -86.12919315960363,
            -57.79900810912669,
            46.37348934350911,
            101.17889439841429,
            127.29844484711793,
            138.75457210763784
           ],
           "marker": {
            "color": "#636efa",
            "size": [
             3334887,
             531140,
             84772,
             58271,
             6866,
             63531,
             39394,
             401645,
             145265,
             131436,
             192914,
             171647,
             190530,
             0
            ],
            "sizemode": "area",
            "sizeref": 12246.6525,
            "symbol": "circle"
           },
           "mode": "markers",
           "name": "",
           "showlegend": false,
           "type": "scattergeo"
          }
         ],
         "name": "2019-02-01 00:00:00"
        },
        {
         "data": [
          {
           "geo": "geo",
           "hovertemplate": "<b>%{hovertext}</b><br><br>Periods=2019-03-01 00:00:00<br>value=%{marker.size}<br>lat=%{lat}<br>lon=%{lon}<extra></extra>",
           "hovertext": [
            "EU Countries",
            "Other Europe",
            "North Africa",
            "West Africa",
            "Central Africa",
            "East Africa",
            "South Africa",
            "North America",
            "Central America",
            "South America",
            "West Asia",
            "South East Asia",
            "North East Asia",
            "Oceania"
           ],
           "lat": [
            51.06817476731436,
            51.104656094663596,
            30.437364261879395,
            7.959928997986893,
            6.382857433441359,
            4.621142864680792,
            -21.36137412154011,
            39.10831477183257,
            14.055530777684297,
            -16.37707312732043,
            34.361920786534085,
            17.706181315873863,
            36.550432558533785,
            -23.58328814497935
           ],
           "legendgroup": "",
           "lon": [
            7.483156574929211,
            30.497434511924325,
            14.533600264930044,
            -5.73665308026392,
            25.274620301872687,
            45.742644027389815,
            22.937458352453206,
            -99.4877492264568,
            -86.12919315960363,
            -57.79900810912669,
            46.37348934350911,
            101.17889439841429,
            127.29844484711793,
            138.75457210763784
           ],
           "marker": {
            "color": "#636efa",
            "size": [
             3933286,
             613975,
             102835,
             62414,
             7125,
             63670,
             42861,
             543422,
             153256,
             139239,
             220399,
             178766,
             209540,
             0
            ],
            "sizemode": "area",
            "sizeref": 12246.6525,
            "symbol": "circle"
           },
           "mode": "markers",
           "name": "",
           "showlegend": false,
           "type": "scattergeo"
          }
         ],
         "name": "2019-03-01 00:00:00"
        },
        {
         "data": [
          {
           "geo": "geo",
           "hovertemplate": "<b>%{hovertext}</b><br><br>Periods=2019-04-01 00:00:00<br>value=%{marker.size}<br>lat=%{lat}<br>lon=%{lon}<extra></extra>",
           "hovertext": [
            "EU Countries",
            "Other Europe",
            "North Africa",
            "West Africa",
            "Central Africa",
            "East Africa",
            "South Africa",
            "North America",
            "Central America",
            "South America",
            "West Asia",
            "South East Asia",
            "North East Asia",
            "Oceania"
           ],
           "lat": [
            51.06817476731436,
            51.104656094663596,
            30.437364261879395,
            7.959928997986893,
            6.382857433441359,
            4.621142864680792,
            -21.36137412154011,
            39.10831477183257,
            14.055530777684297,
            -16.37707312732043,
            34.361920786534085,
            17.706181315873863,
            36.550432558533785,
            -23.58328814497935
           ],
           "legendgroup": "",
           "lon": [
            7.483156574929211,
            30.497434511924325,
            14.533600264930044,
            -5.73665308026392,
            25.274620301872687,
            45.742644027389815,
            22.937458352453206,
            -99.4877492264568,
            -86.12919315960363,
            -57.79900810912669,
            46.37348934350911,
            101.17889439841429,
            127.29844484711793,
            138.75457210763784
           ],
           "marker": {
            "color": "#636efa",
            "size": [
             4384512,
             709903,
             112688,
             51896,
             6636,
             56495,
             44691,
             660798,
             141074,
             134535,
             228431,
             153991,
             240408,
             0
            ],
            "sizemode": "area",
            "sizeref": 12246.6525,
            "symbol": "circle"
           },
           "mode": "markers",
           "name": "",
           "showlegend": false,
           "type": "scattergeo"
          }
         ],
         "name": "2019-04-01 00:00:00"
        },
        {
         "data": [
          {
           "geo": "geo",
           "hovertemplate": "<b>%{hovertext}</b><br><br>Periods=2019-05-01 00:00:00<br>value=%{marker.size}<br>lat=%{lat}<br>lon=%{lon}<extra></extra>",
           "hovertext": [
            "EU Countries",
            "Other Europe",
            "North Africa",
            "West Africa",
            "Central Africa",
            "East Africa",
            "South Africa",
            "North America",
            "Central America",
            "South America",
            "West Asia",
            "South East Asia",
            "North East Asia",
            "Oceania"
           ],
           "lat": [
            51.06817476731436,
            51.104656094663596,
            30.437364261879395,
            7.959928997986893,
            6.382857433441359,
            4.621142864680792,
            -21.36137412154011,
            39.10831477183257,
            14.055530777684297,
            -16.37707312732043,
            34.361920786534085,
            17.706181315873863,
            36.550432558533785,
            -23.58328814497935
           ],
           "legendgroup": "",
           "lon": [
            7.483156574929211,
            30.497434511924325,
            14.533600264930044,
            -5.73665308026392,
            25.274620301872687,
            45.742644027389815,
            22.937458352453206,
            -99.4877492264568,
            -86.12919315960363,
            -57.79900810912669,
            46.37348934350911,
            101.17889439841429,
            127.29844484711793,
            138.75457210763784
           ],
           "marker": {
            "color": "#636efa",
            "size": [
             4789936,
             785118,
             81518,
             45509,
             7951,
             57177,
             43687,
             726649,
             138900,
             131945,
             205194,
             132977,
             250396,
             0
            ],
            "sizemode": "area",
            "sizeref": 12246.6525,
            "symbol": "circle"
           },
           "mode": "markers",
           "name": "",
           "showlegend": false,
           "type": "scattergeo"
          }
         ],
         "name": "2019-05-01 00:00:00"
        },
        {
         "data": [
          {
           "geo": "geo",
           "hovertemplate": "<b>%{hovertext}</b><br><br>Periods=2019-06-01 00:00:00<br>value=%{marker.size}<br>lat=%{lat}<br>lon=%{lon}<extra></extra>",
           "hovertext": [
            "EU Countries",
            "Other Europe",
            "North Africa",
            "West Africa",
            "Central Africa",
            "East Africa",
            "South Africa",
            "North America",
            "Central America",
            "South America",
            "West Asia",
            "South East Asia",
            "North East Asia",
            "Oceania"
           ],
           "lat": [
            51.06817476731436,
            51.104656094663596,
            30.437364261879395,
            7.959928997986893,
            6.382857433441359,
            4.621142864680792,
            -21.36137412154011,
            39.10831477183257,
            14.055530777684297,
            -16.37707312732043,
            34.361920786534085,
            17.706181315873863,
            36.550432558533785,
            -23.58328814497935
           ],
           "legendgroup": "",
           "lon": [
            7.483156574929211,
            30.497434511924325,
            14.533600264930044,
            -5.73665308026392,
            25.274620301872687,
            45.742644027389815,
            22.937458352453206,
            -99.4877492264568,
            -86.12919315960363,
            -57.79900810912669,
            46.37348934350911,
            101.17889439841429,
            127.29844484711793,
            138.75457210763784
           ],
           "marker": {
            "color": "#636efa",
            "size": [
             4794624,
             786509,
             100389,
             44209,
             8549,
             66581,
             43153,
             762961,
             134721,
             129986,
             219552,
             130830,
             249263,
             0
            ],
            "sizemode": "area",
            "sizeref": 12246.6525,
            "symbol": "circle"
           },
           "mode": "markers",
           "name": "",
           "showlegend": false,
           "type": "scattergeo"
          }
         ],
         "name": "2019-06-01 00:00:00"
        },
        {
         "data": [
          {
           "geo": "geo",
           "hovertemplate": "<b>%{hovertext}</b><br><br>Periods=2019-07-01 00:00:00<br>value=%{marker.size}<br>lat=%{lat}<br>lon=%{lon}<extra></extra>",
           "hovertext": [
            "EU Countries",
            "Other Europe",
            "North Africa",
            "West Africa",
            "Central Africa",
            "East Africa",
            "South Africa",
            "North America",
            "Central America",
            "South America",
            "West Asia",
            "South East Asia",
            "North East Asia",
            "Oceania"
           ],
           "lat": [
            51.06817476731436,
            51.104656094663596,
            30.437364261879395,
            7.959928997986893,
            6.382857433441359,
            4.621142864680792,
            -21.36137412154011,
            39.10831477183257,
            14.055530777684297,
            -16.37707312732043,
            34.361920786534085,
            17.706181315873863,
            36.550432558533785,
            -23.58328814497935
           ],
           "legendgroup": "",
           "lon": [
            7.483156574929211,
            30.497434511924325,
            14.533600264930044,
            -5.73665308026392,
            25.274620301872687,
            45.742644027389815,
            22.937458352453206,
            -99.4877492264568,
            -86.12919315960363,
            -57.79900810912669,
            46.37348934350911,
            101.17889439841429,
            127.29844484711793,
            138.75457210763784
           ],
           "marker": {
            "color": "#636efa",
            "size": [
             4863146,
             851742,
             121928,
             46725,
             9217,
             74037,
             45357,
             777044,
             142481,
             145040,
             250201,
             140403,
             262937,
             0
            ],
            "sizemode": "area",
            "sizeref": 12246.6525,
            "symbol": "circle"
           },
           "mode": "markers",
           "name": "",
           "showlegend": false,
           "type": "scattergeo"
          }
         ],
         "name": "2019-07-01 00:00:00"
        },
        {
         "data": [
          {
           "geo": "geo",
           "hovertemplate": "<b>%{hovertext}</b><br><br>Periods=2019-08-01 00:00:00<br>value=%{marker.size}<br>lat=%{lat}<br>lon=%{lon}<extra></extra>",
           "hovertext": [
            "EU Countries",
            "Other Europe",
            "North Africa",
            "West Africa",
            "Central Africa",
            "East Africa",
            "South Africa",
            "North America",
            "Central America",
            "South America",
            "West Asia",
            "South East Asia",
            "North East Asia",
            "Oceania"
           ],
           "lat": [
            51.06817476731436,
            51.104656094663596,
            30.437364261879395,
            7.959928997986893,
            6.382857433441359,
            4.621142864680792,
            -21.36137412154011,
            39.10831477183257,
            14.055530777684297,
            -16.37707312732043,
            34.361920786534085,
            17.706181315873863,
            36.550432558533785,
            -23.58328814497935
           ],
           "legendgroup": "",
           "lon": [
            7.483156574929211,
            30.497434511924325,
            14.533600264930044,
            -5.73665308026392,
            25.274620301872687,
            45.742644027389815,
            22.937458352453206,
            -99.4877492264568,
            -86.12919315960363,
            -57.79900810912669,
            46.37348934350911,
            101.17889439841429,
            127.29844484711793,
            138.75457210763784
           ],
           "marker": {
            "color": "#636efa",
            "size": [
             4898661,
             898180,
             138189,
             46264,
             8845,
             74963,
             46488,
             793609,
             143389,
             143204,
             258566,
             144489,
             264601,
             0
            ],
            "sizemode": "area",
            "sizeref": 12246.6525,
            "symbol": "circle"
           },
           "mode": "markers",
           "name": "",
           "showlegend": false,
           "type": "scattergeo"
          }
         ],
         "name": "2019-08-01 00:00:00"
        },
        {
         "data": [
          {
           "geo": "geo",
           "hovertemplate": "<b>%{hovertext}</b><br><br>Periods=2019-09-01 00:00:00<br>value=%{marker.size}<br>lat=%{lat}<br>lon=%{lon}<extra></extra>",
           "hovertext": [
            "EU Countries",
            "Other Europe",
            "North Africa",
            "West Africa",
            "Central Africa",
            "East Africa",
            "South Africa",
            "North America",
            "Central America",
            "South America",
            "West Asia",
            "South East Asia",
            "North East Asia",
            "Oceania"
           ],
           "lat": [
            51.06817476731436,
            51.104656094663596,
            30.437364261879395,
            7.959928997986893,
            6.382857433441359,
            4.621142864680792,
            -21.36137412154011,
            39.10831477183257,
            14.055530777684297,
            -16.37707312732043,
            34.361920786534085,
            17.706181315873863,
            36.550432558533785,
            -23.58328814497935
           ],
           "legendgroup": "",
           "lon": [
            7.483156574929211,
            30.497434511924325,
            14.533600264930044,
            -5.73665308026392,
            25.274620301872687,
            45.742644027389815,
            22.937458352453206,
            -99.4877492264568,
            -86.12919315960363,
            -57.79900810912669,
            46.37348934350911,
            101.17889439841429,
            127.29844484711793,
            138.75457210763784
           ],
           "marker": {
            "color": "#636efa",
            "size": [
             4783993,
             813739,
             110243,
             45971,
             7239,
             68768,
             46191,
             736288,
             131848,
             130197,
             219766,
             137525,
             254672,
             0
            ],
            "sizemode": "area",
            "sizeref": 12246.6525,
            "symbol": "circle"
           },
           "mode": "markers",
           "name": "",
           "showlegend": false,
           "type": "scattergeo"
          }
         ],
         "name": "2019-09-01 00:00:00"
        },
        {
         "data": [
          {
           "geo": "geo",
           "hovertemplate": "<b>%{hovertext}</b><br><br>Periods=2019-10-01 00:00:00<br>value=%{marker.size}<br>lat=%{lat}<br>lon=%{lon}<extra></extra>",
           "hovertext": [
            "EU Countries",
            "Other Europe",
            "North Africa",
            "West Africa",
            "Central Africa",
            "East Africa",
            "South Africa",
            "North America",
            "Central America",
            "South America",
            "West Asia",
            "South East Asia",
            "North East Asia",
            "Oceania"
           ],
           "lat": [
            51.06817476731436,
            51.104656094663596,
            30.437364261879395,
            7.959928997986893,
            6.382857433441359,
            4.621142864680792,
            -21.36137412154011,
            39.10831477183257,
            14.055530777684297,
            -16.37707312732043,
            34.361920786534085,
            17.706181315873863,
            36.550432558533785,
            -23.58328814497935
           ],
           "legendgroup": "",
           "lon": [
            7.483156574929211,
            30.497434511924325,
            14.533600264930044,
            -5.73665308026392,
            25.274620301872687,
            45.742644027389815,
            22.937458352453206,
            -99.4877492264568,
            -86.12919315960363,
            -57.79900810912669,
            46.37348934350911,
            101.17889439841429,
            127.29844484711793,
            138.75457210763784
           ],
           "marker": {
            "color": "#636efa",
            "size": [
             4671287,
             810103,
             115082,
             52163,
             6570,
             68932,
             48432,
             684886,
             140033,
             139427,
             229952,
             138445,
             249039,
             0
            ],
            "sizemode": "area",
            "sizeref": 12246.6525,
            "symbol": "circle"
           },
           "mode": "markers",
           "name": "",
           "showlegend": false,
           "type": "scattergeo"
          }
         ],
         "name": "2019-10-01 00:00:00"
        },
        {
         "data": [
          {
           "geo": "geo",
           "hovertemplate": "<b>%{hovertext}</b><br><br>Periods=2019-11-01 00:00:00<br>value=%{marker.size}<br>lat=%{lat}<br>lon=%{lon}<extra></extra>",
           "hovertext": [
            "EU Countries",
            "Other Europe",
            "North Africa",
            "West Africa",
            "Central Africa",
            "East Africa",
            "South Africa",
            "North America",
            "Central America",
            "South America",
            "West Asia",
            "South East Asia",
            "North East Asia",
            "Oceania"
           ],
           "lat": [
            51.06817476731436,
            51.104656094663596,
            30.437364261879395,
            7.959928997986893,
            6.382857433441359,
            4.621142864680792,
            -21.36137412154011,
            39.10831477183257,
            14.055530777684297,
            -16.37707312732043,
            34.361920786534085,
            17.706181315873863,
            36.550432558533785,
            -23.58328814497935
           ],
           "legendgroup": "",
           "lon": [
            7.483156574929211,
            30.497434511924325,
            14.533600264930044,
            -5.73665308026392,
            25.274620301872687,
            45.742644027389815,
            22.937458352453206,
            -99.4877492264568,
            -86.12919315960363,
            -57.79900810912669,
            46.37348934350911,
            101.17889439841429,
            127.29844484711793,
            138.75457210763784
           ],
           "marker": {
            "color": "#636efa",
            "size": [
             3663084,
             574158,
             100326,
             57429,
             6502,
             60374,
             47175,
             504089,
             150620,
             140905,
             215511,
             148528,
             217070,
             0
            ],
            "sizemode": "area",
            "sizeref": 12246.6525,
            "symbol": "circle"
           },
           "mode": "markers",
           "name": "",
           "showlegend": false,
           "type": "scattergeo"
          }
         ],
         "name": "2019-11-01 00:00:00"
        },
        {
         "data": [
          {
           "geo": "geo",
           "hovertemplate": "<b>%{hovertext}</b><br><br>Periods=2019-12-01 00:00:00<br>value=%{marker.size}<br>lat=%{lat}<br>lon=%{lon}<extra></extra>",
           "hovertext": [
            "EU Countries",
            "Other Europe",
            "North Africa",
            "West Africa",
            "Central Africa",
            "East Africa",
            "South Africa",
            "North America",
            "Central America",
            "South America",
            "West Asia",
            "South East Asia",
            "North East Asia",
            "Oceania"
           ],
           "lat": [
            51.06817476731436,
            51.104656094663596,
            30.437364261879395,
            7.959928997986893,
            6.382857433441359,
            4.621142864680792,
            -21.36137412154011,
            39.10831477183257,
            14.055530777684297,
            -16.37707312732043,
            34.361920786534085,
            17.706181315873863,
            36.550432558533785,
            -23.58328814497935
           ],
           "legendgroup": "",
           "lon": [
            7.483156574929211,
            30.497434511924325,
            14.533600264930044,
            -5.73665308026392,
            25.274620301872687,
            45.742644027389815,
            22.937458352453206,
            -99.4877492264568,
            -86.12919315960363,
            -57.79900810912669,
            46.37348934350911,
            101.17889439841429,
            127.29844484711793,
            138.75457210763784
           ],
           "marker": {
            "color": "#636efa",
            "size": [
             3633053,
             577848,
             100041,
             60316,
             7880,
             61255,
             48336,
             550494,
             157646,
             147672,
             226190,
             158395,
             209396,
             0
            ],
            "sizemode": "area",
            "sizeref": 12246.6525,
            "symbol": "circle"
           },
           "mode": "markers",
           "name": "",
           "showlegend": false,
           "type": "scattergeo"
          }
         ],
         "name": "2019-12-01 00:00:00"
        },
        {
         "data": [
          {
           "geo": "geo",
           "hovertemplate": "<b>%{hovertext}</b><br><br>Periods=2020-01-01 00:00:00<br>value=%{marker.size}<br>lat=%{lat}<br>lon=%{lon}<extra></extra>",
           "hovertext": [
            "EU Countries",
            "Other Europe",
            "North Africa",
            "West Africa",
            "Central Africa",
            "East Africa",
            "South Africa",
            "North America",
            "Central America",
            "South America",
            "West Asia",
            "South East Asia",
            "North East Asia",
            "Oceania"
           ],
           "lat": [
            51.06817476731436,
            51.104656094663596,
            30.437364261879395,
            7.959928997986893,
            6.382857433441359,
            4.621142864680792,
            -21.36137412154011,
            39.10831477183257,
            14.055530777684297,
            -16.37707312732043,
            34.361920786534085,
            17.706181315873863,
            36.550432558533785,
            -23.58328814497935
           ],
           "legendgroup": "",
           "lon": [
            7.483156574929211,
            30.497434511924325,
            14.533600264930044,
            -5.73665308026392,
            25.274620301872687,
            45.742644027389815,
            22.937458352453206,
            -99.4877492264568,
            -86.12919315960363,
            -57.79900810912669,
            46.37348934350911,
            101.17889439841429,
            127.29844484711793,
            138.75457210763784
           ],
           "marker": {
            "color": "#636efa",
            "size": [
             3387134,
             546414,
             98158,
             62177,
             7493,
             64933,
             47991,
             481908,
             159765,
             146061,
             218446,
             159427,
             215342,
             0
            ],
            "sizemode": "area",
            "sizeref": 12246.6525,
            "symbol": "circle"
           },
           "mode": "markers",
           "name": "",
           "showlegend": false,
           "type": "scattergeo"
          }
         ],
         "name": "2020-01-01 00:00:00"
        },
        {
         "data": [
          {
           "geo": "geo",
           "hovertemplate": "<b>%{hovertext}</b><br><br>Periods=2020-02-01 00:00:00<br>value=%{marker.size}<br>lat=%{lat}<br>lon=%{lon}<extra></extra>",
           "hovertext": [
            "EU Countries",
            "Other Europe",
            "North Africa",
            "West Africa",
            "Central Africa",
            "East Africa",
            "South Africa",
            "North America",
            "Central America",
            "South America",
            "West Asia",
            "South East Asia",
            "North East Asia",
            "Oceania"
           ],
           "lat": [
            51.06817476731436,
            51.104656094663596,
            30.437364261879395,
            7.959928997986893,
            6.382857433441359,
            4.621142864680792,
            -21.36137412154011,
            39.10831477183257,
            14.055530777684297,
            -16.37707312732043,
            34.361920786534085,
            17.706181315873863,
            36.550432558533785,
            -23.58328814497935
           ],
           "legendgroup": "",
           "lon": [
            7.483156574929211,
            30.497434511924325,
            14.533600264930044,
            -5.73665308026392,
            25.274620301872687,
            45.742644027389815,
            22.937458352453206,
            -99.4877492264568,
            -86.12919315960363,
            -57.79900810912669,
            46.37348934350911,
            101.17889439841429,
            127.29844484711793,
            138.75457210763784
           ],
           "marker": {
            "color": "#636efa",
            "size": [
             3319861,
             530580,
             98724,
             58732,
             7044,
             58870,
             45001,
             423686,
             154658,
             133848,
             205224,
             141678,
             103694,
             0
            ],
            "sizemode": "area",
            "sizeref": 12246.6525,
            "symbol": "circle"
           },
           "mode": "markers",
           "name": "",
           "showlegend": false,
           "type": "scattergeo"
          }
         ],
         "name": "2020-02-01 00:00:00"
        },
        {
         "data": [
          {
           "geo": "geo",
           "hovertemplate": "<b>%{hovertext}</b><br><br>Periods=2020-03-01 00:00:00<br>value=%{marker.size}<br>lat=%{lat}<br>lon=%{lon}<extra></extra>",
           "hovertext": [
            "EU Countries",
            "Other Europe",
            "North Africa",
            "West Africa",
            "Central Africa",
            "East Africa",
            "South Africa",
            "North America",
            "Central America",
            "South America",
            "West Asia",
            "South East Asia",
            "North East Asia",
            "Oceania"
           ],
           "lat": [
            51.06817476731436,
            51.104656094663596,
            30.437364261879395,
            7.959928997986893,
            6.382857433441359,
            4.621142864680792,
            -21.36137412154011,
            39.10831477183257,
            14.055530777684297,
            -16.37707312732043,
            34.361920786534085,
            17.706181315873863,
            36.550432558533785,
            -23.58328814497935
           ],
           "legendgroup": "",
           "lon": [
            7.483156574929211,
            30.497434511924325,
            14.533600264930044,
            -5.73665308026392,
            25.274620301872687,
            45.742644027389815,
            22.937458352453206,
            -99.4877492264568,
            -86.12919315960363,
            -57.79900810912669,
            46.37348934350911,
            101.17889439841429,
            127.29844484711793,
            138.75457210763784
           ],
           "marker": {
            "color": "#636efa",
            "size": [
             1646992,
             269120,
             57591,
             36611,
             3890,
             36374,
             32462,
             243685,
             105520,
             87626,
             111424,
             97016,
             45238,
             0
            ],
            "sizemode": "area",
            "sizeref": 12246.6525,
            "symbol": "circle"
           },
           "mode": "markers",
           "name": "",
           "showlegend": false,
           "type": "scattergeo"
          }
         ],
         "name": "2020-03-01 00:00:00"
        },
        {
         "data": [
          {
           "geo": "geo",
           "hovertemplate": "<b>%{hovertext}</b><br><br>Periods=2020-04-01 00:00:00<br>value=%{marker.size}<br>lat=%{lat}<br>lon=%{lon}<extra></extra>",
           "hovertext": [
            "EU Countries",
            "Other Europe",
            "North Africa",
            "West Africa",
            "Central Africa",
            "East Africa",
            "South Africa",
            "North America",
            "Central America",
            "South America",
            "West Asia",
            "South East Asia",
            "North East Asia",
            "Oceania"
           ],
           "lat": [
            51.06817476731436,
            51.104656094663596,
            30.437364261879395,
            7.959928997986893,
            6.382857433441359,
            4.621142864680792,
            -21.36137412154011,
            39.10831477183257,
            14.055530777684297,
            -16.37707312732043,
            34.361920786534085,
            17.706181315873863,
            36.550432558533785,
            -23.58328814497935
           ],
           "legendgroup": "",
           "lon": [
            7.483156574929211,
            30.497434511924325,
            14.533600264930044,
            -5.73665308026392,
            25.274620301872687,
            45.742644027389815,
            22.937458352453206,
            -99.4877492264568,
            -86.12919315960363,
            -57.79900810912669,
            46.37348934350911,
            101.17889439841429,
            127.29844484711793,
            138.75457210763784
           ],
           "marker": {
            "color": "#636efa",
            "size": [
             63142,
             12280,
             641,
             266,
             139,
             271,
             1558,
             20466,
             4611,
             5022,
             6143,
             9379,
             9329,
             503
            ],
            "sizemode": "area",
            "sizeref": 12246.6525,
            "symbol": "circle"
           },
           "mode": "markers",
           "name": "",
           "showlegend": false,
           "type": "scattergeo"
          }
         ],
         "name": "2020-04-01 00:00:00"
        },
        {
         "data": [
          {
           "geo": "geo",
           "hovertemplate": "<b>%{hovertext}</b><br><br>Periods=2020-05-01 00:00:00<br>value=%{marker.size}<br>lat=%{lat}<br>lon=%{lon}<extra></extra>",
           "hovertext": [
            "EU Countries",
            "Other Europe",
            "North Africa",
            "West Africa",
            "Central Africa",
            "East Africa",
            "South Africa",
            "North America",
            "Central America",
            "South America",
            "West Asia",
            "South East Asia",
            "North East Asia",
            "Oceania"
           ],
           "lat": [
            51.06817476731436,
            51.104656094663596,
            30.437364261879395,
            7.959928997986893,
            6.382857433441359,
            4.621142864680792,
            -21.36137412154011,
            39.10831477183257,
            14.055530777684297,
            -16.37707312732043,
            34.361920786534085,
            17.706181315873863,
            36.550432558533785,
            -23.58328814497935
           ],
           "legendgroup": "",
           "lon": [
            7.483156574929211,
            30.497434511924325,
            14.533600264930044,
            -5.73665308026392,
            25.274620301872687,
            45.742644027389815,
            22.937458352453206,
            -99.4877492264568,
            -86.12919315960363,
            -57.79900810912669,
            46.37348934350911,
            101.17889439841429,
            127.29844484711793,
            138.75457210763784
           ],
           "marker": {
            "color": "#636efa",
            "size": [
             122816,
             21023,
             2230,
             442,
             99,
             275,
             695,
             27209,
             5892,
             8954,
             5066,
             11729,
             13690,
             0
            ],
            "sizemode": "area",
            "sizeref": 12246.6525,
            "symbol": "circle"
           },
           "mode": "markers",
           "name": "",
           "showlegend": false,
           "type": "scattergeo"
          }
         ],
         "name": "2020-05-01 00:00:00"
        },
        {
         "data": [
          {
           "geo": "geo",
           "hovertemplate": "<b>%{hovertext}</b><br><br>Periods=2020-06-01 00:00:00<br>value=%{marker.size}<br>lat=%{lat}<br>lon=%{lon}<extra></extra>",
           "hovertext": [
            "EU Countries",
            "Other Europe",
            "North Africa",
            "West Africa",
            "Central Africa",
            "East Africa",
            "South Africa",
            "North America",
            "Central America",
            "South America",
            "West Asia",
            "South East Asia",
            "North East Asia",
            "Oceania"
           ],
           "lat": [
            51.06817476731436,
            51.104656094663596,
            30.437364261879395,
            7.959928997986893,
            6.382857433441359,
            4.621142864680792,
            -21.36137412154011,
            39.10831477183257,
            14.055530777684297,
            -16.37707312732043,
            34.361920786534085,
            17.706181315873863,
            36.550432558533785,
            -23.58328814497935
           ],
           "legendgroup": "",
           "lon": [
            7.483156574929211,
            30.497434511924325,
            14.533600264930044,
            -5.73665308026392,
            25.274620301872687,
            45.742644027389815,
            22.937458352453206,
            -99.4877492264568,
            -86.12919315960363,
            -57.79900810912669,
            46.37348934350911,
            101.17889439841429,
            127.29844484711793,
            138.75457210763784
           ],
           "marker": {
            "color": "#636efa",
            "size": [
             321438,
             71936,
             1374,
             798,
             538,
             996,
             3834,
             52137,
             9162,
             13386,
             10856,
             21433,
             18654,
             0
            ],
            "sizemode": "area",
            "sizeref": 12246.6525,
            "symbol": "circle"
           },
           "mode": "markers",
           "name": "",
           "showlegend": false,
           "type": "scattergeo"
          }
         ],
         "name": "2020-06-01 00:00:00"
        },
        {
         "data": [
          {
           "geo": "geo",
           "hovertemplate": "<b>%{hovertext}</b><br><br>Periods=2020-07-01 00:00:00<br>value=%{marker.size}<br>lat=%{lat}<br>lon=%{lon}<extra></extra>",
           "hovertext": [
            "EU Countries",
            "Other Europe",
            "North Africa",
            "West Africa",
            "Central Africa",
            "East Africa",
            "South Africa",
            "North America",
            "Central America",
            "South America",
            "West Asia",
            "South East Asia",
            "North East Asia",
            "Oceania"
           ],
           "lat": [
            51.06817476731436,
            51.104656094663596,
            30.437364261879395,
            7.959928997986893,
            6.382857433441359,
            4.621142864680792,
            -21.36137412154011,
            39.10831477183257,
            14.055530777684297,
            -16.37707312732043,
            34.361920786534085,
            17.706181315873863,
            36.550432558533785,
            -23.58328814497935
           ],
           "legendgroup": "",
           "lon": [
            7.483156574929211,
            30.497434511924325,
            14.533600264930044,
            -5.73665308026392,
            25.274620301872687,
            45.742644027389815,
            22.937458352453206,
            -99.4877492264568,
            -86.12919315960363,
            -57.79900810912669,
            46.37348934350911,
            101.17889439841429,
            127.29844484711793,
            138.75457210763784
           ],
           "marker": {
            "color": "#636efa",
            "size": [
             1277703,
             188353,
             11255,
             1781,
             45,
             4425,
             4469,
             72435,
             37122,
             14651,
             26724,
             25566,
             25986,
             0
            ],
            "sizemode": "area",
            "sizeref": 12246.6525,
            "symbol": "circle"
           },
           "mode": "markers",
           "name": "",
           "showlegend": false,
           "type": "scattergeo"
          }
         ],
         "name": "2020-07-01 00:00:00"
        },
        {
         "data": [
          {
           "geo": "geo",
           "hovertemplate": "<b>%{hovertext}</b><br><br>Periods=2020-08-01 00:00:00<br>value=%{marker.size}<br>lat=%{lat}<br>lon=%{lon}<extra></extra>",
           "hovertext": [
            "EU Countries",
            "Other Europe",
            "North Africa",
            "West Africa",
            "Central Africa",
            "East Africa",
            "South Africa",
            "North America",
            "Central America",
            "South America",
            "West Asia",
            "South East Asia",
            "North East Asia",
            "Oceania"
           ],
           "lat": [
            51.06817476731436,
            51.104656094663596,
            30.437364261879395,
            7.959928997986893,
            6.382857433441359,
            4.621142864680792,
            -21.36137412154011,
            39.10831477183257,
            14.055530777684297,
            -16.37707312732043,
            34.361920786534085,
            17.706181315873863,
            36.550432558533785,
            -23.58328814497935
           ],
           "legendgroup": "",
           "lon": [
            7.483156574929211,
            30.497434511924325,
            14.533600264930044,
            -5.73665308026392,
            25.274620301872687,
            45.742644027389815,
            22.937458352453206,
            -99.4877492264568,
            -86.12919315960363,
            -57.79900810912669,
            46.37348934350911,
            101.17889439841429,
            127.29844484711793,
            138.75457210763784
           ],
           "marker": {
            "color": "#636efa",
            "size": [
             1740322,
             256334,
             7122,
             1573,
             1120,
             9960,
             4403,
             78145,
             49613,
             19278,
             27925,
             17882,
             29258,
             0
            ],
            "sizemode": "area",
            "sizeref": 12246.6525,
            "symbol": "circle"
           },
           "mode": "markers",
           "name": "",
           "showlegend": false,
           "type": "scattergeo"
          }
         ],
         "name": "2020-08-01 00:00:00"
        },
        {
         "data": [
          {
           "geo": "geo",
           "hovertemplate": "<b>%{hovertext}</b><br><br>Periods=2020-09-01 00:00:00<br>value=%{marker.size}<br>lat=%{lat}<br>lon=%{lon}<extra></extra>",
           "hovertext": [
            "EU Countries",
            "Other Europe",
            "North Africa",
            "West Africa",
            "Central Africa",
            "East Africa",
            "South Africa",
            "North America",
            "Central America",
            "South America",
            "West Asia",
            "South East Asia",
            "North East Asia",
            "Oceania"
           ],
           "lat": [
            51.06817476731436,
            51.104656094663596,
            30.437364261879395,
            7.959928997986893,
            6.382857433441359,
            4.621142864680792,
            -21.36137412154011,
            39.10831477183257,
            14.055530777684297,
            -16.37707312732043,
            34.361920786534085,
            17.706181315873863,
            36.550432558533785,
            -23.58328814497935
           ],
           "legendgroup": "",
           "lon": [
            7.483156574929211,
            30.497434511924325,
            14.533600264930044,
            -5.73665308026392,
            25.274620301872687,
            45.742644027389815,
            22.937458352453206,
            -99.4877492264568,
            -86.12919315960363,
            -57.79900810912669,
            46.37348934350911,
            101.17889439841429,
            127.29844484711793,
            138.75457210763784
           ],
           "marker": {
            "color": "#636efa",
            "size": [
             1137459,
             173871,
             10978,
             6958,
             1015,
             8720,
             2867,
             66307,
             44523,
             22064,
             24604,
             16689,
             31208,
             0
            ],
            "sizemode": "area",
            "sizeref": 12246.6525,
            "symbol": "circle"
           },
           "mode": "markers",
           "name": "",
           "showlegend": false,
           "type": "scattergeo"
          }
         ],
         "name": "2020-09-01 00:00:00"
        },
        {
         "data": [
          {
           "geo": "geo",
           "hovertemplate": "<b>%{hovertext}</b><br><br>Periods=2020-10-01 00:00:00<br>value=%{marker.size}<br>lat=%{lat}<br>lon=%{lon}<extra></extra>",
           "hovertext": [
            "EU Countries",
            "Other Europe",
            "North Africa",
            "West Africa",
            "Central Africa",
            "East Africa",
            "South Africa",
            "North America",
            "Central America",
            "South America",
            "West Asia",
            "South East Asia",
            "North East Asia",
            "Oceania"
           ],
           "lat": [
            51.06817476731436,
            51.104656094663596,
            30.437364261879395,
            7.959928997986893,
            6.382857433441359,
            4.621142864680792,
            -21.36137412154011,
            39.10831477183257,
            14.055530777684297,
            -16.37707312732043,
            34.361920786534085,
            17.706181315873863,
            36.550432558533785,
            -23.58328814497935
           ],
           "legendgroup": "",
           "lon": [
            7.483156574929211,
            30.497434511924325,
            14.533600264930044,
            -5.73665308026392,
            25.274620301872687,
            45.742644027389815,
            22.937458352453206,
            -99.4877492264568,
            -86.12919315960363,
            -57.79900810912669,
            46.37348934350911,
            101.17889439841429,
            127.29844484711793,
            138.75457210763784
           ],
           "marker": {
            "color": "#636efa",
            "size": [
             881277,
             150257,
             19330,
             8490,
             1366,
             13777,
             5783,
             66842,
             55488,
             24131,
             30709,
             17506,
             28167,
             0
            ],
            "sizemode": "area",
            "sizeref": 12246.6525,
            "symbol": "circle"
           },
           "mode": "markers",
           "name": "",
           "showlegend": false,
           "type": "scattergeo"
          }
         ],
         "name": "2020-10-01 00:00:00"
        },
        {
         "data": [
          {
           "geo": "geo",
           "hovertemplate": "<b>%{hovertext}</b><br><br>Periods=2020-11-01 00:00:00<br>value=%{marker.size}<br>lat=%{lat}<br>lon=%{lon}<extra></extra>",
           "hovertext": [
            "EU Countries",
            "Other Europe",
            "North Africa",
            "West Africa",
            "Central Africa",
            "East Africa",
            "South Africa",
            "North America",
            "Central America",
            "South America",
            "West Asia",
            "South East Asia",
            "North East Asia",
            "Oceania"
           ],
           "lat": [
            51.06817476731436,
            51.104656094663596,
            30.437364261879395,
            7.959928997986893,
            6.382857433441359,
            4.621142864680792,
            -21.36137412154011,
            39.10831477183257,
            14.055530777684297,
            -16.37707312732043,
            34.361920786534085,
            17.706181315873863,
            36.550432558533785,
            -23.58328814497935
           ],
           "legendgroup": "",
           "lon": [
            7.483156574929211,
            30.497434511924325,
            14.533600264930044,
            -5.73665308026392,
            25.274620301872687,
            45.742644027389815,
            22.937458352453206,
            -99.4877492264568,
            -86.12919315960363,
            -57.79900810912669,
            46.37348934350911,
            101.17889439841429,
            127.29844484711793,
            138.75457210763784
           ],
           "marker": {
            "color": "#636efa",
            "size": [
             562092,
             129297,
             15175,
             8603,
             1344,
             13427,
             8975,
             66435,
             62803,
             24797,
             29952,
             22493,
             19678,
             0
            ],
            "sizemode": "area",
            "sizeref": 12246.6525,
            "symbol": "circle"
           },
           "mode": "markers",
           "name": "",
           "showlegend": false,
           "type": "scattergeo"
          }
         ],
         "name": "2020-11-01 00:00:00"
        },
        {
         "data": [
          {
           "geo": "geo",
           "hovertemplate": "<b>%{hovertext}</b><br><br>Periods=2020-12-01 00:00:00<br>value=%{marker.size}<br>lat=%{lat}<br>lon=%{lon}<extra></extra>",
           "hovertext": [
            "EU Countries",
            "Other Europe",
            "North Africa",
            "West Africa",
            "Central Africa",
            "East Africa",
            "South Africa",
            "North America",
            "Central America",
            "South America",
            "West Asia",
            "South East Asia",
            "North East Asia",
            "Oceania"
           ],
           "lat": [
            51.06817476731436,
            51.104656094663596,
            30.437364261879395,
            7.959928997986893,
            6.382857433441359,
            4.621142864680792,
            -21.36137412154011,
            39.10831477183257,
            14.055530777684297,
            -16.37707312732043,
            34.361920786534085,
            17.706181315873863,
            36.550432558533785,
            -23.58328814497935
           ],
           "legendgroup": "",
           "lon": [
            7.483156574929211,
            30.497434511924325,
            14.533600264930044,
            -5.73665308026392,
            25.274620301872687,
            45.742644027389815,
            22.937458352453206,
            -99.4877492264568,
            -86.12919315960363,
            -57.79900810912669,
            46.37348934350911,
            101.17889439841429,
            127.29844484711793,
            138.75457210763784
           ],
           "marker": {
            "color": "#636efa",
            "size": [
             749994,
             154784,
             28640,
             15922,
             2209,
             20942,
             15784,
             103297,
             76657,
             47550,
             44781,
             25330,
             20127,
             0
            ],
            "sizemode": "area",
            "sizeref": 12246.6525,
            "symbol": "circle"
           },
           "mode": "markers",
           "name": "",
           "showlegend": false,
           "type": "scattergeo"
          }
         ],
         "name": "2020-12-01 00:00:00"
        },
        {
         "data": [
          {
           "geo": "geo",
           "hovertemplate": "<b>%{hovertext}</b><br><br>Periods=2021-01-01 00:00:00<br>value=%{marker.size}<br>lat=%{lat}<br>lon=%{lon}<extra></extra>",
           "hovertext": [
            "EU Countries",
            "Other Europe",
            "North Africa",
            "West Africa",
            "Central Africa",
            "East Africa",
            "South Africa",
            "North America",
            "Central America",
            "South America",
            "West Asia",
            "South East Asia",
            "North East Asia",
            "Oceania"
           ],
           "lat": [
            51.06817476731436,
            51.104656094663596,
            30.437364261879395,
            7.959928997986893,
            6.382857433441359,
            4.621142864680792,
            -21.36137412154011,
            39.10831477183257,
            14.055530777684297,
            -16.37707312732043,
            34.361920786534085,
            17.706181315873863,
            36.550432558533785,
            -23.58328814497935
           ],
           "legendgroup": "",
           "lon": [
            7.483156574929211,
            30.497434511924325,
            14.533600264930044,
            -5.73665308026392,
            25.274620301872687,
            45.742644027389815,
            22.937458352453206,
            -99.4877492264568,
            -86.12919315960363,
            -57.79900810912669,
            46.37348934350911,
            101.17889439841429,
            127.29844484711793,
            138.75457210763784
           ],
           "marker": {
            "color": "#636efa",
            "size": [
             430085,
             160590,
             20968,
             14618,
             1708,
             19003,
             10829,
             82135,
             58028,
             34301,
             37553,
             22350,
             17449,
             0
            ],
            "sizemode": "area",
            "sizeref": 12246.6525,
            "symbol": "circle"
           },
           "mode": "markers",
           "name": "",
           "showlegend": false,
           "type": "scattergeo"
          }
         ],
         "name": "2021-01-01 00:00:00"
        },
        {
         "data": [
          {
           "geo": "geo",
           "hovertemplate": "<b>%{hovertext}</b><br><br>Periods=2021-02-01 00:00:00<br>value=%{marker.size}<br>lat=%{lat}<br>lon=%{lon}<extra></extra>",
           "hovertext": [
            "EU Countries",
            "Other Europe",
            "North Africa",
            "West Africa",
            "Central Africa",
            "East Africa",
            "South Africa",
            "North America",
            "Central America",
            "South America",
            "West Asia",
            "South East Asia",
            "North East Asia",
            "Oceania"
           ],
           "lat": [
            51.06817476731436,
            51.104656094663596,
            30.437364261879395,
            7.959928997986893,
            6.382857433441359,
            4.621142864680792,
            -21.36137412154011,
            39.10831477183257,
            14.055530777684297,
            -16.37707312732043,
            34.361920786534085,
            17.706181315873863,
            36.550432558533785,
            -23.58328814497935
           ],
           "legendgroup": "",
           "lon": [
            7.483156574929211,
            30.497434511924325,
            14.533600264930044,
            -5.73665308026392,
            25.274620301872687,
            45.742644027389815,
            22.937458352453206,
            -99.4877492264568,
            -86.12919315960363,
            -57.79900810912669,
            46.37348934350911,
            101.17889439841429,
            127.29844484711793,
            138.75457210763784
           ],
           "marker": {
            "color": "#636efa",
            "size": [
             266187,
             72876,
             16326,
             6893,
             803,
             13061,
             2094,
             35111,
             41780,
             11451,
             24888,
             18262,
             10094,
             0
            ],
            "sizemode": "area",
            "sizeref": 12246.6525,
            "symbol": "circle"
           },
           "mode": "markers",
           "name": "",
           "showlegend": false,
           "type": "scattergeo"
          }
         ],
         "name": "2021-02-01 00:00:00"
        },
        {
         "data": [
          {
           "geo": "geo",
           "hovertemplate": "<b>%{hovertext}</b><br><br>Periods=2021-03-01 00:00:00<br>value=%{marker.size}<br>lat=%{lat}<br>lon=%{lon}<extra></extra>",
           "hovertext": [
            "EU Countries",
            "Other Europe",
            "North Africa",
            "West Africa",
            "Central Africa",
            "East Africa",
            "South Africa",
            "North America",
            "Central America",
            "South America",
            "West Asia",
            "South East Asia",
            "North East Asia",
            "Oceania"
           ],
           "lat": [
            51.06817476731436,
            51.104656094663596,
            30.437364261879395,
            7.959928997986893,
            6.382857433441359,
            4.621142864680792,
            -21.36137412154011,
            39.10831477183257,
            14.055530777684297,
            -16.37707312732043,
            34.361920786534085,
            17.706181315873863,
            36.550432558533785,
            -23.58328814497935
           ],
           "legendgroup": "",
           "lon": [
            7.483156574929211,
            30.497434511924325,
            14.533600264930044,
            -5.73665308026392,
            25.274620301872687,
            45.742644027389815,
            22.937458352453206,
            -99.4877492264568,
            -86.12919315960363,
            -57.79900810912669,
            46.37348934350911,
            101.17889439841429,
            127.29844484711793,
            138.75457210763784
           ],
           "marker": {
            "color": "#636efa",
            "size": [
             333551,
             113875,
             4694,
             11017,
             1379,
             14671,
             4873,
             48381,
             53803,
             21523,
             31593,
             22014,
             15273,
             0
            ],
            "sizemode": "area",
            "sizeref": 12246.6525,
            "symbol": "circle"
           },
           "mode": "markers",
           "name": "",
           "showlegend": false,
           "type": "scattergeo"
          }
         ],
         "name": "2021-03-01 00:00:00"
        },
        {
         "data": [
          {
           "geo": "geo",
           "hovertemplate": "<b>%{hovertext}</b><br><br>Periods=2021-04-01 00:00:00<br>value=%{marker.size}<br>lat=%{lat}<br>lon=%{lon}<extra></extra>",
           "hovertext": [
            "EU Countries",
            "Other Europe",
            "North Africa",
            "West Africa",
            "Central Africa",
            "East Africa",
            "South Africa",
            "North America",
            "Central America",
            "South America",
            "West Asia",
            "South East Asia",
            "North East Asia",
            "Oceania"
           ],
           "lat": [
            51.06817476731436,
            51.104656094663596,
            30.437364261879395,
            7.959928997986893,
            6.382857433441359,
            4.621142864680792,
            -21.36137412154011,
            39.10831477183257,
            14.055530777684297,
            -16.37707312732043,
            34.361920786534085,
            17.706181315873863,
            36.550432558533785,
            -23.58328814497935
           ],
           "legendgroup": "",
           "lon": [
            7.483156574929211,
            30.497434511924325,
            14.533600264930044,
            -5.73665308026392,
            25.274620301872687,
            45.742644027389815,
            22.937458352453206,
            -99.4877492264568,
            -86.12919315960363,
            -57.79900810912669,
            46.37348934350911,
            101.17889439841429,
            127.29844484711793,
            138.75457210763784
           ],
           "marker": {
            "color": "#636efa",
            "size": [
             408988,
             158363,
             5635,
             14411,
             1588,
             14769,
             6386,
             59973,
             41933,
             26387,
             38019,
             21444,
             19979,
             0
            ],
            "sizemode": "area",
            "sizeref": 12246.6525,
            "symbol": "circle"
           },
           "mode": "markers",
           "name": "",
           "showlegend": false,
           "type": "scattergeo"
          }
         ],
         "name": "2021-04-01 00:00:00"
        },
        {
         "data": [
          {
           "geo": "geo",
           "hovertemplate": "<b>%{hovertext}</b><br><br>Periods=2021-05-01 00:00:00<br>value=%{marker.size}<br>lat=%{lat}<br>lon=%{lon}<extra></extra>",
           "hovertext": [
            "EU Countries",
            "Other Europe",
            "North Africa",
            "West Africa",
            "Central Africa",
            "East Africa",
            "South Africa",
            "North America",
            "Central America",
            "South America",
            "West Asia",
            "South East Asia",
            "North East Asia",
            "Oceania"
           ],
           "lat": [
            51.06817476731436,
            51.104656094663596,
            30.437364261879395,
            7.959928997986893,
            6.382857433441359,
            4.621142864680792,
            -21.36137412154011,
            39.10831477183257,
            14.055530777684297,
            -16.37707312732043,
            34.361920786534085,
            17.706181315873863,
            36.550432558533785,
            -23.58328814497935
           ],
           "legendgroup": "",
           "lon": [
            7.483156574929211,
            30.497434511924325,
            14.533600264930044,
            -5.73665308026392,
            25.274620301872687,
            45.742644027389815,
            22.937458352453206,
            -99.4877492264568,
            -86.12919315960363,
            -57.79900810912669,
            46.37348934350911,
            101.17889439841429,
            127.29844484711793,
            138.75457210763784
           ],
           "marker": {
            "color": "#636efa",
            "size": [
             664559,
             202947,
             5975,
             14652,
             2419,
             18154,
             8558,
             90218,
             54549,
             24273,
             40750,
             21106,
             21512,
             0
            ],
            "sizemode": "area",
            "sizeref": 12246.6525,
            "symbol": "circle"
           },
           "mode": "markers",
           "name": "",
           "showlegend": false,
           "type": "scattergeo"
          }
         ],
         "name": "2021-05-01 00:00:00"
        },
        {
         "data": [
          {
           "geo": "geo",
           "hovertemplate": "<b>%{hovertext}</b><br><br>Periods=2021-06-01 00:00:00<br>value=%{marker.size}<br>lat=%{lat}<br>lon=%{lon}<extra></extra>",
           "hovertext": [
            "EU Countries",
            "Other Europe",
            "North Africa",
            "West Africa",
            "Central Africa",
            "East Africa",
            "South Africa",
            "North America",
            "Central America",
            "South America",
            "West Asia",
            "South East Asia",
            "North East Asia",
            "Oceania"
           ],
           "lat": [
            51.06817476731436,
            51.104656094663596,
            30.437364261879395,
            7.959928997986893,
            6.382857433441359,
            4.621142864680792,
            -21.36137412154011,
            39.10831477183257,
            14.055530777684297,
            -16.37707312732043,
            34.361920786534085,
            17.706181315873863,
            36.550432558533785,
            -23.58328814497935
           ],
           "legendgroup": "",
           "lon": [
            7.483156574929211,
            30.497434511924325,
            14.533600264930044,
            -5.73665308026392,
            25.274620301872687,
            45.742644027389815,
            22.937458352453206,
            -99.4877492264568,
            -86.12919315960363,
            -57.79900810912669,
            46.37348934350911,
            101.17889439841429,
            127.29844484711793,
            138.75457210763784
           ],
           "marker": {
            "color": "#636efa",
            "size": [
             1139237,
             274176,
             30695,
             17492,
             2947,
             24768,
             11287,
             152456,
             80783,
             36400,
             47623,
             26362,
             26104,
             0
            ],
            "sizemode": "area",
            "sizeref": 12246.6525,
            "symbol": "circle"
           },
           "mode": "markers",
           "name": "",
           "showlegend": false,
           "type": "scattergeo"
          }
         ],
         "name": "2021-06-01 00:00:00"
        },
        {
         "data": [
          {
           "geo": "geo",
           "hovertemplate": "<b>%{hovertext}</b><br><br>Periods=2021-07-01 00:00:00<br>value=%{marker.size}<br>lat=%{lat}<br>lon=%{lon}<extra></extra>",
           "hovertext": [
            "EU Countries",
            "Other Europe",
            "North Africa",
            "West Africa",
            "Central Africa",
            "East Africa",
            "South Africa",
            "North America",
            "Central America",
            "South America",
            "West Asia",
            "South East Asia",
            "North East Asia",
            "Oceania"
           ],
           "lat": [
            51.06817476731436,
            51.104656094663596,
            30.437364261879395,
            7.959928997986893,
            6.382857433441359,
            4.621142864680792,
            -21.36137412154011,
            39.10831477183257,
            14.055530777684297,
            -16.37707312732043,
            34.361920786534085,
            17.706181315873863,
            36.550432558533785,
            -23.58328814497935
           ],
           "legendgroup": "",
           "lon": [
            7.483156574929211,
            30.497434511924325,
            14.533600264930044,
            -5.73665308026392,
            25.274620301872687,
            45.742644027389815,
            22.937458352453206,
            -99.4877492264568,
            -86.12919315960363,
            -57.79900810912669,
            46.37348934350911,
            101.17889439841429,
            127.29844484711793,
            138.75457210763784
           ],
           "marker": {
            "color": "#636efa",
            "size": [
             2231922,
             525801,
             97060,
             23884,
             3148,
             33409,
             11826,
             250840,
             140466,
             51248,
             82938,
             31657,
             30958,
             0
            ],
            "sizemode": "area",
            "sizeref": 12246.6525,
            "symbol": "circle"
           },
           "mode": "markers",
           "name": "",
           "showlegend": false,
           "type": "scattergeo"
          }
         ],
         "name": "2021-07-01 00:00:00"
        },
        {
         "data": [
          {
           "geo": "geo",
           "hovertemplate": "<b>%{hovertext}</b><br><br>Periods=2021-08-01 00:00:00<br>value=%{marker.size}<br>lat=%{lat}<br>lon=%{lon}<extra></extra>",
           "hovertext": [
            "EU Countries",
            "Other Europe",
            "North Africa",
            "West Africa",
            "Central Africa",
            "East Africa",
            "South Africa",
            "North America",
            "Central America",
            "South America",
            "West Asia",
            "South East Asia",
            "North East Asia",
            "Oceania"
           ],
           "lat": [
            51.06817476731436,
            51.104656094663596,
            30.437364261879395,
            7.959928997986893,
            6.382857433441359,
            4.621142864680792,
            -21.36137412154011,
            39.10831477183257,
            14.055530777684297,
            -16.37707312732043,
            34.361920786534085,
            17.706181315873863,
            36.550432558533785,
            -23.58328814497935
           ],
           "legendgroup": "",
           "lon": [
            7.483156574929211,
            30.497434511924325,
            14.533600264930044,
            -5.73665308026392,
            25.274620301872687,
            45.742644027389815,
            22.937458352453206,
            -99.4877492264568,
            -86.12919315960363,
            -57.79900810912669,
            46.37348934350911,
            101.17889439841429,
            127.29844484711793,
            138.75457210763784
           ],
           "marker": {
            "color": "#636efa",
            "size": [
             2901482,
             692107,
             118964,
             23520,
             3328,
             36716,
             12219,
             301725,
             154481,
             65848,
             99406,
             33806,
             35578,
             0
            ],
            "sizemode": "area",
            "sizeref": 12246.6525,
            "symbol": "circle"
           },
           "mode": "markers",
           "name": "",
           "showlegend": false,
           "type": "scattergeo"
          }
         ],
         "name": "2021-08-01 00:00:00"
        },
        {
         "data": [
          {
           "geo": "geo",
           "hovertemplate": "<b>%{hovertext}</b><br><br>Periods=2021-09-01 00:00:00<br>value=%{marker.size}<br>lat=%{lat}<br>lon=%{lon}<extra></extra>",
           "hovertext": [
            "EU Countries",
            "Other Europe",
            "North Africa",
            "West Africa",
            "Central Africa",
            "East Africa",
            "South Africa",
            "North America",
            "Central America",
            "South America",
            "West Asia",
            "South East Asia",
            "North East Asia",
            "Oceania"
           ],
           "lat": [
            51.06817476731436,
            51.104656094663596,
            30.437364261879395,
            7.959928997986893,
            6.382857433441359,
            4.621142864680792,
            -21.36137412154011,
            39.10831477183257,
            14.055530777684297,
            -16.37707312732043,
            34.361920786534085,
            17.706181315873863,
            36.550432558533785,
            -23.58328814497935
           ],
           "legendgroup": "",
           "lon": [
            7.483156574929211,
            30.497434511924325,
            14.533600264930044,
            -5.73665308026392,
            25.274620301872687,
            45.742644027389815,
            22.937458352453206,
            -99.4877492264568,
            -86.12919315960363,
            -57.79900810912669,
            46.37348934350911,
            101.17889439841429,
            127.29844484711793,
            138.75457210763784
           ],
           "marker": {
            "color": "#636efa",
            "size": [
             2670367,
             628565,
             65690,
             23202,
             3005,
             34362,
             13373,
             241557,
             120547,
             73614,
             75552,
             30401,
             33241,
             0
            ],
            "sizemode": "area",
            "sizeref": 12246.6525,
            "symbol": "circle"
           },
           "mode": "markers",
           "name": "",
           "showlegend": false,
           "type": "scattergeo"
          }
         ],
         "name": "2021-09-01 00:00:00"
        },
        {
         "data": [
          {
           "geo": "geo",
           "hovertemplate": "<b>%{hovertext}</b><br><br>Periods=2021-10-01 00:00:00<br>value=%{marker.size}<br>lat=%{lat}<br>lon=%{lon}<extra></extra>",
           "hovertext": [
            "EU Countries",
            "Other Europe",
            "North Africa",
            "West Africa",
            "Central Africa",
            "East Africa",
            "South Africa",
            "North America",
            "Central America",
            "South America",
            "West Asia",
            "South East Asia",
            "North East Asia",
            "Oceania"
           ],
           "lat": [
            51.06817476731436,
            51.104656094663596,
            30.437364261879395,
            7.959928997986893,
            6.382857433441359,
            4.621142864680792,
            -21.36137412154011,
            39.10831477183257,
            14.055530777684297,
            -16.37707312732043,
            34.361920786534085,
            17.706181315873863,
            36.550432558533785,
            -23.58328814497935
           ],
           "legendgroup": "",
           "lon": [
            7.483156574929211,
            30.497434511924325,
            14.533600264930044,
            -5.73665308026392,
            25.274620301872687,
            45.742644027389815,
            22.937458352453206,
            -99.4877492264568,
            -86.12919315960363,
            -57.79900810912669,
            46.37348934350911,
            101.17889439841429,
            127.29844484711793,
            138.75457210763784
           ],
           "marker": {
            "color": "#636efa",
            "size": [
             2798991,
             814192,
             47456,
             25769,
             3376,
             37549,
             20086,
             234122,
             148366,
             92675,
             104291,
             37117,
             31955,
             0
            ],
            "sizemode": "area",
            "sizeref": 12246.6525,
            "symbol": "circle"
           },
           "mode": "markers",
           "name": "",
           "showlegend": false,
           "type": "scattergeo"
          }
         ],
         "name": "2021-10-01 00:00:00"
        },
        {
         "data": [
          {
           "geo": "geo",
           "hovertemplate": "<b>%{hovertext}</b><br><br>Periods=2021-11-01 00:00:00<br>value=%{marker.size}<br>lat=%{lat}<br>lon=%{lon}<extra></extra>",
           "hovertext": [
            "EU Countries",
            "Other Europe",
            "North Africa",
            "West Africa",
            "Central Africa",
            "East Africa",
            "South Africa",
            "North America",
            "Central America",
            "South America",
            "West Asia",
            "South East Asia",
            "North East Asia",
            "Oceania"
           ],
           "lat": [
            51.06817476731436,
            51.104656094663596,
            30.437364261879395,
            7.959928997986893,
            6.382857433441359,
            4.621142864680792,
            -21.36137412154011,
            39.10831477183257,
            14.055530777684297,
            -16.37707312732043,
            34.361920786534085,
            17.706181315873863,
            36.550432558533785,
            -23.58328814497935
           ],
           "legendgroup": "",
           "lon": [
            7.483156574929211,
            30.497434511924325,
            14.533600264930044,
            -5.73665308026392,
            25.274620301872687,
            45.742644027389815,
            22.937458352453206,
            -99.4877492264568,
            -86.12919315960363,
            -57.79900810912669,
            46.37348934350911,
            101.17889439841429,
            127.29844484711793,
            138.75457210763784
           ],
           "marker": {
            "color": "#636efa",
            "size": [
             1947510,
             722632,
             18377,
             32834,
             3721,
             37766,
             24438,
             254593,
             164111,
             100082,
             112633,
             47219,
             27024,
             0
            ],
            "sizemode": "area",
            "sizeref": 12246.6525,
            "symbol": "circle"
           },
           "mode": "markers",
           "name": "",
           "showlegend": false,
           "type": "scattergeo"
          }
         ],
         "name": "2021-11-01 00:00:00"
        },
        {
         "data": [
          {
           "geo": "geo",
           "hovertemplate": "<b>%{hovertext}</b><br><br>Periods=2021-12-01 00:00:00<br>value=%{marker.size}<br>lat=%{lat}<br>lon=%{lon}<extra></extra>",
           "hovertext": [
            "EU Countries",
            "Other Europe",
            "North Africa",
            "West Africa",
            "Central Africa",
            "East Africa",
            "South Africa",
            "North America",
            "Central America",
            "South America",
            "West Asia",
            "South East Asia",
            "North East Asia",
            "Oceania"
           ],
           "lat": [
            51.06817476731436,
            51.104656094663596,
            30.437364261879395,
            7.959928997986893,
            6.382857433441359,
            4.621142864680792,
            -21.36137412154011,
            39.10831477183257,
            14.055530777684297,
            -16.37707312732043,
            34.361920786534085,
            17.706181315873863,
            36.550432558533785,
            -23.58328814497935
           ],
           "legendgroup": "",
           "lon": [
            7.483156574929211,
            30.497434511924325,
            14.533600264930044,
            -5.73665308026392,
            25.274620301872687,
            45.742644027389815,
            22.937458352453206,
            -99.4877492264568,
            -86.12919315960363,
            -57.79900810912669,
            46.37348934350911,
            101.17889439841429,
            127.29844484711793,
            138.75457210763784
           ],
           "marker": {
            "color": "#636efa",
            "size": [
             1685840,
             591746,
             22474,
             38592,
             3520,
             37607,
             20698,
             310974,
             177547,
             104703,
             128503,
             60260,
             26397,
             0
            ],
            "sizemode": "area",
            "sizeref": 12246.6525,
            "symbol": "circle"
           },
           "mode": "markers",
           "name": "",
           "showlegend": false,
           "type": "scattergeo"
          }
         ],
         "name": "2021-12-01 00:00:00"
        },
        {
         "data": [
          {
           "geo": "geo",
           "hovertemplate": "<b>%{hovertext}</b><br><br>Periods=2022-01-01 00:00:00<br>value=%{marker.size}<br>lat=%{lat}<br>lon=%{lon}<extra></extra>",
           "hovertext": [
            "EU Countries",
            "Other Europe",
            "North Africa",
            "West Africa",
            "Central Africa",
            "East Africa",
            "South Africa",
            "North America",
            "Central America",
            "South America",
            "West Asia",
            "South East Asia",
            "North East Asia",
            "Oceania"
           ],
           "lat": [
            51.06817476731436,
            51.104656094663596,
            30.437364261879395,
            7.959928997986893,
            6.382857433441359,
            4.621142864680792,
            -21.36137412154011,
            39.10831477183257,
            14.055530777684297,
            -16.37707312732043,
            34.361920786534085,
            17.706181315873863,
            36.550432558533785,
            -23.58328814497935
           ],
           "legendgroup": "",
           "lon": [
            7.483156574929211,
            30.497434511924325,
            14.533600264930044,
            -5.73665308026392,
            25.274620301872687,
            45.742644027389815,
            22.937458352453206,
            -99.4877492264568,
            -86.12919315960363,
            -57.79900810912669,
            46.37348934350911,
            101.17889439841429,
            127.29844484711793,
            138.75457210763784
           ],
           "marker": {
            "color": "#636efa",
            "size": [
             1487892,
             520336,
             19715,
             36233,
             2778,
             40535,
             24318,
             234824,
             182605,
             104725,
             101785,
             53922,
             21930,
             0
            ],
            "sizemode": "area",
            "sizeref": 12246.6525,
            "symbol": "circle"
           },
           "mode": "markers",
           "name": "",
           "showlegend": false,
           "type": "scattergeo"
          }
         ],
         "name": "2022-01-01 00:00:00"
        },
        {
         "data": [
          {
           "geo": "geo",
           "hovertemplate": "<b>%{hovertext}</b><br><br>Periods=2022-02-01 00:00:00<br>value=%{marker.size}<br>lat=%{lat}<br>lon=%{lon}<extra></extra>",
           "hovertext": [
            "EU Countries",
            "Other Europe",
            "North Africa",
            "West Africa",
            "Central Africa",
            "East Africa",
            "South Africa",
            "North America",
            "Central America",
            "South America",
            "West Asia",
            "South East Asia",
            "North East Asia",
            "Oceania"
           ],
           "lat": [
            51.06817476731436,
            51.104656094663596,
            30.437364261879395,
            7.959928997986893,
            6.382857433441359,
            4.621142864680792,
            -21.36137412154011,
            39.10831477183257,
            14.055530777684297,
            -16.37707312732043,
            34.361920786534085,
            17.706181315873863,
            36.550432558533785,
            -23.58328814497935
           ],
           "legendgroup": "",
           "lon": [
            7.483156574929211,
            30.497434511924325,
            14.533600264930044,
            -5.73665308026392,
            25.274620301872687,
            45.742644027389815,
            22.937458352453206,
            -99.4877492264568,
            -86.12919315960363,
            -57.79900810912669,
            46.37348934350911,
            101.17889439841429,
            127.29844484711793,
            138.75457210763784
           ],
           "marker": {
            "color": "#636efa",
            "size": [
             1670142,
             609765,
             33536,
             28639,
             2459,
             34753,
             25396,
             191060,
             161686,
             102667,
             112655,
             50494,
             16940,
             0
            ],
            "sizemode": "area",
            "sizeref": 12246.6525,
            "symbol": "circle"
           },
           "mode": "markers",
           "name": "",
           "showlegend": false,
           "type": "scattergeo"
          }
         ],
         "name": "2022-02-01 00:00:00"
        },
        {
         "data": [
          {
           "geo": "geo",
           "hovertemplate": "<b>%{hovertext}</b><br><br>Periods=2022-03-01 00:00:00<br>value=%{marker.size}<br>lat=%{lat}<br>lon=%{lon}<extra></extra>",
           "hovertext": [
            "EU Countries",
            "Other Europe",
            "North Africa",
            "West Africa",
            "Central Africa",
            "East Africa",
            "South Africa",
            "North America",
            "Central America",
            "South America",
            "West Asia",
            "South East Asia",
            "North East Asia",
            "Oceania"
           ],
           "lat": [
            51.06817476731436,
            51.104656094663596,
            30.437364261879395,
            7.959928997986893,
            6.382857433441359,
            4.621142864680792,
            -21.36137412154011,
            39.10831477183257,
            14.055530777684297,
            -16.37707312732043,
            34.361920786534085,
            17.706181315873863,
            36.550432558533785,
            -23.58328814497935
           ],
           "legendgroup": "",
           "lon": [
            7.483156574929211,
            30.497434511924325,
            14.533600264930044,
            -5.73665308026392,
            25.274620301872687,
            45.742644027389815,
            22.937458352453206,
            -99.4877492264568,
            -86.12919315960363,
            -57.79900810912669,
            46.37348934350911,
            101.17889439841429,
            127.29844484711793,
            138.75457210763784
           ],
           "marker": {
            "color": "#636efa",
            "size": [
             2309343,
             893966,
             54430,
             34555,
             3163,
             38337,
             33066,
             333806,
             178404,
             120739,
             156282,
             68398,
             17172,
             0
            ],
            "sizemode": "area",
            "sizeref": 12246.6525,
            "symbol": "circle"
           },
           "mode": "markers",
           "name": "",
           "showlegend": false,
           "type": "scattergeo"
          }
         ],
         "name": "2022-03-01 00:00:00"
        },
        {
         "data": [
          {
           "geo": "geo",
           "hovertemplate": "<b>%{hovertext}</b><br><br>Periods=2022-04-01 00:00:00<br>value=%{marker.size}<br>lat=%{lat}<br>lon=%{lon}<extra></extra>",
           "hovertext": [
            "EU Countries",
            "Other Europe",
            "North Africa",
            "West Africa",
            "Central Africa",
            "East Africa",
            "South Africa",
            "North America",
            "Central America",
            "South America",
            "West Asia",
            "South East Asia",
            "North East Asia",
            "Oceania"
           ],
           "lat": [
            51.06817476731436,
            51.104656094663596,
            30.437364261879395,
            7.959928997986893,
            6.382857433441359,
            4.621142864680792,
            -21.36137412154011,
            39.10831477183257,
            14.055530777684297,
            -16.37707312732043,
            34.361920786534085,
            17.706181315873863,
            36.550432558533785,
            -23.58328814497935
           ],
           "legendgroup": "",
           "lon": [
            7.483156574929211,
            30.497434511924325,
            14.533600264930044,
            -5.73665308026392,
            25.274620301872687,
            45.742644027389815,
            22.937458352453206,
            -99.4877492264568,
            -86.12919315960363,
            -57.79900810912669,
            46.37348934350911,
            101.17889439841429,
            127.29844484711793,
            138.75457210763784
           ],
           "marker": {
            "color": "#636efa",
            "size": [
             2831221,
             1112983,
             51206,
             40773,
             3116,
             39827,
             38824,
             480907,
             156643,
             129129,
             154179,
             79609,
             21855,
             0
            ],
            "sizemode": "area",
            "sizeref": 12246.6525,
            "symbol": "circle"
           },
           "mode": "markers",
           "name": "",
           "showlegend": false,
           "type": "scattergeo"
          }
         ],
         "name": "2022-04-01 00:00:00"
        },
        {
         "data": [
          {
           "geo": "geo",
           "hovertemplate": "<b>%{hovertext}</b><br><br>Periods=2022-05-01 00:00:00<br>value=%{marker.size}<br>lat=%{lat}<br>lon=%{lon}<extra></extra>",
           "hovertext": [
            "EU Countries",
            "Other Europe",
            "North Africa",
            "West Africa",
            "Central Africa",
            "East Africa",
            "South Africa",
            "North America",
            "Central America",
            "South America",
            "West Asia",
            "South East Asia",
            "North East Asia",
            "Oceania"
           ],
           "lat": [
            51.06817476731436,
            51.104656094663596,
            30.437364261879395,
            7.959928997986893,
            6.382857433441359,
            4.621142864680792,
            -21.36137412154011,
            39.10831477183257,
            14.055530777684297,
            -16.37707312732043,
            34.361920786534085,
            17.706181315873863,
            36.550432558533785,
            -23.58328814497935
           ],
           "legendgroup": "",
           "lon": [
            7.483156574929211,
            30.497434511924325,
            14.533600264930044,
            -5.73665308026392,
            25.274620301872687,
            45.742644027389815,
            22.937458352453206,
            -99.4877492264568,
            -86.12919315960363,
            -57.79900810912669,
            46.37348934350911,
            101.17889439841429,
            127.29844484711793,
            138.75457210763784
           ],
           "marker": {
            "color": "#636efa",
            "size": [
             3435213,
             1304768,
             75776,
             37188,
             4939,
             41689,
             34399,
             580889,
             150821,
             130193,
             167706,
             101792,
             25820,
             0
            ],
            "sizemode": "area",
            "sizeref": 12246.6525,
            "symbol": "circle"
           },
           "mode": "markers",
           "name": "",
           "showlegend": false,
           "type": "scattergeo"
          }
         ],
         "name": "2022-05-01 00:00:00"
        },
        {
         "data": [
          {
           "geo": "geo",
           "hovertemplate": "<b>%{hovertext}</b><br><br>Periods=2022-06-01 00:00:00<br>value=%{marker.size}<br>lat=%{lat}<br>lon=%{lon}<extra></extra>",
           "hovertext": [
            "EU Countries",
            "Other Europe",
            "North Africa",
            "West Africa",
            "Central Africa",
            "East Africa",
            "South Africa",
            "North America",
            "Central America",
            "South America",
            "West Asia",
            "South East Asia",
            "North East Asia",
            "Oceania"
           ],
           "lat": [
            51.06817476731436,
            51.104656094663596,
            30.437364261879395,
            7.959928997986893,
            6.382857433441359,
            4.621142864680792,
            -21.36137412154011,
            39.10831477183257,
            14.055530777684297,
            -16.37707312732043,
            34.361920786534085,
            17.706181315873863,
            36.550432558533785,
            -23.58328814497935
           ],
           "legendgroup": "",
           "lon": [
            7.483156574929211,
            30.497434511924325,
            14.533600264930044,
            -5.73665308026392,
            25.274620301872687,
            45.742644027389815,
            22.937458352453206,
            -99.4877492264568,
            -86.12919315960363,
            -57.79900810912669,
            46.37348934350911,
            101.17889439841429,
            127.29844484711793,
            138.75457210763784
           ],
           "marker": {
            "color": "#636efa",
            "size": [
             3373713,
             1290068,
             82080,
             41361,
             5125,
             47889,
             34755,
             676303,
             137808,
             124119,
             164309,
             112717,
             27823,
             0
            ],
            "sizemode": "area",
            "sizeref": 12246.6525,
            "symbol": "circle"
           },
           "mode": "markers",
           "name": "",
           "showlegend": false,
           "type": "scattergeo"
          }
         ],
         "name": "2022-06-01 00:00:00"
        },
        {
         "data": [
          {
           "geo": "geo",
           "hovertemplate": "<b>%{hovertext}</b><br><br>Periods=2022-07-01 00:00:00<br>value=%{marker.size}<br>lat=%{lat}<br>lon=%{lon}<extra></extra>",
           "hovertext": [
            "EU Countries",
            "Other Europe",
            "North Africa",
            "West Africa",
            "Central Africa",
            "East Africa",
            "South Africa",
            "North America",
            "Central America",
            "South America",
            "West Asia",
            "South East Asia",
            "North East Asia",
            "Oceania"
           ],
           "lat": [
            51.06817476731436,
            51.104656094663596,
            30.437364261879395,
            7.959928997986893,
            6.382857433441359,
            4.621142864680792,
            -21.36137412154011,
            39.10831477183257,
            14.055530777684297,
            -16.37707312732043,
            34.361920786534085,
            17.706181315873863,
            36.550432558533785,
            -23.58328814497935
           ],
           "legendgroup": "",
           "lon": [
            7.483156574929211,
            30.497434511924325,
            14.533600264930044,
            -5.73665308026392,
            25.274620301872687,
            45.742644027389815,
            22.937458352453206,
            -99.4877492264568,
            -86.12919315960363,
            -57.79900810912669,
            46.37348934350911,
            101.17889439841429,
            127.29844484711793,
            138.75457210763784
           ],
           "marker": {
            "color": "#636efa",
            "size": [
             3335514,
             1261883,
             107802,
             43331,
             6446,
             56975,
             41056,
             691674,
             172520,
             135158,
             197339,
             125850,
             36383,
             0
            ],
            "sizemode": "area",
            "sizeref": 12246.6525,
            "symbol": "circle"
           },
           "mode": "markers",
           "name": "",
           "showlegend": false,
           "type": "scattergeo"
          }
         ],
         "name": "2022-07-01 00:00:00"
        },
        {
         "data": [
          {
           "geo": "geo",
           "hovertemplate": "<b>%{hovertext}</b><br><br>Periods=2022-08-01 00:00:00<br>value=%{marker.size}<br>lat=%{lat}<br>lon=%{lon}<extra></extra>",
           "hovertext": [
            "EU Countries",
            "Other Europe",
            "North Africa",
            "West Africa",
            "Central Africa",
            "East Africa",
            "South Africa",
            "North America",
            "Central America",
            "South America",
            "West Asia",
            "South East Asia",
            "North East Asia",
            "Oceania"
           ],
           "lat": [
            51.06817476731436,
            51.104656094663596,
            30.437364261879395,
            7.959928997986893,
            6.382857433441359,
            4.621142864680792,
            -21.36137412154011,
            39.10831477183257,
            14.055530777684297,
            -16.37707312732043,
            34.361920786534085,
            17.706181315873863,
            36.550432558533785,
            -23.58328814497935
           ],
           "legendgroup": "",
           "lon": [
            7.483156574929211,
            30.497434511924325,
            14.533600264930044,
            -5.73665308026392,
            25.274620301872687,
            45.742644027389815,
            22.937458352453206,
            -99.4877492264568,
            -86.12919315960363,
            -57.79900810912669,
            46.37348934350911,
            101.17889439841429,
            127.29844484711793,
            138.75457210763784
           ],
           "marker": {
            "color": "#636efa",
            "size": [
             3429215,
             1317073,
             123202,
             45443,
             5824,
             60025,
             41291,
             682302,
             169522,
             136211,
             207584,
             121306,
             39968,
             0
            ],
            "sizemode": "area",
            "sizeref": 12246.6525,
            "symbol": "circle"
           },
           "mode": "markers",
           "name": "",
           "showlegend": false,
           "type": "scattergeo"
          }
         ],
         "name": "2022-08-01 00:00:00"
        },
        {
         "data": [
          {
           "geo": "geo",
           "hovertemplate": "<b>%{hovertext}</b><br><br>Periods=2022-09-01 00:00:00<br>value=%{marker.size}<br>lat=%{lat}<br>lon=%{lon}<extra></extra>",
           "hovertext": [
            "EU Countries",
            "Other Europe",
            "North Africa",
            "West Africa",
            "Central Africa",
            "East Africa",
            "South Africa",
            "North America",
            "Central America",
            "South America",
            "West Asia",
            "South East Asia",
            "North East Asia",
            "Oceania"
           ],
           "lat": [
            51.06817476731436,
            51.104656094663596,
            30.437364261879395,
            7.959928997986893,
            6.382857433441359,
            4.621142864680792,
            -21.36137412154011,
            39.10831477183257,
            14.055530777684297,
            -16.37707312732043,
            34.361920786534085,
            17.706181315873863,
            36.550432558533785,
            -23.58328814497935
           ],
           "legendgroup": "",
           "lon": [
            7.483156574929211,
            30.497434511924325,
            14.533600264930044,
            -5.73665308026392,
            25.274620301872687,
            45.742644027389815,
            22.937458352453206,
            -99.4877492264568,
            -86.12919315960363,
            -57.79900810912669,
            46.37348934350911,
            101.17889439841429,
            127.29844484711793,
            138.75457210763784
           ],
           "marker": {
            "color": "#636efa",
            "size": [
             3297146,
             1289397,
             89429,
             43417,
             5146,
             58726,
             40702,
             648794,
             143954,
             136957,
             194317,
             117274,
             43306,
             0
            ],
            "sizemode": "area",
            "sizeref": 12246.6525,
            "symbol": "circle"
           },
           "mode": "markers",
           "name": "",
           "showlegend": false,
           "type": "scattergeo"
          }
         ],
         "name": "2022-09-01 00:00:00"
        },
        {
         "data": [
          {
           "geo": "geo",
           "hovertemplate": "<b>%{hovertext}</b><br><br>Periods=2022-10-01 00:00:00<br>value=%{marker.size}<br>lat=%{lat}<br>lon=%{lon}<extra></extra>",
           "hovertext": [
            "EU Countries",
            "Other Europe",
            "North Africa",
            "West Africa",
            "Central Africa",
            "East Africa",
            "South Africa",
            "North America",
            "Central America",
            "South America",
            "West Asia",
            "South East Asia",
            "North East Asia",
            "Oceania"
           ],
           "lat": [
            51.06817476731436,
            51.104656094663596,
            30.437364261879395,
            7.959928997986893,
            6.382857433441359,
            4.621142864680792,
            -21.36137412154011,
            39.10831477183257,
            14.055530777684297,
            -16.37707312732043,
            34.361920786534085,
            17.706181315873863,
            36.550432558533785,
            -23.58328814497935
           ],
           "legendgroup": "",
           "lon": [
            7.483156574929211,
            30.497434511924325,
            14.533600264930044,
            -5.73665308026392,
            25.274620301872687,
            45.742644027389815,
            22.937458352453206,
            -99.4877492264568,
            -86.12919315960363,
            -57.79900810912669,
            46.37348934350911,
            101.17889439841429,
            127.29844484711793,
            138.75457210763784
           ],
           "marker": {
            "color": "#636efa",
            "size": [
             3095139,
             1254777,
             99335,
             43707,
             5921,
             59995,
             40589,
             599749,
             159460,
             140133,
             196546,
             118928,
             40365,
             0
            ],
            "sizemode": "area",
            "sizeref": 12246.6525,
            "symbol": "circle"
           },
           "mode": "markers",
           "name": "",
           "showlegend": false,
           "type": "scattergeo"
          }
         ],
         "name": "2022-10-01 00:00:00"
        },
        {
         "data": [
          {
           "geo": "geo",
           "hovertemplate": "<b>%{hovertext}</b><br><br>Periods=2022-11-01 00:00:00<br>value=%{marker.size}<br>lat=%{lat}<br>lon=%{lon}<extra></extra>",
           "hovertext": [
            "EU Countries",
            "Other Europe",
            "North Africa",
            "West Africa",
            "Central Africa",
            "East Africa",
            "South Africa",
            "North America",
            "Central America",
            "South America",
            "West Asia",
            "South East Asia",
            "North East Asia",
            "Oceania"
           ],
           "lat": [
            51.06817476731436,
            51.104656094663596,
            30.437364261879395,
            7.959928997986893,
            6.382857433441359,
            4.621142864680792,
            -21.36137412154011,
            39.10831477183257,
            14.055530777684297,
            -16.37707312732043,
            34.361920786534085,
            17.706181315873863,
            36.550432558533785,
            -23.58328814497935
           ],
           "legendgroup": "",
           "lon": [
            7.483156574929211,
            30.497434511924325,
            14.533600264930044,
            -5.73665308026392,
            25.274620301872687,
            45.742644027389815,
            22.937458352453206,
            -99.4877492264568,
            -86.12919315960363,
            -57.79900810912669,
            46.37348934350911,
            101.17889439841429,
            127.29844484711793,
            138.75457210763784
           ],
           "marker": {
            "color": "#636efa",
            "size": [
             2240055,
             999411,
             95919,
             47513,
             3418,
             53320,
             39221,
             435259,
             165846,
             118907,
             191074,
             134991,
             45522,
             0
            ],
            "sizemode": "area",
            "sizeref": 12246.6525,
            "symbol": "circle"
           },
           "mode": "markers",
           "name": "",
           "showlegend": false,
           "type": "scattergeo"
          }
         ],
         "name": "2022-11-01 00:00:00"
        },
        {
         "data": [
          {
           "geo": "geo",
           "hovertemplate": "<b>%{hovertext}</b><br><br>Periods=2022-12-01 00:00:00<br>value=%{marker.size}<br>lat=%{lat}<br>lon=%{lon}<extra></extra>",
           "hovertext": [
            "EU Countries",
            "Other Europe",
            "North Africa",
            "West Africa",
            "Central Africa",
            "East Africa",
            "South Africa",
            "North America",
            "Central America",
            "South America",
            "West Asia",
            "South East Asia",
            "North East Asia",
            "Oceania"
           ],
           "lat": [
            51.06817476731436,
            51.104656094663596,
            30.437364261879395,
            7.959928997986893,
            6.382857433441359,
            4.621142864680792,
            -21.36137412154011,
            39.10831477183257,
            14.055530777684297,
            -16.37707312732043,
            34.361920786534085,
            17.706181315873863,
            36.550432558533785,
            -23.58328814497935
           ],
           "legendgroup": "",
           "lon": [
            7.483156574929211,
            30.497434511924325,
            14.533600264930044,
            -5.73665308026392,
            25.274620301872687,
            45.742644027389815,
            22.937458352453206,
            -99.4877492264568,
            -86.12919315960363,
            -57.79900810912669,
            46.37348934350911,
            101.17889439841429,
            127.29844484711793,
            138.75457210763784
           ],
           "marker": {
            "color": "#636efa",
            "size": [
             2237659,
             1015946,
             99820,
             49629,
             3684,
             58679,
             49977,
             469135,
             169659,
             132114,
             200973,
             141236,
             51982,
             0
            ],
            "sizemode": "area",
            "sizeref": 12246.6525,
            "symbol": "circle"
           },
           "mode": "markers",
           "name": "",
           "showlegend": false,
           "type": "scattergeo"
          }
         ],
         "name": "2022-12-01 00:00:00"
        },
        {
         "data": [
          {
           "geo": "geo",
           "hovertemplate": "<b>%{hovertext}</b><br><br>Periods=2023-01-01 00:00:00<br>value=%{marker.size}<br>lat=%{lat}<br>lon=%{lon}<extra></extra>",
           "hovertext": [
            "EU Countries",
            "Other Europe",
            "North Africa",
            "West Africa",
            "Central Africa",
            "East Africa",
            "South Africa",
            "North America",
            "Central America",
            "South America",
            "West Asia",
            "South East Asia",
            "North East Asia",
            "Oceania"
           ],
           "lat": [
            51.06817476731436,
            51.104656094663596,
            30.437364261879395,
            7.959928997986893,
            6.382857433441359,
            4.621142864680792,
            -21.36137412154011,
            39.10831477183257,
            14.055530777684297,
            -16.37707312732043,
            34.361920786534085,
            17.706181315873863,
            36.550432558533785,
            -23.58328814497935
           ],
           "legendgroup": "",
           "lon": [
            7.483156574929211,
            30.497434511924325,
            14.533600264930044,
            -5.73665308026392,
            25.274620301872687,
            45.742644027389815,
            22.937458352453206,
            -99.4877492264568,
            -86.12919315960363,
            -57.79900810912669,
            46.37348934350911,
            101.17889439841429,
            127.29844484711793,
            138.75457210763784
           ],
           "marker": {
            "color": "#636efa",
            "size": [
             2166588,
             943618,
             92839,
             51842,
             3923,
             62118,
             50331,
             410530,
             175601,
             134529,
             191177,
             138931,
             57987,
             0
            ],
            "sizemode": "area",
            "sizeref": 12246.6525,
            "symbol": "circle"
           },
           "mode": "markers",
           "name": "",
           "showlegend": false,
           "type": "scattergeo"
          }
         ],
         "name": "2023-01-01 00:00:00"
        },
        {
         "data": [
          {
           "geo": "geo",
           "hovertemplate": "<b>%{hovertext}</b><br><br>Periods=2023-02-01 00:00:00<br>value=%{marker.size}<br>lat=%{lat}<br>lon=%{lon}<extra></extra>",
           "hovertext": [
            "EU Countries",
            "Other Europe",
            "North Africa",
            "West Africa",
            "Central Africa",
            "East Africa",
            "South Africa",
            "North America",
            "Central America",
            "South America",
            "West Asia",
            "South East Asia",
            "North East Asia",
            "Oceania"
           ],
           "lat": [
            51.06817476731436,
            51.104656094663596,
            30.437364261879395,
            7.959928997986893,
            6.382857433441359,
            4.621142864680792,
            -21.36137412154011,
            39.10831477183257,
            14.055530777684297,
            -16.37707312732043,
            34.361920786534085,
            17.706181315873863,
            36.550432558533785,
            -23.58328814497935
           ],
           "legendgroup": "",
           "lon": [
            7.483156574929211,
            30.497434511924325,
            14.533600264930044,
            -5.73665308026392,
            25.274620301872687,
            45.742644027389815,
            22.937458352453206,
            -99.4877492264568,
            -86.12919315960363,
            -57.79900810912669,
            46.37348934350911,
            101.17889439841429,
            127.29844484711793,
            138.75457210763784
           ],
           "marker": {
            "color": "#636efa",
            "size": [
             2169352,
             937751,
             87276,
             44512,
             3626,
             59462,
             45103,
             353704,
             155418,
             123660,
             180221,
             118650,
             69909,
             0
            ],
            "sizemode": "area",
            "sizeref": 12246.6525,
            "symbol": "circle"
           },
           "mode": "markers",
           "name": "",
           "showlegend": false,
           "type": "scattergeo"
          }
         ],
         "name": "2023-02-01 00:00:00"
        },
        {
         "data": [
          {
           "geo": "geo",
           "hovertemplate": "<b>%{hovertext}</b><br><br>Periods=2023-03-01 00:00:00<br>value=%{marker.size}<br>lat=%{lat}<br>lon=%{lon}<extra></extra>",
           "hovertext": [
            "EU Countries",
            "Other Europe",
            "North Africa",
            "West Africa",
            "Central Africa",
            "East Africa",
            "South Africa",
            "North America",
            "Central America",
            "South America",
            "West Asia",
            "South East Asia",
            "North East Asia",
            "Oceania"
           ],
           "lat": [
            51.06817476731436,
            51.104656094663596,
            30.437364261879395,
            7.959928997986893,
            6.382857433441359,
            4.621142864680792,
            -21.36137412154011,
            39.10831477183257,
            14.055530777684297,
            -16.37707312732043,
            34.361920786534085,
            17.706181315873863,
            36.550432558533785,
            -23.58328814497935
           ],
           "legendgroup": "",
           "lon": [
            7.483156574929211,
            30.497434511924325,
            14.533600264930044,
            -5.73665308026392,
            25.274620301872687,
            45.742644027389815,
            22.937458352453206,
            -99.4877492264568,
            -86.12919315960363,
            -57.79900810912669,
            46.37348934350911,
            101.17889439841429,
            127.29844484711793,
            138.75457210763784
           ],
           "marker": {
            "color": "#636efa",
            "size": [
             2666828,
             1121095,
             99758,
             48734,
             4143,
             57706,
             48179,
             514203,
             165451,
             132941,
             204809,
             124402,
             88600,
             0
            ],
            "sizemode": "area",
            "sizeref": 12246.6525,
            "symbol": "circle"
           },
           "mode": "markers",
           "name": "",
           "showlegend": false,
           "type": "scattergeo"
          }
         ],
         "name": "2023-03-01 00:00:00"
        },
        {
         "data": [
          {
           "geo": "geo",
           "hovertemplate": "<b>%{hovertext}</b><br><br>Periods=2023-04-01 00:00:00<br>value=%{marker.size}<br>lat=%{lat}<br>lon=%{lon}<extra></extra>",
           "hovertext": [
            "EU Countries",
            "Other Europe",
            "North Africa",
            "West Africa",
            "Central Africa",
            "East Africa",
            "South Africa",
            "North America",
            "Central America",
            "South America",
            "West Asia",
            "South East Asia",
            "North East Asia",
            "Oceania"
           ],
           "lat": [
            51.06817476731436,
            51.104656094663596,
            30.437364261879395,
            7.959928997986893,
            6.382857433441359,
            4.621142864680792,
            -21.36137412154011,
            39.10831477183257,
            14.055530777684297,
            -16.37707312732043,
            34.361920786534085,
            17.706181315873863,
            36.550432558533785,
            -23.58328814497935
           ],
           "legendgroup": "",
           "lon": [
            7.483156574929211,
            30.497434511924325,
            14.533600264930044,
            -5.73665308026392,
            25.274620301872687,
            45.742644027389815,
            22.937458352453206,
            -99.4877492264568,
            -86.12919315960363,
            -57.79900810912669,
            46.37348934350911,
            101.17889439841429,
            127.29844484711793,
            138.75457210763784
           ],
           "marker": {
            "color": "#636efa",
            "size": [
             3097485,
             1249718,
             82197,
             46850,
             3652,
             41761,
             43469,
             624690,
             146708,
             127866,
             207767,
             118478,
             122131,
             0
            ],
            "sizemode": "area",
            "sizeref": 12246.6525,
            "symbol": "circle"
           },
           "mode": "markers",
           "name": "",
           "showlegend": false,
           "type": "scattergeo"
          }
         ],
         "name": "2023-04-01 00:00:00"
        },
        {
         "data": [
          {
           "geo": "geo",
           "hovertemplate": "<b>%{hovertext}</b><br><br>Periods=2023-05-01 00:00:00<br>value=%{marker.size}<br>lat=%{lat}<br>lon=%{lon}<extra></extra>",
           "hovertext": [
            "EU Countries",
            "Other Europe",
            "North Africa",
            "West Africa",
            "Central Africa",
            "East Africa",
            "South Africa",
            "North America",
            "Central America",
            "South America",
            "West Asia",
            "South East Asia",
            "North East Asia",
            "Oceania"
           ],
           "lat": [
            51.06817476731436,
            51.104656094663596,
            30.437364261879395,
            7.959928997986893,
            6.382857433441359,
            4.621142864680792,
            -21.36137412154011,
            39.10831477183257,
            14.055530777684297,
            -16.37707312732043,
            34.361920786534085,
            17.706181315873863,
            36.550432558533785,
            -23.58328814497935
           ],
           "legendgroup": "",
           "lon": [
            7.483156574929211,
            30.497434511924325,
            14.533600264930044,
            -5.73665308026392,
            25.274620301872687,
            45.742644027389815,
            22.937458352453206,
            -99.4877492264568,
            -86.12919315960363,
            -57.79900810912669,
            46.37348934350911,
            101.17889439841429,
            127.29844484711793,
            138.75457210763784
           ],
           "marker": {
            "color": "#636efa",
            "size": [
             3507342,
             1378388,
             101326,
             42018,
             5550,
             46711,
             39112,
             669441,
             142278,
             125621,
             206441,
             128053,
             122600,
             0
            ],
            "sizemode": "area",
            "sizeref": 12246.6525,
            "symbol": "circle"
           },
           "mode": "markers",
           "name": "",
           "showlegend": false,
           "type": "scattergeo"
          }
         ],
         "name": "2023-05-01 00:00:00"
        },
        {
         "data": [
          {
           "geo": "geo",
           "hovertemplate": "<b>%{hovertext}</b><br><br>Periods=2023-06-01 00:00:00<br>value=%{marker.size}<br>lat=%{lat}<br>lon=%{lon}<extra></extra>",
           "hovertext": [
            "EU Countries",
            "Other Europe",
            "North Africa",
            "West Africa",
            "Central Africa",
            "East Africa",
            "South Africa",
            "North America",
            "Central America",
            "South America",
            "West Asia",
            "South East Asia",
            "North East Asia",
            "Oceania"
           ],
           "lat": [
            51.06817476731436,
            51.104656094663596,
            30.437364261879395,
            7.959928997986893,
            6.382857433441359,
            4.621142864680792,
            -21.36137412154011,
            39.10831477183257,
            14.055530777684297,
            -16.37707312732043,
            34.361920786534085,
            17.706181315873863,
            36.550432558533785,
            -23.58328814497935
           ],
           "legendgroup": "",
           "lon": [
            7.483156574929211,
            30.497434511924325,
            14.533600264930044,
            -5.73665308026392,
            25.274620301872687,
            45.742644027389815,
            22.937458352453206,
            -99.4877492264568,
            -86.12919315960363,
            -57.79900810912669,
            46.37348934350911,
            101.17889439841429,
            127.29844484711793,
            138.75457210763784
           ],
           "marker": {
            "color": "#636efa",
            "size": [
             3490362,
             1365428,
             90407,
             43863,
             4618,
             56712,
             42089,
             710977,
             134727,
             122887,
             210462,
             129750,
             137157,
             0
            ],
            "sizemode": "area",
            "sizeref": 12246.6525,
            "symbol": "circle"
           },
           "mode": "markers",
           "name": "",
           "showlegend": false,
           "type": "scattergeo"
          }
         ],
         "name": "2023-06-01 00:00:00"
        },
        {
         "data": [
          {
           "geo": "geo",
           "hovertemplate": "<b>%{hovertext}</b><br><br>Periods=2023-07-01 00:00:00<br>value=%{marker.size}<br>lat=%{lat}<br>lon=%{lon}<extra></extra>",
           "hovertext": [
            "EU Countries",
            "Other Europe",
            "North Africa",
            "West Africa",
            "Central Africa",
            "East Africa",
            "South Africa",
            "North America",
            "Central America",
            "South America",
            "West Asia",
            "South East Asia",
            "North East Asia",
            "Oceania"
           ],
           "lat": [
            51.06817476731436,
            51.104656094663596,
            30.437364261879395,
            7.959928997986893,
            6.382857433441359,
            4.621142864680792,
            -21.36137412154011,
            39.10831477183257,
            14.055530777684297,
            -16.37707312732043,
            34.361920786534085,
            17.706181315873863,
            36.550432558533785,
            -23.58328814497935
           ],
           "legendgroup": "",
           "lon": [
            7.483156574929211,
            30.497434511924325,
            14.533600264930044,
            -5.73665308026392,
            25.274620301872687,
            45.742644027389815,
            22.937458352453206,
            -99.4877492264568,
            -86.12919315960363,
            -57.79900810912669,
            46.37348934350911,
            101.17889439841429,
            127.29844484711793,
            138.75457210763784
           ],
           "marker": {
            "color": "#636efa",
            "size": [
             3729439,
             1454176,
             117581,
             46551,
             7076,
             59094,
             44542,
             710246,
             149249,
             136866,
             250588,
             136016,
             149807,
             0
            ],
            "sizemode": "area",
            "sizeref": 12246.6525,
            "symbol": "circle"
           },
           "mode": "markers",
           "name": "",
           "showlegend": false,
           "type": "scattergeo"
          }
         ],
         "name": "2023-07-01 00:00:00"
        },
        {
         "data": [
          {
           "geo": "geo",
           "hovertemplate": "<b>%{hovertext}</b><br><br>Periods=2023-08-01 00:00:00<br>value=%{marker.size}<br>lat=%{lat}<br>lon=%{lon}<extra></extra>",
           "hovertext": [
            "EU Countries",
            "Other Europe",
            "North Africa",
            "West Africa",
            "Central Africa",
            "East Africa",
            "South Africa",
            "North America",
            "Central America",
            "South America",
            "West Asia",
            "South East Asia",
            "North East Asia",
            "Oceania"
           ],
           "lat": [
            51.06817476731436,
            51.104656094663596,
            30.437364261879395,
            7.959928997986893,
            6.382857433441359,
            4.621142864680792,
            -21.36137412154011,
            39.10831477183257,
            14.055530777684297,
            -16.37707312732043,
            34.361920786534085,
            17.706181315873863,
            36.550432558533785,
            -23.58328814497935
           ],
           "legendgroup": "",
           "lon": [
            7.483156574929211,
            30.497434511924325,
            14.533600264930044,
            -5.73665308026392,
            25.274620301872687,
            45.742644027389815,
            22.937458352453206,
            -99.4877492264568,
            -86.12919315960363,
            -57.79900810912669,
            46.37348934350911,
            101.17889439841429,
            127.29844484711793,
            138.75457210763784
           ],
           "marker": {
            "color": "#636efa",
            "size": [
             3756983,
             1485174,
             128167,
             47029,
             5806,
             60798,
             44092,
             719840,
             148600,
             132606,
             255141,
             129804,
             147589,
             0
            ],
            "sizemode": "area",
            "sizeref": 12246.6525,
            "symbol": "circle"
           },
           "mode": "markers",
           "name": "",
           "showlegend": false,
           "type": "scattergeo"
          }
         ],
         "name": "2023-08-01 00:00:00"
        }
       ],
       "layout": {
        "geo": {
         "center": {},
         "domain": {
          "x": [
           0,
           1
          ],
          "y": [
           0,
           1
          ]
         }
        },
        "legend": {
         "itemsizing": "constant",
         "tracegroupgap": 0
        },
        "sliders": [
         {
          "active": 0,
          "currentvalue": {
           "prefix": "Periods="
          },
          "len": 0.9,
          "pad": {
           "b": 10,
           "t": 60
          },
          "steps": [
           {
            "args": [
             [
              "2019-01-01 00:00:00"
             ],
             {
              "frame": {
               "duration": 0,
               "redraw": true
              },
              "fromcurrent": true,
              "mode": "immediate",
              "transition": {
               "duration": 0,
               "easing": "linear"
              }
             }
            ],
            "label": "2019-01-01 00:00:00",
            "method": "animate"
           },
           {
            "args": [
             [
              "2019-02-01 00:00:00"
             ],
             {
              "frame": {
               "duration": 0,
               "redraw": true
              },
              "fromcurrent": true,
              "mode": "immediate",
              "transition": {
               "duration": 0,
               "easing": "linear"
              }
             }
            ],
            "label": "2019-02-01 00:00:00",
            "method": "animate"
           },
           {
            "args": [
             [
              "2019-03-01 00:00:00"
             ],
             {
              "frame": {
               "duration": 0,
               "redraw": true
              },
              "fromcurrent": true,
              "mode": "immediate",
              "transition": {
               "duration": 0,
               "easing": "linear"
              }
             }
            ],
            "label": "2019-03-01 00:00:00",
            "method": "animate"
           },
           {
            "args": [
             [
              "2019-04-01 00:00:00"
             ],
             {
              "frame": {
               "duration": 0,
               "redraw": true
              },
              "fromcurrent": true,
              "mode": "immediate",
              "transition": {
               "duration": 0,
               "easing": "linear"
              }
             }
            ],
            "label": "2019-04-01 00:00:00",
            "method": "animate"
           },
           {
            "args": [
             [
              "2019-05-01 00:00:00"
             ],
             {
              "frame": {
               "duration": 0,
               "redraw": true
              },
              "fromcurrent": true,
              "mode": "immediate",
              "transition": {
               "duration": 0,
               "easing": "linear"
              }
             }
            ],
            "label": "2019-05-01 00:00:00",
            "method": "animate"
           },
           {
            "args": [
             [
              "2019-06-01 00:00:00"
             ],
             {
              "frame": {
               "duration": 0,
               "redraw": true
              },
              "fromcurrent": true,
              "mode": "immediate",
              "transition": {
               "duration": 0,
               "easing": "linear"
              }
             }
            ],
            "label": "2019-06-01 00:00:00",
            "method": "animate"
           },
           {
            "args": [
             [
              "2019-07-01 00:00:00"
             ],
             {
              "frame": {
               "duration": 0,
               "redraw": true
              },
              "fromcurrent": true,
              "mode": "immediate",
              "transition": {
               "duration": 0,
               "easing": "linear"
              }
             }
            ],
            "label": "2019-07-01 00:00:00",
            "method": "animate"
           },
           {
            "args": [
             [
              "2019-08-01 00:00:00"
             ],
             {
              "frame": {
               "duration": 0,
               "redraw": true
              },
              "fromcurrent": true,
              "mode": "immediate",
              "transition": {
               "duration": 0,
               "easing": "linear"
              }
             }
            ],
            "label": "2019-08-01 00:00:00",
            "method": "animate"
           },
           {
            "args": [
             [
              "2019-09-01 00:00:00"
             ],
             {
              "frame": {
               "duration": 0,
               "redraw": true
              },
              "fromcurrent": true,
              "mode": "immediate",
              "transition": {
               "duration": 0,
               "easing": "linear"
              }
             }
            ],
            "label": "2019-09-01 00:00:00",
            "method": "animate"
           },
           {
            "args": [
             [
              "2019-10-01 00:00:00"
             ],
             {
              "frame": {
               "duration": 0,
               "redraw": true
              },
              "fromcurrent": true,
              "mode": "immediate",
              "transition": {
               "duration": 0,
               "easing": "linear"
              }
             }
            ],
            "label": "2019-10-01 00:00:00",
            "method": "animate"
           },
           {
            "args": [
             [
              "2019-11-01 00:00:00"
             ],
             {
              "frame": {
               "duration": 0,
               "redraw": true
              },
              "fromcurrent": true,
              "mode": "immediate",
              "transition": {
               "duration": 0,
               "easing": "linear"
              }
             }
            ],
            "label": "2019-11-01 00:00:00",
            "method": "animate"
           },
           {
            "args": [
             [
              "2019-12-01 00:00:00"
             ],
             {
              "frame": {
               "duration": 0,
               "redraw": true
              },
              "fromcurrent": true,
              "mode": "immediate",
              "transition": {
               "duration": 0,
               "easing": "linear"
              }
             }
            ],
            "label": "2019-12-01 00:00:00",
            "method": "animate"
           },
           {
            "args": [
             [
              "2020-01-01 00:00:00"
             ],
             {
              "frame": {
               "duration": 0,
               "redraw": true
              },
              "fromcurrent": true,
              "mode": "immediate",
              "transition": {
               "duration": 0,
               "easing": "linear"
              }
             }
            ],
            "label": "2020-01-01 00:00:00",
            "method": "animate"
           },
           {
            "args": [
             [
              "2020-02-01 00:00:00"
             ],
             {
              "frame": {
               "duration": 0,
               "redraw": true
              },
              "fromcurrent": true,
              "mode": "immediate",
              "transition": {
               "duration": 0,
               "easing": "linear"
              }
             }
            ],
            "label": "2020-02-01 00:00:00",
            "method": "animate"
           },
           {
            "args": [
             [
              "2020-03-01 00:00:00"
             ],
             {
              "frame": {
               "duration": 0,
               "redraw": true
              },
              "fromcurrent": true,
              "mode": "immediate",
              "transition": {
               "duration": 0,
               "easing": "linear"
              }
             }
            ],
            "label": "2020-03-01 00:00:00",
            "method": "animate"
           },
           {
            "args": [
             [
              "2020-04-01 00:00:00"
             ],
             {
              "frame": {
               "duration": 0,
               "redraw": true
              },
              "fromcurrent": true,
              "mode": "immediate",
              "transition": {
               "duration": 0,
               "easing": "linear"
              }
             }
            ],
            "label": "2020-04-01 00:00:00",
            "method": "animate"
           },
           {
            "args": [
             [
              "2020-05-01 00:00:00"
             ],
             {
              "frame": {
               "duration": 0,
               "redraw": true
              },
              "fromcurrent": true,
              "mode": "immediate",
              "transition": {
               "duration": 0,
               "easing": "linear"
              }
             }
            ],
            "label": "2020-05-01 00:00:00",
            "method": "animate"
           },
           {
            "args": [
             [
              "2020-06-01 00:00:00"
             ],
             {
              "frame": {
               "duration": 0,
               "redraw": true
              },
              "fromcurrent": true,
              "mode": "immediate",
              "transition": {
               "duration": 0,
               "easing": "linear"
              }
             }
            ],
            "label": "2020-06-01 00:00:00",
            "method": "animate"
           },
           {
            "args": [
             [
              "2020-07-01 00:00:00"
             ],
             {
              "frame": {
               "duration": 0,
               "redraw": true
              },
              "fromcurrent": true,
              "mode": "immediate",
              "transition": {
               "duration": 0,
               "easing": "linear"
              }
             }
            ],
            "label": "2020-07-01 00:00:00",
            "method": "animate"
           },
           {
            "args": [
             [
              "2020-08-01 00:00:00"
             ],
             {
              "frame": {
               "duration": 0,
               "redraw": true
              },
              "fromcurrent": true,
              "mode": "immediate",
              "transition": {
               "duration": 0,
               "easing": "linear"
              }
             }
            ],
            "label": "2020-08-01 00:00:00",
            "method": "animate"
           },
           {
            "args": [
             [
              "2020-09-01 00:00:00"
             ],
             {
              "frame": {
               "duration": 0,
               "redraw": true
              },
              "fromcurrent": true,
              "mode": "immediate",
              "transition": {
               "duration": 0,
               "easing": "linear"
              }
             }
            ],
            "label": "2020-09-01 00:00:00",
            "method": "animate"
           },
           {
            "args": [
             [
              "2020-10-01 00:00:00"
             ],
             {
              "frame": {
               "duration": 0,
               "redraw": true
              },
              "fromcurrent": true,
              "mode": "immediate",
              "transition": {
               "duration": 0,
               "easing": "linear"
              }
             }
            ],
            "label": "2020-10-01 00:00:00",
            "method": "animate"
           },
           {
            "args": [
             [
              "2020-11-01 00:00:00"
             ],
             {
              "frame": {
               "duration": 0,
               "redraw": true
              },
              "fromcurrent": true,
              "mode": "immediate",
              "transition": {
               "duration": 0,
               "easing": "linear"
              }
             }
            ],
            "label": "2020-11-01 00:00:00",
            "method": "animate"
           },
           {
            "args": [
             [
              "2020-12-01 00:00:00"
             ],
             {
              "frame": {
               "duration": 0,
               "redraw": true
              },
              "fromcurrent": true,
              "mode": "immediate",
              "transition": {
               "duration": 0,
               "easing": "linear"
              }
             }
            ],
            "label": "2020-12-01 00:00:00",
            "method": "animate"
           },
           {
            "args": [
             [
              "2021-01-01 00:00:00"
             ],
             {
              "frame": {
               "duration": 0,
               "redraw": true
              },
              "fromcurrent": true,
              "mode": "immediate",
              "transition": {
               "duration": 0,
               "easing": "linear"
              }
             }
            ],
            "label": "2021-01-01 00:00:00",
            "method": "animate"
           },
           {
            "args": [
             [
              "2021-02-01 00:00:00"
             ],
             {
              "frame": {
               "duration": 0,
               "redraw": true
              },
              "fromcurrent": true,
              "mode": "immediate",
              "transition": {
               "duration": 0,
               "easing": "linear"
              }
             }
            ],
            "label": "2021-02-01 00:00:00",
            "method": "animate"
           },
           {
            "args": [
             [
              "2021-03-01 00:00:00"
             ],
             {
              "frame": {
               "duration": 0,
               "redraw": true
              },
              "fromcurrent": true,
              "mode": "immediate",
              "transition": {
               "duration": 0,
               "easing": "linear"
              }
             }
            ],
            "label": "2021-03-01 00:00:00",
            "method": "animate"
           },
           {
            "args": [
             [
              "2021-04-01 00:00:00"
             ],
             {
              "frame": {
               "duration": 0,
               "redraw": true
              },
              "fromcurrent": true,
              "mode": "immediate",
              "transition": {
               "duration": 0,
               "easing": "linear"
              }
             }
            ],
            "label": "2021-04-01 00:00:00",
            "method": "animate"
           },
           {
            "args": [
             [
              "2021-05-01 00:00:00"
             ],
             {
              "frame": {
               "duration": 0,
               "redraw": true
              },
              "fromcurrent": true,
              "mode": "immediate",
              "transition": {
               "duration": 0,
               "easing": "linear"
              }
             }
            ],
            "label": "2021-05-01 00:00:00",
            "method": "animate"
           },
           {
            "args": [
             [
              "2021-06-01 00:00:00"
             ],
             {
              "frame": {
               "duration": 0,
               "redraw": true
              },
              "fromcurrent": true,
              "mode": "immediate",
              "transition": {
               "duration": 0,
               "easing": "linear"
              }
             }
            ],
            "label": "2021-06-01 00:00:00",
            "method": "animate"
           },
           {
            "args": [
             [
              "2021-07-01 00:00:00"
             ],
             {
              "frame": {
               "duration": 0,
               "redraw": true
              },
              "fromcurrent": true,
              "mode": "immediate",
              "transition": {
               "duration": 0,
               "easing": "linear"
              }
             }
            ],
            "label": "2021-07-01 00:00:00",
            "method": "animate"
           },
           {
            "args": [
             [
              "2021-08-01 00:00:00"
             ],
             {
              "frame": {
               "duration": 0,
               "redraw": true
              },
              "fromcurrent": true,
              "mode": "immediate",
              "transition": {
               "duration": 0,
               "easing": "linear"
              }
             }
            ],
            "label": "2021-08-01 00:00:00",
            "method": "animate"
           },
           {
            "args": [
             [
              "2021-09-01 00:00:00"
             ],
             {
              "frame": {
               "duration": 0,
               "redraw": true
              },
              "fromcurrent": true,
              "mode": "immediate",
              "transition": {
               "duration": 0,
               "easing": "linear"
              }
             }
            ],
            "label": "2021-09-01 00:00:00",
            "method": "animate"
           },
           {
            "args": [
             [
              "2021-10-01 00:00:00"
             ],
             {
              "frame": {
               "duration": 0,
               "redraw": true
              },
              "fromcurrent": true,
              "mode": "immediate",
              "transition": {
               "duration": 0,
               "easing": "linear"
              }
             }
            ],
            "label": "2021-10-01 00:00:00",
            "method": "animate"
           },
           {
            "args": [
             [
              "2021-11-01 00:00:00"
             ],
             {
              "frame": {
               "duration": 0,
               "redraw": true
              },
              "fromcurrent": true,
              "mode": "immediate",
              "transition": {
               "duration": 0,
               "easing": "linear"
              }
             }
            ],
            "label": "2021-11-01 00:00:00",
            "method": "animate"
           },
           {
            "args": [
             [
              "2021-12-01 00:00:00"
             ],
             {
              "frame": {
               "duration": 0,
               "redraw": true
              },
              "fromcurrent": true,
              "mode": "immediate",
              "transition": {
               "duration": 0,
               "easing": "linear"
              }
             }
            ],
            "label": "2021-12-01 00:00:00",
            "method": "animate"
           },
           {
            "args": [
             [
              "2022-01-01 00:00:00"
             ],
             {
              "frame": {
               "duration": 0,
               "redraw": true
              },
              "fromcurrent": true,
              "mode": "immediate",
              "transition": {
               "duration": 0,
               "easing": "linear"
              }
             }
            ],
            "label": "2022-01-01 00:00:00",
            "method": "animate"
           },
           {
            "args": [
             [
              "2022-02-01 00:00:00"
             ],
             {
              "frame": {
               "duration": 0,
               "redraw": true
              },
              "fromcurrent": true,
              "mode": "immediate",
              "transition": {
               "duration": 0,
               "easing": "linear"
              }
             }
            ],
            "label": "2022-02-01 00:00:00",
            "method": "animate"
           },
           {
            "args": [
             [
              "2022-03-01 00:00:00"
             ],
             {
              "frame": {
               "duration": 0,
               "redraw": true
              },
              "fromcurrent": true,
              "mode": "immediate",
              "transition": {
               "duration": 0,
               "easing": "linear"
              }
             }
            ],
            "label": "2022-03-01 00:00:00",
            "method": "animate"
           },
           {
            "args": [
             [
              "2022-04-01 00:00:00"
             ],
             {
              "frame": {
               "duration": 0,
               "redraw": true
              },
              "fromcurrent": true,
              "mode": "immediate",
              "transition": {
               "duration": 0,
               "easing": "linear"
              }
             }
            ],
            "label": "2022-04-01 00:00:00",
            "method": "animate"
           },
           {
            "args": [
             [
              "2022-05-01 00:00:00"
             ],
             {
              "frame": {
               "duration": 0,
               "redraw": true
              },
              "fromcurrent": true,
              "mode": "immediate",
              "transition": {
               "duration": 0,
               "easing": "linear"
              }
             }
            ],
            "label": "2022-05-01 00:00:00",
            "method": "animate"
           },
           {
            "args": [
             [
              "2022-06-01 00:00:00"
             ],
             {
              "frame": {
               "duration": 0,
               "redraw": true
              },
              "fromcurrent": true,
              "mode": "immediate",
              "transition": {
               "duration": 0,
               "easing": "linear"
              }
             }
            ],
            "label": "2022-06-01 00:00:00",
            "method": "animate"
           },
           {
            "args": [
             [
              "2022-07-01 00:00:00"
             ],
             {
              "frame": {
               "duration": 0,
               "redraw": true
              },
              "fromcurrent": true,
              "mode": "immediate",
              "transition": {
               "duration": 0,
               "easing": "linear"
              }
             }
            ],
            "label": "2022-07-01 00:00:00",
            "method": "animate"
           },
           {
            "args": [
             [
              "2022-08-01 00:00:00"
             ],
             {
              "frame": {
               "duration": 0,
               "redraw": true
              },
              "fromcurrent": true,
              "mode": "immediate",
              "transition": {
               "duration": 0,
               "easing": "linear"
              }
             }
            ],
            "label": "2022-08-01 00:00:00",
            "method": "animate"
           },
           {
            "args": [
             [
              "2022-09-01 00:00:00"
             ],
             {
              "frame": {
               "duration": 0,
               "redraw": true
              },
              "fromcurrent": true,
              "mode": "immediate",
              "transition": {
               "duration": 0,
               "easing": "linear"
              }
             }
            ],
            "label": "2022-09-01 00:00:00",
            "method": "animate"
           },
           {
            "args": [
             [
              "2022-10-01 00:00:00"
             ],
             {
              "frame": {
               "duration": 0,
               "redraw": true
              },
              "fromcurrent": true,
              "mode": "immediate",
              "transition": {
               "duration": 0,
               "easing": "linear"
              }
             }
            ],
            "label": "2022-10-01 00:00:00",
            "method": "animate"
           },
           {
            "args": [
             [
              "2022-11-01 00:00:00"
             ],
             {
              "frame": {
               "duration": 0,
               "redraw": true
              },
              "fromcurrent": true,
              "mode": "immediate",
              "transition": {
               "duration": 0,
               "easing": "linear"
              }
             }
            ],
            "label": "2022-11-01 00:00:00",
            "method": "animate"
           },
           {
            "args": [
             [
              "2022-12-01 00:00:00"
             ],
             {
              "frame": {
               "duration": 0,
               "redraw": true
              },
              "fromcurrent": true,
              "mode": "immediate",
              "transition": {
               "duration": 0,
               "easing": "linear"
              }
             }
            ],
            "label": "2022-12-01 00:00:00",
            "method": "animate"
           },
           {
            "args": [
             [
              "2023-01-01 00:00:00"
             ],
             {
              "frame": {
               "duration": 0,
               "redraw": true
              },
              "fromcurrent": true,
              "mode": "immediate",
              "transition": {
               "duration": 0,
               "easing": "linear"
              }
             }
            ],
            "label": "2023-01-01 00:00:00",
            "method": "animate"
           },
           {
            "args": [
             [
              "2023-02-01 00:00:00"
             ],
             {
              "frame": {
               "duration": 0,
               "redraw": true
              },
              "fromcurrent": true,
              "mode": "immediate",
              "transition": {
               "duration": 0,
               "easing": "linear"
              }
             }
            ],
            "label": "2023-02-01 00:00:00",
            "method": "animate"
           },
           {
            "args": [
             [
              "2023-03-01 00:00:00"
             ],
             {
              "frame": {
               "duration": 0,
               "redraw": true
              },
              "fromcurrent": true,
              "mode": "immediate",
              "transition": {
               "duration": 0,
               "easing": "linear"
              }
             }
            ],
            "label": "2023-03-01 00:00:00",
            "method": "animate"
           },
           {
            "args": [
             [
              "2023-04-01 00:00:00"
             ],
             {
              "frame": {
               "duration": 0,
               "redraw": true
              },
              "fromcurrent": true,
              "mode": "immediate",
              "transition": {
               "duration": 0,
               "easing": "linear"
              }
             }
            ],
            "label": "2023-04-01 00:00:00",
            "method": "animate"
           },
           {
            "args": [
             [
              "2023-05-01 00:00:00"
             ],
             {
              "frame": {
               "duration": 0,
               "redraw": true
              },
              "fromcurrent": true,
              "mode": "immediate",
              "transition": {
               "duration": 0,
               "easing": "linear"
              }
             }
            ],
            "label": "2023-05-01 00:00:00",
            "method": "animate"
           },
           {
            "args": [
             [
              "2023-06-01 00:00:00"
             ],
             {
              "frame": {
               "duration": 0,
               "redraw": true
              },
              "fromcurrent": true,
              "mode": "immediate",
              "transition": {
               "duration": 0,
               "easing": "linear"
              }
             }
            ],
            "label": "2023-06-01 00:00:00",
            "method": "animate"
           },
           {
            "args": [
             [
              "2023-07-01 00:00:00"
             ],
             {
              "frame": {
               "duration": 0,
               "redraw": true
              },
              "fromcurrent": true,
              "mode": "immediate",
              "transition": {
               "duration": 0,
               "easing": "linear"
              }
             }
            ],
            "label": "2023-07-01 00:00:00",
            "method": "animate"
           },
           {
            "args": [
             [
              "2023-08-01 00:00:00"
             ],
             {
              "frame": {
               "duration": 0,
               "redraw": true
              },
              "fromcurrent": true,
              "mode": "immediate",
              "transition": {
               "duration": 0,
               "easing": "linear"
              }
             }
            ],
            "label": "2023-08-01 00:00:00",
            "method": "animate"
           }
          ],
          "x": 0.1,
          "xanchor": "left",
          "y": 0,
          "yanchor": "top"
         }
        ],
        "template": {
         "data": {
          "bar": [
           {
            "error_x": {
             "color": "#2a3f5f"
            },
            "error_y": {
             "color": "#2a3f5f"
            },
            "marker": {
             "line": {
              "color": "#E5ECF6",
              "width": 0.5
             },
             "pattern": {
              "fillmode": "overlay",
              "size": 10,
              "solidity": 0.2
             }
            },
            "type": "bar"
           }
          ],
          "barpolar": [
           {
            "marker": {
             "line": {
              "color": "#E5ECF6",
              "width": 0.5
             },
             "pattern": {
              "fillmode": "overlay",
              "size": 10,
              "solidity": 0.2
             }
            },
            "type": "barpolar"
           }
          ],
          "carpet": [
           {
            "aaxis": {
             "endlinecolor": "#2a3f5f",
             "gridcolor": "white",
             "linecolor": "white",
             "minorgridcolor": "white",
             "startlinecolor": "#2a3f5f"
            },
            "baxis": {
             "endlinecolor": "#2a3f5f",
             "gridcolor": "white",
             "linecolor": "white",
             "minorgridcolor": "white",
             "startlinecolor": "#2a3f5f"
            },
            "type": "carpet"
           }
          ],
          "choropleth": [
           {
            "colorbar": {
             "outlinewidth": 0,
             "ticks": ""
            },
            "type": "choropleth"
           }
          ],
          "contour": [
           {
            "colorbar": {
             "outlinewidth": 0,
             "ticks": ""
            },
            "colorscale": [
             [
              0,
              "#0d0887"
             ],
             [
              0.1111111111111111,
              "#46039f"
             ],
             [
              0.2222222222222222,
              "#7201a8"
             ],
             [
              0.3333333333333333,
              "#9c179e"
             ],
             [
              0.4444444444444444,
              "#bd3786"
             ],
             [
              0.5555555555555556,
              "#d8576b"
             ],
             [
              0.6666666666666666,
              "#ed7953"
             ],
             [
              0.7777777777777778,
              "#fb9f3a"
             ],
             [
              0.8888888888888888,
              "#fdca26"
             ],
             [
              1,
              "#f0f921"
             ]
            ],
            "type": "contour"
           }
          ],
          "contourcarpet": [
           {
            "colorbar": {
             "outlinewidth": 0,
             "ticks": ""
            },
            "type": "contourcarpet"
           }
          ],
          "heatmap": [
           {
            "colorbar": {
             "outlinewidth": 0,
             "ticks": ""
            },
            "colorscale": [
             [
              0,
              "#0d0887"
             ],
             [
              0.1111111111111111,
              "#46039f"
             ],
             [
              0.2222222222222222,
              "#7201a8"
             ],
             [
              0.3333333333333333,
              "#9c179e"
             ],
             [
              0.4444444444444444,
              "#bd3786"
             ],
             [
              0.5555555555555556,
              "#d8576b"
             ],
             [
              0.6666666666666666,
              "#ed7953"
             ],
             [
              0.7777777777777778,
              "#fb9f3a"
             ],
             [
              0.8888888888888888,
              "#fdca26"
             ],
             [
              1,
              "#f0f921"
             ]
            ],
            "type": "heatmap"
           }
          ],
          "heatmapgl": [
           {
            "colorbar": {
             "outlinewidth": 0,
             "ticks": ""
            },
            "colorscale": [
             [
              0,
              "#0d0887"
             ],
             [
              0.1111111111111111,
              "#46039f"
             ],
             [
              0.2222222222222222,
              "#7201a8"
             ],
             [
              0.3333333333333333,
              "#9c179e"
             ],
             [
              0.4444444444444444,
              "#bd3786"
             ],
             [
              0.5555555555555556,
              "#d8576b"
             ],
             [
              0.6666666666666666,
              "#ed7953"
             ],
             [
              0.7777777777777778,
              "#fb9f3a"
             ],
             [
              0.8888888888888888,
              "#fdca26"
             ],
             [
              1,
              "#f0f921"
             ]
            ],
            "type": "heatmapgl"
           }
          ],
          "histogram": [
           {
            "marker": {
             "pattern": {
              "fillmode": "overlay",
              "size": 10,
              "solidity": 0.2
             }
            },
            "type": "histogram"
           }
          ],
          "histogram2d": [
           {
            "colorbar": {
             "outlinewidth": 0,
             "ticks": ""
            },
            "colorscale": [
             [
              0,
              "#0d0887"
             ],
             [
              0.1111111111111111,
              "#46039f"
             ],
             [
              0.2222222222222222,
              "#7201a8"
             ],
             [
              0.3333333333333333,
              "#9c179e"
             ],
             [
              0.4444444444444444,
              "#bd3786"
             ],
             [
              0.5555555555555556,
              "#d8576b"
             ],
             [
              0.6666666666666666,
              "#ed7953"
             ],
             [
              0.7777777777777778,
              "#fb9f3a"
             ],
             [
              0.8888888888888888,
              "#fdca26"
             ],
             [
              1,
              "#f0f921"
             ]
            ],
            "type": "histogram2d"
           }
          ],
          "histogram2dcontour": [
           {
            "colorbar": {
             "outlinewidth": 0,
             "ticks": ""
            },
            "colorscale": [
             [
              0,
              "#0d0887"
             ],
             [
              0.1111111111111111,
              "#46039f"
             ],
             [
              0.2222222222222222,
              "#7201a8"
             ],
             [
              0.3333333333333333,
              "#9c179e"
             ],
             [
              0.4444444444444444,
              "#bd3786"
             ],
             [
              0.5555555555555556,
              "#d8576b"
             ],
             [
              0.6666666666666666,
              "#ed7953"
             ],
             [
              0.7777777777777778,
              "#fb9f3a"
             ],
             [
              0.8888888888888888,
              "#fdca26"
             ],
             [
              1,
              "#f0f921"
             ]
            ],
            "type": "histogram2dcontour"
           }
          ],
          "mesh3d": [
           {
            "colorbar": {
             "outlinewidth": 0,
             "ticks": ""
            },
            "type": "mesh3d"
           }
          ],
          "parcoords": [
           {
            "line": {
             "colorbar": {
              "outlinewidth": 0,
              "ticks": ""
             }
            },
            "type": "parcoords"
           }
          ],
          "pie": [
           {
            "automargin": true,
            "type": "pie"
           }
          ],
          "scatter": [
           {
            "fillpattern": {
             "fillmode": "overlay",
             "size": 10,
             "solidity": 0.2
            },
            "type": "scatter"
           }
          ],
          "scatter3d": [
           {
            "line": {
             "colorbar": {
              "outlinewidth": 0,
              "ticks": ""
             }
            },
            "marker": {
             "colorbar": {
              "outlinewidth": 0,
              "ticks": ""
             }
            },
            "type": "scatter3d"
           }
          ],
          "scattercarpet": [
           {
            "marker": {
             "colorbar": {
              "outlinewidth": 0,
              "ticks": ""
             }
            },
            "type": "scattercarpet"
           }
          ],
          "scattergeo": [
           {
            "marker": {
             "colorbar": {
              "outlinewidth": 0,
              "ticks": ""
             }
            },
            "type": "scattergeo"
           }
          ],
          "scattergl": [
           {
            "marker": {
             "colorbar": {
              "outlinewidth": 0,
              "ticks": ""
             }
            },
            "type": "scattergl"
           }
          ],
          "scattermapbox": [
           {
            "marker": {
             "colorbar": {
              "outlinewidth": 0,
              "ticks": ""
             }
            },
            "type": "scattermapbox"
           }
          ],
          "scatterpolar": [
           {
            "marker": {
             "colorbar": {
              "outlinewidth": 0,
              "ticks": ""
             }
            },
            "type": "scatterpolar"
           }
          ],
          "scatterpolargl": [
           {
            "marker": {
             "colorbar": {
              "outlinewidth": 0,
              "ticks": ""
             }
            },
            "type": "scatterpolargl"
           }
          ],
          "scatterternary": [
           {
            "marker": {
             "colorbar": {
              "outlinewidth": 0,
              "ticks": ""
             }
            },
            "type": "scatterternary"
           }
          ],
          "surface": [
           {
            "colorbar": {
             "outlinewidth": 0,
             "ticks": ""
            },
            "colorscale": [
             [
              0,
              "#0d0887"
             ],
             [
              0.1111111111111111,
              "#46039f"
             ],
             [
              0.2222222222222222,
              "#7201a8"
             ],
             [
              0.3333333333333333,
              "#9c179e"
             ],
             [
              0.4444444444444444,
              "#bd3786"
             ],
             [
              0.5555555555555556,
              "#d8576b"
             ],
             [
              0.6666666666666666,
              "#ed7953"
             ],
             [
              0.7777777777777778,
              "#fb9f3a"
             ],
             [
              0.8888888888888888,
              "#fdca26"
             ],
             [
              1,
              "#f0f921"
             ]
            ],
            "type": "surface"
           }
          ],
          "table": [
           {
            "cells": {
             "fill": {
              "color": "#EBF0F8"
             },
             "line": {
              "color": "white"
             }
            },
            "header": {
             "fill": {
              "color": "#C8D4E3"
             },
             "line": {
              "color": "white"
             }
            },
            "type": "table"
           }
          ]
         },
         "layout": {
          "annotationdefaults": {
           "arrowcolor": "#2a3f5f",
           "arrowhead": 0,
           "arrowwidth": 1
          },
          "autotypenumbers": "strict",
          "coloraxis": {
           "colorbar": {
            "outlinewidth": 0,
            "ticks": ""
           }
          },
          "colorscale": {
           "diverging": [
            [
             0,
             "#8e0152"
            ],
            [
             0.1,
             "#c51b7d"
            ],
            [
             0.2,
             "#de77ae"
            ],
            [
             0.3,
             "#f1b6da"
            ],
            [
             0.4,
             "#fde0ef"
            ],
            [
             0.5,
             "#f7f7f7"
            ],
            [
             0.6,
             "#e6f5d0"
            ],
            [
             0.7,
             "#b8e186"
            ],
            [
             0.8,
             "#7fbc41"
            ],
            [
             0.9,
             "#4d9221"
            ],
            [
             1,
             "#276419"
            ]
           ],
           "sequential": [
            [
             0,
             "#0d0887"
            ],
            [
             0.1111111111111111,
             "#46039f"
            ],
            [
             0.2222222222222222,
             "#7201a8"
            ],
            [
             0.3333333333333333,
             "#9c179e"
            ],
            [
             0.4444444444444444,
             "#bd3786"
            ],
            [
             0.5555555555555556,
             "#d8576b"
            ],
            [
             0.6666666666666666,
             "#ed7953"
            ],
            [
             0.7777777777777778,
             "#fb9f3a"
            ],
            [
             0.8888888888888888,
             "#fdca26"
            ],
            [
             1,
             "#f0f921"
            ]
           ],
           "sequentialminus": [
            [
             0,
             "#0d0887"
            ],
            [
             0.1111111111111111,
             "#46039f"
            ],
            [
             0.2222222222222222,
             "#7201a8"
            ],
            [
             0.3333333333333333,
             "#9c179e"
            ],
            [
             0.4444444444444444,
             "#bd3786"
            ],
            [
             0.5555555555555556,
             "#d8576b"
            ],
            [
             0.6666666666666666,
             "#ed7953"
            ],
            [
             0.7777777777777778,
             "#fb9f3a"
            ],
            [
             0.8888888888888888,
             "#fdca26"
            ],
            [
             1,
             "#f0f921"
            ]
           ]
          },
          "colorway": [
           "#636efa",
           "#EF553B",
           "#00cc96",
           "#ab63fa",
           "#FFA15A",
           "#19d3f3",
           "#FF6692",
           "#B6E880",
           "#FF97FF",
           "#FECB52"
          ],
          "font": {
           "color": "#2a3f5f"
          },
          "geo": {
           "bgcolor": "white",
           "lakecolor": "white",
           "landcolor": "#E5ECF6",
           "showlakes": true,
           "showland": true,
           "subunitcolor": "white"
          },
          "hoverlabel": {
           "align": "left"
          },
          "hovermode": "closest",
          "mapbox": {
           "style": "light"
          },
          "paper_bgcolor": "white",
          "plot_bgcolor": "#E5ECF6",
          "polar": {
           "angularaxis": {
            "gridcolor": "white",
            "linecolor": "white",
            "ticks": ""
           },
           "bgcolor": "#E5ECF6",
           "radialaxis": {
            "gridcolor": "white",
            "linecolor": "white",
            "ticks": ""
           }
          },
          "scene": {
           "xaxis": {
            "backgroundcolor": "#E5ECF6",
            "gridcolor": "white",
            "gridwidth": 2,
            "linecolor": "white",
            "showbackground": true,
            "ticks": "",
            "zerolinecolor": "white"
           },
           "yaxis": {
            "backgroundcolor": "#E5ECF6",
            "gridcolor": "white",
            "gridwidth": 2,
            "linecolor": "white",
            "showbackground": true,
            "ticks": "",
            "zerolinecolor": "white"
           },
           "zaxis": {
            "backgroundcolor": "#E5ECF6",
            "gridcolor": "white",
            "gridwidth": 2,
            "linecolor": "white",
            "showbackground": true,
            "ticks": "",
            "zerolinecolor": "white"
           }
          },
          "shapedefaults": {
           "line": {
            "color": "#2a3f5f"
           }
          },
          "ternary": {
           "aaxis": {
            "gridcolor": "white",
            "linecolor": "white",
            "ticks": ""
           },
           "baxis": {
            "gridcolor": "white",
            "linecolor": "white",
            "ticks": ""
           },
           "bgcolor": "#E5ECF6",
           "caxis": {
            "gridcolor": "white",
            "linecolor": "white",
            "ticks": ""
           }
          },
          "title": {
           "x": 0.05
          },
          "xaxis": {
           "automargin": true,
           "gridcolor": "white",
           "linecolor": "white",
           "ticks": "",
           "title": {
            "standoff": 15
           },
           "zerolinecolor": "white",
           "zerolinewidth": 2
          },
          "yaxis": {
           "automargin": true,
           "gridcolor": "white",
           "linecolor": "white",
           "ticks": "",
           "title": {
            "standoff": 15
           },
           "zerolinecolor": "white",
           "zerolinewidth": 2
          }
         }
        },
        "title": {
         "text": "Passenger Volumes from Dutch Airports"
        },
        "updatemenus": [
         {
          "buttons": [
           {
            "args": [
             null,
             {
              "frame": {
               "duration": 500,
               "redraw": true
              },
              "fromcurrent": true,
              "mode": "immediate",
              "transition": {
               "duration": 500,
               "easing": "linear"
              }
             }
            ],
            "label": "&#9654;",
            "method": "animate"
           },
           {
            "args": [
             [
              null
             ],
             {
              "frame": {
               "duration": 0,
               "redraw": true
              },
              "fromcurrent": true,
              "mode": "immediate",
              "transition": {
               "duration": 0,
               "easing": "linear"
              }
             }
            ],
            "label": "&#9724;",
            "method": "animate"
           }
          ],
          "direction": "left",
          "pad": {
           "r": 10,
           "t": 70
          },
          "showactive": false,
          "type": "buttons",
          "x": 0.1,
          "xanchor": "right",
          "y": 0,
          "yanchor": "top"
         }
        ]
       }
      }
     },
     "metadata": {},
     "output_type": "display_data"
    },
    {
     "data": {
      "application/vnd.plotly.v1+json": {
       "config": {
        "plotlyServerURL": "https://plot.ly"
       },
       "data": [
        {
         "geo": "geo",
         "hovertemplate": "<b>%{hovertext}</b><br><br>Periods=2019-01-01 00:00:00<br>value=%{marker.size}<br>lat=%{lat}<br>lon=%{lon}<extra></extra>",
         "hovertext": [
          "EU Countries",
          "Other Europe",
          "North Africa",
          "West Africa",
          "Central Africa",
          "East Africa",
          "South Africa",
          "North America",
          "Central America",
          "South America",
          "West Asia",
          "South East Asia",
          "North East Asia",
          "Oceania"
         ],
         "lat": [
          51.06817476731436,
          51.104656094663596,
          30.437364261879395,
          7.959928997986893,
          6.382857433441359,
          4.621142864680792,
          -21.36137412154011,
          39.10831477183257,
          14.055530777684297,
          -16.37707312732043,
          34.361920786534085,
          17.706181315873863,
          36.550432558533785,
          -23.58328814497935
         ],
         "legendgroup": "",
         "lon": [
          7.483156574929211,
          30.497434511924325,
          14.533600264930044,
          -5.73665308026392,
          25.274620301872687,
          45.742644027389815,
          22.937458352453206,
          -99.4877492264568,
          -86.12919315960363,
          -57.79900810912669,
          46.37348934350911,
          101.17889439841429,
          127.29844484711793,
          138.75457210763784
         ],
         "marker": {
          "color": "#636efa",
          "size": [
           5783,
           13925,
           1286,
           1037,
           200,
           8051,
           2911,
           20861,
           4198,
           11080,
           19241,
           9199,
           35672,
           0
          ],
          "sizemode": "area",
          "sizeref": 103.54,
          "symbol": "circle"
         },
         "mode": "markers",
         "name": "",
         "showlegend": false,
         "type": "scattergeo"
        }
       ],
       "frames": [
        {
         "data": [
          {
           "geo": "geo",
           "hovertemplate": "<b>%{hovertext}</b><br><br>Periods=2019-01-01 00:00:00<br>value=%{marker.size}<br>lat=%{lat}<br>lon=%{lon}<extra></extra>",
           "hovertext": [
            "EU Countries",
            "Other Europe",
            "North Africa",
            "West Africa",
            "Central Africa",
            "East Africa",
            "South Africa",
            "North America",
            "Central America",
            "South America",
            "West Asia",
            "South East Asia",
            "North East Asia",
            "Oceania"
           ],
           "lat": [
            51.06817476731436,
            51.104656094663596,
            30.437364261879395,
            7.959928997986893,
            6.382857433441359,
            4.621142864680792,
            -21.36137412154011,
            39.10831477183257,
            14.055530777684297,
            -16.37707312732043,
            34.361920786534085,
            17.706181315873863,
            36.550432558533785,
            -23.58328814497935
           ],
           "legendgroup": "",
           "lon": [
            7.483156574929211,
            30.497434511924325,
            14.533600264930044,
            -5.73665308026392,
            25.274620301872687,
            45.742644027389815,
            22.937458352453206,
            -99.4877492264568,
            -86.12919315960363,
            -57.79900810912669,
            46.37348934350911,
            101.17889439841429,
            127.29844484711793,
            138.75457210763784
           ],
           "marker": {
            "color": "#636efa",
            "size": [
             5783,
             13925,
             1286,
             1037,
             200,
             8051,
             2911,
             20861,
             4198,
             11080,
             19241,
             9199,
             35672,
             0
            ],
            "sizemode": "area",
            "sizeref": 103.54,
            "symbol": "circle"
           },
           "mode": "markers",
           "name": "",
           "showlegend": false,
           "type": "scattergeo"
          }
         ],
         "name": "2019-01-01 00:00:00"
        },
        {
         "data": [
          {
           "geo": "geo",
           "hovertemplate": "<b>%{hovertext}</b><br><br>Periods=2019-02-01 00:00:00<br>value=%{marker.size}<br>lat=%{lat}<br>lon=%{lon}<extra></extra>",
           "hovertext": [
            "EU Countries",
            "Other Europe",
            "North Africa",
            "West Africa",
            "Central Africa",
            "East Africa",
            "South Africa",
            "North America",
            "Central America",
            "South America",
            "West Asia",
            "South East Asia",
            "North East Asia",
            "Oceania"
           ],
           "lat": [
            51.06817476731436,
            51.104656094663596,
            30.437364261879395,
            7.959928997986893,
            6.382857433441359,
            4.621142864680792,
            -21.36137412154011,
            39.10831477183257,
            14.055530777684297,
            -16.37707312732043,
            34.361920786534085,
            17.706181315873863,
            36.550432558533785,
            -23.58328814497935
           ],
           "legendgroup": "",
           "lon": [
            7.483156574929211,
            30.497434511924325,
            14.533600264930044,
            -5.73665308026392,
            25.274620301872687,
            45.742644027389815,
            22.937458352453206,
            -99.4877492264568,
            -86.12919315960363,
            -57.79900810912669,
            46.37348934350911,
            101.17889439841429,
            127.29844484711793,
            138.75457210763784
           ],
           "marker": {
            "color": "#636efa",
            "size": [
             5771,
             12854,
             1241,
             999,
             180,
             9604,
             3260,
             24643,
             4136,
             11029,
             17718,
             9633,
             27254,
             0
            ],
            "sizemode": "area",
            "sizeref": 103.54,
            "symbol": "circle"
           },
           "mode": "markers",
           "name": "",
           "showlegend": false,
           "type": "scattergeo"
          }
         ],
         "name": "2019-02-01 00:00:00"
        },
        {
         "data": [
          {
           "geo": "geo",
           "hovertemplate": "<b>%{hovertext}</b><br><br>Periods=2019-03-01 00:00:00<br>value=%{marker.size}<br>lat=%{lat}<br>lon=%{lon}<extra></extra>",
           "hovertext": [
            "EU Countries",
            "Other Europe",
            "North Africa",
            "West Africa",
            "Central Africa",
            "East Africa",
            "South Africa",
            "North America",
            "Central America",
            "South America",
            "West Asia",
            "South East Asia",
            "North East Asia",
            "Oceania"
           ],
           "lat": [
            51.06817476731436,
            51.104656094663596,
            30.437364261879395,
            7.959928997986893,
            6.382857433441359,
            4.621142864680792,
            -21.36137412154011,
            39.10831477183257,
            14.055530777684297,
            -16.37707312732043,
            34.361920786534085,
            17.706181315873863,
            36.550432558533785,
            -23.58328814497935
           ],
           "legendgroup": "",
           "lon": [
            7.483156574929211,
            30.497434511924325,
            14.533600264930044,
            -5.73665308026392,
            25.274620301872687,
            45.742644027389815,
            22.937458352453206,
            -99.4877492264568,
            -86.12919315960363,
            -57.79900810912669,
            46.37348934350911,
            101.17889439841429,
            127.29844484711793,
            138.75457210763784
           ],
           "marker": {
            "color": "#636efa",
            "size": [
             6470,
             19460,
             1149,
             1096,
             232,
             9698,
             3849,
             27310,
             4582,
             11663,
             19443,
             10500,
             39975,
             0
            ],
            "sizemode": "area",
            "sizeref": 103.54,
            "symbol": "circle"
           },
           "mode": "markers",
           "name": "",
           "showlegend": false,
           "type": "scattergeo"
          }
         ],
         "name": "2019-03-01 00:00:00"
        },
        {
         "data": [
          {
           "geo": "geo",
           "hovertemplate": "<b>%{hovertext}</b><br><br>Periods=2019-04-01 00:00:00<br>value=%{marker.size}<br>lat=%{lat}<br>lon=%{lon}<extra></extra>",
           "hovertext": [
            "EU Countries",
            "Other Europe",
            "North Africa",
            "West Africa",
            "Central Africa",
            "East Africa",
            "South Africa",
            "North America",
            "Central America",
            "South America",
            "West Asia",
            "South East Asia",
            "North East Asia",
            "Oceania"
           ],
           "lat": [
            51.06817476731436,
            51.104656094663596,
            30.437364261879395,
            7.959928997986893,
            6.382857433441359,
            4.621142864680792,
            -21.36137412154011,
            39.10831477183257,
            14.055530777684297,
            -16.37707312732043,
            34.361920786534085,
            17.706181315873863,
            36.550432558533785,
            -23.58328814497935
           ],
           "legendgroup": "",
           "lon": [
            7.483156574929211,
            30.497434511924325,
            14.533600264930044,
            -5.73665308026392,
            25.274620301872687,
            45.742644027389815,
            22.937458352453206,
            -99.4877492264568,
            -86.12919315960363,
            -57.79900810912669,
            46.37348934350911,
            101.17889439841429,
            127.29844484711793,
            138.75457210763784
           ],
           "marker": {
            "color": "#636efa",
            "size": [
             4943,
             16577,
             975,
             1073,
             241,
             9449,
             3284,
             24797,
             3822,
             10730,
             17962,
             8046,
             36259,
             0
            ],
            "sizemode": "area",
            "sizeref": 103.54,
            "symbol": "circle"
           },
           "mode": "markers",
           "name": "",
           "showlegend": false,
           "type": "scattergeo"
          }
         ],
         "name": "2019-04-01 00:00:00"
        },
        {
         "data": [
          {
           "geo": "geo",
           "hovertemplate": "<b>%{hovertext}</b><br><br>Periods=2019-05-01 00:00:00<br>value=%{marker.size}<br>lat=%{lat}<br>lon=%{lon}<extra></extra>",
           "hovertext": [
            "EU Countries",
            "Other Europe",
            "North Africa",
            "West Africa",
            "Central Africa",
            "East Africa",
            "South Africa",
            "North America",
            "Central America",
            "South America",
            "West Asia",
            "South East Asia",
            "North East Asia",
            "Oceania"
           ],
           "lat": [
            51.06817476731436,
            51.104656094663596,
            30.437364261879395,
            7.959928997986893,
            6.382857433441359,
            4.621142864680792,
            -21.36137412154011,
            39.10831477183257,
            14.055530777684297,
            -16.37707312732043,
            34.361920786534085,
            17.706181315873863,
            36.550432558533785,
            -23.58328814497935
           ],
           "legendgroup": "",
           "lon": [
            7.483156574929211,
            30.497434511924325,
            14.533600264930044,
            -5.73665308026392,
            25.274620301872687,
            45.742644027389815,
            22.937458352453206,
            -99.4877492264568,
            -86.12919315960363,
            -57.79900810912669,
            46.37348934350911,
            101.17889439841429,
            127.29844484711793,
            138.75457210763784
           ],
           "marker": {
            "color": "#636efa",
            "size": [
             5035,
             19190,
             706,
             1105,
             219,
             9876,
             4088,
             26041,
             3480,
             11371,
             18340,
             7497,
             37592,
             0
            ],
            "sizemode": "area",
            "sizeref": 103.54,
            "symbol": "circle"
           },
           "mode": "markers",
           "name": "",
           "showlegend": false,
           "type": "scattergeo"
          }
         ],
         "name": "2019-05-01 00:00:00"
        },
        {
         "data": [
          {
           "geo": "geo",
           "hovertemplate": "<b>%{hovertext}</b><br><br>Periods=2019-06-01 00:00:00<br>value=%{marker.size}<br>lat=%{lat}<br>lon=%{lon}<extra></extra>",
           "hovertext": [
            "EU Countries",
            "Other Europe",
            "North Africa",
            "West Africa",
            "Central Africa",
            "East Africa",
            "South Africa",
            "North America",
            "Central America",
            "South America",
            "West Asia",
            "South East Asia",
            "North East Asia",
            "Oceania"
           ],
           "lat": [
            51.06817476731436,
            51.104656094663596,
            30.437364261879395,
            7.959928997986893,
            6.382857433441359,
            4.621142864680792,
            -21.36137412154011,
            39.10831477183257,
            14.055530777684297,
            -16.37707312732043,
            34.361920786534085,
            17.706181315873863,
            36.550432558533785,
            -23.58328814497935
           ],
           "legendgroup": "",
           "lon": [
            7.483156574929211,
            30.497434511924325,
            14.533600264930044,
            -5.73665308026392,
            25.274620301872687,
            45.742644027389815,
            22.937458352453206,
            -99.4877492264568,
            -86.12919315960363,
            -57.79900810912669,
            46.37348934350911,
            101.17889439841429,
            127.29844484711793,
            138.75457210763784
           ],
           "marker": {
            "color": "#636efa",
            "size": [
             4853,
             15745,
             866,
             1037,
             207,
             7601,
             3705,
             26080,
             3478,
             9952,
             16347,
             6680,
             35419,
             0
            ],
            "sizemode": "area",
            "sizeref": 103.54,
            "symbol": "circle"
           },
           "mode": "markers",
           "name": "",
           "showlegend": false,
           "type": "scattergeo"
          }
         ],
         "name": "2019-06-01 00:00:00"
        },
        {
         "data": [
          {
           "geo": "geo",
           "hovertemplate": "<b>%{hovertext}</b><br><br>Periods=2019-07-01 00:00:00<br>value=%{marker.size}<br>lat=%{lat}<br>lon=%{lon}<extra></extra>",
           "hovertext": [
            "EU Countries",
            "Other Europe",
            "North Africa",
            "West Africa",
            "Central Africa",
            "East Africa",
            "South Africa",
            "North America",
            "Central America",
            "South America",
            "West Asia",
            "South East Asia",
            "North East Asia",
            "Oceania"
           ],
           "lat": [
            51.06817476731436,
            51.104656094663596,
            30.437364261879395,
            7.959928997986893,
            6.382857433441359,
            4.621142864680792,
            -21.36137412154011,
            39.10831477183257,
            14.055530777684297,
            -16.37707312732043,
            34.361920786534085,
            17.706181315873863,
            36.550432558533785,
            -23.58328814497935
           ],
           "legendgroup": "",
           "lon": [
            7.483156574929211,
            30.497434511924325,
            14.533600264930044,
            -5.73665308026392,
            25.274620301872687,
            45.742644027389815,
            22.937458352453206,
            -99.4877492264568,
            -86.12919315960363,
            -57.79900810912669,
            46.37348934350911,
            101.17889439841429,
            127.29844484711793,
            138.75457210763784
           ],
           "marker": {
            "color": "#636efa",
            "size": [
             5508,
             17938,
             590,
             1139,
             225,
             7836,
             3678,
             25545,
             3711,
             9596,
             18747,
             6812,
             36066,
             0
            ],
            "sizemode": "area",
            "sizeref": 103.54,
            "symbol": "circle"
           },
           "mode": "markers",
           "name": "",
           "showlegend": false,
           "type": "scattergeo"
          }
         ],
         "name": "2019-07-01 00:00:00"
        },
        {
         "data": [
          {
           "geo": "geo",
           "hovertemplate": "<b>%{hovertext}</b><br><br>Periods=2019-08-01 00:00:00<br>value=%{marker.size}<br>lat=%{lat}<br>lon=%{lon}<extra></extra>",
           "hovertext": [
            "EU Countries",
            "Other Europe",
            "North Africa",
            "West Africa",
            "Central Africa",
            "East Africa",
            "South Africa",
            "North America",
            "Central America",
            "South America",
            "West Asia",
            "South East Asia",
            "North East Asia",
            "Oceania"
           ],
           "lat": [
            51.06817476731436,
            51.104656094663596,
            30.437364261879395,
            7.959928997986893,
            6.382857433441359,
            4.621142864680792,
            -21.36137412154011,
            39.10831477183257,
            14.055530777684297,
            -16.37707312732043,
            34.361920786534085,
            17.706181315873863,
            36.550432558533785,
            -23.58328814497935
           ],
           "legendgroup": "",
           "lon": [
            7.483156574929211,
            30.497434511924325,
            14.533600264930044,
            -5.73665308026392,
            25.274620301872687,
            45.742644027389815,
            22.937458352453206,
            -99.4877492264568,
            -86.12919315960363,
            -57.79900810912669,
            46.37348934350911,
            101.17889439841429,
            127.29844484711793,
            138.75457210763784
           ],
           "marker": {
            "color": "#636efa",
            "size": [
             5394,
             16285,
             599,
             1117,
             256,
             8455,
             3680,
             25585,
             3770,
             10898,
             17200,
             7495,
             34529,
             0
            ],
            "sizemode": "area",
            "sizeref": 103.54,
            "symbol": "circle"
           },
           "mode": "markers",
           "name": "",
           "showlegend": false,
           "type": "scattergeo"
          }
         ],
         "name": "2019-08-01 00:00:00"
        },
        {
         "data": [
          {
           "geo": "geo",
           "hovertemplate": "<b>%{hovertext}</b><br><br>Periods=2019-09-01 00:00:00<br>value=%{marker.size}<br>lat=%{lat}<br>lon=%{lon}<extra></extra>",
           "hovertext": [
            "EU Countries",
            "Other Europe",
            "North Africa",
            "West Africa",
            "Central Africa",
            "East Africa",
            "South Africa",
            "North America",
            "Central America",
            "South America",
            "West Asia",
            "South East Asia",
            "North East Asia",
            "Oceania"
           ],
           "lat": [
            51.06817476731436,
            51.104656094663596,
            30.437364261879395,
            7.959928997986893,
            6.382857433441359,
            4.621142864680792,
            -21.36137412154011,
            39.10831477183257,
            14.055530777684297,
            -16.37707312732043,
            34.361920786534085,
            17.706181315873863,
            36.550432558533785,
            -23.58328814497935
           ],
           "legendgroup": "",
           "lon": [
            7.483156574929211,
            30.497434511924325,
            14.533600264930044,
            -5.73665308026392,
            25.274620301872687,
            45.742644027389815,
            22.937458352453206,
            -99.4877492264568,
            -86.12919315960363,
            -57.79900810912669,
            46.37348934350911,
            101.17889439841429,
            127.29844484711793,
            138.75457210763784
           ],
           "marker": {
            "color": "#636efa",
            "size": [
             5399,
             18445,
             650,
             946,
             277,
             8561,
             3764,
             25564,
             3548,
             10419,
             17537,
             8507,
             37020,
             0
            ],
            "sizemode": "area",
            "sizeref": 103.54,
            "symbol": "circle"
           },
           "mode": "markers",
           "name": "",
           "showlegend": false,
           "type": "scattergeo"
          }
         ],
         "name": "2019-09-01 00:00:00"
        },
        {
         "data": [
          {
           "geo": "geo",
           "hovertemplate": "<b>%{hovertext}</b><br><br>Periods=2019-10-01 00:00:00<br>value=%{marker.size}<br>lat=%{lat}<br>lon=%{lon}<extra></extra>",
           "hovertext": [
            "EU Countries",
            "Other Europe",
            "North Africa",
            "West Africa",
            "Central Africa",
            "East Africa",
            "South Africa",
            "North America",
            "Central America",
            "South America",
            "West Asia",
            "South East Asia",
            "North East Asia",
            "Oceania"
           ],
           "lat": [
            51.06817476731436,
            51.104656094663596,
            30.437364261879395,
            7.959928997986893,
            6.382857433441359,
            4.621142864680792,
            -21.36137412154011,
            39.10831477183257,
            14.055530777684297,
            -16.37707312732043,
            34.361920786534085,
            17.706181315873863,
            36.550432558533785,
            -23.58328814497935
           ],
           "legendgroup": "",
           "lon": [
            7.483156574929211,
            30.497434511924325,
            14.533600264930044,
            -5.73665308026392,
            25.274620301872687,
            45.742644027389815,
            22.937458352453206,
            -99.4877492264568,
            -86.12919315960363,
            -57.79900810912669,
            46.37348934350911,
            101.17889439841429,
            127.29844484711793,
            138.75457210763784
           ],
           "marker": {
            "color": "#636efa",
            "size": [
             6435,
             20579,
             811,
             856,
             252,
             9047,
             3703,
             25966,
             3923,
             11568,
             19867,
             8906,
             38216,
             0
            ],
            "sizemode": "area",
            "sizeref": 103.54,
            "symbol": "circle"
           },
           "mode": "markers",
           "name": "",
           "showlegend": false,
           "type": "scattergeo"
          }
         ],
         "name": "2019-10-01 00:00:00"
        },
        {
         "data": [
          {
           "geo": "geo",
           "hovertemplate": "<b>%{hovertext}</b><br><br>Periods=2019-11-01 00:00:00<br>value=%{marker.size}<br>lat=%{lat}<br>lon=%{lon}<extra></extra>",
           "hovertext": [
            "EU Countries",
            "Other Europe",
            "North Africa",
            "West Africa",
            "Central Africa",
            "East Africa",
            "South Africa",
            "North America",
            "Central America",
            "South America",
            "West Asia",
            "South East Asia",
            "North East Asia",
            "Oceania"
           ],
           "lat": [
            51.06817476731436,
            51.104656094663596,
            30.437364261879395,
            7.959928997986893,
            6.382857433441359,
            4.621142864680792,
            -21.36137412154011,
            39.10831477183257,
            14.055530777684297,
            -16.37707312732043,
            34.361920786534085,
            17.706181315873863,
            36.550432558533785,
            -23.58328814497935
           ],
           "legendgroup": "",
           "lon": [
            7.483156574929211,
            30.497434511924325,
            14.533600264930044,
            -5.73665308026392,
            25.274620301872687,
            45.742644027389815,
            22.937458352453206,
            -99.4877492264568,
            -86.12919315960363,
            -57.79900810912669,
            46.37348934350911,
            101.17889439841429,
            127.29844484711793,
            138.75457210763784
           ],
           "marker": {
            "color": "#636efa",
            "size": [
             7036,
             20537,
             958,
             934,
             197,
             6791,
             4065,
             23038,
             4049,
             12395,
             21681,
             8319,
             38037,
             0
            ],
            "sizemode": "area",
            "sizeref": 103.54,
            "symbol": "circle"
           },
           "mode": "markers",
           "name": "",
           "showlegend": false,
           "type": "scattergeo"
          }
         ],
         "name": "2019-11-01 00:00:00"
        },
        {
         "data": [
          {
           "geo": "geo",
           "hovertemplate": "<b>%{hovertext}</b><br><br>Periods=2019-12-01 00:00:00<br>value=%{marker.size}<br>lat=%{lat}<br>lon=%{lon}<extra></extra>",
           "hovertext": [
            "EU Countries",
            "Other Europe",
            "North Africa",
            "West Africa",
            "Central Africa",
            "East Africa",
            "South Africa",
            "North America",
            "Central America",
            "South America",
            "West Asia",
            "South East Asia",
            "North East Asia",
            "Oceania"
           ],
           "lat": [
            51.06817476731436,
            51.104656094663596,
            30.437364261879395,
            7.959928997986893,
            6.382857433441359,
            4.621142864680792,
            -21.36137412154011,
            39.10831477183257,
            14.055530777684297,
            -16.37707312732043,
            34.361920786534085,
            17.706181315873863,
            36.550432558533785,
            -23.58328814497935
           ],
           "legendgroup": "",
           "lon": [
            7.483156574929211,
            30.497434511924325,
            14.533600264930044,
            -5.73665308026392,
            25.274620301872687,
            45.742644027389815,
            22.937458352453206,
            -99.4877492264568,
            -86.12919315960363,
            -57.79900810912669,
            46.37348934350911,
            101.17889439841429,
            127.29844484711793,
            138.75457210763784
           ],
           "marker": {
            "color": "#636efa",
            "size": [
             6022,
             18158,
             1484,
             1024,
             216,
             6215,
             3338,
             21905,
             3990,
             11970,
             20780,
             8077,
             35205,
             0
            ],
            "sizemode": "area",
            "sizeref": 103.54,
            "symbol": "circle"
           },
           "mode": "markers",
           "name": "",
           "showlegend": false,
           "type": "scattergeo"
          }
         ],
         "name": "2019-12-01 00:00:00"
        },
        {
         "data": [
          {
           "geo": "geo",
           "hovertemplate": "<b>%{hovertext}</b><br><br>Periods=2020-01-01 00:00:00<br>value=%{marker.size}<br>lat=%{lat}<br>lon=%{lon}<extra></extra>",
           "hovertext": [
            "EU Countries",
            "Other Europe",
            "North Africa",
            "West Africa",
            "Central Africa",
            "East Africa",
            "South Africa",
            "North America",
            "Central America",
            "South America",
            "West Asia",
            "South East Asia",
            "North East Asia",
            "Oceania"
           ],
           "lat": [
            51.06817476731436,
            51.104656094663596,
            30.437364261879395,
            7.959928997986893,
            6.382857433441359,
            4.621142864680792,
            -21.36137412154011,
            39.10831477183257,
            14.055530777684297,
            -16.37707312732043,
            34.361920786534085,
            17.706181315873863,
            36.550432558533785,
            -23.58328814497935
           ],
           "legendgroup": "",
           "lon": [
            7.483156574929211,
            30.497434511924325,
            14.533600264930044,
            -5.73665308026392,
            25.274620301872687,
            45.742644027389815,
            22.937458352453206,
            -99.4877492264568,
            -86.12919315960363,
            -57.79900810912669,
            46.37348934350911,
            101.17889439841429,
            127.29844484711793,
            138.75457210763784
           ],
           "marker": {
            "color": "#636efa",
            "size": [
             5753,
             12721,
             905,
             1015,
             156,
             6220,
             2606,
             20850,
             3725,
             11196,
             20132,
             7171,
             29805,
             0
            ],
            "sizemode": "area",
            "sizeref": 103.54,
            "symbol": "circle"
           },
           "mode": "markers",
           "name": "",
           "showlegend": false,
           "type": "scattergeo"
          }
         ],
         "name": "2020-01-01 00:00:00"
        },
        {
         "data": [
          {
           "geo": "geo",
           "hovertemplate": "<b>%{hovertext}</b><br><br>Periods=2020-02-01 00:00:00<br>value=%{marker.size}<br>lat=%{lat}<br>lon=%{lon}<extra></extra>",
           "hovertext": [
            "EU Countries",
            "Other Europe",
            "North Africa",
            "West Africa",
            "Central Africa",
            "East Africa",
            "South Africa",
            "North America",
            "Central America",
            "South America",
            "West Asia",
            "South East Asia",
            "North East Asia",
            "Oceania"
           ],
           "lat": [
            51.06817476731436,
            51.104656094663596,
            30.437364261879395,
            7.959928997986893,
            6.382857433441359,
            4.621142864680792,
            -21.36137412154011,
            39.10831477183257,
            14.055530777684297,
            -16.37707312732043,
            34.361920786534085,
            17.706181315873863,
            36.550432558533785,
            -23.58328814497935
           ],
           "legendgroup": "",
           "lon": [
            7.483156574929211,
            30.497434511924325,
            14.533600264930044,
            -5.73665308026392,
            25.274620301872687,
            45.742644027389815,
            22.937458352453206,
            -99.4877492264568,
            -86.12919315960363,
            -57.79900810912669,
            46.37348934350911,
            101.17889439841429,
            127.29844484711793,
            138.75457210763784
           ],
           "marker": {
            "color": "#636efa",
            "size": [
             6551,
             11216,
             920,
             1116,
             165,
             7599,
             3597,
             23477,
             4275,
             12578,
             20768,
             8479,
             25986,
             0
            ],
            "sizemode": "area",
            "sizeref": 103.54,
            "symbol": "circle"
           },
           "mode": "markers",
           "name": "",
           "showlegend": false,
           "type": "scattergeo"
          }
         ],
         "name": "2020-02-01 00:00:00"
        },
        {
         "data": [
          {
           "geo": "geo",
           "hovertemplate": "<b>%{hovertext}</b><br><br>Periods=2020-03-01 00:00:00<br>value=%{marker.size}<br>lat=%{lat}<br>lon=%{lon}<extra></extra>",
           "hovertext": [
            "EU Countries",
            "Other Europe",
            "North Africa",
            "West Africa",
            "Central Africa",
            "East Africa",
            "South Africa",
            "North America",
            "Central America",
            "South America",
            "West Asia",
            "South East Asia",
            "North East Asia",
            "Oceania"
           ],
           "lat": [
            51.06817476731436,
            51.104656094663596,
            30.437364261879395,
            7.959928997986893,
            6.382857433441359,
            4.621142864680792,
            -21.36137412154011,
            39.10831477183257,
            14.055530777684297,
            -16.37707312732043,
            34.361920786534085,
            17.706181315873863,
            36.550432558533785,
            -23.58328814497935
           ],
           "legendgroup": "",
           "lon": [
            7.483156574929211,
            30.497434511924325,
            14.533600264930044,
            -5.73665308026392,
            25.274620301872687,
            45.742644027389815,
            22.937458352453206,
            -99.4877492264568,
            -86.12919315960363,
            -57.79900810912669,
            46.37348934350911,
            101.17889439841429,
            127.29844484711793,
            138.75457210763784
           ],
           "marker": {
            "color": "#636efa",
            "size": [
             5272,
             15781,
             997,
             826,
             143,
             6008,
             3141,
             22446,
             3377,
             9059,
             22049,
             7987,
             30909,
             0
            ],
            "sizemode": "area",
            "sizeref": 103.54,
            "symbol": "circle"
           },
           "mode": "markers",
           "name": "",
           "showlegend": false,
           "type": "scattergeo"
          }
         ],
         "name": "2020-03-01 00:00:00"
        },
        {
         "data": [
          {
           "geo": "geo",
           "hovertemplate": "<b>%{hovertext}</b><br><br>Periods=2020-04-01 00:00:00<br>value=%{marker.size}<br>lat=%{lat}<br>lon=%{lon}<extra></extra>",
           "hovertext": [
            "EU Countries",
            "Other Europe",
            "North Africa",
            "West Africa",
            "Central Africa",
            "East Africa",
            "South Africa",
            "North America",
            "Central America",
            "South America",
            "West Asia",
            "South East Asia",
            "North East Asia",
            "Oceania"
           ],
           "lat": [
            51.06817476731436,
            51.104656094663596,
            30.437364261879395,
            7.959928997986893,
            6.382857433441359,
            4.621142864680792,
            -21.36137412154011,
            39.10831477183257,
            14.055530777684297,
            -16.37707312732043,
            34.361920786534085,
            17.706181315873863,
            36.550432558533785,
            -23.58328814497935
           ],
           "legendgroup": "",
           "lon": [
            7.483156574929211,
            30.497434511924325,
            14.533600264930044,
            -5.73665308026392,
            25.274620301872687,
            45.742644027389815,
            22.937458352453206,
            -99.4877492264568,
            -86.12919315960363,
            -57.79900810912669,
            46.37348934350911,
            101.17889439841429,
            127.29844484711793,
            138.75457210763784
           ],
           "marker": {
            "color": "#636efa",
            "size": [
             3158,
             14031,
             673,
             308,
             0,
             2556,
             2147,
             18949,
             1136,
             7021,
             20126,
             4253,
             29062,
             0
            ],
            "sizemode": "area",
            "sizeref": 103.54,
            "symbol": "circle"
           },
           "mode": "markers",
           "name": "",
           "showlegend": false,
           "type": "scattergeo"
          }
         ],
         "name": "2020-04-01 00:00:00"
        },
        {
         "data": [
          {
           "geo": "geo",
           "hovertemplate": "<b>%{hovertext}</b><br><br>Periods=2020-05-01 00:00:00<br>value=%{marker.size}<br>lat=%{lat}<br>lon=%{lon}<extra></extra>",
           "hovertext": [
            "EU Countries",
            "Other Europe",
            "North Africa",
            "West Africa",
            "Central Africa",
            "East Africa",
            "South Africa",
            "North America",
            "Central America",
            "South America",
            "West Asia",
            "South East Asia",
            "North East Asia",
            "Oceania"
           ],
           "lat": [
            51.06817476731436,
            51.104656094663596,
            30.437364261879395,
            7.959928997986893,
            6.382857433441359,
            4.621142864680792,
            -21.36137412154011,
            39.10831477183257,
            14.055530777684297,
            -16.37707312732043,
            34.361920786534085,
            17.706181315873863,
            36.550432558533785,
            -23.58328814497935
           ],
           "legendgroup": "",
           "lon": [
            7.483156574929211,
            30.497434511924325,
            14.533600264930044,
            -5.73665308026392,
            25.274620301872687,
            45.742644027389815,
            22.937458352453206,
            -99.4877492264568,
            -86.12919315960363,
            -57.79900810912669,
            46.37348934350911,
            101.17889439841429,
            127.29844484711793,
            138.75457210763784
           ],
           "marker": {
            "color": "#636efa",
            "size": [
             3482,
             11753,
             602,
             317,
             0,
             3713,
             3022,
             19574,
             1888,
             10392,
             20444,
             4959,
             37380,
             0
            ],
            "sizemode": "area",
            "sizeref": 103.54,
            "symbol": "circle"
           },
           "mode": "markers",
           "name": "",
           "showlegend": false,
           "type": "scattergeo"
          }
         ],
         "name": "2020-05-01 00:00:00"
        },
        {
         "data": [
          {
           "geo": "geo",
           "hovertemplate": "<b>%{hovertext}</b><br><br>Periods=2020-06-01 00:00:00<br>value=%{marker.size}<br>lat=%{lat}<br>lon=%{lon}<extra></extra>",
           "hovertext": [
            "EU Countries",
            "Other Europe",
            "North Africa",
            "West Africa",
            "Central Africa",
            "East Africa",
            "South Africa",
            "North America",
            "Central America",
            "South America",
            "West Asia",
            "South East Asia",
            "North East Asia",
            "Oceania"
           ],
           "lat": [
            51.06817476731436,
            51.104656094663596,
            30.437364261879395,
            7.959928997986893,
            6.382857433441359,
            4.621142864680792,
            -21.36137412154011,
            39.10831477183257,
            14.055530777684297,
            -16.37707312732043,
            34.361920786534085,
            17.706181315873863,
            36.550432558533785,
            -23.58328814497935
           ],
           "legendgroup": "",
           "lon": [
            7.483156574929211,
            30.497434511924325,
            14.533600264930044,
            -5.73665308026392,
            25.274620301872687,
            45.742644027389815,
            22.937458352453206,
            -99.4877492264568,
            -86.12919315960363,
            -57.79900810912669,
            46.37348934350911,
            101.17889439841429,
            127.29844484711793,
            138.75457210763784
           ],
           "marker": {
            "color": "#636efa",
            "size": [
             3986,
             10028,
             672,
             789,
             0,
             4553,
             3732,
             21118,
             1875,
             11658,
             19409,
             7569,
             36304,
             0
            ],
            "sizemode": "area",
            "sizeref": 103.54,
            "symbol": "circle"
           },
           "mode": "markers",
           "name": "",
           "showlegend": false,
           "type": "scattergeo"
          }
         ],
         "name": "2020-06-01 00:00:00"
        },
        {
         "data": [
          {
           "geo": "geo",
           "hovertemplate": "<b>%{hovertext}</b><br><br>Periods=2020-07-01 00:00:00<br>value=%{marker.size}<br>lat=%{lat}<br>lon=%{lon}<extra></extra>",
           "hovertext": [
            "EU Countries",
            "Other Europe",
            "North Africa",
            "West Africa",
            "Central Africa",
            "East Africa",
            "South Africa",
            "North America",
            "Central America",
            "South America",
            "West Asia",
            "South East Asia",
            "North East Asia",
            "Oceania"
           ],
           "lat": [
            51.06817476731436,
            51.104656094663596,
            30.437364261879395,
            7.959928997986893,
            6.382857433441359,
            4.621142864680792,
            -21.36137412154011,
            39.10831477183257,
            14.055530777684297,
            -16.37707312732043,
            34.361920786534085,
            17.706181315873863,
            36.550432558533785,
            -23.58328814497935
           ],
           "legendgroup": "",
           "lon": [
            7.483156574929211,
            30.497434511924325,
            14.533600264930044,
            -5.73665308026392,
            25.274620301872687,
            45.742644027389815,
            22.937458352453206,
            -99.4877492264568,
            -86.12919315960363,
            -57.79900810912669,
            46.37348934350911,
            101.17889439841429,
            127.29844484711793,
            138.75457210763784
           ],
           "marker": {
            "color": "#636efa",
            "size": [
             4391,
             11955,
             448,
             1397,
             0,
             5343,
             3711,
             23659,
             2220,
             12813,
             21576,
             8392,
             36776,
             0
            ],
            "sizemode": "area",
            "sizeref": 103.54,
            "symbol": "circle"
           },
           "mode": "markers",
           "name": "",
           "showlegend": false,
           "type": "scattergeo"
          }
         ],
         "name": "2020-07-01 00:00:00"
        },
        {
         "data": [
          {
           "geo": "geo",
           "hovertemplate": "<b>%{hovertext}</b><br><br>Periods=2020-08-01 00:00:00<br>value=%{marker.size}<br>lat=%{lat}<br>lon=%{lon}<extra></extra>",
           "hovertext": [
            "EU Countries",
            "Other Europe",
            "North Africa",
            "West Africa",
            "Central Africa",
            "East Africa",
            "South Africa",
            "North America",
            "Central America",
            "South America",
            "West Asia",
            "South East Asia",
            "North East Asia",
            "Oceania"
           ],
           "lat": [
            51.06817476731436,
            51.104656094663596,
            30.437364261879395,
            7.959928997986893,
            6.382857433441359,
            4.621142864680792,
            -21.36137412154011,
            39.10831477183257,
            14.055530777684297,
            -16.37707312732043,
            34.361920786534085,
            17.706181315873863,
            36.550432558533785,
            -23.58328814497935
           ],
           "legendgroup": "",
           "lon": [
            7.483156574929211,
            30.497434511924325,
            14.533600264930044,
            -5.73665308026392,
            25.274620301872687,
            45.742644027389815,
            22.937458352453206,
            -99.4877492264568,
            -86.12919315960363,
            -57.79900810912669,
            46.37348934350911,
            101.17889439841429,
            127.29844484711793,
            138.75457210763784
           ],
           "marker": {
            "color": "#636efa",
            "size": [
             3907,
             12266,
             441,
             1424,
             55,
             5107,
             3651,
             23439,
             2426,
             13392,
             23177,
             8282,
             35601,
             0
            ],
            "sizemode": "area",
            "sizeref": 103.54,
            "symbol": "circle"
           },
           "mode": "markers",
           "name": "",
           "showlegend": false,
           "type": "scattergeo"
          }
         ],
         "name": "2020-08-01 00:00:00"
        },
        {
         "data": [
          {
           "geo": "geo",
           "hovertemplate": "<b>%{hovertext}</b><br><br>Periods=2020-09-01 00:00:00<br>value=%{marker.size}<br>lat=%{lat}<br>lon=%{lon}<extra></extra>",
           "hovertext": [
            "EU Countries",
            "Other Europe",
            "North Africa",
            "West Africa",
            "Central Africa",
            "East Africa",
            "South Africa",
            "North America",
            "Central America",
            "South America",
            "West Asia",
            "South East Asia",
            "North East Asia",
            "Oceania"
           ],
           "lat": [
            51.06817476731436,
            51.104656094663596,
            30.437364261879395,
            7.959928997986893,
            6.382857433441359,
            4.621142864680792,
            -21.36137412154011,
            39.10831477183257,
            14.055530777684297,
            -16.37707312732043,
            34.361920786534085,
            17.706181315873863,
            36.550432558533785,
            -23.58328814497935
           ],
           "legendgroup": "",
           "lon": [
            7.483156574929211,
            30.497434511924325,
            14.533600264930044,
            -5.73665308026392,
            25.274620301872687,
            45.742644027389815,
            22.937458352453206,
            -99.4877492264568,
            -86.12919315960363,
            -57.79900810912669,
            46.37348934350911,
            101.17889439841429,
            127.29844484711793,
            138.75457210763784
           ],
           "marker": {
            "color": "#636efa",
            "size": [
             4889,
             13543,
             666,
             1184,
             69,
             5179,
             3799,
             22309,
             2911,
             12979,
             22774,
             8876,
             35879,
             0
            ],
            "sizemode": "area",
            "sizeref": 103.54,
            "symbol": "circle"
           },
           "mode": "markers",
           "name": "",
           "showlegend": false,
           "type": "scattergeo"
          }
         ],
         "name": "2020-09-01 00:00:00"
        },
        {
         "data": [
          {
           "geo": "geo",
           "hovertemplate": "<b>%{hovertext}</b><br><br>Periods=2020-10-01 00:00:00<br>value=%{marker.size}<br>lat=%{lat}<br>lon=%{lon}<extra></extra>",
           "hovertext": [
            "EU Countries",
            "Other Europe",
            "North Africa",
            "West Africa",
            "Central Africa",
            "East Africa",
            "South Africa",
            "North America",
            "Central America",
            "South America",
            "West Asia",
            "South East Asia",
            "North East Asia",
            "Oceania"
           ],
           "lat": [
            51.06817476731436,
            51.104656094663596,
            30.437364261879395,
            7.959928997986893,
            6.382857433441359,
            4.621142864680792,
            -21.36137412154011,
            39.10831477183257,
            14.055530777684297,
            -16.37707312732043,
            34.361920786534085,
            17.706181315873863,
            36.550432558533785,
            -23.58328814497935
           ],
           "legendgroup": "",
           "lon": [
            7.483156574929211,
            30.497434511924325,
            14.533600264930044,
            -5.73665308026392,
            25.274620301872687,
            45.742644027389815,
            22.937458352453206,
            -99.4877492264568,
            -86.12919315960363,
            -57.79900810912669,
            46.37348934350911,
            101.17889439841429,
            127.29844484711793,
            138.75457210763784
           ],
           "marker": {
            "color": "#636efa",
            "size": [
             3711,
             16930,
             616,
             905,
             116,
             6896,
             4812,
             26670,
             3579,
             14412,
             24890,
             9469,
             40104,
             0
            ],
            "sizemode": "area",
            "sizeref": 103.54,
            "symbol": "circle"
           },
           "mode": "markers",
           "name": "",
           "showlegend": false,
           "type": "scattergeo"
          }
         ],
         "name": "2020-10-01 00:00:00"
        },
        {
         "data": [
          {
           "geo": "geo",
           "hovertemplate": "<b>%{hovertext}</b><br><br>Periods=2020-11-01 00:00:00<br>value=%{marker.size}<br>lat=%{lat}<br>lon=%{lon}<extra></extra>",
           "hovertext": [
            "EU Countries",
            "Other Europe",
            "North Africa",
            "West Africa",
            "Central Africa",
            "East Africa",
            "South Africa",
            "North America",
            "Central America",
            "South America",
            "West Asia",
            "South East Asia",
            "North East Asia",
            "Oceania"
           ],
           "lat": [
            51.06817476731436,
            51.104656094663596,
            30.437364261879395,
            7.959928997986893,
            6.382857433441359,
            4.621142864680792,
            -21.36137412154011,
            39.10831477183257,
            14.055530777684297,
            -16.37707312732043,
            34.361920786534085,
            17.706181315873863,
            36.550432558533785,
            -23.58328814497935
           ],
           "legendgroup": "",
           "lon": [
            7.483156574929211,
            30.497434511924325,
            14.533600264930044,
            -5.73665308026392,
            25.274620301872687,
            45.742644027389815,
            22.937458352453206,
            -99.4877492264568,
            -86.12919315960363,
            -57.79900810912669,
            46.37348934350911,
            101.17889439841429,
            127.29844484711793,
            138.75457210763784
           ],
           "marker": {
            "color": "#636efa",
            "size": [
             4832,
             20232,
             311,
             1087,
             125,
             6261,
             4402,
             25955,
             3241,
             14684,
             24848,
             10114,
             41416,
             0
            ],
            "sizemode": "area",
            "sizeref": 103.54,
            "symbol": "circle"
           },
           "mode": "markers",
           "name": "",
           "showlegend": false,
           "type": "scattergeo"
          }
         ],
         "name": "2020-11-01 00:00:00"
        },
        {
         "data": [
          {
           "geo": "geo",
           "hovertemplate": "<b>%{hovertext}</b><br><br>Periods=2020-12-01 00:00:00<br>value=%{marker.size}<br>lat=%{lat}<br>lon=%{lon}<extra></extra>",
           "hovertext": [
            "EU Countries",
            "Other Europe",
            "North Africa",
            "West Africa",
            "Central Africa",
            "East Africa",
            "South Africa",
            "North America",
            "Central America",
            "South America",
            "West Asia",
            "South East Asia",
            "North East Asia",
            "Oceania"
           ],
           "lat": [
            51.06817476731436,
            51.104656094663596,
            30.437364261879395,
            7.959928997986893,
            6.382857433441359,
            4.621142864680792,
            -21.36137412154011,
            39.10831477183257,
            14.055530777684297,
            -16.37707312732043,
            34.361920786534085,
            17.706181315873863,
            36.550432558533785,
            -23.58328814497935
           ],
           "legendgroup": "",
           "lon": [
            7.483156574929211,
            30.497434511924325,
            14.533600264930044,
            -5.73665308026392,
            25.274620301872687,
            45.742644027389815,
            22.937458352453206,
            -99.4877492264568,
            -86.12919315960363,
            -57.79900810912669,
            46.37348934350911,
            101.17889439841429,
            127.29844484711793,
            138.75457210763784
           ],
           "marker": {
            "color": "#636efa",
            "size": [
             4991,
             17697,
             972,
             1081,
             122,
             6098,
             3581,
             24124,
             3492,
             14472,
             22773,
             9529,
             37509,
             0
            ],
            "sizemode": "area",
            "sizeref": 103.54,
            "symbol": "circle"
           },
           "mode": "markers",
           "name": "",
           "showlegend": false,
           "type": "scattergeo"
          }
         ],
         "name": "2020-12-01 00:00:00"
        },
        {
         "data": [
          {
           "geo": "geo",
           "hovertemplate": "<b>%{hovertext}</b><br><br>Periods=2021-01-01 00:00:00<br>value=%{marker.size}<br>lat=%{lat}<br>lon=%{lon}<extra></extra>",
           "hovertext": [
            "EU Countries",
            "Other Europe",
            "North Africa",
            "West Africa",
            "Central Africa",
            "East Africa",
            "South Africa",
            "North America",
            "Central America",
            "South America",
            "West Asia",
            "South East Asia",
            "North East Asia",
            "Oceania"
           ],
           "lat": [
            51.06817476731436,
            51.104656094663596,
            30.437364261879395,
            7.959928997986893,
            6.382857433441359,
            4.621142864680792,
            -21.36137412154011,
            39.10831477183257,
            14.055530777684297,
            -16.37707312732043,
            34.361920786534085,
            17.706181315873863,
            36.550432558533785,
            -23.58328814497935
           ],
           "legendgroup": "",
           "lon": [
            7.483156574929211,
            30.497434511924325,
            14.533600264930044,
            -5.73665308026392,
            25.274620301872687,
            45.742644027389815,
            22.937458352453206,
            -99.4877492264568,
            -86.12919315960363,
            -57.79900810912669,
            46.37348934350911,
            101.17889439841429,
            127.29844484711793,
            138.75457210763784
           ],
           "marker": {
            "color": "#636efa",
            "size": [
             3612,
             17314,
             845,
             917,
             99,
             5857,
             2745,
             23438,
             3040,
             13306,
             22461,
             8044,
             39179,
             1
            ],
            "sizemode": "area",
            "sizeref": 103.54,
            "symbol": "circle"
           },
           "mode": "markers",
           "name": "",
           "showlegend": false,
           "type": "scattergeo"
          }
         ],
         "name": "2021-01-01 00:00:00"
        },
        {
         "data": [
          {
           "geo": "geo",
           "hovertemplate": "<b>%{hovertext}</b><br><br>Periods=2021-02-01 00:00:00<br>value=%{marker.size}<br>lat=%{lat}<br>lon=%{lon}<extra></extra>",
           "hovertext": [
            "EU Countries",
            "Other Europe",
            "North Africa",
            "West Africa",
            "Central Africa",
            "East Africa",
            "South Africa",
            "North America",
            "Central America",
            "South America",
            "West Asia",
            "South East Asia",
            "North East Asia",
            "Oceania"
           ],
           "lat": [
            51.06817476731436,
            51.104656094663596,
            30.437364261879395,
            7.959928997986893,
            6.382857433441359,
            4.621142864680792,
            -21.36137412154011,
            39.10831477183257,
            14.055530777684297,
            -16.37707312732043,
            34.361920786534085,
            17.706181315873863,
            36.550432558533785,
            -23.58328814497935
           ],
           "legendgroup": "",
           "lon": [
            7.483156574929211,
            30.497434511924325,
            14.533600264930044,
            -5.73665308026392,
            25.274620301872687,
            45.742644027389815,
            22.937458352453206,
            -99.4877492264568,
            -86.12919315960363,
            -57.79900810912669,
            46.37348934350911,
            101.17889439841429,
            127.29844484711793,
            138.75457210763784
           ],
           "marker": {
            "color": "#636efa",
            "size": [
             3286,
             14759,
             777,
             817,
             85,
             7028,
             3568,
             24108,
             3410,
             15681,
             22096,
             7926,
             33746,
             0
            ],
            "sizemode": "area",
            "sizeref": 103.54,
            "symbol": "circle"
           },
           "mode": "markers",
           "name": "",
           "showlegend": false,
           "type": "scattergeo"
          }
         ],
         "name": "2021-02-01 00:00:00"
        },
        {
         "data": [
          {
           "geo": "geo",
           "hovertemplate": "<b>%{hovertext}</b><br><br>Periods=2021-03-01 00:00:00<br>value=%{marker.size}<br>lat=%{lat}<br>lon=%{lon}<extra></extra>",
           "hovertext": [
            "EU Countries",
            "Other Europe",
            "North Africa",
            "West Africa",
            "Central Africa",
            "East Africa",
            "South Africa",
            "North America",
            "Central America",
            "South America",
            "West Asia",
            "South East Asia",
            "North East Asia",
            "Oceania"
           ],
           "lat": [
            51.06817476731436,
            51.104656094663596,
            30.437364261879395,
            7.959928997986893,
            6.382857433441359,
            4.621142864680792,
            -21.36137412154011,
            39.10831477183257,
            14.055530777684297,
            -16.37707312732043,
            34.361920786534085,
            17.706181315873863,
            36.550432558533785,
            -23.58328814497935
           ],
           "legendgroup": "",
           "lon": [
            7.483156574929211,
            30.497434511924325,
            14.533600264930044,
            -5.73665308026392,
            25.274620301872687,
            45.742644027389815,
            22.937458352453206,
            -99.4877492264568,
            -86.12919315960363,
            -57.79900810912669,
            46.37348934350911,
            101.17889439841429,
            127.29844484711793,
            138.75457210763784
           ],
           "marker": {
            "color": "#636efa",
            "size": [
             4487,
             19613,
             516,
             1209,
             137,
             7343,
             4280,
             29957,
             3857,
             14561,
             27442,
             10815,
             41160,
             0
            ],
            "sizemode": "area",
            "sizeref": 103.54,
            "symbol": "circle"
           },
           "mode": "markers",
           "name": "",
           "showlegend": false,
           "type": "scattergeo"
          }
         ],
         "name": "2021-03-01 00:00:00"
        },
        {
         "data": [
          {
           "geo": "geo",
           "hovertemplate": "<b>%{hovertext}</b><br><br>Periods=2021-04-01 00:00:00<br>value=%{marker.size}<br>lat=%{lat}<br>lon=%{lon}<extra></extra>",
           "hovertext": [
            "EU Countries",
            "Other Europe",
            "North Africa",
            "West Africa",
            "Central Africa",
            "East Africa",
            "South Africa",
            "North America",
            "Central America",
            "South America",
            "West Asia",
            "South East Asia",
            "North East Asia",
            "Oceania"
           ],
           "lat": [
            51.06817476731436,
            51.104656094663596,
            30.437364261879395,
            7.959928997986893,
            6.382857433441359,
            4.621142864680792,
            -21.36137412154011,
            39.10831477183257,
            14.055530777684297,
            -16.37707312732043,
            34.361920786534085,
            17.706181315873863,
            36.550432558533785,
            -23.58328814497935
           ],
           "legendgroup": "",
           "lon": [
            7.483156574929211,
            30.497434511924325,
            14.533600264930044,
            -5.73665308026392,
            25.274620301872687,
            45.742644027389815,
            22.937458352453206,
            -99.4877492264568,
            -86.12919315960363,
            -57.79900810912669,
            46.37348934350911,
            101.17889439841429,
            127.29844484711793,
            138.75457210763784
           ],
           "marker": {
            "color": "#636efa",
            "size": [
             3810,
             16421,
             302,
             1119,
             119,
             7203,
             3918,
             29049,
             4690,
             13693,
             25303,
             9056,
             37482,
             0
            ],
            "sizemode": "area",
            "sizeref": 103.54,
            "symbol": "circle"
           },
           "mode": "markers",
           "name": "",
           "showlegend": false,
           "type": "scattergeo"
          }
         ],
         "name": "2021-04-01 00:00:00"
        },
        {
         "data": [
          {
           "geo": "geo",
           "hovertemplate": "<b>%{hovertext}</b><br><br>Periods=2021-05-01 00:00:00<br>value=%{marker.size}<br>lat=%{lat}<br>lon=%{lon}<extra></extra>",
           "hovertext": [
            "EU Countries",
            "Other Europe",
            "North Africa",
            "West Africa",
            "Central Africa",
            "East Africa",
            "South Africa",
            "North America",
            "Central America",
            "South America",
            "West Asia",
            "South East Asia",
            "North East Asia",
            "Oceania"
           ],
           "lat": [
            51.06817476731436,
            51.104656094663596,
            30.437364261879395,
            7.959928997986893,
            6.382857433441359,
            4.621142864680792,
            -21.36137412154011,
            39.10831477183257,
            14.055530777684297,
            -16.37707312732043,
            34.361920786534085,
            17.706181315873863,
            36.550432558533785,
            -23.58328814497935
           ],
           "legendgroup": "",
           "lon": [
            7.483156574929211,
            30.497434511924325,
            14.533600264930044,
            -5.73665308026392,
            25.274620301872687,
            45.742644027389815,
            22.937458352453206,
            -99.4877492264568,
            -86.12919315960363,
            -57.79900810912669,
            46.37348934350911,
            101.17889439841429,
            127.29844484711793,
            138.75457210763784
           ],
           "marker": {
            "color": "#636efa",
            "size": [
             3839,
             17648,
             244,
             1154,
             105,
             7247,
             4215,
             31001,
             4606,
             14419,
             25502,
             9537,
             38646,
             2
            ],
            "sizemode": "area",
            "sizeref": 103.54,
            "symbol": "circle"
           },
           "mode": "markers",
           "name": "",
           "showlegend": false,
           "type": "scattergeo"
          }
         ],
         "name": "2021-05-01 00:00:00"
        },
        {
         "data": [
          {
           "geo": "geo",
           "hovertemplate": "<b>%{hovertext}</b><br><br>Periods=2021-06-01 00:00:00<br>value=%{marker.size}<br>lat=%{lat}<br>lon=%{lon}<extra></extra>",
           "hovertext": [
            "EU Countries",
            "Other Europe",
            "North Africa",
            "West Africa",
            "Central Africa",
            "East Africa",
            "South Africa",
            "North America",
            "Central America",
            "South America",
            "West Asia",
            "South East Asia",
            "North East Asia",
            "Oceania"
           ],
           "lat": [
            51.06817476731436,
            51.104656094663596,
            30.437364261879395,
            7.959928997986893,
            6.382857433441359,
            4.621142864680792,
            -21.36137412154011,
            39.10831477183257,
            14.055530777684297,
            -16.37707312732043,
            34.361920786534085,
            17.706181315873863,
            36.550432558533785,
            -23.58328814497935
           ],
           "legendgroup": "",
           "lon": [
            7.483156574929211,
            30.497434511924325,
            14.533600264930044,
            -5.73665308026392,
            25.274620301872687,
            45.742644027389815,
            22.937458352453206,
            -99.4877492264568,
            -86.12919315960363,
            -57.79900810912669,
            46.37348934350911,
            101.17889439841429,
            127.29844484711793,
            138.75457210763784
           ],
           "marker": {
            "color": "#636efa",
            "size": [
             4473,
             17460,
             305,
             989,
             100,
             6652,
             3827,
             27128,
             4291,
             11936,
             24009,
             8858,
             35552,
             1
            ],
            "sizemode": "area",
            "sizeref": 103.54,
            "symbol": "circle"
           },
           "mode": "markers",
           "name": "",
           "showlegend": false,
           "type": "scattergeo"
          }
         ],
         "name": "2021-06-01 00:00:00"
        },
        {
         "data": [
          {
           "geo": "geo",
           "hovertemplate": "<b>%{hovertext}</b><br><br>Periods=2021-07-01 00:00:00<br>value=%{marker.size}<br>lat=%{lat}<br>lon=%{lon}<extra></extra>",
           "hovertext": [
            "EU Countries",
            "Other Europe",
            "North Africa",
            "West Africa",
            "Central Africa",
            "East Africa",
            "South Africa",
            "North America",
            "Central America",
            "South America",
            "West Asia",
            "South East Asia",
            "North East Asia",
            "Oceania"
           ],
           "lat": [
            51.06817476731436,
            51.104656094663596,
            30.437364261879395,
            7.959928997986893,
            6.382857433441359,
            4.621142864680792,
            -21.36137412154011,
            39.10831477183257,
            14.055530777684297,
            -16.37707312732043,
            34.361920786534085,
            17.706181315873863,
            36.550432558533785,
            -23.58328814497935
           ],
           "legendgroup": "",
           "lon": [
            7.483156574929211,
            30.497434511924325,
            14.533600264930044,
            -5.73665308026392,
            25.274620301872687,
            45.742644027389815,
            22.937458352453206,
            -99.4877492264568,
            -86.12919315960363,
            -57.79900810912669,
            46.37348934350911,
            101.17889439841429,
            127.29844484711793,
            138.75457210763784
           ],
           "marker": {
            "color": "#636efa",
            "size": [
             4265,
             17076,
             229,
             1001,
             119,
             6631,
             4029,
             26979,
             3896,
             13025,
             22431,
             8525,
             30583,
             1
            ],
            "sizemode": "area",
            "sizeref": 103.54,
            "symbol": "circle"
           },
           "mode": "markers",
           "name": "",
           "showlegend": false,
           "type": "scattergeo"
          }
         ],
         "name": "2021-07-01 00:00:00"
        },
        {
         "data": [
          {
           "geo": "geo",
           "hovertemplate": "<b>%{hovertext}</b><br><br>Periods=2021-08-01 00:00:00<br>value=%{marker.size}<br>lat=%{lat}<br>lon=%{lon}<extra></extra>",
           "hovertext": [
            "EU Countries",
            "Other Europe",
            "North Africa",
            "West Africa",
            "Central Africa",
            "East Africa",
            "South Africa",
            "North America",
            "Central America",
            "South America",
            "West Asia",
            "South East Asia",
            "North East Asia",
            "Oceania"
           ],
           "lat": [
            51.06817476731436,
            51.104656094663596,
            30.437364261879395,
            7.959928997986893,
            6.382857433441359,
            4.621142864680792,
            -21.36137412154011,
            39.10831477183257,
            14.055530777684297,
            -16.37707312732043,
            34.361920786534085,
            17.706181315873863,
            36.550432558533785,
            -23.58328814497935
           ],
           "legendgroup": "",
           "lon": [
            7.483156574929211,
            30.497434511924325,
            14.533600264930044,
            -5.73665308026392,
            25.274620301872687,
            45.742644027389815,
            22.937458352453206,
            -99.4877492264568,
            -86.12919315960363,
            -57.79900810912669,
            46.37348934350911,
            101.17889439841429,
            127.29844484711793,
            138.75457210763784
           ],
           "marker": {
            "color": "#636efa",
            "size": [
             3910,
             17519,
             243,
             957,
             139,
             6467,
             3741,
             25990,
             4115,
             12829,
             23456,
             8829,
             32003,
             0
            ],
            "sizemode": "area",
            "sizeref": 103.54,
            "symbol": "circle"
           },
           "mode": "markers",
           "name": "",
           "showlegend": false,
           "type": "scattergeo"
          }
         ],
         "name": "2021-08-01 00:00:00"
        },
        {
         "data": [
          {
           "geo": "geo",
           "hovertemplate": "<b>%{hovertext}</b><br><br>Periods=2021-09-01 00:00:00<br>value=%{marker.size}<br>lat=%{lat}<br>lon=%{lon}<extra></extra>",
           "hovertext": [
            "EU Countries",
            "Other Europe",
            "North Africa",
            "West Africa",
            "Central Africa",
            "East Africa",
            "South Africa",
            "North America",
            "Central America",
            "South America",
            "West Asia",
            "South East Asia",
            "North East Asia",
            "Oceania"
           ],
           "lat": [
            51.06817476731436,
            51.104656094663596,
            30.437364261879395,
            7.959928997986893,
            6.382857433441359,
            4.621142864680792,
            -21.36137412154011,
            39.10831477183257,
            14.055530777684297,
            -16.37707312732043,
            34.361920786534085,
            17.706181315873863,
            36.550432558533785,
            -23.58328814497935
           ],
           "legendgroup": "",
           "lon": [
            7.483156574929211,
            30.497434511924325,
            14.533600264930044,
            -5.73665308026392,
            25.274620301872687,
            45.742644027389815,
            22.937458352453206,
            -99.4877492264568,
            -86.12919315960363,
            -57.79900810912669,
            46.37348934350911,
            101.17889439841429,
            127.29844484711793,
            138.75457210763784
           ],
           "marker": {
            "color": "#636efa",
            "size": [
             4174,
             17950,
             268,
             910,
             132,
             7117,
             4036,
             27322,
             4318,
             12854,
             26328,
             8787,
             30386,
             0
            ],
            "sizemode": "area",
            "sizeref": 103.54,
            "symbol": "circle"
           },
           "mode": "markers",
           "name": "",
           "showlegend": false,
           "type": "scattergeo"
          }
         ],
         "name": "2021-09-01 00:00:00"
        },
        {
         "data": [
          {
           "geo": "geo",
           "hovertemplate": "<b>%{hovertext}</b><br><br>Periods=2021-10-01 00:00:00<br>value=%{marker.size}<br>lat=%{lat}<br>lon=%{lon}<extra></extra>",
           "hovertext": [
            "EU Countries",
            "Other Europe",
            "North Africa",
            "West Africa",
            "Central Africa",
            "East Africa",
            "South Africa",
            "North America",
            "Central America",
            "South America",
            "West Asia",
            "South East Asia",
            "North East Asia",
            "Oceania"
           ],
           "lat": [
            51.06817476731436,
            51.104656094663596,
            30.437364261879395,
            7.959928997986893,
            6.382857433441359,
            4.621142864680792,
            -21.36137412154011,
            39.10831477183257,
            14.055530777684297,
            -16.37707312732043,
            34.361920786534085,
            17.706181315873863,
            36.550432558533785,
            -23.58328814497935
           ],
           "legendgroup": "",
           "lon": [
            7.483156574929211,
            30.497434511924325,
            14.533600264930044,
            -5.73665308026392,
            25.274620301872687,
            45.742644027389815,
            22.937458352453206,
            -99.4877492264568,
            -86.12919315960363,
            -57.79900810912669,
            46.37348934350911,
            101.17889439841429,
            127.29844484711793,
            138.75457210763784
           ],
           "marker": {
            "color": "#636efa",
            "size": [
             4565,
             20135,
             269,
             828,
             134,
             7353,
             4064,
             30187,
             5257,
             13424,
             27311,
             11035,
             37214,
             0
            ],
            "sizemode": "area",
            "sizeref": 103.54,
            "symbol": "circle"
           },
           "mode": "markers",
           "name": "",
           "showlegend": false,
           "type": "scattergeo"
          }
         ],
         "name": "2021-10-01 00:00:00"
        },
        {
         "data": [
          {
           "geo": "geo",
           "hovertemplate": "<b>%{hovertext}</b><br><br>Periods=2021-11-01 00:00:00<br>value=%{marker.size}<br>lat=%{lat}<br>lon=%{lon}<extra></extra>",
           "hovertext": [
            "EU Countries",
            "Other Europe",
            "North Africa",
            "West Africa",
            "Central Africa",
            "East Africa",
            "South Africa",
            "North America",
            "Central America",
            "South America",
            "West Asia",
            "South East Asia",
            "North East Asia",
            "Oceania"
           ],
           "lat": [
            51.06817476731436,
            51.104656094663596,
            30.437364261879395,
            7.959928997986893,
            6.382857433441359,
            4.621142864680792,
            -21.36137412154011,
            39.10831477183257,
            14.055530777684297,
            -16.37707312732043,
            34.361920786534085,
            17.706181315873863,
            36.550432558533785,
            -23.58328814497935
           ],
           "legendgroup": "",
           "lon": [
            7.483156574929211,
            30.497434511924325,
            14.533600264930044,
            -5.73665308026392,
            25.274620301872687,
            45.742644027389815,
            22.937458352453206,
            -99.4877492264568,
            -86.12919315960363,
            -57.79900810912669,
            46.37348934350911,
            101.17889439841429,
            127.29844484711793,
            138.75457210763784
           ],
           "marker": {
            "color": "#636efa",
            "size": [
             4728,
             21113,
             311,
             878,
             109,
             7207,
             3695,
             26547,
             4841,
             12169,
             25267,
             10817,
             38819,
             3
            ],
            "sizemode": "area",
            "sizeref": 103.54,
            "symbol": "circle"
           },
           "mode": "markers",
           "name": "",
           "showlegend": false,
           "type": "scattergeo"
          }
         ],
         "name": "2021-11-01 00:00:00"
        },
        {
         "data": [
          {
           "geo": "geo",
           "hovertemplate": "<b>%{hovertext}</b><br><br>Periods=2021-12-01 00:00:00<br>value=%{marker.size}<br>lat=%{lat}<br>lon=%{lon}<extra></extra>",
           "hovertext": [
            "EU Countries",
            "Other Europe",
            "North Africa",
            "West Africa",
            "Central Africa",
            "East Africa",
            "South Africa",
            "North America",
            "Central America",
            "South America",
            "West Asia",
            "South East Asia",
            "North East Asia",
            "Oceania"
           ],
           "lat": [
            51.06817476731436,
            51.104656094663596,
            30.437364261879395,
            7.959928997986893,
            6.382857433441359,
            4.621142864680792,
            -21.36137412154011,
            39.10831477183257,
            14.055530777684297,
            -16.37707312732043,
            34.361920786534085,
            17.706181315873863,
            36.550432558533785,
            -23.58328814497935
           ],
           "legendgroup": "",
           "lon": [
            7.483156574929211,
            30.497434511924325,
            14.533600264930044,
            -5.73665308026392,
            25.274620301872687,
            45.742644027389815,
            22.937458352453206,
            -99.4877492264568,
            -86.12919315960363,
            -57.79900810912669,
            46.37348934350911,
            101.17889439841429,
            127.29844484711793,
            138.75457210763784
           ],
           "marker": {
            "color": "#636efa",
            "size": [
             4154,
             18813,
             814,
             1149,
             110,
             5856,
             3445,
             24127,
             5222,
             11541,
             26919,
             10744,
             41007,
             0
            ],
            "sizemode": "area",
            "sizeref": 103.54,
            "symbol": "circle"
           },
           "mode": "markers",
           "name": "",
           "showlegend": false,
           "type": "scattergeo"
          }
         ],
         "name": "2021-12-01 00:00:00"
        },
        {
         "data": [
          {
           "geo": "geo",
           "hovertemplate": "<b>%{hovertext}</b><br><br>Periods=2022-01-01 00:00:00<br>value=%{marker.size}<br>lat=%{lat}<br>lon=%{lon}<extra></extra>",
           "hovertext": [
            "EU Countries",
            "Other Europe",
            "North Africa",
            "West Africa",
            "Central Africa",
            "East Africa",
            "South Africa",
            "North America",
            "Central America",
            "South America",
            "West Asia",
            "South East Asia",
            "North East Asia",
            "Oceania"
           ],
           "lat": [
            51.06817476731436,
            51.104656094663596,
            30.437364261879395,
            7.959928997986893,
            6.382857433441359,
            4.621142864680792,
            -21.36137412154011,
            39.10831477183257,
            14.055530777684297,
            -16.37707312732043,
            34.361920786534085,
            17.706181315873863,
            36.550432558533785,
            -23.58328814497935
           ],
           "legendgroup": "",
           "lon": [
            7.483156574929211,
            30.497434511924325,
            14.533600264930044,
            -5.73665308026392,
            25.274620301872687,
            45.742644027389815,
            22.937458352453206,
            -99.4877492264568,
            -86.12919315960363,
            -57.79900810912669,
            46.37348934350911,
            101.17889439841429,
            127.29844484711793,
            138.75457210763784
           ],
           "marker": {
            "color": "#636efa",
            "size": [
             3718,
             15625,
             345,
             808,
             116,
             6268,
             2581,
             20176,
             4447,
             10618,
             22372,
             9013,
             35502,
             0
            ],
            "sizemode": "area",
            "sizeref": 103.54,
            "symbol": "circle"
           },
           "mode": "markers",
           "name": "",
           "showlegend": false,
           "type": "scattergeo"
          }
         ],
         "name": "2022-01-01 00:00:00"
        },
        {
         "data": [
          {
           "geo": "geo",
           "hovertemplate": "<b>%{hovertext}</b><br><br>Periods=2022-02-01 00:00:00<br>value=%{marker.size}<br>lat=%{lat}<br>lon=%{lon}<extra></extra>",
           "hovertext": [
            "EU Countries",
            "Other Europe",
            "North Africa",
            "West Africa",
            "Central Africa",
            "East Africa",
            "South Africa",
            "North America",
            "Central America",
            "South America",
            "West Asia",
            "South East Asia",
            "North East Asia",
            "Oceania"
           ],
           "lat": [
            51.06817476731436,
            51.104656094663596,
            30.437364261879395,
            7.959928997986893,
            6.382857433441359,
            4.621142864680792,
            -21.36137412154011,
            39.10831477183257,
            14.055530777684297,
            -16.37707312732043,
            34.361920786534085,
            17.706181315873863,
            36.550432558533785,
            -23.58328814497935
           ],
           "legendgroup": "",
           "lon": [
            7.483156574929211,
            30.497434511924325,
            14.533600264930044,
            -5.73665308026392,
            25.274620301872687,
            45.742644027389815,
            22.937458352453206,
            -99.4877492264568,
            -86.12919315960363,
            -57.79900810912669,
            46.37348934350911,
            101.17889439841429,
            127.29844484711793,
            138.75457210763784
           ],
           "marker": {
            "color": "#636efa",
            "size": [
             4162,
             12324,
             433,
             734,
             128,
             7034,
             2755,
             23913,
             4314,
             11341,
             20327,
             6876,
             31680,
             0
            ],
            "sizemode": "area",
            "sizeref": 103.54,
            "symbol": "circle"
           },
           "mode": "markers",
           "name": "",
           "showlegend": false,
           "type": "scattergeo"
          }
         ],
         "name": "2022-02-01 00:00:00"
        },
        {
         "data": [
          {
           "geo": "geo",
           "hovertemplate": "<b>%{hovertext}</b><br><br>Periods=2022-03-01 00:00:00<br>value=%{marker.size}<br>lat=%{lat}<br>lon=%{lon}<extra></extra>",
           "hovertext": [
            "EU Countries",
            "Other Europe",
            "North Africa",
            "West Africa",
            "Central Africa",
            "East Africa",
            "South Africa",
            "North America",
            "Central America",
            "South America",
            "West Asia",
            "South East Asia",
            "North East Asia",
            "Oceania"
           ],
           "lat": [
            51.06817476731436,
            51.104656094663596,
            30.437364261879395,
            7.959928997986893,
            6.382857433441359,
            4.621142864680792,
            -21.36137412154011,
            39.10831477183257,
            14.055530777684297,
            -16.37707312732043,
            34.361920786534085,
            17.706181315873863,
            36.550432558533785,
            -23.58328814497935
           ],
           "legendgroup": "",
           "lon": [
            7.483156574929211,
            30.497434511924325,
            14.533600264930044,
            -5.73665308026392,
            25.274620301872687,
            45.742644027389815,
            22.937458352453206,
            -99.4877492264568,
            -86.12919315960363,
            -57.79900810912669,
            46.37348934350911,
            101.17889439841429,
            127.29844484711793,
            138.75457210763784
           ],
           "marker": {
            "color": "#636efa",
            "size": [
             4913,
             10023,
             203,
             888,
             117,
             6820,
             3696,
             27441,
             3636,
             11743,
             24893,
             8773,
             34424,
             0
            ],
            "sizemode": "area",
            "sizeref": 103.54,
            "symbol": "circle"
           },
           "mode": "markers",
           "name": "",
           "showlegend": false,
           "type": "scattergeo"
          }
         ],
         "name": "2022-03-01 00:00:00"
        },
        {
         "data": [
          {
           "geo": "geo",
           "hovertemplate": "<b>%{hovertext}</b><br><br>Periods=2022-04-01 00:00:00<br>value=%{marker.size}<br>lat=%{lat}<br>lon=%{lon}<extra></extra>",
           "hovertext": [
            "EU Countries",
            "Other Europe",
            "North Africa",
            "West Africa",
            "Central Africa",
            "East Africa",
            "South Africa",
            "North America",
            "Central America",
            "South America",
            "West Asia",
            "South East Asia",
            "North East Asia",
            "Oceania"
           ],
           "lat": [
            51.06817476731436,
            51.104656094663596,
            30.437364261879395,
            7.959928997986893,
            6.382857433441359,
            4.621142864680792,
            -21.36137412154011,
            39.10831477183257,
            14.055530777684297,
            -16.37707312732043,
            34.361920786534085,
            17.706181315873863,
            36.550432558533785,
            -23.58328814497935
           ],
           "legendgroup": "",
           "lon": [
            7.483156574929211,
            30.497434511924325,
            14.533600264930044,
            -5.73665308026392,
            25.274620301872687,
            45.742644027389815,
            22.937458352453206,
            -99.4877492264568,
            -86.12919315960363,
            -57.79900810912669,
            46.37348934350911,
            101.17889439841429,
            127.29844484711793,
            138.75457210763784
           ],
           "marker": {
            "color": "#636efa",
            "size": [
             4759,
             9582,
             182,
             960,
             119,
             6681,
             3503,
             26347,
             3677,
             10736,
             22045,
             7980,
             30084,
             2
            ],
            "sizemode": "area",
            "sizeref": 103.54,
            "symbol": "circle"
           },
           "mode": "markers",
           "name": "",
           "showlegend": false,
           "type": "scattergeo"
          }
         ],
         "name": "2022-04-01 00:00:00"
        },
        {
         "data": [
          {
           "geo": "geo",
           "hovertemplate": "<b>%{hovertext}</b><br><br>Periods=2022-05-01 00:00:00<br>value=%{marker.size}<br>lat=%{lat}<br>lon=%{lon}<extra></extra>",
           "hovertext": [
            "EU Countries",
            "Other Europe",
            "North Africa",
            "West Africa",
            "Central Africa",
            "East Africa",
            "South Africa",
            "North America",
            "Central America",
            "South America",
            "West Asia",
            "South East Asia",
            "North East Asia",
            "Oceania"
           ],
           "lat": [
            51.06817476731436,
            51.104656094663596,
            30.437364261879395,
            7.959928997986893,
            6.382857433441359,
            4.621142864680792,
            -21.36137412154011,
            39.10831477183257,
            14.055530777684297,
            -16.37707312732043,
            34.361920786534085,
            17.706181315873863,
            36.550432558533785,
            -23.58328814497935
           ],
           "legendgroup": "",
           "lon": [
            7.483156574929211,
            30.497434511924325,
            14.533600264930044,
            -5.73665308026392,
            25.274620301872687,
            45.742644027389815,
            22.937458352453206,
            -99.4877492264568,
            -86.12919315960363,
            -57.79900810912669,
            46.37348934350911,
            101.17889439841429,
            127.29844484711793,
            138.75457210763784
           ],
           "marker": {
            "color": "#636efa",
            "size": [
             4805,
             9136,
             186,
             1027,
             145,
             6047,
             3573,
             25809,
             3510,
             11359,
             22724,
             7398,
             32392,
             0
            ],
            "sizemode": "area",
            "sizeref": 103.54,
            "symbol": "circle"
           },
           "mode": "markers",
           "name": "",
           "showlegend": false,
           "type": "scattergeo"
          }
         ],
         "name": "2022-05-01 00:00:00"
        },
        {
         "data": [
          {
           "geo": "geo",
           "hovertemplate": "<b>%{hovertext}</b><br><br>Periods=2022-06-01 00:00:00<br>value=%{marker.size}<br>lat=%{lat}<br>lon=%{lon}<extra></extra>",
           "hovertext": [
            "EU Countries",
            "Other Europe",
            "North Africa",
            "West Africa",
            "Central Africa",
            "East Africa",
            "South Africa",
            "North America",
            "Central America",
            "South America",
            "West Asia",
            "South East Asia",
            "North East Asia",
            "Oceania"
           ],
           "lat": [
            51.06817476731436,
            51.104656094663596,
            30.437364261879395,
            7.959928997986893,
            6.382857433441359,
            4.621142864680792,
            -21.36137412154011,
            39.10831477183257,
            14.055530777684297,
            -16.37707312732043,
            34.361920786534085,
            17.706181315873863,
            36.550432558533785,
            -23.58328814497935
           ],
           "legendgroup": "",
           "lon": [
            7.483156574929211,
            30.497434511924325,
            14.533600264930044,
            -5.73665308026392,
            25.274620301872687,
            45.742644027389815,
            22.937458352453206,
            -99.4877492264568,
            -86.12919315960363,
            -57.79900810912669,
            46.37348934350911,
            101.17889439841429,
            127.29844484711793,
            138.75457210763784
           ],
           "marker": {
            "color": "#636efa",
            "size": [
             5273,
             10071,
             155,
             1027,
             141,
             5352,
             3580,
             23010,
             2824,
             10382,
             22958,
             7445,
             33640,
             0
            ],
            "sizemode": "area",
            "sizeref": 103.54,
            "symbol": "circle"
           },
           "mode": "markers",
           "name": "",
           "showlegend": false,
           "type": "scattergeo"
          }
         ],
         "name": "2022-06-01 00:00:00"
        },
        {
         "data": [
          {
           "geo": "geo",
           "hovertemplate": "<b>%{hovertext}</b><br><br>Periods=2022-07-01 00:00:00<br>value=%{marker.size}<br>lat=%{lat}<br>lon=%{lon}<extra></extra>",
           "hovertext": [
            "EU Countries",
            "Other Europe",
            "North Africa",
            "West Africa",
            "Central Africa",
            "East Africa",
            "South Africa",
            "North America",
            "Central America",
            "South America",
            "West Asia",
            "South East Asia",
            "North East Asia",
            "Oceania"
           ],
           "lat": [
            51.06817476731436,
            51.104656094663596,
            30.437364261879395,
            7.959928997986893,
            6.382857433441359,
            4.621142864680792,
            -21.36137412154011,
            39.10831477183257,
            14.055530777684297,
            -16.37707312732043,
            34.361920786534085,
            17.706181315873863,
            36.550432558533785,
            -23.58328814497935
           ],
           "legendgroup": "",
           "lon": [
            7.483156574929211,
            30.497434511924325,
            14.533600264930044,
            -5.73665308026392,
            25.274620301872687,
            45.742644027389815,
            22.937458352453206,
            -99.4877492264568,
            -86.12919315960363,
            -57.79900810912669,
            46.37348934350911,
            101.17889439841429,
            127.29844484711793,
            138.75457210763784
           ],
           "marker": {
            "color": "#636efa",
            "size": [
             5341,
             9371,
             72,
             1236,
             149,
             4655,
             3961,
             24808,
             2996,
             10934,
             24218,
             8290,
             33997,
             0
            ],
            "sizemode": "area",
            "sizeref": 103.54,
            "symbol": "circle"
           },
           "mode": "markers",
           "name": "",
           "showlegend": false,
           "type": "scattergeo"
          }
         ],
         "name": "2022-07-01 00:00:00"
        },
        {
         "data": [
          {
           "geo": "geo",
           "hovertemplate": "<b>%{hovertext}</b><br><br>Periods=2022-08-01 00:00:00<br>value=%{marker.size}<br>lat=%{lat}<br>lon=%{lon}<extra></extra>",
           "hovertext": [
            "EU Countries",
            "Other Europe",
            "North Africa",
            "West Africa",
            "Central Africa",
            "East Africa",
            "South Africa",
            "North America",
            "Central America",
            "South America",
            "West Asia",
            "South East Asia",
            "North East Asia",
            "Oceania"
           ],
           "lat": [
            51.06817476731436,
            51.104656094663596,
            30.437364261879395,
            7.959928997986893,
            6.382857433441359,
            4.621142864680792,
            -21.36137412154011,
            39.10831477183257,
            14.055530777684297,
            -16.37707312732043,
            34.361920786534085,
            17.706181315873863,
            36.550432558533785,
            -23.58328814497935
           ],
           "legendgroup": "",
           "lon": [
            7.483156574929211,
            30.497434511924325,
            14.533600264930044,
            -5.73665308026392,
            25.274620301872687,
            45.742644027389815,
            22.937458352453206,
            -99.4877492264568,
            -86.12919315960363,
            -57.79900810912669,
            46.37348934350911,
            101.17889439841429,
            127.29844484711793,
            138.75457210763784
           ],
           "marker": {
            "color": "#636efa",
            "size": [
             5102,
             8078,
             157,
             1237,
             142,
             4740,
             4265,
             23566,
             2738,
             10625,
             22235,
             7623,
             34530,
             0
            ],
            "sizemode": "area",
            "sizeref": 103.54,
            "symbol": "circle"
           },
           "mode": "markers",
           "name": "",
           "showlegend": false,
           "type": "scattergeo"
          }
         ],
         "name": "2022-08-01 00:00:00"
        },
        {
         "data": [
          {
           "geo": "geo",
           "hovertemplate": "<b>%{hovertext}</b><br><br>Periods=2022-09-01 00:00:00<br>value=%{marker.size}<br>lat=%{lat}<br>lon=%{lon}<extra></extra>",
           "hovertext": [
            "EU Countries",
            "Other Europe",
            "North Africa",
            "West Africa",
            "Central Africa",
            "East Africa",
            "South Africa",
            "North America",
            "Central America",
            "South America",
            "West Asia",
            "South East Asia",
            "North East Asia",
            "Oceania"
           ],
           "lat": [
            51.06817476731436,
            51.104656094663596,
            30.437364261879395,
            7.959928997986893,
            6.382857433441359,
            4.621142864680792,
            -21.36137412154011,
            39.10831477183257,
            14.055530777684297,
            -16.37707312732043,
            34.361920786534085,
            17.706181315873863,
            36.550432558533785,
            -23.58328814497935
           ],
           "legendgroup": "",
           "lon": [
            7.483156574929211,
            30.497434511924325,
            14.533600264930044,
            -5.73665308026392,
            25.274620301872687,
            45.742644027389815,
            22.937458352453206,
            -99.4877492264568,
            -86.12919315960363,
            -57.79900810912669,
            46.37348934350911,
            101.17889439841429,
            127.29844484711793,
            138.75457210763784
           ],
           "marker": {
            "color": "#636efa",
            "size": [
             5046,
             8400,
             89,
             1091,
             149,
             5774,
             4368,
             24796,
             3363,
             10922,
             23608,
             7685,
             35447,
             0
            ],
            "sizemode": "area",
            "sizeref": 103.54,
            "symbol": "circle"
           },
           "mode": "markers",
           "name": "",
           "showlegend": false,
           "type": "scattergeo"
          }
         ],
         "name": "2022-09-01 00:00:00"
        },
        {
         "data": [
          {
           "geo": "geo",
           "hovertemplate": "<b>%{hovertext}</b><br><br>Periods=2022-10-01 00:00:00<br>value=%{marker.size}<br>lat=%{lat}<br>lon=%{lon}<extra></extra>",
           "hovertext": [
            "EU Countries",
            "Other Europe",
            "North Africa",
            "West Africa",
            "Central Africa",
            "East Africa",
            "South Africa",
            "North America",
            "Central America",
            "South America",
            "West Asia",
            "South East Asia",
            "North East Asia",
            "Oceania"
           ],
           "lat": [
            51.06817476731436,
            51.104656094663596,
            30.437364261879395,
            7.959928997986893,
            6.382857433441359,
            4.621142864680792,
            -21.36137412154011,
            39.10831477183257,
            14.055530777684297,
            -16.37707312732043,
            34.361920786534085,
            17.706181315873863,
            36.550432558533785,
            -23.58328814497935
           ],
           "legendgroup": "",
           "lon": [
            7.483156574929211,
            30.497434511924325,
            14.533600264930044,
            -5.73665308026392,
            25.274620301872687,
            45.742644027389815,
            22.937458352453206,
            -99.4877492264568,
            -86.12919315960363,
            -57.79900810912669,
            46.37348934350911,
            101.17889439841429,
            127.29844484711793,
            138.75457210763784
           ],
           "marker": {
            "color": "#636efa",
            "size": [
             5194,
             8703,
             124,
             898,
             169,
             5838,
             4344,
             25033,
             3122,
             11930,
             23238,
             9551,
             37367,
             0
            ],
            "sizemode": "area",
            "sizeref": 103.54,
            "symbol": "circle"
           },
           "mode": "markers",
           "name": "",
           "showlegend": false,
           "type": "scattergeo"
          }
         ],
         "name": "2022-10-01 00:00:00"
        },
        {
         "data": [
          {
           "geo": "geo",
           "hovertemplate": "<b>%{hovertext}</b><br><br>Periods=2022-11-01 00:00:00<br>value=%{marker.size}<br>lat=%{lat}<br>lon=%{lon}<extra></extra>",
           "hovertext": [
            "EU Countries",
            "Other Europe",
            "North Africa",
            "West Africa",
            "Central Africa",
            "East Africa",
            "South Africa",
            "North America",
            "Central America",
            "South America",
            "West Asia",
            "South East Asia",
            "North East Asia",
            "Oceania"
           ],
           "lat": [
            51.06817476731436,
            51.104656094663596,
            30.437364261879395,
            7.959928997986893,
            6.382857433441359,
            4.621142864680792,
            -21.36137412154011,
            39.10831477183257,
            14.055530777684297,
            -16.37707312732043,
            34.361920786534085,
            17.706181315873863,
            36.550432558533785,
            -23.58328814497935
           ],
           "legendgroup": "",
           "lon": [
            7.483156574929211,
            30.497434511924325,
            14.533600264930044,
            -5.73665308026392,
            25.274620301872687,
            45.742644027389815,
            22.937458352453206,
            -99.4877492264568,
            -86.12919315960363,
            -57.79900810912669,
            46.37348934350911,
            101.17889439841429,
            127.29844484711793,
            138.75457210763784
           ],
           "marker": {
            "color": "#636efa",
            "size": [
             4024,
             8653,
             22,
             832,
             141,
             4113,
             3026,
             23283,
             2956,
             10204,
             23845,
             9213,
             38085,
             0
            ],
            "sizemode": "area",
            "sizeref": 103.54,
            "symbol": "circle"
           },
           "mode": "markers",
           "name": "",
           "showlegend": false,
           "type": "scattergeo"
          }
         ],
         "name": "2022-11-01 00:00:00"
        },
        {
         "data": [
          {
           "geo": "geo",
           "hovertemplate": "<b>%{hovertext}</b><br><br>Periods=2022-12-01 00:00:00<br>value=%{marker.size}<br>lat=%{lat}<br>lon=%{lon}<extra></extra>",
           "hovertext": [
            "EU Countries",
            "Other Europe",
            "North Africa",
            "West Africa",
            "Central Africa",
            "East Africa",
            "South Africa",
            "North America",
            "Central America",
            "South America",
            "West Asia",
            "South East Asia",
            "North East Asia",
            "Oceania"
           ],
           "lat": [
            51.06817476731436,
            51.104656094663596,
            30.437364261879395,
            7.959928997986893,
            6.382857433441359,
            4.621142864680792,
            -21.36137412154011,
            39.10831477183257,
            14.055530777684297,
            -16.37707312732043,
            34.361920786534085,
            17.706181315873863,
            36.550432558533785,
            -23.58328814497935
           ],
           "legendgroup": "",
           "lon": [
            7.483156574929211,
            30.497434511924325,
            14.533600264930044,
            -5.73665308026392,
            25.274620301872687,
            45.742644027389815,
            22.937458352453206,
            -99.4877492264568,
            -86.12919315960363,
            -57.79900810912669,
            46.37348934350911,
            101.17889439841429,
            127.29844484711793,
            138.75457210763784
           ],
           "marker": {
            "color": "#636efa",
            "size": [
             4213,
             9011,
             98,
             979,
             125,
             4398,
             2413,
             19029,
             3188,
             10387,
             23289,
             7864,
             35447,
             0
            ],
            "sizemode": "area",
            "sizeref": 103.54,
            "symbol": "circle"
           },
           "mode": "markers",
           "name": "",
           "showlegend": false,
           "type": "scattergeo"
          }
         ],
         "name": "2022-12-01 00:00:00"
        },
        {
         "data": [
          {
           "geo": "geo",
           "hovertemplate": "<b>%{hovertext}</b><br><br>Periods=2023-01-01 00:00:00<br>value=%{marker.size}<br>lat=%{lat}<br>lon=%{lon}<extra></extra>",
           "hovertext": [
            "EU Countries",
            "Other Europe",
            "North Africa",
            "West Africa",
            "Central Africa",
            "East Africa",
            "South Africa",
            "North America",
            "Central America",
            "South America",
            "West Asia",
            "South East Asia",
            "North East Asia",
            "Oceania"
           ],
           "lat": [
            51.06817476731436,
            51.104656094663596,
            30.437364261879395,
            7.959928997986893,
            6.382857433441359,
            4.621142864680792,
            -21.36137412154011,
            39.10831477183257,
            14.055530777684297,
            -16.37707312732043,
            34.361920786534085,
            17.706181315873863,
            36.550432558533785,
            -23.58328814497935
           ],
           "legendgroup": "",
           "lon": [
            7.483156574929211,
            30.497434511924325,
            14.533600264930044,
            -5.73665308026392,
            25.274620301872687,
            45.742644027389815,
            22.937458352453206,
            -99.4877492264568,
            -86.12919315960363,
            -57.79900810912669,
            46.37348934350911,
            101.17889439841429,
            127.29844484711793,
            138.75457210763784
           ],
           "marker": {
            "color": "#636efa",
            "size": [
             3862,
             8105,
             54,
             778,
             83,
             4277,
             2274,
             17257,
             2952,
             9749,
             20571,
             6359,
             32792,
             0
            ],
            "sizemode": "area",
            "sizeref": 103.54,
            "symbol": "circle"
           },
           "mode": "markers",
           "name": "",
           "showlegend": false,
           "type": "scattergeo"
          }
         ],
         "name": "2023-01-01 00:00:00"
        },
        {
         "data": [
          {
           "geo": "geo",
           "hovertemplate": "<b>%{hovertext}</b><br><br>Periods=2023-02-01 00:00:00<br>value=%{marker.size}<br>lat=%{lat}<br>lon=%{lon}<extra></extra>",
           "hovertext": [
            "EU Countries",
            "Other Europe",
            "North Africa",
            "West Africa",
            "Central Africa",
            "East Africa",
            "South Africa",
            "North America",
            "Central America",
            "South America",
            "West Asia",
            "South East Asia",
            "North East Asia",
            "Oceania"
           ],
           "lat": [
            51.06817476731436,
            51.104656094663596,
            30.437364261879395,
            7.959928997986893,
            6.382857433441359,
            4.621142864680792,
            -21.36137412154011,
            39.10831477183257,
            14.055530777684297,
            -16.37707312732043,
            34.361920786534085,
            17.706181315873863,
            36.550432558533785,
            -23.58328814497935
           ],
           "legendgroup": "",
           "lon": [
            7.483156574929211,
            30.497434511924325,
            14.533600264930044,
            -5.73665308026392,
            25.274620301872687,
            45.742644027389815,
            22.937458352453206,
            -99.4877492264568,
            -86.12919315960363,
            -57.79900810912669,
            46.37348934350911,
            101.17889439841429,
            127.29844484711793,
            138.75457210763784
           ],
           "marker": {
            "color": "#636efa",
            "size": [
             3695,
             6692,
             33,
             898,
             131,
             5464,
             2777,
             18856,
             3268,
             10890,
             19680,
             6679,
             34085,
             0
            ],
            "sizemode": "area",
            "sizeref": 103.54,
            "symbol": "circle"
           },
           "mode": "markers",
           "name": "",
           "showlegend": false,
           "type": "scattergeo"
          }
         ],
         "name": "2023-02-01 00:00:00"
        },
        {
         "data": [
          {
           "geo": "geo",
           "hovertemplate": "<b>%{hovertext}</b><br><br>Periods=2023-03-01 00:00:00<br>value=%{marker.size}<br>lat=%{lat}<br>lon=%{lon}<extra></extra>",
           "hovertext": [
            "EU Countries",
            "Other Europe",
            "North Africa",
            "West Africa",
            "Central Africa",
            "East Africa",
            "South Africa",
            "North America",
            "Central America",
            "South America",
            "West Asia",
            "South East Asia",
            "North East Asia",
            "Oceania"
           ],
           "lat": [
            51.06817476731436,
            51.104656094663596,
            30.437364261879395,
            7.959928997986893,
            6.382857433441359,
            4.621142864680792,
            -21.36137412154011,
            39.10831477183257,
            14.055530777684297,
            -16.37707312732043,
            34.361920786534085,
            17.706181315873863,
            36.550432558533785,
            -23.58328814497935
           ],
           "legendgroup": "",
           "lon": [
            7.483156574929211,
            30.497434511924325,
            14.533600264930044,
            -5.73665308026392,
            25.274620301872687,
            45.742644027389815,
            22.937458352453206,
            -99.4877492264568,
            -86.12919315960363,
            -57.79900810912669,
            46.37348934350911,
            101.17889439841429,
            127.29844484711793,
            138.75457210763784
           ],
           "marker": {
            "color": "#636efa",
            "size": [
             4635,
             7372,
             38,
             829,
             113,
             6015,
             2766,
             20884,
             3682,
             11224,
             20569,
             7702,
             39578,
             0
            ],
            "sizemode": "area",
            "sizeref": 103.54,
            "symbol": "circle"
           },
           "mode": "markers",
           "name": "",
           "showlegend": false,
           "type": "scattergeo"
          }
         ],
         "name": "2023-03-01 00:00:00"
        },
        {
         "data": [
          {
           "geo": "geo",
           "hovertemplate": "<b>%{hovertext}</b><br><br>Periods=2023-04-01 00:00:00<br>value=%{marker.size}<br>lat=%{lat}<br>lon=%{lon}<extra></extra>",
           "hovertext": [
            "EU Countries",
            "Other Europe",
            "North Africa",
            "West Africa",
            "Central Africa",
            "East Africa",
            "South Africa",
            "North America",
            "Central America",
            "South America",
            "West Asia",
            "South East Asia",
            "North East Asia",
            "Oceania"
           ],
           "lat": [
            51.06817476731436,
            51.104656094663596,
            30.437364261879395,
            7.959928997986893,
            6.382857433441359,
            4.621142864680792,
            -21.36137412154011,
            39.10831477183257,
            14.055530777684297,
            -16.37707312732043,
            34.361920786534085,
            17.706181315873863,
            36.550432558533785,
            -23.58328814497935
           ],
           "legendgroup": "",
           "lon": [
            7.483156574929211,
            30.497434511924325,
            14.533600264930044,
            -5.73665308026392,
            25.274620301872687,
            45.742644027389815,
            22.937458352453206,
            -99.4877492264568,
            -86.12919315960363,
            -57.79900810912669,
            46.37348934350911,
            101.17889439841429,
            127.29844484711793,
            138.75457210763784
           ],
           "marker": {
            "color": "#636efa",
            "size": [
             3971,
             7442,
             22,
             987,
             103,
             5203,
             2274,
             18663,
             3081,
             10291,
             19440,
             6693,
             37960,
             0
            ],
            "sizemode": "area",
            "sizeref": 103.54,
            "symbol": "circle"
           },
           "mode": "markers",
           "name": "",
           "showlegend": false,
           "type": "scattergeo"
          }
         ],
         "name": "2023-04-01 00:00:00"
        },
        {
         "data": [
          {
           "geo": "geo",
           "hovertemplate": "<b>%{hovertext}</b><br><br>Periods=2023-05-01 00:00:00<br>value=%{marker.size}<br>lat=%{lat}<br>lon=%{lon}<extra></extra>",
           "hovertext": [
            "EU Countries",
            "Other Europe",
            "North Africa",
            "West Africa",
            "Central Africa",
            "East Africa",
            "South Africa",
            "North America",
            "Central America",
            "South America",
            "West Asia",
            "South East Asia",
            "North East Asia",
            "Oceania"
           ],
           "lat": [
            51.06817476731436,
            51.104656094663596,
            30.437364261879395,
            7.959928997986893,
            6.382857433441359,
            4.621142864680792,
            -21.36137412154011,
            39.10831477183257,
            14.055530777684297,
            -16.37707312732043,
            34.361920786534085,
            17.706181315873863,
            36.550432558533785,
            -23.58328814497935
           ],
           "legendgroup": "",
           "lon": [
            7.483156574929211,
            30.497434511924325,
            14.533600264930044,
            -5.73665308026392,
            25.274620301872687,
            45.742644027389815,
            22.937458352453206,
            -99.4877492264568,
            -86.12919315960363,
            -57.79900810912669,
            46.37348934350911,
            101.17889439841429,
            127.29844484711793,
            138.75457210763784
           ],
           "marker": {
            "color": "#636efa",
            "size": [
             4445,
             8668,
             108,
             1014,
             104,
             6219,
             2828,
             19391,
             2989,
             10578,
             18553,
             6801,
             36583,
             0
            ],
            "sizemode": "area",
            "sizeref": 103.54,
            "symbol": "circle"
           },
           "mode": "markers",
           "name": "",
           "showlegend": false,
           "type": "scattergeo"
          }
         ],
         "name": "2023-05-01 00:00:00"
        },
        {
         "data": [
          {
           "geo": "geo",
           "hovertemplate": "<b>%{hovertext}</b><br><br>Periods=2023-06-01 00:00:00<br>value=%{marker.size}<br>lat=%{lat}<br>lon=%{lon}<extra></extra>",
           "hovertext": [
            "EU Countries",
            "Other Europe",
            "North Africa",
            "West Africa",
            "Central Africa",
            "East Africa",
            "South Africa",
            "North America",
            "Central America",
            "South America",
            "West Asia",
            "South East Asia",
            "North East Asia",
            "Oceania"
           ],
           "lat": [
            51.06817476731436,
            51.104656094663596,
            30.437364261879395,
            7.959928997986893,
            6.382857433441359,
            4.621142864680792,
            -21.36137412154011,
            39.10831477183257,
            14.055530777684297,
            -16.37707312732043,
            34.361920786534085,
            17.706181315873863,
            36.550432558533785,
            -23.58328814497935
           ],
           "legendgroup": "",
           "lon": [
            7.483156574929211,
            30.497434511924325,
            14.533600264930044,
            -5.73665308026392,
            25.274620301872687,
            45.742644027389815,
            22.937458352453206,
            -99.4877492264568,
            -86.12919315960363,
            -57.79900810912669,
            46.37348934350911,
            101.17889439841429,
            127.29844484711793,
            138.75457210763784
           ],
           "marker": {
            "color": "#636efa",
            "size": [
             3564,
             8726,
             41,
             1094,
             101,
             5377,
             3019,
             18896,
             2757,
             8909,
             18586,
             6731,
             35195,
             0
            ],
            "sizemode": "area",
            "sizeref": 103.54,
            "symbol": "circle"
           },
           "mode": "markers",
           "name": "",
           "showlegend": false,
           "type": "scattergeo"
          }
         ],
         "name": "2023-06-01 00:00:00"
        },
        {
         "data": [
          {
           "geo": "geo",
           "hovertemplate": "<b>%{hovertext}</b><br><br>Periods=2023-07-01 00:00:00<br>value=%{marker.size}<br>lat=%{lat}<br>lon=%{lon}<extra></extra>",
           "hovertext": [
            "EU Countries",
            "Other Europe",
            "North Africa",
            "West Africa",
            "Central Africa",
            "East Africa",
            "South Africa",
            "North America",
            "Central America",
            "South America",
            "West Asia",
            "South East Asia",
            "North East Asia",
            "Oceania"
           ],
           "lat": [
            51.06817476731436,
            51.104656094663596,
            30.437364261879395,
            7.959928997986893,
            6.382857433441359,
            4.621142864680792,
            -21.36137412154011,
            39.10831477183257,
            14.055530777684297,
            -16.37707312732043,
            34.361920786534085,
            17.706181315873863,
            36.550432558533785,
            -23.58328814497935
           ],
           "legendgroup": "",
           "lon": [
            7.483156574929211,
            30.497434511924325,
            14.533600264930044,
            -5.73665308026392,
            25.274620301872687,
            45.742644027389815,
            22.937458352453206,
            -99.4877492264568,
            -86.12919315960363,
            -57.79900810912669,
            46.37348934350911,
            101.17889439841429,
            127.29844484711793,
            138.75457210763784
           ],
           "marker": {
            "color": "#636efa",
            "size": [
             4027,
             8857,
             84,
             1182,
             128,
             4190,
             2993,
             19302,
             3270,
             9505,
             20018,
             6993,
             35154,
             0
            ],
            "sizemode": "area",
            "sizeref": 103.54,
            "symbol": "circle"
           },
           "mode": "markers",
           "name": "",
           "showlegend": false,
           "type": "scattergeo"
          }
         ],
         "name": "2023-07-01 00:00:00"
        },
        {
         "data": [
          {
           "geo": "geo",
           "hovertemplate": "<b>%{hovertext}</b><br><br>Periods=2023-08-01 00:00:00<br>value=%{marker.size}<br>lat=%{lat}<br>lon=%{lon}<extra></extra>",
           "hovertext": [
            "EU Countries",
            "Other Europe",
            "North Africa",
            "West Africa",
            "Central Africa",
            "East Africa",
            "South Africa",
            "North America",
            "Central America",
            "South America",
            "West Asia",
            "South East Asia",
            "North East Asia",
            "Oceania"
           ],
           "lat": [
            51.06817476731436,
            51.104656094663596,
            30.437364261879395,
            7.959928997986893,
            6.382857433441359,
            4.621142864680792,
            -21.36137412154011,
            39.10831477183257,
            14.055530777684297,
            -16.37707312732043,
            34.361920786534085,
            17.706181315873863,
            36.550432558533785,
            -23.58328814497935
           ],
           "legendgroup": "",
           "lon": [
            7.483156574929211,
            30.497434511924325,
            14.533600264930044,
            -5.73665308026392,
            25.274620301872687,
            45.742644027389815,
            22.937458352453206,
            -99.4877492264568,
            -86.12919315960363,
            -57.79900810912669,
            46.37348934350911,
            101.17889439841429,
            127.29844484711793,
            138.75457210763784
           ],
           "marker": {
            "color": "#636efa",
            "size": [
             3780,
             8023,
             108,
             1109,
             113,
             3904,
             2845,
             19701,
             3387,
             8462,
             19842,
             6668,
             34178,
             0
            ],
            "sizemode": "area",
            "sizeref": 103.54,
            "symbol": "circle"
           },
           "mode": "markers",
           "name": "",
           "showlegend": false,
           "type": "scattergeo"
          }
         ],
         "name": "2023-08-01 00:00:00"
        }
       ],
       "layout": {
        "geo": {
         "center": {},
         "domain": {
          "x": [
           0,
           1
          ],
          "y": [
           0,
           1
          ]
         }
        },
        "legend": {
         "itemsizing": "constant",
         "tracegroupgap": 0
        },
        "sliders": [
         {
          "active": 0,
          "currentvalue": {
           "prefix": "Periods="
          },
          "len": 0.9,
          "pad": {
           "b": 10,
           "t": 60
          },
          "steps": [
           {
            "args": [
             [
              "2019-01-01 00:00:00"
             ],
             {
              "frame": {
               "duration": 0,
               "redraw": true
              },
              "fromcurrent": true,
              "mode": "immediate",
              "transition": {
               "duration": 0,
               "easing": "linear"
              }
             }
            ],
            "label": "2019-01-01 00:00:00",
            "method": "animate"
           },
           {
            "args": [
             [
              "2019-02-01 00:00:00"
             ],
             {
              "frame": {
               "duration": 0,
               "redraw": true
              },
              "fromcurrent": true,
              "mode": "immediate",
              "transition": {
               "duration": 0,
               "easing": "linear"
              }
             }
            ],
            "label": "2019-02-01 00:00:00",
            "method": "animate"
           },
           {
            "args": [
             [
              "2019-03-01 00:00:00"
             ],
             {
              "frame": {
               "duration": 0,
               "redraw": true
              },
              "fromcurrent": true,
              "mode": "immediate",
              "transition": {
               "duration": 0,
               "easing": "linear"
              }
             }
            ],
            "label": "2019-03-01 00:00:00",
            "method": "animate"
           },
           {
            "args": [
             [
              "2019-04-01 00:00:00"
             ],
             {
              "frame": {
               "duration": 0,
               "redraw": true
              },
              "fromcurrent": true,
              "mode": "immediate",
              "transition": {
               "duration": 0,
               "easing": "linear"
              }
             }
            ],
            "label": "2019-04-01 00:00:00",
            "method": "animate"
           },
           {
            "args": [
             [
              "2019-05-01 00:00:00"
             ],
             {
              "frame": {
               "duration": 0,
               "redraw": true
              },
              "fromcurrent": true,
              "mode": "immediate",
              "transition": {
               "duration": 0,
               "easing": "linear"
              }
             }
            ],
            "label": "2019-05-01 00:00:00",
            "method": "animate"
           },
           {
            "args": [
             [
              "2019-06-01 00:00:00"
             ],
             {
              "frame": {
               "duration": 0,
               "redraw": true
              },
              "fromcurrent": true,
              "mode": "immediate",
              "transition": {
               "duration": 0,
               "easing": "linear"
              }
             }
            ],
            "label": "2019-06-01 00:00:00",
            "method": "animate"
           },
           {
            "args": [
             [
              "2019-07-01 00:00:00"
             ],
             {
              "frame": {
               "duration": 0,
               "redraw": true
              },
              "fromcurrent": true,
              "mode": "immediate",
              "transition": {
               "duration": 0,
               "easing": "linear"
              }
             }
            ],
            "label": "2019-07-01 00:00:00",
            "method": "animate"
           },
           {
            "args": [
             [
              "2019-08-01 00:00:00"
             ],
             {
              "frame": {
               "duration": 0,
               "redraw": true
              },
              "fromcurrent": true,
              "mode": "immediate",
              "transition": {
               "duration": 0,
               "easing": "linear"
              }
             }
            ],
            "label": "2019-08-01 00:00:00",
            "method": "animate"
           },
           {
            "args": [
             [
              "2019-09-01 00:00:00"
             ],
             {
              "frame": {
               "duration": 0,
               "redraw": true
              },
              "fromcurrent": true,
              "mode": "immediate",
              "transition": {
               "duration": 0,
               "easing": "linear"
              }
             }
            ],
            "label": "2019-09-01 00:00:00",
            "method": "animate"
           },
           {
            "args": [
             [
              "2019-10-01 00:00:00"
             ],
             {
              "frame": {
               "duration": 0,
               "redraw": true
              },
              "fromcurrent": true,
              "mode": "immediate",
              "transition": {
               "duration": 0,
               "easing": "linear"
              }
             }
            ],
            "label": "2019-10-01 00:00:00",
            "method": "animate"
           },
           {
            "args": [
             [
              "2019-11-01 00:00:00"
             ],
             {
              "frame": {
               "duration": 0,
               "redraw": true
              },
              "fromcurrent": true,
              "mode": "immediate",
              "transition": {
               "duration": 0,
               "easing": "linear"
              }
             }
            ],
            "label": "2019-11-01 00:00:00",
            "method": "animate"
           },
           {
            "args": [
             [
              "2019-12-01 00:00:00"
             ],
             {
              "frame": {
               "duration": 0,
               "redraw": true
              },
              "fromcurrent": true,
              "mode": "immediate",
              "transition": {
               "duration": 0,
               "easing": "linear"
              }
             }
            ],
            "label": "2019-12-01 00:00:00",
            "method": "animate"
           },
           {
            "args": [
             [
              "2020-01-01 00:00:00"
             ],
             {
              "frame": {
               "duration": 0,
               "redraw": true
              },
              "fromcurrent": true,
              "mode": "immediate",
              "transition": {
               "duration": 0,
               "easing": "linear"
              }
             }
            ],
            "label": "2020-01-01 00:00:00",
            "method": "animate"
           },
           {
            "args": [
             [
              "2020-02-01 00:00:00"
             ],
             {
              "frame": {
               "duration": 0,
               "redraw": true
              },
              "fromcurrent": true,
              "mode": "immediate",
              "transition": {
               "duration": 0,
               "easing": "linear"
              }
             }
            ],
            "label": "2020-02-01 00:00:00",
            "method": "animate"
           },
           {
            "args": [
             [
              "2020-03-01 00:00:00"
             ],
             {
              "frame": {
               "duration": 0,
               "redraw": true
              },
              "fromcurrent": true,
              "mode": "immediate",
              "transition": {
               "duration": 0,
               "easing": "linear"
              }
             }
            ],
            "label": "2020-03-01 00:00:00",
            "method": "animate"
           },
           {
            "args": [
             [
              "2020-04-01 00:00:00"
             ],
             {
              "frame": {
               "duration": 0,
               "redraw": true
              },
              "fromcurrent": true,
              "mode": "immediate",
              "transition": {
               "duration": 0,
               "easing": "linear"
              }
             }
            ],
            "label": "2020-04-01 00:00:00",
            "method": "animate"
           },
           {
            "args": [
             [
              "2020-05-01 00:00:00"
             ],
             {
              "frame": {
               "duration": 0,
               "redraw": true
              },
              "fromcurrent": true,
              "mode": "immediate",
              "transition": {
               "duration": 0,
               "easing": "linear"
              }
             }
            ],
            "label": "2020-05-01 00:00:00",
            "method": "animate"
           },
           {
            "args": [
             [
              "2020-06-01 00:00:00"
             ],
             {
              "frame": {
               "duration": 0,
               "redraw": true
              },
              "fromcurrent": true,
              "mode": "immediate",
              "transition": {
               "duration": 0,
               "easing": "linear"
              }
             }
            ],
            "label": "2020-06-01 00:00:00",
            "method": "animate"
           },
           {
            "args": [
             [
              "2020-07-01 00:00:00"
             ],
             {
              "frame": {
               "duration": 0,
               "redraw": true
              },
              "fromcurrent": true,
              "mode": "immediate",
              "transition": {
               "duration": 0,
               "easing": "linear"
              }
             }
            ],
            "label": "2020-07-01 00:00:00",
            "method": "animate"
           },
           {
            "args": [
             [
              "2020-08-01 00:00:00"
             ],
             {
              "frame": {
               "duration": 0,
               "redraw": true
              },
              "fromcurrent": true,
              "mode": "immediate",
              "transition": {
               "duration": 0,
               "easing": "linear"
              }
             }
            ],
            "label": "2020-08-01 00:00:00",
            "method": "animate"
           },
           {
            "args": [
             [
              "2020-09-01 00:00:00"
             ],
             {
              "frame": {
               "duration": 0,
               "redraw": true
              },
              "fromcurrent": true,
              "mode": "immediate",
              "transition": {
               "duration": 0,
               "easing": "linear"
              }
             }
            ],
            "label": "2020-09-01 00:00:00",
            "method": "animate"
           },
           {
            "args": [
             [
              "2020-10-01 00:00:00"
             ],
             {
              "frame": {
               "duration": 0,
               "redraw": true
              },
              "fromcurrent": true,
              "mode": "immediate",
              "transition": {
               "duration": 0,
               "easing": "linear"
              }
             }
            ],
            "label": "2020-10-01 00:00:00",
            "method": "animate"
           },
           {
            "args": [
             [
              "2020-11-01 00:00:00"
             ],
             {
              "frame": {
               "duration": 0,
               "redraw": true
              },
              "fromcurrent": true,
              "mode": "immediate",
              "transition": {
               "duration": 0,
               "easing": "linear"
              }
             }
            ],
            "label": "2020-11-01 00:00:00",
            "method": "animate"
           },
           {
            "args": [
             [
              "2020-12-01 00:00:00"
             ],
             {
              "frame": {
               "duration": 0,
               "redraw": true
              },
              "fromcurrent": true,
              "mode": "immediate",
              "transition": {
               "duration": 0,
               "easing": "linear"
              }
             }
            ],
            "label": "2020-12-01 00:00:00",
            "method": "animate"
           },
           {
            "args": [
             [
              "2021-01-01 00:00:00"
             ],
             {
              "frame": {
               "duration": 0,
               "redraw": true
              },
              "fromcurrent": true,
              "mode": "immediate",
              "transition": {
               "duration": 0,
               "easing": "linear"
              }
             }
            ],
            "label": "2021-01-01 00:00:00",
            "method": "animate"
           },
           {
            "args": [
             [
              "2021-02-01 00:00:00"
             ],
             {
              "frame": {
               "duration": 0,
               "redraw": true
              },
              "fromcurrent": true,
              "mode": "immediate",
              "transition": {
               "duration": 0,
               "easing": "linear"
              }
             }
            ],
            "label": "2021-02-01 00:00:00",
            "method": "animate"
           },
           {
            "args": [
             [
              "2021-03-01 00:00:00"
             ],
             {
              "frame": {
               "duration": 0,
               "redraw": true
              },
              "fromcurrent": true,
              "mode": "immediate",
              "transition": {
               "duration": 0,
               "easing": "linear"
              }
             }
            ],
            "label": "2021-03-01 00:00:00",
            "method": "animate"
           },
           {
            "args": [
             [
              "2021-04-01 00:00:00"
             ],
             {
              "frame": {
               "duration": 0,
               "redraw": true
              },
              "fromcurrent": true,
              "mode": "immediate",
              "transition": {
               "duration": 0,
               "easing": "linear"
              }
             }
            ],
            "label": "2021-04-01 00:00:00",
            "method": "animate"
           },
           {
            "args": [
             [
              "2021-05-01 00:00:00"
             ],
             {
              "frame": {
               "duration": 0,
               "redraw": true
              },
              "fromcurrent": true,
              "mode": "immediate",
              "transition": {
               "duration": 0,
               "easing": "linear"
              }
             }
            ],
            "label": "2021-05-01 00:00:00",
            "method": "animate"
           },
           {
            "args": [
             [
              "2021-06-01 00:00:00"
             ],
             {
              "frame": {
               "duration": 0,
               "redraw": true
              },
              "fromcurrent": true,
              "mode": "immediate",
              "transition": {
               "duration": 0,
               "easing": "linear"
              }
             }
            ],
            "label": "2021-06-01 00:00:00",
            "method": "animate"
           },
           {
            "args": [
             [
              "2021-07-01 00:00:00"
             ],
             {
              "frame": {
               "duration": 0,
               "redraw": true
              },
              "fromcurrent": true,
              "mode": "immediate",
              "transition": {
               "duration": 0,
               "easing": "linear"
              }
             }
            ],
            "label": "2021-07-01 00:00:00",
            "method": "animate"
           },
           {
            "args": [
             [
              "2021-08-01 00:00:00"
             ],
             {
              "frame": {
               "duration": 0,
               "redraw": true
              },
              "fromcurrent": true,
              "mode": "immediate",
              "transition": {
               "duration": 0,
               "easing": "linear"
              }
             }
            ],
            "label": "2021-08-01 00:00:00",
            "method": "animate"
           },
           {
            "args": [
             [
              "2021-09-01 00:00:00"
             ],
             {
              "frame": {
               "duration": 0,
               "redraw": true
              },
              "fromcurrent": true,
              "mode": "immediate",
              "transition": {
               "duration": 0,
               "easing": "linear"
              }
             }
            ],
            "label": "2021-09-01 00:00:00",
            "method": "animate"
           },
           {
            "args": [
             [
              "2021-10-01 00:00:00"
             ],
             {
              "frame": {
               "duration": 0,
               "redraw": true
              },
              "fromcurrent": true,
              "mode": "immediate",
              "transition": {
               "duration": 0,
               "easing": "linear"
              }
             }
            ],
            "label": "2021-10-01 00:00:00",
            "method": "animate"
           },
           {
            "args": [
             [
              "2021-11-01 00:00:00"
             ],
             {
              "frame": {
               "duration": 0,
               "redraw": true
              },
              "fromcurrent": true,
              "mode": "immediate",
              "transition": {
               "duration": 0,
               "easing": "linear"
              }
             }
            ],
            "label": "2021-11-01 00:00:00",
            "method": "animate"
           },
           {
            "args": [
             [
              "2021-12-01 00:00:00"
             ],
             {
              "frame": {
               "duration": 0,
               "redraw": true
              },
              "fromcurrent": true,
              "mode": "immediate",
              "transition": {
               "duration": 0,
               "easing": "linear"
              }
             }
            ],
            "label": "2021-12-01 00:00:00",
            "method": "animate"
           },
           {
            "args": [
             [
              "2022-01-01 00:00:00"
             ],
             {
              "frame": {
               "duration": 0,
               "redraw": true
              },
              "fromcurrent": true,
              "mode": "immediate",
              "transition": {
               "duration": 0,
               "easing": "linear"
              }
             }
            ],
            "label": "2022-01-01 00:00:00",
            "method": "animate"
           },
           {
            "args": [
             [
              "2022-02-01 00:00:00"
             ],
             {
              "frame": {
               "duration": 0,
               "redraw": true
              },
              "fromcurrent": true,
              "mode": "immediate",
              "transition": {
               "duration": 0,
               "easing": "linear"
              }
             }
            ],
            "label": "2022-02-01 00:00:00",
            "method": "animate"
           },
           {
            "args": [
             [
              "2022-03-01 00:00:00"
             ],
             {
              "frame": {
               "duration": 0,
               "redraw": true
              },
              "fromcurrent": true,
              "mode": "immediate",
              "transition": {
               "duration": 0,
               "easing": "linear"
              }
             }
            ],
            "label": "2022-03-01 00:00:00",
            "method": "animate"
           },
           {
            "args": [
             [
              "2022-04-01 00:00:00"
             ],
             {
              "frame": {
               "duration": 0,
               "redraw": true
              },
              "fromcurrent": true,
              "mode": "immediate",
              "transition": {
               "duration": 0,
               "easing": "linear"
              }
             }
            ],
            "label": "2022-04-01 00:00:00",
            "method": "animate"
           },
           {
            "args": [
             [
              "2022-05-01 00:00:00"
             ],
             {
              "frame": {
               "duration": 0,
               "redraw": true
              },
              "fromcurrent": true,
              "mode": "immediate",
              "transition": {
               "duration": 0,
               "easing": "linear"
              }
             }
            ],
            "label": "2022-05-01 00:00:00",
            "method": "animate"
           },
           {
            "args": [
             [
              "2022-06-01 00:00:00"
             ],
             {
              "frame": {
               "duration": 0,
               "redraw": true
              },
              "fromcurrent": true,
              "mode": "immediate",
              "transition": {
               "duration": 0,
               "easing": "linear"
              }
             }
            ],
            "label": "2022-06-01 00:00:00",
            "method": "animate"
           },
           {
            "args": [
             [
              "2022-07-01 00:00:00"
             ],
             {
              "frame": {
               "duration": 0,
               "redraw": true
              },
              "fromcurrent": true,
              "mode": "immediate",
              "transition": {
               "duration": 0,
               "easing": "linear"
              }
             }
            ],
            "label": "2022-07-01 00:00:00",
            "method": "animate"
           },
           {
            "args": [
             [
              "2022-08-01 00:00:00"
             ],
             {
              "frame": {
               "duration": 0,
               "redraw": true
              },
              "fromcurrent": true,
              "mode": "immediate",
              "transition": {
               "duration": 0,
               "easing": "linear"
              }
             }
            ],
            "label": "2022-08-01 00:00:00",
            "method": "animate"
           },
           {
            "args": [
             [
              "2022-09-01 00:00:00"
             ],
             {
              "frame": {
               "duration": 0,
               "redraw": true
              },
              "fromcurrent": true,
              "mode": "immediate",
              "transition": {
               "duration": 0,
               "easing": "linear"
              }
             }
            ],
            "label": "2022-09-01 00:00:00",
            "method": "animate"
           },
           {
            "args": [
             [
              "2022-10-01 00:00:00"
             ],
             {
              "frame": {
               "duration": 0,
               "redraw": true
              },
              "fromcurrent": true,
              "mode": "immediate",
              "transition": {
               "duration": 0,
               "easing": "linear"
              }
             }
            ],
            "label": "2022-10-01 00:00:00",
            "method": "animate"
           },
           {
            "args": [
             [
              "2022-11-01 00:00:00"
             ],
             {
              "frame": {
               "duration": 0,
               "redraw": true
              },
              "fromcurrent": true,
              "mode": "immediate",
              "transition": {
               "duration": 0,
               "easing": "linear"
              }
             }
            ],
            "label": "2022-11-01 00:00:00",
            "method": "animate"
           },
           {
            "args": [
             [
              "2022-12-01 00:00:00"
             ],
             {
              "frame": {
               "duration": 0,
               "redraw": true
              },
              "fromcurrent": true,
              "mode": "immediate",
              "transition": {
               "duration": 0,
               "easing": "linear"
              }
             }
            ],
            "label": "2022-12-01 00:00:00",
            "method": "animate"
           },
           {
            "args": [
             [
              "2023-01-01 00:00:00"
             ],
             {
              "frame": {
               "duration": 0,
               "redraw": true
              },
              "fromcurrent": true,
              "mode": "immediate",
              "transition": {
               "duration": 0,
               "easing": "linear"
              }
             }
            ],
            "label": "2023-01-01 00:00:00",
            "method": "animate"
           },
           {
            "args": [
             [
              "2023-02-01 00:00:00"
             ],
             {
              "frame": {
               "duration": 0,
               "redraw": true
              },
              "fromcurrent": true,
              "mode": "immediate",
              "transition": {
               "duration": 0,
               "easing": "linear"
              }
             }
            ],
            "label": "2023-02-01 00:00:00",
            "method": "animate"
           },
           {
            "args": [
             [
              "2023-03-01 00:00:00"
             ],
             {
              "frame": {
               "duration": 0,
               "redraw": true
              },
              "fromcurrent": true,
              "mode": "immediate",
              "transition": {
               "duration": 0,
               "easing": "linear"
              }
             }
            ],
            "label": "2023-03-01 00:00:00",
            "method": "animate"
           },
           {
            "args": [
             [
              "2023-04-01 00:00:00"
             ],
             {
              "frame": {
               "duration": 0,
               "redraw": true
              },
              "fromcurrent": true,
              "mode": "immediate",
              "transition": {
               "duration": 0,
               "easing": "linear"
              }
             }
            ],
            "label": "2023-04-01 00:00:00",
            "method": "animate"
           },
           {
            "args": [
             [
              "2023-05-01 00:00:00"
             ],
             {
              "frame": {
               "duration": 0,
               "redraw": true
              },
              "fromcurrent": true,
              "mode": "immediate",
              "transition": {
               "duration": 0,
               "easing": "linear"
              }
             }
            ],
            "label": "2023-05-01 00:00:00",
            "method": "animate"
           },
           {
            "args": [
             [
              "2023-06-01 00:00:00"
             ],
             {
              "frame": {
               "duration": 0,
               "redraw": true
              },
              "fromcurrent": true,
              "mode": "immediate",
              "transition": {
               "duration": 0,
               "easing": "linear"
              }
             }
            ],
            "label": "2023-06-01 00:00:00",
            "method": "animate"
           },
           {
            "args": [
             [
              "2023-07-01 00:00:00"
             ],
             {
              "frame": {
               "duration": 0,
               "redraw": true
              },
              "fromcurrent": true,
              "mode": "immediate",
              "transition": {
               "duration": 0,
               "easing": "linear"
              }
             }
            ],
            "label": "2023-07-01 00:00:00",
            "method": "animate"
           },
           {
            "args": [
             [
              "2023-08-01 00:00:00"
             ],
             {
              "frame": {
               "duration": 0,
               "redraw": true
              },
              "fromcurrent": true,
              "mode": "immediate",
              "transition": {
               "duration": 0,
               "easing": "linear"
              }
             }
            ],
            "label": "2023-08-01 00:00:00",
            "method": "animate"
           }
          ],
          "x": 0.1,
          "xanchor": "left",
          "y": 0,
          "yanchor": "top"
         }
        ],
        "template": {
         "data": {
          "bar": [
           {
            "error_x": {
             "color": "#2a3f5f"
            },
            "error_y": {
             "color": "#2a3f5f"
            },
            "marker": {
             "line": {
              "color": "#E5ECF6",
              "width": 0.5
             },
             "pattern": {
              "fillmode": "overlay",
              "size": 10,
              "solidity": 0.2
             }
            },
            "type": "bar"
           }
          ],
          "barpolar": [
           {
            "marker": {
             "line": {
              "color": "#E5ECF6",
              "width": 0.5
             },
             "pattern": {
              "fillmode": "overlay",
              "size": 10,
              "solidity": 0.2
             }
            },
            "type": "barpolar"
           }
          ],
          "carpet": [
           {
            "aaxis": {
             "endlinecolor": "#2a3f5f",
             "gridcolor": "white",
             "linecolor": "white",
             "minorgridcolor": "white",
             "startlinecolor": "#2a3f5f"
            },
            "baxis": {
             "endlinecolor": "#2a3f5f",
             "gridcolor": "white",
             "linecolor": "white",
             "minorgridcolor": "white",
             "startlinecolor": "#2a3f5f"
            },
            "type": "carpet"
           }
          ],
          "choropleth": [
           {
            "colorbar": {
             "outlinewidth": 0,
             "ticks": ""
            },
            "type": "choropleth"
           }
          ],
          "contour": [
           {
            "colorbar": {
             "outlinewidth": 0,
             "ticks": ""
            },
            "colorscale": [
             [
              0,
              "#0d0887"
             ],
             [
              0.1111111111111111,
              "#46039f"
             ],
             [
              0.2222222222222222,
              "#7201a8"
             ],
             [
              0.3333333333333333,
              "#9c179e"
             ],
             [
              0.4444444444444444,
              "#bd3786"
             ],
             [
              0.5555555555555556,
              "#d8576b"
             ],
             [
              0.6666666666666666,
              "#ed7953"
             ],
             [
              0.7777777777777778,
              "#fb9f3a"
             ],
             [
              0.8888888888888888,
              "#fdca26"
             ],
             [
              1,
              "#f0f921"
             ]
            ],
            "type": "contour"
           }
          ],
          "contourcarpet": [
           {
            "colorbar": {
             "outlinewidth": 0,
             "ticks": ""
            },
            "type": "contourcarpet"
           }
          ],
          "heatmap": [
           {
            "colorbar": {
             "outlinewidth": 0,
             "ticks": ""
            },
            "colorscale": [
             [
              0,
              "#0d0887"
             ],
             [
              0.1111111111111111,
              "#46039f"
             ],
             [
              0.2222222222222222,
              "#7201a8"
             ],
             [
              0.3333333333333333,
              "#9c179e"
             ],
             [
              0.4444444444444444,
              "#bd3786"
             ],
             [
              0.5555555555555556,
              "#d8576b"
             ],
             [
              0.6666666666666666,
              "#ed7953"
             ],
             [
              0.7777777777777778,
              "#fb9f3a"
             ],
             [
              0.8888888888888888,
              "#fdca26"
             ],
             [
              1,
              "#f0f921"
             ]
            ],
            "type": "heatmap"
           }
          ],
          "heatmapgl": [
           {
            "colorbar": {
             "outlinewidth": 0,
             "ticks": ""
            },
            "colorscale": [
             [
              0,
              "#0d0887"
             ],
             [
              0.1111111111111111,
              "#46039f"
             ],
             [
              0.2222222222222222,
              "#7201a8"
             ],
             [
              0.3333333333333333,
              "#9c179e"
             ],
             [
              0.4444444444444444,
              "#bd3786"
             ],
             [
              0.5555555555555556,
              "#d8576b"
             ],
             [
              0.6666666666666666,
              "#ed7953"
             ],
             [
              0.7777777777777778,
              "#fb9f3a"
             ],
             [
              0.8888888888888888,
              "#fdca26"
             ],
             [
              1,
              "#f0f921"
             ]
            ],
            "type": "heatmapgl"
           }
          ],
          "histogram": [
           {
            "marker": {
             "pattern": {
              "fillmode": "overlay",
              "size": 10,
              "solidity": 0.2
             }
            },
            "type": "histogram"
           }
          ],
          "histogram2d": [
           {
            "colorbar": {
             "outlinewidth": 0,
             "ticks": ""
            },
            "colorscale": [
             [
              0,
              "#0d0887"
             ],
             [
              0.1111111111111111,
              "#46039f"
             ],
             [
              0.2222222222222222,
              "#7201a8"
             ],
             [
              0.3333333333333333,
              "#9c179e"
             ],
             [
              0.4444444444444444,
              "#bd3786"
             ],
             [
              0.5555555555555556,
              "#d8576b"
             ],
             [
              0.6666666666666666,
              "#ed7953"
             ],
             [
              0.7777777777777778,
              "#fb9f3a"
             ],
             [
              0.8888888888888888,
              "#fdca26"
             ],
             [
              1,
              "#f0f921"
             ]
            ],
            "type": "histogram2d"
           }
          ],
          "histogram2dcontour": [
           {
            "colorbar": {
             "outlinewidth": 0,
             "ticks": ""
            },
            "colorscale": [
             [
              0,
              "#0d0887"
             ],
             [
              0.1111111111111111,
              "#46039f"
             ],
             [
              0.2222222222222222,
              "#7201a8"
             ],
             [
              0.3333333333333333,
              "#9c179e"
             ],
             [
              0.4444444444444444,
              "#bd3786"
             ],
             [
              0.5555555555555556,
              "#d8576b"
             ],
             [
              0.6666666666666666,
              "#ed7953"
             ],
             [
              0.7777777777777778,
              "#fb9f3a"
             ],
             [
              0.8888888888888888,
              "#fdca26"
             ],
             [
              1,
              "#f0f921"
             ]
            ],
            "type": "histogram2dcontour"
           }
          ],
          "mesh3d": [
           {
            "colorbar": {
             "outlinewidth": 0,
             "ticks": ""
            },
            "type": "mesh3d"
           }
          ],
          "parcoords": [
           {
            "line": {
             "colorbar": {
              "outlinewidth": 0,
              "ticks": ""
             }
            },
            "type": "parcoords"
           }
          ],
          "pie": [
           {
            "automargin": true,
            "type": "pie"
           }
          ],
          "scatter": [
           {
            "fillpattern": {
             "fillmode": "overlay",
             "size": 10,
             "solidity": 0.2
            },
            "type": "scatter"
           }
          ],
          "scatter3d": [
           {
            "line": {
             "colorbar": {
              "outlinewidth": 0,
              "ticks": ""
             }
            },
            "marker": {
             "colorbar": {
              "outlinewidth": 0,
              "ticks": ""
             }
            },
            "type": "scatter3d"
           }
          ],
          "scattercarpet": [
           {
            "marker": {
             "colorbar": {
              "outlinewidth": 0,
              "ticks": ""
             }
            },
            "type": "scattercarpet"
           }
          ],
          "scattergeo": [
           {
            "marker": {
             "colorbar": {
              "outlinewidth": 0,
              "ticks": ""
             }
            },
            "type": "scattergeo"
           }
          ],
          "scattergl": [
           {
            "marker": {
             "colorbar": {
              "outlinewidth": 0,
              "ticks": ""
             }
            },
            "type": "scattergl"
           }
          ],
          "scattermapbox": [
           {
            "marker": {
             "colorbar": {
              "outlinewidth": 0,
              "ticks": ""
             }
            },
            "type": "scattermapbox"
           }
          ],
          "scatterpolar": [
           {
            "marker": {
             "colorbar": {
              "outlinewidth": 0,
              "ticks": ""
             }
            },
            "type": "scatterpolar"
           }
          ],
          "scatterpolargl": [
           {
            "marker": {
             "colorbar": {
              "outlinewidth": 0,
              "ticks": ""
             }
            },
            "type": "scatterpolargl"
           }
          ],
          "scatterternary": [
           {
            "marker": {
             "colorbar": {
              "outlinewidth": 0,
              "ticks": ""
             }
            },
            "type": "scatterternary"
           }
          ],
          "surface": [
           {
            "colorbar": {
             "outlinewidth": 0,
             "ticks": ""
            },
            "colorscale": [
             [
              0,
              "#0d0887"
             ],
             [
              0.1111111111111111,
              "#46039f"
             ],
             [
              0.2222222222222222,
              "#7201a8"
             ],
             [
              0.3333333333333333,
              "#9c179e"
             ],
             [
              0.4444444444444444,
              "#bd3786"
             ],
             [
              0.5555555555555556,
              "#d8576b"
             ],
             [
              0.6666666666666666,
              "#ed7953"
             ],
             [
              0.7777777777777778,
              "#fb9f3a"
             ],
             [
              0.8888888888888888,
              "#fdca26"
             ],
             [
              1,
              "#f0f921"
             ]
            ],
            "type": "surface"
           }
          ],
          "table": [
           {
            "cells": {
             "fill": {
              "color": "#EBF0F8"
             },
             "line": {
              "color": "white"
             }
            },
            "header": {
             "fill": {
              "color": "#C8D4E3"
             },
             "line": {
              "color": "white"
             }
            },
            "type": "table"
           }
          ]
         },
         "layout": {
          "annotationdefaults": {
           "arrowcolor": "#2a3f5f",
           "arrowhead": 0,
           "arrowwidth": 1
          },
          "autotypenumbers": "strict",
          "coloraxis": {
           "colorbar": {
            "outlinewidth": 0,
            "ticks": ""
           }
          },
          "colorscale": {
           "diverging": [
            [
             0,
             "#8e0152"
            ],
            [
             0.1,
             "#c51b7d"
            ],
            [
             0.2,
             "#de77ae"
            ],
            [
             0.3,
             "#f1b6da"
            ],
            [
             0.4,
             "#fde0ef"
            ],
            [
             0.5,
             "#f7f7f7"
            ],
            [
             0.6,
             "#e6f5d0"
            ],
            [
             0.7,
             "#b8e186"
            ],
            [
             0.8,
             "#7fbc41"
            ],
            [
             0.9,
             "#4d9221"
            ],
            [
             1,
             "#276419"
            ]
           ],
           "sequential": [
            [
             0,
             "#0d0887"
            ],
            [
             0.1111111111111111,
             "#46039f"
            ],
            [
             0.2222222222222222,
             "#7201a8"
            ],
            [
             0.3333333333333333,
             "#9c179e"
            ],
            [
             0.4444444444444444,
             "#bd3786"
            ],
            [
             0.5555555555555556,
             "#d8576b"
            ],
            [
             0.6666666666666666,
             "#ed7953"
            ],
            [
             0.7777777777777778,
             "#fb9f3a"
            ],
            [
             0.8888888888888888,
             "#fdca26"
            ],
            [
             1,
             "#f0f921"
            ]
           ],
           "sequentialminus": [
            [
             0,
             "#0d0887"
            ],
            [
             0.1111111111111111,
             "#46039f"
            ],
            [
             0.2222222222222222,
             "#7201a8"
            ],
            [
             0.3333333333333333,
             "#9c179e"
            ],
            [
             0.4444444444444444,
             "#bd3786"
            ],
            [
             0.5555555555555556,
             "#d8576b"
            ],
            [
             0.6666666666666666,
             "#ed7953"
            ],
            [
             0.7777777777777778,
             "#fb9f3a"
            ],
            [
             0.8888888888888888,
             "#fdca26"
            ],
            [
             1,
             "#f0f921"
            ]
           ]
          },
          "colorway": [
           "#636efa",
           "#EF553B",
           "#00cc96",
           "#ab63fa",
           "#FFA15A",
           "#19d3f3",
           "#FF6692",
           "#B6E880",
           "#FF97FF",
           "#FECB52"
          ],
          "font": {
           "color": "#2a3f5f"
          },
          "geo": {
           "bgcolor": "white",
           "lakecolor": "white",
           "landcolor": "#E5ECF6",
           "showlakes": true,
           "showland": true,
           "subunitcolor": "white"
          },
          "hoverlabel": {
           "align": "left"
          },
          "hovermode": "closest",
          "mapbox": {
           "style": "light"
          },
          "paper_bgcolor": "white",
          "plot_bgcolor": "#E5ECF6",
          "polar": {
           "angularaxis": {
            "gridcolor": "white",
            "linecolor": "white",
            "ticks": ""
           },
           "bgcolor": "#E5ECF6",
           "radialaxis": {
            "gridcolor": "white",
            "linecolor": "white",
            "ticks": ""
           }
          },
          "scene": {
           "xaxis": {
            "backgroundcolor": "#E5ECF6",
            "gridcolor": "white",
            "gridwidth": 2,
            "linecolor": "white",
            "showbackground": true,
            "ticks": "",
            "zerolinecolor": "white"
           },
           "yaxis": {
            "backgroundcolor": "#E5ECF6",
            "gridcolor": "white",
            "gridwidth": 2,
            "linecolor": "white",
            "showbackground": true,
            "ticks": "",
            "zerolinecolor": "white"
           },
           "zaxis": {
            "backgroundcolor": "#E5ECF6",
            "gridcolor": "white",
            "gridwidth": 2,
            "linecolor": "white",
            "showbackground": true,
            "ticks": "",
            "zerolinecolor": "white"
           }
          },
          "shapedefaults": {
           "line": {
            "color": "#2a3f5f"
           }
          },
          "ternary": {
           "aaxis": {
            "gridcolor": "white",
            "linecolor": "white",
            "ticks": ""
           },
           "baxis": {
            "gridcolor": "white",
            "linecolor": "white",
            "ticks": ""
           },
           "bgcolor": "#E5ECF6",
           "caxis": {
            "gridcolor": "white",
            "linecolor": "white",
            "ticks": ""
           }
          },
          "title": {
           "x": 0.05
          },
          "xaxis": {
           "automargin": true,
           "gridcolor": "white",
           "linecolor": "white",
           "ticks": "",
           "title": {
            "standoff": 15
           },
           "zerolinecolor": "white",
           "zerolinewidth": 2
          },
          "yaxis": {
           "automargin": true,
           "gridcolor": "white",
           "linecolor": "white",
           "ticks": "",
           "title": {
            "standoff": 15
           },
           "zerolinecolor": "white",
           "zerolinewidth": 2
          }
         }
        },
        "title": {
         "text": "Cargo Volumes from Dutch Airports"
        },
        "updatemenus": [
         {
          "buttons": [
           {
            "args": [
             null,
             {
              "frame": {
               "duration": 500,
               "redraw": true
              },
              "fromcurrent": true,
              "mode": "immediate",
              "transition": {
               "duration": 500,
               "easing": "linear"
              }
             }
            ],
            "label": "&#9654;",
            "method": "animate"
           },
           {
            "args": [
             [
              null
             ],
             {
              "frame": {
               "duration": 0,
               "redraw": true
              },
              "fromcurrent": true,
              "mode": "immediate",
              "transition": {
               "duration": 0,
               "easing": "linear"
              }
             }
            ],
            "label": "&#9724;",
            "method": "animate"
           }
          ],
          "direction": "left",
          "pad": {
           "r": 10,
           "t": 70
          },
          "showactive": false,
          "type": "buttons",
          "x": 0.1,
          "xanchor": "right",
          "y": 0,
          "yanchor": "top"
         }
        ]
       }
      }
     },
     "metadata": {},
     "output_type": "display_data"
    },
    {
     "data": {
      "application/vnd.plotly.v1+json": {
       "config": {
        "plotlyServerURL": "https://plot.ly"
       },
       "data": [
        {
         "geo": "geo",
         "hovertemplate": "<b>%{hovertext}</b><br><br>Periods=2019-01-01 00:00:00<br>value=%{marker.size}<br>lat=%{lat}<br>lon=%{lon}<extra></extra>",
         "hovertext": [
          "EU Countries",
          "Other Europe",
          "North Africa",
          "West Africa",
          "Central Africa",
          "East Africa",
          "South Africa",
          "North America",
          "Central America",
          "South America",
          "West Asia",
          "South East Asia",
          "North East Asia",
          "Oceania"
         ],
         "lat": [
          51.06817476731436,
          51.104656094663596,
          30.437364261879395,
          7.959928997986893,
          6.382857433441359,
          4.621142864680792,
          -21.36137412154011,
          39.10831477183257,
          14.055530777684297,
          -16.37707312732043,
          34.361920786534085,
          17.706181315873863,
          36.550432558533785,
          -23.58328814497935
         ],
         "legendgroup": "",
         "lon": [
          7.483156574929211,
          30.497434511924325,
          14.533600264930044,
          -5.73665308026392,
          25.274620301872687,
          45.742644027389815,
          22.937458352453206,
          -99.4877492264568,
          -86.12919315960363,
          -57.79900810912669,
          46.37348934350911,
          101.17889439841429,
          127.29844484711793,
          138.75457210763784
         ],
         "marker": {
          "color": "#636efa",
          "size": [
           418,
           111,
           0,
           24,
           5,
           23,
           2,
           380,
           50,
           159,
           95,
           97,
           252,
           0
          ],
          "sizemode": "area",
          "sizeref": 1.8,
          "symbol": "circle"
         },
         "mode": "markers",
         "name": "",
         "showlegend": false,
         "type": "scattergeo"
        }
       ],
       "frames": [
        {
         "data": [
          {
           "geo": "geo",
           "hovertemplate": "<b>%{hovertext}</b><br><br>Periods=2019-01-01 00:00:00<br>value=%{marker.size}<br>lat=%{lat}<br>lon=%{lon}<extra></extra>",
           "hovertext": [
            "EU Countries",
            "Other Europe",
            "North Africa",
            "West Africa",
            "Central Africa",
            "East Africa",
            "South Africa",
            "North America",
            "Central America",
            "South America",
            "West Asia",
            "South East Asia",
            "North East Asia",
            "Oceania"
           ],
           "lat": [
            51.06817476731436,
            51.104656094663596,
            30.437364261879395,
            7.959928997986893,
            6.382857433441359,
            4.621142864680792,
            -21.36137412154011,
            39.10831477183257,
            14.055530777684297,
            -16.37707312732043,
            34.361920786534085,
            17.706181315873863,
            36.550432558533785,
            -23.58328814497935
           ],
           "legendgroup": "",
           "lon": [
            7.483156574929211,
            30.497434511924325,
            14.533600264930044,
            -5.73665308026392,
            25.274620301872687,
            45.742644027389815,
            22.937458352453206,
            -99.4877492264568,
            -86.12919315960363,
            -57.79900810912669,
            46.37348934350911,
            101.17889439841429,
            127.29844484711793,
            138.75457210763784
           ],
           "marker": {
            "color": "#636efa",
            "size": [
             418,
             111,
             0,
             24,
             5,
             23,
             2,
             380,
             50,
             159,
             95,
             97,
             252,
             0
            ],
            "sizemode": "area",
            "sizeref": 1.8,
            "symbol": "circle"
           },
           "mode": "markers",
           "name": "",
           "showlegend": false,
           "type": "scattergeo"
          }
         ],
         "name": "2019-01-01 00:00:00"
        },
        {
         "data": [
          {
           "geo": "geo",
           "hovertemplate": "<b>%{hovertext}</b><br><br>Periods=2019-02-01 00:00:00<br>value=%{marker.size}<br>lat=%{lat}<br>lon=%{lon}<extra></extra>",
           "hovertext": [
            "EU Countries",
            "Other Europe",
            "North Africa",
            "West Africa",
            "Central Africa",
            "East Africa",
            "South Africa",
            "North America",
            "Central America",
            "South America",
            "West Asia",
            "South East Asia",
            "North East Asia",
            "Oceania"
           ],
           "lat": [
            51.06817476731436,
            51.104656094663596,
            30.437364261879395,
            7.959928997986893,
            6.382857433441359,
            4.621142864680792,
            -21.36137412154011,
            39.10831477183257,
            14.055530777684297,
            -16.37707312732043,
            34.361920786534085,
            17.706181315873863,
            36.550432558533785,
            -23.58328814497935
           ],
           "legendgroup": "",
           "lon": [
            7.483156574929211,
            30.497434511924325,
            14.533600264930044,
            -5.73665308026392,
            25.274620301872687,
            45.742644027389815,
            22.937458352453206,
            -99.4877492264568,
            -86.12919315960363,
            -57.79900810912669,
            46.37348934350911,
            101.17889439841429,
            127.29844484711793,
            138.75457210763784
           ],
           "marker": {
            "color": "#636efa",
            "size": [
             333,
             91,
             0,
             24,
             5,
             21,
             4,
             339,
             45,
             143,
             93,
             70,
             231,
             0
            ],
            "sizemode": "area",
            "sizeref": 1.8,
            "symbol": "circle"
           },
           "mode": "markers",
           "name": "",
           "showlegend": false,
           "type": "scattergeo"
          }
         ],
         "name": "2019-02-01 00:00:00"
        },
        {
         "data": [
          {
           "geo": "geo",
           "hovertemplate": "<b>%{hovertext}</b><br><br>Periods=2019-03-01 00:00:00<br>value=%{marker.size}<br>lat=%{lat}<br>lon=%{lon}<extra></extra>",
           "hovertext": [
            "EU Countries",
            "Other Europe",
            "North Africa",
            "West Africa",
            "Central Africa",
            "East Africa",
            "South Africa",
            "North America",
            "Central America",
            "South America",
            "West Asia",
            "South East Asia",
            "North East Asia",
            "Oceania"
           ],
           "lat": [
            51.06817476731436,
            51.104656094663596,
            30.437364261879395,
            7.959928997986893,
            6.382857433441359,
            4.621142864680792,
            -21.36137412154011,
            39.10831477183257,
            14.055530777684297,
            -16.37707312732043,
            34.361920786534085,
            17.706181315873863,
            36.550432558533785,
            -23.58328814497935
           ],
           "legendgroup": "",
           "lon": [
            7.483156574929211,
            30.497434511924325,
            14.533600264930044,
            -5.73665308026392,
            25.274620301872687,
            45.742644027389815,
            22.937458352453206,
            -99.4877492264568,
            -86.12919315960363,
            -57.79900810912669,
            46.37348934350911,
            101.17889439841429,
            127.29844484711793,
            138.75457210763784
           ],
           "marker": {
            "color": "#636efa",
            "size": [
             450,
             117,
             7,
             33,
             5,
             21,
             5,
             293,
             49,
             152,
             98,
             134,
             397,
             0
            ],
            "sizemode": "area",
            "sizeref": 1.8,
            "symbol": "circle"
           },
           "mode": "markers",
           "name": "",
           "showlegend": false,
           "type": "scattergeo"
          }
         ],
         "name": "2019-03-01 00:00:00"
        },
        {
         "data": [
          {
           "geo": "geo",
           "hovertemplate": "<b>%{hovertext}</b><br><br>Periods=2019-04-01 00:00:00<br>value=%{marker.size}<br>lat=%{lat}<br>lon=%{lon}<extra></extra>",
           "hovertext": [
            "EU Countries",
            "Other Europe",
            "North Africa",
            "West Africa",
            "Central Africa",
            "East Africa",
            "South Africa",
            "North America",
            "Central America",
            "South America",
            "West Asia",
            "South East Asia",
            "North East Asia",
            "Oceania"
           ],
           "lat": [
            51.06817476731436,
            51.104656094663596,
            30.437364261879395,
            7.959928997986893,
            6.382857433441359,
            4.621142864680792,
            -21.36137412154011,
            39.10831477183257,
            14.055530777684297,
            -16.37707312732043,
            34.361920786534085,
            17.706181315873863,
            36.550432558533785,
            -23.58328814497935
           ],
           "legendgroup": "",
           "lon": [
            7.483156574929211,
            30.497434511924325,
            14.533600264930044,
            -5.73665308026392,
            25.274620301872687,
            45.742644027389815,
            22.937458352453206,
            -99.4877492264568,
            -86.12919315960363,
            -57.79900810912669,
            46.37348934350911,
            101.17889439841429,
            127.29844484711793,
            138.75457210763784
           ],
           "marker": {
            "color": "#636efa",
            "size": [
             485,
             125,
             11,
             31,
             4,
             16,
             5,
             301,
             50,
             139,
             88,
             106,
             385,
             0
            ],
            "sizemode": "area",
            "sizeref": 1.8,
            "symbol": "circle"
           },
           "mode": "markers",
           "name": "",
           "showlegend": false,
           "type": "scattergeo"
          }
         ],
         "name": "2019-04-01 00:00:00"
        },
        {
         "data": [
          {
           "geo": "geo",
           "hovertemplate": "<b>%{hovertext}</b><br><br>Periods=2019-05-01 00:00:00<br>value=%{marker.size}<br>lat=%{lat}<br>lon=%{lon}<extra></extra>",
           "hovertext": [
            "EU Countries",
            "Other Europe",
            "North Africa",
            "West Africa",
            "Central Africa",
            "East Africa",
            "South Africa",
            "North America",
            "Central America",
            "South America",
            "West Asia",
            "South East Asia",
            "North East Asia",
            "Oceania"
           ],
           "lat": [
            51.06817476731436,
            51.104656094663596,
            30.437364261879395,
            7.959928997986893,
            6.382857433441359,
            4.621142864680792,
            -21.36137412154011,
            39.10831477183257,
            14.055530777684297,
            -16.37707312732043,
            34.361920786534085,
            17.706181315873863,
            36.550432558533785,
            -23.58328814497935
           ],
           "legendgroup": "",
           "lon": [
            7.483156574929211,
            30.497434511924325,
            14.533600264930044,
            -5.73665308026392,
            25.274620301872687,
            45.742644027389815,
            22.937458352453206,
            -99.4877492264568,
            -86.12919315960363,
            -57.79900810912669,
            46.37348934350911,
            101.17889439841429,
            127.29844484711793,
            138.75457210763784
           ],
           "marker": {
            "color": "#636efa",
            "size": [
             513,
             118,
             10,
             24,
             6,
             15,
             6,
             284,
             53,
             139,
             94,
             174,
             423,
             0
            ],
            "sizemode": "area",
            "sizeref": 1.8,
            "symbol": "circle"
           },
           "mode": "markers",
           "name": "",
           "showlegend": false,
           "type": "scattergeo"
          }
         ],
         "name": "2019-05-01 00:00:00"
        },
        {
         "data": [
          {
           "geo": "geo",
           "hovertemplate": "<b>%{hovertext}</b><br><br>Periods=2019-06-01 00:00:00<br>value=%{marker.size}<br>lat=%{lat}<br>lon=%{lon}<extra></extra>",
           "hovertext": [
            "EU Countries",
            "Other Europe",
            "North Africa",
            "West Africa",
            "Central Africa",
            "East Africa",
            "South Africa",
            "North America",
            "Central America",
            "South America",
            "West Asia",
            "South East Asia",
            "North East Asia",
            "Oceania"
           ],
           "lat": [
            51.06817476731436,
            51.104656094663596,
            30.437364261879395,
            7.959928997986893,
            6.382857433441359,
            4.621142864680792,
            -21.36137412154011,
            39.10831477183257,
            14.055530777684297,
            -16.37707312732043,
            34.361920786534085,
            17.706181315873863,
            36.550432558533785,
            -23.58328814497935
           ],
           "legendgroup": "",
           "lon": [
            7.483156574929211,
            30.497434511924325,
            14.533600264930044,
            -5.73665308026392,
            25.274620301872687,
            45.742644027389815,
            22.937458352453206,
            -99.4877492264568,
            -86.12919315960363,
            -57.79900810912669,
            46.37348934350911,
            101.17889439841429,
            127.29844484711793,
            138.75457210763784
           ],
           "marker": {
            "color": "#636efa",
            "size": [
             453,
             112,
             10,
             23,
             7,
             17,
             6,
             285,
             52,
             129,
             105,
             125,
             412,
             0
            ],
            "sizemode": "area",
            "sizeref": 1.8,
            "symbol": "circle"
           },
           "mode": "markers",
           "name": "",
           "showlegend": false,
           "type": "scattergeo"
          }
         ],
         "name": "2019-06-01 00:00:00"
        },
        {
         "data": [
          {
           "geo": "geo",
           "hovertemplate": "<b>%{hovertext}</b><br><br>Periods=2019-07-01 00:00:00<br>value=%{marker.size}<br>lat=%{lat}<br>lon=%{lon}<extra></extra>",
           "hovertext": [
            "EU Countries",
            "Other Europe",
            "North Africa",
            "West Africa",
            "Central Africa",
            "East Africa",
            "South Africa",
            "North America",
            "Central America",
            "South America",
            "West Asia",
            "South East Asia",
            "North East Asia",
            "Oceania"
           ],
           "lat": [
            51.06817476731436,
            51.104656094663596,
            30.437364261879395,
            7.959928997986893,
            6.382857433441359,
            4.621142864680792,
            -21.36137412154011,
            39.10831477183257,
            14.055530777684297,
            -16.37707312732043,
            34.361920786534085,
            17.706181315873863,
            36.550432558533785,
            -23.58328814497935
           ],
           "legendgroup": "",
           "lon": [
            7.483156574929211,
            30.497434511924325,
            14.533600264930044,
            -5.73665308026392,
            25.274620301872687,
            45.742644027389815,
            22.937458352453206,
            -99.4877492264568,
            -86.12919315960363,
            -57.79900810912669,
            46.37348934350911,
            101.17889439841429,
            127.29844484711793,
            138.75457210763784
           ],
           "marker": {
            "color": "#636efa",
            "size": [
             509,
             121,
             10,
             30,
             7,
             18,
             6,
             273,
             56,
             150,
             129,
             146,
             422,
             0
            ],
            "sizemode": "area",
            "sizeref": 1.8,
            "symbol": "circle"
           },
           "mode": "markers",
           "name": "",
           "showlegend": false,
           "type": "scattergeo"
          }
         ],
         "name": "2019-07-01 00:00:00"
        },
        {
         "data": [
          {
           "geo": "geo",
           "hovertemplate": "<b>%{hovertext}</b><br><br>Periods=2019-08-01 00:00:00<br>value=%{marker.size}<br>lat=%{lat}<br>lon=%{lon}<extra></extra>",
           "hovertext": [
            "EU Countries",
            "Other Europe",
            "North Africa",
            "West Africa",
            "Central Africa",
            "East Africa",
            "South Africa",
            "North America",
            "Central America",
            "South America",
            "West Asia",
            "South East Asia",
            "North East Asia",
            "Oceania"
           ],
           "lat": [
            51.06817476731436,
            51.104656094663596,
            30.437364261879395,
            7.959928997986893,
            6.382857433441359,
            4.621142864680792,
            -21.36137412154011,
            39.10831477183257,
            14.055530777684297,
            -16.37707312732043,
            34.361920786534085,
            17.706181315873863,
            36.550432558533785,
            -23.58328814497935
           ],
           "legendgroup": "",
           "lon": [
            7.483156574929211,
            30.497434511924325,
            14.533600264930044,
            -5.73665308026392,
            25.274620301872687,
            45.742644027389815,
            22.937458352453206,
            -99.4877492264568,
            -86.12919315960363,
            -57.79900810912669,
            46.37348934350911,
            101.17889439841429,
            127.29844484711793,
            138.75457210763784
           ],
           "marker": {
            "color": "#636efa",
            "size": [
             479,
             116,
             6,
             26,
             6,
             17,
             6,
             274,
             58,
             154,
             121,
             97,
             414,
             0
            ],
            "sizemode": "area",
            "sizeref": 1.8,
            "symbol": "circle"
           },
           "mode": "markers",
           "name": "",
           "showlegend": false,
           "type": "scattergeo"
          }
         ],
         "name": "2019-08-01 00:00:00"
        },
        {
         "data": [
          {
           "geo": "geo",
           "hovertemplate": "<b>%{hovertext}</b><br><br>Periods=2019-09-01 00:00:00<br>value=%{marker.size}<br>lat=%{lat}<br>lon=%{lon}<extra></extra>",
           "hovertext": [
            "EU Countries",
            "Other Europe",
            "North Africa",
            "West Africa",
            "Central Africa",
            "East Africa",
            "South Africa",
            "North America",
            "Central America",
            "South America",
            "West Asia",
            "South East Asia",
            "North East Asia",
            "Oceania"
           ],
           "lat": [
            51.06817476731436,
            51.104656094663596,
            30.437364261879395,
            7.959928997986893,
            6.382857433441359,
            4.621142864680792,
            -21.36137412154011,
            39.10831477183257,
            14.055530777684297,
            -16.37707312732043,
            34.361920786534085,
            17.706181315873863,
            36.550432558533785,
            -23.58328814497935
           ],
           "legendgroup": "",
           "lon": [
            7.483156574929211,
            30.497434511924325,
            14.533600264930044,
            -5.73665308026392,
            25.274620301872687,
            45.742644027389815,
            22.937458352453206,
            -99.4877492264568,
            -86.12919315960363,
            -57.79900810912669,
            46.37348934350911,
            101.17889439841429,
            127.29844484711793,
            138.75457210763784
           ],
           "marker": {
            "color": "#636efa",
            "size": [
             484,
             133,
             8,
             29,
             5,
             18,
             8,
             265,
             54,
             129,
             125,
             91,
             398,
             0
            ],
            "sizemode": "area",
            "sizeref": 1.8,
            "symbol": "circle"
           },
           "mode": "markers",
           "name": "",
           "showlegend": false,
           "type": "scattergeo"
          }
         ],
         "name": "2019-09-01 00:00:00"
        },
        {
         "data": [
          {
           "geo": "geo",
           "hovertemplate": "<b>%{hovertext}</b><br><br>Periods=2019-10-01 00:00:00<br>value=%{marker.size}<br>lat=%{lat}<br>lon=%{lon}<extra></extra>",
           "hovertext": [
            "EU Countries",
            "Other Europe",
            "North Africa",
            "West Africa",
            "Central Africa",
            "East Africa",
            "South Africa",
            "North America",
            "Central America",
            "South America",
            "West Asia",
            "South East Asia",
            "North East Asia",
            "Oceania"
           ],
           "lat": [
            51.06817476731436,
            51.104656094663596,
            30.437364261879395,
            7.959928997986893,
            6.382857433441359,
            4.621142864680792,
            -21.36137412154011,
            39.10831477183257,
            14.055530777684297,
            -16.37707312732043,
            34.361920786534085,
            17.706181315873863,
            36.550432558533785,
            -23.58328814497935
           ],
           "legendgroup": "",
           "lon": [
            7.483156574929211,
            30.497434511924325,
            14.533600264930044,
            -5.73665308026392,
            25.274620301872687,
            45.742644027389815,
            22.937458352453206,
            -99.4877492264568,
            -86.12919315960363,
            -57.79900810912669,
            46.37348934350911,
            101.17889439841429,
            127.29844484711793,
            138.75457210763784
           ],
           "marker": {
            "color": "#636efa",
            "size": [
             561,
             165,
             5,
             28,
             6,
             18,
             8,
             375,
             55,
             156,
             132,
             79,
             386,
             0
            ],
            "sizemode": "area",
            "sizeref": 1.8,
            "symbol": "circle"
           },
           "mode": "markers",
           "name": "",
           "showlegend": false,
           "type": "scattergeo"
          }
         ],
         "name": "2019-10-01 00:00:00"
        },
        {
         "data": [
          {
           "geo": "geo",
           "hovertemplate": "<b>%{hovertext}</b><br><br>Periods=2019-11-01 00:00:00<br>value=%{marker.size}<br>lat=%{lat}<br>lon=%{lon}<extra></extra>",
           "hovertext": [
            "EU Countries",
            "Other Europe",
            "North Africa",
            "West Africa",
            "Central Africa",
            "East Africa",
            "South Africa",
            "North America",
            "Central America",
            "South America",
            "West Asia",
            "South East Asia",
            "North East Asia",
            "Oceania"
           ],
           "lat": [
            51.06817476731436,
            51.104656094663596,
            30.437364261879395,
            7.959928997986893,
            6.382857433441359,
            4.621142864680792,
            -21.36137412154011,
            39.10831477183257,
            14.055530777684297,
            -16.37707312732043,
            34.361920786534085,
            17.706181315873863,
            36.550432558533785,
            -23.58328814497935
           ],
           "legendgroup": "",
           "lon": [
            7.483156574929211,
            30.497434511924325,
            14.533600264930044,
            -5.73665308026392,
            25.274620301872687,
            45.742644027389815,
            22.937458352453206,
            -99.4877492264568,
            -86.12919315960363,
            -57.79900810912669,
            46.37348934350911,
            101.17889439841429,
            127.29844484711793,
            138.75457210763784
           ],
           "marker": {
            "color": "#636efa",
            "size": [
             605,
             141,
             13,
             36,
             6,
             18,
             10,
             382,
             58,
             209,
             129,
             81,
             446,
             0
            ],
            "sizemode": "area",
            "sizeref": 1.8,
            "symbol": "circle"
           },
           "mode": "markers",
           "name": "",
           "showlegend": false,
           "type": "scattergeo"
          }
         ],
         "name": "2019-11-01 00:00:00"
        },
        {
         "data": [
          {
           "geo": "geo",
           "hovertemplate": "<b>%{hovertext}</b><br><br>Periods=2019-12-01 00:00:00<br>value=%{marker.size}<br>lat=%{lat}<br>lon=%{lon}<extra></extra>",
           "hovertext": [
            "EU Countries",
            "Other Europe",
            "North Africa",
            "West Africa",
            "Central Africa",
            "East Africa",
            "South Africa",
            "North America",
            "Central America",
            "South America",
            "West Asia",
            "South East Asia",
            "North East Asia",
            "Oceania"
           ],
           "lat": [
            51.06817476731436,
            51.104656094663596,
            30.437364261879395,
            7.959928997986893,
            6.382857433441359,
            4.621142864680792,
            -21.36137412154011,
            39.10831477183257,
            14.055530777684297,
            -16.37707312732043,
            34.361920786534085,
            17.706181315873863,
            36.550432558533785,
            -23.58328814497935
           ],
           "legendgroup": "",
           "lon": [
            7.483156574929211,
            30.497434511924325,
            14.533600264930044,
            -5.73665308026392,
            25.274620301872687,
            45.742644027389815,
            22.937458352453206,
            -99.4877492264568,
            -86.12919315960363,
            -57.79900810912669,
            46.37348934350911,
            101.17889439841429,
            127.29844484711793,
            138.75457210763784
           ],
           "marker": {
            "color": "#636efa",
            "size": [
             720,
             187,
             16,
             47,
             7,
             21,
             9,
             402,
             63,
             216,
             120,
             89,
             443,
             0
            ],
            "sizemode": "area",
            "sizeref": 1.8,
            "symbol": "circle"
           },
           "mode": "markers",
           "name": "",
           "showlegend": false,
           "type": "scattergeo"
          }
         ],
         "name": "2019-12-01 00:00:00"
        },
        {
         "data": [
          {
           "geo": "geo",
           "hovertemplate": "<b>%{hovertext}</b><br><br>Periods=2020-01-01 00:00:00<br>value=%{marker.size}<br>lat=%{lat}<br>lon=%{lon}<extra></extra>",
           "hovertext": [
            "EU Countries",
            "Other Europe",
            "North Africa",
            "West Africa",
            "Central Africa",
            "East Africa",
            "South Africa",
            "North America",
            "Central America",
            "South America",
            "West Asia",
            "South East Asia",
            "North East Asia",
            "Oceania"
           ],
           "lat": [
            51.06817476731436,
            51.104656094663596,
            30.437364261879395,
            7.959928997986893,
            6.382857433441359,
            4.621142864680792,
            -21.36137412154011,
            39.10831477183257,
            14.055530777684297,
            -16.37707312732043,
            34.361920786534085,
            17.706181315873863,
            36.550432558533785,
            -23.58328814497935
           ],
           "legendgroup": "",
           "lon": [
            7.483156574929211,
            30.497434511924325,
            14.533600264930044,
            -5.73665308026392,
            25.274620301872687,
            45.742644027389815,
            22.937458352453206,
            -99.4877492264568,
            -86.12919315960363,
            -57.79900810912669,
            46.37348934350911,
            101.17889439841429,
            127.29844484711793,
            138.75457210763784
           ],
           "marker": {
            "color": "#636efa",
            "size": [
             577,
             145,
             13,
             41,
             5,
             16,
             8,
             303,
             53,
             173,
             109,
             63,
             402,
             0
            ],
            "sizemode": "area",
            "sizeref": 1.8,
            "symbol": "circle"
           },
           "mode": "markers",
           "name": "",
           "showlegend": false,
           "type": "scattergeo"
          }
         ],
         "name": "2020-01-01 00:00:00"
        },
        {
         "data": [
          {
           "geo": "geo",
           "hovertemplate": "<b>%{hovertext}</b><br><br>Periods=2020-02-01 00:00:00<br>value=%{marker.size}<br>lat=%{lat}<br>lon=%{lon}<extra></extra>",
           "hovertext": [
            "EU Countries",
            "Other Europe",
            "North Africa",
            "West Africa",
            "Central Africa",
            "East Africa",
            "South Africa",
            "North America",
            "Central America",
            "South America",
            "West Asia",
            "South East Asia",
            "North East Asia",
            "Oceania"
           ],
           "lat": [
            51.06817476731436,
            51.104656094663596,
            30.437364261879395,
            7.959928997986893,
            6.382857433441359,
            4.621142864680792,
            -21.36137412154011,
            39.10831477183257,
            14.055530777684297,
            -16.37707312732043,
            34.361920786534085,
            17.706181315873863,
            36.550432558533785,
            -23.58328814497935
           ],
           "legendgroup": "",
           "lon": [
            7.483156574929211,
            30.497434511924325,
            14.533600264930044,
            -5.73665308026392,
            25.274620301872687,
            45.742644027389815,
            22.937458352453206,
            -99.4877492264568,
            -86.12919315960363,
            -57.79900810912669,
            46.37348934350911,
            101.17889439841429,
            127.29844484711793,
            138.75457210763784
           ],
           "marker": {
            "color": "#636efa",
            "size": [
             439,
             109,
             14,
             40,
             5,
             15,
             14,
             322,
             40,
             119,
             86,
             53,
             236,
             0
            ],
            "sizemode": "area",
            "sizeref": 1.8,
            "symbol": "circle"
           },
           "mode": "markers",
           "name": "",
           "showlegend": false,
           "type": "scattergeo"
          }
         ],
         "name": "2020-02-01 00:00:00"
        },
        {
         "data": [
          {
           "geo": "geo",
           "hovertemplate": "<b>%{hovertext}</b><br><br>Periods=2020-03-01 00:00:00<br>value=%{marker.size}<br>lat=%{lat}<br>lon=%{lon}<extra></extra>",
           "hovertext": [
            "EU Countries",
            "Other Europe",
            "North Africa",
            "West Africa",
            "Central Africa",
            "East Africa",
            "South Africa",
            "North America",
            "Central America",
            "South America",
            "West Asia",
            "South East Asia",
            "North East Asia",
            "Oceania"
           ],
           "lat": [
            51.06817476731436,
            51.104656094663596,
            30.437364261879395,
            7.959928997986893,
            6.382857433441359,
            4.621142864680792,
            -21.36137412154011,
            39.10831477183257,
            14.055530777684297,
            -16.37707312732043,
            34.361920786534085,
            17.706181315873863,
            36.550432558533785,
            -23.58328814497935
           ],
           "legendgroup": "",
           "lon": [
            7.483156574929211,
            30.497434511924325,
            14.533600264930044,
            -5.73665308026392,
            25.274620301872687,
            45.742644027389815,
            22.937458352453206,
            -99.4877492264568,
            -86.12919315960363,
            -57.79900810912669,
            46.37348934350911,
            101.17889439841429,
            127.29844484711793,
            138.75457210763784
           ],
           "marker": {
            "color": "#636efa",
            "size": [
             298,
             81,
             6,
             26,
             3,
             12,
             7,
             283,
             36,
             90,
             87,
             54,
             184,
             0
            ],
            "sizemode": "area",
            "sizeref": 1.8,
            "symbol": "circle"
           },
           "mode": "markers",
           "name": "",
           "showlegend": false,
           "type": "scattergeo"
          }
         ],
         "name": "2020-03-01 00:00:00"
        },
        {
         "data": [
          {
           "geo": "geo",
           "hovertemplate": "<b>%{hovertext}</b><br><br>Periods=2020-04-01 00:00:00<br>value=%{marker.size}<br>lat=%{lat}<br>lon=%{lon}<extra></extra>",
           "hovertext": [
            "EU Countries",
            "Other Europe",
            "North Africa",
            "West Africa",
            "Central Africa",
            "East Africa",
            "South Africa",
            "North America",
            "Central America",
            "South America",
            "West Asia",
            "South East Asia",
            "North East Asia",
            "Oceania"
           ],
           "lat": [
            51.06817476731436,
            51.104656094663596,
            30.437364261879395,
            7.959928997986893,
            6.382857433441359,
            4.621142864680792,
            -21.36137412154011,
            39.10831477183257,
            14.055530777684297,
            -16.37707312732043,
            34.361920786534085,
            17.706181315873863,
            36.550432558533785,
            -23.58328814497935
           ],
           "legendgroup": "",
           "lon": [
            7.483156574929211,
            30.497434511924325,
            14.533600264930044,
            -5.73665308026392,
            25.274620301872687,
            45.742644027389815,
            22.937458352453206,
            -99.4877492264568,
            -86.12919315960363,
            -57.79900810912669,
            46.37348934350911,
            101.17889439841429,
            127.29844484711793,
            138.75457210763784
           ],
           "marker": {
            "color": "#636efa",
            "size": [
             56,
             19,
             3,
             0,
             0,
             0,
             1,
             73,
             7,
             12,
             104,
             19,
             88,
             0
            ],
            "sizemode": "area",
            "sizeref": 1.8,
            "symbol": "circle"
           },
           "mode": "markers",
           "name": "",
           "showlegend": false,
           "type": "scattergeo"
          }
         ],
         "name": "2020-04-01 00:00:00"
        },
        {
         "data": [
          {
           "geo": "geo",
           "hovertemplate": "<b>%{hovertext}</b><br><br>Periods=2020-05-01 00:00:00<br>value=%{marker.size}<br>lat=%{lat}<br>lon=%{lon}<extra></extra>",
           "hovertext": [
            "EU Countries",
            "Other Europe",
            "North Africa",
            "West Africa",
            "Central Africa",
            "East Africa",
            "South Africa",
            "North America",
            "Central America",
            "South America",
            "West Asia",
            "South East Asia",
            "North East Asia",
            "Oceania"
           ],
           "lat": [
            51.06817476731436,
            51.104656094663596,
            30.437364261879395,
            7.959928997986893,
            6.382857433441359,
            4.621142864680792,
            -21.36137412154011,
            39.10831477183257,
            14.055530777684297,
            -16.37707312732043,
            34.361920786534085,
            17.706181315873863,
            36.550432558533785,
            -23.58328814497935
           ],
           "legendgroup": "",
           "lon": [
            7.483156574929211,
            30.497434511924325,
            14.533600264930044,
            -5.73665308026392,
            25.274620301872687,
            45.742644027389815,
            22.937458352453206,
            -99.4877492264568,
            -86.12919315960363,
            -57.79900810912669,
            46.37348934350911,
            101.17889439841429,
            127.29844484711793,
            138.75457210763784
           ],
           "marker": {
            "color": "#636efa",
            "size": [
             101,
             39,
             0,
             0,
             0,
             2,
             0,
             166,
             21,
             37,
             73,
             21,
             80,
             0
            ],
            "sizemode": "area",
            "sizeref": 1.8,
            "symbol": "circle"
           },
           "mode": "markers",
           "name": "",
           "showlegend": false,
           "type": "scattergeo"
          }
         ],
         "name": "2020-05-01 00:00:00"
        },
        {
         "data": [
          {
           "geo": "geo",
           "hovertemplate": "<b>%{hovertext}</b><br><br>Periods=2020-06-01 00:00:00<br>value=%{marker.size}<br>lat=%{lat}<br>lon=%{lon}<extra></extra>",
           "hovertext": [
            "EU Countries",
            "Other Europe",
            "North Africa",
            "West Africa",
            "Central Africa",
            "East Africa",
            "South Africa",
            "North America",
            "Central America",
            "South America",
            "West Asia",
            "South East Asia",
            "North East Asia",
            "Oceania"
           ],
           "lat": [
            51.06817476731436,
            51.104656094663596,
            30.437364261879395,
            7.959928997986893,
            6.382857433441359,
            4.621142864680792,
            -21.36137412154011,
            39.10831477183257,
            14.055530777684297,
            -16.37707312732043,
            34.361920786534085,
            17.706181315873863,
            36.550432558533785,
            -23.58328814497935
           ],
           "legendgroup": "",
           "lon": [
            7.483156574929211,
            30.497434511924325,
            14.533600264930044,
            -5.73665308026392,
            25.274620301872687,
            45.742644027389815,
            22.937458352453206,
            -99.4877492264568,
            -86.12919315960363,
            -57.79900810912669,
            46.37348934350911,
            101.17889439841429,
            127.29844484711793,
            138.75457210763784
           ],
           "marker": {
            "color": "#636efa",
            "size": [
             172,
             56,
             1,
             17,
             0,
             3,
             10,
             316,
             23,
             69,
             70,
             25,
             93,
             0
            ],
            "sizemode": "area",
            "sizeref": 1.8,
            "symbol": "circle"
           },
           "mode": "markers",
           "name": "",
           "showlegend": false,
           "type": "scattergeo"
          }
         ],
         "name": "2020-06-01 00:00:00"
        },
        {
         "data": [
          {
           "geo": "geo",
           "hovertemplate": "<b>%{hovertext}</b><br><br>Periods=2020-07-01 00:00:00<br>value=%{marker.size}<br>lat=%{lat}<br>lon=%{lon}<extra></extra>",
           "hovertext": [
            "EU Countries",
            "Other Europe",
            "North Africa",
            "West Africa",
            "Central Africa",
            "East Africa",
            "South Africa",
            "North America",
            "Central America",
            "South America",
            "West Asia",
            "South East Asia",
            "North East Asia",
            "Oceania"
           ],
           "lat": [
            51.06817476731436,
            51.104656094663596,
            30.437364261879395,
            7.959928997986893,
            6.382857433441359,
            4.621142864680792,
            -21.36137412154011,
            39.10831477183257,
            14.055530777684297,
            -16.37707312732043,
            34.361920786534085,
            17.706181315873863,
            36.550432558533785,
            -23.58328814497935
           ],
           "legendgroup": "",
           "lon": [
            7.483156574929211,
            30.497434511924325,
            14.533600264930044,
            -5.73665308026392,
            25.274620301872687,
            45.742644027389815,
            22.937458352453206,
            -99.4877492264568,
            -86.12919315960363,
            -57.79900810912669,
            46.37348934350911,
            101.17889439841429,
            127.29844484711793,
            138.75457210763784
           ],
           "marker": {
            "color": "#636efa",
            "size": [
             235,
             78,
             0,
             26,
             0,
             1,
             13,
             304,
             30,
             143,
             73,
             68,
             112,
             0
            ],
            "sizemode": "area",
            "sizeref": 1.8,
            "symbol": "circle"
           },
           "mode": "markers",
           "name": "",
           "showlegend": false,
           "type": "scattergeo"
          }
         ],
         "name": "2020-07-01 00:00:00"
        },
        {
         "data": [
          {
           "geo": "geo",
           "hovertemplate": "<b>%{hovertext}</b><br><br>Periods=2020-08-01 00:00:00<br>value=%{marker.size}<br>lat=%{lat}<br>lon=%{lon}<extra></extra>",
           "hovertext": [
            "EU Countries",
            "Other Europe",
            "North Africa",
            "West Africa",
            "Central Africa",
            "East Africa",
            "South Africa",
            "North America",
            "Central America",
            "South America",
            "West Asia",
            "South East Asia",
            "North East Asia",
            "Oceania"
           ],
           "lat": [
            51.06817476731436,
            51.104656094663596,
            30.437364261879395,
            7.959928997986893,
            6.382857433441359,
            4.621142864680792,
            -21.36137412154011,
            39.10831477183257,
            14.055530777684297,
            -16.37707312732043,
            34.361920786534085,
            17.706181315873863,
            36.550432558533785,
            -23.58328814497935
           ],
           "legendgroup": "",
           "lon": [
            7.483156574929211,
            30.497434511924325,
            14.533600264930044,
            -5.73665308026392,
            25.274620301872687,
            45.742644027389815,
            22.937458352453206,
            -99.4877492264568,
            -86.12919315960363,
            -57.79900810912669,
            46.37348934350911,
            101.17889439841429,
            127.29844484711793,
            138.75457210763784
           ],
           "marker": {
            "color": "#636efa",
            "size": [
             271,
             91,
             1,
             24,
             1,
             4,
             13,
             359,
             56,
             162,
             91,
             50,
             160,
             0
            ],
            "sizemode": "area",
            "sizeref": 1.8,
            "symbol": "circle"
           },
           "mode": "markers",
           "name": "",
           "showlegend": false,
           "type": "scattergeo"
          }
         ],
         "name": "2020-08-01 00:00:00"
        },
        {
         "data": [
          {
           "geo": "geo",
           "hovertemplate": "<b>%{hovertext}</b><br><br>Periods=2020-09-01 00:00:00<br>value=%{marker.size}<br>lat=%{lat}<br>lon=%{lon}<extra></extra>",
           "hovertext": [
            "EU Countries",
            "Other Europe",
            "North Africa",
            "West Africa",
            "Central Africa",
            "East Africa",
            "South Africa",
            "North America",
            "Central America",
            "South America",
            "West Asia",
            "South East Asia",
            "North East Asia",
            "Oceania"
           ],
           "lat": [
            51.06817476731436,
            51.104656094663596,
            30.437364261879395,
            7.959928997986893,
            6.382857433441359,
            4.621142864680792,
            -21.36137412154011,
            39.10831477183257,
            14.055530777684297,
            -16.37707312732043,
            34.361920786534085,
            17.706181315873863,
            36.550432558533785,
            -23.58328814497935
           ],
           "legendgroup": "",
           "lon": [
            7.483156574929211,
            30.497434511924325,
            14.533600264930044,
            -5.73665308026392,
            25.274620301872687,
            45.742644027389815,
            22.937458352453206,
            -99.4877492264568,
            -86.12919315960363,
            -57.79900810912669,
            46.37348934350911,
            101.17889439841429,
            127.29844484711793,
            138.75457210763784
           ],
           "marker": {
            "color": "#636efa",
            "size": [
             231,
             112,
             2,
             49,
             2,
             5,
             10,
             410,
             29,
             120,
             84,
             40,
             158,
             0
            ],
            "sizemode": "area",
            "sizeref": 1.8,
            "symbol": "circle"
           },
           "mode": "markers",
           "name": "",
           "showlegend": false,
           "type": "scattergeo"
          }
         ],
         "name": "2020-09-01 00:00:00"
        },
        {
         "data": [
          {
           "geo": "geo",
           "hovertemplate": "<b>%{hovertext}</b><br><br>Periods=2020-10-01 00:00:00<br>value=%{marker.size}<br>lat=%{lat}<br>lon=%{lon}<extra></extra>",
           "hovertext": [
            "EU Countries",
            "Other Europe",
            "North Africa",
            "West Africa",
            "Central Africa",
            "East Africa",
            "South Africa",
            "North America",
            "Central America",
            "South America",
            "West Asia",
            "South East Asia",
            "North East Asia",
            "Oceania"
           ],
           "lat": [
            51.06817476731436,
            51.104656094663596,
            30.437364261879395,
            7.959928997986893,
            6.382857433441359,
            4.621142864680792,
            -21.36137412154011,
            39.10831477183257,
            14.055530777684297,
            -16.37707312732043,
            34.361920786534085,
            17.706181315873863,
            36.550432558533785,
            -23.58328814497935
           ],
           "legendgroup": "",
           "lon": [
            7.483156574929211,
            30.497434511924325,
            14.533600264930044,
            -5.73665308026392,
            25.274620301872687,
            45.742644027389815,
            22.937458352453206,
            -99.4877492264568,
            -86.12919315960363,
            -57.79900810912669,
            46.37348934350911,
            101.17889439841429,
            127.29844484711793,
            138.75457210763784
           ],
           "marker": {
            "color": "#636efa",
            "size": [
             261,
             113,
             2,
             39,
             7,
             4,
             10,
             540,
             33,
             129,
             117,
             64,
             203,
             0
            ],
            "sizemode": "area",
            "sizeref": 1.8,
            "symbol": "circle"
           },
           "mode": "markers",
           "name": "",
           "showlegend": false,
           "type": "scattergeo"
          }
         ],
         "name": "2020-10-01 00:00:00"
        },
        {
         "data": [
          {
           "geo": "geo",
           "hovertemplate": "<b>%{hovertext}</b><br><br>Periods=2020-11-01 00:00:00<br>value=%{marker.size}<br>lat=%{lat}<br>lon=%{lon}<extra></extra>",
           "hovertext": [
            "EU Countries",
            "Other Europe",
            "North Africa",
            "West Africa",
            "Central Africa",
            "East Africa",
            "South Africa",
            "North America",
            "Central America",
            "South America",
            "West Asia",
            "South East Asia",
            "North East Asia",
            "Oceania"
           ],
           "lat": [
            51.06817476731436,
            51.104656094663596,
            30.437364261879395,
            7.959928997986893,
            6.382857433441359,
            4.621142864680792,
            -21.36137412154011,
            39.10831477183257,
            14.055530777684297,
            -16.37707312732043,
            34.361920786534085,
            17.706181315873863,
            36.550432558533785,
            -23.58328814497935
           ],
           "legendgroup": "",
           "lon": [
            7.483156574929211,
            30.497434511924325,
            14.533600264930044,
            -5.73665308026392,
            25.274620301872687,
            45.742644027389815,
            22.937458352453206,
            -99.4877492264568,
            -86.12919315960363,
            -57.79900810912669,
            46.37348934350911,
            101.17889439841429,
            127.29844484711793,
            138.75457210763784
           ],
           "marker": {
            "color": "#636efa",
            "size": [
             309,
             119,
             2,
             35,
             8,
             12,
             1,
             492,
             28,
             108,
             144,
             43,
             210,
             0
            ],
            "sizemode": "area",
            "sizeref": 1.8,
            "symbol": "circle"
           },
           "mode": "markers",
           "name": "",
           "showlegend": false,
           "type": "scattergeo"
          }
         ],
         "name": "2020-11-01 00:00:00"
        },
        {
         "data": [
          {
           "geo": "geo",
           "hovertemplate": "<b>%{hovertext}</b><br><br>Periods=2020-12-01 00:00:00<br>value=%{marker.size}<br>lat=%{lat}<br>lon=%{lon}<extra></extra>",
           "hovertext": [
            "EU Countries",
            "Other Europe",
            "North Africa",
            "West Africa",
            "Central Africa",
            "East Africa",
            "South Africa",
            "North America",
            "Central America",
            "South America",
            "West Asia",
            "South East Asia",
            "North East Asia",
            "Oceania"
           ],
           "lat": [
            51.06817476731436,
            51.104656094663596,
            30.437364261879395,
            7.959928997986893,
            6.382857433441359,
            4.621142864680792,
            -21.36137412154011,
            39.10831477183257,
            14.055530777684297,
            -16.37707312732043,
            34.361920786534085,
            17.706181315873863,
            36.550432558533785,
            -23.58328814497935
           ],
           "legendgroup": "",
           "lon": [
            7.483156574929211,
            30.497434511924325,
            14.533600264930044,
            -5.73665308026392,
            25.274620301872687,
            45.742644027389815,
            22.937458352453206,
            -99.4877492264568,
            -86.12919315960363,
            -57.79900810912669,
            46.37348934350911,
            101.17889439841429,
            127.29844484711793,
            138.75457210763784
           ],
           "marker": {
            "color": "#636efa",
            "size": [
             405,
             138,
             7,
             38,
             8,
             15,
             1,
             605,
             44,
             105,
             130,
             56,
             284,
             0
            ],
            "sizemode": "area",
            "sizeref": 1.8,
            "symbol": "circle"
           },
           "mode": "markers",
           "name": "",
           "showlegend": false,
           "type": "scattergeo"
          }
         ],
         "name": "2020-12-01 00:00:00"
        },
        {
         "data": [
          {
           "geo": "geo",
           "hovertemplate": "<b>%{hovertext}</b><br><br>Periods=2021-01-01 00:00:00<br>value=%{marker.size}<br>lat=%{lat}<br>lon=%{lon}<extra></extra>",
           "hovertext": [
            "EU Countries",
            "Other Europe",
            "North Africa",
            "West Africa",
            "Central Africa",
            "East Africa",
            "South Africa",
            "North America",
            "Central America",
            "South America",
            "West Asia",
            "South East Asia",
            "North East Asia",
            "Oceania"
           ],
           "lat": [
            51.06817476731436,
            51.104656094663596,
            30.437364261879395,
            7.959928997986893,
            6.382857433441359,
            4.621142864680792,
            -21.36137412154011,
            39.10831477183257,
            14.055530777684297,
            -16.37707312732043,
            34.361920786534085,
            17.706181315873863,
            36.550432558533785,
            -23.58328814497935
           ],
           "legendgroup": "",
           "lon": [
            7.483156574929211,
            30.497434511924325,
            14.533600264930044,
            -5.73665308026392,
            25.274620301872687,
            45.742644027389815,
            22.937458352453206,
            -99.4877492264568,
            -86.12919315960363,
            -57.79900810912669,
            46.37348934350911,
            101.17889439841429,
            127.29844484711793,
            138.75457210763784
           ],
           "marker": {
            "color": "#636efa",
            "size": [
             269,
             159,
             8,
             20,
             4,
             9,
             1,
             487,
             35,
             88,
             102,
             46,
             175,
             0
            ],
            "sizemode": "area",
            "sizeref": 1.8,
            "symbol": "circle"
           },
           "mode": "markers",
           "name": "",
           "showlegend": false,
           "type": "scattergeo"
          }
         ],
         "name": "2021-01-01 00:00:00"
        },
        {
         "data": [
          {
           "geo": "geo",
           "hovertemplate": "<b>%{hovertext}</b><br><br>Periods=2021-02-01 00:00:00<br>value=%{marker.size}<br>lat=%{lat}<br>lon=%{lon}<extra></extra>",
           "hovertext": [
            "EU Countries",
            "Other Europe",
            "North Africa",
            "West Africa",
            "Central Africa",
            "East Africa",
            "South Africa",
            "North America",
            "Central America",
            "South America",
            "West Asia",
            "South East Asia",
            "North East Asia",
            "Oceania"
           ],
           "lat": [
            51.06817476731436,
            51.104656094663596,
            30.437364261879395,
            7.959928997986893,
            6.382857433441359,
            4.621142864680792,
            -21.36137412154011,
            39.10831477183257,
            14.055530777684297,
            -16.37707312732043,
            34.361920786534085,
            17.706181315873863,
            36.550432558533785,
            -23.58328814497935
           ],
           "legendgroup": "",
           "lon": [
            7.483156574929211,
            30.497434511924325,
            14.533600264930044,
            -5.73665308026392,
            25.274620301872687,
            45.742644027389815,
            22.937458352453206,
            -99.4877492264568,
            -86.12919315960363,
            -57.79900810912669,
            46.37348934350911,
            101.17889439841429,
            127.29844484711793,
            138.75457210763784
           ],
           "marker": {
            "color": "#636efa",
            "size": [
             211,
             92,
             10,
             13,
             6,
             10,
             1,
             426,
             23,
             66,
             92,
             31,
             128,
             0
            ],
            "sizemode": "area",
            "sizeref": 1.8,
            "symbol": "circle"
           },
           "mode": "markers",
           "name": "",
           "showlegend": false,
           "type": "scattergeo"
          }
         ],
         "name": "2021-02-01 00:00:00"
        },
        {
         "data": [
          {
           "geo": "geo",
           "hovertemplate": "<b>%{hovertext}</b><br><br>Periods=2021-03-01 00:00:00<br>value=%{marker.size}<br>lat=%{lat}<br>lon=%{lon}<extra></extra>",
           "hovertext": [
            "EU Countries",
            "Other Europe",
            "North Africa",
            "West Africa",
            "Central Africa",
            "East Africa",
            "South Africa",
            "North America",
            "Central America",
            "South America",
            "West Asia",
            "South East Asia",
            "North East Asia",
            "Oceania"
           ],
           "lat": [
            51.06817476731436,
            51.104656094663596,
            30.437364261879395,
            7.959928997986893,
            6.382857433441359,
            4.621142864680792,
            -21.36137412154011,
            39.10831477183257,
            14.055530777684297,
            -16.37707312732043,
            34.361920786534085,
            17.706181315873863,
            36.550432558533785,
            -23.58328814497935
           ],
           "legendgroup": "",
           "lon": [
            7.483156574929211,
            30.497434511924325,
            14.533600264930044,
            -5.73665308026392,
            25.274620301872687,
            45.742644027389815,
            22.937458352453206,
            -99.4877492264568,
            -86.12919315960363,
            -57.79900810912669,
            46.37348934350911,
            101.17889439841429,
            127.29844484711793,
            138.75457210763784
           ],
           "marker": {
            "color": "#636efa",
            "size": [
             249,
             102,
             5,
             29,
             8,
             8,
             2,
             579,
             31,
             65,
             116,
             46,
             140,
             0
            ],
            "sizemode": "area",
            "sizeref": 1.8,
            "symbol": "circle"
           },
           "mode": "markers",
           "name": "",
           "showlegend": false,
           "type": "scattergeo"
          }
         ],
         "name": "2021-03-01 00:00:00"
        },
        {
         "data": [
          {
           "geo": "geo",
           "hovertemplate": "<b>%{hovertext}</b><br><br>Periods=2021-04-01 00:00:00<br>value=%{marker.size}<br>lat=%{lat}<br>lon=%{lon}<extra></extra>",
           "hovertext": [
            "EU Countries",
            "Other Europe",
            "North Africa",
            "West Africa",
            "Central Africa",
            "East Africa",
            "South Africa",
            "North America",
            "Central America",
            "South America",
            "West Asia",
            "South East Asia",
            "North East Asia",
            "Oceania"
           ],
           "lat": [
            51.06817476731436,
            51.104656094663596,
            30.437364261879395,
            7.959928997986893,
            6.382857433441359,
            4.621142864680792,
            -21.36137412154011,
            39.10831477183257,
            14.055530777684297,
            -16.37707312732043,
            34.361920786534085,
            17.706181315873863,
            36.550432558533785,
            -23.58328814497935
           ],
           "legendgroup": "",
           "lon": [
            7.483156574929211,
            30.497434511924325,
            14.533600264930044,
            -5.73665308026392,
            25.274620301872687,
            45.742644027389815,
            22.937458352453206,
            -99.4877492264568,
            -86.12919315960363,
            -57.79900810912669,
            46.37348934350911,
            101.17889439841429,
            127.29844484711793,
            138.75457210763784
           ],
           "marker": {
            "color": "#636efa",
            "size": [
             211,
             140,
             6,
             36,
             9,
             16,
             1,
             518,
             30,
             51,
             76,
             39,
             126,
             0
            ],
            "sizemode": "area",
            "sizeref": 1.8,
            "symbol": "circle"
           },
           "mode": "markers",
           "name": "",
           "showlegend": false,
           "type": "scattergeo"
          }
         ],
         "name": "2021-04-01 00:00:00"
        },
        {
         "data": [
          {
           "geo": "geo",
           "hovertemplate": "<b>%{hovertext}</b><br><br>Periods=2021-05-01 00:00:00<br>value=%{marker.size}<br>lat=%{lat}<br>lon=%{lon}<extra></extra>",
           "hovertext": [
            "EU Countries",
            "Other Europe",
            "North Africa",
            "West Africa",
            "Central Africa",
            "East Africa",
            "South Africa",
            "North America",
            "Central America",
            "South America",
            "West Asia",
            "South East Asia",
            "North East Asia",
            "Oceania"
           ],
           "lat": [
            51.06817476731436,
            51.104656094663596,
            30.437364261879395,
            7.959928997986893,
            6.382857433441359,
            4.621142864680792,
            -21.36137412154011,
            39.10831477183257,
            14.055530777684297,
            -16.37707312732043,
            34.361920786534085,
            17.706181315873863,
            36.550432558533785,
            -23.58328814497935
           ],
           "legendgroup": "",
           "lon": [
            7.483156574929211,
            30.497434511924325,
            14.533600264930044,
            -5.73665308026392,
            25.274620301872687,
            45.742644027389815,
            22.937458352453206,
            -99.4877492264568,
            -86.12919315960363,
            -57.79900810912669,
            46.37348934350911,
            101.17889439841429,
            127.29844484711793,
            138.75457210763784
           ],
           "marker": {
            "color": "#636efa",
            "size": [
             171,
             126,
             4,
             30,
             11,
             16,
             1,
             554,
             32,
             60,
             76,
             32,
             109,
             0
            ],
            "sizemode": "area",
            "sizeref": 1.8,
            "symbol": "circle"
           },
           "mode": "markers",
           "name": "",
           "showlegend": false,
           "type": "scattergeo"
          }
         ],
         "name": "2021-05-01 00:00:00"
        },
        {
         "data": [
          {
           "geo": "geo",
           "hovertemplate": "<b>%{hovertext}</b><br><br>Periods=2021-06-01 00:00:00<br>value=%{marker.size}<br>lat=%{lat}<br>lon=%{lon}<extra></extra>",
           "hovertext": [
            "EU Countries",
            "Other Europe",
            "North Africa",
            "West Africa",
            "Central Africa",
            "East Africa",
            "South Africa",
            "North America",
            "Central America",
            "South America",
            "West Asia",
            "South East Asia",
            "North East Asia",
            "Oceania"
           ],
           "lat": [
            51.06817476731436,
            51.104656094663596,
            30.437364261879395,
            7.959928997986893,
            6.382857433441359,
            4.621142864680792,
            -21.36137412154011,
            39.10831477183257,
            14.055530777684297,
            -16.37707312732043,
            34.361920786534085,
            17.706181315873863,
            36.550432558533785,
            -23.58328814497935
           ],
           "legendgroup": "",
           "lon": [
            7.483156574929211,
            30.497434511924325,
            14.533600264930044,
            -5.73665308026392,
            25.274620301872687,
            45.742644027389815,
            22.937458352453206,
            -99.4877492264568,
            -86.12919315960363,
            -57.79900810912669,
            46.37348934350911,
            101.17889439841429,
            127.29844484711793,
            138.75457210763784
           ],
           "marker": {
            "color": "#636efa",
            "size": [
             188,
             92,
             4,
             19,
             7,
             17,
             1,
             511,
             29,
             58,
             71,
             32,
             98,
             0
            ],
            "sizemode": "area",
            "sizeref": 1.8,
            "symbol": "circle"
           },
           "mode": "markers",
           "name": "",
           "showlegend": false,
           "type": "scattergeo"
          }
         ],
         "name": "2021-06-01 00:00:00"
        },
        {
         "data": [
          {
           "geo": "geo",
           "hovertemplate": "<b>%{hovertext}</b><br><br>Periods=2021-07-01 00:00:00<br>value=%{marker.size}<br>lat=%{lat}<br>lon=%{lon}<extra></extra>",
           "hovertext": [
            "EU Countries",
            "Other Europe",
            "North Africa",
            "West Africa",
            "Central Africa",
            "East Africa",
            "South Africa",
            "North America",
            "Central America",
            "South America",
            "West Asia",
            "South East Asia",
            "North East Asia",
            "Oceania"
           ],
           "lat": [
            51.06817476731436,
            51.104656094663596,
            30.437364261879395,
            7.959928997986893,
            6.382857433441359,
            4.621142864680792,
            -21.36137412154011,
            39.10831477183257,
            14.055530777684297,
            -16.37707312732043,
            34.361920786534085,
            17.706181315873863,
            36.550432558533785,
            -23.58328814497935
           ],
           "legendgroup": "",
           "lon": [
            7.483156574929211,
            30.497434511924325,
            14.533600264930044,
            -5.73665308026392,
            25.274620301872687,
            45.742644027389815,
            22.937458352453206,
            -99.4877492264568,
            -86.12919315960363,
            -57.79900810912669,
            46.37348934350911,
            101.17889439841429,
            127.29844484711793,
            138.75457210763784
           ],
           "marker": {
            "color": "#636efa",
            "size": [
             180,
             90,
             2,
             7,
             6,
             15,
             1,
             423,
             30,
             47,
             43,
             39,
             94,
             0
            ],
            "sizemode": "area",
            "sizeref": 1.8,
            "symbol": "circle"
           },
           "mode": "markers",
           "name": "",
           "showlegend": false,
           "type": "scattergeo"
          }
         ],
         "name": "2021-07-01 00:00:00"
        },
        {
         "data": [
          {
           "geo": "geo",
           "hovertemplate": "<b>%{hovertext}</b><br><br>Periods=2021-08-01 00:00:00<br>value=%{marker.size}<br>lat=%{lat}<br>lon=%{lon}<extra></extra>",
           "hovertext": [
            "EU Countries",
            "Other Europe",
            "North Africa",
            "West Africa",
            "Central Africa",
            "East Africa",
            "South Africa",
            "North America",
            "Central America",
            "South America",
            "West Asia",
            "South East Asia",
            "North East Asia",
            "Oceania"
           ],
           "lat": [
            51.06817476731436,
            51.104656094663596,
            30.437364261879395,
            7.959928997986893,
            6.382857433441359,
            4.621142864680792,
            -21.36137412154011,
            39.10831477183257,
            14.055530777684297,
            -16.37707312732043,
            34.361920786534085,
            17.706181315873863,
            36.550432558533785,
            -23.58328814497935
           ],
           "legendgroup": "",
           "lon": [
            7.483156574929211,
            30.497434511924325,
            14.533600264930044,
            -5.73665308026392,
            25.274620301872687,
            45.742644027389815,
            22.937458352453206,
            -99.4877492264568,
            -86.12919315960363,
            -57.79900810912669,
            46.37348934350911,
            101.17889439841429,
            127.29844484711793,
            138.75457210763784
           ],
           "marker": {
            "color": "#636efa",
            "size": [
             165,
             89,
             2,
             8,
             6,
             26,
             1,
             458,
             31,
             52,
             65,
             35,
             110,
             0
            ],
            "sizemode": "area",
            "sizeref": 1.8,
            "symbol": "circle"
           },
           "mode": "markers",
           "name": "",
           "showlegend": false,
           "type": "scattergeo"
          }
         ],
         "name": "2021-08-01 00:00:00"
        },
        {
         "data": [
          {
           "geo": "geo",
           "hovertemplate": "<b>%{hovertext}</b><br><br>Periods=2021-09-01 00:00:00<br>value=%{marker.size}<br>lat=%{lat}<br>lon=%{lon}<extra></extra>",
           "hovertext": [
            "EU Countries",
            "Other Europe",
            "North Africa",
            "West Africa",
            "Central Africa",
            "East Africa",
            "South Africa",
            "North America",
            "Central America",
            "South America",
            "West Asia",
            "South East Asia",
            "North East Asia",
            "Oceania"
           ],
           "lat": [
            51.06817476731436,
            51.104656094663596,
            30.437364261879395,
            7.959928997986893,
            6.382857433441359,
            4.621142864680792,
            -21.36137412154011,
            39.10831477183257,
            14.055530777684297,
            -16.37707312732043,
            34.361920786534085,
            17.706181315873863,
            36.550432558533785,
            -23.58328814497935
           ],
           "legendgroup": "",
           "lon": [
            7.483156574929211,
            30.497434511924325,
            14.533600264930044,
            -5.73665308026392,
            25.274620301872687,
            45.742644027389815,
            22.937458352453206,
            -99.4877492264568,
            -86.12919315960363,
            -57.79900810912669,
            46.37348934350911,
            101.17889439841429,
            127.29844484711793,
            138.75457210763784
           ],
           "marker": {
            "color": "#636efa",
            "size": [
             147,
             93,
             2,
             7,
             6,
             17,
             1,
             445,
             31,
             51,
             105,
             37,
             59,
             0
            ],
            "sizemode": "area",
            "sizeref": 1.8,
            "symbol": "circle"
           },
           "mode": "markers",
           "name": "",
           "showlegend": false,
           "type": "scattergeo"
          }
         ],
         "name": "2021-09-01 00:00:00"
        },
        {
         "data": [
          {
           "geo": "geo",
           "hovertemplate": "<b>%{hovertext}</b><br><br>Periods=2021-10-01 00:00:00<br>value=%{marker.size}<br>lat=%{lat}<br>lon=%{lon}<extra></extra>",
           "hovertext": [
            "EU Countries",
            "Other Europe",
            "North Africa",
            "West Africa",
            "Central Africa",
            "East Africa",
            "South Africa",
            "North America",
            "Central America",
            "South America",
            "West Asia",
            "South East Asia",
            "North East Asia",
            "Oceania"
           ],
           "lat": [
            51.06817476731436,
            51.104656094663596,
            30.437364261879395,
            7.959928997986893,
            6.382857433441359,
            4.621142864680792,
            -21.36137412154011,
            39.10831477183257,
            14.055530777684297,
            -16.37707312732043,
            34.361920786534085,
            17.706181315873863,
            36.550432558533785,
            -23.58328814497935
           ],
           "legendgroup": "",
           "lon": [
            7.483156574929211,
            30.497434511924325,
            14.533600264930044,
            -5.73665308026392,
            25.274620301872687,
            45.742644027389815,
            22.937458352453206,
            -99.4877492264568,
            -86.12919315960363,
            -57.79900810912669,
            46.37348934350911,
            101.17889439841429,
            127.29844484711793,
            138.75457210763784
           ],
           "marker": {
            "color": "#636efa",
            "size": [
             167,
             93,
             2,
             9,
             6,
             25,
             1,
             471,
             27,
             57,
             65,
             40,
             78,
             0
            ],
            "sizemode": "area",
            "sizeref": 1.8,
            "symbol": "circle"
           },
           "mode": "markers",
           "name": "",
           "showlegend": false,
           "type": "scattergeo"
          }
         ],
         "name": "2021-10-01 00:00:00"
        },
        {
         "data": [
          {
           "geo": "geo",
           "hovertemplate": "<b>%{hovertext}</b><br><br>Periods=2021-11-01 00:00:00<br>value=%{marker.size}<br>lat=%{lat}<br>lon=%{lon}<extra></extra>",
           "hovertext": [
            "EU Countries",
            "Other Europe",
            "North Africa",
            "West Africa",
            "Central Africa",
            "East Africa",
            "South Africa",
            "North America",
            "Central America",
            "South America",
            "West Asia",
            "South East Asia",
            "North East Asia",
            "Oceania"
           ],
           "lat": [
            51.06817476731436,
            51.104656094663596,
            30.437364261879395,
            7.959928997986893,
            6.382857433441359,
            4.621142864680792,
            -21.36137412154011,
            39.10831477183257,
            14.055530777684297,
            -16.37707312732043,
            34.361920786534085,
            17.706181315873863,
            36.550432558533785,
            -23.58328814497935
           ],
           "legendgroup": "",
           "lon": [
            7.483156574929211,
            30.497434511924325,
            14.533600264930044,
            -5.73665308026392,
            25.274620301872687,
            45.742644027389815,
            22.937458352453206,
            -99.4877492264568,
            -86.12919315960363,
            -57.79900810912669,
            46.37348934350911,
            101.17889439841429,
            127.29844484711793,
            138.75457210763784
           ],
           "marker": {
            "color": "#636efa",
            "size": [
             165,
             109,
             1,
             14,
             3,
             29,
             5,
             368,
             19,
             47,
             59,
             23,
             99,
             0
            ],
            "sizemode": "area",
            "sizeref": 1.8,
            "symbol": "circle"
           },
           "mode": "markers",
           "name": "",
           "showlegend": false,
           "type": "scattergeo"
          }
         ],
         "name": "2021-11-01 00:00:00"
        },
        {
         "data": [
          {
           "geo": "geo",
           "hovertemplate": "<b>%{hovertext}</b><br><br>Periods=2021-12-01 00:00:00<br>value=%{marker.size}<br>lat=%{lat}<br>lon=%{lon}<extra></extra>",
           "hovertext": [
            "EU Countries",
            "Other Europe",
            "North Africa",
            "West Africa",
            "Central Africa",
            "East Africa",
            "South Africa",
            "North America",
            "Central America",
            "South America",
            "West Asia",
            "South East Asia",
            "North East Asia",
            "Oceania"
           ],
           "lat": [
            51.06817476731436,
            51.104656094663596,
            30.437364261879395,
            7.959928997986893,
            6.382857433441359,
            4.621142864680792,
            -21.36137412154011,
            39.10831477183257,
            14.055530777684297,
            -16.37707312732043,
            34.361920786534085,
            17.706181315873863,
            36.550432558533785,
            -23.58328814497935
           ],
           "legendgroup": "",
           "lon": [
            7.483156574929211,
            30.497434511924325,
            14.533600264930044,
            -5.73665308026392,
            25.274620301872687,
            45.742644027389815,
            22.937458352453206,
            -99.4877492264568,
            -86.12919315960363,
            -57.79900810912669,
            46.37348934350911,
            101.17889439841429,
            127.29844484711793,
            138.75457210763784
           ],
           "marker": {
            "color": "#636efa",
            "size": [
             192,
             128,
             2,
             26,
             1,
             11,
             5,
             385,
             26,
             55,
             65,
             28,
             113,
             0
            ],
            "sizemode": "area",
            "sizeref": 1.8,
            "symbol": "circle"
           },
           "mode": "markers",
           "name": "",
           "showlegend": false,
           "type": "scattergeo"
          }
         ],
         "name": "2021-12-01 00:00:00"
        },
        {
         "data": [
          {
           "geo": "geo",
           "hovertemplate": "<b>%{hovertext}</b><br><br>Periods=2022-01-01 00:00:00<br>value=%{marker.size}<br>lat=%{lat}<br>lon=%{lon}<extra></extra>",
           "hovertext": [
            "EU Countries",
            "Other Europe",
            "North Africa",
            "West Africa",
            "Central Africa",
            "East Africa",
            "South Africa",
            "North America",
            "Central America",
            "South America",
            "West Asia",
            "South East Asia",
            "North East Asia",
            "Oceania"
           ],
           "lat": [
            51.06817476731436,
            51.104656094663596,
            30.437364261879395,
            7.959928997986893,
            6.382857433441359,
            4.621142864680792,
            -21.36137412154011,
            39.10831477183257,
            14.055530777684297,
            -16.37707312732043,
            34.361920786534085,
            17.706181315873863,
            36.550432558533785,
            -23.58328814497935
           ],
           "legendgroup": "",
           "lon": [
            7.483156574929211,
            30.497434511924325,
            14.533600264930044,
            -5.73665308026392,
            25.274620301872687,
            45.742644027389815,
            22.937458352453206,
            -99.4877492264568,
            -86.12919315960363,
            -57.79900810912669,
            46.37348934350911,
            101.17889439841429,
            127.29844484711793,
            138.75457210763784
           ],
           "marker": {
            "color": "#636efa",
            "size": [
             172,
             112,
             1,
             9,
             1,
             8,
             7,
             301,
             17,
             54,
             44,
             21,
             79,
             0
            ],
            "sizemode": "area",
            "sizeref": 1.8,
            "symbol": "circle"
           },
           "mode": "markers",
           "name": "",
           "showlegend": false,
           "type": "scattergeo"
          }
         ],
         "name": "2022-01-01 00:00:00"
        },
        {
         "data": [
          {
           "geo": "geo",
           "hovertemplate": "<b>%{hovertext}</b><br><br>Periods=2022-02-01 00:00:00<br>value=%{marker.size}<br>lat=%{lat}<br>lon=%{lon}<extra></extra>",
           "hovertext": [
            "EU Countries",
            "Other Europe",
            "North Africa",
            "West Africa",
            "Central Africa",
            "East Africa",
            "South Africa",
            "North America",
            "Central America",
            "South America",
            "West Asia",
            "South East Asia",
            "North East Asia",
            "Oceania"
           ],
           "lat": [
            51.06817476731436,
            51.104656094663596,
            30.437364261879395,
            7.959928997986893,
            6.382857433441359,
            4.621142864680792,
            -21.36137412154011,
            39.10831477183257,
            14.055530777684297,
            -16.37707312732043,
            34.361920786534085,
            17.706181315873863,
            36.550432558533785,
            -23.58328814497935
           ],
           "legendgroup": "",
           "lon": [
            7.483156574929211,
            30.497434511924325,
            14.533600264930044,
            -5.73665308026392,
            25.274620301872687,
            45.742644027389815,
            22.937458352453206,
            -99.4877492264568,
            -86.12919315960363,
            -57.79900810912669,
            46.37348934350911,
            101.17889439841429,
            127.29844484711793,
            138.75457210763784
           ],
           "marker": {
            "color": "#636efa",
            "size": [
             169,
             102,
             2,
             20,
             2,
             8,
             5,
             302,
             15,
             45,
             61,
             21,
             72,
             0
            ],
            "sizemode": "area",
            "sizeref": 1.8,
            "symbol": "circle"
           },
           "mode": "markers",
           "name": "",
           "showlegend": false,
           "type": "scattergeo"
          }
         ],
         "name": "2022-02-01 00:00:00"
        },
        {
         "data": [
          {
           "geo": "geo",
           "hovertemplate": "<b>%{hovertext}</b><br><br>Periods=2022-03-01 00:00:00<br>value=%{marker.size}<br>lat=%{lat}<br>lon=%{lon}<extra></extra>",
           "hovertext": [
            "EU Countries",
            "Other Europe",
            "North Africa",
            "West Africa",
            "Central Africa",
            "East Africa",
            "South Africa",
            "North America",
            "Central America",
            "South America",
            "West Asia",
            "South East Asia",
            "North East Asia",
            "Oceania"
           ],
           "lat": [
            51.06817476731436,
            51.104656094663596,
            30.437364261879395,
            7.959928997986893,
            6.382857433441359,
            4.621142864680792,
            -21.36137412154011,
            39.10831477183257,
            14.055530777684297,
            -16.37707312732043,
            34.361920786534085,
            17.706181315873863,
            36.550432558533785,
            -23.58328814497935
           ],
           "legendgroup": "",
           "lon": [
            7.483156574929211,
            30.497434511924325,
            14.533600264930044,
            -5.73665308026392,
            25.274620301872687,
            45.742644027389815,
            22.937458352453206,
            -99.4877492264568,
            -86.12919315960363,
            -57.79900810912669,
            46.37348934350911,
            101.17889439841429,
            127.29844484711793,
            138.75457210763784
           ],
           "marker": {
            "color": "#636efa",
            "size": [
             148,
             74,
             3,
             20,
             2,
             9,
             4,
             389,
             17,
             46,
             58,
             23,
             26,
             0
            ],
            "sizemode": "area",
            "sizeref": 1.8,
            "symbol": "circle"
           },
           "mode": "markers",
           "name": "",
           "showlegend": false,
           "type": "scattergeo"
          }
         ],
         "name": "2022-03-01 00:00:00"
        },
        {
         "data": [
          {
           "geo": "geo",
           "hovertemplate": "<b>%{hovertext}</b><br><br>Periods=2022-04-01 00:00:00<br>value=%{marker.size}<br>lat=%{lat}<br>lon=%{lon}<extra></extra>",
           "hovertext": [
            "EU Countries",
            "Other Europe",
            "North Africa",
            "West Africa",
            "Central Africa",
            "East Africa",
            "South Africa",
            "North America",
            "Central America",
            "South America",
            "West Asia",
            "South East Asia",
            "North East Asia",
            "Oceania"
           ],
           "lat": [
            51.06817476731436,
            51.104656094663596,
            30.437364261879395,
            7.959928997986893,
            6.382857433441359,
            4.621142864680792,
            -21.36137412154011,
            39.10831477183257,
            14.055530777684297,
            -16.37707312732043,
            34.361920786534085,
            17.706181315873863,
            36.550432558533785,
            -23.58328814497935
           ],
           "legendgroup": "",
           "lon": [
            7.483156574929211,
            30.497434511924325,
            14.533600264930044,
            -5.73665308026392,
            25.274620301872687,
            45.742644027389815,
            22.937458352453206,
            -99.4877492264568,
            -86.12919315960363,
            -57.79900810912669,
            46.37348934350911,
            101.17889439841429,
            127.29844484711793,
            138.75457210763784
           ],
           "marker": {
            "color": "#636efa",
            "size": [
             131,
             81,
             2,
             18,
             2,
             9,
             4,
             300,
             18,
             32,
             46,
             23,
             23,
             0
            ],
            "sizemode": "area",
            "sizeref": 1.8,
            "symbol": "circle"
           },
           "mode": "markers",
           "name": "",
           "showlegend": false,
           "type": "scattergeo"
          }
         ],
         "name": "2022-04-01 00:00:00"
        },
        {
         "data": [
          {
           "geo": "geo",
           "hovertemplate": "<b>%{hovertext}</b><br><br>Periods=2022-05-01 00:00:00<br>value=%{marker.size}<br>lat=%{lat}<br>lon=%{lon}<extra></extra>",
           "hovertext": [
            "EU Countries",
            "Other Europe",
            "North Africa",
            "West Africa",
            "Central Africa",
            "East Africa",
            "South Africa",
            "North America",
            "Central America",
            "South America",
            "West Asia",
            "South East Asia",
            "North East Asia",
            "Oceania"
           ],
           "lat": [
            51.06817476731436,
            51.104656094663596,
            30.437364261879395,
            7.959928997986893,
            6.382857433441359,
            4.621142864680792,
            -21.36137412154011,
            39.10831477183257,
            14.055530777684297,
            -16.37707312732043,
            34.361920786534085,
            17.706181315873863,
            36.550432558533785,
            -23.58328814497935
           ],
           "legendgroup": "",
           "lon": [
            7.483156574929211,
            30.497434511924325,
            14.533600264930044,
            -5.73665308026392,
            25.274620301872687,
            45.742644027389815,
            22.937458352453206,
            -99.4877492264568,
            -86.12919315960363,
            -57.79900810912669,
            46.37348934350911,
            101.17889439841429,
            127.29844484711793,
            138.75457210763784
           ],
           "marker": {
            "color": "#636efa",
            "size": [
             130,
             91,
             2,
             21,
             2,
             10,
             2,
             305,
             16,
             29,
             31,
             20,
             28,
             0
            ],
            "sizemode": "area",
            "sizeref": 1.8,
            "symbol": "circle"
           },
           "mode": "markers",
           "name": "",
           "showlegend": false,
           "type": "scattergeo"
          }
         ],
         "name": "2022-05-01 00:00:00"
        },
        {
         "data": [
          {
           "geo": "geo",
           "hovertemplate": "<b>%{hovertext}</b><br><br>Periods=2022-06-01 00:00:00<br>value=%{marker.size}<br>lat=%{lat}<br>lon=%{lon}<extra></extra>",
           "hovertext": [
            "EU Countries",
            "Other Europe",
            "North Africa",
            "West Africa",
            "Central Africa",
            "East Africa",
            "South Africa",
            "North America",
            "Central America",
            "South America",
            "West Asia",
            "South East Asia",
            "North East Asia",
            "Oceania"
           ],
           "lat": [
            51.06817476731436,
            51.104656094663596,
            30.437364261879395,
            7.959928997986893,
            6.382857433441359,
            4.621142864680792,
            -21.36137412154011,
            39.10831477183257,
            14.055530777684297,
            -16.37707312732043,
            34.361920786534085,
            17.706181315873863,
            36.550432558533785,
            -23.58328814497935
           ],
           "legendgroup": "",
           "lon": [
            7.483156574929211,
            30.497434511924325,
            14.533600264930044,
            -5.73665308026392,
            25.274620301872687,
            45.742644027389815,
            22.937458352453206,
            -99.4877492264568,
            -86.12919315960363,
            -57.79900810912669,
            46.37348934350911,
            101.17889439841429,
            127.29844484711793,
            138.75457210763784
           ],
           "marker": {
            "color": "#636efa",
            "size": [
             117,
             83,
             4,
             28,
             3,
             17,
             3,
             291,
             15,
             29,
             35,
             18,
             24,
             0
            ],
            "sizemode": "area",
            "sizeref": 1.8,
            "symbol": "circle"
           },
           "mode": "markers",
           "name": "",
           "showlegend": false,
           "type": "scattergeo"
          }
         ],
         "name": "2022-06-01 00:00:00"
        },
        {
         "data": [
          {
           "geo": "geo",
           "hovertemplate": "<b>%{hovertext}</b><br><br>Periods=2022-07-01 00:00:00<br>value=%{marker.size}<br>lat=%{lat}<br>lon=%{lon}<extra></extra>",
           "hovertext": [
            "EU Countries",
            "Other Europe",
            "North Africa",
            "West Africa",
            "Central Africa",
            "East Africa",
            "South Africa",
            "North America",
            "Central America",
            "South America",
            "West Asia",
            "South East Asia",
            "North East Asia",
            "Oceania"
           ],
           "lat": [
            51.06817476731436,
            51.104656094663596,
            30.437364261879395,
            7.959928997986893,
            6.382857433441359,
            4.621142864680792,
            -21.36137412154011,
            39.10831477183257,
            14.055530777684297,
            -16.37707312732043,
            34.361920786534085,
            17.706181315873863,
            36.550432558533785,
            -23.58328814497935
           ],
           "legendgroup": "",
           "lon": [
            7.483156574929211,
            30.497434511924325,
            14.533600264930044,
            -5.73665308026392,
            25.274620301872687,
            45.742644027389815,
            22.937458352453206,
            -99.4877492264568,
            -86.12919315960363,
            -57.79900810912669,
            46.37348934350911,
            101.17889439841429,
            127.29844484711793,
            138.75457210763784
           ],
           "marker": {
            "color": "#636efa",
            "size": [
             117,
             81,
             2,
             10,
             3,
             11,
             2,
             267,
             10,
             23,
             22,
             21,
             15,
             0
            ],
            "sizemode": "area",
            "sizeref": 1.8,
            "symbol": "circle"
           },
           "mode": "markers",
           "name": "",
           "showlegend": false,
           "type": "scattergeo"
          }
         ],
         "name": "2022-07-01 00:00:00"
        },
        {
         "data": [
          {
           "geo": "geo",
           "hovertemplate": "<b>%{hovertext}</b><br><br>Periods=2022-08-01 00:00:00<br>value=%{marker.size}<br>lat=%{lat}<br>lon=%{lon}<extra></extra>",
           "hovertext": [
            "EU Countries",
            "Other Europe",
            "North Africa",
            "West Africa",
            "Central Africa",
            "East Africa",
            "South Africa",
            "North America",
            "Central America",
            "South America",
            "West Asia",
            "South East Asia",
            "North East Asia",
            "Oceania"
           ],
           "lat": [
            51.06817476731436,
            51.104656094663596,
            30.437364261879395,
            7.959928997986893,
            6.382857433441359,
            4.621142864680792,
            -21.36137412154011,
            39.10831477183257,
            14.055530777684297,
            -16.37707312732043,
            34.361920786534085,
            17.706181315873863,
            36.550432558533785,
            -23.58328814497935
           ],
           "legendgroup": "",
           "lon": [
            7.483156574929211,
            30.497434511924325,
            14.533600264930044,
            -5.73665308026392,
            25.274620301872687,
            45.742644027389815,
            22.937458352453206,
            -99.4877492264568,
            -86.12919315960363,
            -57.79900810912669,
            46.37348934350911,
            101.17889439841429,
            127.29844484711793,
            138.75457210763784
           ],
           "marker": {
            "color": "#636efa",
            "size": [
             123,
             65,
             4,
             3,
             4,
             11,
             1,
             261,
             8,
             23,
             16,
             18,
             14,
             0
            ],
            "sizemode": "area",
            "sizeref": 1.8,
            "symbol": "circle"
           },
           "mode": "markers",
           "name": "",
           "showlegend": false,
           "type": "scattergeo"
          }
         ],
         "name": "2022-08-01 00:00:00"
        },
        {
         "data": [
          {
           "geo": "geo",
           "hovertemplate": "<b>%{hovertext}</b><br><br>Periods=2022-09-01 00:00:00<br>value=%{marker.size}<br>lat=%{lat}<br>lon=%{lon}<extra></extra>",
           "hovertext": [
            "EU Countries",
            "Other Europe",
            "North Africa",
            "West Africa",
            "Central Africa",
            "East Africa",
            "South Africa",
            "North America",
            "Central America",
            "South America",
            "West Asia",
            "South East Asia",
            "North East Asia",
            "Oceania"
           ],
           "lat": [
            51.06817476731436,
            51.104656094663596,
            30.437364261879395,
            7.959928997986893,
            6.382857433441359,
            4.621142864680792,
            -21.36137412154011,
            39.10831477183257,
            14.055530777684297,
            -16.37707312732043,
            34.361920786534085,
            17.706181315873863,
            36.550432558533785,
            -23.58328814497935
           ],
           "legendgroup": "",
           "lon": [
            7.483156574929211,
            30.497434511924325,
            14.533600264930044,
            -5.73665308026392,
            25.274620301872687,
            45.742644027389815,
            22.937458352453206,
            -99.4877492264568,
            -86.12919315960363,
            -57.79900810912669,
            46.37348934350911,
            101.17889439841429,
            127.29844484711793,
            138.75457210763784
           ],
           "marker": {
            "color": "#636efa",
            "size": [
             141,
             85,
             3,
             9,
             3,
             9,
             1,
             210,
             7,
             24,
             15,
             19,
             14,
             0
            ],
            "sizemode": "area",
            "sizeref": 1.8,
            "symbol": "circle"
           },
           "mode": "markers",
           "name": "",
           "showlegend": false,
           "type": "scattergeo"
          }
         ],
         "name": "2022-09-01 00:00:00"
        },
        {
         "data": [
          {
           "geo": "geo",
           "hovertemplate": "<b>%{hovertext}</b><br><br>Periods=2022-10-01 00:00:00<br>value=%{marker.size}<br>lat=%{lat}<br>lon=%{lon}<extra></extra>",
           "hovertext": [
            "EU Countries",
            "Other Europe",
            "North Africa",
            "West Africa",
            "Central Africa",
            "East Africa",
            "South Africa",
            "North America",
            "Central America",
            "South America",
            "West Asia",
            "South East Asia",
            "North East Asia",
            "Oceania"
           ],
           "lat": [
            51.06817476731436,
            51.104656094663596,
            30.437364261879395,
            7.959928997986893,
            6.382857433441359,
            4.621142864680792,
            -21.36137412154011,
            39.10831477183257,
            14.055530777684297,
            -16.37707312732043,
            34.361920786534085,
            17.706181315873863,
            36.550432558533785,
            -23.58328814497935
           ],
           "legendgroup": "",
           "lon": [
            7.483156574929211,
            30.497434511924325,
            14.533600264930044,
            -5.73665308026392,
            25.274620301872687,
            45.742644027389815,
            22.937458352453206,
            -99.4877492264568,
            -86.12919315960363,
            -57.79900810912669,
            46.37348934350911,
            101.17889439841429,
            127.29844484711793,
            138.75457210763784
           ],
           "marker": {
            "color": "#636efa",
            "size": [
             140,
             88,
             3,
             7,
             3,
             11,
             0,
             132,
             7,
             24,
             17,
             16,
             15,
             0
            ],
            "sizemode": "area",
            "sizeref": 1.8,
            "symbol": "circle"
           },
           "mode": "markers",
           "name": "",
           "showlegend": false,
           "type": "scattergeo"
          }
         ],
         "name": "2022-10-01 00:00:00"
        },
        {
         "data": [
          {
           "geo": "geo",
           "hovertemplate": "<b>%{hovertext}</b><br><br>Periods=2022-11-01 00:00:00<br>value=%{marker.size}<br>lat=%{lat}<br>lon=%{lon}<extra></extra>",
           "hovertext": [
            "EU Countries",
            "Other Europe",
            "North Africa",
            "West Africa",
            "Central Africa",
            "East Africa",
            "South Africa",
            "North America",
            "Central America",
            "South America",
            "West Asia",
            "South East Asia",
            "North East Asia",
            "Oceania"
           ],
           "lat": [
            51.06817476731436,
            51.104656094663596,
            30.437364261879395,
            7.959928997986893,
            6.382857433441359,
            4.621142864680792,
            -21.36137412154011,
            39.10831477183257,
            14.055530777684297,
            -16.37707312732043,
            34.361920786534085,
            17.706181315873863,
            36.550432558533785,
            -23.58328814497935
           ],
           "legendgroup": "",
           "lon": [
            7.483156574929211,
            30.497434511924325,
            14.533600264930044,
            -5.73665308026392,
            25.274620301872687,
            45.742644027389815,
            22.937458352453206,
            -99.4877492264568,
            -86.12919315960363,
            -57.79900810912669,
            46.37348934350911,
            101.17889439841429,
            127.29844484711793,
            138.75457210763784
           ],
           "marker": {
            "color": "#636efa",
            "size": [
             137,
             112,
             2,
             12,
             3,
             11,
             0,
             97,
             8,
             25,
             17,
             13,
             22,
             0
            ],
            "sizemode": "area",
            "sizeref": 1.8,
            "symbol": "circle"
           },
           "mode": "markers",
           "name": "",
           "showlegend": false,
           "type": "scattergeo"
          }
         ],
         "name": "2022-11-01 00:00:00"
        },
        {
         "data": [
          {
           "geo": "geo",
           "hovertemplate": "<b>%{hovertext}</b><br><br>Periods=2022-12-01 00:00:00<br>value=%{marker.size}<br>lat=%{lat}<br>lon=%{lon}<extra></extra>",
           "hovertext": [
            "EU Countries",
            "Other Europe",
            "North Africa",
            "West Africa",
            "Central Africa",
            "East Africa",
            "South Africa",
            "North America",
            "Central America",
            "South America",
            "West Asia",
            "South East Asia",
            "North East Asia",
            "Oceania"
           ],
           "lat": [
            51.06817476731436,
            51.104656094663596,
            30.437364261879395,
            7.959928997986893,
            6.382857433441359,
            4.621142864680792,
            -21.36137412154011,
            39.10831477183257,
            14.055530777684297,
            -16.37707312732043,
            34.361920786534085,
            17.706181315873863,
            36.550432558533785,
            -23.58328814497935
           ],
           "legendgroup": "",
           "lon": [
            7.483156574929211,
            30.497434511924325,
            14.533600264930044,
            -5.73665308026392,
            25.274620301872687,
            45.742644027389815,
            22.937458352453206,
            -99.4877492264568,
            -86.12919315960363,
            -57.79900810912669,
            46.37348934350911,
            101.17889439841429,
            127.29844484711793,
            138.75457210763784
           ],
           "marker": {
            "color": "#636efa",
            "size": [
             169,
             113,
             2,
             9,
             3,
             9,
             0,
             206,
             11,
             23,
             19,
             8,
             36,
             0
            ],
            "sizemode": "area",
            "sizeref": 1.8,
            "symbol": "circle"
           },
           "mode": "markers",
           "name": "",
           "showlegend": false,
           "type": "scattergeo"
          }
         ],
         "name": "2022-12-01 00:00:00"
        },
        {
         "data": [
          {
           "geo": "geo",
           "hovertemplate": "<b>%{hovertext}</b><br><br>Periods=2023-01-01 00:00:00<br>value=%{marker.size}<br>lat=%{lat}<br>lon=%{lon}<extra></extra>",
           "hovertext": [
            "EU Countries",
            "Other Europe",
            "North Africa",
            "West Africa",
            "Central Africa",
            "East Africa",
            "South Africa",
            "North America",
            "Central America",
            "South America",
            "West Asia",
            "South East Asia",
            "North East Asia",
            "Oceania"
           ],
           "lat": [
            51.06817476731436,
            51.104656094663596,
            30.437364261879395,
            7.959928997986893,
            6.382857433441359,
            4.621142864680792,
            -21.36137412154011,
            39.10831477183257,
            14.055530777684297,
            -16.37707312732043,
            34.361920786534085,
            17.706181315873863,
            36.550432558533785,
            -23.58328814497935
           ],
           "legendgroup": "",
           "lon": [
            7.483156574929211,
            30.497434511924325,
            14.533600264930044,
            -5.73665308026392,
            25.274620301872687,
            45.742644027389815,
            22.937458352453206,
            -99.4877492264568,
            -86.12919315960363,
            -57.79900810912669,
            46.37348934350911,
            101.17889439841429,
            127.29844484711793,
            138.75457210763784
           ],
           "marker": {
            "color": "#636efa",
            "size": [
             151,
             95,
             2,
             8,
             2,
             10,
             0,
             128,
             9,
             28,
             17,
             6,
             21,
             0
            ],
            "sizemode": "area",
            "sizeref": 1.8,
            "symbol": "circle"
           },
           "mode": "markers",
           "name": "",
           "showlegend": false,
           "type": "scattergeo"
          }
         ],
         "name": "2023-01-01 00:00:00"
        },
        {
         "data": [
          {
           "geo": "geo",
           "hovertemplate": "<b>%{hovertext}</b><br><br>Periods=2023-02-01 00:00:00<br>value=%{marker.size}<br>lat=%{lat}<br>lon=%{lon}<extra></extra>",
           "hovertext": [
            "EU Countries",
            "Other Europe",
            "North Africa",
            "West Africa",
            "Central Africa",
            "East Africa",
            "South Africa",
            "North America",
            "Central America",
            "South America",
            "West Asia",
            "South East Asia",
            "North East Asia",
            "Oceania"
           ],
           "lat": [
            51.06817476731436,
            51.104656094663596,
            30.437364261879395,
            7.959928997986893,
            6.382857433441359,
            4.621142864680792,
            -21.36137412154011,
            39.10831477183257,
            14.055530777684297,
            -16.37707312732043,
            34.361920786534085,
            17.706181315873863,
            36.550432558533785,
            -23.58328814497935
           ],
           "legendgroup": "",
           "lon": [
            7.483156574929211,
            30.497434511924325,
            14.533600264930044,
            -5.73665308026392,
            25.274620301872687,
            45.742644027389815,
            22.937458352453206,
            -99.4877492264568,
            -86.12919315960363,
            -57.79900810912669,
            46.37348934350911,
            101.17889439841429,
            127.29844484711793,
            138.75457210763784
           ],
           "marker": {
            "color": "#636efa",
            "size": [
             135,
             90,
             2,
             10,
             3,
             8,
             1,
             118,
             7,
             19,
             18,
             10,
             20,
             0
            ],
            "sizemode": "area",
            "sizeref": 1.8,
            "symbol": "circle"
           },
           "mode": "markers",
           "name": "",
           "showlegend": false,
           "type": "scattergeo"
          }
         ],
         "name": "2023-02-01 00:00:00"
        },
        {
         "data": [
          {
           "geo": "geo",
           "hovertemplate": "<b>%{hovertext}</b><br><br>Periods=2023-03-01 00:00:00<br>value=%{marker.size}<br>lat=%{lat}<br>lon=%{lon}<extra></extra>",
           "hovertext": [
            "EU Countries",
            "Other Europe",
            "North Africa",
            "West Africa",
            "Central Africa",
            "East Africa",
            "South Africa",
            "North America",
            "Central America",
            "South America",
            "West Asia",
            "South East Asia",
            "North East Asia",
            "Oceania"
           ],
           "lat": [
            51.06817476731436,
            51.104656094663596,
            30.437364261879395,
            7.959928997986893,
            6.382857433441359,
            4.621142864680792,
            -21.36137412154011,
            39.10831477183257,
            14.055530777684297,
            -16.37707312732043,
            34.361920786534085,
            17.706181315873863,
            36.550432558533785,
            -23.58328814497935
           ],
           "legendgroup": "",
           "lon": [
            7.483156574929211,
            30.497434511924325,
            14.533600264930044,
            -5.73665308026392,
            25.274620301872687,
            45.742644027389815,
            22.937458352453206,
            -99.4877492264568,
            -86.12919315960363,
            -57.79900810912669,
            46.37348934350911,
            101.17889439841429,
            127.29844484711793,
            138.75457210763784
           ],
           "marker": {
            "color": "#636efa",
            "size": [
             130,
             101,
             3,
             11,
             2,
             8,
             0,
             117,
             8,
             20,
             19,
             19,
             18,
             0
            ],
            "sizemode": "area",
            "sizeref": 1.8,
            "symbol": "circle"
           },
           "mode": "markers",
           "name": "",
           "showlegend": false,
           "type": "scattergeo"
          }
         ],
         "name": "2023-03-01 00:00:00"
        },
        {
         "data": [
          {
           "geo": "geo",
           "hovertemplate": "<b>%{hovertext}</b><br><br>Periods=2023-04-01 00:00:00<br>value=%{marker.size}<br>lat=%{lat}<br>lon=%{lon}<extra></extra>",
           "hovertext": [
            "EU Countries",
            "Other Europe",
            "North Africa",
            "West Africa",
            "Central Africa",
            "East Africa",
            "South Africa",
            "North America",
            "Central America",
            "South America",
            "West Asia",
            "South East Asia",
            "North East Asia",
            "Oceania"
           ],
           "lat": [
            51.06817476731436,
            51.104656094663596,
            30.437364261879395,
            7.959928997986893,
            6.382857433441359,
            4.621142864680792,
            -21.36137412154011,
            39.10831477183257,
            14.055530777684297,
            -16.37707312732043,
            34.361920786534085,
            17.706181315873863,
            36.550432558533785,
            -23.58328814497935
           ],
           "legendgroup": "",
           "lon": [
            7.483156574929211,
            30.497434511924325,
            14.533600264930044,
            -5.73665308026392,
            25.274620301872687,
            45.742644027389815,
            22.937458352453206,
            -99.4877492264568,
            -86.12919315960363,
            -57.79900810912669,
            46.37348934350911,
            101.17889439841429,
            127.29844484711793,
            138.75457210763784
           ],
           "marker": {
            "color": "#636efa",
            "size": [
             100,
             105,
             2,
             8,
             3,
             2,
             0,
             131,
             7,
             12,
             15,
             18,
             28,
             0
            ],
            "sizemode": "area",
            "sizeref": 1.8,
            "symbol": "circle"
           },
           "mode": "markers",
           "name": "",
           "showlegend": false,
           "type": "scattergeo"
          }
         ],
         "name": "2023-04-01 00:00:00"
        },
        {
         "data": [
          {
           "geo": "geo",
           "hovertemplate": "<b>%{hovertext}</b><br><br>Periods=2023-05-01 00:00:00<br>value=%{marker.size}<br>lat=%{lat}<br>lon=%{lon}<extra></extra>",
           "hovertext": [
            "EU Countries",
            "Other Europe",
            "North Africa",
            "West Africa",
            "Central Africa",
            "East Africa",
            "South Africa",
            "North America",
            "Central America",
            "South America",
            "West Asia",
            "South East Asia",
            "North East Asia",
            "Oceania"
           ],
           "lat": [
            51.06817476731436,
            51.104656094663596,
            30.437364261879395,
            7.959928997986893,
            6.382857433441359,
            4.621142864680792,
            -21.36137412154011,
            39.10831477183257,
            14.055530777684297,
            -16.37707312732043,
            34.361920786534085,
            17.706181315873863,
            36.550432558533785,
            -23.58328814497935
           ],
           "legendgroup": "",
           "lon": [
            7.483156574929211,
            30.497434511924325,
            14.533600264930044,
            -5.73665308026392,
            25.274620301872687,
            45.742644027389815,
            22.937458352453206,
            -99.4877492264568,
            -86.12919315960363,
            -57.79900810912669,
            46.37348934350911,
            101.17889439841429,
            127.29844484711793,
            138.75457210763784
           ],
           "marker": {
            "color": "#636efa",
            "size": [
             111,
             119,
             2,
             9,
             3,
             5,
             0,
             137,
             8,
             13,
             19,
             20,
             27,
             0
            ],
            "sizemode": "area",
            "sizeref": 1.8,
            "symbol": "circle"
           },
           "mode": "markers",
           "name": "",
           "showlegend": false,
           "type": "scattergeo"
          }
         ],
         "name": "2023-05-01 00:00:00"
        },
        {
         "data": [
          {
           "geo": "geo",
           "hovertemplate": "<b>%{hovertext}</b><br><br>Periods=2023-06-01 00:00:00<br>value=%{marker.size}<br>lat=%{lat}<br>lon=%{lon}<extra></extra>",
           "hovertext": [
            "EU Countries",
            "Other Europe",
            "North Africa",
            "West Africa",
            "Central Africa",
            "East Africa",
            "South Africa",
            "North America",
            "Central America",
            "South America",
            "West Asia",
            "South East Asia",
            "North East Asia",
            "Oceania"
           ],
           "lat": [
            51.06817476731436,
            51.104656094663596,
            30.437364261879395,
            7.959928997986893,
            6.382857433441359,
            4.621142864680792,
            -21.36137412154011,
            39.10831477183257,
            14.055530777684297,
            -16.37707312732043,
            34.361920786534085,
            17.706181315873863,
            36.550432558533785,
            -23.58328814497935
           ],
           "legendgroup": "",
           "lon": [
            7.483156574929211,
            30.497434511924325,
            14.533600264930044,
            -5.73665308026392,
            25.274620301872687,
            45.742644027389815,
            22.937458352453206,
            -99.4877492264568,
            -86.12919315960363,
            -57.79900810912669,
            46.37348934350911,
            101.17889439841429,
            127.29844484711793,
            138.75457210763784
           ],
           "marker": {
            "color": "#636efa",
            "size": [
             105,
             102,
             2,
             11,
             3,
             4,
             0,
             139,
             9,
             12,
             16,
             19,
             26,
             0
            ],
            "sizemode": "area",
            "sizeref": 1.8,
            "symbol": "circle"
           },
           "mode": "markers",
           "name": "",
           "showlegend": false,
           "type": "scattergeo"
          }
         ],
         "name": "2023-06-01 00:00:00"
        },
        {
         "data": [
          {
           "geo": "geo",
           "hovertemplate": "<b>%{hovertext}</b><br><br>Periods=2023-07-01 00:00:00<br>value=%{marker.size}<br>lat=%{lat}<br>lon=%{lon}<extra></extra>",
           "hovertext": [
            "EU Countries",
            "Other Europe",
            "North Africa",
            "West Africa",
            "Central Africa",
            "East Africa",
            "South Africa",
            "North America",
            "Central America",
            "South America",
            "West Asia",
            "South East Asia",
            "North East Asia",
            "Oceania"
           ],
           "lat": [
            51.06817476731436,
            51.104656094663596,
            30.437364261879395,
            7.959928997986893,
            6.382857433441359,
            4.621142864680792,
            -21.36137412154011,
            39.10831477183257,
            14.055530777684297,
            -16.37707312732043,
            34.361920786534085,
            17.706181315873863,
            36.550432558533785,
            -23.58328814497935
           ],
           "legendgroup": "",
           "lon": [
            7.483156574929211,
            30.497434511924325,
            14.533600264930044,
            -5.73665308026392,
            25.274620301872687,
            45.742644027389815,
            22.937458352453206,
            -99.4877492264568,
            -86.12919315960363,
            -57.79900810912669,
            46.37348934350911,
            101.17889439841429,
            127.29844484711793,
            138.75457210763784
           ],
           "marker": {
            "color": "#636efa",
            "size": [
             89,
             90,
             2,
             11,
             2,
             4,
             0,
             128,
             9,
             13,
             9,
             14,
             38,
             0
            ],
            "sizemode": "area",
            "sizeref": 1.8,
            "symbol": "circle"
           },
           "mode": "markers",
           "name": "",
           "showlegend": false,
           "type": "scattergeo"
          }
         ],
         "name": "2023-07-01 00:00:00"
        },
        {
         "data": [
          {
           "geo": "geo",
           "hovertemplate": "<b>%{hovertext}</b><br><br>Periods=2023-08-01 00:00:00<br>value=%{marker.size}<br>lat=%{lat}<br>lon=%{lon}<extra></extra>",
           "hovertext": [
            "EU Countries",
            "Other Europe",
            "North Africa",
            "West Africa",
            "Central Africa",
            "East Africa",
            "South Africa",
            "North America",
            "Central America",
            "South America",
            "West Asia",
            "South East Asia",
            "North East Asia",
            "Oceania"
           ],
           "lat": [
            51.06817476731436,
            51.104656094663596,
            30.437364261879395,
            7.959928997986893,
            6.382857433441359,
            4.621142864680792,
            -21.36137412154011,
            39.10831477183257,
            14.055530777684297,
            -16.37707312732043,
            34.361920786534085,
            17.706181315873863,
            36.550432558533785,
            -23.58328814497935
           ],
           "legendgroup": "",
           "lon": [
            7.483156574929211,
            30.497434511924325,
            14.533600264930044,
            -5.73665308026392,
            25.274620301872687,
            45.742644027389815,
            22.937458352453206,
            -99.4877492264568,
            -86.12919315960363,
            -57.79900810912669,
            46.37348934350911,
            101.17889439841429,
            127.29844484711793,
            138.75457210763784
           ],
           "marker": {
            "color": "#636efa",
            "size": [
             103,
             77,
             3,
             12,
             2,
             4,
             0,
             156,
             11,
             16,
             16,
             13,
             40,
             0
            ],
            "sizemode": "area",
            "sizeref": 1.8,
            "symbol": "circle"
           },
           "mode": "markers",
           "name": "",
           "showlegend": false,
           "type": "scattergeo"
          }
         ],
         "name": "2023-08-01 00:00:00"
        }
       ],
       "layout": {
        "geo": {
         "center": {},
         "domain": {
          "x": [
           0,
           1
          ],
          "y": [
           0,
           1
          ]
         }
        },
        "legend": {
         "itemsizing": "constant",
         "tracegroupgap": 0
        },
        "sliders": [
         {
          "active": 0,
          "currentvalue": {
           "prefix": "Periods="
          },
          "len": 0.9,
          "pad": {
           "b": 10,
           "t": 60
          },
          "steps": [
           {
            "args": [
             [
              "2019-01-01 00:00:00"
             ],
             {
              "frame": {
               "duration": 0,
               "redraw": true
              },
              "fromcurrent": true,
              "mode": "immediate",
              "transition": {
               "duration": 0,
               "easing": "linear"
              }
             }
            ],
            "label": "2019-01-01 00:00:00",
            "method": "animate"
           },
           {
            "args": [
             [
              "2019-02-01 00:00:00"
             ],
             {
              "frame": {
               "duration": 0,
               "redraw": true
              },
              "fromcurrent": true,
              "mode": "immediate",
              "transition": {
               "duration": 0,
               "easing": "linear"
              }
             }
            ],
            "label": "2019-02-01 00:00:00",
            "method": "animate"
           },
           {
            "args": [
             [
              "2019-03-01 00:00:00"
             ],
             {
              "frame": {
               "duration": 0,
               "redraw": true
              },
              "fromcurrent": true,
              "mode": "immediate",
              "transition": {
               "duration": 0,
               "easing": "linear"
              }
             }
            ],
            "label": "2019-03-01 00:00:00",
            "method": "animate"
           },
           {
            "args": [
             [
              "2019-04-01 00:00:00"
             ],
             {
              "frame": {
               "duration": 0,
               "redraw": true
              },
              "fromcurrent": true,
              "mode": "immediate",
              "transition": {
               "duration": 0,
               "easing": "linear"
              }
             }
            ],
            "label": "2019-04-01 00:00:00",
            "method": "animate"
           },
           {
            "args": [
             [
              "2019-05-01 00:00:00"
             ],
             {
              "frame": {
               "duration": 0,
               "redraw": true
              },
              "fromcurrent": true,
              "mode": "immediate",
              "transition": {
               "duration": 0,
               "easing": "linear"
              }
             }
            ],
            "label": "2019-05-01 00:00:00",
            "method": "animate"
           },
           {
            "args": [
             [
              "2019-06-01 00:00:00"
             ],
             {
              "frame": {
               "duration": 0,
               "redraw": true
              },
              "fromcurrent": true,
              "mode": "immediate",
              "transition": {
               "duration": 0,
               "easing": "linear"
              }
             }
            ],
            "label": "2019-06-01 00:00:00",
            "method": "animate"
           },
           {
            "args": [
             [
              "2019-07-01 00:00:00"
             ],
             {
              "frame": {
               "duration": 0,
               "redraw": true
              },
              "fromcurrent": true,
              "mode": "immediate",
              "transition": {
               "duration": 0,
               "easing": "linear"
              }
             }
            ],
            "label": "2019-07-01 00:00:00",
            "method": "animate"
           },
           {
            "args": [
             [
              "2019-08-01 00:00:00"
             ],
             {
              "frame": {
               "duration": 0,
               "redraw": true
              },
              "fromcurrent": true,
              "mode": "immediate",
              "transition": {
               "duration": 0,
               "easing": "linear"
              }
             }
            ],
            "label": "2019-08-01 00:00:00",
            "method": "animate"
           },
           {
            "args": [
             [
              "2019-09-01 00:00:00"
             ],
             {
              "frame": {
               "duration": 0,
               "redraw": true
              },
              "fromcurrent": true,
              "mode": "immediate",
              "transition": {
               "duration": 0,
               "easing": "linear"
              }
             }
            ],
            "label": "2019-09-01 00:00:00",
            "method": "animate"
           },
           {
            "args": [
             [
              "2019-10-01 00:00:00"
             ],
             {
              "frame": {
               "duration": 0,
               "redraw": true
              },
              "fromcurrent": true,
              "mode": "immediate",
              "transition": {
               "duration": 0,
               "easing": "linear"
              }
             }
            ],
            "label": "2019-10-01 00:00:00",
            "method": "animate"
           },
           {
            "args": [
             [
              "2019-11-01 00:00:00"
             ],
             {
              "frame": {
               "duration": 0,
               "redraw": true
              },
              "fromcurrent": true,
              "mode": "immediate",
              "transition": {
               "duration": 0,
               "easing": "linear"
              }
             }
            ],
            "label": "2019-11-01 00:00:00",
            "method": "animate"
           },
           {
            "args": [
             [
              "2019-12-01 00:00:00"
             ],
             {
              "frame": {
               "duration": 0,
               "redraw": true
              },
              "fromcurrent": true,
              "mode": "immediate",
              "transition": {
               "duration": 0,
               "easing": "linear"
              }
             }
            ],
            "label": "2019-12-01 00:00:00",
            "method": "animate"
           },
           {
            "args": [
             [
              "2020-01-01 00:00:00"
             ],
             {
              "frame": {
               "duration": 0,
               "redraw": true
              },
              "fromcurrent": true,
              "mode": "immediate",
              "transition": {
               "duration": 0,
               "easing": "linear"
              }
             }
            ],
            "label": "2020-01-01 00:00:00",
            "method": "animate"
           },
           {
            "args": [
             [
              "2020-02-01 00:00:00"
             ],
             {
              "frame": {
               "duration": 0,
               "redraw": true
              },
              "fromcurrent": true,
              "mode": "immediate",
              "transition": {
               "duration": 0,
               "easing": "linear"
              }
             }
            ],
            "label": "2020-02-01 00:00:00",
            "method": "animate"
           },
           {
            "args": [
             [
              "2020-03-01 00:00:00"
             ],
             {
              "frame": {
               "duration": 0,
               "redraw": true
              },
              "fromcurrent": true,
              "mode": "immediate",
              "transition": {
               "duration": 0,
               "easing": "linear"
              }
             }
            ],
            "label": "2020-03-01 00:00:00",
            "method": "animate"
           },
           {
            "args": [
             [
              "2020-04-01 00:00:00"
             ],
             {
              "frame": {
               "duration": 0,
               "redraw": true
              },
              "fromcurrent": true,
              "mode": "immediate",
              "transition": {
               "duration": 0,
               "easing": "linear"
              }
             }
            ],
            "label": "2020-04-01 00:00:00",
            "method": "animate"
           },
           {
            "args": [
             [
              "2020-05-01 00:00:00"
             ],
             {
              "frame": {
               "duration": 0,
               "redraw": true
              },
              "fromcurrent": true,
              "mode": "immediate",
              "transition": {
               "duration": 0,
               "easing": "linear"
              }
             }
            ],
            "label": "2020-05-01 00:00:00",
            "method": "animate"
           },
           {
            "args": [
             [
              "2020-06-01 00:00:00"
             ],
             {
              "frame": {
               "duration": 0,
               "redraw": true
              },
              "fromcurrent": true,
              "mode": "immediate",
              "transition": {
               "duration": 0,
               "easing": "linear"
              }
             }
            ],
            "label": "2020-06-01 00:00:00",
            "method": "animate"
           },
           {
            "args": [
             [
              "2020-07-01 00:00:00"
             ],
             {
              "frame": {
               "duration": 0,
               "redraw": true
              },
              "fromcurrent": true,
              "mode": "immediate",
              "transition": {
               "duration": 0,
               "easing": "linear"
              }
             }
            ],
            "label": "2020-07-01 00:00:00",
            "method": "animate"
           },
           {
            "args": [
             [
              "2020-08-01 00:00:00"
             ],
             {
              "frame": {
               "duration": 0,
               "redraw": true
              },
              "fromcurrent": true,
              "mode": "immediate",
              "transition": {
               "duration": 0,
               "easing": "linear"
              }
             }
            ],
            "label": "2020-08-01 00:00:00",
            "method": "animate"
           },
           {
            "args": [
             [
              "2020-09-01 00:00:00"
             ],
             {
              "frame": {
               "duration": 0,
               "redraw": true
              },
              "fromcurrent": true,
              "mode": "immediate",
              "transition": {
               "duration": 0,
               "easing": "linear"
              }
             }
            ],
            "label": "2020-09-01 00:00:00",
            "method": "animate"
           },
           {
            "args": [
             [
              "2020-10-01 00:00:00"
             ],
             {
              "frame": {
               "duration": 0,
               "redraw": true
              },
              "fromcurrent": true,
              "mode": "immediate",
              "transition": {
               "duration": 0,
               "easing": "linear"
              }
             }
            ],
            "label": "2020-10-01 00:00:00",
            "method": "animate"
           },
           {
            "args": [
             [
              "2020-11-01 00:00:00"
             ],
             {
              "frame": {
               "duration": 0,
               "redraw": true
              },
              "fromcurrent": true,
              "mode": "immediate",
              "transition": {
               "duration": 0,
               "easing": "linear"
              }
             }
            ],
            "label": "2020-11-01 00:00:00",
            "method": "animate"
           },
           {
            "args": [
             [
              "2020-12-01 00:00:00"
             ],
             {
              "frame": {
               "duration": 0,
               "redraw": true
              },
              "fromcurrent": true,
              "mode": "immediate",
              "transition": {
               "duration": 0,
               "easing": "linear"
              }
             }
            ],
            "label": "2020-12-01 00:00:00",
            "method": "animate"
           },
           {
            "args": [
             [
              "2021-01-01 00:00:00"
             ],
             {
              "frame": {
               "duration": 0,
               "redraw": true
              },
              "fromcurrent": true,
              "mode": "immediate",
              "transition": {
               "duration": 0,
               "easing": "linear"
              }
             }
            ],
            "label": "2021-01-01 00:00:00",
            "method": "animate"
           },
           {
            "args": [
             [
              "2021-02-01 00:00:00"
             ],
             {
              "frame": {
               "duration": 0,
               "redraw": true
              },
              "fromcurrent": true,
              "mode": "immediate",
              "transition": {
               "duration": 0,
               "easing": "linear"
              }
             }
            ],
            "label": "2021-02-01 00:00:00",
            "method": "animate"
           },
           {
            "args": [
             [
              "2021-03-01 00:00:00"
             ],
             {
              "frame": {
               "duration": 0,
               "redraw": true
              },
              "fromcurrent": true,
              "mode": "immediate",
              "transition": {
               "duration": 0,
               "easing": "linear"
              }
             }
            ],
            "label": "2021-03-01 00:00:00",
            "method": "animate"
           },
           {
            "args": [
             [
              "2021-04-01 00:00:00"
             ],
             {
              "frame": {
               "duration": 0,
               "redraw": true
              },
              "fromcurrent": true,
              "mode": "immediate",
              "transition": {
               "duration": 0,
               "easing": "linear"
              }
             }
            ],
            "label": "2021-04-01 00:00:00",
            "method": "animate"
           },
           {
            "args": [
             [
              "2021-05-01 00:00:00"
             ],
             {
              "frame": {
               "duration": 0,
               "redraw": true
              },
              "fromcurrent": true,
              "mode": "immediate",
              "transition": {
               "duration": 0,
               "easing": "linear"
              }
             }
            ],
            "label": "2021-05-01 00:00:00",
            "method": "animate"
           },
           {
            "args": [
             [
              "2021-06-01 00:00:00"
             ],
             {
              "frame": {
               "duration": 0,
               "redraw": true
              },
              "fromcurrent": true,
              "mode": "immediate",
              "transition": {
               "duration": 0,
               "easing": "linear"
              }
             }
            ],
            "label": "2021-06-01 00:00:00",
            "method": "animate"
           },
           {
            "args": [
             [
              "2021-07-01 00:00:00"
             ],
             {
              "frame": {
               "duration": 0,
               "redraw": true
              },
              "fromcurrent": true,
              "mode": "immediate",
              "transition": {
               "duration": 0,
               "easing": "linear"
              }
             }
            ],
            "label": "2021-07-01 00:00:00",
            "method": "animate"
           },
           {
            "args": [
             [
              "2021-08-01 00:00:00"
             ],
             {
              "frame": {
               "duration": 0,
               "redraw": true
              },
              "fromcurrent": true,
              "mode": "immediate",
              "transition": {
               "duration": 0,
               "easing": "linear"
              }
             }
            ],
            "label": "2021-08-01 00:00:00",
            "method": "animate"
           },
           {
            "args": [
             [
              "2021-09-01 00:00:00"
             ],
             {
              "frame": {
               "duration": 0,
               "redraw": true
              },
              "fromcurrent": true,
              "mode": "immediate",
              "transition": {
               "duration": 0,
               "easing": "linear"
              }
             }
            ],
            "label": "2021-09-01 00:00:00",
            "method": "animate"
           },
           {
            "args": [
             [
              "2021-10-01 00:00:00"
             ],
             {
              "frame": {
               "duration": 0,
               "redraw": true
              },
              "fromcurrent": true,
              "mode": "immediate",
              "transition": {
               "duration": 0,
               "easing": "linear"
              }
             }
            ],
            "label": "2021-10-01 00:00:00",
            "method": "animate"
           },
           {
            "args": [
             [
              "2021-11-01 00:00:00"
             ],
             {
              "frame": {
               "duration": 0,
               "redraw": true
              },
              "fromcurrent": true,
              "mode": "immediate",
              "transition": {
               "duration": 0,
               "easing": "linear"
              }
             }
            ],
            "label": "2021-11-01 00:00:00",
            "method": "animate"
           },
           {
            "args": [
             [
              "2021-12-01 00:00:00"
             ],
             {
              "frame": {
               "duration": 0,
               "redraw": true
              },
              "fromcurrent": true,
              "mode": "immediate",
              "transition": {
               "duration": 0,
               "easing": "linear"
              }
             }
            ],
            "label": "2021-12-01 00:00:00",
            "method": "animate"
           },
           {
            "args": [
             [
              "2022-01-01 00:00:00"
             ],
             {
              "frame": {
               "duration": 0,
               "redraw": true
              },
              "fromcurrent": true,
              "mode": "immediate",
              "transition": {
               "duration": 0,
               "easing": "linear"
              }
             }
            ],
            "label": "2022-01-01 00:00:00",
            "method": "animate"
           },
           {
            "args": [
             [
              "2022-02-01 00:00:00"
             ],
             {
              "frame": {
               "duration": 0,
               "redraw": true
              },
              "fromcurrent": true,
              "mode": "immediate",
              "transition": {
               "duration": 0,
               "easing": "linear"
              }
             }
            ],
            "label": "2022-02-01 00:00:00",
            "method": "animate"
           },
           {
            "args": [
             [
              "2022-03-01 00:00:00"
             ],
             {
              "frame": {
               "duration": 0,
               "redraw": true
              },
              "fromcurrent": true,
              "mode": "immediate",
              "transition": {
               "duration": 0,
               "easing": "linear"
              }
             }
            ],
            "label": "2022-03-01 00:00:00",
            "method": "animate"
           },
           {
            "args": [
             [
              "2022-04-01 00:00:00"
             ],
             {
              "frame": {
               "duration": 0,
               "redraw": true
              },
              "fromcurrent": true,
              "mode": "immediate",
              "transition": {
               "duration": 0,
               "easing": "linear"
              }
             }
            ],
            "label": "2022-04-01 00:00:00",
            "method": "animate"
           },
           {
            "args": [
             [
              "2022-05-01 00:00:00"
             ],
             {
              "frame": {
               "duration": 0,
               "redraw": true
              },
              "fromcurrent": true,
              "mode": "immediate",
              "transition": {
               "duration": 0,
               "easing": "linear"
              }
             }
            ],
            "label": "2022-05-01 00:00:00",
            "method": "animate"
           },
           {
            "args": [
             [
              "2022-06-01 00:00:00"
             ],
             {
              "frame": {
               "duration": 0,
               "redraw": true
              },
              "fromcurrent": true,
              "mode": "immediate",
              "transition": {
               "duration": 0,
               "easing": "linear"
              }
             }
            ],
            "label": "2022-06-01 00:00:00",
            "method": "animate"
           },
           {
            "args": [
             [
              "2022-07-01 00:00:00"
             ],
             {
              "frame": {
               "duration": 0,
               "redraw": true
              },
              "fromcurrent": true,
              "mode": "immediate",
              "transition": {
               "duration": 0,
               "easing": "linear"
              }
             }
            ],
            "label": "2022-07-01 00:00:00",
            "method": "animate"
           },
           {
            "args": [
             [
              "2022-08-01 00:00:00"
             ],
             {
              "frame": {
               "duration": 0,
               "redraw": true
              },
              "fromcurrent": true,
              "mode": "immediate",
              "transition": {
               "duration": 0,
               "easing": "linear"
              }
             }
            ],
            "label": "2022-08-01 00:00:00",
            "method": "animate"
           },
           {
            "args": [
             [
              "2022-09-01 00:00:00"
             ],
             {
              "frame": {
               "duration": 0,
               "redraw": true
              },
              "fromcurrent": true,
              "mode": "immediate",
              "transition": {
               "duration": 0,
               "easing": "linear"
              }
             }
            ],
            "label": "2022-09-01 00:00:00",
            "method": "animate"
           },
           {
            "args": [
             [
              "2022-10-01 00:00:00"
             ],
             {
              "frame": {
               "duration": 0,
               "redraw": true
              },
              "fromcurrent": true,
              "mode": "immediate",
              "transition": {
               "duration": 0,
               "easing": "linear"
              }
             }
            ],
            "label": "2022-10-01 00:00:00",
            "method": "animate"
           },
           {
            "args": [
             [
              "2022-11-01 00:00:00"
             ],
             {
              "frame": {
               "duration": 0,
               "redraw": true
              },
              "fromcurrent": true,
              "mode": "immediate",
              "transition": {
               "duration": 0,
               "easing": "linear"
              }
             }
            ],
            "label": "2022-11-01 00:00:00",
            "method": "animate"
           },
           {
            "args": [
             [
              "2022-12-01 00:00:00"
             ],
             {
              "frame": {
               "duration": 0,
               "redraw": true
              },
              "fromcurrent": true,
              "mode": "immediate",
              "transition": {
               "duration": 0,
               "easing": "linear"
              }
             }
            ],
            "label": "2022-12-01 00:00:00",
            "method": "animate"
           },
           {
            "args": [
             [
              "2023-01-01 00:00:00"
             ],
             {
              "frame": {
               "duration": 0,
               "redraw": true
              },
              "fromcurrent": true,
              "mode": "immediate",
              "transition": {
               "duration": 0,
               "easing": "linear"
              }
             }
            ],
            "label": "2023-01-01 00:00:00",
            "method": "animate"
           },
           {
            "args": [
             [
              "2023-02-01 00:00:00"
             ],
             {
              "frame": {
               "duration": 0,
               "redraw": true
              },
              "fromcurrent": true,
              "mode": "immediate",
              "transition": {
               "duration": 0,
               "easing": "linear"
              }
             }
            ],
            "label": "2023-02-01 00:00:00",
            "method": "animate"
           },
           {
            "args": [
             [
              "2023-03-01 00:00:00"
             ],
             {
              "frame": {
               "duration": 0,
               "redraw": true
              },
              "fromcurrent": true,
              "mode": "immediate",
              "transition": {
               "duration": 0,
               "easing": "linear"
              }
             }
            ],
            "label": "2023-03-01 00:00:00",
            "method": "animate"
           },
           {
            "args": [
             [
              "2023-04-01 00:00:00"
             ],
             {
              "frame": {
               "duration": 0,
               "redraw": true
              },
              "fromcurrent": true,
              "mode": "immediate",
              "transition": {
               "duration": 0,
               "easing": "linear"
              }
             }
            ],
            "label": "2023-04-01 00:00:00",
            "method": "animate"
           },
           {
            "args": [
             [
              "2023-05-01 00:00:00"
             ],
             {
              "frame": {
               "duration": 0,
               "redraw": true
              },
              "fromcurrent": true,
              "mode": "immediate",
              "transition": {
               "duration": 0,
               "easing": "linear"
              }
             }
            ],
            "label": "2023-05-01 00:00:00",
            "method": "animate"
           },
           {
            "args": [
             [
              "2023-06-01 00:00:00"
             ],
             {
              "frame": {
               "duration": 0,
               "redraw": true
              },
              "fromcurrent": true,
              "mode": "immediate",
              "transition": {
               "duration": 0,
               "easing": "linear"
              }
             }
            ],
            "label": "2023-06-01 00:00:00",
            "method": "animate"
           },
           {
            "args": [
             [
              "2023-07-01 00:00:00"
             ],
             {
              "frame": {
               "duration": 0,
               "redraw": true
              },
              "fromcurrent": true,
              "mode": "immediate",
              "transition": {
               "duration": 0,
               "easing": "linear"
              }
             }
            ],
            "label": "2023-07-01 00:00:00",
            "method": "animate"
           },
           {
            "args": [
             [
              "2023-08-01 00:00:00"
             ],
             {
              "frame": {
               "duration": 0,
               "redraw": true
              },
              "fromcurrent": true,
              "mode": "immediate",
              "transition": {
               "duration": 0,
               "easing": "linear"
              }
             }
            ],
            "label": "2023-08-01 00:00:00",
            "method": "animate"
           }
          ],
          "x": 0.1,
          "xanchor": "left",
          "y": 0,
          "yanchor": "top"
         }
        ],
        "template": {
         "data": {
          "bar": [
           {
            "error_x": {
             "color": "#2a3f5f"
            },
            "error_y": {
             "color": "#2a3f5f"
            },
            "marker": {
             "line": {
              "color": "#E5ECF6",
              "width": 0.5
             },
             "pattern": {
              "fillmode": "overlay",
              "size": 10,
              "solidity": 0.2
             }
            },
            "type": "bar"
           }
          ],
          "barpolar": [
           {
            "marker": {
             "line": {
              "color": "#E5ECF6",
              "width": 0.5
             },
             "pattern": {
              "fillmode": "overlay",
              "size": 10,
              "solidity": 0.2
             }
            },
            "type": "barpolar"
           }
          ],
          "carpet": [
           {
            "aaxis": {
             "endlinecolor": "#2a3f5f",
             "gridcolor": "white",
             "linecolor": "white",
             "minorgridcolor": "white",
             "startlinecolor": "#2a3f5f"
            },
            "baxis": {
             "endlinecolor": "#2a3f5f",
             "gridcolor": "white",
             "linecolor": "white",
             "minorgridcolor": "white",
             "startlinecolor": "#2a3f5f"
            },
            "type": "carpet"
           }
          ],
          "choropleth": [
           {
            "colorbar": {
             "outlinewidth": 0,
             "ticks": ""
            },
            "type": "choropleth"
           }
          ],
          "contour": [
           {
            "colorbar": {
             "outlinewidth": 0,
             "ticks": ""
            },
            "colorscale": [
             [
              0,
              "#0d0887"
             ],
             [
              0.1111111111111111,
              "#46039f"
             ],
             [
              0.2222222222222222,
              "#7201a8"
             ],
             [
              0.3333333333333333,
              "#9c179e"
             ],
             [
              0.4444444444444444,
              "#bd3786"
             ],
             [
              0.5555555555555556,
              "#d8576b"
             ],
             [
              0.6666666666666666,
              "#ed7953"
             ],
             [
              0.7777777777777778,
              "#fb9f3a"
             ],
             [
              0.8888888888888888,
              "#fdca26"
             ],
             [
              1,
              "#f0f921"
             ]
            ],
            "type": "contour"
           }
          ],
          "contourcarpet": [
           {
            "colorbar": {
             "outlinewidth": 0,
             "ticks": ""
            },
            "type": "contourcarpet"
           }
          ],
          "heatmap": [
           {
            "colorbar": {
             "outlinewidth": 0,
             "ticks": ""
            },
            "colorscale": [
             [
              0,
              "#0d0887"
             ],
             [
              0.1111111111111111,
              "#46039f"
             ],
             [
              0.2222222222222222,
              "#7201a8"
             ],
             [
              0.3333333333333333,
              "#9c179e"
             ],
             [
              0.4444444444444444,
              "#bd3786"
             ],
             [
              0.5555555555555556,
              "#d8576b"
             ],
             [
              0.6666666666666666,
              "#ed7953"
             ],
             [
              0.7777777777777778,
              "#fb9f3a"
             ],
             [
              0.8888888888888888,
              "#fdca26"
             ],
             [
              1,
              "#f0f921"
             ]
            ],
            "type": "heatmap"
           }
          ],
          "heatmapgl": [
           {
            "colorbar": {
             "outlinewidth": 0,
             "ticks": ""
            },
            "colorscale": [
             [
              0,
              "#0d0887"
             ],
             [
              0.1111111111111111,
              "#46039f"
             ],
             [
              0.2222222222222222,
              "#7201a8"
             ],
             [
              0.3333333333333333,
              "#9c179e"
             ],
             [
              0.4444444444444444,
              "#bd3786"
             ],
             [
              0.5555555555555556,
              "#d8576b"
             ],
             [
              0.6666666666666666,
              "#ed7953"
             ],
             [
              0.7777777777777778,
              "#fb9f3a"
             ],
             [
              0.8888888888888888,
              "#fdca26"
             ],
             [
              1,
              "#f0f921"
             ]
            ],
            "type": "heatmapgl"
           }
          ],
          "histogram": [
           {
            "marker": {
             "pattern": {
              "fillmode": "overlay",
              "size": 10,
              "solidity": 0.2
             }
            },
            "type": "histogram"
           }
          ],
          "histogram2d": [
           {
            "colorbar": {
             "outlinewidth": 0,
             "ticks": ""
            },
            "colorscale": [
             [
              0,
              "#0d0887"
             ],
             [
              0.1111111111111111,
              "#46039f"
             ],
             [
              0.2222222222222222,
              "#7201a8"
             ],
             [
              0.3333333333333333,
              "#9c179e"
             ],
             [
              0.4444444444444444,
              "#bd3786"
             ],
             [
              0.5555555555555556,
              "#d8576b"
             ],
             [
              0.6666666666666666,
              "#ed7953"
             ],
             [
              0.7777777777777778,
              "#fb9f3a"
             ],
             [
              0.8888888888888888,
              "#fdca26"
             ],
             [
              1,
              "#f0f921"
             ]
            ],
            "type": "histogram2d"
           }
          ],
          "histogram2dcontour": [
           {
            "colorbar": {
             "outlinewidth": 0,
             "ticks": ""
            },
            "colorscale": [
             [
              0,
              "#0d0887"
             ],
             [
              0.1111111111111111,
              "#46039f"
             ],
             [
              0.2222222222222222,
              "#7201a8"
             ],
             [
              0.3333333333333333,
              "#9c179e"
             ],
             [
              0.4444444444444444,
              "#bd3786"
             ],
             [
              0.5555555555555556,
              "#d8576b"
             ],
             [
              0.6666666666666666,
              "#ed7953"
             ],
             [
              0.7777777777777778,
              "#fb9f3a"
             ],
             [
              0.8888888888888888,
              "#fdca26"
             ],
             [
              1,
              "#f0f921"
             ]
            ],
            "type": "histogram2dcontour"
           }
          ],
          "mesh3d": [
           {
            "colorbar": {
             "outlinewidth": 0,
             "ticks": ""
            },
            "type": "mesh3d"
           }
          ],
          "parcoords": [
           {
            "line": {
             "colorbar": {
              "outlinewidth": 0,
              "ticks": ""
             }
            },
            "type": "parcoords"
           }
          ],
          "pie": [
           {
            "automargin": true,
            "type": "pie"
           }
          ],
          "scatter": [
           {
            "fillpattern": {
             "fillmode": "overlay",
             "size": 10,
             "solidity": 0.2
            },
            "type": "scatter"
           }
          ],
          "scatter3d": [
           {
            "line": {
             "colorbar": {
              "outlinewidth": 0,
              "ticks": ""
             }
            },
            "marker": {
             "colorbar": {
              "outlinewidth": 0,
              "ticks": ""
             }
            },
            "type": "scatter3d"
           }
          ],
          "scattercarpet": [
           {
            "marker": {
             "colorbar": {
              "outlinewidth": 0,
              "ticks": ""
             }
            },
            "type": "scattercarpet"
           }
          ],
          "scattergeo": [
           {
            "marker": {
             "colorbar": {
              "outlinewidth": 0,
              "ticks": ""
             }
            },
            "type": "scattergeo"
           }
          ],
          "scattergl": [
           {
            "marker": {
             "colorbar": {
              "outlinewidth": 0,
              "ticks": ""
             }
            },
            "type": "scattergl"
           }
          ],
          "scattermapbox": [
           {
            "marker": {
             "colorbar": {
              "outlinewidth": 0,
              "ticks": ""
             }
            },
            "type": "scattermapbox"
           }
          ],
          "scatterpolar": [
           {
            "marker": {
             "colorbar": {
              "outlinewidth": 0,
              "ticks": ""
             }
            },
            "type": "scatterpolar"
           }
          ],
          "scatterpolargl": [
           {
            "marker": {
             "colorbar": {
              "outlinewidth": 0,
              "ticks": ""
             }
            },
            "type": "scatterpolargl"
           }
          ],
          "scatterternary": [
           {
            "marker": {
             "colorbar": {
              "outlinewidth": 0,
              "ticks": ""
             }
            },
            "type": "scatterternary"
           }
          ],
          "surface": [
           {
            "colorbar": {
             "outlinewidth": 0,
             "ticks": ""
            },
            "colorscale": [
             [
              0,
              "#0d0887"
             ],
             [
              0.1111111111111111,
              "#46039f"
             ],
             [
              0.2222222222222222,
              "#7201a8"
             ],
             [
              0.3333333333333333,
              "#9c179e"
             ],
             [
              0.4444444444444444,
              "#bd3786"
             ],
             [
              0.5555555555555556,
              "#d8576b"
             ],
             [
              0.6666666666666666,
              "#ed7953"
             ],
             [
              0.7777777777777778,
              "#fb9f3a"
             ],
             [
              0.8888888888888888,
              "#fdca26"
             ],
             [
              1,
              "#f0f921"
             ]
            ],
            "type": "surface"
           }
          ],
          "table": [
           {
            "cells": {
             "fill": {
              "color": "#EBF0F8"
             },
             "line": {
              "color": "white"
             }
            },
            "header": {
             "fill": {
              "color": "#C8D4E3"
             },
             "line": {
              "color": "white"
             }
            },
            "type": "table"
           }
          ]
         },
         "layout": {
          "annotationdefaults": {
           "arrowcolor": "#2a3f5f",
           "arrowhead": 0,
           "arrowwidth": 1
          },
          "autotypenumbers": "strict",
          "coloraxis": {
           "colorbar": {
            "outlinewidth": 0,
            "ticks": ""
           }
          },
          "colorscale": {
           "diverging": [
            [
             0,
             "#8e0152"
            ],
            [
             0.1,
             "#c51b7d"
            ],
            [
             0.2,
             "#de77ae"
            ],
            [
             0.3,
             "#f1b6da"
            ],
            [
             0.4,
             "#fde0ef"
            ],
            [
             0.5,
             "#f7f7f7"
            ],
            [
             0.6,
             "#e6f5d0"
            ],
            [
             0.7,
             "#b8e186"
            ],
            [
             0.8,
             "#7fbc41"
            ],
            [
             0.9,
             "#4d9221"
            ],
            [
             1,
             "#276419"
            ]
           ],
           "sequential": [
            [
             0,
             "#0d0887"
            ],
            [
             0.1111111111111111,
             "#46039f"
            ],
            [
             0.2222222222222222,
             "#7201a8"
            ],
            [
             0.3333333333333333,
             "#9c179e"
            ],
            [
             0.4444444444444444,
             "#bd3786"
            ],
            [
             0.5555555555555556,
             "#d8576b"
            ],
            [
             0.6666666666666666,
             "#ed7953"
            ],
            [
             0.7777777777777778,
             "#fb9f3a"
            ],
            [
             0.8888888888888888,
             "#fdca26"
            ],
            [
             1,
             "#f0f921"
            ]
           ],
           "sequentialminus": [
            [
             0,
             "#0d0887"
            ],
            [
             0.1111111111111111,
             "#46039f"
            ],
            [
             0.2222222222222222,
             "#7201a8"
            ],
            [
             0.3333333333333333,
             "#9c179e"
            ],
            [
             0.4444444444444444,
             "#bd3786"
            ],
            [
             0.5555555555555556,
             "#d8576b"
            ],
            [
             0.6666666666666666,
             "#ed7953"
            ],
            [
             0.7777777777777778,
             "#fb9f3a"
            ],
            [
             0.8888888888888888,
             "#fdca26"
            ],
            [
             1,
             "#f0f921"
            ]
           ]
          },
          "colorway": [
           "#636efa",
           "#EF553B",
           "#00cc96",
           "#ab63fa",
           "#FFA15A",
           "#19d3f3",
           "#FF6692",
           "#B6E880",
           "#FF97FF",
           "#FECB52"
          ],
          "font": {
           "color": "#2a3f5f"
          },
          "geo": {
           "bgcolor": "white",
           "lakecolor": "white",
           "landcolor": "#E5ECF6",
           "showlakes": true,
           "showland": true,
           "subunitcolor": "white"
          },
          "hoverlabel": {
           "align": "left"
          },
          "hovermode": "closest",
          "mapbox": {
           "style": "light"
          },
          "paper_bgcolor": "white",
          "plot_bgcolor": "#E5ECF6",
          "polar": {
           "angularaxis": {
            "gridcolor": "white",
            "linecolor": "white",
            "ticks": ""
           },
           "bgcolor": "#E5ECF6",
           "radialaxis": {
            "gridcolor": "white",
            "linecolor": "white",
            "ticks": ""
           }
          },
          "scene": {
           "xaxis": {
            "backgroundcolor": "#E5ECF6",
            "gridcolor": "white",
            "gridwidth": 2,
            "linecolor": "white",
            "showbackground": true,
            "ticks": "",
            "zerolinecolor": "white"
           },
           "yaxis": {
            "backgroundcolor": "#E5ECF6",
            "gridcolor": "white",
            "gridwidth": 2,
            "linecolor": "white",
            "showbackground": true,
            "ticks": "",
            "zerolinecolor": "white"
           },
           "zaxis": {
            "backgroundcolor": "#E5ECF6",
            "gridcolor": "white",
            "gridwidth": 2,
            "linecolor": "white",
            "showbackground": true,
            "ticks": "",
            "zerolinecolor": "white"
           }
          },
          "shapedefaults": {
           "line": {
            "color": "#2a3f5f"
           }
          },
          "ternary": {
           "aaxis": {
            "gridcolor": "white",
            "linecolor": "white",
            "ticks": ""
           },
           "baxis": {
            "gridcolor": "white",
            "linecolor": "white",
            "ticks": ""
           },
           "bgcolor": "#E5ECF6",
           "caxis": {
            "gridcolor": "white",
            "linecolor": "white",
            "ticks": ""
           }
          },
          "title": {
           "x": 0.05
          },
          "xaxis": {
           "automargin": true,
           "gridcolor": "white",
           "linecolor": "white",
           "ticks": "",
           "title": {
            "standoff": 15
           },
           "zerolinecolor": "white",
           "zerolinewidth": 2
          },
          "yaxis": {
           "automargin": true,
           "gridcolor": "white",
           "linecolor": "white",
           "ticks": "",
           "title": {
            "standoff": 15
           },
           "zerolinecolor": "white",
           "zerolinewidth": 2
          }
         }
        },
        "title": {
         "text": "Mail Volumes from Dutch Airports"
        },
        "updatemenus": [
         {
          "buttons": [
           {
            "args": [
             null,
             {
              "frame": {
               "duration": 500,
               "redraw": true
              },
              "fromcurrent": true,
              "mode": "immediate",
              "transition": {
               "duration": 500,
               "easing": "linear"
              }
             }
            ],
            "label": "&#9654;",
            "method": "animate"
           },
           {
            "args": [
             [
              null
             ],
             {
              "frame": {
               "duration": 0,
               "redraw": true
              },
              "fromcurrent": true,
              "mode": "immediate",
              "transition": {
               "duration": 0,
               "easing": "linear"
              }
             }
            ],
            "label": "&#9724;",
            "method": "animate"
           }
          ],
          "direction": "left",
          "pad": {
           "r": 10,
           "t": 70
          },
          "showactive": false,
          "type": "buttons",
          "x": 0.1,
          "xanchor": "right",
          "y": 0,
          "yanchor": "top"
         }
        ]
       }
      }
     },
     "metadata": {},
     "output_type": "display_data"
    }
   ],
   "source": [
    "import pandas as pd\n",
    "import plotly.express as px\n",
    "import datetime as dt\n",
    "import re\n",
    "import geopandas as gpd\n",
    "\n",
    "file_path = '37478eng_UntypedDataSet_09102023_105711.csv'\n",
    "\n",
    "data = pd.read_csv(file_path, delimiter=';')\n",
    "\n",
    "data.loc[ data['Airports'] == 'A045844', 'Airports'] = 'TOTAL' #The names are changed to make it more usefull\n",
    "data.loc[ data['Airports'] == 'A043590', 'Airports'] = 'Schiphol'\n",
    "data.loc[ data['Airports'] == 'A043596', 'Airports'] = 'Rotterdam The Hague'\n",
    "data.loc[ data['Airports'] == 'A043591', 'Airports'] = 'Eindhoven'\n",
    "data.loc[ data['Airports'] == 'A043595', 'Airports'] = 'Maastricht Aachen'\n",
    "data.loc[ data['Airports'] == 'A043593', 'Airports'] = 'Groningen'\n",
    "\n",
    "data.set_index('ID')\n",
    "\n",
    "data.rename(columns={\"TotalFlights_3\": \"Total Flights\", \n",
    "                    \"TotalPassengers_12\": \"Total Passengers\",\n",
    "                    \"TotalCargo_43\": \"Total Cargo [tons]\",\n",
    "                    \"TotalMail_74\":\n",
    "                    \"Total Mail [tons]\"},\n",
    "            inplace=True)\n",
    "\n",
    "\n",
    "# Define a function to filter the data for the right cargo type and start year:\n",
    "def clean_scatter_data(df, start_year, cols): \n",
    "    # Filter monthly data only and convert to datetime.\n",
    "    df = df[df['Periods'].str.contains('MM')]\n",
    "    df['Periods']= pd.to_datetime(df['Periods'], format='%YMM%m')\n",
    "\n",
    "    # Select a start year\n",
    "    df = df[df['Periods'].dt.year >= start_year]\n",
    "    df = df[cols]\n",
    "\n",
    "    keys = list(df.keys()[3:])\n",
    "\n",
    "    for key in keys:\n",
    "        wordlist = re.findall('[A-Z][^A-Z]*', key.split('_')[0])\n",
    "        new_key = \" \".join(wordlist)\n",
    "        df = df.rename(columns = {key: new_key})\n",
    "    \n",
    "    return df\n",
    "\n",
    "\n",
    "# Define a function to create an animation based on a dataset and a start year\n",
    "def scatter_animation(df, title=''):\n",
    "\n",
    "\n",
    "    # Convert DataFrame to long form data for use with Plotly Express\n",
    "    df = df.melt(id_vars=['Airports', 'Periods'])\n",
    "    df = df[df['Airports'] == 'TOTAL']\n",
    "\n",
    "    # Load Geometry\n",
    "    geo_df = gpd.read_file('map_v2.geojson')\n",
    "\n",
    "    # Create a list of geometry objects to assign to the data:\n",
    "    loclist = []\n",
    "    for i in range(len(df)):\n",
    "        region = df.iloc[i, 2]\n",
    "        location = geo_df[geo_df['id'] == region].iloc[0, 1]\n",
    "        loclist.append(location)\n",
    "\n",
    "    # Reset the index of df to ensure index of loclist matches dataset, and convert to a GeoDataframe\n",
    "    df = df.reset_index()\n",
    "    df['geometry'] = loclist\n",
    "    gdf = gpd.GeoDataFrame(df)\n",
    "\n",
    "    # Deal with missing datapoints by forcing the value column to be numeric\n",
    "    gdf['value'] = pd.to_numeric(gdf['value'], errors='coerce')\n",
    "\n",
    "    # Create the animation:\n",
    "    fig = px.scatter_geo(gdf,\n",
    "                        lat=gdf.geometry.y,\n",
    "                        lon=gdf.geometry.x,\n",
    "                        hover_name='variable',\n",
    "                        size='value',\n",
    "                        animation_frame='Periods',\n",
    "                        title=title,\n",
    "                        labels={'variable': 'Origin/Destination'})\n",
    "    return fig\n",
    "\n",
    "\n",
    "# Selecting and cleaning PASSENGER data\n",
    "# Select the relevant columns for regional data.\n",
    "passengers = clean_scatter_data(data, 2019, ['Airports', 'Periods', 'EUCountries_23', 'OtherEurope_24', 'NorthAfrica_27', 'WestAfrica_28', 'CentralAfrica_29', 'EastAfrica_30', 'SouthAfrica_31', 'NorthAmerica_33', 'CentralAmerica_34', 'SouthAmerica_35', 'WestAsia_37', 'SouthEastAsia_38', 'NorthEastAsia_39', 'Oceania_40'])\n",
    "passengers = passengers.rename(columns={'EUCountries_23': 'EU Countries'})\n",
    "\n",
    "# Selecting and cleaning CARGO data\n",
    "# Select the relevant columns for regional data.\n",
    "cargo = clean_scatter_data(data, 2019, ['Airports', 'Periods', 'EUCountries_54', 'OtherEurope_55', 'NorthAfrica_58', 'WestAfrica_59', 'CentralAfrica_60', 'EastAfrica_61', 'SouthAfrica_62', 'NorthAmerica_64', 'CentralAmerica_65', 'SouthAmerica_66', 'WestAsia_68', 'SouthEastAsia_69', 'NorthEastAsia_70', 'Oceania_71'])\n",
    "cargo = cargo.rename(columns = {'EUCountries_54': 'EU Countries'})\n",
    "\n",
    "\n",
    "# # Selecting and cleaning MAIL data\n",
    "# # Select the relevant columns for regional data.\n",
    "mail = clean_scatter_data(data, 2019, ['Airports', 'Periods', \"EUCountries_85\",\"OtherEurope_86\",\"NorthAfrica_89\",\"WestAfrica_90\",\"CentralAfrica_91\",\"EastAfrica_92\",\"SouthAfrica_93\",\"NorthAmerica_95\",\"CentralAmerica_96\",\"SouthAmerica_97\",\"WestAsia_99\",\"SouthEastAsia_100\",\"NorthEastAsia_101\",\"Oceania_102\"])\n",
    "mail = mail.rename(columns={'EUCountries_85': 'EU Countries'})\n",
    "\n",
    "# # Plot both datasets\n",
    "scatter_animation(passengers, title='Passenger Volumes from Dutch Airports').show()\n",
    "scatter_animation(cargo, title='Cargo Volumes from Dutch Airports').show()\n",
    "scatter_animation(mail, title='Mail Volumes from Dutch Airports').show()"
   ]
  },
  {
   "cell_type": "code",
   "execution_count": null,
   "metadata": {},
   "outputs": [],
   "source": []
  }
 ],
 "metadata": {
  "kernelspec": {
   "display_name": "Python 3",
   "language": "python",
   "name": "python3"
  },
  "language_info": {
   "codemirror_mode": {
    "name": "ipython",
    "version": 3
   },
   "file_extension": ".py",
   "mimetype": "text/x-python",
   "name": "python",
   "nbconvert_exporter": "python",
   "pygments_lexer": "ipython3",
   "version": "3.9.17"
  }
 },
 "nbformat": 4,
 "nbformat_minor": 2
}
