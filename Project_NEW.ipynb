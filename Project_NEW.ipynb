{
 "cells": [
  {
   "cell_type": "markdown",
   "id": "2baa9c9a",
   "metadata": {},
   "source": [
    "# The effect of COVID19 on flight behaviour at Dutch airports\n",
    "\n",
    "## Course: TIL6022 Python Programming\n",
    "\n",
    "### Group 7\n",
    "\n",
    "#### Authors: Charlotte van Rijsoort (5400546), Fleur van Steekelenburg (5313066), Romy Lambregts (4881036), Jasper van den Broek (5262887), Konstantina Mountouri (6074170)"
   ]
  },
  {
   "cell_type": "markdown",
   "id": "ab50ed1c",
   "metadata": {},
   "source": [
    "In the past few years, COVID19 took over our lives. It had a huge impact on politics, economics, health and anything else you can come up with. In this assignment, we take a look at this period of time and discuss what the effect of COVID19 was on the flight behaviour at the 5 major Dutch airports. The main focus of the airports is on Schiphol, Rotterdam The Hague Airport, Eindhoven Airport, Maastricht Aachen Airport and Groningen Airport. The type of flights is about passenger, cargo and mail flights."
   ]
  },
  {
   "cell_type": "markdown",
   "id": "17a6affb",
   "metadata": {},
   "source": [
    "##### Import Data"
   ]
  },
  {
   "cell_type": "code",
   "execution_count": 250,
   "id": "a366e883-10ef-4d94-8d02-d36e5b0c2100",
   "metadata": {},
   "outputs": [],
   "source": [
    "import pandas as pd\n",
    "import numpy as np\n",
    "import plotly.express as px\n",
    "import calendar\n",
    "from datetime import datetime\n",
    "import plotly.graph_objects as go\n",
    "from plotly.subplots import make_subplots\n",
    "\n"
   ]
  },
  {
   "cell_type": "code",
   "execution_count": 251,
   "id": "5df9f5e0-5bf9-4fe5-9307-44886da601ff",
   "metadata": {},
   "outputs": [
    {
     "data": {
      "text/html": [
       "<div>\n",
       "<style scoped>\n",
       "    .dataframe tbody tr th:only-of-type {\n",
       "        vertical-align: middle;\n",
       "    }\n",
       "\n",
       "    .dataframe tbody tr th {\n",
       "        vertical-align: top;\n",
       "    }\n",
       "\n",
       "    .dataframe thead th {\n",
       "        text-align: right;\n",
       "    }\n",
       "</style>\n",
       "<table border=\"1\" class=\"dataframe\">\n",
       "  <thead>\n",
       "    <tr style=\"text-align: right;\">\n",
       "      <th></th>\n",
       "      <th>ID</th>\n",
       "      <th>Airports</th>\n",
       "      <th>Periods</th>\n",
       "      <th>CrossCountryFlights_1</th>\n",
       "      <th>LocalFlights_2</th>\n",
       "      <th>Total Flights</th>\n",
       "      <th>Scheduled_4</th>\n",
       "      <th>NonScheduled_5</th>\n",
       "      <th>TotalArrivalsFlights_6</th>\n",
       "      <th>Scheduled_7</th>\n",
       "      <th>...</th>\n",
       "      <th>SouthAfrica_93</th>\n",
       "      <th>America_94</th>\n",
       "      <th>NorthAmerica_95</th>\n",
       "      <th>CentralAmerica_96</th>\n",
       "      <th>SouthAmerica_97</th>\n",
       "      <th>Asia_98</th>\n",
       "      <th>WestAsia_99</th>\n",
       "      <th>SouthEastAsia_100</th>\n",
       "      <th>NorthEastAsia_101</th>\n",
       "      <th>Oceania_102</th>\n",
       "    </tr>\n",
       "  </thead>\n",
       "  <tbody>\n",
       "    <tr>\n",
       "      <th>0</th>\n",
       "      <td>0</td>\n",
       "      <td>TOTAL</td>\n",
       "      <td>1997JJ00</td>\n",
       "      <td>467579</td>\n",
       "      <td>206214</td>\n",
       "      <td>400118</td>\n",
       "      <td>364095</td>\n",
       "      <td>36023</td>\n",
       "      <td>200040</td>\n",
       "      <td>182043</td>\n",
       "      <td>...</td>\n",
       "      <td>.</td>\n",
       "      <td>.</td>\n",
       "      <td>.</td>\n",
       "      <td>.</td>\n",
       "      <td>.</td>\n",
       "      <td>.</td>\n",
       "      <td>.</td>\n",
       "      <td>.</td>\n",
       "      <td>.</td>\n",
       "      <td>.</td>\n",
       "    </tr>\n",
       "    <tr>\n",
       "      <th>1</th>\n",
       "      <td>1</td>\n",
       "      <td>TOTAL</td>\n",
       "      <td>1998JJ00</td>\n",
       "      <td>485852</td>\n",
       "      <td>201265</td>\n",
       "      <td>425608</td>\n",
       "      <td>387560</td>\n",
       "      <td>38048</td>\n",
       "      <td>212751</td>\n",
       "      <td>193792</td>\n",
       "      <td>...</td>\n",
       "      <td>.</td>\n",
       "      <td>.</td>\n",
       "      <td>.</td>\n",
       "      <td>.</td>\n",
       "      <td>.</td>\n",
       "      <td>.</td>\n",
       "      <td>.</td>\n",
       "      <td>.</td>\n",
       "      <td>.</td>\n",
       "      <td>.</td>\n",
       "    </tr>\n",
       "    <tr>\n",
       "      <th>2</th>\n",
       "      <td>2</td>\n",
       "      <td>TOTAL</td>\n",
       "      <td>1999MM01</td>\n",
       "      <td>36810</td>\n",
       "      <td>14868</td>\n",
       "      <td>33145</td>\n",
       "      <td>31222</td>\n",
       "      <td>1923</td>\n",
       "      <td>16565</td>\n",
       "      <td>15616</td>\n",
       "      <td>...</td>\n",
       "      <td>.</td>\n",
       "      <td>.</td>\n",
       "      <td>.</td>\n",
       "      <td>.</td>\n",
       "      <td>.</td>\n",
       "      <td>.</td>\n",
       "      <td>.</td>\n",
       "      <td>.</td>\n",
       "      <td>.</td>\n",
       "      <td>.</td>\n",
       "    </tr>\n",
       "    <tr>\n",
       "      <th>3</th>\n",
       "      <td>3</td>\n",
       "      <td>TOTAL</td>\n",
       "      <td>1999MM02</td>\n",
       "      <td>34356</td>\n",
       "      <td>11314</td>\n",
       "      <td>30912</td>\n",
       "      <td>29015</td>\n",
       "      <td>1897</td>\n",
       "      <td>15444</td>\n",
       "      <td>14513</td>\n",
       "      <td>...</td>\n",
       "      <td>.</td>\n",
       "      <td>.</td>\n",
       "      <td>.</td>\n",
       "      <td>.</td>\n",
       "      <td>.</td>\n",
       "      <td>.</td>\n",
       "      <td>.</td>\n",
       "      <td>.</td>\n",
       "      <td>.</td>\n",
       "      <td>.</td>\n",
       "    </tr>\n",
       "    <tr>\n",
       "      <th>4</th>\n",
       "      <td>4</td>\n",
       "      <td>TOTAL</td>\n",
       "      <td>1999MM03</td>\n",
       "      <td>41290</td>\n",
       "      <td>18152</td>\n",
       "      <td>35591</td>\n",
       "      <td>33278</td>\n",
       "      <td>2313</td>\n",
       "      <td>17802</td>\n",
       "      <td>16644</td>\n",
       "      <td>...</td>\n",
       "      <td>.</td>\n",
       "      <td>.</td>\n",
       "      <td>.</td>\n",
       "      <td>.</td>\n",
       "      <td>.</td>\n",
       "      <td>.</td>\n",
       "      <td>.</td>\n",
       "      <td>.</td>\n",
       "      <td>.</td>\n",
       "      <td>.</td>\n",
       "    </tr>\n",
       "    <tr>\n",
       "      <th>...</th>\n",
       "      <td>...</td>\n",
       "      <td>...</td>\n",
       "      <td>...</td>\n",
       "      <td>...</td>\n",
       "      <td>...</td>\n",
       "      <td>...</td>\n",
       "      <td>...</td>\n",
       "      <td>...</td>\n",
       "      <td>...</td>\n",
       "      <td>...</td>\n",
       "      <td>...</td>\n",
       "      <td>...</td>\n",
       "      <td>...</td>\n",
       "      <td>...</td>\n",
       "      <td>...</td>\n",
       "      <td>...</td>\n",
       "      <td>...</td>\n",
       "      <td>...</td>\n",
       "      <td>...</td>\n",
       "      <td>...</td>\n",
       "      <td>...</td>\n",
       "    </tr>\n",
       "    <tr>\n",
       "      <th>2515</th>\n",
       "      <td>2515</td>\n",
       "      <td>Groningen</td>\n",
       "      <td>2023MM05</td>\n",
       "      <td>1100</td>\n",
       "      <td>4939</td>\n",
       "      <td>126</td>\n",
       "      <td>0</td>\n",
       "      <td>126</td>\n",
       "      <td>56</td>\n",
       "      <td>0</td>\n",
       "      <td>...</td>\n",
       "      <td>0</td>\n",
       "      <td>0</td>\n",
       "      <td>0</td>\n",
       "      <td>0</td>\n",
       "      <td>0</td>\n",
       "      <td>0</td>\n",
       "      <td>0</td>\n",
       "      <td>0</td>\n",
       "      <td>0</td>\n",
       "      <td>0</td>\n",
       "    </tr>\n",
       "    <tr>\n",
       "      <th>2516</th>\n",
       "      <td>2516</td>\n",
       "      <td>Groningen</td>\n",
       "      <td>2023MM06</td>\n",
       "      <td>1194</td>\n",
       "      <td>5484</td>\n",
       "      <td>126</td>\n",
       "      <td>0</td>\n",
       "      <td>126</td>\n",
       "      <td>64</td>\n",
       "      <td>0</td>\n",
       "      <td>...</td>\n",
       "      <td>0</td>\n",
       "      <td>0</td>\n",
       "      <td>0</td>\n",
       "      <td>0</td>\n",
       "      <td>0</td>\n",
       "      <td>0</td>\n",
       "      <td>0</td>\n",
       "      <td>0</td>\n",
       "      <td>0</td>\n",
       "      <td>0</td>\n",
       "    </tr>\n",
       "    <tr>\n",
       "      <th>2517</th>\n",
       "      <td>2517</td>\n",
       "      <td>Groningen</td>\n",
       "      <td>2023KW02</td>\n",
       "      <td>3324</td>\n",
       "      <td>15193</td>\n",
       "      <td>313</td>\n",
       "      <td>0</td>\n",
       "      <td>313</td>\n",
       "      <td>150</td>\n",
       "      <td>0</td>\n",
       "      <td>...</td>\n",
       "      <td>0</td>\n",
       "      <td>0</td>\n",
       "      <td>0</td>\n",
       "      <td>0</td>\n",
       "      <td>0</td>\n",
       "      <td>0</td>\n",
       "      <td>0</td>\n",
       "      <td>0</td>\n",
       "      <td>0</td>\n",
       "      <td>0</td>\n",
       "    </tr>\n",
       "    <tr>\n",
       "      <th>2518</th>\n",
       "      <td>2518</td>\n",
       "      <td>Groningen</td>\n",
       "      <td>2023MM07</td>\n",
       "      <td>1016</td>\n",
       "      <td>4229</td>\n",
       "      <td>126</td>\n",
       "      <td>0</td>\n",
       "      <td>126</td>\n",
       "      <td>62</td>\n",
       "      <td>0</td>\n",
       "      <td>...</td>\n",
       "      <td>0</td>\n",
       "      <td>0</td>\n",
       "      <td>0</td>\n",
       "      <td>0</td>\n",
       "      <td>0</td>\n",
       "      <td>0</td>\n",
       "      <td>0</td>\n",
       "      <td>0</td>\n",
       "      <td>0</td>\n",
       "      <td>0</td>\n",
       "    </tr>\n",
       "    <tr>\n",
       "      <th>2519</th>\n",
       "      <td>2519</td>\n",
       "      <td>Groningen</td>\n",
       "      <td>2023MM08</td>\n",
       "      <td>1045</td>\n",
       "      <td>5272</td>\n",
       "      <td>157</td>\n",
       "      <td>0</td>\n",
       "      <td>157</td>\n",
       "      <td>73</td>\n",
       "      <td>0</td>\n",
       "      <td>...</td>\n",
       "      <td>0</td>\n",
       "      <td>0</td>\n",
       "      <td>0</td>\n",
       "      <td>0</td>\n",
       "      <td>0</td>\n",
       "      <td>0</td>\n",
       "      <td>0</td>\n",
       "      <td>0</td>\n",
       "      <td>0</td>\n",
       "      <td>0</td>\n",
       "    </tr>\n",
       "  </tbody>\n",
       "</table>\n",
       "<p>2520 rows × 105 columns</p>\n",
       "</div>"
      ],
      "text/plain": [
       "        ID   Airports   Periods  CrossCountryFlights_1  LocalFlights_2  \\\n",
       "0        0      TOTAL  1997JJ00                 467579          206214   \n",
       "1        1      TOTAL  1998JJ00                 485852          201265   \n",
       "2        2      TOTAL  1999MM01                  36810           14868   \n",
       "3        3      TOTAL  1999MM02                  34356           11314   \n",
       "4        4      TOTAL  1999MM03                  41290           18152   \n",
       "...    ...        ...       ...                    ...             ...   \n",
       "2515  2515  Groningen  2023MM05                   1100            4939   \n",
       "2516  2516  Groningen  2023MM06                   1194            5484   \n",
       "2517  2517  Groningen  2023KW02                   3324           15193   \n",
       "2518  2518  Groningen  2023MM07                   1016            4229   \n",
       "2519  2519  Groningen  2023MM08                   1045            5272   \n",
       "\n",
       "      Total Flights Scheduled_4  NonScheduled_5  TotalArrivalsFlights_6  \\\n",
       "0            400118      364095           36023                  200040   \n",
       "1            425608      387560           38048                  212751   \n",
       "2             33145       31222            1923                   16565   \n",
       "3             30912       29015            1897                   15444   \n",
       "4             35591       33278            2313                   17802   \n",
       "...             ...         ...             ...                     ...   \n",
       "2515            126           0             126                      56   \n",
       "2516            126           0             126                      64   \n",
       "2517            313           0             313                     150   \n",
       "2518            126           0             126                      62   \n",
       "2519            157           0             157                      73   \n",
       "\n",
       "     Scheduled_7  ...  SouthAfrica_93  America_94 NorthAmerica_95  \\\n",
       "0         182043  ...               .           .               .   \n",
       "1         193792  ...               .           .               .   \n",
       "2          15616  ...               .           .               .   \n",
       "3          14513  ...               .           .               .   \n",
       "4          16644  ...               .           .               .   \n",
       "...          ...  ...             ...         ...             ...   \n",
       "2515           0  ...               0           0               0   \n",
       "2516           0  ...               0           0               0   \n",
       "2517           0  ...               0           0               0   \n",
       "2518           0  ...               0           0               0   \n",
       "2519           0  ...               0           0               0   \n",
       "\n",
       "      CentralAmerica_96  SouthAmerica_97   Asia_98  WestAsia_99  \\\n",
       "0                     .                .         .            .   \n",
       "1                     .                .         .            .   \n",
       "2                     .                .         .            .   \n",
       "3                     .                .         .            .   \n",
       "4                     .                .         .            .   \n",
       "...                 ...              ...       ...          ...   \n",
       "2515                  0                0         0            0   \n",
       "2516                  0                0         0            0   \n",
       "2517                  0                0         0            0   \n",
       "2518                  0                0         0            0   \n",
       "2519                  0                0         0            0   \n",
       "\n",
       "      SouthEastAsia_100 NorthEastAsia_101  Oceania_102  \n",
       "0                     .                 .            .  \n",
       "1                     .                 .            .  \n",
       "2                     .                 .            .  \n",
       "3                     .                 .            .  \n",
       "4                     .                 .            .  \n",
       "...                 ...               ...          ...  \n",
       "2515                  0                 0            0  \n",
       "2516                  0                 0            0  \n",
       "2517                  0                 0            0  \n",
       "2518                  0                 0            0  \n",
       "2519                  0                 0            0  \n",
       "\n",
       "[2520 rows x 105 columns]"
      ]
     },
     "execution_count": 251,
     "metadata": {},
     "output_type": "execute_result"
    }
   ],
   "source": [
    "file_path = '37478eng_UntypedDataSet_09102023_105711.csv'\n",
    "\n",
    "data = pd.read_csv(file_path, delimiter=';')\n",
    "\n",
    "data.loc[ data['Airports'] == 'A045844', 'Airports'] = 'TOTAL'\n",
    "data.loc[ data['Airports'] == 'A043590', 'Airports'] = 'Schiphol'\n",
    "data.loc[ data['Airports'] == 'A043596', 'Airports'] = 'Rotterdam The Hague'\n",
    "data.loc[ data['Airports'] == 'A043591', 'Airports'] = 'Eindhoven'\n",
    "data.loc[ data['Airports'] == 'A043595', 'Airports'] = 'Maastricht Aachen'\n",
    "data.loc[ data['Airports'] == 'A043593', 'Airports'] = 'Groningen'\n",
    "\n",
    "data.set_index('ID')\n",
    "\n",
    "data.rename(columns={\"TotalFlights_3\": \"Total Flights\", \n",
    "                    \"TotalPassengers_12\": \"Total Passengers\",\n",
    "                    \"TotalCargo_43\": \"Total Cargo [tons]\",\n",
    "                    \"TotalMail_74\": \"Total Mail [tons]\",\n",
    "                    \"TotalUnloadedMail_77\": \"Total Unloaded Mail [tons]\",\n",
    "                    \"TotalLoadedMail_80\": \"Total Loaded Mail [tons]\"},\n",
    "            inplace=True)\n",
    "\n",
    "data"
   ]
  },
  {
   "cell_type": "code",
   "execution_count": 252,
   "id": "5aaa9d66-7fa1-4ce2-954a-7b9f6ab9685f",
   "metadata": {},
   "outputs": [],
   "source": [
    "# data_2019 = data.loc[data['Periods'].str.contains('2019MM', case=False)]\n",
    "\n",
    "# print(f'Dataframe shape: {data_2019.shape}')\n",
    "\n",
    "# fig2019 = px.line(data_2019, \n",
    "#                 x = \"Periods\", \n",
    "#                 y = \"Total Flights\",\n",
    "#                 color = \"Airports\",\n",
    "#                 symbol = \"Airports\"\n",
    "#                 )\n",
    "\n",
    "# fig2019.update_layout(\n",
    "#                 title={'text': 'Number of flights per Dutch airport in 2019'},\n",
    "#                 autosize=False,\n",
    "#                 width=1200,\n",
    "#                 height=1000\n",
    "#                 )\n",
    "\n",
    "# fig2019.show()\n"
   ]
  },
  {
   "cell_type": "code",
   "execution_count": 253,
   "id": "662748e7-359f-4f62-aa34-534dc97401a1",
   "metadata": {},
   "outputs": [],
   "source": [
    "# data_2020 = data.loc[data['Periods'].str.contains('2020MM', case=False)]\n",
    "\n",
    "# print(f'Dataframe shape: {data_2020.shape}')\n",
    "\n",
    "# fig2020 = px.line(data_2020, \n",
    "#                 x = \"Periods\", \n",
    "#                 y = \"Total Flights\",\n",
    "#                 color = \"Airports\",\n",
    "#                 symbol = \"Airports\"\n",
    "#                 )\n",
    "\n",
    "# fig2020.update_layout(\n",
    "#                 title={'text': 'Number of flights per Dutch airport in 2020'},\n",
    "#                 autosize=False,\n",
    "#                 width=1200,\n",
    "#                 height=1000\n",
    "#                 )\n",
    "\n",
    "# fig2020.show()"
   ]
  },
  {
   "cell_type": "code",
   "execution_count": 254,
   "id": "49e4d22a",
   "metadata": {},
   "outputs": [],
   "source": [
    "# data_2021 = data.loc[data['Periods'].str.contains('2021MM', case=False)]\n",
    "\n",
    "# print(f'Dataframe shape: {data_2021.shape}')\n",
    "\n",
    "# fig2021 = px.line(data_2021, \n",
    "#                 x = \"Periods\", \n",
    "#                 y = \"Total Flights\",\n",
    "#                 color = \"Airports\",\n",
    "#                 symbol = \"Airports\"\n",
    "#                 )\n",
    "\n",
    "# fig2021.update_layout(\n",
    "#                 title={'text': 'Number of flights per Dutch airport in 2021'},\n",
    "#                 autosize=False,\n",
    "#                 width=1200,\n",
    "#                 height=1000\n",
    "#                 )\n",
    "\n",
    "# fig2021.show()"
   ]
  },
  {
   "cell_type": "code",
   "execution_count": 255,
   "id": "02a72052",
   "metadata": {},
   "outputs": [],
   "source": [
    "# data_2022 = data.loc[data['Periods'].str.contains('2022MM', case=False)]\n",
    "\n",
    "# print(f'Dataframe shape: {data_2022.shape}')\n",
    "\n",
    "# fig2022 = px.line(data_2022, \n",
    "#                 x = \"Periods\", \n",
    "#                 y = \"Total Flights\",\n",
    "#                 color = \"Airports\",\n",
    "#                 symbol = \"Airports\"\n",
    "#                 )\n",
    "\n",
    "# fig2022.update_layout(\n",
    "#                 title={'text': 'Number of flights per Dutch airport in 2022'},\n",
    "#                 autosize=False,\n",
    "#                 width=1200,\n",
    "#                 height=1000\n",
    "#                 )\n",
    "\n",
    "# fig2022.show()"
   ]
  },
  {
   "cell_type": "code",
   "execution_count": 256,
   "id": "acb3f4d7",
   "metadata": {},
   "outputs": [],
   "source": [
    "# data_2023 = data.loc[data['Periods'].str.contains('2023MM', case=False)]\n",
    "\n",
    "# print(f'Dataframe shape: {data_2023.shape}')\n",
    "\n",
    "# fig2023 = px.line(data_2023, \n",
    "#                 x = \"Periods\", \n",
    "#                 y = \"Total Flights\",\n",
    "#                 color = \"Airports\",\n",
    "#                 symbol = \"Airports\"\n",
    "#                 )\n",
    "\n",
    "# fig2023.update_layout(\n",
    "#                 title={'text': 'Number of flights per Dutch airport in 2023'},\n",
    "#                 autosize=False,\n",
    "#                 width=1200,\n",
    "#                 height=1000\n",
    "#                 )\n",
    "\n",
    "# fig2023.show()"
   ]
  },
  {
   "cell_type": "code",
   "execution_count": 257,
   "id": "e54fc02e",
   "metadata": {},
   "outputs": [
    {
     "name": "stdout",
     "output_type": "stream",
     "text": [
      "Dataframe shape: (336, 105)\n"
     ]
    },
    {
     "data": {
      "application/vnd.plotly.v1+json": {
       "config": {
        "plotlyServerURL": "https://plot.ly"
       },
       "data": [
        {
         "hovertemplate": "Airports=TOTAL<br>Periods=%{x}<br>Total Flights=%{y}<extra></extra>",
         "legendgroup": "TOTAL",
         "line": {
          "color": "#636efa",
          "dash": "solid"
         },
         "marker": {
          "symbol": "circle"
         },
         "mode": "lines+markers",
         "name": "TOTAL",
         "orientation": "v",
         "showlegend": true,
         "type": "scatter",
         "x": [
          "2019MM01",
          "2019MM02",
          "2019MM03",
          "2019MM04",
          "2019MM05",
          "2019MM06",
          "2019MM07",
          "2019MM08",
          "2019MM09",
          "2019MM10",
          "2019MM11",
          "2019MM12",
          "2020MM01",
          "2020MM02",
          "2020MM03",
          "2020MM04",
          "2020MM05",
          "2020MM06",
          "2020MM07",
          "2020MM08",
          "2020MM09",
          "2020MM10",
          "2020MM11",
          "2020MM12",
          "2021MM01",
          "2021MM02",
          "2021MM03",
          "2021MM04",
          "2021MM05",
          "2021MM06",
          "2021MM07",
          "2021MM08",
          "2021MM09",
          "2021MM10",
          "2021MM11",
          "2021MM12",
          "2022MM01",
          "2022MM02",
          "2022MM03",
          "2022MM04",
          "2022MM05",
          "2022MM06",
          "2022MM07",
          "2022MM08",
          "2022MM09",
          "2022MM10",
          "2022MM11",
          "2022MM12",
          "2023MM01",
          "2023MM02",
          "2023MM03",
          "2023MM04",
          "2023MM05",
          "2023MM06",
          "2023MM07",
          "2023MM08"
         ],
         "xaxis": "x",
         "y": [
          41285,
          39204,
          44649,
          47934,
          51719,
          50135,
          51786,
          52127,
          51091,
          51135,
          42195,
          42771,
          41768,
          39299,
          28306,
          4759,
          6556,
          9336,
          19701,
          27575,
          25290,
          22028,
          16283,
          17325,
          15907,
          11528,
          13228,
          14891,
          16987,
          21701,
          33916,
          37282,
          35262,
          36465,
          32026,
          33869,
          29604,
          27456,
          34568,
          38824,
          44823,
          43248,
          43218,
          44862,
          43523,
          42909,
          34597,
          34968,
          34322,
          32416,
          38044,
          41609,
          45469,
          44638,
          47556,
          48111
         ],
         "yaxis": "y"
        },
        {
         "hovertemplate": "Airports=Schiphol<br>Periods=%{x}<br>Total Flights=%{y}<extra></extra>",
         "legendgroup": "Schiphol",
         "line": {
          "color": "#EF553B",
          "dash": "solid"
         },
         "marker": {
          "symbol": "diamond"
         },
         "mode": "lines+markers",
         "name": "Schiphol",
         "orientation": "v",
         "showlegend": true,
         "type": "scatter",
         "x": [
          "2019MM01",
          "2019MM02",
          "2019MM03",
          "2019MM04",
          "2019MM05",
          "2019MM06",
          "2019MM07",
          "2019MM08",
          "2019MM09",
          "2019MM10",
          "2019MM11",
          "2019MM12",
          "2020MM01",
          "2020MM02",
          "2020MM03",
          "2020MM04",
          "2020MM05",
          "2020MM06",
          "2020MM07",
          "2020MM08",
          "2020MM09",
          "2020MM10",
          "2020MM11",
          "2020MM12",
          "2021MM01",
          "2021MM02",
          "2021MM03",
          "2021MM04",
          "2021MM05",
          "2021MM06",
          "2021MM07",
          "2021MM08",
          "2021MM09",
          "2021MM10",
          "2021MM11",
          "2021MM12",
          "2022MM01",
          "2022MM02",
          "2022MM03",
          "2022MM04",
          "2022MM05",
          "2022MM06",
          "2022MM07",
          "2022MM08",
          "2022MM09",
          "2022MM10",
          "2022MM11",
          "2022MM12",
          "2023MM01",
          "2023MM02",
          "2023MM03",
          "2023MM04",
          "2023MM05",
          "2023MM06",
          "2023MM07",
          "2023MM08"
         ],
         "xaxis": "x",
         "y": [
          37185,
          35195,
          39785,
          41892,
          44706,
          43348,
          44736,
          45122,
          44131,
          44502,
          37800,
          38425,
          37567,
          34979,
          25155,
          4236,
          5873,
          8108,
          15702,
          23125,
          22162,
          19614,
          14858,
          15896,
          14666,
          10655,
          12217,
          13720,
          15576,
          19195,
          29141,
          31847,
          30019,
          31324,
          28371,
          30225,
          26231,
          24129,
          30382,
          33421,
          38419,
          36919,
          36000,
          37730,
          37027,
          36361,
          30348,
          30669,
          29987,
          28345,
          33128,
          36258,
          39568,
          38912,
          40965,
          41584
         ],
         "yaxis": "y"
        },
        {
         "hovertemplate": "Airports=Rotterdam The Hague<br>Periods=%{x}<br>Total Flights=%{y}<extra></extra>",
         "legendgroup": "Rotterdam The Hague",
         "line": {
          "color": "#00cc96",
          "dash": "solid"
         },
         "marker": {
          "symbol": "square"
         },
         "mode": "lines+markers",
         "name": "Rotterdam The Hague",
         "orientation": "v",
         "showlegend": true,
         "type": "scatter",
         "x": [
          "2019MM01",
          "2019MM02",
          "2019MM03",
          "2019MM04",
          "2019MM05",
          "2019MM06",
          "2019MM07",
          "2019MM08",
          "2019MM09",
          "2019MM10",
          "2019MM11",
          "2019MM12",
          "2020MM01",
          "2020MM02",
          "2020MM03",
          "2020MM04",
          "2020MM05",
          "2020MM06",
          "2020MM07",
          "2020MM08",
          "2020MM09",
          "2020MM10",
          "2020MM11",
          "2020MM12",
          "2021MM01",
          "2021MM02",
          "2021MM03",
          "2021MM04",
          "2021MM05",
          "2021MM06",
          "2021MM07",
          "2021MM08",
          "2021MM09",
          "2021MM10",
          "2021MM11",
          "2021MM12",
          "2022MM01",
          "2022MM02",
          "2022MM03",
          "2022MM04",
          "2022MM05",
          "2022MM06",
          "2022MM07",
          "2022MM08",
          "2022MM09",
          "2022MM10",
          "2022MM11",
          "2022MM12",
          "2023MM01",
          "2023MM02",
          "2023MM03",
          "2023MM04",
          "2023MM05",
          "2023MM06",
          "2023MM07",
          "2023MM08"
         ],
         "xaxis": "x",
         "y": [
          938,
          978,
          1286,
          1556,
          2011,
          1943,
          2039,
          2099,
          1997,
          1771,
          910,
          878,
          963,
          1031,
          748,
          41,
          46,
          168,
          1032,
          1071,
          635,
          353,
          134,
          115,
          181,
          144,
          185,
          195,
          267,
          579,
          1312,
          1516,
          1410,
          1303,
          674,
          541,
          734,
          699,
          989,
          1437,
          1974,
          1858,
          2465,
          2353,
          1927,
          1914,
          1037,
          996,
          1052,
          1108,
          1455,
          1469,
          1851,
          1826,
          2025,
          1962
         ],
         "yaxis": "y"
        },
        {
         "hovertemplate": "Airports=Eindhoven<br>Periods=%{x}<br>Total Flights=%{y}<extra></extra>",
         "legendgroup": "Eindhoven",
         "line": {
          "color": "#ab63fa",
          "dash": "solid"
         },
         "marker": {
          "symbol": "x"
         },
         "mode": "lines+markers",
         "name": "Eindhoven",
         "orientation": "v",
         "showlegend": true,
         "type": "scatter",
         "x": [
          "2019MM01",
          "2019MM02",
          "2019MM03",
          "2019MM04",
          "2019MM05",
          "2019MM06",
          "2019MM07",
          "2019MM08",
          "2019MM09",
          "2019MM10",
          "2019MM11",
          "2019MM12",
          "2020MM01",
          "2020MM02",
          "2020MM03",
          "2020MM04",
          "2020MM05",
          "2020MM06",
          "2020MM07",
          "2020MM08",
          "2020MM09",
          "2020MM10",
          "2020MM11",
          "2020MM12",
          "2021MM01",
          "2021MM02",
          "2021MM03",
          "2021MM04",
          "2021MM05",
          "2021MM06",
          "2021MM07",
          "2021MM08",
          "2021MM09",
          "2021MM10",
          "2021MM11",
          "2021MM12",
          "2022MM01",
          "2022MM02",
          "2022MM03",
          "2022MM04",
          "2022MM05",
          "2022MM06",
          "2022MM07",
          "2022MM08",
          "2022MM09",
          "2022MM10",
          "2022MM11",
          "2022MM12",
          "2023MM01",
          "2023MM02",
          "2023MM03",
          "2023MM04",
          "2023MM05",
          "2023MM06",
          "2023MM07",
          "2023MM08"
         ],
         "xaxis": "x",
         "y": [
          2579,
          2417,
          2854,
          3573,
          3933,
          3836,
          3922,
          3933,
          3913,
          3870,
          2641,
          2738,
          2554,
          2649,
          1888,
          148,
          178,
          565,
          2292,
          2713,
          1947,
          1451,
          721,
          769,
          572,
          169,
          226,
          373,
          562,
          1428,
          2779,
          3245,
          3112,
          3097,
          2390,
          2571,
          2133,
          2151,
          2700,
          3390,
          3768,
          3724,
          3909,
          3948,
          3800,
          3935,
          2683,
          2838,
          2843,
          2565,
          2970,
          3495,
          3864,
          3774,
          3915,
          3929
         ],
         "yaxis": "y"
        },
        {
         "hovertemplate": "Airports=Maastricht Aachen<br>Periods=%{x}<br>Total Flights=%{y}<extra></extra>",
         "legendgroup": "Maastricht Aachen",
         "line": {
          "color": "#FFA15A",
          "dash": "solid"
         },
         "marker": {
          "symbol": "cross"
         },
         "mode": "lines+markers",
         "name": "Maastricht Aachen",
         "orientation": "v",
         "showlegend": true,
         "type": "scatter",
         "x": [
          "2019MM01",
          "2019MM02",
          "2019MM03",
          "2019MM04",
          "2019MM05",
          "2019MM06",
          "2019MM07",
          "2019MM08",
          "2019MM09",
          "2019MM10",
          "2019MM11",
          "2019MM12",
          "2020MM01",
          "2020MM02",
          "2020MM03",
          "2020MM04",
          "2020MM05",
          "2020MM06",
          "2020MM07",
          "2020MM08",
          "2020MM09",
          "2020MM10",
          "2020MM11",
          "2020MM12",
          "2021MM01",
          "2021MM02",
          "2021MM03",
          "2021MM04",
          "2021MM05",
          "2021MM06",
          "2021MM07",
          "2021MM08",
          "2021MM09",
          "2021MM10",
          "2021MM11",
          "2021MM12",
          "2022MM01",
          "2022MM02",
          "2022MM03",
          "2022MM04",
          "2022MM05",
          "2022MM06",
          "2022MM07",
          "2022MM08",
          "2022MM09",
          "2022MM10",
          "2022MM11",
          "2022MM12",
          "2023MM01",
          "2023MM02",
          "2023MM03",
          "2023MM04",
          "2023MM05",
          "2023MM06",
          "2023MM07",
          "2023MM08"
         ],
         "xaxis": "x",
         "y": [
          413,
          456,
          454,
          622,
          723,
          678,
          808,
          713,
          641,
          616,
          564,
          511,
          474,
          476,
          485,
          329,
          452,
          489,
          621,
          615,
          516,
          587,
          548,
          535,
          468,
          537,
          560,
          563,
          555,
          460,
          583,
          600,
          623,
          656,
          523,
          473,
          431,
          398,
          434,
          514,
          542,
          599,
          712,
          696,
          640,
          587,
          460,
          396,
          376,
          331,
          423,
          326,
          60,
          0,
          525,
          479
         ],
         "yaxis": "y"
        },
        {
         "hovertemplate": "Airports=Groningen<br>Periods=%{x}<br>Total Flights=%{y}<extra></extra>",
         "legendgroup": "Groningen",
         "line": {
          "color": "#19d3f3",
          "dash": "solid"
         },
         "marker": {
          "symbol": "circle"
         },
         "mode": "lines+markers",
         "name": "Groningen",
         "orientation": "v",
         "showlegend": true,
         "type": "scatter",
         "x": [
          "2019MM01",
          "2019MM02",
          "2019MM03",
          "2019MM04",
          "2019MM05",
          "2019MM06",
          "2019MM07",
          "2019MM08",
          "2019MM09",
          "2019MM10",
          "2019MM11",
          "2019MM12",
          "2020MM01",
          "2020MM02",
          "2020MM03",
          "2020MM04",
          "2020MM05",
          "2020MM06",
          "2020MM07",
          "2020MM08",
          "2020MM09",
          "2020MM10",
          "2020MM11",
          "2020MM12",
          "2021MM01",
          "2021MM02",
          "2021MM03",
          "2021MM04",
          "2021MM05",
          "2021MM06",
          "2021MM07",
          "2021MM08",
          "2021MM09",
          "2021MM10",
          "2021MM11",
          "2021MM12",
          "2022MM01",
          "2022MM02",
          "2022MM03",
          "2022MM04",
          "2022MM05",
          "2022MM06",
          "2022MM07",
          "2022MM08",
          "2022MM09",
          "2022MM10",
          "2022MM11",
          "2022MM12",
          "2023MM01",
          "2023MM02",
          "2023MM03",
          "2023MM04",
          "2023MM05",
          "2023MM06",
          "2023MM07",
          "2023MM08"
         ],
         "xaxis": "x",
         "y": [
          170,
          158,
          270,
          291,
          346,
          330,
          281,
          260,
          409,
          376,
          280,
          219,
          210,
          164,
          30,
          5,
          7,
          6,
          54,
          51,
          30,
          23,
          22,
          10,
          20,
          23,
          40,
          40,
          27,
          39,
          101,
          74,
          98,
          85,
          68,
          59,
          75,
          79,
          63,
          62,
          120,
          148,
          132,
          135,
          129,
          112,
          69,
          69,
          64,
          67,
          68,
          61,
          126,
          126,
          126,
          157
         ],
         "yaxis": "y"
        }
       ],
       "layout": {
        "height": 600,
        "legend": {
         "title": {
          "text": "Airports"
         },
         "tracegroupgap": 0
        },
        "margin": {
         "t": 60
        },
        "template": {
         "data": {
          "bar": [
           {
            "error_x": {
             "color": "#2a3f5f"
            },
            "error_y": {
             "color": "#2a3f5f"
            },
            "marker": {
             "line": {
              "color": "#E5ECF6",
              "width": 0.5
             },
             "pattern": {
              "fillmode": "overlay",
              "size": 10,
              "solidity": 0.2
             }
            },
            "type": "bar"
           }
          ],
          "barpolar": [
           {
            "marker": {
             "line": {
              "color": "#E5ECF6",
              "width": 0.5
             },
             "pattern": {
              "fillmode": "overlay",
              "size": 10,
              "solidity": 0.2
             }
            },
            "type": "barpolar"
           }
          ],
          "carpet": [
           {
            "aaxis": {
             "endlinecolor": "#2a3f5f",
             "gridcolor": "white",
             "linecolor": "white",
             "minorgridcolor": "white",
             "startlinecolor": "#2a3f5f"
            },
            "baxis": {
             "endlinecolor": "#2a3f5f",
             "gridcolor": "white",
             "linecolor": "white",
             "minorgridcolor": "white",
             "startlinecolor": "#2a3f5f"
            },
            "type": "carpet"
           }
          ],
          "choropleth": [
           {
            "colorbar": {
             "outlinewidth": 0,
             "ticks": ""
            },
            "type": "choropleth"
           }
          ],
          "contour": [
           {
            "colorbar": {
             "outlinewidth": 0,
             "ticks": ""
            },
            "colorscale": [
             [
              0,
              "#0d0887"
             ],
             [
              0.1111111111111111,
              "#46039f"
             ],
             [
              0.2222222222222222,
              "#7201a8"
             ],
             [
              0.3333333333333333,
              "#9c179e"
             ],
             [
              0.4444444444444444,
              "#bd3786"
             ],
             [
              0.5555555555555556,
              "#d8576b"
             ],
             [
              0.6666666666666666,
              "#ed7953"
             ],
             [
              0.7777777777777778,
              "#fb9f3a"
             ],
             [
              0.8888888888888888,
              "#fdca26"
             ],
             [
              1,
              "#f0f921"
             ]
            ],
            "type": "contour"
           }
          ],
          "contourcarpet": [
           {
            "colorbar": {
             "outlinewidth": 0,
             "ticks": ""
            },
            "type": "contourcarpet"
           }
          ],
          "heatmap": [
           {
            "colorbar": {
             "outlinewidth": 0,
             "ticks": ""
            },
            "colorscale": [
             [
              0,
              "#0d0887"
             ],
             [
              0.1111111111111111,
              "#46039f"
             ],
             [
              0.2222222222222222,
              "#7201a8"
             ],
             [
              0.3333333333333333,
              "#9c179e"
             ],
             [
              0.4444444444444444,
              "#bd3786"
             ],
             [
              0.5555555555555556,
              "#d8576b"
             ],
             [
              0.6666666666666666,
              "#ed7953"
             ],
             [
              0.7777777777777778,
              "#fb9f3a"
             ],
             [
              0.8888888888888888,
              "#fdca26"
             ],
             [
              1,
              "#f0f921"
             ]
            ],
            "type": "heatmap"
           }
          ],
          "heatmapgl": [
           {
            "colorbar": {
             "outlinewidth": 0,
             "ticks": ""
            },
            "colorscale": [
             [
              0,
              "#0d0887"
             ],
             [
              0.1111111111111111,
              "#46039f"
             ],
             [
              0.2222222222222222,
              "#7201a8"
             ],
             [
              0.3333333333333333,
              "#9c179e"
             ],
             [
              0.4444444444444444,
              "#bd3786"
             ],
             [
              0.5555555555555556,
              "#d8576b"
             ],
             [
              0.6666666666666666,
              "#ed7953"
             ],
             [
              0.7777777777777778,
              "#fb9f3a"
             ],
             [
              0.8888888888888888,
              "#fdca26"
             ],
             [
              1,
              "#f0f921"
             ]
            ],
            "type": "heatmapgl"
           }
          ],
          "histogram": [
           {
            "marker": {
             "pattern": {
              "fillmode": "overlay",
              "size": 10,
              "solidity": 0.2
             }
            },
            "type": "histogram"
           }
          ],
          "histogram2d": [
           {
            "colorbar": {
             "outlinewidth": 0,
             "ticks": ""
            },
            "colorscale": [
             [
              0,
              "#0d0887"
             ],
             [
              0.1111111111111111,
              "#46039f"
             ],
             [
              0.2222222222222222,
              "#7201a8"
             ],
             [
              0.3333333333333333,
              "#9c179e"
             ],
             [
              0.4444444444444444,
              "#bd3786"
             ],
             [
              0.5555555555555556,
              "#d8576b"
             ],
             [
              0.6666666666666666,
              "#ed7953"
             ],
             [
              0.7777777777777778,
              "#fb9f3a"
             ],
             [
              0.8888888888888888,
              "#fdca26"
             ],
             [
              1,
              "#f0f921"
             ]
            ],
            "type": "histogram2d"
           }
          ],
          "histogram2dcontour": [
           {
            "colorbar": {
             "outlinewidth": 0,
             "ticks": ""
            },
            "colorscale": [
             [
              0,
              "#0d0887"
             ],
             [
              0.1111111111111111,
              "#46039f"
             ],
             [
              0.2222222222222222,
              "#7201a8"
             ],
             [
              0.3333333333333333,
              "#9c179e"
             ],
             [
              0.4444444444444444,
              "#bd3786"
             ],
             [
              0.5555555555555556,
              "#d8576b"
             ],
             [
              0.6666666666666666,
              "#ed7953"
             ],
             [
              0.7777777777777778,
              "#fb9f3a"
             ],
             [
              0.8888888888888888,
              "#fdca26"
             ],
             [
              1,
              "#f0f921"
             ]
            ],
            "type": "histogram2dcontour"
           }
          ],
          "mesh3d": [
           {
            "colorbar": {
             "outlinewidth": 0,
             "ticks": ""
            },
            "type": "mesh3d"
           }
          ],
          "parcoords": [
           {
            "line": {
             "colorbar": {
              "outlinewidth": 0,
              "ticks": ""
             }
            },
            "type": "parcoords"
           }
          ],
          "pie": [
           {
            "automargin": true,
            "type": "pie"
           }
          ],
          "scatter": [
           {
            "fillpattern": {
             "fillmode": "overlay",
             "size": 10,
             "solidity": 0.2
            },
            "type": "scatter"
           }
          ],
          "scatter3d": [
           {
            "line": {
             "colorbar": {
              "outlinewidth": 0,
              "ticks": ""
             }
            },
            "marker": {
             "colorbar": {
              "outlinewidth": 0,
              "ticks": ""
             }
            },
            "type": "scatter3d"
           }
          ],
          "scattercarpet": [
           {
            "marker": {
             "colorbar": {
              "outlinewidth": 0,
              "ticks": ""
             }
            },
            "type": "scattercarpet"
           }
          ],
          "scattergeo": [
           {
            "marker": {
             "colorbar": {
              "outlinewidth": 0,
              "ticks": ""
             }
            },
            "type": "scattergeo"
           }
          ],
          "scattergl": [
           {
            "marker": {
             "colorbar": {
              "outlinewidth": 0,
              "ticks": ""
             }
            },
            "type": "scattergl"
           }
          ],
          "scattermapbox": [
           {
            "marker": {
             "colorbar": {
              "outlinewidth": 0,
              "ticks": ""
             }
            },
            "type": "scattermapbox"
           }
          ],
          "scatterpolar": [
           {
            "marker": {
             "colorbar": {
              "outlinewidth": 0,
              "ticks": ""
             }
            },
            "type": "scatterpolar"
           }
          ],
          "scatterpolargl": [
           {
            "marker": {
             "colorbar": {
              "outlinewidth": 0,
              "ticks": ""
             }
            },
            "type": "scatterpolargl"
           }
          ],
          "scatterternary": [
           {
            "marker": {
             "colorbar": {
              "outlinewidth": 0,
              "ticks": ""
             }
            },
            "type": "scatterternary"
           }
          ],
          "surface": [
           {
            "colorbar": {
             "outlinewidth": 0,
             "ticks": ""
            },
            "colorscale": [
             [
              0,
              "#0d0887"
             ],
             [
              0.1111111111111111,
              "#46039f"
             ],
             [
              0.2222222222222222,
              "#7201a8"
             ],
             [
              0.3333333333333333,
              "#9c179e"
             ],
             [
              0.4444444444444444,
              "#bd3786"
             ],
             [
              0.5555555555555556,
              "#d8576b"
             ],
             [
              0.6666666666666666,
              "#ed7953"
             ],
             [
              0.7777777777777778,
              "#fb9f3a"
             ],
             [
              0.8888888888888888,
              "#fdca26"
             ],
             [
              1,
              "#f0f921"
             ]
            ],
            "type": "surface"
           }
          ],
          "table": [
           {
            "cells": {
             "fill": {
              "color": "#EBF0F8"
             },
             "line": {
              "color": "white"
             }
            },
            "header": {
             "fill": {
              "color": "#C8D4E3"
             },
             "line": {
              "color": "white"
             }
            },
            "type": "table"
           }
          ]
         },
         "layout": {
          "annotationdefaults": {
           "arrowcolor": "#2a3f5f",
           "arrowhead": 0,
           "arrowwidth": 1
          },
          "autotypenumbers": "strict",
          "coloraxis": {
           "colorbar": {
            "outlinewidth": 0,
            "ticks": ""
           }
          },
          "colorscale": {
           "diverging": [
            [
             0,
             "#8e0152"
            ],
            [
             0.1,
             "#c51b7d"
            ],
            [
             0.2,
             "#de77ae"
            ],
            [
             0.3,
             "#f1b6da"
            ],
            [
             0.4,
             "#fde0ef"
            ],
            [
             0.5,
             "#f7f7f7"
            ],
            [
             0.6,
             "#e6f5d0"
            ],
            [
             0.7,
             "#b8e186"
            ],
            [
             0.8,
             "#7fbc41"
            ],
            [
             0.9,
             "#4d9221"
            ],
            [
             1,
             "#276419"
            ]
           ],
           "sequential": [
            [
             0,
             "#0d0887"
            ],
            [
             0.1111111111111111,
             "#46039f"
            ],
            [
             0.2222222222222222,
             "#7201a8"
            ],
            [
             0.3333333333333333,
             "#9c179e"
            ],
            [
             0.4444444444444444,
             "#bd3786"
            ],
            [
             0.5555555555555556,
             "#d8576b"
            ],
            [
             0.6666666666666666,
             "#ed7953"
            ],
            [
             0.7777777777777778,
             "#fb9f3a"
            ],
            [
             0.8888888888888888,
             "#fdca26"
            ],
            [
             1,
             "#f0f921"
            ]
           ],
           "sequentialminus": [
            [
             0,
             "#0d0887"
            ],
            [
             0.1111111111111111,
             "#46039f"
            ],
            [
             0.2222222222222222,
             "#7201a8"
            ],
            [
             0.3333333333333333,
             "#9c179e"
            ],
            [
             0.4444444444444444,
             "#bd3786"
            ],
            [
             0.5555555555555556,
             "#d8576b"
            ],
            [
             0.6666666666666666,
             "#ed7953"
            ],
            [
             0.7777777777777778,
             "#fb9f3a"
            ],
            [
             0.8888888888888888,
             "#fdca26"
            ],
            [
             1,
             "#f0f921"
            ]
           ]
          },
          "colorway": [
           "#636efa",
           "#EF553B",
           "#00cc96",
           "#ab63fa",
           "#FFA15A",
           "#19d3f3",
           "#FF6692",
           "#B6E880",
           "#FF97FF",
           "#FECB52"
          ],
          "font": {
           "color": "#2a3f5f"
          },
          "geo": {
           "bgcolor": "white",
           "lakecolor": "white",
           "landcolor": "#E5ECF6",
           "showlakes": true,
           "showland": true,
           "subunitcolor": "white"
          },
          "hoverlabel": {
           "align": "left"
          },
          "hovermode": "closest",
          "mapbox": {
           "style": "light"
          },
          "paper_bgcolor": "white",
          "plot_bgcolor": "#E5ECF6",
          "polar": {
           "angularaxis": {
            "gridcolor": "white",
            "linecolor": "white",
            "ticks": ""
           },
           "bgcolor": "#E5ECF6",
           "radialaxis": {
            "gridcolor": "white",
            "linecolor": "white",
            "ticks": ""
           }
          },
          "scene": {
           "xaxis": {
            "backgroundcolor": "#E5ECF6",
            "gridcolor": "white",
            "gridwidth": 2,
            "linecolor": "white",
            "showbackground": true,
            "ticks": "",
            "zerolinecolor": "white"
           },
           "yaxis": {
            "backgroundcolor": "#E5ECF6",
            "gridcolor": "white",
            "gridwidth": 2,
            "linecolor": "white",
            "showbackground": true,
            "ticks": "",
            "zerolinecolor": "white"
           },
           "zaxis": {
            "backgroundcolor": "#E5ECF6",
            "gridcolor": "white",
            "gridwidth": 2,
            "linecolor": "white",
            "showbackground": true,
            "ticks": "",
            "zerolinecolor": "white"
           }
          },
          "shapedefaults": {
           "line": {
            "color": "#2a3f5f"
           }
          },
          "ternary": {
           "aaxis": {
            "gridcolor": "white",
            "linecolor": "white",
            "ticks": ""
           },
           "baxis": {
            "gridcolor": "white",
            "linecolor": "white",
            "ticks": ""
           },
           "bgcolor": "#E5ECF6",
           "caxis": {
            "gridcolor": "white",
            "linecolor": "white",
            "ticks": ""
           }
          },
          "title": {
           "x": 0.05
          },
          "xaxis": {
           "automargin": true,
           "gridcolor": "white",
           "linecolor": "white",
           "ticks": "",
           "title": {
            "standoff": 15
           },
           "zerolinecolor": "white",
           "zerolinewidth": 2
          },
          "yaxis": {
           "automargin": true,
           "gridcolor": "white",
           "linecolor": "white",
           "ticks": "",
           "title": {
            "standoff": 15
           },
           "zerolinecolor": "white",
           "zerolinewidth": 2
          }
         }
        },
        "title": {
         "text": "Number of total flights per Dutch airport between 2019 and 2023"
        },
        "xaxis": {
         "anchor": "y",
         "domain": [
          0,
          1
         ],
         "title": {
          "text": "Periods"
         }
        },
        "yaxis": {
         "anchor": "x",
         "domain": [
          0,
          1
         ],
         "title": {
          "text": "Total Flights"
         }
        }
       }
      }
     },
     "metadata": {},
     "output_type": "display_data"
    }
   ],
   "source": [
    "data_total = data.loc[data['Periods'].str.contains('2019MM|2020MM|2021MM|2022MM|2023MM', case=False, regex=True)]\n",
    "\n",
    "print(f'Dataframe shape: {data_total.shape}')\n",
    "\n",
    "figtotal = px.line(data_total, \n",
    "                x = \"Periods\", \n",
    "                y = \"Total Flights\",\n",
    "                color = \"Airports\",\n",
    "                symbol = \"Airports\",\n",
    "                # log_y=True\n",
    "                )\n",
    "\n",
    "figtotal.update_layout(\n",
    "                title={'text': 'Number of total flights per Dutch airport between 2019 and 2023'},\n",
    "                height=600,\n",
    "                # showlegend=False\n",
    "                )\n",
    "\n",
    "figtotal.show()"
   ]
  },
  {
   "cell_type": "code",
   "execution_count": 265,
   "id": "fe6422bf",
   "metadata": {},
   "outputs": [
    {
     "name": "stdout",
     "output_type": "stream",
     "text": [
      "Dataframe shape: (56, 105)\n"
     ]
    },
    {
     "data": {
      "application/vnd.plotly.v1+json": {
       "config": {
        "plotlyServerURL": "https://plot.ly"
       },
       "data": [
        {
         "hovertemplate": "Type of mail=Total Unloaded Mail [tons]<br>Period=%{x}<br>Amount of mail in [tons]=%{y}<extra></extra>",
         "legendgroup": "Total Unloaded Mail [tons]",
         "line": {
          "color": "#636efa",
          "dash": "solid"
         },
         "marker": {
          "symbol": "circle"
         },
         "mode": "lines",
         "name": "Total Unloaded Mail [tons]",
         "orientation": "v",
         "showlegend": true,
         "type": "scatter",
         "x": [
          "2019MM01",
          "2019MM02",
          "2019MM03",
          "2019MM04",
          "2019MM05",
          "2019MM06",
          "2019MM07",
          "2019MM08",
          "2019MM09",
          "2019MM10",
          "2019MM11",
          "2019MM12",
          "2020MM01",
          "2020MM02",
          "2020MM03",
          "2020MM04",
          "2020MM05",
          "2020MM06",
          "2020MM07",
          "2020MM08",
          "2020MM09",
          "2020MM10",
          "2020MM11",
          "2020MM12",
          "2021MM01",
          "2021MM02",
          "2021MM03",
          "2021MM04",
          "2021MM05",
          "2021MM06",
          "2021MM07",
          "2021MM08",
          "2021MM09",
          "2021MM10",
          "2021MM11",
          "2021MM12",
          "2022MM01",
          "2022MM02",
          "2022MM03",
          "2022MM04",
          "2022MM05",
          "2022MM06",
          "2022MM07",
          "2022MM08",
          "2022MM09",
          "2022MM10",
          "2022MM11",
          "2022MM12",
          "2023MM01",
          "2023MM02",
          "2023MM03",
          "2023MM04",
          "2023MM05",
          "2023MM06",
          "2023MM07",
          "2023MM08"
         ],
         "xaxis": "x",
         "y": [
          "     560",
          "     485",
          "     705",
          "     707",
          "     796",
          "     722",
          "     797",
          "     723",
          "     735",
          "     824",
          "     883",
          "     958",
          "     777",
          "     602",
          "     511",
          "      91",
          "     161",
          "     313",
          "     403",
          "     461",
          "     522",
          "     651",
          "     696",
          "     923",
          "     692",
          "     563",
          "     732",
          "     650",
          "     633",
          "     581",
          "     484",
          "     538",
          "     534",
          "     579",
          "     495",
          "     603",
          "     440",
          "     445",
          "     452",
          "     375",
          "     349",
          "     340",
          "     303",
          "     305",
          "     260",
          "     216",
          "     213",
          "     339",
          "     260",
          "     221",
          "     217",
          "     190",
          "     204",
          "     199",
          "     181",
          "     225"
         ],
         "yaxis": "y"
        },
        {
         "hovertemplate": "Type of mail=Total Loaded Mail [tons]<br>Period=%{x}<br>Amount of mail in [tons]=%{y}<extra></extra>",
         "legendgroup": "Total Loaded Mail [tons]",
         "line": {
          "color": "#EF553B",
          "dash": "solid"
         },
         "marker": {
          "symbol": "circle"
         },
         "mode": "lines",
         "name": "Total Loaded Mail [tons]",
         "orientation": "v",
         "showlegend": true,
         "type": "scatter",
         "x": [
          "2019MM01",
          "2019MM02",
          "2019MM03",
          "2019MM04",
          "2019MM05",
          "2019MM06",
          "2019MM07",
          "2019MM08",
          "2019MM09",
          "2019MM10",
          "2019MM11",
          "2019MM12",
          "2020MM01",
          "2020MM02",
          "2020MM03",
          "2020MM04",
          "2020MM05",
          "2020MM06",
          "2020MM07",
          "2020MM08",
          "2020MM09",
          "2020MM10",
          "2020MM11",
          "2020MM12",
          "2021MM01",
          "2021MM02",
          "2021MM03",
          "2021MM04",
          "2021MM05",
          "2021MM06",
          "2021MM07",
          "2021MM08",
          "2021MM09",
          "2021MM10",
          "2021MM11",
          "2021MM12",
          "2022MM01",
          "2022MM02",
          "2022MM03",
          "2022MM04",
          "2022MM05",
          "2022MM06",
          "2022MM07",
          "2022MM08",
          "2022MM09",
          "2022MM10",
          "2022MM11",
          "2022MM12",
          "2023MM01",
          "2023MM02",
          "2023MM03",
          "2023MM04",
          "2023MM05",
          "2023MM06",
          "2023MM07",
          "2023MM08"
         ],
         "xaxis": "x",
         "y": [
          "    1055",
          "     913",
          "    1056",
          "    1040",
          "    1064",
          "    1014",
          "    1078",
          "    1051",
          "    1012",
          "    1149",
          "    1250",
          "    1381",
          "    1131",
          "     890",
          "     656",
          "     290",
          "     381",
          "     542",
          "     681",
          "     822",
          "     729",
          "     871",
          "     815",
          "     913",
          "     711",
          "     546",
          "     647",
          "     608",
          "     590",
          "     547",
          "     494",
          "     511",
          "     468",
          "     461",
          "     447",
          "     435",
          "     387",
          "     378",
          "     366",
          "     313",
          "     336",
          "     327",
          "     280",
          "     244",
          "     278",
          "     249",
          "     248",
          "     268",
          "     218",
          "     219",
          "     240",
          "     240",
          "     267",
          "     248",
          "     226",
          "     229"
         ],
         "yaxis": "y"
        }
       ],
       "layout": {
        "height": 600,
        "legend": {
         "title": {
          "text": "Type of mail"
         },
         "tracegroupgap": 0
        },
        "margin": {
         "t": 60
        },
        "template": {
         "data": {
          "bar": [
           {
            "error_x": {
             "color": "#2a3f5f"
            },
            "error_y": {
             "color": "#2a3f5f"
            },
            "marker": {
             "line": {
              "color": "#E5ECF6",
              "width": 0.5
             },
             "pattern": {
              "fillmode": "overlay",
              "size": 10,
              "solidity": 0.2
             }
            },
            "type": "bar"
           }
          ],
          "barpolar": [
           {
            "marker": {
             "line": {
              "color": "#E5ECF6",
              "width": 0.5
             },
             "pattern": {
              "fillmode": "overlay",
              "size": 10,
              "solidity": 0.2
             }
            },
            "type": "barpolar"
           }
          ],
          "carpet": [
           {
            "aaxis": {
             "endlinecolor": "#2a3f5f",
             "gridcolor": "white",
             "linecolor": "white",
             "minorgridcolor": "white",
             "startlinecolor": "#2a3f5f"
            },
            "baxis": {
             "endlinecolor": "#2a3f5f",
             "gridcolor": "white",
             "linecolor": "white",
             "minorgridcolor": "white",
             "startlinecolor": "#2a3f5f"
            },
            "type": "carpet"
           }
          ],
          "choropleth": [
           {
            "colorbar": {
             "outlinewidth": 0,
             "ticks": ""
            },
            "type": "choropleth"
           }
          ],
          "contour": [
           {
            "colorbar": {
             "outlinewidth": 0,
             "ticks": ""
            },
            "colorscale": [
             [
              0,
              "#0d0887"
             ],
             [
              0.1111111111111111,
              "#46039f"
             ],
             [
              0.2222222222222222,
              "#7201a8"
             ],
             [
              0.3333333333333333,
              "#9c179e"
             ],
             [
              0.4444444444444444,
              "#bd3786"
             ],
             [
              0.5555555555555556,
              "#d8576b"
             ],
             [
              0.6666666666666666,
              "#ed7953"
             ],
             [
              0.7777777777777778,
              "#fb9f3a"
             ],
             [
              0.8888888888888888,
              "#fdca26"
             ],
             [
              1,
              "#f0f921"
             ]
            ],
            "type": "contour"
           }
          ],
          "contourcarpet": [
           {
            "colorbar": {
             "outlinewidth": 0,
             "ticks": ""
            },
            "type": "contourcarpet"
           }
          ],
          "heatmap": [
           {
            "colorbar": {
             "outlinewidth": 0,
             "ticks": ""
            },
            "colorscale": [
             [
              0,
              "#0d0887"
             ],
             [
              0.1111111111111111,
              "#46039f"
             ],
             [
              0.2222222222222222,
              "#7201a8"
             ],
             [
              0.3333333333333333,
              "#9c179e"
             ],
             [
              0.4444444444444444,
              "#bd3786"
             ],
             [
              0.5555555555555556,
              "#d8576b"
             ],
             [
              0.6666666666666666,
              "#ed7953"
             ],
             [
              0.7777777777777778,
              "#fb9f3a"
             ],
             [
              0.8888888888888888,
              "#fdca26"
             ],
             [
              1,
              "#f0f921"
             ]
            ],
            "type": "heatmap"
           }
          ],
          "heatmapgl": [
           {
            "colorbar": {
             "outlinewidth": 0,
             "ticks": ""
            },
            "colorscale": [
             [
              0,
              "#0d0887"
             ],
             [
              0.1111111111111111,
              "#46039f"
             ],
             [
              0.2222222222222222,
              "#7201a8"
             ],
             [
              0.3333333333333333,
              "#9c179e"
             ],
             [
              0.4444444444444444,
              "#bd3786"
             ],
             [
              0.5555555555555556,
              "#d8576b"
             ],
             [
              0.6666666666666666,
              "#ed7953"
             ],
             [
              0.7777777777777778,
              "#fb9f3a"
             ],
             [
              0.8888888888888888,
              "#fdca26"
             ],
             [
              1,
              "#f0f921"
             ]
            ],
            "type": "heatmapgl"
           }
          ],
          "histogram": [
           {
            "marker": {
             "pattern": {
              "fillmode": "overlay",
              "size": 10,
              "solidity": 0.2
             }
            },
            "type": "histogram"
           }
          ],
          "histogram2d": [
           {
            "colorbar": {
             "outlinewidth": 0,
             "ticks": ""
            },
            "colorscale": [
             [
              0,
              "#0d0887"
             ],
             [
              0.1111111111111111,
              "#46039f"
             ],
             [
              0.2222222222222222,
              "#7201a8"
             ],
             [
              0.3333333333333333,
              "#9c179e"
             ],
             [
              0.4444444444444444,
              "#bd3786"
             ],
             [
              0.5555555555555556,
              "#d8576b"
             ],
             [
              0.6666666666666666,
              "#ed7953"
             ],
             [
              0.7777777777777778,
              "#fb9f3a"
             ],
             [
              0.8888888888888888,
              "#fdca26"
             ],
             [
              1,
              "#f0f921"
             ]
            ],
            "type": "histogram2d"
           }
          ],
          "histogram2dcontour": [
           {
            "colorbar": {
             "outlinewidth": 0,
             "ticks": ""
            },
            "colorscale": [
             [
              0,
              "#0d0887"
             ],
             [
              0.1111111111111111,
              "#46039f"
             ],
             [
              0.2222222222222222,
              "#7201a8"
             ],
             [
              0.3333333333333333,
              "#9c179e"
             ],
             [
              0.4444444444444444,
              "#bd3786"
             ],
             [
              0.5555555555555556,
              "#d8576b"
             ],
             [
              0.6666666666666666,
              "#ed7953"
             ],
             [
              0.7777777777777778,
              "#fb9f3a"
             ],
             [
              0.8888888888888888,
              "#fdca26"
             ],
             [
              1,
              "#f0f921"
             ]
            ],
            "type": "histogram2dcontour"
           }
          ],
          "mesh3d": [
           {
            "colorbar": {
             "outlinewidth": 0,
             "ticks": ""
            },
            "type": "mesh3d"
           }
          ],
          "parcoords": [
           {
            "line": {
             "colorbar": {
              "outlinewidth": 0,
              "ticks": ""
             }
            },
            "type": "parcoords"
           }
          ],
          "pie": [
           {
            "automargin": true,
            "type": "pie"
           }
          ],
          "scatter": [
           {
            "fillpattern": {
             "fillmode": "overlay",
             "size": 10,
             "solidity": 0.2
            },
            "type": "scatter"
           }
          ],
          "scatter3d": [
           {
            "line": {
             "colorbar": {
              "outlinewidth": 0,
              "ticks": ""
             }
            },
            "marker": {
             "colorbar": {
              "outlinewidth": 0,
              "ticks": ""
             }
            },
            "type": "scatter3d"
           }
          ],
          "scattercarpet": [
           {
            "marker": {
             "colorbar": {
              "outlinewidth": 0,
              "ticks": ""
             }
            },
            "type": "scattercarpet"
           }
          ],
          "scattergeo": [
           {
            "marker": {
             "colorbar": {
              "outlinewidth": 0,
              "ticks": ""
             }
            },
            "type": "scattergeo"
           }
          ],
          "scattergl": [
           {
            "marker": {
             "colorbar": {
              "outlinewidth": 0,
              "ticks": ""
             }
            },
            "type": "scattergl"
           }
          ],
          "scattermapbox": [
           {
            "marker": {
             "colorbar": {
              "outlinewidth": 0,
              "ticks": ""
             }
            },
            "type": "scattermapbox"
           }
          ],
          "scatterpolar": [
           {
            "marker": {
             "colorbar": {
              "outlinewidth": 0,
              "ticks": ""
             }
            },
            "type": "scatterpolar"
           }
          ],
          "scatterpolargl": [
           {
            "marker": {
             "colorbar": {
              "outlinewidth": 0,
              "ticks": ""
             }
            },
            "type": "scatterpolargl"
           }
          ],
          "scatterternary": [
           {
            "marker": {
             "colorbar": {
              "outlinewidth": 0,
              "ticks": ""
             }
            },
            "type": "scatterternary"
           }
          ],
          "surface": [
           {
            "colorbar": {
             "outlinewidth": 0,
             "ticks": ""
            },
            "colorscale": [
             [
              0,
              "#0d0887"
             ],
             [
              0.1111111111111111,
              "#46039f"
             ],
             [
              0.2222222222222222,
              "#7201a8"
             ],
             [
              0.3333333333333333,
              "#9c179e"
             ],
             [
              0.4444444444444444,
              "#bd3786"
             ],
             [
              0.5555555555555556,
              "#d8576b"
             ],
             [
              0.6666666666666666,
              "#ed7953"
             ],
             [
              0.7777777777777778,
              "#fb9f3a"
             ],
             [
              0.8888888888888888,
              "#fdca26"
             ],
             [
              1,
              "#f0f921"
             ]
            ],
            "type": "surface"
           }
          ],
          "table": [
           {
            "cells": {
             "fill": {
              "color": "#EBF0F8"
             },
             "line": {
              "color": "white"
             }
            },
            "header": {
             "fill": {
              "color": "#C8D4E3"
             },
             "line": {
              "color": "white"
             }
            },
            "type": "table"
           }
          ]
         },
         "layout": {
          "annotationdefaults": {
           "arrowcolor": "#2a3f5f",
           "arrowhead": 0,
           "arrowwidth": 1
          },
          "autotypenumbers": "strict",
          "coloraxis": {
           "colorbar": {
            "outlinewidth": 0,
            "ticks": ""
           }
          },
          "colorscale": {
           "diverging": [
            [
             0,
             "#8e0152"
            ],
            [
             0.1,
             "#c51b7d"
            ],
            [
             0.2,
             "#de77ae"
            ],
            [
             0.3,
             "#f1b6da"
            ],
            [
             0.4,
             "#fde0ef"
            ],
            [
             0.5,
             "#f7f7f7"
            ],
            [
             0.6,
             "#e6f5d0"
            ],
            [
             0.7,
             "#b8e186"
            ],
            [
             0.8,
             "#7fbc41"
            ],
            [
             0.9,
             "#4d9221"
            ],
            [
             1,
             "#276419"
            ]
           ],
           "sequential": [
            [
             0,
             "#0d0887"
            ],
            [
             0.1111111111111111,
             "#46039f"
            ],
            [
             0.2222222222222222,
             "#7201a8"
            ],
            [
             0.3333333333333333,
             "#9c179e"
            ],
            [
             0.4444444444444444,
             "#bd3786"
            ],
            [
             0.5555555555555556,
             "#d8576b"
            ],
            [
             0.6666666666666666,
             "#ed7953"
            ],
            [
             0.7777777777777778,
             "#fb9f3a"
            ],
            [
             0.8888888888888888,
             "#fdca26"
            ],
            [
             1,
             "#f0f921"
            ]
           ],
           "sequentialminus": [
            [
             0,
             "#0d0887"
            ],
            [
             0.1111111111111111,
             "#46039f"
            ],
            [
             0.2222222222222222,
             "#7201a8"
            ],
            [
             0.3333333333333333,
             "#9c179e"
            ],
            [
             0.4444444444444444,
             "#bd3786"
            ],
            [
             0.5555555555555556,
             "#d8576b"
            ],
            [
             0.6666666666666666,
             "#ed7953"
            ],
            [
             0.7777777777777778,
             "#fb9f3a"
            ],
            [
             0.8888888888888888,
             "#fdca26"
            ],
            [
             1,
             "#f0f921"
            ]
           ]
          },
          "colorway": [
           "#636efa",
           "#EF553B",
           "#00cc96",
           "#ab63fa",
           "#FFA15A",
           "#19d3f3",
           "#FF6692",
           "#B6E880",
           "#FF97FF",
           "#FECB52"
          ],
          "font": {
           "color": "#2a3f5f"
          },
          "geo": {
           "bgcolor": "white",
           "lakecolor": "white",
           "landcolor": "#E5ECF6",
           "showlakes": true,
           "showland": true,
           "subunitcolor": "white"
          },
          "hoverlabel": {
           "align": "left"
          },
          "hovermode": "closest",
          "mapbox": {
           "style": "light"
          },
          "paper_bgcolor": "white",
          "plot_bgcolor": "#E5ECF6",
          "polar": {
           "angularaxis": {
            "gridcolor": "white",
            "linecolor": "white",
            "ticks": ""
           },
           "bgcolor": "#E5ECF6",
           "radialaxis": {
            "gridcolor": "white",
            "linecolor": "white",
            "ticks": ""
           }
          },
          "scene": {
           "xaxis": {
            "backgroundcolor": "#E5ECF6",
            "gridcolor": "white",
            "gridwidth": 2,
            "linecolor": "white",
            "showbackground": true,
            "ticks": "",
            "zerolinecolor": "white"
           },
           "yaxis": {
            "backgroundcolor": "#E5ECF6",
            "gridcolor": "white",
            "gridwidth": 2,
            "linecolor": "white",
            "showbackground": true,
            "ticks": "",
            "zerolinecolor": "white"
           },
           "zaxis": {
            "backgroundcolor": "#E5ECF6",
            "gridcolor": "white",
            "gridwidth": 2,
            "linecolor": "white",
            "showbackground": true,
            "ticks": "",
            "zerolinecolor": "white"
           }
          },
          "shapedefaults": {
           "line": {
            "color": "#2a3f5f"
           }
          },
          "ternary": {
           "aaxis": {
            "gridcolor": "white",
            "linecolor": "white",
            "ticks": ""
           },
           "baxis": {
            "gridcolor": "white",
            "linecolor": "white",
            "ticks": ""
           },
           "bgcolor": "#E5ECF6",
           "caxis": {
            "gridcolor": "white",
            "linecolor": "white",
            "ticks": ""
           }
          },
          "title": {
           "x": 0.05
          },
          "xaxis": {
           "automargin": true,
           "gridcolor": "white",
           "linecolor": "white",
           "ticks": "",
           "title": {
            "standoff": 15
           },
           "zerolinecolor": "white",
           "zerolinewidth": 2
          },
          "yaxis": {
           "automargin": true,
           "gridcolor": "white",
           "linecolor": "white",
           "ticks": "",
           "title": {
            "standoff": 15
           },
           "zerolinecolor": "white",
           "zerolinewidth": 2
          }
         }
        },
        "title": {
         "text": "Total amount of (un)loaded mail [tons] at Schiphol between 2019 and 2023"
        },
        "xaxis": {
         "anchor": "y",
         "domain": [
          0,
          1
         ],
         "title": {
          "text": "Period"
         }
        },
        "yaxis": {
         "anchor": "x",
         "categoryorder": "category ascending",
         "domain": [
          0,
          1
         ],
         "title": {
          "text": "Amount of mail in [tons]"
         },
         "type": "log"
        }
       }
      }
     },
     "metadata": {},
     "output_type": "display_data"
    }
   ],
   "source": [
    "data_mail = data.loc[data['Periods'].str.contains('2019MM|2020MM|2021MM|2022MM|2023MM', case=False, regex=True)]\n",
    "data_mail = data_mail[data_mail['Airports'] == 'Schiphol']\n",
    "\n",
    "print(f'Dataframe shape: {data_mail.shape}')\n",
    "\n",
    "figmail = px.line(data_mail, \n",
    "                x = \"Periods\", \n",
    "                y = [\"Total Unloaded Mail [tons]\", \"Total Loaded Mail [tons]\"],\n",
    "                labels = {\n",
    "                    \"Periods\": \"Period\",\n",
    "                    \"value\": \"Amount of mail in [tons]\",\n",
    "                    \"variable\": \"Type of mail\"\n",
    "                    },\n",
    "                log_y = True,\n",
    "                )\n",
    "\n",
    "figmail.update_layout(\n",
    "                title={'text': 'Total amount of (un)loaded mail [tons] at Schiphol between 2019 and 2023'},\n",
    "                height=600,\n",
    "                )\n",
    "\n",
    "figmail.update_yaxes(categoryorder = 'category ascending')\n",
    "\n",
    "figmail.show()"
   ]
  },
  {
   "cell_type": "code",
   "execution_count": 259,
   "id": "b6abe75a",
   "metadata": {},
   "outputs": [
    {
     "name": "stdout",
     "output_type": "stream",
     "text": [
      "Dataframe shape: (336, 105)\n"
     ]
    },
    {
     "data": {
      "application/vnd.plotly.v1+json": {
       "config": {
        "plotlyServerURL": "https://plot.ly"
       },
       "data": [
        {
         "hovertemplate": "Airports=TOTAL<br>Periods=%{x}<br>Total Cargo [tons]=%{y}<extra></extra>",
         "legendgroup": "TOTAL",
         "line": {
          "color": "#636efa",
          "dash": "solid"
         },
         "marker": {
          "symbol": "circle"
         },
         "mode": "lines+markers",
         "name": "TOTAL",
         "orientation": "v",
         "showlegend": true,
         "type": "scatter",
         "x": [
          "2019MM01",
          "2019MM02",
          "2019MM03",
          "2019MM04",
          "2019MM05",
          "2019MM06",
          "2019MM07",
          "2019MM08",
          "2019MM09",
          "2019MM10",
          "2019MM11",
          "2019MM12",
          "2020MM01",
          "2020MM02",
          "2020MM03",
          "2020MM04",
          "2020MM05",
          "2020MM06",
          "2020MM07",
          "2020MM08",
          "2020MM09",
          "2020MM10",
          "2020MM11",
          "2020MM12",
          "2021MM01",
          "2021MM02",
          "2021MM03",
          "2021MM04",
          "2021MM05",
          "2021MM06",
          "2021MM07",
          "2021MM08",
          "2021MM09",
          "2021MM10",
          "2021MM11",
          "2021MM12",
          "2022MM01",
          "2022MM02",
          "2022MM03",
          "2022MM04",
          "2022MM05",
          "2022MM06",
          "2022MM07",
          "2022MM08",
          "2022MM09",
          "2022MM10",
          "2022MM11",
          "2022MM12",
          "2023MM01",
          "2023MM02",
          "2023MM03",
          "2023MM04",
          "2023MM05",
          "2023MM06",
          "2023MM07",
          "2023MM08"
         ],
         "xaxis": "x",
         "y": [
          133445,
          128322,
          155427,
          138159,
          144540,
          131970,
          137391,
          135263,
          140637,
          150127,
          148037,
          138385,
          122254,
          126726,
          127995,
          103420,
          117525,
          121692,
          132684,
          133168,
          135059,
          153109,
          157508,
          146441,
          140859,
          137288,
          165377,
          152164,
          158164,
          145582,
          138789,
          140198,
          144584,
          161776,
          156617,
          153901,
          131588,
          126020,
          137570,
          126658,
          128112,
          125858,
          130029,
          125037,
          130738,
          135512,
          128395,
          120439,
          109114,
          113147,
          125407,
          116129,
          118281,
          112994,
          115703,
          112120
         ],
         "yaxis": "y"
        },
        {
         "hovertemplate": "Airports=Schiphol<br>Periods=%{x}<br>Total Cargo [tons]=%{y}<extra></extra>",
         "legendgroup": "Schiphol",
         "line": {
          "color": "#EF553B",
          "dash": "solid"
         },
         "marker": {
          "symbol": "diamond"
         },
         "mode": "lines+markers",
         "name": "Schiphol",
         "orientation": "v",
         "showlegend": true,
         "type": "scatter",
         "x": [
          "2019MM01",
          "2019MM02",
          "2019MM03",
          "2019MM04",
          "2019MM05",
          "2019MM06",
          "2019MM07",
          "2019MM08",
          "2019MM09",
          "2019MM10",
          "2019MM11",
          "2019MM12",
          "2020MM01",
          "2020MM02",
          "2020MM03",
          "2020MM04",
          "2020MM05",
          "2020MM06",
          "2020MM07",
          "2020MM08",
          "2020MM09",
          "2020MM10",
          "2020MM11",
          "2020MM12",
          "2021MM01",
          "2021MM02",
          "2021MM03",
          "2021MM04",
          "2021MM05",
          "2021MM06",
          "2021MM07",
          "2021MM08",
          "2021MM09",
          "2021MM10",
          "2021MM11",
          "2021MM12",
          "2022MM01",
          "2022MM02",
          "2022MM03",
          "2022MM04",
          "2022MM05",
          "2022MM06",
          "2022MM07",
          "2022MM08",
          "2022MM09",
          "2022MM10",
          "2022MM11",
          "2022MM12",
          "2023MM01",
          "2023MM02",
          "2023MM03",
          "2023MM04",
          "2023MM05",
          "2023MM06",
          "2023MM07",
          "2023MM08"
         ],
         "xaxis": "x",
         "y": [
          122643,
          115797,
          144773,
          126743,
          133648,
          123888,
          129143,
          130581,
          136819,
          143579,
          136256,
          126376,
          113080,
          116293,
          120481,
          93255,
          104745,
          108164,
          119634,
          119975,
          124491,
          140140,
          145474,
          135866,
          133222,
          125137,
          153206,
          141132,
          147017,
          137956,
          130664,
          130844,
          133245,
          149383,
          143831,
          141667,
          122553,
          118274,
          128198,
          116895,
          119478,
          116274,
          120131,
          116876,
          121508,
          125358,
          119074,
          113118,
          103981,
          109035,
          121746,
          113459,
          117999,
          112994,
          113536,
          110126
         ],
         "yaxis": "y"
        },
        {
         "hovertemplate": "Airports=Rotterdam The Hague<br>Periods=%{x}<br>Total Cargo [tons]=%{y}<extra></extra>",
         "legendgroup": "Rotterdam The Hague",
         "line": {
          "color": "#00cc96",
          "dash": "solid"
         },
         "marker": {
          "symbol": "square"
         },
         "mode": "lines+markers",
         "name": "Rotterdam The Hague",
         "orientation": "v",
         "showlegend": true,
         "type": "scatter",
         "x": [
          "2019MM01",
          "2019MM02",
          "2019MM03",
          "2019MM04",
          "2019MM05",
          "2019MM06",
          "2019MM07",
          "2019MM08",
          "2019MM09",
          "2019MM10",
          "2019MM11",
          "2019MM12",
          "2020MM01",
          "2020MM02",
          "2020MM03",
          "2020MM04",
          "2020MM05",
          "2020MM06",
          "2020MM07",
          "2020MM08",
          "2020MM09",
          "2020MM10",
          "2020MM11",
          "2020MM12",
          "2021MM01",
          "2021MM02",
          "2021MM03",
          "2021MM04",
          "2021MM05",
          "2021MM06",
          "2021MM07",
          "2021MM08",
          "2021MM09",
          "2021MM10",
          "2021MM11",
          "2021MM12",
          "2022MM01",
          "2022MM02",
          "2022MM03",
          "2022MM04",
          "2022MM05",
          "2022MM06",
          "2022MM07",
          "2022MM08",
          "2022MM09",
          "2022MM10",
          "2022MM11",
          "2022MM12",
          "2023MM01",
          "2023MM02",
          "2023MM03",
          "2023MM04",
          "2023MM05",
          "2023MM06",
          "2023MM07",
          "2023MM08"
         ],
         "xaxis": "x",
         "y": [
          0,
          0,
          0,
          0,
          0,
          0,
          0,
          0,
          0,
          0,
          0,
          0,
          0,
          0,
          0,
          0,
          0,
          0,
          0,
          0,
          0,
          0,
          0,
          0,
          0,
          0,
          0,
          0,
          0,
          0,
          0,
          0,
          0,
          0,
          0,
          0,
          0,
          0,
          0,
          0,
          0,
          0,
          0,
          0,
          0,
          0,
          0,
          0,
          0,
          0,
          0,
          0,
          0,
          0,
          0,
          0
         ],
         "yaxis": "y"
        },
        {
         "hovertemplate": "Airports=Eindhoven<br>Periods=%{x}<br>Total Cargo [tons]=%{y}<extra></extra>",
         "legendgroup": "Eindhoven",
         "line": {
          "color": "#ab63fa",
          "dash": "solid"
         },
         "marker": {
          "symbol": "x"
         },
         "mode": "lines+markers",
         "name": "Eindhoven",
         "orientation": "v",
         "showlegend": true,
         "type": "scatter",
         "x": [
          "2019MM01",
          "2019MM02",
          "2019MM03",
          "2019MM04",
          "2019MM05",
          "2019MM06",
          "2019MM07",
          "2019MM08",
          "2019MM09",
          "2019MM10",
          "2019MM11",
          "2019MM12",
          "2020MM01",
          "2020MM02",
          "2020MM03",
          "2020MM04",
          "2020MM05",
          "2020MM06",
          "2020MM07",
          "2020MM08",
          "2020MM09",
          "2020MM10",
          "2020MM11",
          "2020MM12",
          "2021MM01",
          "2021MM02",
          "2021MM03",
          "2021MM04",
          "2021MM05",
          "2021MM06",
          "2021MM07",
          "2021MM08",
          "2021MM09",
          "2021MM10",
          "2021MM11",
          "2021MM12",
          "2022MM01",
          "2022MM02",
          "2022MM03",
          "2022MM04",
          "2022MM05",
          "2022MM06",
          "2022MM07",
          "2022MM08",
          "2022MM09",
          "2022MM10",
          "2022MM11",
          "2022MM12",
          "2023MM01",
          "2023MM02",
          "2023MM03",
          "2023MM04",
          "2023MM05",
          "2023MM06",
          "2023MM07",
          "2023MM08"
         ],
         "xaxis": "x",
         "y": [
          0,
          0,
          0,
          0,
          0,
          0,
          0,
          0,
          0,
          0,
          0,
          0,
          0,
          0,
          0,
          0,
          0,
          0,
          0,
          0,
          0,
          0,
          0,
          0,
          0,
          0,
          0,
          0,
          0,
          0,
          0,
          0,
          0,
          0,
          0,
          0,
          0,
          0,
          0,
          0,
          0,
          0,
          0,
          0,
          0,
          0,
          0,
          0,
          0,
          0,
          0,
          0,
          0,
          0,
          0,
          0
         ],
         "yaxis": "y"
        },
        {
         "hovertemplate": "Airports=Maastricht Aachen<br>Periods=%{x}<br>Total Cargo [tons]=%{y}<extra></extra>",
         "legendgroup": "Maastricht Aachen",
         "line": {
          "color": "#FFA15A",
          "dash": "solid"
         },
         "marker": {
          "symbol": "cross"
         },
         "mode": "lines+markers",
         "name": "Maastricht Aachen",
         "orientation": "v",
         "showlegend": true,
         "type": "scatter",
         "x": [
          "2019MM01",
          "2019MM02",
          "2019MM03",
          "2019MM04",
          "2019MM05",
          "2019MM06",
          "2019MM07",
          "2019MM08",
          "2019MM09",
          "2019MM10",
          "2019MM11",
          "2019MM12",
          "2020MM01",
          "2020MM02",
          "2020MM03",
          "2020MM04",
          "2020MM05",
          "2020MM06",
          "2020MM07",
          "2020MM08",
          "2020MM09",
          "2020MM10",
          "2020MM11",
          "2020MM12",
          "2021MM01",
          "2021MM02",
          "2021MM03",
          "2021MM04",
          "2021MM05",
          "2021MM06",
          "2021MM07",
          "2021MM08",
          "2021MM09",
          "2021MM10",
          "2021MM11",
          "2021MM12",
          "2022MM01",
          "2022MM02",
          "2022MM03",
          "2022MM04",
          "2022MM05",
          "2022MM06",
          "2022MM07",
          "2022MM08",
          "2022MM09",
          "2022MM10",
          "2022MM11",
          "2022MM12",
          "2023MM01",
          "2023MM02",
          "2023MM03",
          "2023MM04",
          "2023MM05",
          "2023MM06",
          "2023MM07",
          "2023MM08"
         ],
         "xaxis": "x",
         "y": [
          10802,
          12526,
          10654,
          11416,
          10892,
          8081,
          8248,
          4682,
          3818,
          6548,
          11781,
          12009,
          9174,
          10433,
          7514,
          10165,
          12780,
          13528,
          13050,
          13194,
          10568,
          12969,
          12034,
          10575,
          7637,
          12151,
          12171,
          11032,
          11147,
          7626,
          8125,
          9354,
          11339,
          12393,
          12787,
          12234,
          9035,
          7746,
          9372,
          9763,
          8634,
          9584,
          9898,
          8161,
          9230,
          10154,
          9321,
          7321,
          5133,
          4113,
          3661,
          2670,
          282,
          0,
          2166,
          1993
         ],
         "yaxis": "y"
        },
        {
         "hovertemplate": "Airports=Groningen<br>Periods=%{x}<br>Total Cargo [tons]=%{y}<extra></extra>",
         "legendgroup": "Groningen",
         "line": {
          "color": "#19d3f3",
          "dash": "solid"
         },
         "marker": {
          "symbol": "circle"
         },
         "mode": "lines+markers",
         "name": "Groningen",
         "orientation": "v",
         "showlegend": true,
         "type": "scatter",
         "x": [
          "2019MM01",
          "2019MM02",
          "2019MM03",
          "2019MM04",
          "2019MM05",
          "2019MM06",
          "2019MM07",
          "2019MM08",
          "2019MM09",
          "2019MM10",
          "2019MM11",
          "2019MM12",
          "2020MM01",
          "2020MM02",
          "2020MM03",
          "2020MM04",
          "2020MM05",
          "2020MM06",
          "2020MM07",
          "2020MM08",
          "2020MM09",
          "2020MM10",
          "2020MM11",
          "2020MM12",
          "2021MM01",
          "2021MM02",
          "2021MM03",
          "2021MM04",
          "2021MM05",
          "2021MM06",
          "2021MM07",
          "2021MM08",
          "2021MM09",
          "2021MM10",
          "2021MM11",
          "2021MM12",
          "2022MM01",
          "2022MM02",
          "2022MM03",
          "2022MM04",
          "2022MM05",
          "2022MM06",
          "2022MM07",
          "2022MM08",
          "2022MM09",
          "2022MM10",
          "2022MM11",
          "2022MM12",
          "2023MM01",
          "2023MM02",
          "2023MM03",
          "2023MM04",
          "2023MM05",
          "2023MM06",
          "2023MM07",
          "2023MM08"
         ],
         "xaxis": "x",
         "y": [
          0,
          0,
          0,
          0,
          0,
          0,
          0,
          0,
          0,
          0,
          0,
          0,
          0,
          0,
          0,
          0,
          0,
          0,
          0,
          0,
          0,
          0,
          0,
          0,
          0,
          0,
          0,
          0,
          0,
          0,
          0,
          0,
          0,
          0,
          0,
          0,
          0,
          0,
          0,
          0,
          0,
          0,
          0,
          0,
          0,
          0,
          0,
          0,
          0,
          0,
          0,
          0,
          0,
          0,
          0,
          0
         ],
         "yaxis": "y"
        }
       ],
       "layout": {
        "height": 600,
        "legend": {
         "title": {
          "text": "Airports"
         },
         "tracegroupgap": 0
        },
        "margin": {
         "t": 60
        },
        "template": {
         "data": {
          "bar": [
           {
            "error_x": {
             "color": "#2a3f5f"
            },
            "error_y": {
             "color": "#2a3f5f"
            },
            "marker": {
             "line": {
              "color": "#E5ECF6",
              "width": 0.5
             },
             "pattern": {
              "fillmode": "overlay",
              "size": 10,
              "solidity": 0.2
             }
            },
            "type": "bar"
           }
          ],
          "barpolar": [
           {
            "marker": {
             "line": {
              "color": "#E5ECF6",
              "width": 0.5
             },
             "pattern": {
              "fillmode": "overlay",
              "size": 10,
              "solidity": 0.2
             }
            },
            "type": "barpolar"
           }
          ],
          "carpet": [
           {
            "aaxis": {
             "endlinecolor": "#2a3f5f",
             "gridcolor": "white",
             "linecolor": "white",
             "minorgridcolor": "white",
             "startlinecolor": "#2a3f5f"
            },
            "baxis": {
             "endlinecolor": "#2a3f5f",
             "gridcolor": "white",
             "linecolor": "white",
             "minorgridcolor": "white",
             "startlinecolor": "#2a3f5f"
            },
            "type": "carpet"
           }
          ],
          "choropleth": [
           {
            "colorbar": {
             "outlinewidth": 0,
             "ticks": ""
            },
            "type": "choropleth"
           }
          ],
          "contour": [
           {
            "colorbar": {
             "outlinewidth": 0,
             "ticks": ""
            },
            "colorscale": [
             [
              0,
              "#0d0887"
             ],
             [
              0.1111111111111111,
              "#46039f"
             ],
             [
              0.2222222222222222,
              "#7201a8"
             ],
             [
              0.3333333333333333,
              "#9c179e"
             ],
             [
              0.4444444444444444,
              "#bd3786"
             ],
             [
              0.5555555555555556,
              "#d8576b"
             ],
             [
              0.6666666666666666,
              "#ed7953"
             ],
             [
              0.7777777777777778,
              "#fb9f3a"
             ],
             [
              0.8888888888888888,
              "#fdca26"
             ],
             [
              1,
              "#f0f921"
             ]
            ],
            "type": "contour"
           }
          ],
          "contourcarpet": [
           {
            "colorbar": {
             "outlinewidth": 0,
             "ticks": ""
            },
            "type": "contourcarpet"
           }
          ],
          "heatmap": [
           {
            "colorbar": {
             "outlinewidth": 0,
             "ticks": ""
            },
            "colorscale": [
             [
              0,
              "#0d0887"
             ],
             [
              0.1111111111111111,
              "#46039f"
             ],
             [
              0.2222222222222222,
              "#7201a8"
             ],
             [
              0.3333333333333333,
              "#9c179e"
             ],
             [
              0.4444444444444444,
              "#bd3786"
             ],
             [
              0.5555555555555556,
              "#d8576b"
             ],
             [
              0.6666666666666666,
              "#ed7953"
             ],
             [
              0.7777777777777778,
              "#fb9f3a"
             ],
             [
              0.8888888888888888,
              "#fdca26"
             ],
             [
              1,
              "#f0f921"
             ]
            ],
            "type": "heatmap"
           }
          ],
          "heatmapgl": [
           {
            "colorbar": {
             "outlinewidth": 0,
             "ticks": ""
            },
            "colorscale": [
             [
              0,
              "#0d0887"
             ],
             [
              0.1111111111111111,
              "#46039f"
             ],
             [
              0.2222222222222222,
              "#7201a8"
             ],
             [
              0.3333333333333333,
              "#9c179e"
             ],
             [
              0.4444444444444444,
              "#bd3786"
             ],
             [
              0.5555555555555556,
              "#d8576b"
             ],
             [
              0.6666666666666666,
              "#ed7953"
             ],
             [
              0.7777777777777778,
              "#fb9f3a"
             ],
             [
              0.8888888888888888,
              "#fdca26"
             ],
             [
              1,
              "#f0f921"
             ]
            ],
            "type": "heatmapgl"
           }
          ],
          "histogram": [
           {
            "marker": {
             "pattern": {
              "fillmode": "overlay",
              "size": 10,
              "solidity": 0.2
             }
            },
            "type": "histogram"
           }
          ],
          "histogram2d": [
           {
            "colorbar": {
             "outlinewidth": 0,
             "ticks": ""
            },
            "colorscale": [
             [
              0,
              "#0d0887"
             ],
             [
              0.1111111111111111,
              "#46039f"
             ],
             [
              0.2222222222222222,
              "#7201a8"
             ],
             [
              0.3333333333333333,
              "#9c179e"
             ],
             [
              0.4444444444444444,
              "#bd3786"
             ],
             [
              0.5555555555555556,
              "#d8576b"
             ],
             [
              0.6666666666666666,
              "#ed7953"
             ],
             [
              0.7777777777777778,
              "#fb9f3a"
             ],
             [
              0.8888888888888888,
              "#fdca26"
             ],
             [
              1,
              "#f0f921"
             ]
            ],
            "type": "histogram2d"
           }
          ],
          "histogram2dcontour": [
           {
            "colorbar": {
             "outlinewidth": 0,
             "ticks": ""
            },
            "colorscale": [
             [
              0,
              "#0d0887"
             ],
             [
              0.1111111111111111,
              "#46039f"
             ],
             [
              0.2222222222222222,
              "#7201a8"
             ],
             [
              0.3333333333333333,
              "#9c179e"
             ],
             [
              0.4444444444444444,
              "#bd3786"
             ],
             [
              0.5555555555555556,
              "#d8576b"
             ],
             [
              0.6666666666666666,
              "#ed7953"
             ],
             [
              0.7777777777777778,
              "#fb9f3a"
             ],
             [
              0.8888888888888888,
              "#fdca26"
             ],
             [
              1,
              "#f0f921"
             ]
            ],
            "type": "histogram2dcontour"
           }
          ],
          "mesh3d": [
           {
            "colorbar": {
             "outlinewidth": 0,
             "ticks": ""
            },
            "type": "mesh3d"
           }
          ],
          "parcoords": [
           {
            "line": {
             "colorbar": {
              "outlinewidth": 0,
              "ticks": ""
             }
            },
            "type": "parcoords"
           }
          ],
          "pie": [
           {
            "automargin": true,
            "type": "pie"
           }
          ],
          "scatter": [
           {
            "fillpattern": {
             "fillmode": "overlay",
             "size": 10,
             "solidity": 0.2
            },
            "type": "scatter"
           }
          ],
          "scatter3d": [
           {
            "line": {
             "colorbar": {
              "outlinewidth": 0,
              "ticks": ""
             }
            },
            "marker": {
             "colorbar": {
              "outlinewidth": 0,
              "ticks": ""
             }
            },
            "type": "scatter3d"
           }
          ],
          "scattercarpet": [
           {
            "marker": {
             "colorbar": {
              "outlinewidth": 0,
              "ticks": ""
             }
            },
            "type": "scattercarpet"
           }
          ],
          "scattergeo": [
           {
            "marker": {
             "colorbar": {
              "outlinewidth": 0,
              "ticks": ""
             }
            },
            "type": "scattergeo"
           }
          ],
          "scattergl": [
           {
            "marker": {
             "colorbar": {
              "outlinewidth": 0,
              "ticks": ""
             }
            },
            "type": "scattergl"
           }
          ],
          "scattermapbox": [
           {
            "marker": {
             "colorbar": {
              "outlinewidth": 0,
              "ticks": ""
             }
            },
            "type": "scattermapbox"
           }
          ],
          "scatterpolar": [
           {
            "marker": {
             "colorbar": {
              "outlinewidth": 0,
              "ticks": ""
             }
            },
            "type": "scatterpolar"
           }
          ],
          "scatterpolargl": [
           {
            "marker": {
             "colorbar": {
              "outlinewidth": 0,
              "ticks": ""
             }
            },
            "type": "scatterpolargl"
           }
          ],
          "scatterternary": [
           {
            "marker": {
             "colorbar": {
              "outlinewidth": 0,
              "ticks": ""
             }
            },
            "type": "scatterternary"
           }
          ],
          "surface": [
           {
            "colorbar": {
             "outlinewidth": 0,
             "ticks": ""
            },
            "colorscale": [
             [
              0,
              "#0d0887"
             ],
             [
              0.1111111111111111,
              "#46039f"
             ],
             [
              0.2222222222222222,
              "#7201a8"
             ],
             [
              0.3333333333333333,
              "#9c179e"
             ],
             [
              0.4444444444444444,
              "#bd3786"
             ],
             [
              0.5555555555555556,
              "#d8576b"
             ],
             [
              0.6666666666666666,
              "#ed7953"
             ],
             [
              0.7777777777777778,
              "#fb9f3a"
             ],
             [
              0.8888888888888888,
              "#fdca26"
             ],
             [
              1,
              "#f0f921"
             ]
            ],
            "type": "surface"
           }
          ],
          "table": [
           {
            "cells": {
             "fill": {
              "color": "#EBF0F8"
             },
             "line": {
              "color": "white"
             }
            },
            "header": {
             "fill": {
              "color": "#C8D4E3"
             },
             "line": {
              "color": "white"
             }
            },
            "type": "table"
           }
          ]
         },
         "layout": {
          "annotationdefaults": {
           "arrowcolor": "#2a3f5f",
           "arrowhead": 0,
           "arrowwidth": 1
          },
          "autotypenumbers": "strict",
          "coloraxis": {
           "colorbar": {
            "outlinewidth": 0,
            "ticks": ""
           }
          },
          "colorscale": {
           "diverging": [
            [
             0,
             "#8e0152"
            ],
            [
             0.1,
             "#c51b7d"
            ],
            [
             0.2,
             "#de77ae"
            ],
            [
             0.3,
             "#f1b6da"
            ],
            [
             0.4,
             "#fde0ef"
            ],
            [
             0.5,
             "#f7f7f7"
            ],
            [
             0.6,
             "#e6f5d0"
            ],
            [
             0.7,
             "#b8e186"
            ],
            [
             0.8,
             "#7fbc41"
            ],
            [
             0.9,
             "#4d9221"
            ],
            [
             1,
             "#276419"
            ]
           ],
           "sequential": [
            [
             0,
             "#0d0887"
            ],
            [
             0.1111111111111111,
             "#46039f"
            ],
            [
             0.2222222222222222,
             "#7201a8"
            ],
            [
             0.3333333333333333,
             "#9c179e"
            ],
            [
             0.4444444444444444,
             "#bd3786"
            ],
            [
             0.5555555555555556,
             "#d8576b"
            ],
            [
             0.6666666666666666,
             "#ed7953"
            ],
            [
             0.7777777777777778,
             "#fb9f3a"
            ],
            [
             0.8888888888888888,
             "#fdca26"
            ],
            [
             1,
             "#f0f921"
            ]
           ],
           "sequentialminus": [
            [
             0,
             "#0d0887"
            ],
            [
             0.1111111111111111,
             "#46039f"
            ],
            [
             0.2222222222222222,
             "#7201a8"
            ],
            [
             0.3333333333333333,
             "#9c179e"
            ],
            [
             0.4444444444444444,
             "#bd3786"
            ],
            [
             0.5555555555555556,
             "#d8576b"
            ],
            [
             0.6666666666666666,
             "#ed7953"
            ],
            [
             0.7777777777777778,
             "#fb9f3a"
            ],
            [
             0.8888888888888888,
             "#fdca26"
            ],
            [
             1,
             "#f0f921"
            ]
           ]
          },
          "colorway": [
           "#636efa",
           "#EF553B",
           "#00cc96",
           "#ab63fa",
           "#FFA15A",
           "#19d3f3",
           "#FF6692",
           "#B6E880",
           "#FF97FF",
           "#FECB52"
          ],
          "font": {
           "color": "#2a3f5f"
          },
          "geo": {
           "bgcolor": "white",
           "lakecolor": "white",
           "landcolor": "#E5ECF6",
           "showlakes": true,
           "showland": true,
           "subunitcolor": "white"
          },
          "hoverlabel": {
           "align": "left"
          },
          "hovermode": "closest",
          "mapbox": {
           "style": "light"
          },
          "paper_bgcolor": "white",
          "plot_bgcolor": "#E5ECF6",
          "polar": {
           "angularaxis": {
            "gridcolor": "white",
            "linecolor": "white",
            "ticks": ""
           },
           "bgcolor": "#E5ECF6",
           "radialaxis": {
            "gridcolor": "white",
            "linecolor": "white",
            "ticks": ""
           }
          },
          "scene": {
           "xaxis": {
            "backgroundcolor": "#E5ECF6",
            "gridcolor": "white",
            "gridwidth": 2,
            "linecolor": "white",
            "showbackground": true,
            "ticks": "",
            "zerolinecolor": "white"
           },
           "yaxis": {
            "backgroundcolor": "#E5ECF6",
            "gridcolor": "white",
            "gridwidth": 2,
            "linecolor": "white",
            "showbackground": true,
            "ticks": "",
            "zerolinecolor": "white"
           },
           "zaxis": {
            "backgroundcolor": "#E5ECF6",
            "gridcolor": "white",
            "gridwidth": 2,
            "linecolor": "white",
            "showbackground": true,
            "ticks": "",
            "zerolinecolor": "white"
           }
          },
          "shapedefaults": {
           "line": {
            "color": "#2a3f5f"
           }
          },
          "ternary": {
           "aaxis": {
            "gridcolor": "white",
            "linecolor": "white",
            "ticks": ""
           },
           "baxis": {
            "gridcolor": "white",
            "linecolor": "white",
            "ticks": ""
           },
           "bgcolor": "#E5ECF6",
           "caxis": {
            "gridcolor": "white",
            "linecolor": "white",
            "ticks": ""
           }
          },
          "title": {
           "x": 0.05
          },
          "xaxis": {
           "automargin": true,
           "gridcolor": "white",
           "linecolor": "white",
           "ticks": "",
           "title": {
            "standoff": 15
           },
           "zerolinecolor": "white",
           "zerolinewidth": 2
          },
          "yaxis": {
           "automargin": true,
           "gridcolor": "white",
           "linecolor": "white",
           "ticks": "",
           "title": {
            "standoff": 15
           },
           "zerolinecolor": "white",
           "zerolinewidth": 2
          }
         }
        },
        "title": {
         "text": "Amount of cargo [tons] per Dutch airport between 2019 and 2023"
        },
        "xaxis": {
         "anchor": "y",
         "domain": [
          0,
          1
         ],
         "title": {
          "text": "Periods"
         }
        },
        "yaxis": {
         "anchor": "x",
         "domain": [
          0,
          1
         ],
         "title": {
          "text": "Total Cargo [tons]"
         }
        }
       }
      }
     },
     "metadata": {},
     "output_type": "display_data"
    }
   ],
   "source": [
    "data_cargo = data.loc[data['Periods'].str.contains('2019MM|2020MM|2021MM|2022MM|2023MM', case=False, regex=True)]\n",
    "\n",
    "print(f'Dataframe shape: {data_cargo.shape}')\n",
    "\n",
    "figcargo = px.line(data_cargo, \n",
    "                x = \"Periods\", \n",
    "                y = \"Total Cargo [tons]\",\n",
    "                color = \"Airports\",\n",
    "                symbol = \"Airports\",\n",
    "                # log_y=True\n",
    "                )\n",
    "\n",
    "figcargo.update_layout(\n",
    "                title={'text': 'Amount of cargo [tons] per Dutch airport between 2019 and 2023'},\n",
    "                height=600,\n",
    "                )\n",
    "\n",
    "figcargo.show()"
   ]
  },
  {
   "cell_type": "code",
   "execution_count": 260,
   "id": "353320a6",
   "metadata": {},
   "outputs": [
    {
     "data": {
      "application/vnd.plotly.v1+json": {
       "config": {
        "plotlyServerURL": "https://plot.ly"
       },
       "data": [
        {
         "hovertemplate": "Type of movement=Total Flights<br>Period=%{x}<br>Amount in [flights], [pax] or [tons]=%{y}<extra></extra>",
         "legendgroup": "Total Flights",
         "line": {
          "color": "#636efa",
          "dash": "solid"
         },
         "marker": {
          "symbol": "circle"
         },
         "mode": "lines+markers",
         "name": "Total Flights",
         "orientation": "v",
         "showlegend": true,
         "type": "scatter",
         "x": [
          "2019MM01",
          "2019MM02",
          "2019MM03",
          "2019MM04",
          "2019MM05",
          "2019MM06",
          "2019MM07",
          "2019MM08",
          "2019MM09",
          "2019MM10",
          "2019MM11",
          "2019MM12",
          "2020MM01",
          "2020MM02",
          "2020MM03",
          "2020MM04",
          "2020MM05",
          "2020MM06",
          "2020MM07",
          "2020MM08",
          "2020MM09",
          "2020MM10",
          "2020MM11",
          "2020MM12",
          "2021MM01",
          "2021MM02",
          "2021MM03",
          "2021MM04",
          "2021MM05",
          "2021MM06",
          "2021MM07",
          "2021MM08",
          "2021MM09",
          "2021MM10",
          "2021MM11",
          "2021MM12",
          "2022MM01",
          "2022MM02",
          "2022MM03",
          "2022MM04",
          "2022MM05",
          "2022MM06",
          "2022MM07",
          "2022MM08",
          "2022MM09",
          "2022MM10",
          "2022MM11",
          "2022MM12",
          "2023MM01",
          "2023MM02",
          "2023MM03",
          "2023MM04",
          "2023MM05",
          "2023MM06",
          "2023MM07",
          "2023MM08"
         ],
         "xaxis": "x",
         "y": [
          41285,
          39204,
          44649,
          47934,
          51719,
          50135,
          51786,
          52127,
          51091,
          51135,
          42195,
          42771,
          41768,
          39299,
          28306,
          4759,
          6556,
          9336,
          19701,
          27575,
          25290,
          22028,
          16283,
          17325,
          15907,
          11528,
          13228,
          14891,
          16987,
          21701,
          33916,
          37282,
          35262,
          36465,
          32026,
          33869,
          29604,
          27456,
          34568,
          38824,
          44823,
          43248,
          43218,
          44862,
          43523,
          42909,
          34597,
          34968,
          34322,
          32416,
          38044,
          41609,
          45469,
          44638,
          47556,
          48111
         ],
         "yaxis": "y"
        },
        {
         "hovertemplate": "Type of movement=Total Passengers<br>Period=%{x}<br>Amount in [flights], [pax] or [tons]=%{y}<extra></extra>",
         "legendgroup": "Total Passengers",
         "line": {
          "color": "#EF553B",
          "dash": "solid"
         },
         "marker": {
          "symbol": "diamond"
         },
         "mode": "lines+markers",
         "name": "Total Passengers",
         "orientation": "v",
         "showlegend": true,
         "type": "scatter",
         "x": [
          "2019MM01",
          "2019MM02",
          "2019MM03",
          "2019MM04",
          "2019MM05",
          "2019MM06",
          "2019MM07",
          "2019MM08",
          "2019MM09",
          "2019MM10",
          "2019MM11",
          "2019MM12",
          "2020MM01",
          "2020MM02",
          "2020MM03",
          "2020MM04",
          "2020MM05",
          "2020MM06",
          "2020MM07",
          "2020MM08",
          "2020MM09",
          "2020MM10",
          "2020MM11",
          "2020MM12",
          "2021MM01",
          "2021MM02",
          "2021MM03",
          "2021MM04",
          "2021MM05",
          "2021MM06",
          "2021MM07",
          "2021MM08",
          "2021MM09",
          "2021MM10",
          "2021MM11",
          "2021MM12",
          "2022MM01",
          "2022MM02",
          "2022MM03",
          "2022MM04",
          "2022MM05",
          "2022MM06",
          "2022MM07",
          "2022MM08",
          "2022MM09",
          "2022MM10",
          "2022MM11",
          "2022MM12",
          "2023MM01",
          "2023MM02",
          "2023MM03",
          "2023MM04",
          "2023MM05",
          "2023MM06",
          "2023MM07",
          "2023MM08"
         ],
         "xaxis": "x",
         "y": [
          5495052,
          5352301,
          6270788,
          6926059,
          7396960,
          7471334,
          7730263,
          7859458,
          7486440,
          7354352,
          5885771,
          5938523,
          5595249,
          5281600,
          2773554,
          133752,
          220120,
          526544,
          1690515,
          2242935,
          1547263,
          1303123,
          965071,
          1306018,
          909617,
          519827,
          676647,
          817876,
          1169673,
          1870330,
          3515159,
          4479180,
          4013477,
          4395945,
          3492940,
          3208864,
          2831598,
          3040193,
          4241663,
          5140272,
          6091195,
          6118070,
          6211931,
          6378969,
          6108567,
          5854649,
          4570458,
          4680493,
          4480014,
          4348644,
          5276851,
          5912774,
          6514881,
          6539439,
          6991247,
          7061633
         ],
         "yaxis": "y"
        },
        {
         "hovertemplate": "Type of movement=Total Cargo [tons]<br>Period=%{x}<br>Amount in [flights], [pax] or [tons]=%{y}<extra></extra>",
         "legendgroup": "Total Cargo [tons]",
         "line": {
          "color": "#00cc96",
          "dash": "solid"
         },
         "marker": {
          "symbol": "square"
         },
         "mode": "lines+markers",
         "name": "Total Cargo [tons]",
         "orientation": "v",
         "showlegend": true,
         "type": "scatter",
         "x": [
          "2019MM01",
          "2019MM02",
          "2019MM03",
          "2019MM04",
          "2019MM05",
          "2019MM06",
          "2019MM07",
          "2019MM08",
          "2019MM09",
          "2019MM10",
          "2019MM11",
          "2019MM12",
          "2020MM01",
          "2020MM02",
          "2020MM03",
          "2020MM04",
          "2020MM05",
          "2020MM06",
          "2020MM07",
          "2020MM08",
          "2020MM09",
          "2020MM10",
          "2020MM11",
          "2020MM12",
          "2021MM01",
          "2021MM02",
          "2021MM03",
          "2021MM04",
          "2021MM05",
          "2021MM06",
          "2021MM07",
          "2021MM08",
          "2021MM09",
          "2021MM10",
          "2021MM11",
          "2021MM12",
          "2022MM01",
          "2022MM02",
          "2022MM03",
          "2022MM04",
          "2022MM05",
          "2022MM06",
          "2022MM07",
          "2022MM08",
          "2022MM09",
          "2022MM10",
          "2022MM11",
          "2022MM12",
          "2023MM01",
          "2023MM02",
          "2023MM03",
          "2023MM04",
          "2023MM05",
          "2023MM06",
          "2023MM07",
          "2023MM08"
         ],
         "xaxis": "x",
         "y": [
          133445,
          128322,
          155427,
          138159,
          144540,
          131970,
          137391,
          135263,
          140637,
          150127,
          148037,
          138385,
          122254,
          126726,
          127995,
          103420,
          117525,
          121692,
          132684,
          133168,
          135059,
          153109,
          157508,
          146441,
          140859,
          137288,
          165377,
          152164,
          158164,
          145582,
          138789,
          140198,
          144584,
          161776,
          156617,
          153901,
          131588,
          126020,
          137570,
          126658,
          128112,
          125858,
          130029,
          125037,
          130738,
          135512,
          128395,
          120439,
          109114,
          113147,
          125407,
          116129,
          118281,
          112994,
          115703,
          112120
         ],
         "yaxis": "y"
        },
        {
         "hovertemplate": "Type of movement=Total Mail [tons]<br>Period=%{x}<br>Amount in [flights], [pax] or [tons]=%{y}<extra></extra>",
         "legendgroup": "Total Mail [tons]",
         "line": {
          "color": "#ab63fa",
          "dash": "solid"
         },
         "marker": {
          "symbol": "x"
         },
         "mode": "lines+markers",
         "name": "Total Mail [tons]",
         "orientation": "v",
         "showlegend": true,
         "type": "scatter",
         "x": [
          "2019MM01",
          "2019MM02",
          "2019MM03",
          "2019MM04",
          "2019MM05",
          "2019MM06",
          "2019MM07",
          "2019MM08",
          "2019MM09",
          "2019MM10",
          "2019MM11",
          "2019MM12",
          "2020MM01",
          "2020MM02",
          "2020MM03",
          "2020MM04",
          "2020MM05",
          "2020MM06",
          "2020MM07",
          "2020MM08",
          "2020MM09",
          "2020MM10",
          "2020MM11",
          "2020MM12",
          "2021MM01",
          "2021MM02",
          "2021MM03",
          "2021MM04",
          "2021MM05",
          "2021MM06",
          "2021MM07",
          "2021MM08",
          "2021MM09",
          "2021MM10",
          "2021MM11",
          "2021MM12",
          "2022MM01",
          "2022MM02",
          "2022MM03",
          "2022MM04",
          "2022MM05",
          "2022MM06",
          "2022MM07",
          "2022MM08",
          "2022MM09",
          "2022MM10",
          "2022MM11",
          "2022MM12",
          "2023MM01",
          "2023MM02",
          "2023MM03",
          "2023MM04",
          "2023MM05",
          "2023MM06",
          "2023MM07",
          "2023MM08"
         ],
         "xaxis": "x",
         "y": [
          1615,
          1398,
          1761,
          1747,
          1860,
          1736,
          1876,
          1774,
          1747,
          1974,
          2133,
          2338,
          1908,
          1491,
          1167,
          382,
          542,
          855,
          1083,
          1283,
          1251,
          1521,
          1511,
          1837,
          1403,
          1109,
          1379,
          1258,
          1223,
          1128,
          978,
          1049,
          1002,
          1040,
          943,
          1038,
          827,
          824,
          819,
          688,
          685,
          667,
          584,
          549,
          538,
          465,
          461,
          608,
          478,
          440,
          457,
          430,
          471,
          447,
          407,
          454
         ],
         "yaxis": "y"
        }
       ],
       "layout": {
        "height": 800,
        "legend": {
         "title": {
          "text": "Type of movement"
         },
         "tracegroupgap": 0
        },
        "margin": {
         "t": 60
        },
        "template": {
         "data": {
          "bar": [
           {
            "error_x": {
             "color": "#2a3f5f"
            },
            "error_y": {
             "color": "#2a3f5f"
            },
            "marker": {
             "line": {
              "color": "#E5ECF6",
              "width": 0.5
             },
             "pattern": {
              "fillmode": "overlay",
              "size": 10,
              "solidity": 0.2
             }
            },
            "type": "bar"
           }
          ],
          "barpolar": [
           {
            "marker": {
             "line": {
              "color": "#E5ECF6",
              "width": 0.5
             },
             "pattern": {
              "fillmode": "overlay",
              "size": 10,
              "solidity": 0.2
             }
            },
            "type": "barpolar"
           }
          ],
          "carpet": [
           {
            "aaxis": {
             "endlinecolor": "#2a3f5f",
             "gridcolor": "white",
             "linecolor": "white",
             "minorgridcolor": "white",
             "startlinecolor": "#2a3f5f"
            },
            "baxis": {
             "endlinecolor": "#2a3f5f",
             "gridcolor": "white",
             "linecolor": "white",
             "minorgridcolor": "white",
             "startlinecolor": "#2a3f5f"
            },
            "type": "carpet"
           }
          ],
          "choropleth": [
           {
            "colorbar": {
             "outlinewidth": 0,
             "ticks": ""
            },
            "type": "choropleth"
           }
          ],
          "contour": [
           {
            "colorbar": {
             "outlinewidth": 0,
             "ticks": ""
            },
            "colorscale": [
             [
              0,
              "#0d0887"
             ],
             [
              0.1111111111111111,
              "#46039f"
             ],
             [
              0.2222222222222222,
              "#7201a8"
             ],
             [
              0.3333333333333333,
              "#9c179e"
             ],
             [
              0.4444444444444444,
              "#bd3786"
             ],
             [
              0.5555555555555556,
              "#d8576b"
             ],
             [
              0.6666666666666666,
              "#ed7953"
             ],
             [
              0.7777777777777778,
              "#fb9f3a"
             ],
             [
              0.8888888888888888,
              "#fdca26"
             ],
             [
              1,
              "#f0f921"
             ]
            ],
            "type": "contour"
           }
          ],
          "contourcarpet": [
           {
            "colorbar": {
             "outlinewidth": 0,
             "ticks": ""
            },
            "type": "contourcarpet"
           }
          ],
          "heatmap": [
           {
            "colorbar": {
             "outlinewidth": 0,
             "ticks": ""
            },
            "colorscale": [
             [
              0,
              "#0d0887"
             ],
             [
              0.1111111111111111,
              "#46039f"
             ],
             [
              0.2222222222222222,
              "#7201a8"
             ],
             [
              0.3333333333333333,
              "#9c179e"
             ],
             [
              0.4444444444444444,
              "#bd3786"
             ],
             [
              0.5555555555555556,
              "#d8576b"
             ],
             [
              0.6666666666666666,
              "#ed7953"
             ],
             [
              0.7777777777777778,
              "#fb9f3a"
             ],
             [
              0.8888888888888888,
              "#fdca26"
             ],
             [
              1,
              "#f0f921"
             ]
            ],
            "type": "heatmap"
           }
          ],
          "heatmapgl": [
           {
            "colorbar": {
             "outlinewidth": 0,
             "ticks": ""
            },
            "colorscale": [
             [
              0,
              "#0d0887"
             ],
             [
              0.1111111111111111,
              "#46039f"
             ],
             [
              0.2222222222222222,
              "#7201a8"
             ],
             [
              0.3333333333333333,
              "#9c179e"
             ],
             [
              0.4444444444444444,
              "#bd3786"
             ],
             [
              0.5555555555555556,
              "#d8576b"
             ],
             [
              0.6666666666666666,
              "#ed7953"
             ],
             [
              0.7777777777777778,
              "#fb9f3a"
             ],
             [
              0.8888888888888888,
              "#fdca26"
             ],
             [
              1,
              "#f0f921"
             ]
            ],
            "type": "heatmapgl"
           }
          ],
          "histogram": [
           {
            "marker": {
             "pattern": {
              "fillmode": "overlay",
              "size": 10,
              "solidity": 0.2
             }
            },
            "type": "histogram"
           }
          ],
          "histogram2d": [
           {
            "colorbar": {
             "outlinewidth": 0,
             "ticks": ""
            },
            "colorscale": [
             [
              0,
              "#0d0887"
             ],
             [
              0.1111111111111111,
              "#46039f"
             ],
             [
              0.2222222222222222,
              "#7201a8"
             ],
             [
              0.3333333333333333,
              "#9c179e"
             ],
             [
              0.4444444444444444,
              "#bd3786"
             ],
             [
              0.5555555555555556,
              "#d8576b"
             ],
             [
              0.6666666666666666,
              "#ed7953"
             ],
             [
              0.7777777777777778,
              "#fb9f3a"
             ],
             [
              0.8888888888888888,
              "#fdca26"
             ],
             [
              1,
              "#f0f921"
             ]
            ],
            "type": "histogram2d"
           }
          ],
          "histogram2dcontour": [
           {
            "colorbar": {
             "outlinewidth": 0,
             "ticks": ""
            },
            "colorscale": [
             [
              0,
              "#0d0887"
             ],
             [
              0.1111111111111111,
              "#46039f"
             ],
             [
              0.2222222222222222,
              "#7201a8"
             ],
             [
              0.3333333333333333,
              "#9c179e"
             ],
             [
              0.4444444444444444,
              "#bd3786"
             ],
             [
              0.5555555555555556,
              "#d8576b"
             ],
             [
              0.6666666666666666,
              "#ed7953"
             ],
             [
              0.7777777777777778,
              "#fb9f3a"
             ],
             [
              0.8888888888888888,
              "#fdca26"
             ],
             [
              1,
              "#f0f921"
             ]
            ],
            "type": "histogram2dcontour"
           }
          ],
          "mesh3d": [
           {
            "colorbar": {
             "outlinewidth": 0,
             "ticks": ""
            },
            "type": "mesh3d"
           }
          ],
          "parcoords": [
           {
            "line": {
             "colorbar": {
              "outlinewidth": 0,
              "ticks": ""
             }
            },
            "type": "parcoords"
           }
          ],
          "pie": [
           {
            "automargin": true,
            "type": "pie"
           }
          ],
          "scatter": [
           {
            "fillpattern": {
             "fillmode": "overlay",
             "size": 10,
             "solidity": 0.2
            },
            "type": "scatter"
           }
          ],
          "scatter3d": [
           {
            "line": {
             "colorbar": {
              "outlinewidth": 0,
              "ticks": ""
             }
            },
            "marker": {
             "colorbar": {
              "outlinewidth": 0,
              "ticks": ""
             }
            },
            "type": "scatter3d"
           }
          ],
          "scattercarpet": [
           {
            "marker": {
             "colorbar": {
              "outlinewidth": 0,
              "ticks": ""
             }
            },
            "type": "scattercarpet"
           }
          ],
          "scattergeo": [
           {
            "marker": {
             "colorbar": {
              "outlinewidth": 0,
              "ticks": ""
             }
            },
            "type": "scattergeo"
           }
          ],
          "scattergl": [
           {
            "marker": {
             "colorbar": {
              "outlinewidth": 0,
              "ticks": ""
             }
            },
            "type": "scattergl"
           }
          ],
          "scattermapbox": [
           {
            "marker": {
             "colorbar": {
              "outlinewidth": 0,
              "ticks": ""
             }
            },
            "type": "scattermapbox"
           }
          ],
          "scatterpolar": [
           {
            "marker": {
             "colorbar": {
              "outlinewidth": 0,
              "ticks": ""
             }
            },
            "type": "scatterpolar"
           }
          ],
          "scatterpolargl": [
           {
            "marker": {
             "colorbar": {
              "outlinewidth": 0,
              "ticks": ""
             }
            },
            "type": "scatterpolargl"
           }
          ],
          "scatterternary": [
           {
            "marker": {
             "colorbar": {
              "outlinewidth": 0,
              "ticks": ""
             }
            },
            "type": "scatterternary"
           }
          ],
          "surface": [
           {
            "colorbar": {
             "outlinewidth": 0,
             "ticks": ""
            },
            "colorscale": [
             [
              0,
              "#0d0887"
             ],
             [
              0.1111111111111111,
              "#46039f"
             ],
             [
              0.2222222222222222,
              "#7201a8"
             ],
             [
              0.3333333333333333,
              "#9c179e"
             ],
             [
              0.4444444444444444,
              "#bd3786"
             ],
             [
              0.5555555555555556,
              "#d8576b"
             ],
             [
              0.6666666666666666,
              "#ed7953"
             ],
             [
              0.7777777777777778,
              "#fb9f3a"
             ],
             [
              0.8888888888888888,
              "#fdca26"
             ],
             [
              1,
              "#f0f921"
             ]
            ],
            "type": "surface"
           }
          ],
          "table": [
           {
            "cells": {
             "fill": {
              "color": "#EBF0F8"
             },
             "line": {
              "color": "white"
             }
            },
            "header": {
             "fill": {
              "color": "#C8D4E3"
             },
             "line": {
              "color": "white"
             }
            },
            "type": "table"
           }
          ]
         },
         "layout": {
          "annotationdefaults": {
           "arrowcolor": "#2a3f5f",
           "arrowhead": 0,
           "arrowwidth": 1
          },
          "autotypenumbers": "strict",
          "coloraxis": {
           "colorbar": {
            "outlinewidth": 0,
            "ticks": ""
           }
          },
          "colorscale": {
           "diverging": [
            [
             0,
             "#8e0152"
            ],
            [
             0.1,
             "#c51b7d"
            ],
            [
             0.2,
             "#de77ae"
            ],
            [
             0.3,
             "#f1b6da"
            ],
            [
             0.4,
             "#fde0ef"
            ],
            [
             0.5,
             "#f7f7f7"
            ],
            [
             0.6,
             "#e6f5d0"
            ],
            [
             0.7,
             "#b8e186"
            ],
            [
             0.8,
             "#7fbc41"
            ],
            [
             0.9,
             "#4d9221"
            ],
            [
             1,
             "#276419"
            ]
           ],
           "sequential": [
            [
             0,
             "#0d0887"
            ],
            [
             0.1111111111111111,
             "#46039f"
            ],
            [
             0.2222222222222222,
             "#7201a8"
            ],
            [
             0.3333333333333333,
             "#9c179e"
            ],
            [
             0.4444444444444444,
             "#bd3786"
            ],
            [
             0.5555555555555556,
             "#d8576b"
            ],
            [
             0.6666666666666666,
             "#ed7953"
            ],
            [
             0.7777777777777778,
             "#fb9f3a"
            ],
            [
             0.8888888888888888,
             "#fdca26"
            ],
            [
             1,
             "#f0f921"
            ]
           ],
           "sequentialminus": [
            [
             0,
             "#0d0887"
            ],
            [
             0.1111111111111111,
             "#46039f"
            ],
            [
             0.2222222222222222,
             "#7201a8"
            ],
            [
             0.3333333333333333,
             "#9c179e"
            ],
            [
             0.4444444444444444,
             "#bd3786"
            ],
            [
             0.5555555555555556,
             "#d8576b"
            ],
            [
             0.6666666666666666,
             "#ed7953"
            ],
            [
             0.7777777777777778,
             "#fb9f3a"
            ],
            [
             0.8888888888888888,
             "#fdca26"
            ],
            [
             1,
             "#f0f921"
            ]
           ]
          },
          "colorway": [
           "#636efa",
           "#EF553B",
           "#00cc96",
           "#ab63fa",
           "#FFA15A",
           "#19d3f3",
           "#FF6692",
           "#B6E880",
           "#FF97FF",
           "#FECB52"
          ],
          "font": {
           "color": "#2a3f5f"
          },
          "geo": {
           "bgcolor": "white",
           "lakecolor": "white",
           "landcolor": "#E5ECF6",
           "showlakes": true,
           "showland": true,
           "subunitcolor": "white"
          },
          "hoverlabel": {
           "align": "left"
          },
          "hovermode": "closest",
          "mapbox": {
           "style": "light"
          },
          "paper_bgcolor": "white",
          "plot_bgcolor": "#E5ECF6",
          "polar": {
           "angularaxis": {
            "gridcolor": "white",
            "linecolor": "white",
            "ticks": ""
           },
           "bgcolor": "#E5ECF6",
           "radialaxis": {
            "gridcolor": "white",
            "linecolor": "white",
            "ticks": ""
           }
          },
          "scene": {
           "xaxis": {
            "backgroundcolor": "#E5ECF6",
            "gridcolor": "white",
            "gridwidth": 2,
            "linecolor": "white",
            "showbackground": true,
            "ticks": "",
            "zerolinecolor": "white"
           },
           "yaxis": {
            "backgroundcolor": "#E5ECF6",
            "gridcolor": "white",
            "gridwidth": 2,
            "linecolor": "white",
            "showbackground": true,
            "ticks": "",
            "zerolinecolor": "white"
           },
           "zaxis": {
            "backgroundcolor": "#E5ECF6",
            "gridcolor": "white",
            "gridwidth": 2,
            "linecolor": "white",
            "showbackground": true,
            "ticks": "",
            "zerolinecolor": "white"
           }
          },
          "shapedefaults": {
           "line": {
            "color": "#2a3f5f"
           }
          },
          "ternary": {
           "aaxis": {
            "gridcolor": "white",
            "linecolor": "white",
            "ticks": ""
           },
           "baxis": {
            "gridcolor": "white",
            "linecolor": "white",
            "ticks": ""
           },
           "bgcolor": "#E5ECF6",
           "caxis": {
            "gridcolor": "white",
            "linecolor": "white",
            "ticks": ""
           }
          },
          "title": {
           "x": 0.05
          },
          "xaxis": {
           "automargin": true,
           "gridcolor": "white",
           "linecolor": "white",
           "ticks": "",
           "title": {
            "standoff": 15
           },
           "zerolinecolor": "white",
           "zerolinewidth": 2
          },
          "yaxis": {
           "automargin": true,
           "gridcolor": "white",
           "linecolor": "white",
           "ticks": "",
           "title": {
            "standoff": 15
           },
           "zerolinecolor": "white",
           "zerolinewidth": 2
          }
         }
        },
        "title": {
         "text": "Total amount of movements for all Dutch airports between 2019 and 2023"
        },
        "xaxis": {
         "anchor": "y",
         "domain": [
          0,
          1
         ],
         "title": {
          "text": "Period"
         }
        },
        "yaxis": {
         "anchor": "x",
         "domain": [
          0,
          1
         ],
         "title": {
          "text": "Amount in [flights], [pax] or [tons]"
         },
         "type": "log"
        }
       }
      }
     },
     "metadata": {},
     "output_type": "display_data"
    }
   ],
   "source": [
    "data_total = data.loc[data['Periods'].str.contains('2019MM|2020MM|2021MM|2022MM|2023MM', case=False, regex=True)]\n",
    "data_total2 = data_total.iloc[:, [1, 2, 5, 14, 45, 76]]\n",
    "data_total2 = data_total2.groupby('Airports').get_group('TOTAL')\n",
    "# data_total2 = data_total2.groupby('Airports').get_group('Schiphol')\n",
    "# data_total2 = data_total2.groupby('Airports').get_group('Rotterdam The Hague')\n",
    "# data_total2 = data_total2.groupby('Airports').get_group('Eindhoven')\n",
    "# data_total2 = data_total2.groupby('Airports').get_group('Maastricht Aachen')\n",
    "# data_total2 = data_total2.groupby('Airports').get_group('Groningen')\n",
    "\n",
    "data_total2['Total Flights'] = pd.to_numeric(data_total2['Total Flights'], errors='coerce')\n",
    "data_total2['Total Passengers'] = pd.to_numeric(data_total2['Total Passengers'], errors='coerce')\n",
    "data_total2['Total Cargo [tons]'] = pd.to_numeric(data_total2['Total Cargo [tons]'], errors='coerce')\n",
    "data_total2['Total Mail [tons]'] = pd.to_numeric(data_total2['Total Mail [tons]'], errors='coerce')\n",
    "\n",
    "figtotal2 = px.line(data_total2, \n",
    "                x = 'Periods', \n",
    "                y = [\"Total Flights\", \"Total Passengers\", \"Total Cargo [tons]\", \"Total Mail [tons]\"],\n",
    "                color = \"variable\",\n",
    "                symbol = \"variable\",\n",
    "                log_y = True,\n",
    "                labels = {\n",
    "                    \"Periods\": \"Period\",\n",
    "                    \"value\": \"Amount in [flights], [pax] or [tons]\",\n",
    "                    \"variable\": \"Type of movement\"\n",
    "                    }\n",
    "                )\n",
    "\n",
    "figtotal2.update_layout(\n",
    "                title={'text': 'Total amount of movements for all Dutch airports between 2019 and 2023'},\n",
    "                height=800\n",
    "                )\n",
    "\n",
    "figtotal2.show()\n",
    "\n"
   ]
  },
  {
   "cell_type": "code",
   "execution_count": 261,
   "id": "8be87409",
   "metadata": {},
   "outputs": [
    {
     "data": {
      "application/vnd.plotly.v1+json": {
       "config": {
        "plotlyServerURL": "https://plot.ly"
       },
       "data": [
        {
         "alignmentgroup": "True",
         "hovertemplate": "x=%{x}<br>y=%{y}<extra></extra>",
         "legendgroup": "",
         "marker": {
          "color": "orange",
          "pattern": {
           "shape": ""
          }
         },
         "name": "",
         "offsetgroup": "",
         "orientation": "v",
         "showlegend": false,
         "textposition": "auto",
         "type": "bar",
         "x": [
          "2020MM03",
          "2020MM04",
          "2020MM05",
          "2020MM06",
          "2020MM07",
          "2020MM08",
          "2020MM09",
          "2020MM10",
          "2020MM11",
          "2020MM12",
          "2021MM01",
          "2021MM02",
          "2021MM04",
          "2021MM05",
          "2021MM06",
          "2021MM07",
          "2021MM08",
          "2021MM09",
          "2021MM10",
          "2021MM11",
          "2021MM12",
          "2022MM01",
          "2022MM02",
          "2022MM04",
          "2022MM05",
          "2022MM06",
          "2022MM07",
          "2022MM08",
          "2022MM09",
          "2022MM10",
          "2022MM11",
          "2022MM12",
          "2023MM01"
         ],
         "xaxis": "x",
         "y": [
          12595,
          26716,
          7126,
          3831,
          4028,
          16365,
          50166,
          230293,
          172255,
          273309,
          174021,
          109045,
          404434,
          151799,
          35218,
          174793,
          74554,
          61284,
          127962,
          507820,
          485064,
          1283474,
          1900270,
          1658867,
          36617,
          96703,
          150459,
          49197,
          44050,
          83983,
          26957,
          26974,
          12103
         ],
         "yaxis": "y"
        }
       ],
       "layout": {
        "barmode": "relative",
        "legend": {
         "tracegroupgap": 0
        },
        "template": {
         "data": {
          "bar": [
           {
            "error_x": {
             "color": "#2a3f5f"
            },
            "error_y": {
             "color": "#2a3f5f"
            },
            "marker": {
             "line": {
              "color": "#E5ECF6",
              "width": 0.5
             },
             "pattern": {
              "fillmode": "overlay",
              "size": 10,
              "solidity": 0.2
             }
            },
            "type": "bar"
           }
          ],
          "barpolar": [
           {
            "marker": {
             "line": {
              "color": "#E5ECF6",
              "width": 0.5
             },
             "pattern": {
              "fillmode": "overlay",
              "size": 10,
              "solidity": 0.2
             }
            },
            "type": "barpolar"
           }
          ],
          "carpet": [
           {
            "aaxis": {
             "endlinecolor": "#2a3f5f",
             "gridcolor": "white",
             "linecolor": "white",
             "minorgridcolor": "white",
             "startlinecolor": "#2a3f5f"
            },
            "baxis": {
             "endlinecolor": "#2a3f5f",
             "gridcolor": "white",
             "linecolor": "white",
             "minorgridcolor": "white",
             "startlinecolor": "#2a3f5f"
            },
            "type": "carpet"
           }
          ],
          "choropleth": [
           {
            "colorbar": {
             "outlinewidth": 0,
             "ticks": ""
            },
            "type": "choropleth"
           }
          ],
          "contour": [
           {
            "colorbar": {
             "outlinewidth": 0,
             "ticks": ""
            },
            "colorscale": [
             [
              0,
              "#0d0887"
             ],
             [
              0.1111111111111111,
              "#46039f"
             ],
             [
              0.2222222222222222,
              "#7201a8"
             ],
             [
              0.3333333333333333,
              "#9c179e"
             ],
             [
              0.4444444444444444,
              "#bd3786"
             ],
             [
              0.5555555555555556,
              "#d8576b"
             ],
             [
              0.6666666666666666,
              "#ed7953"
             ],
             [
              0.7777777777777778,
              "#fb9f3a"
             ],
             [
              0.8888888888888888,
              "#fdca26"
             ],
             [
              1,
              "#f0f921"
             ]
            ],
            "type": "contour"
           }
          ],
          "contourcarpet": [
           {
            "colorbar": {
             "outlinewidth": 0,
             "ticks": ""
            },
            "type": "contourcarpet"
           }
          ],
          "heatmap": [
           {
            "colorbar": {
             "outlinewidth": 0,
             "ticks": ""
            },
            "colorscale": [
             [
              0,
              "#0d0887"
             ],
             [
              0.1111111111111111,
              "#46039f"
             ],
             [
              0.2222222222222222,
              "#7201a8"
             ],
             [
              0.3333333333333333,
              "#9c179e"
             ],
             [
              0.4444444444444444,
              "#bd3786"
             ],
             [
              0.5555555555555556,
              "#d8576b"
             ],
             [
              0.6666666666666666,
              "#ed7953"
             ],
             [
              0.7777777777777778,
              "#fb9f3a"
             ],
             [
              0.8888888888888888,
              "#fdca26"
             ],
             [
              1,
              "#f0f921"
             ]
            ],
            "type": "heatmap"
           }
          ],
          "heatmapgl": [
           {
            "colorbar": {
             "outlinewidth": 0,
             "ticks": ""
            },
            "colorscale": [
             [
              0,
              "#0d0887"
             ],
             [
              0.1111111111111111,
              "#46039f"
             ],
             [
              0.2222222222222222,
              "#7201a8"
             ],
             [
              0.3333333333333333,
              "#9c179e"
             ],
             [
              0.4444444444444444,
              "#bd3786"
             ],
             [
              0.5555555555555556,
              "#d8576b"
             ],
             [
              0.6666666666666666,
              "#ed7953"
             ],
             [
              0.7777777777777778,
              "#fb9f3a"
             ],
             [
              0.8888888888888888,
              "#fdca26"
             ],
             [
              1,
              "#f0f921"
             ]
            ],
            "type": "heatmapgl"
           }
          ],
          "histogram": [
           {
            "marker": {
             "pattern": {
              "fillmode": "overlay",
              "size": 10,
              "solidity": 0.2
             }
            },
            "type": "histogram"
           }
          ],
          "histogram2d": [
           {
            "colorbar": {
             "outlinewidth": 0,
             "ticks": ""
            },
            "colorscale": [
             [
              0,
              "#0d0887"
             ],
             [
              0.1111111111111111,
              "#46039f"
             ],
             [
              0.2222222222222222,
              "#7201a8"
             ],
             [
              0.3333333333333333,
              "#9c179e"
             ],
             [
              0.4444444444444444,
              "#bd3786"
             ],
             [
              0.5555555555555556,
              "#d8576b"
             ],
             [
              0.6666666666666666,
              "#ed7953"
             ],
             [
              0.7777777777777778,
              "#fb9f3a"
             ],
             [
              0.8888888888888888,
              "#fdca26"
             ],
             [
              1,
              "#f0f921"
             ]
            ],
            "type": "histogram2d"
           }
          ],
          "histogram2dcontour": [
           {
            "colorbar": {
             "outlinewidth": 0,
             "ticks": ""
            },
            "colorscale": [
             [
              0,
              "#0d0887"
             ],
             [
              0.1111111111111111,
              "#46039f"
             ],
             [
              0.2222222222222222,
              "#7201a8"
             ],
             [
              0.3333333333333333,
              "#9c179e"
             ],
             [
              0.4444444444444444,
              "#bd3786"
             ],
             [
              0.5555555555555556,
              "#d8576b"
             ],
             [
              0.6666666666666666,
              "#ed7953"
             ],
             [
              0.7777777777777778,
              "#fb9f3a"
             ],
             [
              0.8888888888888888,
              "#fdca26"
             ],
             [
              1,
              "#f0f921"
             ]
            ],
            "type": "histogram2dcontour"
           }
          ],
          "mesh3d": [
           {
            "colorbar": {
             "outlinewidth": 0,
             "ticks": ""
            },
            "type": "mesh3d"
           }
          ],
          "parcoords": [
           {
            "line": {
             "colorbar": {
              "outlinewidth": 0,
              "ticks": ""
             }
            },
            "type": "parcoords"
           }
          ],
          "pie": [
           {
            "automargin": true,
            "type": "pie"
           }
          ],
          "scatter": [
           {
            "fillpattern": {
             "fillmode": "overlay",
             "size": 10,
             "solidity": 0.2
            },
            "type": "scatter"
           }
          ],
          "scatter3d": [
           {
            "line": {
             "colorbar": {
              "outlinewidth": 0,
              "ticks": ""
             }
            },
            "marker": {
             "colorbar": {
              "outlinewidth": 0,
              "ticks": ""
             }
            },
            "type": "scatter3d"
           }
          ],
          "scattercarpet": [
           {
            "marker": {
             "colorbar": {
              "outlinewidth": 0,
              "ticks": ""
             }
            },
            "type": "scattercarpet"
           }
          ],
          "scattergeo": [
           {
            "marker": {
             "colorbar": {
              "outlinewidth": 0,
              "ticks": ""
             }
            },
            "type": "scattergeo"
           }
          ],
          "scattergl": [
           {
            "marker": {
             "colorbar": {
              "outlinewidth": 0,
              "ticks": ""
             }
            },
            "type": "scattergl"
           }
          ],
          "scattermapbox": [
           {
            "marker": {
             "colorbar": {
              "outlinewidth": 0,
              "ticks": ""
             }
            },
            "type": "scattermapbox"
           }
          ],
          "scatterpolar": [
           {
            "marker": {
             "colorbar": {
              "outlinewidth": 0,
              "ticks": ""
             }
            },
            "type": "scatterpolar"
           }
          ],
          "scatterpolargl": [
           {
            "marker": {
             "colorbar": {
              "outlinewidth": 0,
              "ticks": ""
             }
            },
            "type": "scatterpolargl"
           }
          ],
          "scatterternary": [
           {
            "marker": {
             "colorbar": {
              "outlinewidth": 0,
              "ticks": ""
             }
            },
            "type": "scatterternary"
           }
          ],
          "surface": [
           {
            "colorbar": {
             "outlinewidth": 0,
             "ticks": ""
            },
            "colorscale": [
             [
              0,
              "#0d0887"
             ],
             [
              0.1111111111111111,
              "#46039f"
             ],
             [
              0.2222222222222222,
              "#7201a8"
             ],
             [
              0.3333333333333333,
              "#9c179e"
             ],
             [
              0.4444444444444444,
              "#bd3786"
             ],
             [
              0.5555555555555556,
              "#d8576b"
             ],
             [
              0.6666666666666666,
              "#ed7953"
             ],
             [
              0.7777777777777778,
              "#fb9f3a"
             ],
             [
              0.8888888888888888,
              "#fdca26"
             ],
             [
              1,
              "#f0f921"
             ]
            ],
            "type": "surface"
           }
          ],
          "table": [
           {
            "cells": {
             "fill": {
              "color": "#EBF0F8"
             },
             "line": {
              "color": "white"
             }
            },
            "header": {
             "fill": {
              "color": "#C8D4E3"
             },
             "line": {
              "color": "white"
             }
            },
            "type": "table"
           }
          ]
         },
         "layout": {
          "annotationdefaults": {
           "arrowcolor": "#2a3f5f",
           "arrowhead": 0,
           "arrowwidth": 1
          },
          "autotypenumbers": "strict",
          "coloraxis": {
           "colorbar": {
            "outlinewidth": 0,
            "ticks": ""
           }
          },
          "colorscale": {
           "diverging": [
            [
             0,
             "#8e0152"
            ],
            [
             0.1,
             "#c51b7d"
            ],
            [
             0.2,
             "#de77ae"
            ],
            [
             0.3,
             "#f1b6da"
            ],
            [
             0.4,
             "#fde0ef"
            ],
            [
             0.5,
             "#f7f7f7"
            ],
            [
             0.6,
             "#e6f5d0"
            ],
            [
             0.7,
             "#b8e186"
            ],
            [
             0.8,
             "#7fbc41"
            ],
            [
             0.9,
             "#4d9221"
            ],
            [
             1,
             "#276419"
            ]
           ],
           "sequential": [
            [
             0,
             "#0d0887"
            ],
            [
             0.1111111111111111,
             "#46039f"
            ],
            [
             0.2222222222222222,
             "#7201a8"
            ],
            [
             0.3333333333333333,
             "#9c179e"
            ],
            [
             0.4444444444444444,
             "#bd3786"
            ],
            [
             0.5555555555555556,
             "#d8576b"
            ],
            [
             0.6666666666666666,
             "#ed7953"
            ],
            [
             0.7777777777777778,
             "#fb9f3a"
            ],
            [
             0.8888888888888888,
             "#fdca26"
            ],
            [
             1,
             "#f0f921"
            ]
           ],
           "sequentialminus": [
            [
             0,
             "#0d0887"
            ],
            [
             0.1111111111111111,
             "#46039f"
            ],
            [
             0.2222222222222222,
             "#7201a8"
            ],
            [
             0.3333333333333333,
             "#9c179e"
            ],
            [
             0.4444444444444444,
             "#bd3786"
            ],
            [
             0.5555555555555556,
             "#d8576b"
            ],
            [
             0.6666666666666666,
             "#ed7953"
            ],
            [
             0.7777777777777778,
             "#fb9f3a"
            ],
            [
             0.8888888888888888,
             "#fdca26"
            ],
            [
             1,
             "#f0f921"
            ]
           ]
          },
          "colorway": [
           "#636efa",
           "#EF553B",
           "#00cc96",
           "#ab63fa",
           "#FFA15A",
           "#19d3f3",
           "#FF6692",
           "#B6E880",
           "#FF97FF",
           "#FECB52"
          ],
          "font": {
           "color": "#2a3f5f"
          },
          "geo": {
           "bgcolor": "white",
           "lakecolor": "white",
           "landcolor": "#E5ECF6",
           "showlakes": true,
           "showland": true,
           "subunitcolor": "white"
          },
          "hoverlabel": {
           "align": "left"
          },
          "hovermode": "closest",
          "mapbox": {
           "style": "light"
          },
          "paper_bgcolor": "white",
          "plot_bgcolor": "#E5ECF6",
          "polar": {
           "angularaxis": {
            "gridcolor": "white",
            "linecolor": "white",
            "ticks": ""
           },
           "bgcolor": "#E5ECF6",
           "radialaxis": {
            "gridcolor": "white",
            "linecolor": "white",
            "ticks": ""
           }
          },
          "scene": {
           "xaxis": {
            "backgroundcolor": "#E5ECF6",
            "gridcolor": "white",
            "gridwidth": 2,
            "linecolor": "white",
            "showbackground": true,
            "ticks": "",
            "zerolinecolor": "white"
           },
           "yaxis": {
            "backgroundcolor": "#E5ECF6",
            "gridcolor": "white",
            "gridwidth": 2,
            "linecolor": "white",
            "showbackground": true,
            "ticks": "",
            "zerolinecolor": "white"
           },
           "zaxis": {
            "backgroundcolor": "#E5ECF6",
            "gridcolor": "white",
            "gridwidth": 2,
            "linecolor": "white",
            "showbackground": true,
            "ticks": "",
            "zerolinecolor": "white"
           }
          },
          "shapedefaults": {
           "line": {
            "color": "#2a3f5f"
           }
          },
          "ternary": {
           "aaxis": {
            "gridcolor": "white",
            "linecolor": "white",
            "ticks": ""
           },
           "baxis": {
            "gridcolor": "white",
            "linecolor": "white",
            "ticks": ""
           },
           "bgcolor": "#E5ECF6",
           "caxis": {
            "gridcolor": "white",
            "linecolor": "white",
            "ticks": ""
           }
          },
          "title": {
           "x": 0.05
          },
          "xaxis": {
           "automargin": true,
           "gridcolor": "white",
           "linecolor": "white",
           "ticks": "",
           "title": {
            "standoff": 15
           },
           "zerolinecolor": "white",
           "zerolinewidth": 2
          },
          "yaxis": {
           "automargin": true,
           "gridcolor": "white",
           "linecolor": "white",
           "ticks": "",
           "title": {
            "standoff": 15
           },
           "zerolinecolor": "white",
           "zerolinewidth": 2
          }
         }
        },
        "title": {
         "text": "Amount of reported covid cases per month in the Netherlands"
        },
        "xaxis": {
         "anchor": "y",
         "domain": [
          0,
          1
         ],
         "tickangle": 90,
         "title": {
          "text": "Month, Year"
         }
        },
        "yaxis": {
         "anchor": "x",
         "domain": [
          0,
          1
         ],
         "title": {
          "text": "Reported covid cases"
         }
        }
       }
      }
     },
     "metadata": {},
     "output_type": "display_data"
    }
   ],
   "source": [
    "covidfile_path = 'COVID_19_aantallen_gemeente_cumulatief.csv'\n",
    "\n",
    "coviddata = pd.read_csv(covidfile_path, delimiter=';')\n",
    "\n",
    "end_of_months = '2020-03-31|2020-04-30|2020-05-31|2020-06-30|2020-07-31|2020-08-31|2020-09-30|2020-10-31|2020-11-30|2020-12-31|2021-01-31|2021-02-28|\\\n",
    "                 2021-03-31|2021-04-30|2021-05-31|2021-06-30|2021-07-31|2021-08-31|2021-09-30|2021-10-31|2021-11-30|2021-12-31|2022-01-31|2022-02-28|\\\n",
    "                 2022-03-31|2022-04-30|2022-05-31|2022-06-30|2022-07-31|2022-08-31|2022-09-30|2022-10-31|2022-11-30|2022-12-31|2023-01-31|2023-02-28|\\\n",
    "                 2023-03-31|2023-04-30|2023-05-31|2023-06-30|2023-07-31|2023-08-31'\n",
    "\n",
    "coviddf = coviddata[coviddata['Date_of_publication'].str.contains(end_of_months)==True]\n",
    "\n",
    "coviddf = coviddf.drop(['Version', 'Date_of_report', 'Municipality_code',\n",
    "       'Municipality_name', 'Hospital_admission',\n",
    "       'Deceased'], axis=1)\n",
    "\n",
    "coviddf = coviddf.reset_index()\n",
    "\n",
    "for i in range(len(coviddf)):\n",
    "    date_list = coviddf['Date_of_publication'][i].rstrip('10:00:00').split('-')\n",
    "    new_date = date_list[0] + 'MM' + date_list[1]\n",
    "    coviddf.loc[i, 'Date_of_publication'] = new_date\n",
    "\n",
    "sum = 0\n",
    "date = coviddf['Date_of_publication'][0]\n",
    "cumulative_per_date = {}\n",
    "cumulative = 0\n",
    "sum_last_month = 0\n",
    "\n",
    "for i in range(len(coviddf)):\n",
    "    if coviddf['Date_of_publication'][i] == date:\n",
    "        sum += coviddf['Total_reported'][i]\n",
    "    else:\n",
    "        sum -= cumulative\n",
    "        cumulative += sum\n",
    "        cumulative_per_date.update({date: sum})\n",
    "        date = coviddf['Date_of_publication'][i]\n",
    "        last_sum = sum\n",
    "        sum = 0\n",
    "\n",
    "fig3 = px.bar(x= cumulative_per_date.keys(),\n",
    "              y = cumulative_per_date.values(),\n",
    "              title = 'Amount of reported covid cases per month in the Netherlands',\n",
    "              color_discrete_sequence =['orange']*len(cumulative_per_date),\n",
    "            #   opacity = 0.5\n",
    "            )\n",
    "fig3.update_xaxes(tickangle=90, title = 'Month, Year')\n",
    "fig3.update_yaxes(title = 'Reported covid cases')\n",
    "# fig3.update_layout(autosize = False, width = 800, height = 600)\n",
    "\n",
    "fig3.show()"
   ]
  },
  {
   "cell_type": "code",
   "execution_count": 262,
   "id": "a86c0865",
   "metadata": {},
   "outputs": [
    {
     "data": {
      "application/vnd.plotly.v1+json": {
       "config": {
        "plotlyServerURL": "https://plot.ly"
       },
       "data": [
        {
         "hovertemplate": "Type of movement=Total Flights<br>Period=%{x}<br>Amount in [flights], [pax] or [tons]=%{y}<extra></extra>",
         "legendgroup": "Total Flights",
         "line": {
          "color": "#636efa",
          "dash": "solid"
         },
         "marker": {
          "symbol": "circle"
         },
         "mode": "lines+markers",
         "name": "Total Flights",
         "orientation": "v",
         "showlegend": true,
         "type": "scatter",
         "x": [
          "2019MM01",
          "2019MM02",
          "2019MM03",
          "2019MM04",
          "2019MM05",
          "2019MM06",
          "2019MM07",
          "2019MM08",
          "2019MM09",
          "2019MM10",
          "2019MM11",
          "2019MM12",
          "2020MM01",
          "2020MM02",
          "2020MM03",
          "2020MM04",
          "2020MM05",
          "2020MM06",
          "2020MM07",
          "2020MM08",
          "2020MM09",
          "2020MM10",
          "2020MM11",
          "2020MM12",
          "2021MM01",
          "2021MM02",
          "2021MM03",
          "2021MM04",
          "2021MM05",
          "2021MM06",
          "2021MM07",
          "2021MM08",
          "2021MM09",
          "2021MM10",
          "2021MM11",
          "2021MM12",
          "2022MM01",
          "2022MM02",
          "2022MM03",
          "2022MM04",
          "2022MM05",
          "2022MM06",
          "2022MM07",
          "2022MM08",
          "2022MM09",
          "2022MM10",
          "2022MM11",
          "2022MM12",
          "2023MM01",
          "2023MM02",
          "2023MM03",
          "2023MM04",
          "2023MM05",
          "2023MM06",
          "2023MM07",
          "2023MM08"
         ],
         "xaxis": "x",
         "y": [
          41285,
          39204,
          44649,
          47934,
          51719,
          50135,
          51786,
          52127,
          51091,
          51135,
          42195,
          42771,
          41768,
          39299,
          28306,
          4759,
          6556,
          9336,
          19701,
          27575,
          25290,
          22028,
          16283,
          17325,
          15907,
          11528,
          13228,
          14891,
          16987,
          21701,
          33916,
          37282,
          35262,
          36465,
          32026,
          33869,
          29604,
          27456,
          34568,
          38824,
          44823,
          43248,
          43218,
          44862,
          43523,
          42909,
          34597,
          34968,
          34322,
          32416,
          38044,
          41609,
          45469,
          44638,
          47556,
          48111
         ],
         "yaxis": "y"
        },
        {
         "hovertemplate": "Type of movement=Total Passengers<br>Period=%{x}<br>Amount in [flights], [pax] or [tons]=%{y}<extra></extra>",
         "legendgroup": "Total Passengers",
         "line": {
          "color": "#EF553B",
          "dash": "solid"
         },
         "marker": {
          "symbol": "diamond"
         },
         "mode": "lines+markers",
         "name": "Total Passengers",
         "orientation": "v",
         "showlegend": true,
         "type": "scatter",
         "x": [
          "2019MM01",
          "2019MM02",
          "2019MM03",
          "2019MM04",
          "2019MM05",
          "2019MM06",
          "2019MM07",
          "2019MM08",
          "2019MM09",
          "2019MM10",
          "2019MM11",
          "2019MM12",
          "2020MM01",
          "2020MM02",
          "2020MM03",
          "2020MM04",
          "2020MM05",
          "2020MM06",
          "2020MM07",
          "2020MM08",
          "2020MM09",
          "2020MM10",
          "2020MM11",
          "2020MM12",
          "2021MM01",
          "2021MM02",
          "2021MM03",
          "2021MM04",
          "2021MM05",
          "2021MM06",
          "2021MM07",
          "2021MM08",
          "2021MM09",
          "2021MM10",
          "2021MM11",
          "2021MM12",
          "2022MM01",
          "2022MM02",
          "2022MM03",
          "2022MM04",
          "2022MM05",
          "2022MM06",
          "2022MM07",
          "2022MM08",
          "2022MM09",
          "2022MM10",
          "2022MM11",
          "2022MM12",
          "2023MM01",
          "2023MM02",
          "2023MM03",
          "2023MM04",
          "2023MM05",
          "2023MM06",
          "2023MM07",
          "2023MM08"
         ],
         "xaxis": "x",
         "y": [
          5495052,
          5352301,
          6270788,
          6926059,
          7396960,
          7471334,
          7730263,
          7859458,
          7486440,
          7354352,
          5885771,
          5938523,
          5595249,
          5281600,
          2773554,
          133752,
          220120,
          526544,
          1690515,
          2242935,
          1547263,
          1303123,
          965071,
          1306018,
          909617,
          519827,
          676647,
          817876,
          1169673,
          1870330,
          3515159,
          4479180,
          4013477,
          4395945,
          3492940,
          3208864,
          2831598,
          3040193,
          4241663,
          5140272,
          6091195,
          6118070,
          6211931,
          6378969,
          6108567,
          5854649,
          4570458,
          4680493,
          4480014,
          4348644,
          5276851,
          5912774,
          6514881,
          6539439,
          6991247,
          7061633
         ],
         "yaxis": "y"
        },
        {
         "hovertemplate": "Type of movement=Total Cargo [tons]<br>Period=%{x}<br>Amount in [flights], [pax] or [tons]=%{y}<extra></extra>",
         "legendgroup": "Total Cargo [tons]",
         "line": {
          "color": "#00cc96",
          "dash": "solid"
         },
         "marker": {
          "symbol": "square"
         },
         "mode": "lines+markers",
         "name": "Total Cargo [tons]",
         "orientation": "v",
         "showlegend": true,
         "type": "scatter",
         "x": [
          "2019MM01",
          "2019MM02",
          "2019MM03",
          "2019MM04",
          "2019MM05",
          "2019MM06",
          "2019MM07",
          "2019MM08",
          "2019MM09",
          "2019MM10",
          "2019MM11",
          "2019MM12",
          "2020MM01",
          "2020MM02",
          "2020MM03",
          "2020MM04",
          "2020MM05",
          "2020MM06",
          "2020MM07",
          "2020MM08",
          "2020MM09",
          "2020MM10",
          "2020MM11",
          "2020MM12",
          "2021MM01",
          "2021MM02",
          "2021MM03",
          "2021MM04",
          "2021MM05",
          "2021MM06",
          "2021MM07",
          "2021MM08",
          "2021MM09",
          "2021MM10",
          "2021MM11",
          "2021MM12",
          "2022MM01",
          "2022MM02",
          "2022MM03",
          "2022MM04",
          "2022MM05",
          "2022MM06",
          "2022MM07",
          "2022MM08",
          "2022MM09",
          "2022MM10",
          "2022MM11",
          "2022MM12",
          "2023MM01",
          "2023MM02",
          "2023MM03",
          "2023MM04",
          "2023MM05",
          "2023MM06",
          "2023MM07",
          "2023MM08"
         ],
         "xaxis": "x",
         "y": [
          133445,
          128322,
          155427,
          138159,
          144540,
          131970,
          137391,
          135263,
          140637,
          150127,
          148037,
          138385,
          122254,
          126726,
          127995,
          103420,
          117525,
          121692,
          132684,
          133168,
          135059,
          153109,
          157508,
          146441,
          140859,
          137288,
          165377,
          152164,
          158164,
          145582,
          138789,
          140198,
          144584,
          161776,
          156617,
          153901,
          131588,
          126020,
          137570,
          126658,
          128112,
          125858,
          130029,
          125037,
          130738,
          135512,
          128395,
          120439,
          109114,
          113147,
          125407,
          116129,
          118281,
          112994,
          115703,
          112120
         ],
         "yaxis": "y"
        },
        {
         "hovertemplate": "Type of movement=Total Mail [tons]<br>Period=%{x}<br>Amount in [flights], [pax] or [tons]=%{y}<extra></extra>",
         "legendgroup": "Total Mail [tons]",
         "line": {
          "color": "#ab63fa",
          "dash": "solid"
         },
         "marker": {
          "symbol": "x"
         },
         "mode": "lines+markers",
         "name": "Total Mail [tons]",
         "orientation": "v",
         "showlegend": true,
         "type": "scatter",
         "x": [
          "2019MM01",
          "2019MM02",
          "2019MM03",
          "2019MM04",
          "2019MM05",
          "2019MM06",
          "2019MM07",
          "2019MM08",
          "2019MM09",
          "2019MM10",
          "2019MM11",
          "2019MM12",
          "2020MM01",
          "2020MM02",
          "2020MM03",
          "2020MM04",
          "2020MM05",
          "2020MM06",
          "2020MM07",
          "2020MM08",
          "2020MM09",
          "2020MM10",
          "2020MM11",
          "2020MM12",
          "2021MM01",
          "2021MM02",
          "2021MM03",
          "2021MM04",
          "2021MM05",
          "2021MM06",
          "2021MM07",
          "2021MM08",
          "2021MM09",
          "2021MM10",
          "2021MM11",
          "2021MM12",
          "2022MM01",
          "2022MM02",
          "2022MM03",
          "2022MM04",
          "2022MM05",
          "2022MM06",
          "2022MM07",
          "2022MM08",
          "2022MM09",
          "2022MM10",
          "2022MM11",
          "2022MM12",
          "2023MM01",
          "2023MM02",
          "2023MM03",
          "2023MM04",
          "2023MM05",
          "2023MM06",
          "2023MM07",
          "2023MM08"
         ],
         "xaxis": "x",
         "y": [
          1615,
          1398,
          1761,
          1747,
          1860,
          1736,
          1876,
          1774,
          1747,
          1974,
          2133,
          2338,
          1908,
          1491,
          1167,
          382,
          542,
          855,
          1083,
          1283,
          1251,
          1521,
          1511,
          1837,
          1403,
          1109,
          1379,
          1258,
          1223,
          1128,
          978,
          1049,
          1002,
          1040,
          943,
          1038,
          827,
          824,
          819,
          688,
          685,
          667,
          584,
          549,
          538,
          465,
          461,
          608,
          478,
          440,
          457,
          430,
          471,
          447,
          407,
          454
         ],
         "yaxis": "y"
        },
        {
         "alignmentgroup": "True",
         "hovertemplate": "x=%{x}<br>y=%{y}<extra></extra>",
         "legendgroup": "",
         "marker": {
          "color": "orange",
          "pattern": {
           "shape": ""
          }
         },
         "name": "",
         "offsetgroup": "",
         "orientation": "v",
         "showlegend": false,
         "textposition": "auto",
         "type": "bar",
         "x": [
          "2020MM03",
          "2020MM04",
          "2020MM05",
          "2020MM06",
          "2020MM07",
          "2020MM08",
          "2020MM09",
          "2020MM10",
          "2020MM11",
          "2020MM12",
          "2021MM01",
          "2021MM02",
          "2021MM04",
          "2021MM05",
          "2021MM06",
          "2021MM07",
          "2021MM08",
          "2021MM09",
          "2021MM10",
          "2021MM11",
          "2021MM12",
          "2022MM01",
          "2022MM02",
          "2022MM04",
          "2022MM05",
          "2022MM06",
          "2022MM07",
          "2022MM08",
          "2022MM09",
          "2022MM10",
          "2022MM11",
          "2022MM12",
          "2023MM01"
         ],
         "xaxis": "x",
         "y": [
          12595,
          26716,
          7126,
          3831,
          4028,
          16365,
          50166,
          230293,
          172255,
          273309,
          174021,
          109045,
          404434,
          151799,
          35218,
          174793,
          74554,
          61284,
          127962,
          507820,
          485064,
          1283474,
          1900270,
          1658867,
          36617,
          96703,
          150459,
          49197,
          44050,
          83983,
          26957,
          26974,
          12103
         ],
         "yaxis": "y"
        }
       ],
       "layout": {
        "height": 800,
        "legend": {
         "title": {
          "text": "Type of movement"
         },
         "tracegroupgap": 0
        },
        "margin": {
         "t": 60
        },
        "template": {
         "data": {
          "bar": [
           {
            "error_x": {
             "color": "#2a3f5f"
            },
            "error_y": {
             "color": "#2a3f5f"
            },
            "marker": {
             "line": {
              "color": "#E5ECF6",
              "width": 0.5
             },
             "pattern": {
              "fillmode": "overlay",
              "size": 10,
              "solidity": 0.2
             }
            },
            "type": "bar"
           }
          ],
          "barpolar": [
           {
            "marker": {
             "line": {
              "color": "#E5ECF6",
              "width": 0.5
             },
             "pattern": {
              "fillmode": "overlay",
              "size": 10,
              "solidity": 0.2
             }
            },
            "type": "barpolar"
           }
          ],
          "carpet": [
           {
            "aaxis": {
             "endlinecolor": "#2a3f5f",
             "gridcolor": "white",
             "linecolor": "white",
             "minorgridcolor": "white",
             "startlinecolor": "#2a3f5f"
            },
            "baxis": {
             "endlinecolor": "#2a3f5f",
             "gridcolor": "white",
             "linecolor": "white",
             "minorgridcolor": "white",
             "startlinecolor": "#2a3f5f"
            },
            "type": "carpet"
           }
          ],
          "choropleth": [
           {
            "colorbar": {
             "outlinewidth": 0,
             "ticks": ""
            },
            "type": "choropleth"
           }
          ],
          "contour": [
           {
            "colorbar": {
             "outlinewidth": 0,
             "ticks": ""
            },
            "colorscale": [
             [
              0,
              "#0d0887"
             ],
             [
              0.1111111111111111,
              "#46039f"
             ],
             [
              0.2222222222222222,
              "#7201a8"
             ],
             [
              0.3333333333333333,
              "#9c179e"
             ],
             [
              0.4444444444444444,
              "#bd3786"
             ],
             [
              0.5555555555555556,
              "#d8576b"
             ],
             [
              0.6666666666666666,
              "#ed7953"
             ],
             [
              0.7777777777777778,
              "#fb9f3a"
             ],
             [
              0.8888888888888888,
              "#fdca26"
             ],
             [
              1,
              "#f0f921"
             ]
            ],
            "type": "contour"
           }
          ],
          "contourcarpet": [
           {
            "colorbar": {
             "outlinewidth": 0,
             "ticks": ""
            },
            "type": "contourcarpet"
           }
          ],
          "heatmap": [
           {
            "colorbar": {
             "outlinewidth": 0,
             "ticks": ""
            },
            "colorscale": [
             [
              0,
              "#0d0887"
             ],
             [
              0.1111111111111111,
              "#46039f"
             ],
             [
              0.2222222222222222,
              "#7201a8"
             ],
             [
              0.3333333333333333,
              "#9c179e"
             ],
             [
              0.4444444444444444,
              "#bd3786"
             ],
             [
              0.5555555555555556,
              "#d8576b"
             ],
             [
              0.6666666666666666,
              "#ed7953"
             ],
             [
              0.7777777777777778,
              "#fb9f3a"
             ],
             [
              0.8888888888888888,
              "#fdca26"
             ],
             [
              1,
              "#f0f921"
             ]
            ],
            "type": "heatmap"
           }
          ],
          "heatmapgl": [
           {
            "colorbar": {
             "outlinewidth": 0,
             "ticks": ""
            },
            "colorscale": [
             [
              0,
              "#0d0887"
             ],
             [
              0.1111111111111111,
              "#46039f"
             ],
             [
              0.2222222222222222,
              "#7201a8"
             ],
             [
              0.3333333333333333,
              "#9c179e"
             ],
             [
              0.4444444444444444,
              "#bd3786"
             ],
             [
              0.5555555555555556,
              "#d8576b"
             ],
             [
              0.6666666666666666,
              "#ed7953"
             ],
             [
              0.7777777777777778,
              "#fb9f3a"
             ],
             [
              0.8888888888888888,
              "#fdca26"
             ],
             [
              1,
              "#f0f921"
             ]
            ],
            "type": "heatmapgl"
           }
          ],
          "histogram": [
           {
            "marker": {
             "pattern": {
              "fillmode": "overlay",
              "size": 10,
              "solidity": 0.2
             }
            },
            "type": "histogram"
           }
          ],
          "histogram2d": [
           {
            "colorbar": {
             "outlinewidth": 0,
             "ticks": ""
            },
            "colorscale": [
             [
              0,
              "#0d0887"
             ],
             [
              0.1111111111111111,
              "#46039f"
             ],
             [
              0.2222222222222222,
              "#7201a8"
             ],
             [
              0.3333333333333333,
              "#9c179e"
             ],
             [
              0.4444444444444444,
              "#bd3786"
             ],
             [
              0.5555555555555556,
              "#d8576b"
             ],
             [
              0.6666666666666666,
              "#ed7953"
             ],
             [
              0.7777777777777778,
              "#fb9f3a"
             ],
             [
              0.8888888888888888,
              "#fdca26"
             ],
             [
              1,
              "#f0f921"
             ]
            ],
            "type": "histogram2d"
           }
          ],
          "histogram2dcontour": [
           {
            "colorbar": {
             "outlinewidth": 0,
             "ticks": ""
            },
            "colorscale": [
             [
              0,
              "#0d0887"
             ],
             [
              0.1111111111111111,
              "#46039f"
             ],
             [
              0.2222222222222222,
              "#7201a8"
             ],
             [
              0.3333333333333333,
              "#9c179e"
             ],
             [
              0.4444444444444444,
              "#bd3786"
             ],
             [
              0.5555555555555556,
              "#d8576b"
             ],
             [
              0.6666666666666666,
              "#ed7953"
             ],
             [
              0.7777777777777778,
              "#fb9f3a"
             ],
             [
              0.8888888888888888,
              "#fdca26"
             ],
             [
              1,
              "#f0f921"
             ]
            ],
            "type": "histogram2dcontour"
           }
          ],
          "mesh3d": [
           {
            "colorbar": {
             "outlinewidth": 0,
             "ticks": ""
            },
            "type": "mesh3d"
           }
          ],
          "parcoords": [
           {
            "line": {
             "colorbar": {
              "outlinewidth": 0,
              "ticks": ""
             }
            },
            "type": "parcoords"
           }
          ],
          "pie": [
           {
            "automargin": true,
            "type": "pie"
           }
          ],
          "scatter": [
           {
            "fillpattern": {
             "fillmode": "overlay",
             "size": 10,
             "solidity": 0.2
            },
            "type": "scatter"
           }
          ],
          "scatter3d": [
           {
            "line": {
             "colorbar": {
              "outlinewidth": 0,
              "ticks": ""
             }
            },
            "marker": {
             "colorbar": {
              "outlinewidth": 0,
              "ticks": ""
             }
            },
            "type": "scatter3d"
           }
          ],
          "scattercarpet": [
           {
            "marker": {
             "colorbar": {
              "outlinewidth": 0,
              "ticks": ""
             }
            },
            "type": "scattercarpet"
           }
          ],
          "scattergeo": [
           {
            "marker": {
             "colorbar": {
              "outlinewidth": 0,
              "ticks": ""
             }
            },
            "type": "scattergeo"
           }
          ],
          "scattergl": [
           {
            "marker": {
             "colorbar": {
              "outlinewidth": 0,
              "ticks": ""
             }
            },
            "type": "scattergl"
           }
          ],
          "scattermapbox": [
           {
            "marker": {
             "colorbar": {
              "outlinewidth": 0,
              "ticks": ""
             }
            },
            "type": "scattermapbox"
           }
          ],
          "scatterpolar": [
           {
            "marker": {
             "colorbar": {
              "outlinewidth": 0,
              "ticks": ""
             }
            },
            "type": "scatterpolar"
           }
          ],
          "scatterpolargl": [
           {
            "marker": {
             "colorbar": {
              "outlinewidth": 0,
              "ticks": ""
             }
            },
            "type": "scatterpolargl"
           }
          ],
          "scatterternary": [
           {
            "marker": {
             "colorbar": {
              "outlinewidth": 0,
              "ticks": ""
             }
            },
            "type": "scatterternary"
           }
          ],
          "surface": [
           {
            "colorbar": {
             "outlinewidth": 0,
             "ticks": ""
            },
            "colorscale": [
             [
              0,
              "#0d0887"
             ],
             [
              0.1111111111111111,
              "#46039f"
             ],
             [
              0.2222222222222222,
              "#7201a8"
             ],
             [
              0.3333333333333333,
              "#9c179e"
             ],
             [
              0.4444444444444444,
              "#bd3786"
             ],
             [
              0.5555555555555556,
              "#d8576b"
             ],
             [
              0.6666666666666666,
              "#ed7953"
             ],
             [
              0.7777777777777778,
              "#fb9f3a"
             ],
             [
              0.8888888888888888,
              "#fdca26"
             ],
             [
              1,
              "#f0f921"
             ]
            ],
            "type": "surface"
           }
          ],
          "table": [
           {
            "cells": {
             "fill": {
              "color": "#EBF0F8"
             },
             "line": {
              "color": "white"
             }
            },
            "header": {
             "fill": {
              "color": "#C8D4E3"
             },
             "line": {
              "color": "white"
             }
            },
            "type": "table"
           }
          ]
         },
         "layout": {
          "annotationdefaults": {
           "arrowcolor": "#2a3f5f",
           "arrowhead": 0,
           "arrowwidth": 1
          },
          "autotypenumbers": "strict",
          "coloraxis": {
           "colorbar": {
            "outlinewidth": 0,
            "ticks": ""
           }
          },
          "colorscale": {
           "diverging": [
            [
             0,
             "#8e0152"
            ],
            [
             0.1,
             "#c51b7d"
            ],
            [
             0.2,
             "#de77ae"
            ],
            [
             0.3,
             "#f1b6da"
            ],
            [
             0.4,
             "#fde0ef"
            ],
            [
             0.5,
             "#f7f7f7"
            ],
            [
             0.6,
             "#e6f5d0"
            ],
            [
             0.7,
             "#b8e186"
            ],
            [
             0.8,
             "#7fbc41"
            ],
            [
             0.9,
             "#4d9221"
            ],
            [
             1,
             "#276419"
            ]
           ],
           "sequential": [
            [
             0,
             "#0d0887"
            ],
            [
             0.1111111111111111,
             "#46039f"
            ],
            [
             0.2222222222222222,
             "#7201a8"
            ],
            [
             0.3333333333333333,
             "#9c179e"
            ],
            [
             0.4444444444444444,
             "#bd3786"
            ],
            [
             0.5555555555555556,
             "#d8576b"
            ],
            [
             0.6666666666666666,
             "#ed7953"
            ],
            [
             0.7777777777777778,
             "#fb9f3a"
            ],
            [
             0.8888888888888888,
             "#fdca26"
            ],
            [
             1,
             "#f0f921"
            ]
           ],
           "sequentialminus": [
            [
             0,
             "#0d0887"
            ],
            [
             0.1111111111111111,
             "#46039f"
            ],
            [
             0.2222222222222222,
             "#7201a8"
            ],
            [
             0.3333333333333333,
             "#9c179e"
            ],
            [
             0.4444444444444444,
             "#bd3786"
            ],
            [
             0.5555555555555556,
             "#d8576b"
            ],
            [
             0.6666666666666666,
             "#ed7953"
            ],
            [
             0.7777777777777778,
             "#fb9f3a"
            ],
            [
             0.8888888888888888,
             "#fdca26"
            ],
            [
             1,
             "#f0f921"
            ]
           ]
          },
          "colorway": [
           "#636efa",
           "#EF553B",
           "#00cc96",
           "#ab63fa",
           "#FFA15A",
           "#19d3f3",
           "#FF6692",
           "#B6E880",
           "#FF97FF",
           "#FECB52"
          ],
          "font": {
           "color": "#2a3f5f"
          },
          "geo": {
           "bgcolor": "white",
           "lakecolor": "white",
           "landcolor": "#E5ECF6",
           "showlakes": true,
           "showland": true,
           "subunitcolor": "white"
          },
          "hoverlabel": {
           "align": "left"
          },
          "hovermode": "closest",
          "mapbox": {
           "style": "light"
          },
          "paper_bgcolor": "white",
          "plot_bgcolor": "#E5ECF6",
          "polar": {
           "angularaxis": {
            "gridcolor": "white",
            "linecolor": "white",
            "ticks": ""
           },
           "bgcolor": "#E5ECF6",
           "radialaxis": {
            "gridcolor": "white",
            "linecolor": "white",
            "ticks": ""
           }
          },
          "scene": {
           "xaxis": {
            "backgroundcolor": "#E5ECF6",
            "gridcolor": "white",
            "gridwidth": 2,
            "linecolor": "white",
            "showbackground": true,
            "ticks": "",
            "zerolinecolor": "white"
           },
           "yaxis": {
            "backgroundcolor": "#E5ECF6",
            "gridcolor": "white",
            "gridwidth": 2,
            "linecolor": "white",
            "showbackground": true,
            "ticks": "",
            "zerolinecolor": "white"
           },
           "zaxis": {
            "backgroundcolor": "#E5ECF6",
            "gridcolor": "white",
            "gridwidth": 2,
            "linecolor": "white",
            "showbackground": true,
            "ticks": "",
            "zerolinecolor": "white"
           }
          },
          "shapedefaults": {
           "line": {
            "color": "#2a3f5f"
           }
          },
          "ternary": {
           "aaxis": {
            "gridcolor": "white",
            "linecolor": "white",
            "ticks": ""
           },
           "baxis": {
            "gridcolor": "white",
            "linecolor": "white",
            "ticks": ""
           },
           "bgcolor": "#E5ECF6",
           "caxis": {
            "gridcolor": "white",
            "linecolor": "white",
            "ticks": ""
           }
          },
          "title": {
           "x": 0.05
          },
          "xaxis": {
           "automargin": true,
           "gridcolor": "white",
           "linecolor": "white",
           "ticks": "",
           "title": {
            "standoff": 15
           },
           "zerolinecolor": "white",
           "zerolinewidth": 2
          },
          "yaxis": {
           "automargin": true,
           "gridcolor": "white",
           "linecolor": "white",
           "ticks": "",
           "title": {
            "standoff": 15
           },
           "zerolinecolor": "white",
           "zerolinewidth": 2
          }
         }
        },
        "title": {
         "text": "Plot of the covid data combined with the flights"
        },
        "xaxis": {
         "anchor": "y",
         "domain": [
          0,
          1
         ],
         "title": {
          "text": "Period"
         }
        },
        "yaxis": {
         "anchor": "x",
         "domain": [
          0,
          1
         ],
         "title": {
          "text": "Amount in [flights], [pax] or [tons]"
         },
         "type": "log"
        }
       }
      }
     },
     "metadata": {},
     "output_type": "display_data"
    }
   ],
   "source": [
    "for trace in fig3.data:\n",
    "    figtotal2.add_trace(trace)\n",
    "\n",
    "\n",
    "figtotal2.update_layout(\n",
    "    title = {'text': 'Plot of the covid data combined with the flights'},\n",
    "    height = 800,  # Adjust the height to your preference\n",
    "    # showlegend = True\n",
    ")\n",
    "\n",
    "figtotal2.show()"
   ]
  },
  {
   "cell_type": "code",
   "execution_count": null,
   "id": "a8600741",
   "metadata": {},
   "outputs": [],
   "source": []
  },
  {
   "cell_type": "code",
   "execution_count": null,
   "id": "f31b610e",
   "metadata": {},
   "outputs": [],
   "source": []
  }
 ],
 "metadata": {
  "kernelspec": {
   "display_name": "Python 3 (ipykernel)",
   "language": "python",
   "name": "python3"
  },
  "language_info": {
   "codemirror_mode": {
    "name": "ipython",
    "version": 3
   },
   "file_extension": ".py",
   "mimetype": "text/x-python",
   "name": "python",
   "nbconvert_exporter": "python",
   "pygments_lexer": "ipython3",
   "version": "3.9.17"
  }
 },
 "nbformat": 4,
 "nbformat_minor": 5
}
